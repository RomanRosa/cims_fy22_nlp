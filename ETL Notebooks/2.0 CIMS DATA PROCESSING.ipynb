{
 "cells": [
  {
   "cell_type": "markdown",
   "id": "a3fd6a3c",
   "metadata": {},
   "source": [
    "<h1 style=\"color:orange\"> PARTE I </h1>"
   ]
  },
  {
   "cell_type": "code",
   "execution_count": 51,
   "id": "f235e46e",
   "metadata": {},
   "outputs": [
    {
     "data": {
      "text/plain": [
       "'C:\\\\Users\\\\Dell User\\\\OneDrive\\\\Ubuntu 20.04.2.0 Dell\\\\Desktop\\\\Desktop\\\\Porter Novelli MX\\\\PORTER ETL\\\\Código'"
      ]
     },
     "execution_count": 51,
     "metadata": {},
     "output_type": "execute_result"
    }
   ],
   "source": [
    "%pwd"
   ]
  },
  {
   "cell_type": "code",
   "execution_count": 52,
   "id": "14359734",
   "metadata": {},
   "outputs": [],
   "source": [
    "import pandas as pd"
   ]
  },
  {
   "cell_type": "markdown",
   "id": "3426b598",
   "metadata": {},
   "source": [
    "## EXTRACCIÓN E INTEGRACIÓN"
   ]
  },
  {
   "cell_type": "markdown",
   "id": "a6e5f042",
   "metadata": {},
   "source": [
    "### FUNCIONES"
   ]
  },
  {
   "cell_type": "code",
   "execution_count": 53,
   "id": "c331d168",
   "metadata": {
    "ExecuteTime": {
     "end_time": "2021-07-02T16:10:24.986081Z",
     "start_time": "2021-07-02T16:10:24.976066Z"
    }
   },
   "outputs": [],
   "source": [
    "# Función utilizada para extraer el link original de la nota\n",
    "def link (url, verify = False):\n",
    "    try:\n",
    "        for l in zip(cims_fy21_1['Url']):\n",
    "            print(requests.get(url, verify = False).url)\n",
    "            return requests.get(url, verify = False).url\n",
    "    except:\n",
    "            pass"
   ]
  },
  {
   "cell_type": "markdown",
   "id": "cd8696ef",
   "metadata": {},
   "source": [
    "### LEER ARCHIVOS A UTILIZAR"
   ]
  },
  {
   "cell_type": "code",
   "execution_count": 54,
   "id": "db5fca9b",
   "metadata": {},
   "outputs": [
    {
     "data": {
      "text/html": [
       "<div>\n",
       "<style scoped>\n",
       "    .dataframe tbody tr th:only-of-type {\n",
       "        vertical-align: middle;\n",
       "    }\n",
       "\n",
       "    .dataframe tbody tr th {\n",
       "        vertical-align: top;\n",
       "    }\n",
       "\n",
       "    .dataframe thead th {\n",
       "        text-align: right;\n",
       "    }\n",
       "</style>\n",
       "<table border=\"1\" class=\"dataframe\">\n",
       "  <thead>\n",
       "    <tr style=\"text-align: right;\">\n",
       "      <th></th>\n",
       "      <th>COMPETIDORES</th>\n",
       "      <th>Microsoft_Products</th>\n",
       "      <th>Google_Products</th>\n",
       "      <th>Amazon_Products</th>\n",
       "      <th>Apple_Products</th>\n",
       "      <th>Facebook_Products</th>\n",
       "      <th>IBM_Products</th>\n",
       "      <th>Zoom_Products</th>\n",
       "      <th>Business Context</th>\n",
       "      <th>Digital Transformation</th>\n",
       "      <th>Customer Enablement</th>\n",
       "      <th>Digital Sovereignty</th>\n",
       "      <th>Education</th>\n",
       "      <th>Innovation</th>\n",
       "      <th>All Technology</th>\n",
       "      <th>AI</th>\n",
       "      <th>AR &amp; VR &amp; MR</th>\n",
       "      <th>Blockchain</th>\n",
       "      <th>Autonomous</th>\n",
       "      <th>Cloud</th>\n",
       "      <th>Data</th>\n",
       "      <th>IOT</th>\n",
       "      <th>Open Source</th>\n",
       "      <th>Browser</th>\n",
       "      <th>Quantum</th>\n",
       "      <th>AppsInfra-Data-AI-Cloud</th>\n",
       "      <th>Gaming</th>\n",
       "      <th>Modern Life</th>\n",
       "      <th>Modern Workplace</th>\n",
       "      <th>Security</th>\n",
       "      <th>Enterprise Management</th>\n",
       "      <th>All TRUST</th>\n",
       "      <th>Business Model</th>\n",
       "      <th>Ethics</th>\n",
       "      <th>Legal</th>\n",
       "      <th>Privacy</th>\n",
       "      <th>Reliability</th>\n",
       "      <th>Security.1</th>\n",
       "      <th>Economic Recovery (WIP)</th>\n",
       "      <th>For Good</th>\n",
       "      <th>Diversity</th>\n",
       "      <th>Sustainability</th>\n",
       "      <th>Workplace</th>\n",
       "      <th>TAG Eliminar</th>\n",
       "      <th>TAG Government</th>\n",
       "      <th>TAG Health</th>\n",
       "      <th>TAG Ciclos</th>\n",
       "      <th>TAG Local</th>\n",
       "      <th>TAG SMBs</th>\n",
       "      <th>TAG Customer Name</th>\n",
       "      <th>TAG Remote Work</th>\n",
       "      <th>TAG Agriculture</th>\n",
       "      <th>TAG COVID</th>\n",
       "      <th>TAG Negative</th>\n",
       "    </tr>\n",
       "  </thead>\n",
       "  <tbody>\n",
       "    <tr>\n",
       "      <th>0</th>\n",
       "      <td>Microsoft</td>\n",
       "      <td>343i</td>\n",
       "      <td>Android</td>\n",
       "      <td>Alexa</td>\n",
       "      <td>Airpods</td>\n",
       "      <td>AR Studio</td>\n",
       "      <td>Advanced threat analytics</td>\n",
       "      <td>Zoom</td>\n",
       "      <td>enterprise</td>\n",
       "      <td>activo digital</td>\n",
       "      <td>accelerate</td>\n",
       "      <td>acceso a datos</td>\n",
       "      <td>computer based learning</td>\n",
       "      <td>amazing tech</td>\n",
       "      <td>AI</td>\n",
       "      <td>active learning</td>\n",
       "      <td>Augemented Reality</td>\n",
       "      <td>BaaS</td>\n",
       "      <td>ADAS</td>\n",
       "      <td>AWS</td>\n",
       "      <td>almacenamiento de datos</td>\n",
       "      <td>MIOT</td>\n",
       "      <td>.net core</td>\n",
       "      <td>Chrome</td>\n",
       "      <td>1QBit</td>\n",
       "      <td>Autonomous Systems</td>\n",
       "      <td>Games</td>\n",
       "      <td>Advertising</td>\n",
       "      <td>Productivity</td>\n",
       "      <td>Access Transparency</td>\n",
       "      <td>Windows Virtual Desktop</td>\n",
       "      <td>Business Model</td>\n",
       "      <td>Dados do cliente</td>\n",
       "      <td>apropriação indébita de fundos</td>\n",
       "      <td>administración de cumplimiento</td>\n",
       "      <td>administración de datos</td>\n",
       "      <td>blue screen</td>\n",
       "      <td>adware</td>\n",
       "      <td>Capacidades</td>\n",
       "      <td>ação humanitária</td>\n",
       "      <td>Black lives matter</td>\n",
       "      <td>biodiversidad</td>\n",
       "      <td>#MeToo</td>\n",
       "      <td>Emma Watson</td>\n",
       "      <td>GDPR</td>\n",
       "      <td>Health</td>\n",
       "      <td>Tik Tok</td>\n",
       "      <td>Aguascalientes</td>\n",
       "      <td>empreendedor</td>\n",
       "      <td>Corte Superior de Justicia de Junín</td>\n",
       "      <td>#QuedateEnCasa</td>\n",
       "      <td>agricultura</td>\n",
       "      <td>COVID-19</td>\n",
       "      <td>afectación</td>\n",
       "    </tr>\n",
       "    <tr>\n",
       "      <th>1</th>\n",
       "      <td>Google</td>\n",
       "      <td>Access</td>\n",
       "      <td>Android 10</td>\n",
       "      <td>Alexa at Work</td>\n",
       "      <td>AirPods Pro</td>\n",
       "      <td>CatchUp</td>\n",
       "      <td>Agile 3</td>\n",
       "      <td>Zoom for Home</td>\n",
       "      <td>business</td>\n",
       "      <td>ativo digital</td>\n",
       "      <td>accelerating</td>\n",
       "      <td>acesso de dados</td>\n",
       "      <td>computer based training</td>\n",
       "      <td>avant garde</td>\n",
       "      <td>AR &amp; VR &amp; MR</td>\n",
       "      <td>AI</td>\n",
       "      <td>Realidad aumentada</td>\n",
       "      <td>bitcoin</td>\n",
       "      <td>AI automation</td>\n",
       "      <td>Azure</td>\n",
       "      <td>Análise de dados</td>\n",
       "      <td>internet das coisas</td>\n",
       "      <td>3scale api management</td>\n",
       "      <td>Chromium</td>\n",
       "      <td>algoritmos cuánticos</td>\n",
       "      <td>AirSim</td>\n",
       "      <td>Age of Empires</td>\n",
       "      <td>Bing Ads</td>\n",
       "      <td>Access</td>\n",
       "      <td>AccountGuard</td>\n",
       "      <td>Desktop Analytics</td>\n",
       "      <td>Ethics</td>\n",
       "      <td>Datos del cliente</td>\n",
       "      <td>Bribery</td>\n",
       "      <td>Antimonopolio</td>\n",
       "      <td>anonimato</td>\n",
       "      <td>caída</td>\n",
       "      <td>ameaças</td>\n",
       "      <td>Capacitación</td>\n",
       "      <td>acción humanitaria</td>\n",
       "      <td>Desigualdad</td>\n",
       "      <td>biodiversidade</td>\n",
       "      <td>accesibiidad</td>\n",
       "      <td>Scarlett Johansson</td>\n",
       "      <td>Regulation</td>\n",
       "      <td>Hospital</td>\n",
       "      <td>Fligth Simulator</td>\n",
       "      <td>Arequipa</td>\n",
       "      <td>emprendedor</td>\n",
       "      <td>CSJJ</td>\n",
       "      <td>chamadas virtuais</td>\n",
       "      <td>agroindustria</td>\n",
       "      <td>coronavirus</td>\n",
       "      <td>afectadas</td>\n",
       "    </tr>\n",
       "    <tr>\n",
       "      <th>2</th>\n",
       "      <td>Amazon</td>\n",
       "      <td>AccountGuard</td>\n",
       "      <td>Android 11</td>\n",
       "      <td>Alexa for Business</td>\n",
       "      <td>Apple AI chip</td>\n",
       "      <td>DeepText</td>\n",
       "      <td>Asset Management​</td>\n",
       "      <td>Zoom Video</td>\n",
       "      <td>company</td>\n",
       "      <td>automação</td>\n",
       "      <td>acelerando</td>\n",
       "      <td>acordos bilaterais</td>\n",
       "      <td>computer-based learning</td>\n",
       "      <td>breaking new ground</td>\n",
       "      <td>Blockchain</td>\n",
       "      <td>algorithm</td>\n",
       "      <td>realidade aumentada</td>\n",
       "      <td>block</td>\n",
       "      <td>AI Robotics</td>\n",
       "      <td>CaaS</td>\n",
       "      <td>Análisis de datos</td>\n",
       "      <td>internet de las cosas</td>\n",
       "      <td>ai openscale</td>\n",
       "      <td>Duck duck go</td>\n",
       "      <td>algoritmos quânticos</td>\n",
       "      <td>Project Bonsai</td>\n",
       "      <td>Age of Empires 3</td>\n",
       "      <td>Bing Advertising</td>\n",
       "      <td>Adaptive Card (for Outlook)</td>\n",
       "      <td>Advanced Threat Analytics</td>\n",
       "      <td>Desktop App Assure</td>\n",
       "      <td>Legal</td>\n",
       "      <td>IP Protection</td>\n",
       "      <td>competencia justa</td>\n",
       "      <td>antimonopolista</td>\n",
       "      <td>anonimización</td>\n",
       "      <td>caida de servicio</td>\n",
       "      <td>amenazas</td>\n",
       "      <td>capacitaciones</td>\n",
       "      <td>AI and Accessibility</td>\n",
       "      <td>Desigualdade</td>\n",
       "      <td>Biodiversity</td>\n",
       "      <td>Accessible Workplace</td>\n",
       "      <td>The Office</td>\n",
       "      <td>Taxes</td>\n",
       "      <td>salud</td>\n",
       "      <td>Productivity Score</td>\n",
       "      <td>Argentina</td>\n",
       "      <td>emprendedores</td>\n",
       "      <td>Corte Suprema</td>\n",
       "      <td>Conferencias digitais</td>\n",
       "      <td>agroindústria</td>\n",
       "      <td>COVID</td>\n",
       "      <td>afectados</td>\n",
       "    </tr>\n",
       "    <tr>\n",
       "      <th>3</th>\n",
       "      <td>Apple</td>\n",
       "      <td>Adaptive Card (for Outlook)</td>\n",
       "      <td>Android Enterprise</td>\n",
       "      <td>Amazon Advertising</td>\n",
       "      <td>Apple and AR Glasses</td>\n",
       "      <td>Facebook Advertising</td>\n",
       "      <td>Big Insights Big Integrate</td>\n",
       "      <td>Zoom Video Communications</td>\n",
       "      <td>recruit</td>\n",
       "      <td>automação de tarefas</td>\n",
       "      <td>acelerar</td>\n",
       "      <td>acuerdos bilaterales</td>\n",
       "      <td>computer-based training</td>\n",
       "      <td>breakthrough</td>\n",
       "      <td>Autonomous</td>\n",
       "      <td>análise de dados</td>\n",
       "      <td>Virtual Reality</td>\n",
       "      <td>Blockchain</td>\n",
       "      <td>aprendizado de máquina</td>\n",
       "      <td>cloud</td>\n",
       "      <td>analítica de datos</td>\n",
       "      <td>internet of things</td>\n",
       "      <td>aicr</td>\n",
       "      <td>Edge</td>\n",
       "      <td>Azure Quantum</td>\n",
       "      <td>Project Moab</td>\n",
       "      <td>Age of Empires 4</td>\n",
       "      <td>Bing Audience Segmentation</td>\n",
       "      <td>Bing WORK (page)</td>\n",
       "      <td>Agile 3</td>\n",
       "      <td>Microsoft Managed Desktop</td>\n",
       "      <td>Privacy</td>\n",
       "      <td>Negocio confiable</td>\n",
       "      <td>competição justa</td>\n",
       "      <td>Anti-Trust</td>\n",
       "      <td>anonymization</td>\n",
       "      <td>caída de servicio</td>\n",
       "      <td>análise de segurança</td>\n",
       "      <td>capacitações</td>\n",
       "      <td>AI and Cultural Heritage</td>\n",
       "      <td>Discriminação</td>\n",
       "      <td>camada de carbono</td>\n",
       "      <td>Acesso</td>\n",
       "      <td>Netflix</td>\n",
       "      <td>Antimonopolio</td>\n",
       "      <td>saude</td>\n",
       "      <td>Twitter</td>\n",
       "      <td>argentino</td>\n",
       "      <td>Empresas de Pequeno Porte</td>\n",
       "      <td>Foro de Periodismo Argentino</td>\n",
       "      <td>Conferencias digitales</td>\n",
       "      <td>Agronegocio</td>\n",
       "      <td>pandemia</td>\n",
       "      <td>afetada</td>\n",
       "    </tr>\n",
       "    <tr>\n",
       "      <th>4</th>\n",
       "      <td>Facebook</td>\n",
       "      <td>Advanced Threat Analytics</td>\n",
       "      <td>Android Go</td>\n",
       "      <td>Amazon Athena</td>\n",
       "      <td>Apple Arcade</td>\n",
       "      <td>Facebook AI backbone</td>\n",
       "      <td>BigInsightsBigQuality</td>\n",
       "      <td>NaN</td>\n",
       "      <td>conference</td>\n",
       "      <td>Automate</td>\n",
       "      <td>actualizar</td>\n",
       "      <td>autonomia digital</td>\n",
       "      <td>data literacy</td>\n",
       "      <td>changing the world</td>\n",
       "      <td>Cloud</td>\n",
       "      <td>análise de texto</td>\n",
       "      <td>realidad virtual</td>\n",
       "      <td>Blockchain as Service</td>\n",
       "      <td>aprendizaje de máquina</td>\n",
       "      <td>Cloud apps</td>\n",
       "      <td>armazenamento de dados</td>\n",
       "      <td>Internet of Things</td>\n",
       "      <td>ai-mergency control room</td>\n",
       "      <td>Firefox</td>\n",
       "      <td>cloud</td>\n",
       "      <td>Amazon Robotics</td>\n",
       "      <td>Battletoads</td>\n",
       "      <td>Bing Hotel Ads</td>\n",
       "      <td>Bookings App (teams)</td>\n",
       "      <td>Amazon CloudWatch</td>\n",
       "      <td>Windows Autopilot</td>\n",
       "      <td>Reliability</td>\n",
       "      <td>proteção de IP</td>\n",
       "      <td>conducta empresarial responsable</td>\n",
       "      <td>Antitruste</td>\n",
       "      <td>biometria</td>\n",
       "      <td>calidad del producto</td>\n",
       "      <td>análisis de seguridad</td>\n",
       "      <td>comunidades tecnológicas</td>\n",
       "      <td>AI and Earth</td>\n",
       "      <td>Discriminação Racial</td>\n",
       "      <td>capa de ozono</td>\n",
       "      <td>acoso</td>\n",
       "      <td>WandaVision</td>\n",
       "      <td>Regulación</td>\n",
       "      <td>doenças</td>\n",
       "      <td>Trump</td>\n",
       "      <td>Asunción</td>\n",
       "      <td>entrepreneur</td>\n",
       "      <td>Fopea</td>\n",
       "      <td>Conferencias online</td>\n",
       "      <td>Agronegócio</td>\n",
       "      <td>confinamiento</td>\n",
       "      <td>afetado</td>\n",
       "    </tr>\n",
       "  </tbody>\n",
       "</table>\n",
       "</div>"
      ],
      "text/plain": [
       "  COMPETIDORES           Microsoft_Products     Google_Products  \\\n",
       "0    Microsoft                         343i             Android   \n",
       "1       Google                       Access          Android 10   \n",
       "2       Amazon                 AccountGuard          Android 11   \n",
       "3        Apple  Adaptive Card (for Outlook)  Android Enterprise   \n",
       "4     Facebook    Advanced Threat Analytics          Android Go   \n",
       "\n",
       "      Amazon_Products        Apple_Products     Facebook_Products  \\\n",
       "0               Alexa               Airpods             AR Studio   \n",
       "1       Alexa at Work           AirPods Pro               CatchUp   \n",
       "2  Alexa for Business         Apple AI chip              DeepText   \n",
       "3  Amazon Advertising  Apple and AR Glasses  Facebook Advertising   \n",
       "4       Amazon Athena          Apple Arcade  Facebook AI backbone   \n",
       "\n",
       "                 IBM_Products              Zoom_Products Business Context  \\\n",
       "0   Advanced threat analytics                       Zoom       enterprise   \n",
       "1                     Agile 3              Zoom for Home         business   \n",
       "2           Asset Management​                 Zoom Video          company   \n",
       "3  Big Insights Big Integrate  Zoom Video Communications          recruit   \n",
       "4       BigInsightsBigQuality                        NaN       conference   \n",
       "\n",
       "  Digital Transformation Customer Enablement   Digital Sovereignty  \\\n",
       "0         activo digital          accelerate        acceso a datos   \n",
       "1          ativo digital        accelerating       acesso de dados   \n",
       "2              automação          acelerando    acordos bilaterais   \n",
       "3   automação de tarefas            acelerar  acuerdos bilaterales   \n",
       "4               Automate          actualizar     autonomia digital   \n",
       "\n",
       "                 Education           Innovation All Technology  \\\n",
       "0  computer based learning         amazing tech             AI   \n",
       "1  computer based training          avant garde   AR & VR & MR   \n",
       "2  computer-based learning  breaking new ground     Blockchain   \n",
       "3  computer-based training         breakthrough     Autonomous   \n",
       "4            data literacy   changing the world          Cloud   \n",
       "\n",
       "                 AI         AR & VR & MR             Blockchain  \\\n",
       "0   active learning   Augemented Reality                   BaaS   \n",
       "1                AI   Realidad aumentada                bitcoin   \n",
       "2         algorithm  realidade aumentada                  block   \n",
       "3  análise de dados      Virtual Reality             Blockchain   \n",
       "4  análise de texto     realidad virtual  Blockchain as Service   \n",
       "\n",
       "               Autonomous       Cloud                     Data  \\\n",
       "0                    ADAS         AWS  almacenamiento de datos   \n",
       "1           AI automation       Azure         Análise de dados   \n",
       "2             AI Robotics        CaaS        Análisis de datos   \n",
       "3  aprendizado de máquina       cloud       analítica de datos   \n",
       "4  aprendizaje de máquina  Cloud apps   armazenamento de dados   \n",
       "\n",
       "                     IOT               Open Source       Browser  \\\n",
       "0                   MIOT                 .net core        Chrome   \n",
       "1    internet das coisas     3scale api management      Chromium   \n",
       "2  internet de las cosas              ai openscale  Duck duck go   \n",
       "3     internet of things                      aicr          Edge   \n",
       "4     Internet of Things  ai-mergency control room       Firefox   \n",
       "\n",
       "                Quantum AppsInfra-Data-AI-Cloud            Gaming  \\\n",
       "0                 1QBit      Autonomous Systems             Games   \n",
       "1  algoritmos cuánticos                  AirSim    Age of Empires   \n",
       "2  algoritmos quânticos          Project Bonsai  Age of Empires 3   \n",
       "3         Azure Quantum            Project Moab  Age of Empires 4   \n",
       "4                 cloud         Amazon Robotics       Battletoads   \n",
       "\n",
       "                  Modern Life             Modern Workplace  \\\n",
       "0                 Advertising                 Productivity   \n",
       "1                    Bing Ads                       Access   \n",
       "2            Bing Advertising  Adaptive Card (for Outlook)   \n",
       "3  Bing Audience Segmentation             Bing WORK (page)   \n",
       "4              Bing Hotel Ads         Bookings App (teams)   \n",
       "\n",
       "                    Security      Enterprise Management       All TRUST  \\\n",
       "0        Access Transparency    Windows Virtual Desktop  Business Model   \n",
       "1               AccountGuard          Desktop Analytics          Ethics   \n",
       "2  Advanced Threat Analytics         Desktop App Assure           Legal   \n",
       "3                    Agile 3  Microsoft Managed Desktop         Privacy   \n",
       "4          Amazon CloudWatch          Windows Autopilot     Reliability   \n",
       "\n",
       "      Business Model                            Ethics  \\\n",
       "0   Dados do cliente    apropriação indébita de fundos   \n",
       "1  Datos del cliente                           Bribery   \n",
       "2      IP Protection                 competencia justa   \n",
       "3  Negocio confiable                  competição justa   \n",
       "4     proteção de IP  conducta empresarial responsable   \n",
       "\n",
       "                            Legal                  Privacy  \\\n",
       "0  administración de cumplimiento  administración de datos   \n",
       "1                   Antimonopolio                anonimato   \n",
       "2                 antimonopolista            anonimización   \n",
       "3                      Anti-Trust            anonymization   \n",
       "4                      Antitruste                biometria   \n",
       "\n",
       "            Reliability             Security.1   Economic Recovery (WIP)  \\\n",
       "0           blue screen                 adware               Capacidades   \n",
       "1                 caída                ameaças              Capacitación   \n",
       "2     caida de servicio               amenazas            capacitaciones   \n",
       "3     caída de servicio   análise de segurança              capacitações   \n",
       "4  calidad del producto  análisis de seguridad  comunidades tecnológicas   \n",
       "\n",
       "                   For Good             Diversity     Sustainability  \\\n",
       "0          ação humanitária    Black lives matter      biodiversidad   \n",
       "1        acción humanitaria           Desigualdad     biodiversidade   \n",
       "2      AI and Accessibility          Desigualdade       Biodiversity   \n",
       "3  AI and Cultural Heritage         Discriminação  camada de carbono   \n",
       "4              AI and Earth  Discriminação Racial      capa de ozono   \n",
       "\n",
       "              Workplace        TAG Eliminar TAG Government TAG Health  \\\n",
       "0                #MeToo         Emma Watson           GDPR     Health   \n",
       "1          accesibiidad  Scarlett Johansson     Regulation   Hospital   \n",
       "2  Accessible Workplace          The Office          Taxes      salud   \n",
       "3                Acesso             Netflix  Antimonopolio      saude   \n",
       "4                 acoso         WandaVision     Regulación    doenças   \n",
       "\n",
       "           TAG Ciclos       TAG Local                   TAG SMBs  \\\n",
       "0             Tik Tok  Aguascalientes               empreendedor   \n",
       "1    Fligth Simulator        Arequipa                emprendedor   \n",
       "2  Productivity Score       Argentina              emprendedores   \n",
       "3             Twitter       argentino  Empresas de Pequeno Porte   \n",
       "4               Trump        Asunción               entrepreneur   \n",
       "\n",
       "                     TAG Customer Name         TAG Remote Work  \\\n",
       "0  Corte Superior de Justicia de Junín          #QuedateEnCasa   \n",
       "1                                 CSJJ       chamadas virtuais   \n",
       "2                        Corte Suprema   Conferencias digitais   \n",
       "3         Foro de Periodismo Argentino  Conferencias digitales   \n",
       "4                                Fopea     Conferencias online   \n",
       "\n",
       "  TAG Agriculture      TAG COVID TAG Negative  \n",
       "0     agricultura       COVID-19   afectación  \n",
       "1   agroindustria    coronavirus    afectadas  \n",
       "2   agroindústria          COVID    afectados  \n",
       "3     Agronegocio       pandemia      afetada  \n",
       "4     Agronegócio  confinamiento      afetado  "
      ]
     },
     "execution_count": 54,
     "metadata": {},
     "output_type": "execute_result"
    }
   ],
   "source": [
    "# Read Keywords File - FY21 main themes & topics\n",
    "\n",
    "keywords= pd.read_excel(r'C:\\Users\\Dell User\\OneDrive\\Ubuntu 20.04.2.0 Dell\\Desktop\\Desktop\\Porter Novelli MX\\PORTER ETL\\Código\\FY21_Main Themes_Keywords_r1_updated_may31.xlsx')\n",
    "keywords.head(5)"
   ]
  },
  {
   "cell_type": "code",
   "execution_count": 55,
   "id": "c357349a",
   "metadata": {},
   "outputs": [
    {
     "data": {
      "text/html": [
       "<div>\n",
       "<style scoped>\n",
       "    .dataframe tbody tr th:only-of-type {\n",
       "        vertical-align: middle;\n",
       "    }\n",
       "\n",
       "    .dataframe tbody tr th {\n",
       "        vertical-align: top;\n",
       "    }\n",
       "\n",
       "    .dataframe thead th {\n",
       "        text-align: right;\n",
       "    }\n",
       "</style>\n",
       "<table border=\"1\" class=\"dataframe\">\n",
       "  <thead>\n",
       "    <tr style=\"text-align: right;\">\n",
       "      <th></th>\n",
       "      <th>Publication</th>\n",
       "      <th>Host</th>\n",
       "      <th>Tier</th>\n",
       "      <th>Media Type</th>\n",
       "      <th>clean_link_site</th>\n",
       "      <th>MediaList</th>\n",
       "      <th>CIMS</th>\n",
       "    </tr>\n",
       "  </thead>\n",
       "  <tbody>\n",
       "    <tr>\n",
       "      <th>0</th>\n",
       "      <td>NaN</td>\n",
       "      <td>5 Días</td>\n",
       "      <td>2</td>\n",
       "      <td>General News</td>\n",
       "      <td>www.5dias.com.py</td>\n",
       "      <td>Yes</td>\n",
       "      <td>NaN</td>\n",
       "    </tr>\n",
       "    <tr>\n",
       "      <th>1</th>\n",
       "      <td>NaN</td>\n",
       "      <td>ABC Color</td>\n",
       "      <td>1</td>\n",
       "      <td>General News</td>\n",
       "      <td>www.abc.com.py</td>\n",
       "      <td>Yes</td>\n",
       "      <td>NaN</td>\n",
       "    </tr>\n",
       "    <tr>\n",
       "      <th>2</th>\n",
       "      <td>NaN</td>\n",
       "      <td>ACIS</td>\n",
       "      <td>2</td>\n",
       "      <td>Technology</td>\n",
       "      <td>acis.org.co</td>\n",
       "      <td>Yes</td>\n",
       "      <td>NaN</td>\n",
       "    </tr>\n",
       "    <tr>\n",
       "      <th>3</th>\n",
       "      <td>NaN</td>\n",
       "      <td>ADN</td>\n",
       "      <td>1</td>\n",
       "      <td>General News</td>\n",
       "      <td>www.diarioadn.co</td>\n",
       "      <td>Yes</td>\n",
       "      <td>NaN</td>\n",
       "    </tr>\n",
       "    <tr>\n",
       "      <th>4</th>\n",
       "      <td>NaN</td>\n",
       "      <td>Adrenaline</td>\n",
       "      <td>2</td>\n",
       "      <td>Technology</td>\n",
       "      <td>www.adrenaline.com.br</td>\n",
       "      <td>Yes</td>\n",
       "      <td>NaN</td>\n",
       "    </tr>\n",
       "    <tr>\n",
       "      <th>5</th>\n",
       "      <td>NaN</td>\n",
       "      <td>Alto Nivel</td>\n",
       "      <td>1</td>\n",
       "      <td>General News</td>\n",
       "      <td>www.altonivel.com.mx</td>\n",
       "      <td>Yes</td>\n",
       "      <td>CIMS</td>\n",
       "    </tr>\n",
       "    <tr>\n",
       "      <th>6</th>\n",
       "      <td>NaN</td>\n",
       "      <td>Ambito</td>\n",
       "      <td>1</td>\n",
       "      <td>General News</td>\n",
       "      <td>www.ambito.com</td>\n",
       "      <td>Yes</td>\n",
       "      <td>CIMS</td>\n",
       "    </tr>\n",
       "    <tr>\n",
       "      <th>7</th>\n",
       "      <td>NaN</td>\n",
       "      <td>América Economía</td>\n",
       "      <td>1</td>\n",
       "      <td>Business</td>\n",
       "      <td>www.americaeconomia.com</td>\n",
       "      <td>Yes</td>\n",
       "      <td>CIMS</td>\n",
       "    </tr>\n",
       "    <tr>\n",
       "      <th>8</th>\n",
       "      <td>NaN</td>\n",
       "      <td>Apertura</td>\n",
       "      <td>2</td>\n",
       "      <td>Business</td>\n",
       "      <td>www.apertura.com</td>\n",
       "      <td>Yes</td>\n",
       "      <td>NaN</td>\n",
       "    </tr>\n",
       "    <tr>\n",
       "      <th>9</th>\n",
       "      <td>NaN</td>\n",
       "      <td>Baguete</td>\n",
       "      <td>2</td>\n",
       "      <td>Business</td>\n",
       "      <td>www.baguete.com.br</td>\n",
       "      <td>Yes</td>\n",
       "      <td>NaN</td>\n",
       "    </tr>\n",
       "  </tbody>\n",
       "</table>\n",
       "</div>"
      ],
      "text/plain": [
       "   Publication              Host  Tier    Media Type          clean_link_site  \\\n",
       "0          NaN            5 Días     2  General News         www.5dias.com.py   \n",
       "1          NaN         ABC Color     1  General News           www.abc.com.py   \n",
       "2          NaN              ACIS     2    Technology              acis.org.co   \n",
       "3          NaN               ADN     1  General News         www.diarioadn.co   \n",
       "4          NaN        Adrenaline     2    Technology    www.adrenaline.com.br   \n",
       "5          NaN        Alto Nivel     1  General News     www.altonivel.com.mx   \n",
       "6          NaN            Ambito     1  General News           www.ambito.com   \n",
       "7          NaN  América Economía     1      Business  www.americaeconomia.com   \n",
       "8          NaN          Apertura     2      Business         www.apertura.com   \n",
       "9          NaN           Baguete     2      Business       www.baguete.com.br   \n",
       "\n",
       "  MediaList  CIMS  \n",
       "0       Yes   NaN  \n",
       "1       Yes   NaN  \n",
       "2       Yes   NaN  \n",
       "3       Yes   NaN  \n",
       "4       Yes   NaN  \n",
       "5       Yes  CIMS  \n",
       "6       Yes  CIMS  \n",
       "7       Yes  CIMS  \n",
       "8       Yes   NaN  \n",
       "9       Yes   NaN  "
      ]
     },
     "execution_count": 55,
     "metadata": {},
     "output_type": "execute_result"
    }
   ],
   "source": [
    "# Read FY21 MediaList File - Master\n",
    "\n",
    "medialist=pd.read_excel(r'C:\\Users\\Dell User\\OneDrive\\Ubuntu 20.04.2.0 Dell\\Desktop\\Desktop\\Porter Novelli MX\\PORTER ETL\\Código\\FY21 Media List_Ajustada_CIMS_updated_may31_master2.xlsx')\n",
    "\n",
    "medialist.fillna('No Data')\n",
    "\n",
    "medialist['MediaList']='Yes'\n",
    "\n",
    "medialist['clean_link_site']=medialist['Link/Site'].apply(lambda row : str(row).replace('http://','').replace('https://','').replace('/',''))\n",
    "\n",
    "medialist=medialist[['Publication','Host','Tier', 'Media Type','clean_link_site', 'MediaList','CIMS']]\n",
    "medialist.head(10)"
   ]
  },
  {
   "cell_type": "code",
   "execution_count": 56,
   "id": "02c83cfe",
   "metadata": {},
   "outputs": [
    {
     "name": "stderr",
     "output_type": "stream",
     "text": [
      "C:\\Users\\Dell User\\anaconda3\\envs\\proyectos\\lib\\site-packages\\openpyxl\\worksheet\\_reader.py:312: UserWarning: Data Validation extension is not supported and will be removed\n",
      "  warn(msg)\n"
     ]
    },
    {
     "data": {
      "text/html": [
       "<div>\n",
       "<style scoped>\n",
       "    .dataframe tbody tr th:only-of-type {\n",
       "        vertical-align: middle;\n",
       "    }\n",
       "\n",
       "    .dataframe tbody tr th {\n",
       "        vertical-align: top;\n",
       "    }\n",
       "\n",
       "    .dataframe thead th {\n",
       "        text-align: right;\n",
       "    }\n",
       "</style>\n",
       "<table border=\"1\" class=\"dataframe\">\n",
       "  <thead>\n",
       "    <tr style=\"text-align: right;\">\n",
       "      <th></th>\n",
       "      <th>Publication</th>\n",
       "      <th>Host</th>\n",
       "      <th>Tier</th>\n",
       "      <th>Media Type</th>\n",
       "      <th>clean_link_site</th>\n",
       "      <th>MediaList</th>\n",
       "      <th>CIMS</th>\n",
       "    </tr>\n",
       "  </thead>\n",
       "  <tbody>\n",
       "    <tr>\n",
       "      <th>0</th>\n",
       "      <td>NaN</td>\n",
       "      <td>Infobae (Online)</td>\n",
       "      <td>2</td>\n",
       "      <td>General News</td>\n",
       "      <td>www.infobae.comamerica</td>\n",
       "      <td>Yes</td>\n",
       "      <td>CIMS</td>\n",
       "    </tr>\n",
       "    <tr>\n",
       "      <th>1</th>\n",
       "      <td>NaN</td>\n",
       "      <td>La Nación</td>\n",
       "      <td>1</td>\n",
       "      <td>General News</td>\n",
       "      <td>www.lanacion.com.ar</td>\n",
       "      <td>Yes</td>\n",
       "      <td>CIMS</td>\n",
       "    </tr>\n",
       "    <tr>\n",
       "      <th>2</th>\n",
       "      <td>NaN</td>\n",
       "      <td>Ámbito Financiero</td>\n",
       "      <td>1</td>\n",
       "      <td>General News</td>\n",
       "      <td>www.ambito.com</td>\n",
       "      <td>Yes</td>\n",
       "      <td>CIMS</td>\n",
       "    </tr>\n",
       "    <tr>\n",
       "      <th>3</th>\n",
       "      <td>NaN</td>\n",
       "      <td>Clarín</td>\n",
       "      <td>1</td>\n",
       "      <td>General News</td>\n",
       "      <td>www.clarin.com</td>\n",
       "      <td>Yes</td>\n",
       "      <td>CIMS</td>\n",
       "    </tr>\n",
       "    <tr>\n",
       "      <th>4</th>\n",
       "      <td>NaN</td>\n",
       "      <td>La Nación (Online)</td>\n",
       "      <td>1</td>\n",
       "      <td>General News</td>\n",
       "      <td>www.lanacion.com.ar</td>\n",
       "      <td>Yes</td>\n",
       "      <td>CIMS</td>\n",
       "    </tr>\n",
       "    <tr>\n",
       "      <th>5</th>\n",
       "      <td>NaN</td>\n",
       "      <td>El Cronista</td>\n",
       "      <td>1</td>\n",
       "      <td>General News</td>\n",
       "      <td>www.cronista.com</td>\n",
       "      <td>Yes</td>\n",
       "      <td>CIMS</td>\n",
       "    </tr>\n",
       "    <tr>\n",
       "      <th>6</th>\n",
       "      <td>NaN</td>\n",
       "      <td>Télam (Agencia) (Online)</td>\n",
       "      <td>1</td>\n",
       "      <td>General News</td>\n",
       "      <td>www.telam.com.ar</td>\n",
       "      <td>Yes</td>\n",
       "      <td>NaN</td>\n",
       "    </tr>\n",
       "    <tr>\n",
       "      <th>7</th>\n",
       "      <td>NaN</td>\n",
       "      <td>La Nación Revista</td>\n",
       "      <td>1</td>\n",
       "      <td>General News</td>\n",
       "      <td>www.lanacion.com.ar</td>\n",
       "      <td>Yes</td>\n",
       "      <td>CIMS</td>\n",
       "    </tr>\n",
       "    <tr>\n",
       "      <th>8</th>\n",
       "      <td>NaN</td>\n",
       "      <td>La Capital [Rosario]</td>\n",
       "      <td>1</td>\n",
       "      <td>General News</td>\n",
       "      <td>www.lacapital.com.ar</td>\n",
       "      <td>Yes</td>\n",
       "      <td>NaN</td>\n",
       "    </tr>\n",
       "    <tr>\n",
       "      <th>9</th>\n",
       "      <td>NaN</td>\n",
       "      <td>La Voz del Interior [Córdoba]</td>\n",
       "      <td>1</td>\n",
       "      <td>General News</td>\n",
       "      <td>www.lavoz.com.ar</td>\n",
       "      <td>Yes</td>\n",
       "      <td>NaN</td>\n",
       "    </tr>\n",
       "  </tbody>\n",
       "</table>\n",
       "</div>"
      ],
      "text/plain": [
       "   Publication                           Host  Tier    Media Type  \\\n",
       "0          NaN               Infobae (Online)     2  General News   \n",
       "1          NaN                      La Nación     1  General News   \n",
       "2          NaN              Ámbito Financiero     1  General News   \n",
       "3          NaN                         Clarín     1  General News   \n",
       "4          NaN             La Nación (Online)     1  General News   \n",
       "5          NaN                    El Cronista     1  General News   \n",
       "6          NaN       Télam (Agencia) (Online)     1  General News   \n",
       "7          NaN              La Nación Revista     1  General News   \n",
       "8          NaN           La Capital [Rosario]     1  General News   \n",
       "9          NaN  La Voz del Interior [Córdoba]     1  General News   \n",
       "\n",
       "          clean_link_site MediaList  CIMS  \n",
       "0  www.infobae.comamerica       Yes  CIMS  \n",
       "1     www.lanacion.com.ar       Yes  CIMS  \n",
       "2          www.ambito.com       Yes  CIMS  \n",
       "3          www.clarin.com       Yes  CIMS  \n",
       "4     www.lanacion.com.ar       Yes  CIMS  \n",
       "5        www.cronista.com       Yes  CIMS  \n",
       "6        www.telam.com.ar       Yes   NaN  \n",
       "7     www.lanacion.com.ar       Yes  CIMS  \n",
       "8    www.lacapital.com.ar       Yes   NaN  \n",
       "9        www.lavoz.com.ar       Yes   NaN  "
      ]
     },
     "execution_count": 56,
     "metadata": {},
     "output_type": "execute_result"
    }
   ],
   "source": [
    "# Read FY21 MediaList File - Auxiliar FY21 MediaList\n",
    "\n",
    "auxiliar=pd.read_excel(r'C:\\Users\\Dell User\\OneDrive\\Ubuntu 20.04.2.0 Dell\\Desktop\\Desktop\\Porter Novelli MX\\PORTER ETL\\Código\\MediaList_FY21_Auxiliar.xlsx')\n",
    "\n",
    "auxiliar.fillna('No Data')\n",
    "\n",
    "auxiliar['MediaList']='Yes'\n",
    "\n",
    "auxiliar['clean_link_site']=auxiliar['Link/Site'].apply(lambda row : str(row).replace('http://','').replace('https://','').replace('/',''))\n",
    "\n",
    "auxiliar=auxiliar[['Publication','Host','Tier', 'Media Type','clean_link_site', 'MediaList','CIMS']]\n",
    "auxiliar.head(10)"
   ]
  },
  {
   "cell_type": "code",
   "execution_count": 57,
   "id": "11d73307",
   "metadata": {},
   "outputs": [
    {
     "name": "stdout",
     "output_type": "stream",
     "text": [
      "(162, 8)\n"
     ]
    },
    {
     "data": {
      "text/html": [
       "<div>\n",
       "<style scoped>\n",
       "    .dataframe tbody tr th:only-of-type {\n",
       "        vertical-align: middle;\n",
       "    }\n",
       "\n",
       "    .dataframe tbody tr th {\n",
       "        vertical-align: top;\n",
       "    }\n",
       "\n",
       "    .dataframe thead th {\n",
       "        text-align: right;\n",
       "    }\n",
       "</style>\n",
       "<table border=\"1\" class=\"dataframe\">\n",
       "  <thead>\n",
       "    <tr style=\"text-align: right;\">\n",
       "      <th></th>\n",
       "      <th>Publication</th>\n",
       "      <th>Host</th>\n",
       "      <th>Tier</th>\n",
       "      <th>Media Type</th>\n",
       "      <th>clean_link_site</th>\n",
       "      <th>MediaList</th>\n",
       "      <th>CIMS</th>\n",
       "      <th>Sub</th>\n",
       "    </tr>\n",
       "  </thead>\n",
       "  <tbody>\n",
       "    <tr>\n",
       "      <th>0</th>\n",
       "      <td>NaN</td>\n",
       "      <td>UOL</td>\n",
       "      <td>1.0</td>\n",
       "      <td>General News</td>\n",
       "      <td>www.uol.com.br</td>\n",
       "      <td>Yes</td>\n",
       "      <td>CIMS</td>\n",
       "      <td>Brazil</td>\n",
       "    </tr>\n",
       "    <tr>\n",
       "      <th>1</th>\n",
       "      <td>NaN</td>\n",
       "      <td>Tecnoblog</td>\n",
       "      <td>1.0</td>\n",
       "      <td>Technology</td>\n",
       "      <td>tecnoblog.net</td>\n",
       "      <td>Yes</td>\n",
       "      <td>CIMS</td>\n",
       "      <td>Brazil</td>\n",
       "    </tr>\n",
       "    <tr>\n",
       "      <th>2</th>\n",
       "      <td>NaN</td>\n",
       "      <td>Tecmundo</td>\n",
       "      <td>1.0</td>\n",
       "      <td>Technology</td>\n",
       "      <td>www.tecmundo.com.br</td>\n",
       "      <td>Yes</td>\n",
       "      <td>CIMS</td>\n",
       "      <td>Brazil</td>\n",
       "    </tr>\n",
       "    <tr>\n",
       "      <th>3</th>\n",
       "      <td>NaN</td>\n",
       "      <td>Adrenaline</td>\n",
       "      <td>2.0</td>\n",
       "      <td>Technology</td>\n",
       "      <td>adrenaline.com.br</td>\n",
       "      <td>Yes</td>\n",
       "      <td>CIMS</td>\n",
       "      <td>Brazil</td>\n",
       "    </tr>\n",
       "    <tr>\n",
       "      <th>4</th>\n",
       "      <td>NaN</td>\n",
       "      <td>IGN Brasil</td>\n",
       "      <td>1.0</td>\n",
       "      <td>Technology</td>\n",
       "      <td>br.ign.com</td>\n",
       "      <td>Yes</td>\n",
       "      <td>CIMS</td>\n",
       "      <td>Brazil</td>\n",
       "    </tr>\n",
       "    <tr>\n",
       "      <th>5</th>\n",
       "      <td>NaN</td>\n",
       "      <td>Milenio</td>\n",
       "      <td>1.0</td>\n",
       "      <td>General News</td>\n",
       "      <td>www.milenio.com</td>\n",
       "      <td>Yes</td>\n",
       "      <td>CIMS</td>\n",
       "      <td>Mexico</td>\n",
       "    </tr>\n",
       "    <tr>\n",
       "      <th>6</th>\n",
       "      <td>NaN</td>\n",
       "      <td>Xataka</td>\n",
       "      <td>1.0</td>\n",
       "      <td>Technology</td>\n",
       "      <td>www.xataka.com.mx</td>\n",
       "      <td>Yes</td>\n",
       "      <td>CIMS</td>\n",
       "      <td>Mexico</td>\n",
       "    </tr>\n",
       "    <tr>\n",
       "      <th>7</th>\n",
       "      <td>NaN</td>\n",
       "      <td>Canaltech</td>\n",
       "      <td>1.0</td>\n",
       "      <td>General News</td>\n",
       "      <td>canaltech.com.br</td>\n",
       "      <td>Yes</td>\n",
       "      <td>CIMS</td>\n",
       "      <td>Brazil</td>\n",
       "    </tr>\n",
       "    <tr>\n",
       "      <th>8</th>\n",
       "      <td>NaN</td>\n",
       "      <td>La Tercera</td>\n",
       "      <td>1.0</td>\n",
       "      <td>General News</td>\n",
       "      <td>www.latercera.com</td>\n",
       "      <td>Yes</td>\n",
       "      <td>CIMS</td>\n",
       "      <td>Chile</td>\n",
       "    </tr>\n",
       "    <tr>\n",
       "      <th>9</th>\n",
       "      <td>NaN</td>\n",
       "      <td>Olhar Digital</td>\n",
       "      <td>1.0</td>\n",
       "      <td>Technology</td>\n",
       "      <td>olhardigital.com.br</td>\n",
       "      <td>Yes</td>\n",
       "      <td>CIMS</td>\n",
       "      <td>Brazil</td>\n",
       "    </tr>\n",
       "  </tbody>\n",
       "</table>\n",
       "</div>"
      ],
      "text/plain": [
       "   Publication           Host  Tier    Media Type      clean_link_site  \\\n",
       "0          NaN            UOL   1.0  General News       www.uol.com.br   \n",
       "1          NaN      Tecnoblog   1.0    Technology        tecnoblog.net   \n",
       "2          NaN       Tecmundo   1.0    Technology  www.tecmundo.com.br   \n",
       "3          NaN     Adrenaline   2.0    Technology    adrenaline.com.br   \n",
       "4          NaN     IGN Brasil   1.0    Technology           br.ign.com   \n",
       "5          NaN        Milenio   1.0  General News      www.milenio.com   \n",
       "6          NaN         Xataka   1.0    Technology    www.xataka.com.mx   \n",
       "7          NaN      Canaltech   1.0  General News     canaltech.com.br   \n",
       "8          NaN     La Tercera   1.0  General News    www.latercera.com   \n",
       "9          NaN  Olhar Digital   1.0    Technology  olhardigital.com.br   \n",
       "\n",
       "  MediaList  CIMS     Sub  \n",
       "0       Yes  CIMS  Brazil  \n",
       "1       Yes  CIMS  Brazil  \n",
       "2       Yes  CIMS  Brazil  \n",
       "3       Yes  CIMS  Brazil  \n",
       "4       Yes  CIMS  Brazil  \n",
       "5       Yes  CIMS  Mexico  \n",
       "6       Yes  CIMS  Mexico  \n",
       "7       Yes  CIMS  Brazil  \n",
       "8       Yes  CIMS   Chile  \n",
       "9       Yes  CIMS  Brazil  "
      ]
     },
     "execution_count": 57,
     "metadata": {},
     "output_type": "execute_result"
    }
   ],
   "source": [
    "# Read FY21 MediaList File - Auxiliar FY21 CIMS Media Platform\n",
    "\n",
    "auxiliarCims=pd.read_excel(r'C:\\Users\\Dell User\\OneDrive\\Ubuntu 20.04.2.0 Dell\\Desktop\\Desktop\\Porter Novelli MX\\PORTER ETL\\Código\\Auxiliar_MediaListFY21_CIMS.xlsx')\n",
    "\n",
    "auxiliarCims.fillna('No Data')\n",
    "\n",
    "auxiliarCims['MediaList']='Yes'\n",
    "\n",
    "auxiliarCims['clean_link_site']=auxiliarCims['Link/Site'].apply(lambda row : str(row).replace('http://','').replace('https://','').replace('/',''))\n",
    "\n",
    "auxiliarCims=auxiliarCims[['Publication','Host','Tier', 'Media Type','clean_link_site', 'MediaList','CIMS','Sub']]\n",
    "print(auxiliarCims.shape)\n",
    "auxiliarCims.head(10)"
   ]
  },
  {
   "cell_type": "code",
   "execution_count": 58,
   "id": "c7e6cb2a",
   "metadata": {},
   "outputs": [
    {
     "name": "stdout",
     "output_type": "stream",
     "text": [
      "(21, 5)\n"
     ]
    },
    {
     "data": {
      "text/html": [
       "<div>\n",
       "<style scoped>\n",
       "    .dataframe tbody tr th:only-of-type {\n",
       "        vertical-align: middle;\n",
       "    }\n",
       "\n",
       "    .dataframe tbody tr th {\n",
       "        vertical-align: top;\n",
       "    }\n",
       "\n",
       "    .dataframe thead th {\n",
       "        text-align: right;\n",
       "    }\n",
       "</style>\n",
       "<table border=\"1\" class=\"dataframe\">\n",
       "  <thead>\n",
       "    <tr style=\"text-align: right;\">\n",
       "      <th></th>\n",
       "      <th>Country</th>\n",
       "      <th>Country ISO</th>\n",
       "      <th>Sub</th>\n",
       "      <th>Latitude</th>\n",
       "      <th>Longitude</th>\n",
       "    </tr>\n",
       "  </thead>\n",
       "  <tbody>\n",
       "    <tr>\n",
       "      <th>0</th>\n",
       "      <td>Argentina</td>\n",
       "      <td>AR</td>\n",
       "      <td>Argentina</td>\n",
       "      <td>-38.416097</td>\n",
       "      <td>-63.616672</td>\n",
       "    </tr>\n",
       "    <tr>\n",
       "      <th>1</th>\n",
       "      <td>Brazil</td>\n",
       "      <td>BR</td>\n",
       "      <td>Brazil</td>\n",
       "      <td>-14.235004</td>\n",
       "      <td>-51.925280</td>\n",
       "    </tr>\n",
       "    <tr>\n",
       "      <th>2</th>\n",
       "      <td>Colombia</td>\n",
       "      <td>CO</td>\n",
       "      <td>Colombia</td>\n",
       "      <td>4.570868</td>\n",
       "      <td>-74.297333</td>\n",
       "    </tr>\n",
       "    <tr>\n",
       "      <th>3</th>\n",
       "      <td>Chile</td>\n",
       "      <td>CL</td>\n",
       "      <td>Chile</td>\n",
       "      <td>-35.675147</td>\n",
       "      <td>-71.542969</td>\n",
       "    </tr>\n",
       "    <tr>\n",
       "      <th>4</th>\n",
       "      <td>Mexico</td>\n",
       "      <td>MX</td>\n",
       "      <td>Mexico</td>\n",
       "      <td>23.634501</td>\n",
       "      <td>-102.552784</td>\n",
       "    </tr>\n",
       "  </tbody>\n",
       "</table>\n",
       "</div>"
      ],
      "text/plain": [
       "     Country Country ISO        Sub   Latitude   Longitude\n",
       "0  Argentina          AR  Argentina -38.416097  -63.616672\n",
       "1     Brazil          BR     Brazil -14.235004  -51.925280\n",
       "2   Colombia          CO   Colombia   4.570868  -74.297333\n",
       "3      Chile          CL      Chile -35.675147  -71.542969\n",
       "4     Mexico          MX     Mexico  23.634501 -102.552784"
      ]
     },
     "execution_count": 58,
     "metadata": {},
     "output_type": "execute_result"
    }
   ],
   "source": [
    "# Read Longitude & Latitude catalog\n",
    "\n",
    "geolocation = pd.read_excel(r'C:\\Users\\Dell User\\OneDrive\\Ubuntu 20.04.2.0 Dell\\Desktop\\Desktop\\Porter Novelli MX\\PORTER ETL\\Código\\Latitude & Longitude LATAM.xlsx')\n",
    "print(geolocation.shape)\n",
    "geolocation.head(5)"
   ]
  },
  {
   "cell_type": "markdown",
   "id": "88b24bc8",
   "metadata": {},
   "source": [
    "### IMPORTAR LIBRERIAS"
   ]
  },
  {
   "cell_type": "code",
   "execution_count": 59,
   "id": "9855a110",
   "metadata": {
    "ExecuteTime": {
     "end_time": "2021-07-02T16:11:37.317607Z",
     "start_time": "2021-07-02T16:11:35.925274Z"
    }
   },
   "outputs": [
    {
     "name": "stderr",
     "output_type": "stream",
     "text": [
      "[nltk_data] Downloading package stopwords to C:\\Users\\Dell\n",
      "[nltk_data]     User\\AppData\\Roaming\\nltk_data...\n",
      "[nltk_data]   Package stopwords is already up-to-date!\n"
     ]
    }
   ],
   "source": [
    "import pandas as pd\n",
    "import numpy as np\n",
    "import requests\n",
    "import glob\n",
    "import os\n",
    "import re\n",
    "import json\n",
    "BOLD = '\\033[1m'\n",
    "END = '\\033[0m'\n",
    "\n",
    "from bs4 import BeautifulSoup\n",
    "import string\n",
    "from nltk.tokenize import RegexpTokenizer\n",
    "from nltk import bigrams\n",
    "from nltk.util import ngrams\n",
    "import collections\n",
    "import urllib.request\n",
    "from nltk.corpus import stopwords\n",
    "import nltk\n",
    "nltk.download('stopwords')\n",
    "from IPython.display import display\n",
    "pd.options.display.max_columns = None"
   ]
  },
  {
   "cell_type": "markdown",
   "id": "3ce44c6f",
   "metadata": {},
   "source": [
    "### DEFINIR RUTA A LOS ARCHIVOS '.CSV'"
   ]
  },
  {
   "cell_type": "code",
   "execution_count": 60,
   "id": "3b2de2d6",
   "metadata": {},
   "outputs": [],
   "source": [
    "path_microsoft_fy21= r'C:\\Users\\Dell User\\OneDrive\\Ubuntu 20.04.2.0 Dell\\Desktop\\Desktop\\Porter Novelli MX\\Porter Scripts\\MSTF FY22\\Q1\\CIMS\\JULY\\MICROSOFT JULY Q1 FY22.csv' \n",
    "path_google_fy21= r'C:\\Users\\Dell User\\OneDrive\\Ubuntu 20.04.2.0 Dell\\Desktop\\Desktop\\Porter Novelli MX\\Porter Scripts\\MSTF FY22\\Q1\\CIMS\\JULY\\GOOGLE JULY Q1 FY22.csv'\n",
    "path_facebook_fy21= r'C:\\Users\\Dell User\\OneDrive\\Ubuntu 20.04.2.0 Dell\\Desktop\\Desktop\\Porter Novelli MX\\Porter Scripts\\MSTF FY22\\Q1\\CIMS\\JULY\\FACEBOOK JULY Q1 FY22.csv' \n",
    "path_apple_fy21= r'C:\\Users\\Dell User\\OneDrive\\Ubuntu 20.04.2.0 Dell\\Desktop\\Desktop\\Porter Novelli MX\\Porter Scripts\\MSTF FY22\\Q1\\CIMS\\JULY\\APPLE JULY Q1 FY22.csv' \n",
    "path_amazon_fy21= r'C:\\Users\\Dell User\\OneDrive\\Ubuntu 20.04.2.0 Dell\\Desktop\\Desktop\\Porter Novelli MX\\Porter Scripts\\MSTF FY22\\Q1\\CIMS\\JULY\\AMAZON JULY Q1 FY22.csv' "
   ]
  },
  {
   "cell_type": "markdown",
   "id": "01d81af0",
   "metadata": {},
   "source": [
    "### LECTURA DE '.CSV' FILES"
   ]
  },
  {
   "cell_type": "code",
   "execution_count": 61,
   "id": "c73b60d5",
   "metadata": {},
   "outputs": [],
   "source": [
    "microsoft_fy21 = pd.read_csv(path_microsoft_fy21, delimiter= ';')\n",
    "google_fy21 = pd.read_csv(path_google_fy21, delimiter= ';')\n",
    "facebook_fy21 = pd.read_csv(path_facebook_fy21, delimiter= ';')\n",
    "apple_fy21 = pd.read_csv(path_apple_fy21, delimiter= ';')\n",
    "amazon_fy21 = pd.read_csv(path_amazon_fy21, delimiter= ';')"
   ]
  },
  {
   "cell_type": "markdown",
   "id": "5a8f9de0",
   "metadata": {},
   "source": [
    "### MANIPULACIÓN DE DATOS"
   ]
  },
  {
   "cell_type": "code",
   "execution_count": 62,
   "id": "a2b4c45d",
   "metadata": {},
   "outputs": [
    {
     "name": "stdout",
     "output_type": "stream",
     "text": [
      "(2295, 11)\n"
     ]
    },
    {
     "data": {
      "text/html": [
       "<div>\n",
       "<style scoped>\n",
       "    .dataframe tbody tr th:only-of-type {\n",
       "        vertical-align: middle;\n",
       "    }\n",
       "\n",
       "    .dataframe tbody tr th {\n",
       "        vertical-align: top;\n",
       "    }\n",
       "\n",
       "    .dataframe thead th {\n",
       "        text-align: right;\n",
       "    }\n",
       "</style>\n",
       "<table border=\"1\" class=\"dataframe\">\n",
       "  <thead>\n",
       "    <tr style=\"text-align: right;\">\n",
       "      <th></th>\n",
       "      <th>Article ID</th>\n",
       "      <th>Published date</th>\n",
       "      <th>Headline</th>\n",
       "      <th>Url</th>\n",
       "      <th>Outlet Name</th>\n",
       "      <th>Author Name</th>\n",
       "      <th>Country</th>\n",
       "      <th>Language</th>\n",
       "      <th>Impressions</th>\n",
       "      <th>Shares</th>\n",
       "      <th>Coded</th>\n",
       "    </tr>\n",
       "  </thead>\n",
       "  <tbody>\n",
       "    <tr>\n",
       "      <th>0</th>\n",
       "      <td>3d53a7cfdfec480e0a8ac1c7561346bf533ecc4391df7d...</td>\n",
       "      <td>2021-07-23 14:19:00</td>\n",
       "      <td>Asus presenta su notebook gamer convertible Fl...</td>\n",
       "      <td>https://www.latercera.com/mouse/asus-presenta-...</td>\n",
       "      <td>latercera.com</td>\n",
       "      <td>Claudio PortillaLa TerceraL4PaulaPiensa Digital</td>\n",
       "      <td>Chile</td>\n",
       "      <td>es</td>\n",
       "      <td>366558</td>\n",
       "      <td>3.0</td>\n",
       "      <td>NaN</td>\n",
       "    </tr>\n",
       "    <tr>\n",
       "      <th>1</th>\n",
       "      <td>ea36aa9a947914f0507ba1cca904865e5327ed24de86c6...</td>\n",
       "      <td>2021-07-20 12:00:00</td>\n",
       "      <td>Nuevo rifirrafe entre China y EE.UU. por ataqu...</td>\n",
       "      <td>https://www.portafolio.co/internacional/nuevo-...</td>\n",
       "      <td>portafolio.co</td>\n",
       "      <td>Casa Editorial El Tiempo</td>\n",
       "      <td>Colombia</td>\n",
       "      <td>es</td>\n",
       "      <td>106365</td>\n",
       "      <td>0.0</td>\n",
       "      <td>2.0</td>\n",
       "    </tr>\n",
       "    <tr>\n",
       "      <th>2</th>\n",
       "      <td>582da60542e3c1e3464e735e5435589015ed203221f871...</td>\n",
       "      <td>2021-07-20 20:25:22</td>\n",
       "      <td>Windows 11: atualização traz integração nativa...</td>\n",
       "      <td>https://www.tecmundo.com.br/software/221449-wi...</td>\n",
       "      <td>tecmundo.com.br</td>\n",
       "      <td>Giovanna Fantinato</td>\n",
       "      <td>Brazil</td>\n",
       "      <td>pt</td>\n",
       "      <td>505513</td>\n",
       "      <td>0.0</td>\n",
       "      <td>2.0</td>\n",
       "    </tr>\n",
       "  </tbody>\n",
       "</table>\n",
       "</div>"
      ],
      "text/plain": [
       "                                          Article ID       Published date  \\\n",
       "0  3d53a7cfdfec480e0a8ac1c7561346bf533ecc4391df7d...  2021-07-23 14:19:00   \n",
       "1  ea36aa9a947914f0507ba1cca904865e5327ed24de86c6...  2021-07-20 12:00:00   \n",
       "2  582da60542e3c1e3464e735e5435589015ed203221f871...  2021-07-20 20:25:22   \n",
       "\n",
       "                                            Headline  \\\n",
       "0  Asus presenta su notebook gamer convertible Fl...   \n",
       "1  Nuevo rifirrafe entre China y EE.UU. por ataqu...   \n",
       "2  Windows 11: atualização traz integração nativa...   \n",
       "\n",
       "                                                 Url      Outlet Name  \\\n",
       "0  https://www.latercera.com/mouse/asus-presenta-...    latercera.com   \n",
       "1  https://www.portafolio.co/internacional/nuevo-...    portafolio.co   \n",
       "2  https://www.tecmundo.com.br/software/221449-wi...  tecmundo.com.br   \n",
       "\n",
       "                                       Author Name   Country Language  \\\n",
       "0  Claudio PortillaLa TerceraL4PaulaPiensa Digital     Chile       es   \n",
       "1                         Casa Editorial El Tiempo  Colombia       es   \n",
       "2                               Giovanna Fantinato    Brazil       pt   \n",
       "\n",
       "   Impressions  Shares  Coded  \n",
       "0       366558     3.0    NaN  \n",
       "1       106365     0.0    2.0  \n",
       "2       505513     0.0    2.0  "
      ]
     },
     "execution_count": 62,
     "metadata": {},
     "output_type": "execute_result"
    }
   ],
   "source": [
    "# Visualizar primeros 3 registros de microsoft data\n",
    "print(microsoft_fy21.shape)\n",
    "microsoft_fy21.head(3)"
   ]
  },
  {
   "cell_type": "code",
   "execution_count": 63,
   "id": "7b1caf03",
   "metadata": {},
   "outputs": [
    {
     "name": "stdout",
     "output_type": "stream",
     "text": [
      "(2295, 11)\n",
      "(3670, 11)\n",
      "(4399, 11)\n",
      "(2854, 11)\n",
      "(3161, 11)\n"
     ]
    }
   ],
   "source": [
    "print(microsoft_fy21.shape)\n",
    "print(google_fy21.shape)\n",
    "print(facebook_fy21.shape)\n",
    "print(apple_fy21.shape)\n",
    "print(amazon_fy21.shape)"
   ]
  },
  {
   "cell_type": "code",
   "execution_count": 64,
   "id": "a4c691ff",
   "metadata": {},
   "outputs": [
    {
     "name": "stdout",
     "output_type": "stream",
     "text": [
      "Article ID\n",
      "Published date\n",
      "Headline\n",
      "Url\n",
      "Outlet Name\n",
      "Author Name\n",
      "Country\n",
      "Language\n",
      "Impressions\n",
      "Shares\n",
      "Coded\n"
     ]
    }
   ],
   "source": [
    "for c in microsoft_fy21.columns:\n",
    "    print(c)"
   ]
  },
  {
   "cell_type": "code",
   "execution_count": 65,
   "id": "39415df4",
   "metadata": {},
   "outputs": [
    {
     "name": "stdout",
     "output_type": "stream",
     "text": [
      "Article ID\n",
      "Published date\n",
      "Headline\n",
      "Url\n",
      "Outlet Name\n",
      "Author Name\n",
      "Country\n",
      "Language\n",
      "Impressions\n",
      "Shares\n",
      "Coded\n"
     ]
    }
   ],
   "source": [
    "for c in google_fy21.columns:\n",
    "    print(c)"
   ]
  },
  {
   "cell_type": "code",
   "execution_count": 66,
   "id": "aec8d3c5",
   "metadata": {},
   "outputs": [],
   "source": [
    "microsoft_fy21['Company']= 'Microsoft'\n",
    "google_fy21['Company']= 'Google'\n",
    "facebook_fy21['Company']= 'Facebook'\n",
    "apple_fy21['Company']= 'Apple'\n",
    "amazon_fy21['Company']= 'Amazon'"
   ]
  },
  {
   "cell_type": "code",
   "execution_count": 67,
   "id": "9d72c506",
   "metadata": {},
   "outputs": [
    {
     "name": "stdout",
     "output_type": "stream",
     "text": [
      "(14084, 12)\n"
     ]
    },
    {
     "data": {
      "text/html": [
       "<div>\n",
       "<style scoped>\n",
       "    .dataframe tbody tr th:only-of-type {\n",
       "        vertical-align: middle;\n",
       "    }\n",
       "\n",
       "    .dataframe tbody tr th {\n",
       "        vertical-align: top;\n",
       "    }\n",
       "\n",
       "    .dataframe thead th {\n",
       "        text-align: right;\n",
       "    }\n",
       "</style>\n",
       "<table border=\"1\" class=\"dataframe\">\n",
       "  <thead>\n",
       "    <tr style=\"text-align: right;\">\n",
       "      <th></th>\n",
       "      <th>Article ID</th>\n",
       "      <th>Published date</th>\n",
       "      <th>Headline</th>\n",
       "      <th>Url</th>\n",
       "      <th>Outlet Name</th>\n",
       "      <th>Author Name</th>\n",
       "      <th>Country</th>\n",
       "      <th>Language</th>\n",
       "      <th>Impressions</th>\n",
       "      <th>Shares</th>\n",
       "      <th>Coded</th>\n",
       "      <th>Company</th>\n",
       "    </tr>\n",
       "  </thead>\n",
       "  <tbody>\n",
       "    <tr>\n",
       "      <th>0</th>\n",
       "      <td>5170d8aa3e17b50fb9ea7ef73628a4876fc714d3a01a01...</td>\n",
       "      <td>2021-07-28 12:00:00</td>\n",
       "      <td>Pokémon GO: Niantic removerá banimentos de jog...</td>\n",
       "      <td>https://www.uol.com.br/start/ultimas-noticias/...</td>\n",
       "      <td>uol.com.br</td>\n",
       "      <td>uol.com.br</td>\n",
       "      <td>Brazil</td>\n",
       "      <td>pt</td>\n",
       "      <td>4242778</td>\n",
       "      <td>3.0</td>\n",
       "      <td>NaN</td>\n",
       "      <td>Google</td>\n",
       "    </tr>\n",
       "    <tr>\n",
       "      <th>1</th>\n",
       "      <td>dd932212d5554f9843278147b7d768674b888be829be8e...</td>\n",
       "      <td>2021-07-29 16:36:37</td>\n",
       "      <td>Grupo Volkswagen gana hasta junio 8,104 mde, t...</td>\n",
       "      <td>https://www.forbes.com.mx/grupo-volkswagen-gan...</td>\n",
       "      <td>forbes.com.mx</td>\n",
       "      <td>Forbes Staff</td>\n",
       "      <td>Mexico</td>\n",
       "      <td>es</td>\n",
       "      <td>216233</td>\n",
       "      <td>1.0</td>\n",
       "      <td>NaN</td>\n",
       "      <td>Google</td>\n",
       "    </tr>\n",
       "    <tr>\n",
       "      <th>2</th>\n",
       "      <td>db8dc1da46920597b714befda0c106b7b7e2ff132e8472...</td>\n",
       "      <td>2021-07-29 14:40:00</td>\n",
       "      <td>6 jogos e apps de Pokémon para aproveitar no c...</td>\n",
       "      <td>https://tecnoblog.net/468636/6-jogos-e-apps-de...</td>\n",
       "      <td>tecnoblog.net</td>\n",
       "      <td>https://www.facebook.com/leandro.kovacs</td>\n",
       "      <td>Brazil</td>\n",
       "      <td>pt</td>\n",
       "      <td>124433</td>\n",
       "      <td>0.0</td>\n",
       "      <td>NaN</td>\n",
       "      <td>Google</td>\n",
       "    </tr>\n",
       "  </tbody>\n",
       "</table>\n",
       "</div>"
      ],
      "text/plain": [
       "                                          Article ID       Published date  \\\n",
       "0  5170d8aa3e17b50fb9ea7ef73628a4876fc714d3a01a01...  2021-07-28 12:00:00   \n",
       "1  dd932212d5554f9843278147b7d768674b888be829be8e...  2021-07-29 16:36:37   \n",
       "2  db8dc1da46920597b714befda0c106b7b7e2ff132e8472...  2021-07-29 14:40:00   \n",
       "\n",
       "                                            Headline  \\\n",
       "0  Pokémon GO: Niantic removerá banimentos de jog...   \n",
       "1  Grupo Volkswagen gana hasta junio 8,104 mde, t...   \n",
       "2  6 jogos e apps de Pokémon para aproveitar no c...   \n",
       "\n",
       "                                                 Url    Outlet Name  \\\n",
       "0  https://www.uol.com.br/start/ultimas-noticias/...     uol.com.br   \n",
       "1  https://www.forbes.com.mx/grupo-volkswagen-gan...  forbes.com.mx   \n",
       "2  https://tecnoblog.net/468636/6-jogos-e-apps-de...  tecnoblog.net   \n",
       "\n",
       "                               Author Name Country Language  Impressions  \\\n",
       "0                               uol.com.br  Brazil       pt      4242778   \n",
       "1                             Forbes Staff  Mexico       es       216233   \n",
       "2  https://www.facebook.com/leandro.kovacs  Brazil       pt       124433   \n",
       "\n",
       "   Shares  Coded Company  \n",
       "0     3.0    NaN  Google  \n",
       "1     1.0    NaN  Google  \n",
       "2     0.0    NaN  Google  "
      ]
     },
     "execution_count": 67,
     "metadata": {},
     "output_type": "execute_result"
    }
   ],
   "source": [
    "competitors_fy21 = pd.concat([google_fy21,facebook_fy21,amazon_fy21,apple_fy21], sort= False)\n",
    "print(competitors_fy21.shape)\n",
    "competitors_fy21.head(3)"
   ]
  },
  {
   "cell_type": "code",
   "execution_count": 68,
   "id": "06b862e0",
   "metadata": {},
   "outputs": [
    {
     "data": {
      "text/plain": [
       "(14084, 12)"
      ]
     },
     "execution_count": 68,
     "metadata": {},
     "output_type": "execute_result"
    }
   ],
   "source": [
    "competitors_fy21.shape"
   ]
  },
  {
   "cell_type": "code",
   "execution_count": 69,
   "id": "7772e678",
   "metadata": {},
   "outputs": [
    {
     "data": {
      "text/html": [
       "<div>\n",
       "<style scoped>\n",
       "    .dataframe tbody tr th:only-of-type {\n",
       "        vertical-align: middle;\n",
       "    }\n",
       "\n",
       "    .dataframe tbody tr th {\n",
       "        vertical-align: top;\n",
       "    }\n",
       "\n",
       "    .dataframe thead th {\n",
       "        text-align: right;\n",
       "    }\n",
       "</style>\n",
       "<table border=\"1\" class=\"dataframe\">\n",
       "  <thead>\n",
       "    <tr style=\"text-align: right;\">\n",
       "      <th></th>\n",
       "      <th>Article ID</th>\n",
       "      <th>Published date</th>\n",
       "      <th>Headline</th>\n",
       "      <th>Url</th>\n",
       "      <th>Outlet Name</th>\n",
       "      <th>Author Name</th>\n",
       "      <th>Country</th>\n",
       "      <th>Language</th>\n",
       "      <th>Impressions</th>\n",
       "      <th>Shares</th>\n",
       "      <th>Coded</th>\n",
       "      <th>Company</th>\n",
       "    </tr>\n",
       "  </thead>\n",
       "  <tbody>\n",
       "    <tr>\n",
       "      <th>0</th>\n",
       "      <td>5170d8aa3e17b50fb9ea7ef73628a4876fc714d3a01a01...</td>\n",
       "      <td>2021-07-28 12:00:00</td>\n",
       "      <td>Pokémon GO: Niantic removerá banimentos de jog...</td>\n",
       "      <td>https://www.uol.com.br/start/ultimas-noticias/...</td>\n",
       "      <td>uol.com.br</td>\n",
       "      <td>uol.com.br</td>\n",
       "      <td>Brazil</td>\n",
       "      <td>pt</td>\n",
       "      <td>4242778</td>\n",
       "      <td>3.0</td>\n",
       "      <td>NaN</td>\n",
       "      <td>Google</td>\n",
       "    </tr>\n",
       "    <tr>\n",
       "      <th>1</th>\n",
       "      <td>dd932212d5554f9843278147b7d768674b888be829be8e...</td>\n",
       "      <td>2021-07-29 16:36:37</td>\n",
       "      <td>Grupo Volkswagen gana hasta junio 8,104 mde, t...</td>\n",
       "      <td>https://www.forbes.com.mx/grupo-volkswagen-gan...</td>\n",
       "      <td>forbes.com.mx</td>\n",
       "      <td>Forbes Staff</td>\n",
       "      <td>Mexico</td>\n",
       "      <td>es</td>\n",
       "      <td>216233</td>\n",
       "      <td>1.0</td>\n",
       "      <td>NaN</td>\n",
       "      <td>Google</td>\n",
       "    </tr>\n",
       "    <tr>\n",
       "      <th>2</th>\n",
       "      <td>db8dc1da46920597b714befda0c106b7b7e2ff132e8472...</td>\n",
       "      <td>2021-07-29 14:40:00</td>\n",
       "      <td>6 jogos e apps de Pokémon para aproveitar no c...</td>\n",
       "      <td>https://tecnoblog.net/468636/6-jogos-e-apps-de...</td>\n",
       "      <td>tecnoblog.net</td>\n",
       "      <td>https://www.facebook.com/leandro.kovacs</td>\n",
       "      <td>Brazil</td>\n",
       "      <td>pt</td>\n",
       "      <td>124433</td>\n",
       "      <td>0.0</td>\n",
       "      <td>NaN</td>\n",
       "      <td>Google</td>\n",
       "    </tr>\n",
       "  </tbody>\n",
       "</table>\n",
       "</div>"
      ],
      "text/plain": [
       "                                          Article ID       Published date  \\\n",
       "0  5170d8aa3e17b50fb9ea7ef73628a4876fc714d3a01a01...  2021-07-28 12:00:00   \n",
       "1  dd932212d5554f9843278147b7d768674b888be829be8e...  2021-07-29 16:36:37   \n",
       "2  db8dc1da46920597b714befda0c106b7b7e2ff132e8472...  2021-07-29 14:40:00   \n",
       "\n",
       "                                            Headline  \\\n",
       "0  Pokémon GO: Niantic removerá banimentos de jog...   \n",
       "1  Grupo Volkswagen gana hasta junio 8,104 mde, t...   \n",
       "2  6 jogos e apps de Pokémon para aproveitar no c...   \n",
       "\n",
       "                                                 Url    Outlet Name  \\\n",
       "0  https://www.uol.com.br/start/ultimas-noticias/...     uol.com.br   \n",
       "1  https://www.forbes.com.mx/grupo-volkswagen-gan...  forbes.com.mx   \n",
       "2  https://tecnoblog.net/468636/6-jogos-e-apps-de...  tecnoblog.net   \n",
       "\n",
       "                               Author Name Country Language  Impressions  \\\n",
       "0                               uol.com.br  Brazil       pt      4242778   \n",
       "1                             Forbes Staff  Mexico       es       216233   \n",
       "2  https://www.facebook.com/leandro.kovacs  Brazil       pt       124433   \n",
       "\n",
       "   Shares  Coded Company  \n",
       "0     3.0    NaN  Google  \n",
       "1     1.0    NaN  Google  \n",
       "2     0.0    NaN  Google  "
      ]
     },
     "execution_count": 69,
     "metadata": {},
     "output_type": "execute_result"
    }
   ],
   "source": [
    "cims_fy21 = pd.concat([competitors_fy21,microsoft_fy21], sort= False)\n",
    "cims_fy21.head(3)"
   ]
  },
  {
   "cell_type": "code",
   "execution_count": 70,
   "id": "52189758",
   "metadata": {},
   "outputs": [
    {
     "data": {
      "text/plain": [
       "(16379, 12)"
      ]
     },
     "execution_count": 70,
     "metadata": {},
     "output_type": "execute_result"
    }
   ],
   "source": [
    "cims_fy21.shape"
   ]
  },
  {
   "cell_type": "code",
   "execution_count": 71,
   "id": "299ade59",
   "metadata": {},
   "outputs": [
    {
     "data": {
      "text/plain": [
       "Facebook     4399\n",
       "Google       3670\n",
       "Amazon       3161\n",
       "Apple        2854\n",
       "Microsoft    2295\n",
       "Name: Company, dtype: int64"
      ]
     },
     "execution_count": 71,
     "metadata": {},
     "output_type": "execute_result"
    }
   ],
   "source": [
    "cims_fy21['Company'].value_counts()"
   ]
  },
  {
   "cell_type": "code",
   "execution_count": 72,
   "id": "446b1078",
   "metadata": {},
   "outputs": [
    {
     "data": {
      "text/plain": [
       "eltiempo.com              1786\n",
       "canaltech.com.br          1735\n",
       "uol.com.br                1179\n",
       "tecmundo.com.br            866\n",
       "noticias.caracoltv.com     619\n",
       "                          ... \n",
       "radioagricultura.cl          4\n",
       "caracoltv.com                3\n",
       "canal-ar.com.ar              2\n",
       "semana.com                   1\n",
       "elempresario.mx              1\n",
       "Name: Outlet Name, Length: 83, dtype: int64"
      ]
     },
     "execution_count": 72,
     "metadata": {},
     "output_type": "execute_result"
    }
   ],
   "source": [
    "cims_fy21['Outlet Name'].value_counts()"
   ]
  },
  {
   "cell_type": "code",
   "execution_count": 73,
   "id": "a15e065f",
   "metadata": {},
   "outputs": [
    {
     "data": {
      "text/plain": [
       "Brazil         7737\n",
       "Colombia       3061\n",
       "Mexico         2786\n",
       "Argentina      1720\n",
       "Chile           614\n",
       "Costa Rica      183\n",
       "Puerto Rico     146\n",
       "Ecuador          75\n",
       "El Salvador      57\n",
       "Name: Country, dtype: int64"
      ]
     },
     "execution_count": 73,
     "metadata": {},
     "output_type": "execute_result"
    }
   ],
   "source": [
    "cims_fy21['Country'].value_counts()"
   ]
  },
  {
   "cell_type": "code",
   "execution_count": 74,
   "id": "63fcc65d",
   "metadata": {},
   "outputs": [
    {
     "data": {
      "text/plain": [
       "es    8639\n",
       "pt    7736\n",
       "en       4\n",
       "Name: Language, dtype: int64"
      ]
     },
     "execution_count": 74,
     "metadata": {},
     "output_type": "execute_result"
    }
   ],
   "source": [
    "cims_fy21['Language'].value_counts()"
   ]
  },
  {
   "cell_type": "code",
   "execution_count": 75,
   "id": "b7e237db",
   "metadata": {},
   "outputs": [],
   "source": [
    "cims_fy21['FY']= '2022'"
   ]
  },
  {
   "cell_type": "code",
   "execution_count": 76,
   "id": "8973273c",
   "metadata": {},
   "outputs": [],
   "source": [
    "cims_fy21['Q']= 'Q1'"
   ]
  },
  {
   "cell_type": "code",
   "execution_count": 77,
   "id": "108a8495",
   "metadata": {},
   "outputs": [],
   "source": [
    "cims_fy21['H']= 'H1'"
   ]
  },
  {
   "cell_type": "code",
   "execution_count": 78,
   "id": "49a7d985",
   "metadata": {},
   "outputs": [],
   "source": [
    "cims_fy21['Published date'] = pd.to_datetime(cims_fy21['Published date'], errors='coerce')"
   ]
  },
  {
   "cell_type": "code",
   "execution_count": 79,
   "id": "309468ad",
   "metadata": {},
   "outputs": [],
   "source": [
    "cims_fy21['Full Month'] = cims_fy21['Published date'].dt.strftime('%B')"
   ]
  },
  {
   "cell_type": "code",
   "execution_count": 80,
   "id": "493d3475",
   "metadata": {},
   "outputs": [
    {
     "data": {
      "text/html": [
       "<div>\n",
       "<style scoped>\n",
       "    .dataframe tbody tr th:only-of-type {\n",
       "        vertical-align: middle;\n",
       "    }\n",
       "\n",
       "    .dataframe tbody tr th {\n",
       "        vertical-align: top;\n",
       "    }\n",
       "\n",
       "    .dataframe thead th {\n",
       "        text-align: right;\n",
       "    }\n",
       "</style>\n",
       "<table border=\"1\" class=\"dataframe\">\n",
       "  <thead>\n",
       "    <tr style=\"text-align: right;\">\n",
       "      <th></th>\n",
       "      <th>Article ID</th>\n",
       "      <th>Published date</th>\n",
       "      <th>Headline</th>\n",
       "      <th>Url</th>\n",
       "      <th>Outlet Name</th>\n",
       "      <th>Author Name</th>\n",
       "      <th>Country</th>\n",
       "      <th>Language</th>\n",
       "      <th>Impressions</th>\n",
       "      <th>Shares</th>\n",
       "      <th>Coded</th>\n",
       "      <th>Company</th>\n",
       "      <th>FY</th>\n",
       "      <th>Q</th>\n",
       "      <th>H</th>\n",
       "      <th>Full Month</th>\n",
       "    </tr>\n",
       "  </thead>\n",
       "  <tbody>\n",
       "    <tr>\n",
       "      <th>0</th>\n",
       "      <td>5170d8aa3e17b50fb9ea7ef73628a4876fc714d3a01a01...</td>\n",
       "      <td>2021-07-28 12:00:00</td>\n",
       "      <td>Pokémon GO: Niantic removerá banimentos de jog...</td>\n",
       "      <td>https://www.uol.com.br/start/ultimas-noticias/...</td>\n",
       "      <td>uol.com.br</td>\n",
       "      <td>uol.com.br</td>\n",
       "      <td>Brazil</td>\n",
       "      <td>pt</td>\n",
       "      <td>4242778</td>\n",
       "      <td>3.0</td>\n",
       "      <td>NaN</td>\n",
       "      <td>Google</td>\n",
       "      <td>2022</td>\n",
       "      <td>Q1</td>\n",
       "      <td>H1</td>\n",
       "      <td>July</td>\n",
       "    </tr>\n",
       "    <tr>\n",
       "      <th>1</th>\n",
       "      <td>dd932212d5554f9843278147b7d768674b888be829be8e...</td>\n",
       "      <td>2021-07-29 16:36:37</td>\n",
       "      <td>Grupo Volkswagen gana hasta junio 8,104 mde, t...</td>\n",
       "      <td>https://www.forbes.com.mx/grupo-volkswagen-gan...</td>\n",
       "      <td>forbes.com.mx</td>\n",
       "      <td>Forbes Staff</td>\n",
       "      <td>Mexico</td>\n",
       "      <td>es</td>\n",
       "      <td>216233</td>\n",
       "      <td>1.0</td>\n",
       "      <td>NaN</td>\n",
       "      <td>Google</td>\n",
       "      <td>2022</td>\n",
       "      <td>Q1</td>\n",
       "      <td>H1</td>\n",
       "      <td>July</td>\n",
       "    </tr>\n",
       "    <tr>\n",
       "      <th>2</th>\n",
       "      <td>db8dc1da46920597b714befda0c106b7b7e2ff132e8472...</td>\n",
       "      <td>2021-07-29 14:40:00</td>\n",
       "      <td>6 jogos e apps de Pokémon para aproveitar no c...</td>\n",
       "      <td>https://tecnoblog.net/468636/6-jogos-e-apps-de...</td>\n",
       "      <td>tecnoblog.net</td>\n",
       "      <td>https://www.facebook.com/leandro.kovacs</td>\n",
       "      <td>Brazil</td>\n",
       "      <td>pt</td>\n",
       "      <td>124433</td>\n",
       "      <td>0.0</td>\n",
       "      <td>NaN</td>\n",
       "      <td>Google</td>\n",
       "      <td>2022</td>\n",
       "      <td>Q1</td>\n",
       "      <td>H1</td>\n",
       "      <td>July</td>\n",
       "    </tr>\n",
       "  </tbody>\n",
       "</table>\n",
       "</div>"
      ],
      "text/plain": [
       "                                          Article ID      Published date  \\\n",
       "0  5170d8aa3e17b50fb9ea7ef73628a4876fc714d3a01a01... 2021-07-28 12:00:00   \n",
       "1  dd932212d5554f9843278147b7d768674b888be829be8e... 2021-07-29 16:36:37   \n",
       "2  db8dc1da46920597b714befda0c106b7b7e2ff132e8472... 2021-07-29 14:40:00   \n",
       "\n",
       "                                            Headline  \\\n",
       "0  Pokémon GO: Niantic removerá banimentos de jog...   \n",
       "1  Grupo Volkswagen gana hasta junio 8,104 mde, t...   \n",
       "2  6 jogos e apps de Pokémon para aproveitar no c...   \n",
       "\n",
       "                                                 Url    Outlet Name  \\\n",
       "0  https://www.uol.com.br/start/ultimas-noticias/...     uol.com.br   \n",
       "1  https://www.forbes.com.mx/grupo-volkswagen-gan...  forbes.com.mx   \n",
       "2  https://tecnoblog.net/468636/6-jogos-e-apps-de...  tecnoblog.net   \n",
       "\n",
       "                               Author Name Country Language  Impressions  \\\n",
       "0                               uol.com.br  Brazil       pt      4242778   \n",
       "1                             Forbes Staff  Mexico       es       216233   \n",
       "2  https://www.facebook.com/leandro.kovacs  Brazil       pt       124433   \n",
       "\n",
       "   Shares  Coded Company    FY   Q   H Full Month  \n",
       "0     3.0    NaN  Google  2022  Q1  H1       July  \n",
       "1     1.0    NaN  Google  2022  Q1  H1       July  \n",
       "2     0.0    NaN  Google  2022  Q1  H1       July  "
      ]
     },
     "execution_count": 80,
     "metadata": {},
     "output_type": "execute_result"
    }
   ],
   "source": [
    "cims_fy21.head(3)"
   ]
  },
  {
   "cell_type": "code",
   "execution_count": 81,
   "id": "2ece4d7f",
   "metadata": {},
   "outputs": [
    {
     "data": {
      "text/html": [
       "<div>\n",
       "<style scoped>\n",
       "    .dataframe tbody tr th:only-of-type {\n",
       "        vertical-align: middle;\n",
       "    }\n",
       "\n",
       "    .dataframe tbody tr th {\n",
       "        vertical-align: top;\n",
       "    }\n",
       "\n",
       "    .dataframe thead th {\n",
       "        text-align: right;\n",
       "    }\n",
       "</style>\n",
       "<table border=\"1\" class=\"dataframe\">\n",
       "  <thead>\n",
       "    <tr style=\"text-align: right;\">\n",
       "      <th></th>\n",
       "      <th>Article ID</th>\n",
       "      <th>Published date</th>\n",
       "      <th>Headline</th>\n",
       "      <th>Url</th>\n",
       "      <th>Outlet Name</th>\n",
       "      <th>Author Name</th>\n",
       "      <th>Country</th>\n",
       "      <th>Language</th>\n",
       "      <th>Impressions</th>\n",
       "      <th>Shares</th>\n",
       "      <th>Coded</th>\n",
       "      <th>Company</th>\n",
       "      <th>FY</th>\n",
       "      <th>Q</th>\n",
       "      <th>H</th>\n",
       "      <th>Full Month</th>\n",
       "      <th>dayOfWeek</th>\n",
       "    </tr>\n",
       "  </thead>\n",
       "  <tbody>\n",
       "    <tr>\n",
       "      <th>0</th>\n",
       "      <td>5170d8aa3e17b50fb9ea7ef73628a4876fc714d3a01a01...</td>\n",
       "      <td>2021-07-28 12:00:00</td>\n",
       "      <td>Pokémon GO: Niantic removerá banimentos de jog...</td>\n",
       "      <td>https://www.uol.com.br/start/ultimas-noticias/...</td>\n",
       "      <td>uol.com.br</td>\n",
       "      <td>uol.com.br</td>\n",
       "      <td>Brazil</td>\n",
       "      <td>pt</td>\n",
       "      <td>4242778</td>\n",
       "      <td>3.0</td>\n",
       "      <td>NaN</td>\n",
       "      <td>Google</td>\n",
       "      <td>2022</td>\n",
       "      <td>Q1</td>\n",
       "      <td>H1</td>\n",
       "      <td>July</td>\n",
       "      <td>Wednesday</td>\n",
       "    </tr>\n",
       "    <tr>\n",
       "      <th>1</th>\n",
       "      <td>dd932212d5554f9843278147b7d768674b888be829be8e...</td>\n",
       "      <td>2021-07-29 16:36:37</td>\n",
       "      <td>Grupo Volkswagen gana hasta junio 8,104 mde, t...</td>\n",
       "      <td>https://www.forbes.com.mx/grupo-volkswagen-gan...</td>\n",
       "      <td>forbes.com.mx</td>\n",
       "      <td>Forbes Staff</td>\n",
       "      <td>Mexico</td>\n",
       "      <td>es</td>\n",
       "      <td>216233</td>\n",
       "      <td>1.0</td>\n",
       "      <td>NaN</td>\n",
       "      <td>Google</td>\n",
       "      <td>2022</td>\n",
       "      <td>Q1</td>\n",
       "      <td>H1</td>\n",
       "      <td>July</td>\n",
       "      <td>Thursday</td>\n",
       "    </tr>\n",
       "    <tr>\n",
       "      <th>2</th>\n",
       "      <td>db8dc1da46920597b714befda0c106b7b7e2ff132e8472...</td>\n",
       "      <td>2021-07-29 14:40:00</td>\n",
       "      <td>6 jogos e apps de Pokémon para aproveitar no c...</td>\n",
       "      <td>https://tecnoblog.net/468636/6-jogos-e-apps-de...</td>\n",
       "      <td>tecnoblog.net</td>\n",
       "      <td>https://www.facebook.com/leandro.kovacs</td>\n",
       "      <td>Brazil</td>\n",
       "      <td>pt</td>\n",
       "      <td>124433</td>\n",
       "      <td>0.0</td>\n",
       "      <td>NaN</td>\n",
       "      <td>Google</td>\n",
       "      <td>2022</td>\n",
       "      <td>Q1</td>\n",
       "      <td>H1</td>\n",
       "      <td>July</td>\n",
       "      <td>Thursday</td>\n",
       "    </tr>\n",
       "  </tbody>\n",
       "</table>\n",
       "</div>"
      ],
      "text/plain": [
       "                                          Article ID      Published date  \\\n",
       "0  5170d8aa3e17b50fb9ea7ef73628a4876fc714d3a01a01... 2021-07-28 12:00:00   \n",
       "1  dd932212d5554f9843278147b7d768674b888be829be8e... 2021-07-29 16:36:37   \n",
       "2  db8dc1da46920597b714befda0c106b7b7e2ff132e8472... 2021-07-29 14:40:00   \n",
       "\n",
       "                                            Headline  \\\n",
       "0  Pokémon GO: Niantic removerá banimentos de jog...   \n",
       "1  Grupo Volkswagen gana hasta junio 8,104 mde, t...   \n",
       "2  6 jogos e apps de Pokémon para aproveitar no c...   \n",
       "\n",
       "                                                 Url    Outlet Name  \\\n",
       "0  https://www.uol.com.br/start/ultimas-noticias/...     uol.com.br   \n",
       "1  https://www.forbes.com.mx/grupo-volkswagen-gan...  forbes.com.mx   \n",
       "2  https://tecnoblog.net/468636/6-jogos-e-apps-de...  tecnoblog.net   \n",
       "\n",
       "                               Author Name Country Language  Impressions  \\\n",
       "0                               uol.com.br  Brazil       pt      4242778   \n",
       "1                             Forbes Staff  Mexico       es       216233   \n",
       "2  https://www.facebook.com/leandro.kovacs  Brazil       pt       124433   \n",
       "\n",
       "   Shares  Coded Company    FY   Q   H Full Month  dayOfWeek  \n",
       "0     3.0    NaN  Google  2022  Q1  H1       July  Wednesday  \n",
       "1     1.0    NaN  Google  2022  Q1  H1       July   Thursday  \n",
       "2     0.0    NaN  Google  2022  Q1  H1       July   Thursday  "
      ]
     },
     "execution_count": 81,
     "metadata": {},
     "output_type": "execute_result"
    }
   ],
   "source": [
    "cims_fy21['dayOfWeek'] = cims_fy21['Published date'].dt.day_name()\n",
    "cims_fy21.head(3)"
   ]
  },
  {
   "cell_type": "code",
   "execution_count": 82,
   "id": "1b300fb9",
   "metadata": {},
   "outputs": [
    {
     "data": {
      "text/html": [
       "<div>\n",
       "<style scoped>\n",
       "    .dataframe tbody tr th:only-of-type {\n",
       "        vertical-align: middle;\n",
       "    }\n",
       "\n",
       "    .dataframe tbody tr th {\n",
       "        vertical-align: top;\n",
       "    }\n",
       "\n",
       "    .dataframe thead th {\n",
       "        text-align: right;\n",
       "    }\n",
       "</style>\n",
       "<table border=\"1\" class=\"dataframe\">\n",
       "  <thead>\n",
       "    <tr style=\"text-align: right;\">\n",
       "      <th></th>\n",
       "      <th>Article ID</th>\n",
       "      <th>Published date</th>\n",
       "      <th>Headline</th>\n",
       "      <th>Url</th>\n",
       "      <th>Outlet Name</th>\n",
       "      <th>Author Name</th>\n",
       "      <th>Country</th>\n",
       "      <th>Language</th>\n",
       "      <th>Impressions</th>\n",
       "      <th>Shares</th>\n",
       "      <th>Coded</th>\n",
       "      <th>Company</th>\n",
       "      <th>FY</th>\n",
       "      <th>Q</th>\n",
       "      <th>H</th>\n",
       "      <th>Full Month</th>\n",
       "      <th>dayOfWeek</th>\n",
       "      <th>Calendar Year</th>\n",
       "    </tr>\n",
       "  </thead>\n",
       "  <tbody>\n",
       "    <tr>\n",
       "      <th>0</th>\n",
       "      <td>5170d8aa3e17b50fb9ea7ef73628a4876fc714d3a01a01...</td>\n",
       "      <td>2021-07-28 12:00:00</td>\n",
       "      <td>Pokémon GO: Niantic removerá banimentos de jog...</td>\n",
       "      <td>https://www.uol.com.br/start/ultimas-noticias/...</td>\n",
       "      <td>uol.com.br</td>\n",
       "      <td>uol.com.br</td>\n",
       "      <td>Brazil</td>\n",
       "      <td>pt</td>\n",
       "      <td>4242778</td>\n",
       "      <td>3.0</td>\n",
       "      <td>NaN</td>\n",
       "      <td>Google</td>\n",
       "      <td>2022</td>\n",
       "      <td>Q1</td>\n",
       "      <td>H1</td>\n",
       "      <td>July</td>\n",
       "      <td>Wednesday</td>\n",
       "      <td>2021</td>\n",
       "    </tr>\n",
       "    <tr>\n",
       "      <th>1</th>\n",
       "      <td>dd932212d5554f9843278147b7d768674b888be829be8e...</td>\n",
       "      <td>2021-07-29 16:36:37</td>\n",
       "      <td>Grupo Volkswagen gana hasta junio 8,104 mde, t...</td>\n",
       "      <td>https://www.forbes.com.mx/grupo-volkswagen-gan...</td>\n",
       "      <td>forbes.com.mx</td>\n",
       "      <td>Forbes Staff</td>\n",
       "      <td>Mexico</td>\n",
       "      <td>es</td>\n",
       "      <td>216233</td>\n",
       "      <td>1.0</td>\n",
       "      <td>NaN</td>\n",
       "      <td>Google</td>\n",
       "      <td>2022</td>\n",
       "      <td>Q1</td>\n",
       "      <td>H1</td>\n",
       "      <td>July</td>\n",
       "      <td>Thursday</td>\n",
       "      <td>2021</td>\n",
       "    </tr>\n",
       "    <tr>\n",
       "      <th>2</th>\n",
       "      <td>db8dc1da46920597b714befda0c106b7b7e2ff132e8472...</td>\n",
       "      <td>2021-07-29 14:40:00</td>\n",
       "      <td>6 jogos e apps de Pokémon para aproveitar no c...</td>\n",
       "      <td>https://tecnoblog.net/468636/6-jogos-e-apps-de...</td>\n",
       "      <td>tecnoblog.net</td>\n",
       "      <td>https://www.facebook.com/leandro.kovacs</td>\n",
       "      <td>Brazil</td>\n",
       "      <td>pt</td>\n",
       "      <td>124433</td>\n",
       "      <td>0.0</td>\n",
       "      <td>NaN</td>\n",
       "      <td>Google</td>\n",
       "      <td>2022</td>\n",
       "      <td>Q1</td>\n",
       "      <td>H1</td>\n",
       "      <td>July</td>\n",
       "      <td>Thursday</td>\n",
       "      <td>2021</td>\n",
       "    </tr>\n",
       "  </tbody>\n",
       "</table>\n",
       "</div>"
      ],
      "text/plain": [
       "                                          Article ID      Published date  \\\n",
       "0  5170d8aa3e17b50fb9ea7ef73628a4876fc714d3a01a01... 2021-07-28 12:00:00   \n",
       "1  dd932212d5554f9843278147b7d768674b888be829be8e... 2021-07-29 16:36:37   \n",
       "2  db8dc1da46920597b714befda0c106b7b7e2ff132e8472... 2021-07-29 14:40:00   \n",
       "\n",
       "                                            Headline  \\\n",
       "0  Pokémon GO: Niantic removerá banimentos de jog...   \n",
       "1  Grupo Volkswagen gana hasta junio 8,104 mde, t...   \n",
       "2  6 jogos e apps de Pokémon para aproveitar no c...   \n",
       "\n",
       "                                                 Url    Outlet Name  \\\n",
       "0  https://www.uol.com.br/start/ultimas-noticias/...     uol.com.br   \n",
       "1  https://www.forbes.com.mx/grupo-volkswagen-gan...  forbes.com.mx   \n",
       "2  https://tecnoblog.net/468636/6-jogos-e-apps-de...  tecnoblog.net   \n",
       "\n",
       "                               Author Name Country Language  Impressions  \\\n",
       "0                               uol.com.br  Brazil       pt      4242778   \n",
       "1                             Forbes Staff  Mexico       es       216233   \n",
       "2  https://www.facebook.com/leandro.kovacs  Brazil       pt       124433   \n",
       "\n",
       "   Shares  Coded Company    FY   Q   H Full Month  dayOfWeek  Calendar Year  \n",
       "0     3.0    NaN  Google  2022  Q1  H1       July  Wednesday           2021  \n",
       "1     1.0    NaN  Google  2022  Q1  H1       July   Thursday           2021  \n",
       "2     0.0    NaN  Google  2022  Q1  H1       July   Thursday           2021  "
      ]
     },
     "execution_count": 82,
     "metadata": {},
     "output_type": "execute_result"
    }
   ],
   "source": [
    "cims_fy21['Calendar Year'] = pd.DatetimeIndex(cims_fy21['Published date']).year\n",
    "cims_fy21.head(3)"
   ]
  },
  {
   "cell_type": "code",
   "execution_count": 83,
   "id": "e604cadc",
   "metadata": {},
   "outputs": [
    {
     "data": {
      "text/html": [
       "<div>\n",
       "<style scoped>\n",
       "    .dataframe tbody tr th:only-of-type {\n",
       "        vertical-align: middle;\n",
       "    }\n",
       "\n",
       "    .dataframe tbody tr th {\n",
       "        vertical-align: top;\n",
       "    }\n",
       "\n",
       "    .dataframe thead th {\n",
       "        text-align: right;\n",
       "    }\n",
       "</style>\n",
       "<table border=\"1\" class=\"dataframe\">\n",
       "  <thead>\n",
       "    <tr style=\"text-align: right;\">\n",
       "      <th></th>\n",
       "      <th>Article ID</th>\n",
       "      <th>Published date</th>\n",
       "      <th>Headline</th>\n",
       "      <th>Url</th>\n",
       "      <th>Outlet Name</th>\n",
       "      <th>Author Name</th>\n",
       "      <th>Country</th>\n",
       "      <th>Language</th>\n",
       "      <th>Impressions</th>\n",
       "      <th>Shares</th>\n",
       "      <th>Coded</th>\n",
       "      <th>Company</th>\n",
       "      <th>FY</th>\n",
       "      <th>Q</th>\n",
       "      <th>H</th>\n",
       "      <th>Full Month</th>\n",
       "      <th>dayOfWeek</th>\n",
       "      <th>Calendar Year</th>\n",
       "      <th>Calendar Month</th>\n",
       "    </tr>\n",
       "  </thead>\n",
       "  <tbody>\n",
       "    <tr>\n",
       "      <th>0</th>\n",
       "      <td>5170d8aa3e17b50fb9ea7ef73628a4876fc714d3a01a01...</td>\n",
       "      <td>2021-07-28 12:00:00</td>\n",
       "      <td>Pokémon GO: Niantic removerá banimentos de jog...</td>\n",
       "      <td>https://www.uol.com.br/start/ultimas-noticias/...</td>\n",
       "      <td>uol.com.br</td>\n",
       "      <td>uol.com.br</td>\n",
       "      <td>Brazil</td>\n",
       "      <td>pt</td>\n",
       "      <td>4242778</td>\n",
       "      <td>3.0</td>\n",
       "      <td>NaN</td>\n",
       "      <td>Google</td>\n",
       "      <td>2022</td>\n",
       "      <td>Q1</td>\n",
       "      <td>H1</td>\n",
       "      <td>July</td>\n",
       "      <td>Wednesday</td>\n",
       "      <td>2021</td>\n",
       "      <td>7</td>\n",
       "    </tr>\n",
       "    <tr>\n",
       "      <th>1</th>\n",
       "      <td>dd932212d5554f9843278147b7d768674b888be829be8e...</td>\n",
       "      <td>2021-07-29 16:36:37</td>\n",
       "      <td>Grupo Volkswagen gana hasta junio 8,104 mde, t...</td>\n",
       "      <td>https://www.forbes.com.mx/grupo-volkswagen-gan...</td>\n",
       "      <td>forbes.com.mx</td>\n",
       "      <td>Forbes Staff</td>\n",
       "      <td>Mexico</td>\n",
       "      <td>es</td>\n",
       "      <td>216233</td>\n",
       "      <td>1.0</td>\n",
       "      <td>NaN</td>\n",
       "      <td>Google</td>\n",
       "      <td>2022</td>\n",
       "      <td>Q1</td>\n",
       "      <td>H1</td>\n",
       "      <td>July</td>\n",
       "      <td>Thursday</td>\n",
       "      <td>2021</td>\n",
       "      <td>7</td>\n",
       "    </tr>\n",
       "    <tr>\n",
       "      <th>2</th>\n",
       "      <td>db8dc1da46920597b714befda0c106b7b7e2ff132e8472...</td>\n",
       "      <td>2021-07-29 14:40:00</td>\n",
       "      <td>6 jogos e apps de Pokémon para aproveitar no c...</td>\n",
       "      <td>https://tecnoblog.net/468636/6-jogos-e-apps-de...</td>\n",
       "      <td>tecnoblog.net</td>\n",
       "      <td>https://www.facebook.com/leandro.kovacs</td>\n",
       "      <td>Brazil</td>\n",
       "      <td>pt</td>\n",
       "      <td>124433</td>\n",
       "      <td>0.0</td>\n",
       "      <td>NaN</td>\n",
       "      <td>Google</td>\n",
       "      <td>2022</td>\n",
       "      <td>Q1</td>\n",
       "      <td>H1</td>\n",
       "      <td>July</td>\n",
       "      <td>Thursday</td>\n",
       "      <td>2021</td>\n",
       "      <td>7</td>\n",
       "    </tr>\n",
       "  </tbody>\n",
       "</table>\n",
       "</div>"
      ],
      "text/plain": [
       "                                          Article ID      Published date  \\\n",
       "0  5170d8aa3e17b50fb9ea7ef73628a4876fc714d3a01a01... 2021-07-28 12:00:00   \n",
       "1  dd932212d5554f9843278147b7d768674b888be829be8e... 2021-07-29 16:36:37   \n",
       "2  db8dc1da46920597b714befda0c106b7b7e2ff132e8472... 2021-07-29 14:40:00   \n",
       "\n",
       "                                            Headline  \\\n",
       "0  Pokémon GO: Niantic removerá banimentos de jog...   \n",
       "1  Grupo Volkswagen gana hasta junio 8,104 mde, t...   \n",
       "2  6 jogos e apps de Pokémon para aproveitar no c...   \n",
       "\n",
       "                                                 Url    Outlet Name  \\\n",
       "0  https://www.uol.com.br/start/ultimas-noticias/...     uol.com.br   \n",
       "1  https://www.forbes.com.mx/grupo-volkswagen-gan...  forbes.com.mx   \n",
       "2  https://tecnoblog.net/468636/6-jogos-e-apps-de...  tecnoblog.net   \n",
       "\n",
       "                               Author Name Country Language  Impressions  \\\n",
       "0                               uol.com.br  Brazil       pt      4242778   \n",
       "1                             Forbes Staff  Mexico       es       216233   \n",
       "2  https://www.facebook.com/leandro.kovacs  Brazil       pt       124433   \n",
       "\n",
       "   Shares  Coded Company    FY   Q   H Full Month  dayOfWeek  Calendar Year  \\\n",
       "0     3.0    NaN  Google  2022  Q1  H1       July  Wednesday           2021   \n",
       "1     1.0    NaN  Google  2022  Q1  H1       July   Thursday           2021   \n",
       "2     0.0    NaN  Google  2022  Q1  H1       July   Thursday           2021   \n",
       "\n",
       "   Calendar Month  \n",
       "0               7  \n",
       "1               7  \n",
       "2               7  "
      ]
     },
     "execution_count": 83,
     "metadata": {},
     "output_type": "execute_result"
    }
   ],
   "source": [
    "cims_fy21['Calendar Month'] = pd.DatetimeIndex(cims_fy21['Published date']).month\n",
    "cims_fy21.head(3)"
   ]
  },
  {
   "cell_type": "code",
   "execution_count": 84,
   "id": "58b27591",
   "metadata": {},
   "outputs": [
    {
     "data": {
      "text/plain": [
       "(16379, 19)"
      ]
     },
     "execution_count": 84,
     "metadata": {},
     "output_type": "execute_result"
    }
   ],
   "source": [
    "cims_fy21.shape"
   ]
  },
  {
   "cell_type": "markdown",
   "id": "46fa441c",
   "metadata": {},
   "source": [
    "### Highlight 'ct.moreover' Urls"
   ]
  },
  {
   "cell_type": "code",
   "execution_count": 85,
   "id": "abee66c6",
   "metadata": {},
   "outputs": [
    {
     "data": {
      "text/html": [
       "<div>\n",
       "<style scoped>\n",
       "    .dataframe tbody tr th:only-of-type {\n",
       "        vertical-align: middle;\n",
       "    }\n",
       "\n",
       "    .dataframe tbody tr th {\n",
       "        vertical-align: top;\n",
       "    }\n",
       "\n",
       "    .dataframe thead th {\n",
       "        text-align: right;\n",
       "    }\n",
       "</style>\n",
       "<table border=\"1\" class=\"dataframe\">\n",
       "  <thead>\n",
       "    <tr style=\"text-align: right;\">\n",
       "      <th></th>\n",
       "      <th>Article ID</th>\n",
       "      <th>Published date</th>\n",
       "      <th>Headline</th>\n",
       "      <th>Url</th>\n",
       "      <th>Outlet Name</th>\n",
       "      <th>Author Name</th>\n",
       "      <th>Country</th>\n",
       "      <th>Language</th>\n",
       "      <th>Impressions</th>\n",
       "      <th>Shares</th>\n",
       "      <th>Coded</th>\n",
       "      <th>Company</th>\n",
       "      <th>FY</th>\n",
       "      <th>Q</th>\n",
       "      <th>H</th>\n",
       "      <th>Full Month</th>\n",
       "      <th>dayOfWeek</th>\n",
       "      <th>Calendar Year</th>\n",
       "      <th>Calendar Month</th>\n",
       "      <th>CIMS Url</th>\n",
       "    </tr>\n",
       "  </thead>\n",
       "  <tbody>\n",
       "    <tr>\n",
       "      <th>0</th>\n",
       "      <td>5170d8aa3e17b50fb9ea7ef73628a4876fc714d3a01a01...</td>\n",
       "      <td>2021-07-28 12:00:00</td>\n",
       "      <td>Pokémon GO: Niantic removerá banimentos de jog...</td>\n",
       "      <td>https://www.uol.com.br/start/ultimas-noticias/...</td>\n",
       "      <td>uol.com.br</td>\n",
       "      <td>uol.com.br</td>\n",
       "      <td>Brazil</td>\n",
       "      <td>pt</td>\n",
       "      <td>4242778</td>\n",
       "      <td>3.0</td>\n",
       "      <td>NaN</td>\n",
       "      <td>Google</td>\n",
       "      <td>2022</td>\n",
       "      <td>Q1</td>\n",
       "      <td>H1</td>\n",
       "      <td>July</td>\n",
       "      <td>Wednesday</td>\n",
       "      <td>2021</td>\n",
       "      <td>7</td>\n",
       "      <td>0</td>\n",
       "    </tr>\n",
       "    <tr>\n",
       "      <th>1</th>\n",
       "      <td>dd932212d5554f9843278147b7d768674b888be829be8e...</td>\n",
       "      <td>2021-07-29 16:36:37</td>\n",
       "      <td>Grupo Volkswagen gana hasta junio 8,104 mde, t...</td>\n",
       "      <td>https://www.forbes.com.mx/grupo-volkswagen-gan...</td>\n",
       "      <td>forbes.com.mx</td>\n",
       "      <td>Forbes Staff</td>\n",
       "      <td>Mexico</td>\n",
       "      <td>es</td>\n",
       "      <td>216233</td>\n",
       "      <td>1.0</td>\n",
       "      <td>NaN</td>\n",
       "      <td>Google</td>\n",
       "      <td>2022</td>\n",
       "      <td>Q1</td>\n",
       "      <td>H1</td>\n",
       "      <td>July</td>\n",
       "      <td>Thursday</td>\n",
       "      <td>2021</td>\n",
       "      <td>7</td>\n",
       "      <td>0</td>\n",
       "    </tr>\n",
       "    <tr>\n",
       "      <th>2</th>\n",
       "      <td>db8dc1da46920597b714befda0c106b7b7e2ff132e8472...</td>\n",
       "      <td>2021-07-29 14:40:00</td>\n",
       "      <td>6 jogos e apps de Pokémon para aproveitar no c...</td>\n",
       "      <td>https://tecnoblog.net/468636/6-jogos-e-apps-de...</td>\n",
       "      <td>tecnoblog.net</td>\n",
       "      <td>https://www.facebook.com/leandro.kovacs</td>\n",
       "      <td>Brazil</td>\n",
       "      <td>pt</td>\n",
       "      <td>124433</td>\n",
       "      <td>0.0</td>\n",
       "      <td>NaN</td>\n",
       "      <td>Google</td>\n",
       "      <td>2022</td>\n",
       "      <td>Q1</td>\n",
       "      <td>H1</td>\n",
       "      <td>July</td>\n",
       "      <td>Thursday</td>\n",
       "      <td>2021</td>\n",
       "      <td>7</td>\n",
       "      <td>0</td>\n",
       "    </tr>\n",
       "  </tbody>\n",
       "</table>\n",
       "</div>"
      ],
      "text/plain": [
       "                                          Article ID      Published date  \\\n",
       "0  5170d8aa3e17b50fb9ea7ef73628a4876fc714d3a01a01... 2021-07-28 12:00:00   \n",
       "1  dd932212d5554f9843278147b7d768674b888be829be8e... 2021-07-29 16:36:37   \n",
       "2  db8dc1da46920597b714befda0c106b7b7e2ff132e8472... 2021-07-29 14:40:00   \n",
       "\n",
       "                                            Headline  \\\n",
       "0  Pokémon GO: Niantic removerá banimentos de jog...   \n",
       "1  Grupo Volkswagen gana hasta junio 8,104 mde, t...   \n",
       "2  6 jogos e apps de Pokémon para aproveitar no c...   \n",
       "\n",
       "                                                 Url    Outlet Name  \\\n",
       "0  https://www.uol.com.br/start/ultimas-noticias/...     uol.com.br   \n",
       "1  https://www.forbes.com.mx/grupo-volkswagen-gan...  forbes.com.mx   \n",
       "2  https://tecnoblog.net/468636/6-jogos-e-apps-de...  tecnoblog.net   \n",
       "\n",
       "                               Author Name Country Language  Impressions  \\\n",
       "0                               uol.com.br  Brazil       pt      4242778   \n",
       "1                             Forbes Staff  Mexico       es       216233   \n",
       "2  https://www.facebook.com/leandro.kovacs  Brazil       pt       124433   \n",
       "\n",
       "   Shares  Coded Company    FY   Q   H Full Month  dayOfWeek  Calendar Year  \\\n",
       "0     3.0    NaN  Google  2022  Q1  H1       July  Wednesday           2021   \n",
       "1     1.0    NaN  Google  2022  Q1  H1       July   Thursday           2021   \n",
       "2     0.0    NaN  Google  2022  Q1  H1       July   Thursday           2021   \n",
       "\n",
       "   Calendar Month  CIMS Url  \n",
       "0               7         0  \n",
       "1               7         0  \n",
       "2               7         0  "
      ]
     },
     "execution_count": 85,
     "metadata": {},
     "output_type": "execute_result"
    }
   ],
   "source": [
    "cims_fy21['CIMS Url'] = cims_fy21['Url'].str.contains('ct.moreover', case=False, na=False).astype(int)\n",
    "cims_fy21.head(3)"
   ]
  },
  {
   "cell_type": "code",
   "execution_count": 86,
   "id": "939321be",
   "metadata": {},
   "outputs": [
    {
     "data": {
      "text/html": [
       "<div>\n",
       "<style scoped>\n",
       "    .dataframe tbody tr th:only-of-type {\n",
       "        vertical-align: middle;\n",
       "    }\n",
       "\n",
       "    .dataframe tbody tr th {\n",
       "        vertical-align: top;\n",
       "    }\n",
       "\n",
       "    .dataframe thead th {\n",
       "        text-align: right;\n",
       "    }\n",
       "</style>\n",
       "<table border=\"1\" class=\"dataframe\">\n",
       "  <thead>\n",
       "    <tr style=\"text-align: right;\">\n",
       "      <th></th>\n",
       "      <th>Article ID</th>\n",
       "      <th>Published date</th>\n",
       "      <th>Headline</th>\n",
       "      <th>Url</th>\n",
       "      <th>Outlet Name</th>\n",
       "      <th>Author Name</th>\n",
       "      <th>Country</th>\n",
       "      <th>Language</th>\n",
       "      <th>Impressions</th>\n",
       "      <th>Shares</th>\n",
       "      <th>Coded</th>\n",
       "      <th>Company</th>\n",
       "      <th>FY</th>\n",
       "      <th>Q</th>\n",
       "      <th>H</th>\n",
       "      <th>Full Month</th>\n",
       "      <th>dayOfWeek</th>\n",
       "      <th>Calendar Year</th>\n",
       "      <th>Calendar Month</th>\n",
       "      <th>CIMS Url</th>\n",
       "      <th>Data Source</th>\n",
       "    </tr>\n",
       "  </thead>\n",
       "  <tbody>\n",
       "    <tr>\n",
       "      <th>0</th>\n",
       "      <td>5170d8aa3e17b50fb9ea7ef73628a4876fc714d3a01a01...</td>\n",
       "      <td>2021-07-28 12:00:00</td>\n",
       "      <td>Pokémon GO: Niantic removerá banimentos de jog...</td>\n",
       "      <td>https://www.uol.com.br/start/ultimas-noticias/...</td>\n",
       "      <td>uol.com.br</td>\n",
       "      <td>uol.com.br</td>\n",
       "      <td>Brazil</td>\n",
       "      <td>pt</td>\n",
       "      <td>4242778</td>\n",
       "      <td>3.0</td>\n",
       "      <td>NaN</td>\n",
       "      <td>Google</td>\n",
       "      <td>2022</td>\n",
       "      <td>Q1</td>\n",
       "      <td>H1</td>\n",
       "      <td>July</td>\n",
       "      <td>Wednesday</td>\n",
       "      <td>2021</td>\n",
       "      <td>7</td>\n",
       "      <td>0</td>\n",
       "      <td>CIMS</td>\n",
       "    </tr>\n",
       "    <tr>\n",
       "      <th>1</th>\n",
       "      <td>dd932212d5554f9843278147b7d768674b888be829be8e...</td>\n",
       "      <td>2021-07-29 16:36:37</td>\n",
       "      <td>Grupo Volkswagen gana hasta junio 8,104 mde, t...</td>\n",
       "      <td>https://www.forbes.com.mx/grupo-volkswagen-gan...</td>\n",
       "      <td>forbes.com.mx</td>\n",
       "      <td>Forbes Staff</td>\n",
       "      <td>Mexico</td>\n",
       "      <td>es</td>\n",
       "      <td>216233</td>\n",
       "      <td>1.0</td>\n",
       "      <td>NaN</td>\n",
       "      <td>Google</td>\n",
       "      <td>2022</td>\n",
       "      <td>Q1</td>\n",
       "      <td>H1</td>\n",
       "      <td>July</td>\n",
       "      <td>Thursday</td>\n",
       "      <td>2021</td>\n",
       "      <td>7</td>\n",
       "      <td>0</td>\n",
       "      <td>CIMS</td>\n",
       "    </tr>\n",
       "    <tr>\n",
       "      <th>2</th>\n",
       "      <td>db8dc1da46920597b714befda0c106b7b7e2ff132e8472...</td>\n",
       "      <td>2021-07-29 14:40:00</td>\n",
       "      <td>6 jogos e apps de Pokémon para aproveitar no c...</td>\n",
       "      <td>https://tecnoblog.net/468636/6-jogos-e-apps-de...</td>\n",
       "      <td>tecnoblog.net</td>\n",
       "      <td>https://www.facebook.com/leandro.kovacs</td>\n",
       "      <td>Brazil</td>\n",
       "      <td>pt</td>\n",
       "      <td>124433</td>\n",
       "      <td>0.0</td>\n",
       "      <td>NaN</td>\n",
       "      <td>Google</td>\n",
       "      <td>2022</td>\n",
       "      <td>Q1</td>\n",
       "      <td>H1</td>\n",
       "      <td>July</td>\n",
       "      <td>Thursday</td>\n",
       "      <td>2021</td>\n",
       "      <td>7</td>\n",
       "      <td>0</td>\n",
       "      <td>CIMS</td>\n",
       "    </tr>\n",
       "    <tr>\n",
       "      <th>3</th>\n",
       "      <td>bd33a0b676a0346367f4a4330b501de0269d337f30160b...</td>\n",
       "      <td>2021-07-29 15:03:43</td>\n",
       "      <td>De Facebook a Twitter, grandes tecnológicas co...</td>\n",
       "      <td>https://www.ambito.com/informacion-general/com...</td>\n",
       "      <td>ambito.com</td>\n",
       "      <td>ambito.com</td>\n",
       "      <td>Argentina</td>\n",
       "      <td>es</td>\n",
       "      <td>240247</td>\n",
       "      <td>1.0</td>\n",
       "      <td>NaN</td>\n",
       "      <td>Google</td>\n",
       "      <td>2022</td>\n",
       "      <td>Q1</td>\n",
       "      <td>H1</td>\n",
       "      <td>July</td>\n",
       "      <td>Thursday</td>\n",
       "      <td>2021</td>\n",
       "      <td>7</td>\n",
       "      <td>0</td>\n",
       "      <td>CIMS</td>\n",
       "    </tr>\n",
       "    <tr>\n",
       "      <th>4</th>\n",
       "      <td>8d0b43debb18cedbead3b41bf0978c816d1c1f04ffc198...</td>\n",
       "      <td>2021-07-27 13:13:28</td>\n",
       "      <td>Android 13 tem um nome de sobremesa? Sim, e o ...</td>\n",
       "      <td>https://canaltech.com.br/android/android-13-te...</td>\n",
       "      <td>canaltech.com.br</td>\n",
       "      <td>Alveni Lisboa</td>\n",
       "      <td>Brazil</td>\n",
       "      <td>pt</td>\n",
       "      <td>285891</td>\n",
       "      <td>0.0</td>\n",
       "      <td>2.0</td>\n",
       "      <td>Google</td>\n",
       "      <td>2022</td>\n",
       "      <td>Q1</td>\n",
       "      <td>H1</td>\n",
       "      <td>July</td>\n",
       "      <td>Tuesday</td>\n",
       "      <td>2021</td>\n",
       "      <td>7</td>\n",
       "      <td>0</td>\n",
       "      <td>CIMS</td>\n",
       "    </tr>\n",
       "    <tr>\n",
       "      <th>5</th>\n",
       "      <td>2a68f3416d3427859411cedd0c1299a6bbb59005351c8c...</td>\n",
       "      <td>2021-07-21 19:11:00</td>\n",
       "      <td>Na \"guerra do streaming\", Netflix faz arriscad...</td>\n",
       "      <td>https://exame.com/tecnologia/na-guerra-do-stre...</td>\n",
       "      <td>exame.com</td>\n",
       "      <td>Thiago Lavado</td>\n",
       "      <td>Brazil</td>\n",
       "      <td>pt</td>\n",
       "      <td>177981</td>\n",
       "      <td>5.0</td>\n",
       "      <td>2.0</td>\n",
       "      <td>Google</td>\n",
       "      <td>2022</td>\n",
       "      <td>Q1</td>\n",
       "      <td>H1</td>\n",
       "      <td>July</td>\n",
       "      <td>Wednesday</td>\n",
       "      <td>2021</td>\n",
       "      <td>7</td>\n",
       "      <td>0</td>\n",
       "      <td>CIMS</td>\n",
       "    </tr>\n",
       "    <tr>\n",
       "      <th>6</th>\n",
       "      <td>032280e74059674a635ca892dbec49f14daa25ee95927a...</td>\n",
       "      <td>2021-07-19 15:07:00</td>\n",
       "      <td>Guía práctica para entender y sacarle partido ...</td>\n",
       "      <td>https://www.latercera.com/piensa-digital/notic...</td>\n",
       "      <td>latercera.com</td>\n",
       "      <td>La Tercera</td>\n",
       "      <td>Chile</td>\n",
       "      <td>es</td>\n",
       "      <td>366558</td>\n",
       "      <td>0.0</td>\n",
       "      <td>2.0</td>\n",
       "      <td>Google</td>\n",
       "      <td>2022</td>\n",
       "      <td>Q1</td>\n",
       "      <td>H1</td>\n",
       "      <td>July</td>\n",
       "      <td>Monday</td>\n",
       "      <td>2021</td>\n",
       "      <td>7</td>\n",
       "      <td>0</td>\n",
       "      <td>CIMS</td>\n",
       "    </tr>\n",
       "    <tr>\n",
       "      <th>7</th>\n",
       "      <td>bcf482c8b28d1a72b1e659f0929ec6b7e52b7b1b8a8c68...</td>\n",
       "      <td>2021-07-20 16:04:43</td>\n",
       "      <td>Jeff Bezos viajó por el espacio durante 11 min...</td>\n",
       "      <td>https://www.iprofesional.com/tecnologia/343778...</td>\n",
       "      <td>iprofesional.com</td>\n",
       "      <td>iprofesional.com</td>\n",
       "      <td>Argentina</td>\n",
       "      <td>es</td>\n",
       "      <td>144428</td>\n",
       "      <td>0.0</td>\n",
       "      <td>2.0</td>\n",
       "      <td>Google</td>\n",
       "      <td>2022</td>\n",
       "      <td>Q1</td>\n",
       "      <td>H1</td>\n",
       "      <td>July</td>\n",
       "      <td>Tuesday</td>\n",
       "      <td>2021</td>\n",
       "      <td>7</td>\n",
       "      <td>0</td>\n",
       "      <td>CIMS</td>\n",
       "    </tr>\n",
       "    <tr>\n",
       "      <th>8</th>\n",
       "      <td>d77d5de6c4d1ca3ba84e3bc2aeb7a8dab61323db837ab0...</td>\n",
       "      <td>2021-07-22 21:59:04</td>\n",
       "      <td>G20 acuerda declaración sobre medioambiente si...</td>\n",
       "      <td>https://www.forbes.com.mx/mundo-g20-declaracio...</td>\n",
       "      <td>forbes.com.mx</td>\n",
       "      <td>Forbes Staff</td>\n",
       "      <td>Mexico</td>\n",
       "      <td>es</td>\n",
       "      <td>216233</td>\n",
       "      <td>4.0</td>\n",
       "      <td>NaN</td>\n",
       "      <td>Google</td>\n",
       "      <td>2022</td>\n",
       "      <td>Q1</td>\n",
       "      <td>H1</td>\n",
       "      <td>July</td>\n",
       "      <td>Thursday</td>\n",
       "      <td>2021</td>\n",
       "      <td>7</td>\n",
       "      <td>0</td>\n",
       "      <td>CIMS</td>\n",
       "    </tr>\n",
       "    <tr>\n",
       "      <th>9</th>\n",
       "      <td>f0c92bcb2953f5f2cac3cd137c5a38c8a7270a058b6c32...</td>\n",
       "      <td>2021-07-30 21:36:57</td>\n",
       "      <td>Dia dos Pais 2021: 6 gadgets que seu pai vai a...</td>\n",
       "      <td>https://www.tecmundo.com.br/produto/222167-dia...</td>\n",
       "      <td>tecmundo.com.br</td>\n",
       "      <td>tecmundo.com.br</td>\n",
       "      <td>Brazil</td>\n",
       "      <td>pt</td>\n",
       "      <td>505513</td>\n",
       "      <td>0.0</td>\n",
       "      <td>NaN</td>\n",
       "      <td>Google</td>\n",
       "      <td>2022</td>\n",
       "      <td>Q1</td>\n",
       "      <td>H1</td>\n",
       "      <td>July</td>\n",
       "      <td>Friday</td>\n",
       "      <td>2021</td>\n",
       "      <td>7</td>\n",
       "      <td>0</td>\n",
       "      <td>CIMS</td>\n",
       "    </tr>\n",
       "  </tbody>\n",
       "</table>\n",
       "</div>"
      ],
      "text/plain": [
       "                                          Article ID      Published date  \\\n",
       "0  5170d8aa3e17b50fb9ea7ef73628a4876fc714d3a01a01... 2021-07-28 12:00:00   \n",
       "1  dd932212d5554f9843278147b7d768674b888be829be8e... 2021-07-29 16:36:37   \n",
       "2  db8dc1da46920597b714befda0c106b7b7e2ff132e8472... 2021-07-29 14:40:00   \n",
       "3  bd33a0b676a0346367f4a4330b501de0269d337f30160b... 2021-07-29 15:03:43   \n",
       "4  8d0b43debb18cedbead3b41bf0978c816d1c1f04ffc198... 2021-07-27 13:13:28   \n",
       "5  2a68f3416d3427859411cedd0c1299a6bbb59005351c8c... 2021-07-21 19:11:00   \n",
       "6  032280e74059674a635ca892dbec49f14daa25ee95927a... 2021-07-19 15:07:00   \n",
       "7  bcf482c8b28d1a72b1e659f0929ec6b7e52b7b1b8a8c68... 2021-07-20 16:04:43   \n",
       "8  d77d5de6c4d1ca3ba84e3bc2aeb7a8dab61323db837ab0... 2021-07-22 21:59:04   \n",
       "9  f0c92bcb2953f5f2cac3cd137c5a38c8a7270a058b6c32... 2021-07-30 21:36:57   \n",
       "\n",
       "                                            Headline  \\\n",
       "0  Pokémon GO: Niantic removerá banimentos de jog...   \n",
       "1  Grupo Volkswagen gana hasta junio 8,104 mde, t...   \n",
       "2  6 jogos e apps de Pokémon para aproveitar no c...   \n",
       "3  De Facebook a Twitter, grandes tecnológicas co...   \n",
       "4  Android 13 tem um nome de sobremesa? Sim, e o ...   \n",
       "5  Na \"guerra do streaming\", Netflix faz arriscad...   \n",
       "6  Guía práctica para entender y sacarle partido ...   \n",
       "7  Jeff Bezos viajó por el espacio durante 11 min...   \n",
       "8  G20 acuerda declaración sobre medioambiente si...   \n",
       "9  Dia dos Pais 2021: 6 gadgets que seu pai vai a...   \n",
       "\n",
       "                                                 Url       Outlet Name  \\\n",
       "0  https://www.uol.com.br/start/ultimas-noticias/...        uol.com.br   \n",
       "1  https://www.forbes.com.mx/grupo-volkswagen-gan...     forbes.com.mx   \n",
       "2  https://tecnoblog.net/468636/6-jogos-e-apps-de...     tecnoblog.net   \n",
       "3  https://www.ambito.com/informacion-general/com...        ambito.com   \n",
       "4  https://canaltech.com.br/android/android-13-te...  canaltech.com.br   \n",
       "5  https://exame.com/tecnologia/na-guerra-do-stre...         exame.com   \n",
       "6  https://www.latercera.com/piensa-digital/notic...     latercera.com   \n",
       "7  https://www.iprofesional.com/tecnologia/343778...  iprofesional.com   \n",
       "8  https://www.forbes.com.mx/mundo-g20-declaracio...     forbes.com.mx   \n",
       "9  https://www.tecmundo.com.br/produto/222167-dia...   tecmundo.com.br   \n",
       "\n",
       "                               Author Name    Country Language  Impressions  \\\n",
       "0                               uol.com.br     Brazil       pt      4242778   \n",
       "1                             Forbes Staff     Mexico       es       216233   \n",
       "2  https://www.facebook.com/leandro.kovacs     Brazil       pt       124433   \n",
       "3                               ambito.com  Argentina       es       240247   \n",
       "4                            Alveni Lisboa     Brazil       pt       285891   \n",
       "5                            Thiago Lavado     Brazil       pt       177981   \n",
       "6                               La Tercera      Chile       es       366558   \n",
       "7                         iprofesional.com  Argentina       es       144428   \n",
       "8                             Forbes Staff     Mexico       es       216233   \n",
       "9                          tecmundo.com.br     Brazil       pt       505513   \n",
       "\n",
       "   Shares  Coded Company    FY   Q   H Full Month  dayOfWeek  Calendar Year  \\\n",
       "0     3.0    NaN  Google  2022  Q1  H1       July  Wednesday           2021   \n",
       "1     1.0    NaN  Google  2022  Q1  H1       July   Thursday           2021   \n",
       "2     0.0    NaN  Google  2022  Q1  H1       July   Thursday           2021   \n",
       "3     1.0    NaN  Google  2022  Q1  H1       July   Thursday           2021   \n",
       "4     0.0    2.0  Google  2022  Q1  H1       July    Tuesday           2021   \n",
       "5     5.0    2.0  Google  2022  Q1  H1       July  Wednesday           2021   \n",
       "6     0.0    2.0  Google  2022  Q1  H1       July     Monday           2021   \n",
       "7     0.0    2.0  Google  2022  Q1  H1       July    Tuesday           2021   \n",
       "8     4.0    NaN  Google  2022  Q1  H1       July   Thursday           2021   \n",
       "9     0.0    NaN  Google  2022  Q1  H1       July     Friday           2021   \n",
       "\n",
       "   Calendar Month  CIMS Url Data Source  \n",
       "0               7         0        CIMS  \n",
       "1               7         0        CIMS  \n",
       "2               7         0        CIMS  \n",
       "3               7         0        CIMS  \n",
       "4               7         0        CIMS  \n",
       "5               7         0        CIMS  \n",
       "6               7         0        CIMS  \n",
       "7               7         0        CIMS  \n",
       "8               7         0        CIMS  \n",
       "9               7         0        CIMS  "
      ]
     },
     "execution_count": 86,
     "metadata": {},
     "output_type": "execute_result"
    }
   ],
   "source": [
    "cims_fy21['Data Source']= 'CIMS'\n",
    "cims_fy21.head(10)"
   ]
  },
  {
   "cell_type": "code",
   "execution_count": 87,
   "id": "1dfd3033",
   "metadata": {},
   "outputs": [
    {
     "data": {
      "text/plain": [
       "0    15924\n",
       "1      455\n",
       "Name: CIMS Url, dtype: int64"
      ]
     },
     "execution_count": 87,
     "metadata": {},
     "output_type": "execute_result"
    }
   ],
   "source": [
    "cims_fy21['CIMS Url'].value_counts()"
   ]
  },
  {
   "cell_type": "code",
   "execution_count": 88,
   "id": "9a23e35d",
   "metadata": {},
   "outputs": [
    {
     "data": {
      "text/html": [
       "<div>\n",
       "<style scoped>\n",
       "    .dataframe tbody tr th:only-of-type {\n",
       "        vertical-align: middle;\n",
       "    }\n",
       "\n",
       "    .dataframe tbody tr th {\n",
       "        vertical-align: top;\n",
       "    }\n",
       "\n",
       "    .dataframe thead th {\n",
       "        text-align: right;\n",
       "    }\n",
       "</style>\n",
       "<table border=\"1\" class=\"dataframe\">\n",
       "  <thead>\n",
       "    <tr style=\"text-align: right;\">\n",
       "      <th></th>\n",
       "      <th>ArticleID</th>\n",
       "      <th>Publisheddate</th>\n",
       "      <th>Headline</th>\n",
       "      <th>Url</th>\n",
       "      <th>OutletName</th>\n",
       "      <th>AuthorName</th>\n",
       "      <th>Country</th>\n",
       "      <th>Language</th>\n",
       "      <th>Impressions</th>\n",
       "      <th>Shares</th>\n",
       "      <th>Coded</th>\n",
       "      <th>Company</th>\n",
       "      <th>FY</th>\n",
       "      <th>Q</th>\n",
       "      <th>H</th>\n",
       "      <th>FullMonth</th>\n",
       "      <th>dayOfWeek</th>\n",
       "      <th>CalendarYear</th>\n",
       "      <th>CalendarMonth</th>\n",
       "      <th>CIMSUrl</th>\n",
       "      <th>DataSource</th>\n",
       "    </tr>\n",
       "  </thead>\n",
       "  <tbody>\n",
       "    <tr>\n",
       "      <th>0</th>\n",
       "      <td>5170d8aa3e17b50fb9ea7ef73628a4876fc714d3a01a01...</td>\n",
       "      <td>2021-07-28 12:00:00</td>\n",
       "      <td>Pokémon GO: Niantic removerá banimentos de jog...</td>\n",
       "      <td>https://www.uol.com.br/start/ultimas-noticias/...</td>\n",
       "      <td>uol.com.br</td>\n",
       "      <td>uol.com.br</td>\n",
       "      <td>Brazil</td>\n",
       "      <td>pt</td>\n",
       "      <td>4242778</td>\n",
       "      <td>3.0</td>\n",
       "      <td>NaN</td>\n",
       "      <td>Google</td>\n",
       "      <td>2022</td>\n",
       "      <td>Q1</td>\n",
       "      <td>H1</td>\n",
       "      <td>July</td>\n",
       "      <td>Wednesday</td>\n",
       "      <td>2021</td>\n",
       "      <td>7</td>\n",
       "      <td>0</td>\n",
       "      <td>CIMS</td>\n",
       "    </tr>\n",
       "    <tr>\n",
       "      <th>1</th>\n",
       "      <td>dd932212d5554f9843278147b7d768674b888be829be8e...</td>\n",
       "      <td>2021-07-29 16:36:37</td>\n",
       "      <td>Grupo Volkswagen gana hasta junio 8,104 mde, t...</td>\n",
       "      <td>https://www.forbes.com.mx/grupo-volkswagen-gan...</td>\n",
       "      <td>forbes.com.mx</td>\n",
       "      <td>Forbes Staff</td>\n",
       "      <td>Mexico</td>\n",
       "      <td>es</td>\n",
       "      <td>216233</td>\n",
       "      <td>1.0</td>\n",
       "      <td>NaN</td>\n",
       "      <td>Google</td>\n",
       "      <td>2022</td>\n",
       "      <td>Q1</td>\n",
       "      <td>H1</td>\n",
       "      <td>July</td>\n",
       "      <td>Thursday</td>\n",
       "      <td>2021</td>\n",
       "      <td>7</td>\n",
       "      <td>0</td>\n",
       "      <td>CIMS</td>\n",
       "    </tr>\n",
       "    <tr>\n",
       "      <th>2</th>\n",
       "      <td>db8dc1da46920597b714befda0c106b7b7e2ff132e8472...</td>\n",
       "      <td>2021-07-29 14:40:00</td>\n",
       "      <td>6 jogos e apps de Pokémon para aproveitar no c...</td>\n",
       "      <td>https://tecnoblog.net/468636/6-jogos-e-apps-de...</td>\n",
       "      <td>tecnoblog.net</td>\n",
       "      <td>https://www.facebook.com/leandro.kovacs</td>\n",
       "      <td>Brazil</td>\n",
       "      <td>pt</td>\n",
       "      <td>124433</td>\n",
       "      <td>0.0</td>\n",
       "      <td>NaN</td>\n",
       "      <td>Google</td>\n",
       "      <td>2022</td>\n",
       "      <td>Q1</td>\n",
       "      <td>H1</td>\n",
       "      <td>July</td>\n",
       "      <td>Thursday</td>\n",
       "      <td>2021</td>\n",
       "      <td>7</td>\n",
       "      <td>0</td>\n",
       "      <td>CIMS</td>\n",
       "    </tr>\n",
       "  </tbody>\n",
       "</table>\n",
       "</div>"
      ],
      "text/plain": [
       "                                           ArticleID       Publisheddate  \\\n",
       "0  5170d8aa3e17b50fb9ea7ef73628a4876fc714d3a01a01... 2021-07-28 12:00:00   \n",
       "1  dd932212d5554f9843278147b7d768674b888be829be8e... 2021-07-29 16:36:37   \n",
       "2  db8dc1da46920597b714befda0c106b7b7e2ff132e8472... 2021-07-29 14:40:00   \n",
       "\n",
       "                                            Headline  \\\n",
       "0  Pokémon GO: Niantic removerá banimentos de jog...   \n",
       "1  Grupo Volkswagen gana hasta junio 8,104 mde, t...   \n",
       "2  6 jogos e apps de Pokémon para aproveitar no c...   \n",
       "\n",
       "                                                 Url     OutletName  \\\n",
       "0  https://www.uol.com.br/start/ultimas-noticias/...     uol.com.br   \n",
       "1  https://www.forbes.com.mx/grupo-volkswagen-gan...  forbes.com.mx   \n",
       "2  https://tecnoblog.net/468636/6-jogos-e-apps-de...  tecnoblog.net   \n",
       "\n",
       "                                AuthorName Country Language  Impressions  \\\n",
       "0                               uol.com.br  Brazil       pt      4242778   \n",
       "1                             Forbes Staff  Mexico       es       216233   \n",
       "2  https://www.facebook.com/leandro.kovacs  Brazil       pt       124433   \n",
       "\n",
       "   Shares  Coded Company    FY   Q   H FullMonth  dayOfWeek  CalendarYear  \\\n",
       "0     3.0    NaN  Google  2022  Q1  H1      July  Wednesday          2021   \n",
       "1     1.0    NaN  Google  2022  Q1  H1      July   Thursday          2021   \n",
       "2     0.0    NaN  Google  2022  Q1  H1      July   Thursday          2021   \n",
       "\n",
       "   CalendarMonth  CIMSUrl DataSource  \n",
       "0              7        0       CIMS  \n",
       "1              7        0       CIMS  \n",
       "2              7        0       CIMS  "
      ]
     },
     "execution_count": 88,
     "metadata": {},
     "output_type": "execute_result"
    }
   ],
   "source": [
    "cims_fy21.columns = cims_fy21.columns.str.replace(' ', '')\n",
    "cims_fy21.head(3)"
   ]
  },
  {
   "cell_type": "code",
   "execution_count": 89,
   "id": "d28a54ae",
   "metadata": {},
   "outputs": [
    {
     "name": "stdout",
     "output_type": "stream",
     "text": [
      "ArticleID\n",
      "Publisheddate\n",
      "Headline\n",
      "Url\n",
      "OutletName\n",
      "AuthorName\n",
      "Country\n",
      "Language\n",
      "Impressions\n",
      "Shares\n",
      "Coded\n",
      "Company\n",
      "FY\n",
      "Q\n",
      "H\n",
      "FullMonth\n",
      "dayOfWeek\n",
      "CalendarYear\n",
      "CalendarMonth\n",
      "CIMSUrl\n",
      "DataSource\n"
     ]
    }
   ],
   "source": [
    "for c in cims_fy21.columns:\n",
    "    print (c)"
   ]
  },
  {
   "cell_type": "code",
   "execution_count": 90,
   "id": "6e8aeda3",
   "metadata": {},
   "outputs": [
    {
     "name": "stdout",
     "output_type": "stream",
     "text": [
      "(15924, 21)\n"
     ]
    },
    {
     "data": {
      "text/html": [
       "<div>\n",
       "<style scoped>\n",
       "    .dataframe tbody tr th:only-of-type {\n",
       "        vertical-align: middle;\n",
       "    }\n",
       "\n",
       "    .dataframe tbody tr th {\n",
       "        vertical-align: top;\n",
       "    }\n",
       "\n",
       "    .dataframe thead th {\n",
       "        text-align: right;\n",
       "    }\n",
       "</style>\n",
       "<table border=\"1\" class=\"dataframe\">\n",
       "  <thead>\n",
       "    <tr style=\"text-align: right;\">\n",
       "      <th></th>\n",
       "      <th>ArticleID</th>\n",
       "      <th>Publisheddate</th>\n",
       "      <th>Headline</th>\n",
       "      <th>Url</th>\n",
       "      <th>OutletName</th>\n",
       "      <th>AuthorName</th>\n",
       "      <th>Country</th>\n",
       "      <th>Language</th>\n",
       "      <th>Impressions</th>\n",
       "      <th>Shares</th>\n",
       "      <th>Coded</th>\n",
       "      <th>Company</th>\n",
       "      <th>FY</th>\n",
       "      <th>Q</th>\n",
       "      <th>H</th>\n",
       "      <th>FullMonth</th>\n",
       "      <th>dayOfWeek</th>\n",
       "      <th>CalendarYear</th>\n",
       "      <th>CalendarMonth</th>\n",
       "      <th>CIMSUrl</th>\n",
       "      <th>DataSource</th>\n",
       "    </tr>\n",
       "  </thead>\n",
       "  <tbody>\n",
       "    <tr>\n",
       "      <th>0</th>\n",
       "      <td>5170d8aa3e17b50fb9ea7ef73628a4876fc714d3a01a01...</td>\n",
       "      <td>2021-07-28 12:00:00</td>\n",
       "      <td>Pokémon GO: Niantic removerá banimentos de jog...</td>\n",
       "      <td>https://www.uol.com.br/start/ultimas-noticias/...</td>\n",
       "      <td>uol.com.br</td>\n",
       "      <td>uol.com.br</td>\n",
       "      <td>Brazil</td>\n",
       "      <td>pt</td>\n",
       "      <td>4242778</td>\n",
       "      <td>3.0</td>\n",
       "      <td>NaN</td>\n",
       "      <td>Google</td>\n",
       "      <td>2022</td>\n",
       "      <td>Q1</td>\n",
       "      <td>H1</td>\n",
       "      <td>July</td>\n",
       "      <td>Wednesday</td>\n",
       "      <td>2021</td>\n",
       "      <td>7</td>\n",
       "      <td>0</td>\n",
       "      <td>CIMS</td>\n",
       "    </tr>\n",
       "    <tr>\n",
       "      <th>1</th>\n",
       "      <td>dd932212d5554f9843278147b7d768674b888be829be8e...</td>\n",
       "      <td>2021-07-29 16:36:37</td>\n",
       "      <td>Grupo Volkswagen gana hasta junio 8,104 mde, t...</td>\n",
       "      <td>https://www.forbes.com.mx/grupo-volkswagen-gan...</td>\n",
       "      <td>forbes.com.mx</td>\n",
       "      <td>Forbes Staff</td>\n",
       "      <td>Mexico</td>\n",
       "      <td>es</td>\n",
       "      <td>216233</td>\n",
       "      <td>1.0</td>\n",
       "      <td>NaN</td>\n",
       "      <td>Google</td>\n",
       "      <td>2022</td>\n",
       "      <td>Q1</td>\n",
       "      <td>H1</td>\n",
       "      <td>July</td>\n",
       "      <td>Thursday</td>\n",
       "      <td>2021</td>\n",
       "      <td>7</td>\n",
       "      <td>0</td>\n",
       "      <td>CIMS</td>\n",
       "    </tr>\n",
       "    <tr>\n",
       "      <th>2</th>\n",
       "      <td>db8dc1da46920597b714befda0c106b7b7e2ff132e8472...</td>\n",
       "      <td>2021-07-29 14:40:00</td>\n",
       "      <td>6 jogos e apps de Pokémon para aproveitar no c...</td>\n",
       "      <td>https://tecnoblog.net/468636/6-jogos-e-apps-de...</td>\n",
       "      <td>tecnoblog.net</td>\n",
       "      <td>https://www.facebook.com/leandro.kovacs</td>\n",
       "      <td>Brazil</td>\n",
       "      <td>pt</td>\n",
       "      <td>124433</td>\n",
       "      <td>0.0</td>\n",
       "      <td>NaN</td>\n",
       "      <td>Google</td>\n",
       "      <td>2022</td>\n",
       "      <td>Q1</td>\n",
       "      <td>H1</td>\n",
       "      <td>July</td>\n",
       "      <td>Thursday</td>\n",
       "      <td>2021</td>\n",
       "      <td>7</td>\n",
       "      <td>0</td>\n",
       "      <td>CIMS</td>\n",
       "    </tr>\n",
       "  </tbody>\n",
       "</table>\n",
       "</div>"
      ],
      "text/plain": [
       "                                           ArticleID       Publisheddate  \\\n",
       "0  5170d8aa3e17b50fb9ea7ef73628a4876fc714d3a01a01... 2021-07-28 12:00:00   \n",
       "1  dd932212d5554f9843278147b7d768674b888be829be8e... 2021-07-29 16:36:37   \n",
       "2  db8dc1da46920597b714befda0c106b7b7e2ff132e8472... 2021-07-29 14:40:00   \n",
       "\n",
       "                                            Headline  \\\n",
       "0  Pokémon GO: Niantic removerá banimentos de jog...   \n",
       "1  Grupo Volkswagen gana hasta junio 8,104 mde, t...   \n",
       "2  6 jogos e apps de Pokémon para aproveitar no c...   \n",
       "\n",
       "                                                 Url     OutletName  \\\n",
       "0  https://www.uol.com.br/start/ultimas-noticias/...     uol.com.br   \n",
       "1  https://www.forbes.com.mx/grupo-volkswagen-gan...  forbes.com.mx   \n",
       "2  https://tecnoblog.net/468636/6-jogos-e-apps-de...  tecnoblog.net   \n",
       "\n",
       "                                AuthorName Country Language  Impressions  \\\n",
       "0                               uol.com.br  Brazil       pt      4242778   \n",
       "1                             Forbes Staff  Mexico       es       216233   \n",
       "2  https://www.facebook.com/leandro.kovacs  Brazil       pt       124433   \n",
       "\n",
       "   Shares  Coded Company    FY   Q   H FullMonth  dayOfWeek  CalendarYear  \\\n",
       "0     3.0    NaN  Google  2022  Q1  H1      July  Wednesday          2021   \n",
       "1     1.0    NaN  Google  2022  Q1  H1      July   Thursday          2021   \n",
       "2     0.0    NaN  Google  2022  Q1  H1      July   Thursday          2021   \n",
       "\n",
       "   CalendarMonth  CIMSUrl DataSource  \n",
       "0              7        0       CIMS  \n",
       "1              7        0       CIMS  \n",
       "2              7        0       CIMS  "
      ]
     },
     "execution_count": 90,
     "metadata": {},
     "output_type": "execute_result"
    }
   ],
   "source": [
    "# Subset CIMS Url == 0\n",
    "cims_fy21_0 = cims_fy21[cims_fy21['CIMSUrl'] == 0]\n",
    "print(cims_fy21_0.shape)\n",
    "cims_fy21_0.head(3)"
   ]
  },
  {
   "cell_type": "code",
   "execution_count": 91,
   "id": "9cd736b7",
   "metadata": {},
   "outputs": [
    {
     "name": "stdout",
     "output_type": "stream",
     "text": [
      "(455, 21)\n"
     ]
    },
    {
     "data": {
      "text/html": [
       "<div>\n",
       "<style scoped>\n",
       "    .dataframe tbody tr th:only-of-type {\n",
       "        vertical-align: middle;\n",
       "    }\n",
       "\n",
       "    .dataframe tbody tr th {\n",
       "        vertical-align: top;\n",
       "    }\n",
       "\n",
       "    .dataframe thead th {\n",
       "        text-align: right;\n",
       "    }\n",
       "</style>\n",
       "<table border=\"1\" class=\"dataframe\">\n",
       "  <thead>\n",
       "    <tr style=\"text-align: right;\">\n",
       "      <th></th>\n",
       "      <th>ArticleID</th>\n",
       "      <th>Publisheddate</th>\n",
       "      <th>Headline</th>\n",
       "      <th>Url</th>\n",
       "      <th>OutletName</th>\n",
       "      <th>AuthorName</th>\n",
       "      <th>Country</th>\n",
       "      <th>Language</th>\n",
       "      <th>Impressions</th>\n",
       "      <th>Shares</th>\n",
       "      <th>Coded</th>\n",
       "      <th>Company</th>\n",
       "      <th>FY</th>\n",
       "      <th>Q</th>\n",
       "      <th>H</th>\n",
       "      <th>FullMonth</th>\n",
       "      <th>dayOfWeek</th>\n",
       "      <th>CalendarYear</th>\n",
       "      <th>CalendarMonth</th>\n",
       "      <th>CIMSUrl</th>\n",
       "      <th>DataSource</th>\n",
       "    </tr>\n",
       "  </thead>\n",
       "  <tbody>\n",
       "    <tr>\n",
       "      <th>32</th>\n",
       "      <td>d9b3e609f321b38aa6848c485066d18e940e44e1816b7c...</td>\n",
       "      <td>2021-07-07 11:46:53</td>\n",
       "      <td>Reportan incidente en parroquia de Condado con...</td>\n",
       "      <td>http://ct.moreover.com/?a=45330846163&amp;p=1e7&amp;v=...</td>\n",
       "      <td>metro.pr</td>\n",
       "      <td>Metro Puerto Rico</td>\n",
       "      <td>Puerto Rico</td>\n",
       "      <td>es</td>\n",
       "      <td>32131</td>\n",
       "      <td>2.0</td>\n",
       "      <td>NaN</td>\n",
       "      <td>Google</td>\n",
       "      <td>2022</td>\n",
       "      <td>Q1</td>\n",
       "      <td>H1</td>\n",
       "      <td>July</td>\n",
       "      <td>Wednesday</td>\n",
       "      <td>2021</td>\n",
       "      <td>7</td>\n",
       "      <td>1</td>\n",
       "      <td>CIMS</td>\n",
       "    </tr>\n",
       "    <tr>\n",
       "      <th>68</th>\n",
       "      <td>4810d21a47e3b12e9e8db23e2c77ca63342918316d3bb7...</td>\n",
       "      <td>2021-07-12 10:00:43</td>\n",
       "      <td>Google Meet ganha máscaras e efeitos; saiba co...</td>\n",
       "      <td>http://ct.moreover.com/?a=45367122246&amp;p=1e7&amp;v=...</td>\n",
       "      <td>techtudo.com.br</td>\n",
       "      <td>Marvin Costa</td>\n",
       "      <td>Brazil</td>\n",
       "      <td>pt</td>\n",
       "      <td>911960</td>\n",
       "      <td>3.0</td>\n",
       "      <td>2.0</td>\n",
       "      <td>Google</td>\n",
       "      <td>2022</td>\n",
       "      <td>Q1</td>\n",
       "      <td>H1</td>\n",
       "      <td>July</td>\n",
       "      <td>Monday</td>\n",
       "      <td>2021</td>\n",
       "      <td>7</td>\n",
       "      <td>1</td>\n",
       "      <td>CIMS</td>\n",
       "    </tr>\n",
       "    <tr>\n",
       "      <th>121</th>\n",
       "      <td>67bae4dd10fa1d4c60fa3af9d12977fa7b60b9ceb34d1f...</td>\n",
       "      <td>2021-07-09 15:53:39</td>\n",
       "      <td>Câmera do WhatsApp tem zoom 'indesejado' após ...</td>\n",
       "      <td>http://ct.moreover.com/?a=45349439394&amp;p=1e7&amp;v=...</td>\n",
       "      <td>techtudo.com.br</td>\n",
       "      <td>TechTudo</td>\n",
       "      <td>Brazil</td>\n",
       "      <td>pt</td>\n",
       "      <td>911960</td>\n",
       "      <td>131.0</td>\n",
       "      <td>NaN</td>\n",
       "      <td>Google</td>\n",
       "      <td>2022</td>\n",
       "      <td>Q1</td>\n",
       "      <td>H1</td>\n",
       "      <td>July</td>\n",
       "      <td>Friday</td>\n",
       "      <td>2021</td>\n",
       "      <td>7</td>\n",
       "      <td>1</td>\n",
       "      <td>CIMS</td>\n",
       "    </tr>\n",
       "  </tbody>\n",
       "</table>\n",
       "</div>"
      ],
      "text/plain": [
       "                                             ArticleID       Publisheddate  \\\n",
       "32   d9b3e609f321b38aa6848c485066d18e940e44e1816b7c... 2021-07-07 11:46:53   \n",
       "68   4810d21a47e3b12e9e8db23e2c77ca63342918316d3bb7... 2021-07-12 10:00:43   \n",
       "121  67bae4dd10fa1d4c60fa3af9d12977fa7b60b9ceb34d1f... 2021-07-09 15:53:39   \n",
       "\n",
       "                                              Headline  \\\n",
       "32   Reportan incidente en parroquia de Condado con...   \n",
       "68   Google Meet ganha máscaras e efeitos; saiba co...   \n",
       "121  Câmera do WhatsApp tem zoom 'indesejado' após ...   \n",
       "\n",
       "                                                   Url       OutletName  \\\n",
       "32   http://ct.moreover.com/?a=45330846163&p=1e7&v=...         metro.pr   \n",
       "68   http://ct.moreover.com/?a=45367122246&p=1e7&v=...  techtudo.com.br   \n",
       "121  http://ct.moreover.com/?a=45349439394&p=1e7&v=...  techtudo.com.br   \n",
       "\n",
       "            AuthorName      Country Language  Impressions  Shares  Coded  \\\n",
       "32   Metro Puerto Rico  Puerto Rico       es        32131     2.0    NaN   \n",
       "68        Marvin Costa       Brazil       pt       911960     3.0    2.0   \n",
       "121           TechTudo       Brazil       pt       911960   131.0    NaN   \n",
       "\n",
       "    Company    FY   Q   H FullMonth  dayOfWeek  CalendarYear  CalendarMonth  \\\n",
       "32   Google  2022  Q1  H1      July  Wednesday          2021              7   \n",
       "68   Google  2022  Q1  H1      July     Monday          2021              7   \n",
       "121  Google  2022  Q1  H1      July     Friday          2021              7   \n",
       "\n",
       "     CIMSUrl DataSource  \n",
       "32         1       CIMS  \n",
       "68         1       CIMS  \n",
       "121        1       CIMS  "
      ]
     },
     "execution_count": 91,
     "metadata": {},
     "output_type": "execute_result"
    }
   ],
   "source": [
    "# Subset CIMS Url == 1\n",
    "cims_fy21_1 = cims_fy21[cims_fy21['CIMSUrl'] == 1]\n",
    "print(cims_fy21_1.shape)\n",
    "cims_fy21_1.head(3)"
   ]
  },
  {
   "cell_type": "code",
   "execution_count": 92,
   "id": "d4935acd",
   "metadata": {},
   "outputs": [
    {
     "name": "stdout",
     "output_type": "stream",
     "text": [
      "(15924, 22)\n"
     ]
    },
    {
     "name": "stderr",
     "output_type": "stream",
     "text": [
      "<ipython-input-92-4788cec8b3f1>:2: SettingWithCopyWarning: \n",
      "A value is trying to be set on a copy of a slice from a DataFrame.\n",
      "Try using .loc[row_indexer,col_indexer] = value instead\n",
      "\n",
      "See the caveats in the documentation: https://pandas.pydata.org/pandas-docs/stable/user_guide/indexing.html#returning-a-view-versus-a-copy\n",
      "  cims_fy21_0['Link'] = cims_fy21_0['Url']\n"
     ]
    },
    {
     "data": {
      "text/html": [
       "<div>\n",
       "<style scoped>\n",
       "    .dataframe tbody tr th:only-of-type {\n",
       "        vertical-align: middle;\n",
       "    }\n",
       "\n",
       "    .dataframe tbody tr th {\n",
       "        vertical-align: top;\n",
       "    }\n",
       "\n",
       "    .dataframe thead th {\n",
       "        text-align: right;\n",
       "    }\n",
       "</style>\n",
       "<table border=\"1\" class=\"dataframe\">\n",
       "  <thead>\n",
       "    <tr style=\"text-align: right;\">\n",
       "      <th></th>\n",
       "      <th>ArticleID</th>\n",
       "      <th>Publisheddate</th>\n",
       "      <th>Headline</th>\n",
       "      <th>Url</th>\n",
       "      <th>OutletName</th>\n",
       "      <th>AuthorName</th>\n",
       "      <th>Country</th>\n",
       "      <th>Language</th>\n",
       "      <th>Impressions</th>\n",
       "      <th>Shares</th>\n",
       "      <th>Coded</th>\n",
       "      <th>Company</th>\n",
       "      <th>FY</th>\n",
       "      <th>Q</th>\n",
       "      <th>H</th>\n",
       "      <th>FullMonth</th>\n",
       "      <th>dayOfWeek</th>\n",
       "      <th>CalendarYear</th>\n",
       "      <th>CalendarMonth</th>\n",
       "      <th>CIMSUrl</th>\n",
       "      <th>DataSource</th>\n",
       "      <th>Link</th>\n",
       "    </tr>\n",
       "  </thead>\n",
       "  <tbody>\n",
       "    <tr>\n",
       "      <th>0</th>\n",
       "      <td>5170d8aa3e17b50fb9ea7ef73628a4876fc714d3a01a01...</td>\n",
       "      <td>2021-07-28 12:00:00</td>\n",
       "      <td>Pokémon GO: Niantic removerá banimentos de jog...</td>\n",
       "      <td>https://www.uol.com.br/start/ultimas-noticias/...</td>\n",
       "      <td>uol.com.br</td>\n",
       "      <td>uol.com.br</td>\n",
       "      <td>Brazil</td>\n",
       "      <td>pt</td>\n",
       "      <td>4242778</td>\n",
       "      <td>3.0</td>\n",
       "      <td>NaN</td>\n",
       "      <td>Google</td>\n",
       "      <td>2022</td>\n",
       "      <td>Q1</td>\n",
       "      <td>H1</td>\n",
       "      <td>July</td>\n",
       "      <td>Wednesday</td>\n",
       "      <td>2021</td>\n",
       "      <td>7</td>\n",
       "      <td>0</td>\n",
       "      <td>CIMS</td>\n",
       "      <td>https://www.uol.com.br/start/ultimas-noticias/...</td>\n",
       "    </tr>\n",
       "    <tr>\n",
       "      <th>1</th>\n",
       "      <td>dd932212d5554f9843278147b7d768674b888be829be8e...</td>\n",
       "      <td>2021-07-29 16:36:37</td>\n",
       "      <td>Grupo Volkswagen gana hasta junio 8,104 mde, t...</td>\n",
       "      <td>https://www.forbes.com.mx/grupo-volkswagen-gan...</td>\n",
       "      <td>forbes.com.mx</td>\n",
       "      <td>Forbes Staff</td>\n",
       "      <td>Mexico</td>\n",
       "      <td>es</td>\n",
       "      <td>216233</td>\n",
       "      <td>1.0</td>\n",
       "      <td>NaN</td>\n",
       "      <td>Google</td>\n",
       "      <td>2022</td>\n",
       "      <td>Q1</td>\n",
       "      <td>H1</td>\n",
       "      <td>July</td>\n",
       "      <td>Thursday</td>\n",
       "      <td>2021</td>\n",
       "      <td>7</td>\n",
       "      <td>0</td>\n",
       "      <td>CIMS</td>\n",
       "      <td>https://www.forbes.com.mx/grupo-volkswagen-gan...</td>\n",
       "    </tr>\n",
       "    <tr>\n",
       "      <th>2</th>\n",
       "      <td>db8dc1da46920597b714befda0c106b7b7e2ff132e8472...</td>\n",
       "      <td>2021-07-29 14:40:00</td>\n",
       "      <td>6 jogos e apps de Pokémon para aproveitar no c...</td>\n",
       "      <td>https://tecnoblog.net/468636/6-jogos-e-apps-de...</td>\n",
       "      <td>tecnoblog.net</td>\n",
       "      <td>https://www.facebook.com/leandro.kovacs</td>\n",
       "      <td>Brazil</td>\n",
       "      <td>pt</td>\n",
       "      <td>124433</td>\n",
       "      <td>0.0</td>\n",
       "      <td>NaN</td>\n",
       "      <td>Google</td>\n",
       "      <td>2022</td>\n",
       "      <td>Q1</td>\n",
       "      <td>H1</td>\n",
       "      <td>July</td>\n",
       "      <td>Thursday</td>\n",
       "      <td>2021</td>\n",
       "      <td>7</td>\n",
       "      <td>0</td>\n",
       "      <td>CIMS</td>\n",
       "      <td>https://tecnoblog.net/468636/6-jogos-e-apps-de...</td>\n",
       "    </tr>\n",
       "  </tbody>\n",
       "</table>\n",
       "</div>"
      ],
      "text/plain": [
       "                                           ArticleID       Publisheddate  \\\n",
       "0  5170d8aa3e17b50fb9ea7ef73628a4876fc714d3a01a01... 2021-07-28 12:00:00   \n",
       "1  dd932212d5554f9843278147b7d768674b888be829be8e... 2021-07-29 16:36:37   \n",
       "2  db8dc1da46920597b714befda0c106b7b7e2ff132e8472... 2021-07-29 14:40:00   \n",
       "\n",
       "                                            Headline  \\\n",
       "0  Pokémon GO: Niantic removerá banimentos de jog...   \n",
       "1  Grupo Volkswagen gana hasta junio 8,104 mde, t...   \n",
       "2  6 jogos e apps de Pokémon para aproveitar no c...   \n",
       "\n",
       "                                                 Url     OutletName  \\\n",
       "0  https://www.uol.com.br/start/ultimas-noticias/...     uol.com.br   \n",
       "1  https://www.forbes.com.mx/grupo-volkswagen-gan...  forbes.com.mx   \n",
       "2  https://tecnoblog.net/468636/6-jogos-e-apps-de...  tecnoblog.net   \n",
       "\n",
       "                                AuthorName Country Language  Impressions  \\\n",
       "0                               uol.com.br  Brazil       pt      4242778   \n",
       "1                             Forbes Staff  Mexico       es       216233   \n",
       "2  https://www.facebook.com/leandro.kovacs  Brazil       pt       124433   \n",
       "\n",
       "   Shares  Coded Company    FY   Q   H FullMonth  dayOfWeek  CalendarYear  \\\n",
       "0     3.0    NaN  Google  2022  Q1  H1      July  Wednesday          2021   \n",
       "1     1.0    NaN  Google  2022  Q1  H1      July   Thursday          2021   \n",
       "2     0.0    NaN  Google  2022  Q1  H1      July   Thursday          2021   \n",
       "\n",
       "   CalendarMonth  CIMSUrl DataSource  \\\n",
       "0              7        0       CIMS   \n",
       "1              7        0       CIMS   \n",
       "2              7        0       CIMS   \n",
       "\n",
       "                                                Link  \n",
       "0  https://www.uol.com.br/start/ultimas-noticias/...  \n",
       "1  https://www.forbes.com.mx/grupo-volkswagen-gan...  \n",
       "2  https://tecnoblog.net/468636/6-jogos-e-apps-de...  "
      ]
     },
     "execution_count": 92,
     "metadata": {},
     "output_type": "execute_result"
    }
   ],
   "source": [
    "# Copy 'Url' Column To 'Link' Column For 'cims_fy21_0' DataFrame\n",
    "cims_fy21_0['Link'] = cims_fy21_0['Url']\n",
    "print(cims_fy21_0.shape)\n",
    "cims_fy21_0.head(3)"
   ]
  },
  {
   "cell_type": "code",
   "execution_count": 93,
   "id": "cb54c4c5",
   "metadata": {},
   "outputs": [
    {
     "name": "stderr",
     "output_type": "stream",
     "text": [
      "C:\\Users\\Dell User\\anaconda3\\envs\\proyectos\\lib\\site-packages\\urllib3\\connectionpool.py:1013: InsecureRequestWarning: Unverified HTTPS request is being made to host 'www.metro.pr'. Adding certificate verification is strongly advised. See: https://urllib3.readthedocs.io/en/1.26.x/advanced-usage.html#ssl-warnings\n",
      "  warnings.warn(\n"
     ]
    },
    {
     "name": "stdout",
     "output_type": "stream",
     "text": [
      "https://www.metro.pr/pr/noticias/2021/07/07/reportan-incidente-en-parroquia-de-condado-con-hombre-que-no-queria-usar-mascarilla.html\n"
     ]
    },
    {
     "name": "stderr",
     "output_type": "stream",
     "text": [
      "C:\\Users\\Dell User\\anaconda3\\envs\\proyectos\\lib\\site-packages\\urllib3\\connectionpool.py:1013: InsecureRequestWarning: Unverified HTTPS request is being made to host 'www.metro.pr'. Adding certificate verification is strongly advised. See: https://urllib3.readthedocs.io/en/1.26.x/advanced-usage.html#ssl-warnings\n",
      "  warnings.warn(\n",
      "C:\\Users\\Dell User\\anaconda3\\envs\\proyectos\\lib\\site-packages\\urllib3\\connectionpool.py:1013: InsecureRequestWarning: Unverified HTTPS request is being made to host 'www.techtudo.com.br'. Adding certificate verification is strongly advised. See: https://urllib3.readthedocs.io/en/1.26.x/advanced-usage.html#ssl-warnings\n",
      "  warnings.warn(\n"
     ]
    },
    {
     "name": "stdout",
     "output_type": "stream",
     "text": [
      "https://www.techtudo.com.br/dicas-e-tutoriais/2021/07/google-meet-ganha-mascaras-e-efeitos-saiba-como-colocar-filtro-no-meet.ghtml\n"
     ]
    },
    {
     "name": "stderr",
     "output_type": "stream",
     "text": [
      "C:\\Users\\Dell User\\anaconda3\\envs\\proyectos\\lib\\site-packages\\urllib3\\connectionpool.py:1013: InsecureRequestWarning: Unverified HTTPS request is being made to host 'www.techtudo.com.br'. Adding certificate verification is strongly advised. See: https://urllib3.readthedocs.io/en/1.26.x/advanced-usage.html#ssl-warnings\n",
      "  warnings.warn(\n",
      "C:\\Users\\Dell User\\anaconda3\\envs\\proyectos\\lib\\site-packages\\urllib3\\connectionpool.py:1013: InsecureRequestWarning: Unverified HTTPS request is being made to host 'www.techtudo.com.br'. Adding certificate verification is strongly advised. See: https://urllib3.readthedocs.io/en/1.26.x/advanced-usage.html#ssl-warnings\n",
      "  warnings.warn(\n"
     ]
    },
    {
     "name": "stdout",
     "output_type": "stream",
     "text": [
      "https://www.techtudo.com.br/noticias/2021/07/camera-do-whatsapp-tem-zoom-indesejado-apos-atualizacao-como-resolver.ghtml\n"
     ]
    },
    {
     "name": "stderr",
     "output_type": "stream",
     "text": [
      "C:\\Users\\Dell User\\anaconda3\\envs\\proyectos\\lib\\site-packages\\urllib3\\connectionpool.py:1013: InsecureRequestWarning: Unverified HTTPS request is being made to host 'www.techtudo.com.br'. Adding certificate verification is strongly advised. See: https://urllib3.readthedocs.io/en/1.26.x/advanced-usage.html#ssl-warnings\n",
      "  warnings.warn(\n",
      "C:\\Users\\Dell User\\anaconda3\\envs\\proyectos\\lib\\site-packages\\urllib3\\connectionpool.py:1013: InsecureRequestWarning: Unverified HTTPS request is being made to host 'www.techtudo.com.br'. Adding certificate verification is strongly advised. See: https://urllib3.readthedocs.io/en/1.26.x/advanced-usage.html#ssl-warnings\n",
      "  warnings.warn(\n"
     ]
    },
    {
     "name": "stdout",
     "output_type": "stream",
     "text": [
      "https://www.techtudo.com.br/listas/2021/07/directv-go-e-bom-veja-precos-e-se-vale-a-pena-assinar.ghtml\n"
     ]
    },
    {
     "name": "stderr",
     "output_type": "stream",
     "text": [
      "C:\\Users\\Dell User\\anaconda3\\envs\\proyectos\\lib\\site-packages\\urllib3\\connectionpool.py:1013: InsecureRequestWarning: Unverified HTTPS request is being made to host 'www.techtudo.com.br'. Adding certificate verification is strongly advised. See: https://urllib3.readthedocs.io/en/1.26.x/advanced-usage.html#ssl-warnings\n",
      "  warnings.warn(\n",
      "C:\\Users\\Dell User\\anaconda3\\envs\\proyectos\\lib\\site-packages\\urllib3\\connectionpool.py:1013: InsecureRequestWarning: Unverified HTTPS request is being made to host 'www.techtudo.com.br'. Adding certificate verification is strongly advised. See: https://urllib3.readthedocs.io/en/1.26.x/advanced-usage.html#ssl-warnings\n",
      "  warnings.warn(\n"
     ]
    },
    {
     "name": "stdout",
     "output_type": "stream",
     "text": [
      "https://www.techtudo.com.br/dicas-e-tutoriais/2021/07/como-impulsionar-no-kwai-saiba-como-colocar-codigo-de-impulso.ghtml\n"
     ]
    },
    {
     "name": "stderr",
     "output_type": "stream",
     "text": [
      "C:\\Users\\Dell User\\anaconda3\\envs\\proyectos\\lib\\site-packages\\urllib3\\connectionpool.py:1013: InsecureRequestWarning: Unverified HTTPS request is being made to host 'www.techtudo.com.br'. Adding certificate verification is strongly advised. See: https://urllib3.readthedocs.io/en/1.26.x/advanced-usage.html#ssl-warnings\n",
      "  warnings.warn(\n",
      "C:\\Users\\Dell User\\anaconda3\\envs\\proyectos\\lib\\site-packages\\urllib3\\connectionpool.py:1013: InsecureRequestWarning: Unverified HTTPS request is being made to host 'noticias.uol.com.br'. Adding certificate verification is strongly advised. See: https://urllib3.readthedocs.io/en/1.26.x/advanced-usage.html#ssl-warnings\n",
      "  warnings.warn(\n"
     ]
    },
    {
     "name": "stdout",
     "output_type": "stream",
     "text": [
      "https://noticias.uol.com.br/comprova/ultimas-noticias/2021/07/16/video-nao-e-de-fazenda-de-filho-do-lula-e-mostra-ovelhas-nao-bois.htm\n"
     ]
    },
    {
     "name": "stderr",
     "output_type": "stream",
     "text": [
      "C:\\Users\\Dell User\\anaconda3\\envs\\proyectos\\lib\\site-packages\\urllib3\\connectionpool.py:1013: InsecureRequestWarning: Unverified HTTPS request is being made to host 'noticias.uol.com.br'. Adding certificate verification is strongly advised. See: https://urllib3.readthedocs.io/en/1.26.x/advanced-usage.html#ssl-warnings\n",
      "  warnings.warn(\n",
      "C:\\Users\\Dell User\\anaconda3\\envs\\proyectos\\lib\\site-packages\\urllib3\\connectionpool.py:1013: InsecureRequestWarning: Unverified HTTPS request is being made to host 'www.radioagricultura.cl'. Adding certificate verification is strongly advised. See: https://urllib3.readthedocs.io/en/1.26.x/advanced-usage.html#ssl-warnings\n",
      "  warnings.warn(\n"
     ]
    },
    {
     "name": "stdout",
     "output_type": "stream",
     "text": [
      "https://www.radioagricultura.cl/nacional/2021/07/20/empresa-tecnologica-nacional-es-la-unica-en-ser-premiada-por-google-a-nivel-mundial.html\n"
     ]
    },
    {
     "name": "stderr",
     "output_type": "stream",
     "text": [
      "C:\\Users\\Dell User\\anaconda3\\envs\\proyectos\\lib\\site-packages\\urllib3\\connectionpool.py:1013: InsecureRequestWarning: Unverified HTTPS request is being made to host 'www.radioagricultura.cl'. Adding certificate verification is strongly advised. See: https://urllib3.readthedocs.io/en/1.26.x/advanced-usage.html#ssl-warnings\n",
      "  warnings.warn(\n",
      "C:\\Users\\Dell User\\anaconda3\\envs\\proyectos\\lib\\site-packages\\urllib3\\connectionpool.py:1013: InsecureRequestWarning: Unverified HTTPS request is being made to host 'www.ambito.com'. Adding certificate verification is strongly advised. See: https://urllib3.readthedocs.io/en/1.26.x/advanced-usage.html#ssl-warnings\n",
      "  warnings.warn(\n"
     ]
    },
    {
     "name": "stdout",
     "output_type": "stream",
     "text": [
      "https://www.ambito.com/informacion-general/whatsapp/cierra-cuentas-partir-noviembre-como-evitarlo-n5237135\n"
     ]
    },
    {
     "name": "stderr",
     "output_type": "stream",
     "text": [
      "C:\\Users\\Dell User\\anaconda3\\envs\\proyectos\\lib\\site-packages\\urllib3\\connectionpool.py:1013: InsecureRequestWarning: Unverified HTTPS request is being made to host 'www.ambito.com'. Adding certificate verification is strongly advised. See: https://urllib3.readthedocs.io/en/1.26.x/advanced-usage.html#ssl-warnings\n",
      "  warnings.warn(\n",
      "C:\\Users\\Dell User\\anaconda3\\envs\\proyectos\\lib\\site-packages\\urllib3\\connectionpool.py:1013: InsecureRequestWarning: Unverified HTTPS request is being made to host 'epocanegocios.globo.com'. Adding certificate verification is strongly advised. See: https://urllib3.readthedocs.io/en/1.26.x/advanced-usage.html#ssl-warnings\n",
      "  warnings.warn(\n"
     ]
    },
    {
     "name": "stdout",
     "output_type": "stream",
     "text": [
      "https://epocanegocios.globo.com/Empresa/noticia/2021/07/epoca-negocios-duolingo-dispara-40-em-estreia-na-nasdaq-avaliado-em-us65-bi.html\n"
     ]
    },
    {
     "name": "stderr",
     "output_type": "stream",
     "text": [
      "C:\\Users\\Dell User\\anaconda3\\envs\\proyectos\\lib\\site-packages\\urllib3\\connectionpool.py:1013: InsecureRequestWarning: Unverified HTTPS request is being made to host 'epocanegocios.globo.com'. Adding certificate verification is strongly advised. See: https://urllib3.readthedocs.io/en/1.26.x/advanced-usage.html#ssl-warnings\n",
      "  warnings.warn(\n",
      "C:\\Users\\Dell User\\anaconda3\\envs\\proyectos\\lib\\site-packages\\urllib3\\connectionpool.py:1013: InsecureRequestWarning: Unverified HTTPS request is being made to host 'www.ambito.com'. Adding certificate verification is strongly advised. See: https://urllib3.readthedocs.io/en/1.26.x/advanced-usage.html#ssl-warnings\n",
      "  warnings.warn(\n"
     ]
    },
    {
     "name": "stdout",
     "output_type": "stream",
     "text": [
      "https://www.ambito.com/finanzas/cedears/los-treparon-22-julio-cuales-fueron-los-10-que-mas-subieron-n5237851\n"
     ]
    },
    {
     "name": "stderr",
     "output_type": "stream",
     "text": [
      "C:\\Users\\Dell User\\anaconda3\\envs\\proyectos\\lib\\site-packages\\urllib3\\connectionpool.py:1013: InsecureRequestWarning: Unverified HTTPS request is being made to host 'www.ambito.com'. Adding certificate verification is strongly advised. See: https://urllib3.readthedocs.io/en/1.26.x/advanced-usage.html#ssl-warnings\n",
      "  warnings.warn(\n",
      "C:\\Users\\Dell User\\anaconda3\\envs\\proyectos\\lib\\site-packages\\urllib3\\connectionpool.py:1013: InsecureRequestWarning: Unverified HTTPS request is being made to host 'www.techtudo.com.br'. Adding certificate verification is strongly advised. See: https://urllib3.readthedocs.io/en/1.26.x/advanced-usage.html#ssl-warnings\n",
      "  warnings.warn(\n"
     ]
    },
    {
     "name": "stdout",
     "output_type": "stream",
     "text": [
      "https://www.techtudo.com.br/noticias/2021/07/motorola-libera-android-11-para-moto-g9-moto-g9-power-e-moto-g9-play.ghtml\n"
     ]
    },
    {
     "name": "stderr",
     "output_type": "stream",
     "text": [
      "C:\\Users\\Dell User\\anaconda3\\envs\\proyectos\\lib\\site-packages\\urllib3\\connectionpool.py:1013: InsecureRequestWarning: Unverified HTTPS request is being made to host 'www.techtudo.com.br'. Adding certificate verification is strongly advised. See: https://urllib3.readthedocs.io/en/1.26.x/advanced-usage.html#ssl-warnings\n",
      "  warnings.warn(\n",
      "C:\\Users\\Dell User\\anaconda3\\envs\\proyectos\\lib\\site-packages\\urllib3\\connectionpool.py:1013: InsecureRequestWarning: Unverified HTTPS request is being made to host 'www.metro.pr'. Adding certificate verification is strongly advised. See: https://urllib3.readthedocs.io/en/1.26.x/advanced-usage.html#ssl-warnings\n",
      "  warnings.warn(\n"
     ]
    },
    {
     "name": "stdout",
     "output_type": "stream",
     "text": [
      "https://www.metro.pr/pr/noticias/2021/07/14/economista-propone-reformar-las-leyes-20-22-incentivos-inversionistas-no-eliminarlas.html\n"
     ]
    },
    {
     "name": "stderr",
     "output_type": "stream",
     "text": [
      "C:\\Users\\Dell User\\anaconda3\\envs\\proyectos\\lib\\site-packages\\urllib3\\connectionpool.py:1013: InsecureRequestWarning: Unverified HTTPS request is being made to host 'www.metro.pr'. Adding certificate verification is strongly advised. See: https://urllib3.readthedocs.io/en/1.26.x/advanced-usage.html#ssl-warnings\n",
      "  warnings.warn(\n",
      "C:\\Users\\Dell User\\anaconda3\\envs\\proyectos\\lib\\site-packages\\urllib3\\connectionpool.py:1013: InsecureRequestWarning: Unverified HTTPS request is being made to host 'www.ambito.com'. Adding certificate verification is strongly advised. See: https://urllib3.readthedocs.io/en/1.26.x/advanced-usage.html#ssl-warnings\n",
      "  warnings.warn(\n",
      "C:\\Users\\Dell User\\anaconda3\\envs\\proyectos\\lib\\site-packages\\urllib3\\connectionpool.py:1013: InsecureRequestWarning: Unverified HTTPS request is being made to host 'www.ambito.com'. Adding certificate verification is strongly advised. See: https://urllib3.readthedocs.io/en/1.26.x/advanced-usage.html#ssl-warnings\n",
      "  warnings.warn(\n"
     ]
    },
    {
     "name": "stdout",
     "output_type": "stream",
     "text": [
      "https://www.ambito.com/finanzas/wall-street/sp-500-y-nasdaq-cayeron-presionados-acciones-tecnologicas-y-energeticas-n5223672\n"
     ]
    },
    {
     "name": "stderr",
     "output_type": "stream",
     "text": [
      "C:\\Users\\Dell User\\anaconda3\\envs\\proyectos\\lib\\site-packages\\urllib3\\connectionpool.py:1013: InsecureRequestWarning: Unverified HTTPS request is being made to host 'www.ambito.com'. Adding certificate verification is strongly advised. See: https://urllib3.readthedocs.io/en/1.26.x/advanced-usage.html#ssl-warnings\n",
      "  warnings.warn(\n",
      "C:\\Users\\Dell User\\anaconda3\\envs\\proyectos\\lib\\site-packages\\urllib3\\connectionpool.py:1013: InsecureRequestWarning: Unverified HTTPS request is being made to host 'www.ambito.com'. Adding certificate verification is strongly advised. See: https://urllib3.readthedocs.io/en/1.26.x/advanced-usage.html#ssl-warnings\n",
      "  warnings.warn(\n",
      "C:\\Users\\Dell User\\anaconda3\\envs\\proyectos\\lib\\site-packages\\urllib3\\connectionpool.py:1013: InsecureRequestWarning: Unverified HTTPS request is being made to host 'www.techtudo.com.br'. Adding certificate verification is strongly advised. See: https://urllib3.readthedocs.io/en/1.26.x/advanced-usage.html#ssl-warnings\n",
      "  warnings.warn(\n"
     ]
    },
    {
     "name": "stdout",
     "output_type": "stream",
     "text": [
      "https://www.techtudo.com.br/listas/2021/07/apps-de-sorteio-6-opcoes-para-sortear-nomes-e-numeros-no-celular.ghtml\n"
     ]
    },
    {
     "name": "stderr",
     "output_type": "stream",
     "text": [
      "C:\\Users\\Dell User\\anaconda3\\envs\\proyectos\\lib\\site-packages\\urllib3\\connectionpool.py:1013: InsecureRequestWarning: Unverified HTTPS request is being made to host 'www.techtudo.com.br'. Adding certificate verification is strongly advised. See: https://urllib3.readthedocs.io/en/1.26.x/advanced-usage.html#ssl-warnings\n",
      "  warnings.warn(\n",
      "C:\\Users\\Dell User\\anaconda3\\envs\\proyectos\\lib\\site-packages\\urllib3\\connectionpool.py:1013: InsecureRequestWarning: Unverified HTTPS request is being made to host 'www.techtudo.com.br'. Adding certificate verification is strongly advised. See: https://urllib3.readthedocs.io/en/1.26.x/advanced-usage.html#ssl-warnings\n",
      "  warnings.warn(\n"
     ]
    },
    {
     "name": "stdout",
     "output_type": "stream",
     "text": [
      "https://www.techtudo.com.br/noticias/2021/07/fogao-smart-eletrico-ou-a-gas-faz-diferenca.ghtml\n"
     ]
    },
    {
     "name": "stderr",
     "output_type": "stream",
     "text": [
      "C:\\Users\\Dell User\\anaconda3\\envs\\proyectos\\lib\\site-packages\\urllib3\\connectionpool.py:1013: InsecureRequestWarning: Unverified HTTPS request is being made to host 'www.techtudo.com.br'. Adding certificate verification is strongly advised. See: https://urllib3.readthedocs.io/en/1.26.x/advanced-usage.html#ssl-warnings\n",
      "  warnings.warn(\n",
      "C:\\Users\\Dell User\\anaconda3\\envs\\proyectos\\lib\\site-packages\\urllib3\\connectionpool.py:1013: InsecureRequestWarning: Unverified HTTPS request is being made to host 'epocanegocios.globo.com'. Adding certificate verification is strongly advised. See: https://urllib3.readthedocs.io/en/1.26.x/advanced-usage.html#ssl-warnings\n",
      "  warnings.warn(\n"
     ]
    },
    {
     "name": "stdout",
     "output_type": "stream",
     "text": [
      "https://epocanegocios.globo.com/Podcast/Negnews/noticia/2021/07/5-perguntas-para-o-presidente-do-google-cloud-para-america-latina.html\n"
     ]
    },
    {
     "name": "stderr",
     "output_type": "stream",
     "text": [
      "C:\\Users\\Dell User\\anaconda3\\envs\\proyectos\\lib\\site-packages\\urllib3\\connectionpool.py:1013: InsecureRequestWarning: Unverified HTTPS request is being made to host 'epocanegocios.globo.com'. Adding certificate verification is strongly advised. See: https://urllib3.readthedocs.io/en/1.26.x/advanced-usage.html#ssl-warnings\n",
      "  warnings.warn(\n",
      "C:\\Users\\Dell User\\anaconda3\\envs\\proyectos\\lib\\site-packages\\urllib3\\connectionpool.py:1013: InsecureRequestWarning: Unverified HTTPS request is being made to host 'www.techtudo.com.br'. Adding certificate verification is strongly advised. See: https://urllib3.readthedocs.io/en/1.26.x/advanced-usage.html#ssl-warnings\n",
      "  warnings.warn(\n"
     ]
    },
    {
     "name": "stdout",
     "output_type": "stream",
     "text": [
      "https://www.techtudo.com.br/noticias/2021/07/realme-c25-ficha-tecnica-preco-e-lancamento.ghtml\n"
     ]
    },
    {
     "name": "stderr",
     "output_type": "stream",
     "text": [
      "C:\\Users\\Dell User\\anaconda3\\envs\\proyectos\\lib\\site-packages\\urllib3\\connectionpool.py:1013: InsecureRequestWarning: Unverified HTTPS request is being made to host 'www.techtudo.com.br'. Adding certificate verification is strongly advised. See: https://urllib3.readthedocs.io/en/1.26.x/advanced-usage.html#ssl-warnings\n",
      "  warnings.warn(\n",
      "C:\\Users\\Dell User\\anaconda3\\envs\\proyectos\\lib\\site-packages\\urllib3\\connectionpool.py:1013: InsecureRequestWarning: Unverified HTTPS request is being made to host 'noticias.uol.com.br'. Adding certificate verification is strongly advised. See: https://urllib3.readthedocs.io/en/1.26.x/advanced-usage.html#ssl-warnings\n",
      "  warnings.warn(\n"
     ]
    },
    {
     "name": "stdout",
     "output_type": "stream",
     "text": [
      "https://noticias.uol.com.br/cotidiano/ultimas-noticias/2021/07/01/veterinaria-que-fraudou-fila-da-vacina-ja-defendeu-tratamento-precoce.htm\n"
     ]
    },
    {
     "name": "stderr",
     "output_type": "stream",
     "text": [
      "C:\\Users\\Dell User\\anaconda3\\envs\\proyectos\\lib\\site-packages\\urllib3\\connectionpool.py:1013: InsecureRequestWarning: Unverified HTTPS request is being made to host 'noticias.uol.com.br'. Adding certificate verification is strongly advised. See: https://urllib3.readthedocs.io/en/1.26.x/advanced-usage.html#ssl-warnings\n",
      "  warnings.warn(\n",
      "C:\\Users\\Dell User\\anaconda3\\envs\\proyectos\\lib\\site-packages\\urllib3\\connectionpool.py:1013: InsecureRequestWarning: Unverified HTTPS request is being made to host 'mobilidade.estadao.com.br'. Adding certificate verification is strongly advised. See: https://urllib3.readthedocs.io/en/1.26.x/advanced-usage.html#ssl-warnings\n",
      "  warnings.warn(\n"
     ]
    },
    {
     "name": "stdout",
     "output_type": "stream",
     "text": [
      "https://mobilidade.estadao.com.br/mobilidade-para-que/5-projetos-que-promovem-a-acessibilidade-urbana/\n"
     ]
    },
    {
     "name": "stderr",
     "output_type": "stream",
     "text": [
      "C:\\Users\\Dell User\\anaconda3\\envs\\proyectos\\lib\\site-packages\\urllib3\\connectionpool.py:1013: InsecureRequestWarning: Unverified HTTPS request is being made to host 'mobilidade.estadao.com.br'. Adding certificate verification is strongly advised. See: https://urllib3.readthedocs.io/en/1.26.x/advanced-usage.html#ssl-warnings\n",
      "  warnings.warn(\n",
      "C:\\Users\\Dell User\\anaconda3\\envs\\proyectos\\lib\\site-packages\\urllib3\\connectionpool.py:1013: InsecureRequestWarning: Unverified HTTPS request is being made to host 'www.techtudo.com.br'. Adding certificate verification is strongly advised. See: https://urllib3.readthedocs.io/en/1.26.x/advanced-usage.html#ssl-warnings\n",
      "  warnings.warn(\n"
     ]
    },
    {
     "name": "stdout",
     "output_type": "stream",
     "text": [
      "https://www.techtudo.com.br/dicas-e-tutoriais/2021/07/italia-x-inglaterra-ao-vivo-onde-assistir-ao-jogo-da-eurocopa-online.ghtml\n"
     ]
    },
    {
     "name": "stderr",
     "output_type": "stream",
     "text": [
      "C:\\Users\\Dell User\\anaconda3\\envs\\proyectos\\lib\\site-packages\\urllib3\\connectionpool.py:1013: InsecureRequestWarning: Unverified HTTPS request is being made to host 'www.techtudo.com.br'. Adding certificate verification is strongly advised. See: https://urllib3.readthedocs.io/en/1.26.x/advanced-usage.html#ssl-warnings\n",
      "  warnings.warn(\n",
      "C:\\Users\\Dell User\\anaconda3\\envs\\proyectos\\lib\\site-packages\\urllib3\\connectionpool.py:1013: InsecureRequestWarning: Unverified HTTPS request is being made to host 'www.ambito.com'. Adding certificate verification is strongly advised. See: https://urllib3.readthedocs.io/en/1.26.x/advanced-usage.html#ssl-warnings\n",
      "  warnings.warn(\n"
     ]
    },
    {
     "name": "stdout",
     "output_type": "stream",
     "text": [
      "https://www.ambito.com/autos/fiat/refresh-gama-del-lider-n5220874\n"
     ]
    },
    {
     "name": "stderr",
     "output_type": "stream",
     "text": [
      "C:\\Users\\Dell User\\anaconda3\\envs\\proyectos\\lib\\site-packages\\urllib3\\connectionpool.py:1013: InsecureRequestWarning: Unverified HTTPS request is being made to host 'www.ambito.com'. Adding certificate verification is strongly advised. See: https://urllib3.readthedocs.io/en/1.26.x/advanced-usage.html#ssl-warnings\n",
      "  warnings.warn(\n",
      "C:\\Users\\Dell User\\anaconda3\\envs\\proyectos\\lib\\site-packages\\urllib3\\connectionpool.py:1013: InsecureRequestWarning: Unverified HTTPS request is being made to host 'www.ambito.com'. Adding certificate verification is strongly advised. See: https://urllib3.readthedocs.io/en/1.26.x/advanced-usage.html#ssl-warnings\n",
      "  warnings.warn(\n"
     ]
    },
    {
     "name": "stdout",
     "output_type": "stream",
     "text": [
      "https://www.ambito.com/economia/google/tendra-que-pagar-una-multa-us592-millones-francia-n5222050\n"
     ]
    },
    {
     "name": "stderr",
     "output_type": "stream",
     "text": [
      "C:\\Users\\Dell User\\anaconda3\\envs\\proyectos\\lib\\site-packages\\urllib3\\connectionpool.py:1013: InsecureRequestWarning: Unverified HTTPS request is being made to host 'www.ambito.com'. Adding certificate verification is strongly advised. See: https://urllib3.readthedocs.io/en/1.26.x/advanced-usage.html#ssl-warnings\n",
      "  warnings.warn(\n",
      "C:\\Users\\Dell User\\anaconda3\\envs\\proyectos\\lib\\site-packages\\urllib3\\connectionpool.py:1013: InsecureRequestWarning: Unverified HTTPS request is being made to host 'www.techtudo.com.br'. Adding certificate verification is strongly advised. See: https://urllib3.readthedocs.io/en/1.26.x/advanced-usage.html#ssl-warnings\n",
      "  warnings.warn(\n"
     ]
    },
    {
     "name": "stdout",
     "output_type": "stream",
     "text": [
      "https://www.techtudo.com.br/dicas-e-tutoriais/2021/07/belgica-x-italia-ao-vivo-onde-assistir-ao-jogo-da-eurocopa-online.ghtml\n"
     ]
    },
    {
     "name": "stderr",
     "output_type": "stream",
     "text": [
      "C:\\Users\\Dell User\\anaconda3\\envs\\proyectos\\lib\\site-packages\\urllib3\\connectionpool.py:1013: InsecureRequestWarning: Unverified HTTPS request is being made to host 'www.techtudo.com.br'. Adding certificate verification is strongly advised. See: https://urllib3.readthedocs.io/en/1.26.x/advanced-usage.html#ssl-warnings\n",
      "  warnings.warn(\n",
      "C:\\Users\\Dell User\\anaconda3\\envs\\proyectos\\lib\\site-packages\\urllib3\\connectionpool.py:1013: InsecureRequestWarning: Unverified HTTPS request is being made to host 'epocanegocios.globo.com'. Adding certificate verification is strongly advised. See: https://urllib3.readthedocs.io/en/1.26.x/advanced-usage.html#ssl-warnings\n",
      "  warnings.warn(\n"
     ]
    },
    {
     "name": "stdout",
     "output_type": "stream",
     "text": [
      "https://epocanegocios.globo.com/colunas/Marketplace-ideias-e-inovacao/Humanidade-aumentada/noticia/2021/07/o-mastodonte-na-sala.html\n"
     ]
    },
    {
     "name": "stderr",
     "output_type": "stream",
     "text": [
      "C:\\Users\\Dell User\\anaconda3\\envs\\proyectos\\lib\\site-packages\\urllib3\\connectionpool.py:1013: InsecureRequestWarning: Unverified HTTPS request is being made to host 'epocanegocios.globo.com'. Adding certificate verification is strongly advised. See: https://urllib3.readthedocs.io/en/1.26.x/advanced-usage.html#ssl-warnings\n",
      "  warnings.warn(\n",
      "C:\\Users\\Dell User\\anaconda3\\envs\\proyectos\\lib\\site-packages\\urllib3\\connectionpool.py:1013: InsecureRequestWarning: Unverified HTTPS request is being made to host 'www.techtudo.com.br'. Adding certificate verification is strongly advised. See: https://urllib3.readthedocs.io/en/1.26.x/advanced-usage.html#ssl-warnings\n",
      "  warnings.warn(\n"
     ]
    },
    {
     "name": "stdout",
     "output_type": "stream",
     "text": [
      "https://www.techtudo.com.br/dicas-e-tutoriais/2021/07/como-colocar-foto-de-fundo-nos-stories-do-instagram.ghtml\n"
     ]
    },
    {
     "name": "stderr",
     "output_type": "stream",
     "text": [
      "C:\\Users\\Dell User\\anaconda3\\envs\\proyectos\\lib\\site-packages\\urllib3\\connectionpool.py:1013: InsecureRequestWarning: Unverified HTTPS request is being made to host 'www.techtudo.com.br'. Adding certificate verification is strongly advised. See: https://urllib3.readthedocs.io/en/1.26.x/advanced-usage.html#ssl-warnings\n",
      "  warnings.warn(\n",
      "C:\\Users\\Dell User\\anaconda3\\envs\\proyectos\\lib\\site-packages\\urllib3\\connectionpool.py:1013: InsecureRequestWarning: Unverified HTTPS request is being made to host 'link.estadao.com.br'. Adding certificate verification is strongly advised. See: https://urllib3.readthedocs.io/en/1.26.x/advanced-usage.html#ssl-warnings\n",
      "  warnings.warn(\n"
     ]
    },
    {
     "name": "stdout",
     "output_type": "stream",
     "text": [
      "https://link.estadao.com.br/noticias/cultura-digital,transforme-seu-celular-em-um-personal-trainer-veja-dicas,70003773150\n"
     ]
    },
    {
     "name": "stderr",
     "output_type": "stream",
     "text": [
      "C:\\Users\\Dell User\\anaconda3\\envs\\proyectos\\lib\\site-packages\\urllib3\\connectionpool.py:1013: InsecureRequestWarning: Unverified HTTPS request is being made to host 'link.estadao.com.br'. Adding certificate verification is strongly advised. See: https://urllib3.readthedocs.io/en/1.26.x/advanced-usage.html#ssl-warnings\n",
      "  warnings.warn(\n",
      "C:\\Users\\Dell User\\anaconda3\\envs\\proyectos\\lib\\site-packages\\urllib3\\connectionpool.py:1013: InsecureRequestWarning: Unverified HTTPS request is being made to host 'noticias.uol.com.br'. Adding certificate verification is strongly advised. See: https://urllib3.readthedocs.io/en/1.26.x/advanced-usage.html#ssl-warnings\n",
      "  warnings.warn(\n"
     ]
    },
    {
     "name": "stdout",
     "output_type": "stream",
     "text": [
      "https://noticias.uol.com.br/colunas/juliana-dal-piva/2021/07/09/prisao-queiroz-fingir-que-nao-era-ele-rachadinha-flavio-bolsonaro.htm\n"
     ]
    },
    {
     "name": "stderr",
     "output_type": "stream",
     "text": [
      "C:\\Users\\Dell User\\anaconda3\\envs\\proyectos\\lib\\site-packages\\urllib3\\connectionpool.py:1013: InsecureRequestWarning: Unverified HTTPS request is being made to host 'noticias.uol.com.br'. Adding certificate verification is strongly advised. See: https://urllib3.readthedocs.io/en/1.26.x/advanced-usage.html#ssl-warnings\n",
      "  warnings.warn(\n",
      "C:\\Users\\Dell User\\anaconda3\\envs\\proyectos\\lib\\site-packages\\urllib3\\connectionpool.py:1013: InsecureRequestWarning: Unverified HTTPS request is being made to host 'link.estadao.com.br'. Adding certificate verification is strongly advised. See: https://urllib3.readthedocs.io/en/1.26.x/advanced-usage.html#ssl-warnings\n",
      "  warnings.warn(\n"
     ]
    },
    {
     "name": "stdout",
     "output_type": "stream",
     "text": [
      "https://link.estadao.com.br/noticias/cultura-digital,whatsapp-em-breve-sera-possivel-escolher-a-qualidade-dos-videos-enviados,70003770581\n"
     ]
    },
    {
     "name": "stderr",
     "output_type": "stream",
     "text": [
      "C:\\Users\\Dell User\\anaconda3\\envs\\proyectos\\lib\\site-packages\\urllib3\\connectionpool.py:1013: InsecureRequestWarning: Unverified HTTPS request is being made to host 'link.estadao.com.br'. Adding certificate verification is strongly advised. See: https://urllib3.readthedocs.io/en/1.26.x/advanced-usage.html#ssl-warnings\n",
      "  warnings.warn(\n",
      "C:\\Users\\Dell User\\anaconda3\\envs\\proyectos\\lib\\site-packages\\urllib3\\connectionpool.py:1013: InsecureRequestWarning: Unverified HTTPS request is being made to host 'politica.estadao.com.br'. Adding certificate verification is strongly advised. See: https://urllib3.readthedocs.io/en/1.26.x/advanced-usage.html#ssl-warnings\n",
      "  warnings.warn(\n"
     ]
    },
    {
     "name": "stdout",
     "output_type": "stream",
     "text": [
      "https://politica.estadao.com.br/blogs/estadao-verifica/para-atacar-randolfe-postagens-distorcem-contexto-sobre-pagamento-de-aluguel-de-escritorio-e-citam-falsa-rachadinha/\n"
     ]
    },
    {
     "name": "stderr",
     "output_type": "stream",
     "text": [
      "C:\\Users\\Dell User\\anaconda3\\envs\\proyectos\\lib\\site-packages\\urllib3\\connectionpool.py:1013: InsecureRequestWarning: Unverified HTTPS request is being made to host 'politica.estadao.com.br'. Adding certificate verification is strongly advised. See: https://urllib3.readthedocs.io/en/1.26.x/advanced-usage.html#ssl-warnings\n",
      "  warnings.warn(\n",
      "C:\\Users\\Dell User\\anaconda3\\envs\\proyectos\\lib\\site-packages\\urllib3\\connectionpool.py:1013: InsecureRequestWarning: Unverified HTTPS request is being made to host 'www.metro.pr'. Adding certificate verification is strongly advised. See: https://urllib3.readthedocs.io/en/1.26.x/advanced-usage.html#ssl-warnings\n",
      "  warnings.warn(\n"
     ]
    },
    {
     "name": "stdout",
     "output_type": "stream",
     "text": [
      "https://www.metro.pr/pr/noticias/2021/07/28/google-demora-hasta-octubre-regreso-de-sus-empleados-a-las-oficinas.html\n"
     ]
    },
    {
     "name": "stderr",
     "output_type": "stream",
     "text": [
      "C:\\Users\\Dell User\\anaconda3\\envs\\proyectos\\lib\\site-packages\\urllib3\\connectionpool.py:1013: InsecureRequestWarning: Unverified HTTPS request is being made to host 'www.metro.pr'. Adding certificate verification is strongly advised. See: https://urllib3.readthedocs.io/en/1.26.x/advanced-usage.html#ssl-warnings\n",
      "  warnings.warn(\n",
      "C:\\Users\\Dell User\\anaconda3\\envs\\proyectos\\lib\\site-packages\\urllib3\\connectionpool.py:1013: InsecureRequestWarning: Unverified HTTPS request is being made to host 'www.metro.pr'. Adding certificate verification is strongly advised. See: https://urllib3.readthedocs.io/en/1.26.x/advanced-usage.html#ssl-warnings\n",
      "  warnings.warn(\n"
     ]
    },
    {
     "name": "stdout",
     "output_type": "stream",
     "text": [
      "https://www.metro.pr/pr/deportes/2021/07/28/pesista-julio-mayora-gana-plata-para-venezuela-en-tokio-2020.html\n"
     ]
    },
    {
     "name": "stderr",
     "output_type": "stream",
     "text": [
      "C:\\Users\\Dell User\\anaconda3\\envs\\proyectos\\lib\\site-packages\\urllib3\\connectionpool.py:1013: InsecureRequestWarning: Unverified HTTPS request is being made to host 'www.metro.pr'. Adding certificate verification is strongly advised. See: https://urllib3.readthedocs.io/en/1.26.x/advanced-usage.html#ssl-warnings\n",
      "  warnings.warn(\n",
      "C:\\Users\\Dell User\\anaconda3\\envs\\proyectos\\lib\\site-packages\\urllib3\\connectionpool.py:1013: InsecureRequestWarning: Unverified HTTPS request is being made to host 'www.bluradio.com'. Adding certificate verification is strongly advised. See: https://urllib3.readthedocs.io/en/1.26.x/advanced-usage.html#ssl-warnings\n",
      "  warnings.warn(\n"
     ]
    },
    {
     "name": "stdout",
     "output_type": "stream",
     "text": [
      "https://www.bluradio.com/tecnologia/youtube-netflix-twitter-y-amazon-las-paginas-web-que-mas-contaminan\n"
     ]
    },
    {
     "name": "stderr",
     "output_type": "stream",
     "text": [
      "C:\\Users\\Dell User\\anaconda3\\envs\\proyectos\\lib\\site-packages\\urllib3\\connectionpool.py:1013: InsecureRequestWarning: Unverified HTTPS request is being made to host 'www.bluradio.com'. Adding certificate verification is strongly advised. See: https://urllib3.readthedocs.io/en/1.26.x/advanced-usage.html#ssl-warnings\n",
      "  warnings.warn(\n",
      "C:\\Users\\Dell User\\anaconda3\\envs\\proyectos\\lib\\site-packages\\urllib3\\connectionpool.py:1013: InsecureRequestWarning: Unverified HTTPS request is being made to host 'sobreasaguas.blogosfera.uol.com.br'. Adding certificate verification is strongly advised. See: https://urllib3.readthedocs.io/en/1.26.x/advanced-usage.html#ssl-warnings\n",
      "  warnings.warn(\n"
     ]
    },
    {
     "name": "stdout",
     "output_type": "stream",
     "text": [
      "https://sobreasaguas.blogosfera.uol.com.br/2021/07/16/semana-de-vela-de-ilhabela-2021-confirma-regatas-virtuais/\n"
     ]
    },
    {
     "name": "stderr",
     "output_type": "stream",
     "text": [
      "C:\\Users\\Dell User\\anaconda3\\envs\\proyectos\\lib\\site-packages\\urllib3\\connectionpool.py:1013: InsecureRequestWarning: Unverified HTTPS request is being made to host 'sobreasaguas.blogosfera.uol.com.br'. Adding certificate verification is strongly advised. See: https://urllib3.readthedocs.io/en/1.26.x/advanced-usage.html#ssl-warnings\n",
      "  warnings.warn(\n",
      "C:\\Users\\Dell User\\anaconda3\\envs\\proyectos\\lib\\site-packages\\urllib3\\connectionpool.py:1013: InsecureRequestWarning: Unverified HTTPS request is being made to host 'www.techtudo.com.br'. Adding certificate verification is strongly advised. See: https://urllib3.readthedocs.io/en/1.26.x/advanced-usage.html#ssl-warnings\n",
      "  warnings.warn(\n"
     ]
    },
    {
     "name": "stdout",
     "output_type": "stream",
     "text": [
      "https://www.techtudo.com.br/listas/2021/07/tv-tcl-veja-cinco-modelos-para-comprar-no-brasil-em-2021.ghtml\n"
     ]
    },
    {
     "name": "stderr",
     "output_type": "stream",
     "text": [
      "C:\\Users\\Dell User\\anaconda3\\envs\\proyectos\\lib\\site-packages\\urllib3\\connectionpool.py:1013: InsecureRequestWarning: Unverified HTTPS request is being made to host 'www.techtudo.com.br'. Adding certificate verification is strongly advised. See: https://urllib3.readthedocs.io/en/1.26.x/advanced-usage.html#ssl-warnings\n",
      "  warnings.warn(\n",
      "C:\\Users\\Dell User\\anaconda3\\envs\\proyectos\\lib\\site-packages\\urllib3\\connectionpool.py:1013: InsecureRequestWarning: Unverified HTTPS request is being made to host 'www.techtudo.com.br'. Adding certificate verification is strongly advised. See: https://urllib3.readthedocs.io/en/1.26.x/advanced-usage.html#ssl-warnings\n",
      "  warnings.warn(\n"
     ]
    },
    {
     "name": "stdout",
     "output_type": "stream",
     "text": [
      "https://www.techtudo.com.br/dicas-e-tutoriais/2021/07/camsurf-como-usar-o-aplicativo-para-conversar-com-desconhecidos-online.ghtml\n"
     ]
    },
    {
     "name": "stderr",
     "output_type": "stream",
     "text": [
      "C:\\Users\\Dell User\\anaconda3\\envs\\proyectos\\lib\\site-packages\\urllib3\\connectionpool.py:1013: InsecureRequestWarning: Unverified HTTPS request is being made to host 'www.techtudo.com.br'. Adding certificate verification is strongly advised. See: https://urllib3.readthedocs.io/en/1.26.x/advanced-usage.html#ssl-warnings\n",
      "  warnings.warn(\n",
      "C:\\Users\\Dell User\\anaconda3\\envs\\proyectos\\lib\\site-packages\\urllib3\\connectionpool.py:1013: InsecureRequestWarning: Unverified HTTPS request is being made to host 'www.techtudo.com.br'. Adding certificate verification is strongly advised. See: https://urllib3.readthedocs.io/en/1.26.x/advanced-usage.html#ssl-warnings\n",
      "  warnings.warn(\n"
     ]
    },
    {
     "name": "stdout",
     "output_type": "stream",
     "text": [
      "https://www.techtudo.com.br/listas/2021/07/tv-tcl-veja-cinco-modelos-para-comprar-no-brasil-em-2021.ghtml\n"
     ]
    },
    {
     "name": "stderr",
     "output_type": "stream",
     "text": [
      "C:\\Users\\Dell User\\anaconda3\\envs\\proyectos\\lib\\site-packages\\urllib3\\connectionpool.py:1013: InsecureRequestWarning: Unverified HTTPS request is being made to host 'www.techtudo.com.br'. Adding certificate verification is strongly advised. See: https://urllib3.readthedocs.io/en/1.26.x/advanced-usage.html#ssl-warnings\n",
      "  warnings.warn(\n",
      "C:\\Users\\Dell User\\anaconda3\\envs\\proyectos\\lib\\site-packages\\urllib3\\connectionpool.py:1013: InsecureRequestWarning: Unverified HTTPS request is being made to host 'www.ambito.com'. Adding certificate verification is strongly advised. See: https://urllib3.readthedocs.io/en/1.26.x/advanced-usage.html#ssl-warnings\n",
      "  warnings.warn(\n"
     ]
    },
    {
     "name": "stdout",
     "output_type": "stream",
     "text": [
      "https://www.ambito.com/informacion-general/tecnologia/whatsapp-como-recuperar-un-video-eliminado-n5230147\n"
     ]
    },
    {
     "name": "stderr",
     "output_type": "stream",
     "text": [
      "C:\\Users\\Dell User\\anaconda3\\envs\\proyectos\\lib\\site-packages\\urllib3\\connectionpool.py:1013: InsecureRequestWarning: Unverified HTTPS request is being made to host 'www.ambito.com'. Adding certificate verification is strongly advised. See: https://urllib3.readthedocs.io/en/1.26.x/advanced-usage.html#ssl-warnings\n",
      "  warnings.warn(\n",
      "C:\\Users\\Dell User\\anaconda3\\envs\\proyectos\\lib\\site-packages\\urllib3\\connectionpool.py:1013: InsecureRequestWarning: Unverified HTTPS request is being made to host 'www.techtudo.com.br'. Adding certificate verification is strongly advised. See: https://urllib3.readthedocs.io/en/1.26.x/advanced-usage.html#ssl-warnings\n",
      "  warnings.warn(\n"
     ]
    },
    {
     "name": "stdout",
     "output_type": "stream",
     "text": [
      "https://www.techtudo.com.br/noticias/2021/07/site-e-e-mail-profissional-reforcam-credibilidade-de-novos-negocios.ghtml\n"
     ]
    },
    {
     "name": "stderr",
     "output_type": "stream",
     "text": [
      "C:\\Users\\Dell User\\anaconda3\\envs\\proyectos\\lib\\site-packages\\urllib3\\connectionpool.py:1013: InsecureRequestWarning: Unverified HTTPS request is being made to host 'www.techtudo.com.br'. Adding certificate verification is strongly advised. See: https://urllib3.readthedocs.io/en/1.26.x/advanced-usage.html#ssl-warnings\n",
      "  warnings.warn(\n",
      "C:\\Users\\Dell User\\anaconda3\\envs\\proyectos\\lib\\site-packages\\urllib3\\connectionpool.py:1013: InsecureRequestWarning: Unverified HTTPS request is being made to host 'www.ambito.com'. Adding certificate verification is strongly advised. See: https://urllib3.readthedocs.io/en/1.26.x/advanced-usage.html#ssl-warnings\n",
      "  warnings.warn(\n"
     ]
    },
    {
     "name": "stdout",
     "output_type": "stream",
     "text": [
      "https://www.ambito.com/informacion-general/whatsapp/plus-2021-cuales-son-las-novedades-que-trae-la-app-n5232932\n"
     ]
    },
    {
     "name": "stderr",
     "output_type": "stream",
     "text": [
      "C:\\Users\\Dell User\\anaconda3\\envs\\proyectos\\lib\\site-packages\\urllib3\\connectionpool.py:1013: InsecureRequestWarning: Unverified HTTPS request is being made to host 'www.ambito.com'. Adding certificate verification is strongly advised. See: https://urllib3.readthedocs.io/en/1.26.x/advanced-usage.html#ssl-warnings\n",
      "  warnings.warn(\n",
      "C:\\Users\\Dell User\\anaconda3\\envs\\proyectos\\lib\\site-packages\\urllib3\\connectionpool.py:1013: InsecureRequestWarning: Unverified HTTPS request is being made to host 'www.techtudo.com.br'. Adding certificate verification is strongly advised. See: https://urllib3.readthedocs.io/en/1.26.x/advanced-usage.html#ssl-warnings\n",
      "  warnings.warn(\n"
     ]
    },
    {
     "name": "stdout",
     "output_type": "stream",
     "text": [
      "https://www.techtudo.com.br/noticias/2021/07/galaxy-watch-4-smartwatch-da-samsung-vaza-na-web-antes-da-hora.ghtml\n"
     ]
    },
    {
     "name": "stderr",
     "output_type": "stream",
     "text": [
      "C:\\Users\\Dell User\\anaconda3\\envs\\proyectos\\lib\\site-packages\\urllib3\\connectionpool.py:1013: InsecureRequestWarning: Unverified HTTPS request is being made to host 'www.techtudo.com.br'. Adding certificate verification is strongly advised. See: https://urllib3.readthedocs.io/en/1.26.x/advanced-usage.html#ssl-warnings\n",
      "  warnings.warn(\n",
      "C:\\Users\\Dell User\\anaconda3\\envs\\proyectos\\lib\\site-packages\\urllib3\\connectionpool.py:1013: InsecureRequestWarning: Unverified HTTPS request is being made to host 'www.techtudo.com.br'. Adding certificate verification is strongly advised. See: https://urllib3.readthedocs.io/en/1.26.x/advanced-usage.html#ssl-warnings\n",
      "  warnings.warn(\n"
     ]
    },
    {
     "name": "stdout",
     "output_type": "stream",
     "text": [
      "https://www.techtudo.com.br/dicas-e-tutoriais/2021/07/brasil-x-alemanha-ao-vivo-onde-assistir-ao-futebol-masculino-na-olimpiada.ghtml\n"
     ]
    },
    {
     "name": "stderr",
     "output_type": "stream",
     "text": [
      "C:\\Users\\Dell User\\anaconda3\\envs\\proyectos\\lib\\site-packages\\urllib3\\connectionpool.py:1013: InsecureRequestWarning: Unverified HTTPS request is being made to host 'www.techtudo.com.br'. Adding certificate verification is strongly advised. See: https://urllib3.readthedocs.io/en/1.26.x/advanced-usage.html#ssl-warnings\n",
      "  warnings.warn(\n",
      "C:\\Users\\Dell User\\anaconda3\\envs\\proyectos\\lib\\site-packages\\urllib3\\connectionpool.py:1013: InsecureRequestWarning: Unverified HTTPS request is being made to host 'www.metro.pr'. Adding certificate verification is strongly advised. See: https://urllib3.readthedocs.io/en/1.26.x/advanced-usage.html#ssl-warnings\n",
      "  warnings.warn(\n"
     ]
    },
    {
     "name": "stdout",
     "output_type": "stream",
     "text": [
      "https://www.metro.pr/pr/noticias/2021/07/11/estados-unidos-pide-la-competencia-no-se-base-impuestos-bajos.html\n"
     ]
    },
    {
     "name": "stderr",
     "output_type": "stream",
     "text": [
      "C:\\Users\\Dell User\\anaconda3\\envs\\proyectos\\lib\\site-packages\\urllib3\\connectionpool.py:1013: InsecureRequestWarning: Unverified HTTPS request is being made to host 'www.metro.pr'. Adding certificate verification is strongly advised. See: https://urllib3.readthedocs.io/en/1.26.x/advanced-usage.html#ssl-warnings\n",
      "  warnings.warn(\n",
      "C:\\Users\\Dell User\\anaconda3\\envs\\proyectos\\lib\\site-packages\\urllib3\\connectionpool.py:1013: InsecureRequestWarning: Unverified HTTPS request is being made to host 'www.techtudo.com.br'. Adding certificate verification is strongly advised. See: https://urllib3.readthedocs.io/en/1.26.x/advanced-usage.html#ssl-warnings\n",
      "  warnings.warn(\n"
     ]
    },
    {
     "name": "stdout",
     "output_type": "stream",
     "text": [
      "https://www.techtudo.com.br/noticias/2021/07/moto-e7-plus-ficha-tecnica-preco-e-lancamento.ghtml\n"
     ]
    },
    {
     "name": "stderr",
     "output_type": "stream",
     "text": [
      "C:\\Users\\Dell User\\anaconda3\\envs\\proyectos\\lib\\site-packages\\urllib3\\connectionpool.py:1013: InsecureRequestWarning: Unverified HTTPS request is being made to host 'www.techtudo.com.br'. Adding certificate verification is strongly advised. See: https://urllib3.readthedocs.io/en/1.26.x/advanced-usage.html#ssl-warnings\n",
      "  warnings.warn(\n",
      "C:\\Users\\Dell User\\anaconda3\\envs\\proyectos\\lib\\site-packages\\urllib3\\connectionpool.py:1013: InsecureRequestWarning: Unverified HTTPS request is being made to host 'www.ambito.com'. Adding certificate verification is strongly advised. See: https://urllib3.readthedocs.io/en/1.26.x/advanced-usage.html#ssl-warnings\n",
      "  warnings.warn(\n"
     ]
    },
    {
     "name": "stdout",
     "output_type": "stream",
     "text": [
      "https://www.ambito.com/negocios/netflix/va-ofrecer-videojuegos-partir-del-2022-conoce-los-detalles-n5223128\n"
     ]
    },
    {
     "name": "stderr",
     "output_type": "stream",
     "text": [
      "C:\\Users\\Dell User\\anaconda3\\envs\\proyectos\\lib\\site-packages\\urllib3\\connectionpool.py:1013: InsecureRequestWarning: Unverified HTTPS request is being made to host 'www.ambito.com'. Adding certificate verification is strongly advised. See: https://urllib3.readthedocs.io/en/1.26.x/advanced-usage.html#ssl-warnings\n",
      "  warnings.warn(\n",
      "C:\\Users\\Dell User\\anaconda3\\envs\\proyectos\\lib\\site-packages\\urllib3\\connectionpool.py:1013: InsecureRequestWarning: Unverified HTTPS request is being made to host 'www.techtudo.com.br'. Adding certificate verification is strongly advised. See: https://urllib3.readthedocs.io/en/1.26.x/advanced-usage.html#ssl-warnings\n",
      "  warnings.warn(\n"
     ]
    },
    {
     "name": "stdout",
     "output_type": "stream",
     "text": [
      "https://www.techtudo.com.br/dicas-e-tutoriais/2021/07/como-atualizar-os-aplicativos-no-android-e-no-iphone-ios.ghtml\n"
     ]
    },
    {
     "name": "stderr",
     "output_type": "stream",
     "text": [
      "C:\\Users\\Dell User\\anaconda3\\envs\\proyectos\\lib\\site-packages\\urllib3\\connectionpool.py:1013: InsecureRequestWarning: Unverified HTTPS request is being made to host 'www.techtudo.com.br'. Adding certificate verification is strongly advised. See: https://urllib3.readthedocs.io/en/1.26.x/advanced-usage.html#ssl-warnings\n",
      "  warnings.warn(\n",
      "C:\\Users\\Dell User\\anaconda3\\envs\\proyectos\\lib\\site-packages\\urllib3\\connectionpool.py:1013: InsecureRequestWarning: Unverified HTTPS request is being made to host 'noticias.uol.com.br'. Adding certificate verification is strongly advised. See: https://urllib3.readthedocs.io/en/1.26.x/advanced-usage.html#ssl-warnings\n",
      "  warnings.warn(\n"
     ]
    },
    {
     "name": "stdout",
     "output_type": "stream",
     "text": [
      "https://noticias.uol.com.br/colunas/juliana-dal-piva/2021/07/06/marcia-aguiar-fabricio-queiroz-vao-matar-rachadinha.htm\n"
     ]
    },
    {
     "name": "stderr",
     "output_type": "stream",
     "text": [
      "C:\\Users\\Dell User\\anaconda3\\envs\\proyectos\\lib\\site-packages\\urllib3\\connectionpool.py:1013: InsecureRequestWarning: Unverified HTTPS request is being made to host 'noticias.uol.com.br'. Adding certificate verification is strongly advised. See: https://urllib3.readthedocs.io/en/1.26.x/advanced-usage.html#ssl-warnings\n",
      "  warnings.warn(\n",
      "C:\\Users\\Dell User\\anaconda3\\envs\\proyectos\\lib\\site-packages\\urllib3\\connectionpool.py:1013: InsecureRequestWarning: Unverified HTTPS request is being made to host 'www.techtudo.com.br'. Adding certificate verification is strongly advised. See: https://urllib3.readthedocs.io/en/1.26.x/advanced-usage.html#ssl-warnings\n",
      "  warnings.warn(\n"
     ]
    },
    {
     "name": "stdout",
     "output_type": "stream",
     "text": [
      "https://www.techtudo.com.br/noticias/2021/07/tiktok-facebook-e-instagram-estao-entre-apps-mais-baixados-de-junho.ghtml\n"
     ]
    },
    {
     "name": "stderr",
     "output_type": "stream",
     "text": [
      "C:\\Users\\Dell User\\anaconda3\\envs\\proyectos\\lib\\site-packages\\urllib3\\connectionpool.py:1013: InsecureRequestWarning: Unverified HTTPS request is being made to host 'www.techtudo.com.br'. Adding certificate verification is strongly advised. See: https://urllib3.readthedocs.io/en/1.26.x/advanced-usage.html#ssl-warnings\n",
      "  warnings.warn(\n",
      "C:\\Users\\Dell User\\anaconda3\\envs\\proyectos\\lib\\site-packages\\urllib3\\connectionpool.py:1013: InsecureRequestWarning: Unverified HTTPS request is being made to host 'www.ambito.com'. Adding certificate verification is strongly advised. See: https://urllib3.readthedocs.io/en/1.26.x/advanced-usage.html#ssl-warnings\n",
      "  warnings.warn(\n"
     ]
    },
    {
     "name": "stdout",
     "output_type": "stream",
     "text": [
      "https://www.ambito.com/finanzas/criptomonedas/alertan-apps-android-que-estafan-prometiendo-ganar-n5220011\n"
     ]
    },
    {
     "name": "stderr",
     "output_type": "stream",
     "text": [
      "C:\\Users\\Dell User\\anaconda3\\envs\\proyectos\\lib\\site-packages\\urllib3\\connectionpool.py:1013: InsecureRequestWarning: Unverified HTTPS request is being made to host 'www.ambito.com'. Adding certificate verification is strongly advised. See: https://urllib3.readthedocs.io/en/1.26.x/advanced-usage.html#ssl-warnings\n",
      "  warnings.warn(\n",
      "C:\\Users\\Dell User\\anaconda3\\envs\\proyectos\\lib\\site-packages\\urllib3\\connectionpool.py:1013: InsecureRequestWarning: Unverified HTTPS request is being made to host 'www.techtudo.com.br'. Adding certificate verification is strongly advised. See: https://urllib3.readthedocs.io/en/1.26.x/advanced-usage.html#ssl-warnings\n",
      "  warnings.warn(\n"
     ]
    },
    {
     "name": "stdout",
     "output_type": "stream",
     "text": [
      "https://www.techtudo.com.br/noticias/2021/07/xiaomi-redmi-9a-ficha-tecnica-preco-e-lancamento.ghtml\n"
     ]
    },
    {
     "name": "stderr",
     "output_type": "stream",
     "text": [
      "C:\\Users\\Dell User\\anaconda3\\envs\\proyectos\\lib\\site-packages\\urllib3\\connectionpool.py:1013: InsecureRequestWarning: Unverified HTTPS request is being made to host 'www.techtudo.com.br'. Adding certificate verification is strongly advised. See: https://urllib3.readthedocs.io/en/1.26.x/advanced-usage.html#ssl-warnings\n",
      "  warnings.warn(\n",
      "C:\\Users\\Dell User\\anaconda3\\envs\\proyectos\\lib\\site-packages\\urllib3\\connectionpool.py:1013: InsecureRequestWarning: Unverified HTTPS request is being made to host 'politica.estadao.com.br'. Adding certificate verification is strongly advised. See: https://urllib3.readthedocs.io/en/1.26.x/advanced-usage.html#ssl-warnings\n",
      "  warnings.warn(\n"
     ]
    },
    {
     "name": "stdout",
     "output_type": "stream",
     "text": [
      "https://politica.estadao.com.br/blogs/fausto-macedo/politica-a-importancia-do-social-listening-e-o-monitoramento-de-redes-sociais/\n"
     ]
    },
    {
     "name": "stderr",
     "output_type": "stream",
     "text": [
      "C:\\Users\\Dell User\\anaconda3\\envs\\proyectos\\lib\\site-packages\\urllib3\\connectionpool.py:1013: InsecureRequestWarning: Unverified HTTPS request is being made to host 'politica.estadao.com.br'. Adding certificate verification is strongly advised. See: https://urllib3.readthedocs.io/en/1.26.x/advanced-usage.html#ssl-warnings\n",
      "  warnings.warn(\n",
      "C:\\Users\\Dell User\\anaconda3\\envs\\proyectos\\lib\\site-packages\\urllib3\\connectionpool.py:1013: InsecureRequestWarning: Unverified HTTPS request is being made to host 'www.metro.pr'. Adding certificate verification is strongly advised. See: https://urllib3.readthedocs.io/en/1.26.x/advanced-usage.html#ssl-warnings\n",
      "  warnings.warn(\n"
     ]
    },
    {
     "name": "stdout",
     "output_type": "stream",
     "text": [
      "https://www.metro.pr/pr/noticias/2021/07/08/dominicana-mantiene-cerrada-frontera-haiti.html\n"
     ]
    },
    {
     "name": "stderr",
     "output_type": "stream",
     "text": [
      "C:\\Users\\Dell User\\anaconda3\\envs\\proyectos\\lib\\site-packages\\urllib3\\connectionpool.py:1013: InsecureRequestWarning: Unverified HTTPS request is being made to host 'www.metro.pr'. Adding certificate verification is strongly advised. See: https://urllib3.readthedocs.io/en/1.26.x/advanced-usage.html#ssl-warnings\n",
      "  warnings.warn(\n",
      "C:\\Users\\Dell User\\anaconda3\\envs\\proyectos\\lib\\site-packages\\urllib3\\connectionpool.py:1013: InsecureRequestWarning: Unverified HTTPS request is being made to host 'www.ambito.com'. Adding certificate verification is strongly advised. See: https://urllib3.readthedocs.io/en/1.26.x/advanced-usage.html#ssl-warnings\n",
      "  warnings.warn(\n",
      "C:\\Users\\Dell User\\anaconda3\\envs\\proyectos\\lib\\site-packages\\urllib3\\connectionpool.py:1013: InsecureRequestWarning: Unverified HTTPS request is being made to host 'www.ambito.com'. Adding certificate verification is strongly advised. See: https://urllib3.readthedocs.io/en/1.26.x/advanced-usage.html#ssl-warnings\n",
      "  warnings.warn(\n"
     ]
    },
    {
     "name": "stdout",
     "output_type": "stream",
     "text": [
      "https://www.ambito.com/informacion-general/bicicleta/suman-20-estaciones-ecobici-y-habilitan-uso-codigo-qr-n5235877\n"
     ]
    },
    {
     "name": "stderr",
     "output_type": "stream",
     "text": [
      "C:\\Users\\Dell User\\anaconda3\\envs\\proyectos\\lib\\site-packages\\urllib3\\connectionpool.py:1013: InsecureRequestWarning: Unverified HTTPS request is being made to host 'www.ambito.com'. Adding certificate verification is strongly advised. See: https://urllib3.readthedocs.io/en/1.26.x/advanced-usage.html#ssl-warnings\n",
      "  warnings.warn(\n",
      "C:\\Users\\Dell User\\anaconda3\\envs\\proyectos\\lib\\site-packages\\urllib3\\connectionpool.py:1013: InsecureRequestWarning: Unverified HTTPS request is being made to host 'www.ambito.com'. Adding certificate verification is strongly advised. See: https://urllib3.readthedocs.io/en/1.26.x/advanced-usage.html#ssl-warnings\n",
      "  warnings.warn(\n",
      "C:\\Users\\Dell User\\anaconda3\\envs\\proyectos\\lib\\site-packages\\urllib3\\connectionpool.py:1013: InsecureRequestWarning: Unverified HTTPS request is being made to host 'politica.estadao.com.br'. Adding certificate verification is strongly advised. See: https://urllib3.readthedocs.io/en/1.26.x/advanced-usage.html#ssl-warnings\n",
      "  warnings.warn(\n"
     ]
    },
    {
     "name": "stdout",
     "output_type": "stream",
     "text": [
      "https://politica.estadao.com.br/blogs/fausto-macedo/em-parceria-com-a-embaixada-britanica-tribunal-de-justica-de-sc-lanca-aplicativo-lgpdjus/\n"
     ]
    },
    {
     "name": "stderr",
     "output_type": "stream",
     "text": [
      "C:\\Users\\Dell User\\anaconda3\\envs\\proyectos\\lib\\site-packages\\urllib3\\connectionpool.py:1013: InsecureRequestWarning: Unverified HTTPS request is being made to host 'politica.estadao.com.br'. Adding certificate verification is strongly advised. See: https://urllib3.readthedocs.io/en/1.26.x/advanced-usage.html#ssl-warnings\n",
      "  warnings.warn(\n",
      "C:\\Users\\Dell User\\anaconda3\\envs\\proyectos\\lib\\site-packages\\urllib3\\connectionpool.py:1013: InsecureRequestWarning: Unverified HTTPS request is being made to host 'www.metro.pr'. Adding certificate verification is strongly advised. See: https://urllib3.readthedocs.io/en/1.26.x/advanced-usage.html#ssl-warnings\n",
      "  warnings.warn(\n"
     ]
    },
    {
     "name": "stdout",
     "output_type": "stream",
     "text": [
      "https://www.metro.pr/pr/noticias/2021/07/19/firstbank-comparte-los-horarios-sucursales-del-proximo-lunes-feriado.html\n"
     ]
    },
    {
     "name": "stderr",
     "output_type": "stream",
     "text": [
      "C:\\Users\\Dell User\\anaconda3\\envs\\proyectos\\lib\\site-packages\\urllib3\\connectionpool.py:1013: InsecureRequestWarning: Unverified HTTPS request is being made to host 'www.metro.pr'. Adding certificate verification is strongly advised. See: https://urllib3.readthedocs.io/en/1.26.x/advanced-usage.html#ssl-warnings\n",
      "  warnings.warn(\n",
      "C:\\Users\\Dell User\\anaconda3\\envs\\proyectos\\lib\\site-packages\\urllib3\\connectionpool.py:1013: InsecureRequestWarning: Unverified HTTPS request is being made to host 'www.metro.pr'. Adding certificate verification is strongly advised. See: https://urllib3.readthedocs.io/en/1.26.x/advanced-usage.html#ssl-warnings\n",
      "  warnings.warn(\n"
     ]
    },
    {
     "name": "stdout",
     "output_type": "stream",
     "text": [
      "https://www.metro.pr/pr/deportes/2021/07/08/wapa-deportes-tendra-cobertura-del-all-star-week-de-las-grandes-ligas.html\n"
     ]
    },
    {
     "name": "stderr",
     "output_type": "stream",
     "text": [
      "C:\\Users\\Dell User\\anaconda3\\envs\\proyectos\\lib\\site-packages\\urllib3\\connectionpool.py:1013: InsecureRequestWarning: Unverified HTTPS request is being made to host 'www.metro.pr'. Adding certificate verification is strongly advised. See: https://urllib3.readthedocs.io/en/1.26.x/advanced-usage.html#ssl-warnings\n",
      "  warnings.warn(\n",
      "C:\\Users\\Dell User\\anaconda3\\envs\\proyectos\\lib\\site-packages\\urllib3\\connectionpool.py:1013: InsecureRequestWarning: Unverified HTTPS request is being made to host 'noticias.uol.com.br'. Adding certificate verification is strongly advised. See: https://urllib3.readthedocs.io/en/1.26.x/advanced-usage.html#ssl-warnings\n",
      "  warnings.warn(\n"
     ]
    },
    {
     "name": "stdout",
     "output_type": "stream",
     "text": [
      "https://noticias.uol.com.br/cotidiano/ultimas-noticias/2021/07/26/motorista-de-app-finge-estar-morta-apos-ser-agredida-em-assalto-medo.htm\n"
     ]
    },
    {
     "name": "stderr",
     "output_type": "stream",
     "text": [
      "C:\\Users\\Dell User\\anaconda3\\envs\\proyectos\\lib\\site-packages\\urllib3\\connectionpool.py:1013: InsecureRequestWarning: Unverified HTTPS request is being made to host 'noticias.uol.com.br'. Adding certificate verification is strongly advised. See: https://urllib3.readthedocs.io/en/1.26.x/advanced-usage.html#ssl-warnings\n",
      "  warnings.warn(\n",
      "C:\\Users\\Dell User\\anaconda3\\envs\\proyectos\\lib\\site-packages\\urllib3\\connectionpool.py:1013: InsecureRequestWarning: Unverified HTTPS request is being made to host 'www.ambito.com'. Adding certificate verification is strongly advised. See: https://urllib3.readthedocs.io/en/1.26.x/advanced-usage.html#ssl-warnings\n",
      "  warnings.warn(\n"
     ]
    },
    {
     "name": "stdout",
     "output_type": "stream",
     "text": [
      "https://www.ambito.com/informacion-general/compras/de-facebook-twitter-grandes-tecnologicas-consideran-que-el-comercio-social-impulsa-sus-ventas-n5236275\n"
     ]
    },
    {
     "name": "stderr",
     "output_type": "stream",
     "text": [
      "C:\\Users\\Dell User\\anaconda3\\envs\\proyectos\\lib\\site-packages\\urllib3\\connectionpool.py:1013: InsecureRequestWarning: Unverified HTTPS request is being made to host 'www.ambito.com'. Adding certificate verification is strongly advised. See: https://urllib3.readthedocs.io/en/1.26.x/advanced-usage.html#ssl-warnings\n",
      "  warnings.warn(\n",
      "C:\\Users\\Dell User\\anaconda3\\envs\\proyectos\\lib\\site-packages\\urllib3\\connectionpool.py:1013: InsecureRequestWarning: Unverified HTTPS request is being made to host 'www.ambito.com'. Adding certificate verification is strongly advised. See: https://urllib3.readthedocs.io/en/1.26.x/advanced-usage.html#ssl-warnings\n",
      "  warnings.warn(\n"
     ]
    },
    {
     "name": "stdout",
     "output_type": "stream",
     "text": [
      "https://www.ambito.com/informacion-general/whatsapp/multidispositivo-como-es-la-nueva-funcion-que-te-permite-usarlo-el-celular-apagado-n5231134\n"
     ]
    },
    {
     "name": "stderr",
     "output_type": "stream",
     "text": [
      "C:\\Users\\Dell User\\anaconda3\\envs\\proyectos\\lib\\site-packages\\urllib3\\connectionpool.py:1013: InsecureRequestWarning: Unverified HTTPS request is being made to host 'www.ambito.com'. Adding certificate verification is strongly advised. See: https://urllib3.readthedocs.io/en/1.26.x/advanced-usage.html#ssl-warnings\n",
      "  warnings.warn(\n",
      "C:\\Users\\Dell User\\anaconda3\\envs\\proyectos\\lib\\site-packages\\urllib3\\connectionpool.py:1013: InsecureRequestWarning: Unverified HTTPS request is being made to host 'www.techtudo.com.br'. Adding certificate verification is strongly advised. See: https://urllib3.readthedocs.io/en/1.26.x/advanced-usage.html#ssl-warnings\n",
      "  warnings.warn(\n"
     ]
    },
    {
     "name": "stdout",
     "output_type": "stream",
     "text": [
      "https://www.techtudo.com.br/noticias/2021/07/xiaomi-libera-google-one-de-graca-para-compradores-de-celulares.ghtml\n"
     ]
    },
    {
     "name": "stderr",
     "output_type": "stream",
     "text": [
      "C:\\Users\\Dell User\\anaconda3\\envs\\proyectos\\lib\\site-packages\\urllib3\\connectionpool.py:1013: InsecureRequestWarning: Unverified HTTPS request is being made to host 'www.techtudo.com.br'. Adding certificate verification is strongly advised. See: https://urllib3.readthedocs.io/en/1.26.x/advanced-usage.html#ssl-warnings\n",
      "  warnings.warn(\n",
      "C:\\Users\\Dell User\\anaconda3\\envs\\proyectos\\lib\\site-packages\\urllib3\\connectionpool.py:1013: InsecureRequestWarning: Unverified HTTPS request is being made to host 'www.metro.pr'. Adding certificate verification is strongly advised. See: https://urllib3.readthedocs.io/en/1.26.x/advanced-usage.html#ssl-warnings\n",
      "  warnings.warn(\n"
     ]
    },
    {
     "name": "stdout",
     "output_type": "stream",
     "text": [
      "https://www.metro.pr/pr/noticias/2021/07/08/secretario-interino-de-educacion-apoyo-pedido-de-renuncia-al-presidente-de-la-upr.html\n"
     ]
    },
    {
     "name": "stderr",
     "output_type": "stream",
     "text": [
      "C:\\Users\\Dell User\\anaconda3\\envs\\proyectos\\lib\\site-packages\\urllib3\\connectionpool.py:1013: InsecureRequestWarning: Unverified HTTPS request is being made to host 'www.metro.pr'. Adding certificate verification is strongly advised. See: https://urllib3.readthedocs.io/en/1.26.x/advanced-usage.html#ssl-warnings\n",
      "  warnings.warn(\n",
      "C:\\Users\\Dell User\\anaconda3\\envs\\proyectos\\lib\\site-packages\\urllib3\\connectionpool.py:1013: InsecureRequestWarning: Unverified HTTPS request is being made to host 'www.techtudo.com.br'. Adding certificate verification is strongly advised. See: https://urllib3.readthedocs.io/en/1.26.x/advanced-usage.html#ssl-warnings\n",
      "  warnings.warn(\n"
     ]
    },
    {
     "name": "stdout",
     "output_type": "stream",
     "text": [
      "https://www.techtudo.com.br/noticias/2021/07/tv-philco-86-polegadas-e-boa-saiba-tudo-sobre-o-modelo-4k-ptv86p50snsg.ghtml\n"
     ]
    },
    {
     "name": "stderr",
     "output_type": "stream",
     "text": [
      "C:\\Users\\Dell User\\anaconda3\\envs\\proyectos\\lib\\site-packages\\urllib3\\connectionpool.py:1013: InsecureRequestWarning: Unverified HTTPS request is being made to host 'www.techtudo.com.br'. Adding certificate verification is strongly advised. See: https://urllib3.readthedocs.io/en/1.26.x/advanced-usage.html#ssl-warnings\n",
      "  warnings.warn(\n",
      "C:\\Users\\Dell User\\anaconda3\\envs\\proyectos\\lib\\site-packages\\urllib3\\connectionpool.py:1013: InsecureRequestWarning: Unverified HTTPS request is being made to host 'www.techtudo.com.br'. Adding certificate verification is strongly advised. See: https://urllib3.readthedocs.io/en/1.26.x/advanced-usage.html#ssl-warnings\n",
      "  warnings.warn(\n"
     ]
    },
    {
     "name": "stdout",
     "output_type": "stream",
     "text": [
      "https://www.techtudo.com.br/listas/2021/07/o-que-e-lineageos-android-alternativo-atualiza-celulares-antigos.ghtml\n"
     ]
    },
    {
     "name": "stderr",
     "output_type": "stream",
     "text": [
      "C:\\Users\\Dell User\\anaconda3\\envs\\proyectos\\lib\\site-packages\\urllib3\\connectionpool.py:1013: InsecureRequestWarning: Unverified HTTPS request is being made to host 'www.techtudo.com.br'. Adding certificate verification is strongly advised. See: https://urllib3.readthedocs.io/en/1.26.x/advanced-usage.html#ssl-warnings\n",
      "  warnings.warn(\n",
      "C:\\Users\\Dell User\\anaconda3\\envs\\proyectos\\lib\\site-packages\\urllib3\\connectionpool.py:1013: InsecureRequestWarning: Unverified HTTPS request is being made to host 'brasil.estadao.com.br'. Adding certificate verification is strongly advised. See: https://urllib3.readthedocs.io/en/1.26.x/advanced-usage.html#ssl-warnings\n",
      "  warnings.warn(\n"
     ]
    },
    {
     "name": "stdout",
     "output_type": "stream",
     "text": [
      "https://brasil.estadao.com.br/blogs/vencer-limites/brasil-ainda-tem-menos-de-1-de-websites-acessiveis/\n"
     ]
    },
    {
     "name": "stderr",
     "output_type": "stream",
     "text": [
      "C:\\Users\\Dell User\\anaconda3\\envs\\proyectos\\lib\\site-packages\\urllib3\\connectionpool.py:1013: InsecureRequestWarning: Unverified HTTPS request is being made to host 'brasil.estadao.com.br'. Adding certificate verification is strongly advised. See: https://urllib3.readthedocs.io/en/1.26.x/advanced-usage.html#ssl-warnings\n",
      "  warnings.warn(\n",
      "C:\\Users\\Dell User\\anaconda3\\envs\\proyectos\\lib\\site-packages\\urllib3\\connectionpool.py:1013: InsecureRequestWarning: Unverified HTTPS request is being made to host 'www.techtudo.com.br'. Adding certificate verification is strongly advised. See: https://urllib3.readthedocs.io/en/1.26.x/advanced-usage.html#ssl-warnings\n",
      "  warnings.warn(\n"
     ]
    },
    {
     "name": "stdout",
     "output_type": "stream",
     "text": [
      "https://www.techtudo.com.br/noticias/2021/07/aloy-em-genshin-impact-personagem-de-horizon-zero-dawn-sera-gratis.ghtml\n"
     ]
    },
    {
     "name": "stderr",
     "output_type": "stream",
     "text": [
      "C:\\Users\\Dell User\\anaconda3\\envs\\proyectos\\lib\\site-packages\\urllib3\\connectionpool.py:1013: InsecureRequestWarning: Unverified HTTPS request is being made to host 'www.techtudo.com.br'. Adding certificate verification is strongly advised. See: https://urllib3.readthedocs.io/en/1.26.x/advanced-usage.html#ssl-warnings\n",
      "  warnings.warn(\n",
      "C:\\Users\\Dell User\\anaconda3\\envs\\proyectos\\lib\\site-packages\\urllib3\\connectionpool.py:1013: InsecureRequestWarning: Unverified HTTPS request is being made to host 'www.techtudo.com.br'. Adding certificate verification is strongly advised. See: https://urllib3.readthedocs.io/en/1.26.x/advanced-usage.html#ssl-warnings\n",
      "  warnings.warn(\n"
     ]
    },
    {
     "name": "stdout",
     "output_type": "stream",
     "text": [
      "https://www.techtudo.com.br/dicas-e-tutoriais/2021/07/olimpiada-ao-vivo-como-assistir-aos-jogos-de-toquio-2020-online.ghtml\n"
     ]
    },
    {
     "name": "stderr",
     "output_type": "stream",
     "text": [
      "C:\\Users\\Dell User\\anaconda3\\envs\\proyectos\\lib\\site-packages\\urllib3\\connectionpool.py:1013: InsecureRequestWarning: Unverified HTTPS request is being made to host 'www.techtudo.com.br'. Adding certificate verification is strongly advised. See: https://urllib3.readthedocs.io/en/1.26.x/advanced-usage.html#ssl-warnings\n",
      "  warnings.warn(\n",
      "C:\\Users\\Dell User\\anaconda3\\envs\\proyectos\\lib\\site-packages\\urllib3\\connectionpool.py:1013: InsecureRequestWarning: Unverified HTTPS request is being made to host 'www.techtudo.com.br'. Adding certificate verification is strongly advised. See: https://urllib3.readthedocs.io/en/1.26.x/advanced-usage.html#ssl-warnings\n",
      "  warnings.warn(\n"
     ]
    },
    {
     "name": "stdout",
     "output_type": "stream",
     "text": [
      "https://www.techtudo.com.br/noticias/2021/07/yu-gi-oh-master-duel-e-anunciado-para-playstation-xbox-pc-e-celulares.ghtml\n"
     ]
    },
    {
     "name": "stderr",
     "output_type": "stream",
     "text": [
      "C:\\Users\\Dell User\\anaconda3\\envs\\proyectos\\lib\\site-packages\\urllib3\\connectionpool.py:1013: InsecureRequestWarning: Unverified HTTPS request is being made to host 'www.techtudo.com.br'. Adding certificate verification is strongly advised. See: https://urllib3.readthedocs.io/en/1.26.x/advanced-usage.html#ssl-warnings\n",
      "  warnings.warn(\n",
      "C:\\Users\\Dell User\\anaconda3\\envs\\proyectos\\lib\\site-packages\\urllib3\\connectionpool.py:1013: InsecureRequestWarning: Unverified HTTPS request is being made to host 'www.techtudo.com.br'. Adding certificate verification is strongly advised. See: https://urllib3.readthedocs.io/en/1.26.x/advanced-usage.html#ssl-warnings\n",
      "  warnings.warn(\n"
     ]
    },
    {
     "name": "stdout",
     "output_type": "stream",
     "text": [
      "https://www.techtudo.com.br/dicas-e-tutoriais/2021/07/como-salvar-stories-do-facebook-no-celular.ghtml\n"
     ]
    },
    {
     "name": "stderr",
     "output_type": "stream",
     "text": [
      "C:\\Users\\Dell User\\anaconda3\\envs\\proyectos\\lib\\site-packages\\urllib3\\connectionpool.py:1013: InsecureRequestWarning: Unverified HTTPS request is being made to host 'www.techtudo.com.br'. Adding certificate verification is strongly advised. See: https://urllib3.readthedocs.io/en/1.26.x/advanced-usage.html#ssl-warnings\n",
      "  warnings.warn(\n",
      "C:\\Users\\Dell User\\anaconda3\\envs\\proyectos\\lib\\site-packages\\urllib3\\connectionpool.py:1013: InsecureRequestWarning: Unverified HTTPS request is being made to host 'www.techtudo.com.br'. Adding certificate verification is strongly advised. See: https://urllib3.readthedocs.io/en/1.26.x/advanced-usage.html#ssl-warnings\n",
      "  warnings.warn(\n"
     ]
    },
    {
     "name": "stdout",
     "output_type": "stream",
     "text": [
      "https://www.techtudo.com.br/dicas-e-tutoriais/2021/07/brasil-x-franca-ao-vivo-onde-assistir-ao-volei-masculino-na-olimpiada.ghtml\n"
     ]
    },
    {
     "name": "stderr",
     "output_type": "stream",
     "text": [
      "C:\\Users\\Dell User\\anaconda3\\envs\\proyectos\\lib\\site-packages\\urllib3\\connectionpool.py:1013: InsecureRequestWarning: Unverified HTTPS request is being made to host 'www.techtudo.com.br'. Adding certificate verification is strongly advised. See: https://urllib3.readthedocs.io/en/1.26.x/advanced-usage.html#ssl-warnings\n",
      "  warnings.warn(\n",
      "C:\\Users\\Dell User\\anaconda3\\envs\\proyectos\\lib\\site-packages\\urllib3\\connectionpool.py:1013: InsecureRequestWarning: Unverified HTTPS request is being made to host 'noticias.uol.com.br'. Adding certificate verification is strongly advised. See: https://urllib3.readthedocs.io/en/1.26.x/advanced-usage.html#ssl-warnings\n",
      "  warnings.warn(\n"
     ]
    },
    {
     "name": "stdout",
     "output_type": "stream",
     "text": [
      "https://noticias.uol.com.br/colunas/juliana-dal-piva/2021/07/06/marcia-aguiar-fabricio-queiroz-vao-matar-rachadinha.htm\n"
     ]
    },
    {
     "name": "stderr",
     "output_type": "stream",
     "text": [
      "C:\\Users\\Dell User\\anaconda3\\envs\\proyectos\\lib\\site-packages\\urllib3\\connectionpool.py:1013: InsecureRequestWarning: Unverified HTTPS request is being made to host 'noticias.uol.com.br'. Adding certificate verification is strongly advised. See: https://urllib3.readthedocs.io/en/1.26.x/advanced-usage.html#ssl-warnings\n",
      "  warnings.warn(\n",
      "C:\\Users\\Dell User\\anaconda3\\envs\\proyectos\\lib\\site-packages\\urllib3\\connectionpool.py:1013: InsecureRequestWarning: Unverified HTTPS request is being made to host 'www.metro.pr'. Adding certificate verification is strongly advised. See: https://urllib3.readthedocs.io/en/1.26.x/advanced-usage.html#ssl-warnings\n",
      "  warnings.warn(\n"
     ]
    },
    {
     "name": "stdout",
     "output_type": "stream",
     "text": [
      "https://www.metro.pr/pr/entretenimiento/2021/07/13/joven-cuatrista-boricua-recibe-beca-juanes-fundacion-latin-grammy.html\n"
     ]
    },
    {
     "name": "stderr",
     "output_type": "stream",
     "text": [
      "C:\\Users\\Dell User\\anaconda3\\envs\\proyectos\\lib\\site-packages\\urllib3\\connectionpool.py:1013: InsecureRequestWarning: Unverified HTTPS request is being made to host 'www.metro.pr'. Adding certificate verification is strongly advised. See: https://urllib3.readthedocs.io/en/1.26.x/advanced-usage.html#ssl-warnings\n",
      "  warnings.warn(\n",
      "C:\\Users\\Dell User\\anaconda3\\envs\\proyectos\\lib\\site-packages\\urllib3\\connectionpool.py:1013: InsecureRequestWarning: Unverified HTTPS request is being made to host 'link.estadao.com.br'. Adding certificate verification is strongly advised. See: https://urllib3.readthedocs.io/en/1.26.x/advanced-usage.html#ssl-warnings\n",
      "  warnings.warn(\n"
     ]
    },
    {
     "name": "stdout",
     "output_type": "stream",
     "text": [
      "https://link.estadao.com.br/noticias/empresas,whatsapp-vai-permitir-o-envio-de-fotos-com-mais-qualidade,70003773761\n"
     ]
    },
    {
     "name": "stderr",
     "output_type": "stream",
     "text": [
      "C:\\Users\\Dell User\\anaconda3\\envs\\proyectos\\lib\\site-packages\\urllib3\\connectionpool.py:1013: InsecureRequestWarning: Unverified HTTPS request is being made to host 'link.estadao.com.br'. Adding certificate verification is strongly advised. See: https://urllib3.readthedocs.io/en/1.26.x/advanced-usage.html#ssl-warnings\n",
      "  warnings.warn(\n",
      "C:\\Users\\Dell User\\anaconda3\\envs\\proyectos\\lib\\site-packages\\urllib3\\connectionpool.py:1013: InsecureRequestWarning: Unverified HTTPS request is being made to host 'www.techtudo.com.br'. Adding certificate verification is strongly advised. See: https://urllib3.readthedocs.io/en/1.26.x/advanced-usage.html#ssl-warnings\n",
      "  warnings.warn(\n"
     ]
    },
    {
     "name": "stdout",
     "output_type": "stream",
     "text": [
      "https://www.techtudo.com.br/noticias/2021/07/google-drive-anuncia-aplicativo-para-pc-com-sincronizacao-de-fotos.ghtml\n"
     ]
    },
    {
     "name": "stderr",
     "output_type": "stream",
     "text": [
      "C:\\Users\\Dell User\\anaconda3\\envs\\proyectos\\lib\\site-packages\\urllib3\\connectionpool.py:1013: InsecureRequestWarning: Unverified HTTPS request is being made to host 'www.techtudo.com.br'. Adding certificate verification is strongly advised. See: https://urllib3.readthedocs.io/en/1.26.x/advanced-usage.html#ssl-warnings\n",
      "  warnings.warn(\n",
      "C:\\Users\\Dell User\\anaconda3\\envs\\proyectos\\lib\\site-packages\\urllib3\\connectionpool.py:1013: InsecureRequestWarning: Unverified HTTPS request is being made to host 'www.ambito.com'. Adding certificate verification is strongly advised. See: https://urllib3.readthedocs.io/en/1.26.x/advanced-usage.html#ssl-warnings\n",
      "  warnings.warn(\n",
      "C:\\Users\\Dell User\\anaconda3\\envs\\proyectos\\lib\\site-packages\\urllib3\\connectionpool.py:1013: InsecureRequestWarning: Unverified HTTPS request is being made to host 'www.ambito.com'. Adding certificate verification is strongly advised. See: https://urllib3.readthedocs.io/en/1.26.x/advanced-usage.html#ssl-warnings\n",
      "  warnings.warn(\n"
     ]
    },
    {
     "name": "stdout",
     "output_type": "stream",
     "text": [
      "https://www.ambito.com/finanzas/dow-jones/wall-street-marco-nuevos-records-la-mano-robustas-ganancias-empresariales-n5236601\n"
     ]
    },
    {
     "name": "stderr",
     "output_type": "stream",
     "text": [
      "C:\\Users\\Dell User\\anaconda3\\envs\\proyectos\\lib\\site-packages\\urllib3\\connectionpool.py:1013: InsecureRequestWarning: Unverified HTTPS request is being made to host 'www.ambito.com'. Adding certificate verification is strongly advised. See: https://urllib3.readthedocs.io/en/1.26.x/advanced-usage.html#ssl-warnings\n",
      "  warnings.warn(\n",
      "C:\\Users\\Dell User\\anaconda3\\envs\\proyectos\\lib\\site-packages\\urllib3\\connectionpool.py:1013: InsecureRequestWarning: Unverified HTTPS request is being made to host 'www.ambito.com'. Adding certificate verification is strongly advised. See: https://urllib3.readthedocs.io/en/1.26.x/advanced-usage.html#ssl-warnings\n",
      "  warnings.warn(\n",
      "C:\\Users\\Dell User\\anaconda3\\envs\\proyectos\\lib\\site-packages\\urllib3\\connectionpool.py:1013: InsecureRequestWarning: Unverified HTTPS request is being made to host 'www.techtudo.com.br'. Adding certificate verification is strongly advised. See: https://urllib3.readthedocs.io/en/1.26.x/advanced-usage.html#ssl-warnings\n",
      "  warnings.warn(\n"
     ]
    },
    {
     "name": "stdout",
     "output_type": "stream",
     "text": [
      "https://www.techtudo.com.br/dicas-e-tutoriais/2021/07/brasil-x-tunisia-ao-vivo-onde-assistir-ao-volei-masculino-na-olimpiada.ghtml\n"
     ]
    },
    {
     "name": "stderr",
     "output_type": "stream",
     "text": [
      "C:\\Users\\Dell User\\anaconda3\\envs\\proyectos\\lib\\site-packages\\urllib3\\connectionpool.py:1013: InsecureRequestWarning: Unverified HTTPS request is being made to host 'www.techtudo.com.br'. Adding certificate verification is strongly advised. See: https://urllib3.readthedocs.io/en/1.26.x/advanced-usage.html#ssl-warnings\n",
      "  warnings.warn(\n",
      "C:\\Users\\Dell User\\anaconda3\\envs\\proyectos\\lib\\site-packages\\urllib3\\connectionpool.py:1013: InsecureRequestWarning: Unverified HTTPS request is being made to host 'www.ambito.com'. Adding certificate verification is strongly advised. See: https://urllib3.readthedocs.io/en/1.26.x/advanced-usage.html#ssl-warnings\n",
      "  warnings.warn(\n"
     ]
    },
    {
     "name": "stdout",
     "output_type": "stream",
     "text": [
      "https://www.ambito.com/finanzas/wall-street/trepo-nuevos-records-ganancias-empresariales-y-fortaleza-economica-n5230794\n"
     ]
    },
    {
     "name": "stderr",
     "output_type": "stream",
     "text": [
      "C:\\Users\\Dell User\\anaconda3\\envs\\proyectos\\lib\\site-packages\\urllib3\\connectionpool.py:1013: InsecureRequestWarning: Unverified HTTPS request is being made to host 'www.ambito.com'. Adding certificate verification is strongly advised. See: https://urllib3.readthedocs.io/en/1.26.x/advanced-usage.html#ssl-warnings\n",
      "  warnings.warn(\n",
      "C:\\Users\\Dell User\\anaconda3\\envs\\proyectos\\lib\\site-packages\\urllib3\\connectionpool.py:1013: InsecureRequestWarning: Unverified HTTPS request is being made to host 'noticias.uol.com.br'. Adding certificate verification is strongly advised. See: https://urllib3.readthedocs.io/en/1.26.x/advanced-usage.html#ssl-warnings\n",
      "  warnings.warn(\n"
     ]
    },
    {
     "name": "stdout",
     "output_type": "stream",
     "text": [
      "https://noticias.uol.com.br/ultimas-noticias/rfi/2021/07/10/g20-aprova-acordo-sobre-tributacao-das-multinacionais.htm\n"
     ]
    },
    {
     "name": "stderr",
     "output_type": "stream",
     "text": [
      "C:\\Users\\Dell User\\anaconda3\\envs\\proyectos\\lib\\site-packages\\urllib3\\connectionpool.py:1013: InsecureRequestWarning: Unverified HTTPS request is being made to host 'noticias.uol.com.br'. Adding certificate verification is strongly advised. See: https://urllib3.readthedocs.io/en/1.26.x/advanced-usage.html#ssl-warnings\n",
      "  warnings.warn(\n",
      "C:\\Users\\Dell User\\anaconda3\\envs\\proyectos\\lib\\site-packages\\urllib3\\connectionpool.py:1013: InsecureRequestWarning: Unverified HTTPS request is being made to host 'cultura.estadao.com.br'. Adding certificate verification is strongly advised. See: https://urllib3.readthedocs.io/en/1.26.x/advanced-usage.html#ssl-warnings\n",
      "  warnings.warn(\n"
     ]
    },
    {
     "name": "stdout",
     "output_type": "stream",
     "text": [
      "https://cultura.estadao.com.br/noticias/literatura,a-esperanca-e-revolucionaria-diz-leandro-karnal-lancando-novo-livro,70003771569\n"
     ]
    },
    {
     "name": "stderr",
     "output_type": "stream",
     "text": [
      "C:\\Users\\Dell User\\anaconda3\\envs\\proyectos\\lib\\site-packages\\urllib3\\connectionpool.py:1013: InsecureRequestWarning: Unverified HTTPS request is being made to host 'cultura.estadao.com.br'. Adding certificate verification is strongly advised. See: https://urllib3.readthedocs.io/en/1.26.x/advanced-usage.html#ssl-warnings\n",
      "  warnings.warn(\n",
      "C:\\Users\\Dell User\\anaconda3\\envs\\proyectos\\lib\\site-packages\\urllib3\\connectionpool.py:1013: InsecureRequestWarning: Unverified HTTPS request is being made to host 'www.bluradio.com'. Adding certificate verification is strongly advised. See: https://urllib3.readthedocs.io/en/1.26.x/advanced-usage.html#ssl-warnings\n",
      "  warnings.warn(\n"
     ]
    },
    {
     "name": "stdout",
     "output_type": "stream",
     "text": [
      "https://www.bluradio.com/mundo/trump-demanda-a-facebook-twitter-y-google\n"
     ]
    },
    {
     "name": "stderr",
     "output_type": "stream",
     "text": [
      "C:\\Users\\Dell User\\anaconda3\\envs\\proyectos\\lib\\site-packages\\urllib3\\connectionpool.py:1013: InsecureRequestWarning: Unverified HTTPS request is being made to host 'www.bluradio.com'. Adding certificate verification is strongly advised. See: https://urllib3.readthedocs.io/en/1.26.x/advanced-usage.html#ssl-warnings\n",
      "  warnings.warn(\n",
      "C:\\Users\\Dell User\\anaconda3\\envs\\proyectos\\lib\\site-packages\\urllib3\\connectionpool.py:1013: InsecureRequestWarning: Unverified HTTPS request is being made to host 'www.techtudo.com.br'. Adding certificate verification is strongly advised. See: https://urllib3.readthedocs.io/en/1.26.x/advanced-usage.html#ssl-warnings\n",
      "  warnings.warn(\n"
     ]
    },
    {
     "name": "stdout",
     "output_type": "stream",
     "text": [
      "https://www.techtudo.com.br/noticias/2021/07/olimpiada-busca-do-google-ganha-programacao-e-quadro-de-medalhas.ghtml\n"
     ]
    },
    {
     "name": "stderr",
     "output_type": "stream",
     "text": [
      "C:\\Users\\Dell User\\anaconda3\\envs\\proyectos\\lib\\site-packages\\urllib3\\connectionpool.py:1013: InsecureRequestWarning: Unverified HTTPS request is being made to host 'www.techtudo.com.br'. Adding certificate verification is strongly advised. See: https://urllib3.readthedocs.io/en/1.26.x/advanced-usage.html#ssl-warnings\n",
      "  warnings.warn(\n",
      "C:\\Users\\Dell User\\anaconda3\\envs\\proyectos\\lib\\site-packages\\urllib3\\connectionpool.py:1013: InsecureRequestWarning: Unverified HTTPS request is being made to host 'cultura.estadao.com.br'. Adding certificate verification is strongly advised. See: https://urllib3.readthedocs.io/en/1.26.x/advanced-usage.html#ssl-warnings\n",
      "  warnings.warn(\n"
     ]
    },
    {
     "name": "stdout",
     "output_type": "stream",
     "text": [
      "https://cultura.estadao.com.br/noticias/cinema,o-complicado-passado-de-natasha-romanoff-nos-cinemas-e-o-colorido-de-trolls-2-no-streaming,70003772920\n"
     ]
    },
    {
     "name": "stderr",
     "output_type": "stream",
     "text": [
      "C:\\Users\\Dell User\\anaconda3\\envs\\proyectos\\lib\\site-packages\\urllib3\\connectionpool.py:1013: InsecureRequestWarning: Unverified HTTPS request is being made to host 'cultura.estadao.com.br'. Adding certificate verification is strongly advised. See: https://urllib3.readthedocs.io/en/1.26.x/advanced-usage.html#ssl-warnings\n",
      "  warnings.warn(\n",
      "C:\\Users\\Dell User\\anaconda3\\envs\\proyectos\\lib\\site-packages\\urllib3\\connectionpool.py:1013: InsecureRequestWarning: Unverified HTTPS request is being made to host 'www.techtudo.com.br'. Adding certificate verification is strongly advised. See: https://urllib3.readthedocs.io/en/1.26.x/advanced-usage.html#ssl-warnings\n",
      "  warnings.warn(\n"
     ]
    },
    {
     "name": "stdout",
     "output_type": "stream",
     "text": [
      "https://www.techtudo.com.br/noticias/2021/07/elizeth-cardoso-doodle-do-google-celebra-101o-aniversario-da-cantora.ghtml\n"
     ]
    },
    {
     "name": "stderr",
     "output_type": "stream",
     "text": [
      "C:\\Users\\Dell User\\anaconda3\\envs\\proyectos\\lib\\site-packages\\urllib3\\connectionpool.py:1013: InsecureRequestWarning: Unverified HTTPS request is being made to host 'www.techtudo.com.br'. Adding certificate verification is strongly advised. See: https://urllib3.readthedocs.io/en/1.26.x/advanced-usage.html#ssl-warnings\n",
      "  warnings.warn(\n",
      "C:\\Users\\Dell User\\anaconda3\\envs\\proyectos\\lib\\site-packages\\urllib3\\connectionpool.py:1013: InsecureRequestWarning: Unverified HTTPS request is being made to host 'www.metro.pr'. Adding certificate verification is strongly advised. See: https://urllib3.readthedocs.io/en/1.26.x/advanced-usage.html#ssl-warnings\n",
      "  warnings.warn(\n"
     ]
    },
    {
     "name": "stdout",
     "output_type": "stream",
     "text": [
      "https://www.metro.pr/pr/noticias/2021/07/23/dignidad-cuestiona-posibilidad-vacunacion-obligatoria.html\n"
     ]
    },
    {
     "name": "stderr",
     "output_type": "stream",
     "text": [
      "C:\\Users\\Dell User\\anaconda3\\envs\\proyectos\\lib\\site-packages\\urllib3\\connectionpool.py:1013: InsecureRequestWarning: Unverified HTTPS request is being made to host 'www.metro.pr'. Adding certificate verification is strongly advised. See: https://urllib3.readthedocs.io/en/1.26.x/advanced-usage.html#ssl-warnings\n",
      "  warnings.warn(\n",
      "C:\\Users\\Dell User\\anaconda3\\envs\\proyectos\\lib\\site-packages\\urllib3\\connectionpool.py:1013: InsecureRequestWarning: Unverified HTTPS request is being made to host 'www.metro.pr'. Adding certificate verification is strongly advised. See: https://urllib3.readthedocs.io/en/1.26.x/advanced-usage.html#ssl-warnings\n",
      "  warnings.warn(\n"
     ]
    },
    {
     "name": "stdout",
     "output_type": "stream",
     "text": [
      "https://www.metro.pr/pr/noticias/2021/07/09/identifican-victimas-de-doble-asesinato-en-vega-baja.html\n"
     ]
    },
    {
     "name": "stderr",
     "output_type": "stream",
     "text": [
      "C:\\Users\\Dell User\\anaconda3\\envs\\proyectos\\lib\\site-packages\\urllib3\\connectionpool.py:1013: InsecureRequestWarning: Unverified HTTPS request is being made to host 'www.metro.pr'. Adding certificate verification is strongly advised. See: https://urllib3.readthedocs.io/en/1.26.x/advanced-usage.html#ssl-warnings\n",
      "  warnings.warn(\n",
      "C:\\Users\\Dell User\\anaconda3\\envs\\proyectos\\lib\\site-packages\\urllib3\\connectionpool.py:1013: InsecureRequestWarning: Unverified HTTPS request is being made to host 'epocanegocios.globo.com'. Adding certificate verification is strongly advised. See: https://urllib3.readthedocs.io/en/1.26.x/advanced-usage.html#ssl-warnings\n",
      "  warnings.warn(\n"
     ]
    },
    {
     "name": "stdout",
     "output_type": "stream",
     "text": [
      "https://epocanegocios.globo.com/Mundo/noticia/2021/07/epoca-negocios-franca-multa-google-em-500-milhoes-de-euros.html\n"
     ]
    },
    {
     "name": "stderr",
     "output_type": "stream",
     "text": [
      "C:\\Users\\Dell User\\anaconda3\\envs\\proyectos\\lib\\site-packages\\urllib3\\connectionpool.py:1013: InsecureRequestWarning: Unverified HTTPS request is being made to host 'epocanegocios.globo.com'. Adding certificate verification is strongly advised. See: https://urllib3.readthedocs.io/en/1.26.x/advanced-usage.html#ssl-warnings\n",
      "  warnings.warn(\n",
      "C:\\Users\\Dell User\\anaconda3\\envs\\proyectos\\lib\\site-packages\\urllib3\\connectionpool.py:1013: InsecureRequestWarning: Unverified HTTPS request is being made to host 'www.techtudo.com.br'. Adding certificate verification is strongly advised. See: https://urllib3.readthedocs.io/en/1.26.x/advanced-usage.html#ssl-warnings\n",
      "  warnings.warn(\n"
     ]
    },
    {
     "name": "stdout",
     "output_type": "stream",
     "text": [
      "https://www.techtudo.com.br/dicas-e-tutoriais/2021/07/como-rotear-internet-do-celular.ghtml\n"
     ]
    },
    {
     "name": "stderr",
     "output_type": "stream",
     "text": [
      "C:\\Users\\Dell User\\anaconda3\\envs\\proyectos\\lib\\site-packages\\urllib3\\connectionpool.py:1013: InsecureRequestWarning: Unverified HTTPS request is being made to host 'www.techtudo.com.br'. Adding certificate verification is strongly advised. See: https://urllib3.readthedocs.io/en/1.26.x/advanced-usage.html#ssl-warnings\n",
      "  warnings.warn(\n",
      "C:\\Users\\Dell User\\anaconda3\\envs\\proyectos\\lib\\site-packages\\urllib3\\connectionpool.py:1013: InsecureRequestWarning: Unverified HTTPS request is being made to host 'www.techtudo.com.br'. Adding certificate verification is strongly advised. See: https://urllib3.readthedocs.io/en/1.26.x/advanced-usage.html#ssl-warnings\n",
      "  warnings.warn(\n"
     ]
    },
    {
     "name": "stdout",
     "output_type": "stream",
     "text": [
      "https://www.techtudo.com.br/listas/2021/07/mojang-studios-cinco-jogos-da-criadora-de-minecraft-para-conhecer.ghtml\n"
     ]
    },
    {
     "name": "stderr",
     "output_type": "stream",
     "text": [
      "C:\\Users\\Dell User\\anaconda3\\envs\\proyectos\\lib\\site-packages\\urllib3\\connectionpool.py:1013: InsecureRequestWarning: Unverified HTTPS request is being made to host 'www.techtudo.com.br'. Adding certificate verification is strongly advised. See: https://urllib3.readthedocs.io/en/1.26.x/advanced-usage.html#ssl-warnings\n",
      "  warnings.warn(\n",
      "C:\\Users\\Dell User\\anaconda3\\envs\\proyectos\\lib\\site-packages\\urllib3\\connectionpool.py:1013: InsecureRequestWarning: Unverified HTTPS request is being made to host 'noticias.uol.com.br'. Adding certificate verification is strongly advised. See: https://urllib3.readthedocs.io/en/1.26.x/advanced-usage.html#ssl-warnings\n",
      "  warnings.warn(\n"
     ]
    },
    {
     "name": "stdout",
     "output_type": "stream",
     "text": [
      "https://noticias.uol.com.br/ultimas-noticias/bbc/2021/07/11/diluvios-e-monstros-lendarios-os-mitos-que-revelam-desastres-do-passado.htm\n"
     ]
    },
    {
     "name": "stderr",
     "output_type": "stream",
     "text": [
      "C:\\Users\\Dell User\\anaconda3\\envs\\proyectos\\lib\\site-packages\\urllib3\\connectionpool.py:1013: InsecureRequestWarning: Unverified HTTPS request is being made to host 'noticias.uol.com.br'. Adding certificate verification is strongly advised. See: https://urllib3.readthedocs.io/en/1.26.x/advanced-usage.html#ssl-warnings\n",
      "  warnings.warn(\n",
      "C:\\Users\\Dell User\\anaconda3\\envs\\proyectos\\lib\\site-packages\\urllib3\\connectionpool.py:1013: InsecureRequestWarning: Unverified HTTPS request is being made to host 'www.techtudo.com.br'. Adding certificate verification is strongly advised. See: https://urllib3.readthedocs.io/en/1.26.x/advanced-usage.html#ssl-warnings\n",
      "  warnings.warn(\n"
     ]
    },
    {
     "name": "stdout",
     "output_type": "stream",
     "text": [
      "https://www.techtudo.com.br/dicas-e-tutoriais/2021/07/jogo-do-brasil-hoje-onde-assistir-ao-volei-e-ao-futebol-na-olimpiada.ghtml\n"
     ]
    },
    {
     "name": "stderr",
     "output_type": "stream",
     "text": [
      "C:\\Users\\Dell User\\anaconda3\\envs\\proyectos\\lib\\site-packages\\urllib3\\connectionpool.py:1013: InsecureRequestWarning: Unverified HTTPS request is being made to host 'www.techtudo.com.br'. Adding certificate verification is strongly advised. See: https://urllib3.readthedocs.io/en/1.26.x/advanced-usage.html#ssl-warnings\n",
      "  warnings.warn(\n",
      "C:\\Users\\Dell User\\anaconda3\\envs\\proyectos\\lib\\site-packages\\urllib3\\connectionpool.py:1013: InsecureRequestWarning: Unverified HTTPS request is being made to host 'revistapegn.globo.com'. Adding certificate verification is strongly advised. See: https://urllib3.readthedocs.io/en/1.26.x/advanced-usage.html#ssl-warnings\n",
      "  warnings.warn(\n"
     ]
    },
    {
     "name": "stdout",
     "output_type": "stream",
     "text": [
      "https://revistapegn.globo.com/Tecnologia/noticia/2021/07/aplicativo-alimentado-por-tosses-pode-ajudar-na-deteccao-da-covid-19.html\n"
     ]
    },
    {
     "name": "stderr",
     "output_type": "stream",
     "text": [
      "C:\\Users\\Dell User\\anaconda3\\envs\\proyectos\\lib\\site-packages\\urllib3\\connectionpool.py:1013: InsecureRequestWarning: Unverified HTTPS request is being made to host 'revistapegn.globo.com'. Adding certificate verification is strongly advised. See: https://urllib3.readthedocs.io/en/1.26.x/advanced-usage.html#ssl-warnings\n",
      "  warnings.warn(\n",
      "C:\\Users\\Dell User\\anaconda3\\envs\\proyectos\\lib\\site-packages\\urllib3\\connectionpool.py:1013: InsecureRequestWarning: Unverified HTTPS request is being made to host 'www.techtudo.com.br'. Adding certificate verification is strongly advised. See: https://urllib3.readthedocs.io/en/1.26.x/advanced-usage.html#ssl-warnings\n",
      "  warnings.warn(\n"
     ]
    },
    {
     "name": "stdout",
     "output_type": "stream",
     "text": [
      "https://www.techtudo.com.br/listas/2021/07/notebook-branco-veja-seis-modelos-para-comprar-no-brasil-em-2021.ghtml\n"
     ]
    },
    {
     "name": "stderr",
     "output_type": "stream",
     "text": [
      "C:\\Users\\Dell User\\anaconda3\\envs\\proyectos\\lib\\site-packages\\urllib3\\connectionpool.py:1013: InsecureRequestWarning: Unverified HTTPS request is being made to host 'www.techtudo.com.br'. Adding certificate verification is strongly advised. See: https://urllib3.readthedocs.io/en/1.26.x/advanced-usage.html#ssl-warnings\n",
      "  warnings.warn(\n",
      "C:\\Users\\Dell User\\anaconda3\\envs\\proyectos\\lib\\site-packages\\urllib3\\connectionpool.py:1013: InsecureRequestWarning: Unverified HTTPS request is being made to host 'www.ambito.com'. Adding certificate verification is strongly advised. See: https://urllib3.readthedocs.io/en/1.26.x/advanced-usage.html#ssl-warnings\n",
      "  warnings.warn(\n"
     ]
    },
    {
     "name": "stdout",
     "output_type": "stream",
     "text": [
      "https://www.ambito.com/finanzas/wall-street/acciones-google-alcanzaron-record-historico-e-impulsaron-al-nasdaq-n5235180\n"
     ]
    },
    {
     "name": "stderr",
     "output_type": "stream",
     "text": [
      "C:\\Users\\Dell User\\anaconda3\\envs\\proyectos\\lib\\site-packages\\urllib3\\connectionpool.py:1013: InsecureRequestWarning: Unverified HTTPS request is being made to host 'www.ambito.com'. Adding certificate verification is strongly advised. See: https://urllib3.readthedocs.io/en/1.26.x/advanced-usage.html#ssl-warnings\n",
      "  warnings.warn(\n",
      "C:\\Users\\Dell User\\anaconda3\\envs\\proyectos\\lib\\site-packages\\urllib3\\connectionpool.py:1013: InsecureRequestWarning: Unverified HTTPS request is being made to host 'www.metro.pr'. Adding certificate verification is strongly advised. See: https://urllib3.readthedocs.io/en/1.26.x/advanced-usage.html#ssl-warnings\n",
      "  warnings.warn(\n"
     ]
    },
    {
     "name": "stdout",
     "output_type": "stream",
     "text": [
      "https://www.metro.pr/pr/entretenimiento/2021/07/14/influencer-amenaza-con-demandar-a-quienes-usen-su-famoso-buenas-buenas.html\n"
     ]
    },
    {
     "name": "stderr",
     "output_type": "stream",
     "text": [
      "C:\\Users\\Dell User\\anaconda3\\envs\\proyectos\\lib\\site-packages\\urllib3\\connectionpool.py:1013: InsecureRequestWarning: Unverified HTTPS request is being made to host 'www.metro.pr'. Adding certificate verification is strongly advised. See: https://urllib3.readthedocs.io/en/1.26.x/advanced-usage.html#ssl-warnings\n",
      "  warnings.warn(\n",
      "C:\\Users\\Dell User\\anaconda3\\envs\\proyectos\\lib\\site-packages\\urllib3\\connectionpool.py:1013: InsecureRequestWarning: Unverified HTTPS request is being made to host 'revistapegn.globo.com'. Adding certificate verification is strongly advised. See: https://urllib3.readthedocs.io/en/1.26.x/advanced-usage.html#ssl-warnings\n",
      "  warnings.warn(\n"
     ]
    },
    {
     "name": "stdout",
     "output_type": "stream",
     "text": [
      "https://revistapegn.globo.com/Administracao-de-empresas/noticia/2021/07/como-levar-para-o-zoom-experiencias-que-antes-eram-presenciais.html\n"
     ]
    },
    {
     "name": "stderr",
     "output_type": "stream",
     "text": [
      "C:\\Users\\Dell User\\anaconda3\\envs\\proyectos\\lib\\site-packages\\urllib3\\connectionpool.py:1013: InsecureRequestWarning: Unverified HTTPS request is being made to host 'revistapegn.globo.com'. Adding certificate verification is strongly advised. See: https://urllib3.readthedocs.io/en/1.26.x/advanced-usage.html#ssl-warnings\n",
      "  warnings.warn(\n",
      "C:\\Users\\Dell User\\anaconda3\\envs\\proyectos\\lib\\site-packages\\urllib3\\connectionpool.py:1013: InsecureRequestWarning: Unverified HTTPS request is being made to host 'www.metro.pr'. Adding certificate verification is strongly advised. See: https://urllib3.readthedocs.io/en/1.26.x/advanced-usage.html#ssl-warnings\n",
      "  warnings.warn(\n"
     ]
    },
    {
     "name": "stdout",
     "output_type": "stream",
     "text": [
      "https://www.metro.pr/pr/noticias/2021/07/29/adolescente-acuchilla-a-su-padrastro-tras-pelea-por-videojuego-en-puerto-nuevo.html\n"
     ]
    },
    {
     "name": "stderr",
     "output_type": "stream",
     "text": [
      "C:\\Users\\Dell User\\anaconda3\\envs\\proyectos\\lib\\site-packages\\urllib3\\connectionpool.py:1013: InsecureRequestWarning: Unverified HTTPS request is being made to host 'www.metro.pr'. Adding certificate verification is strongly advised. See: https://urllib3.readthedocs.io/en/1.26.x/advanced-usage.html#ssl-warnings\n",
      "  warnings.warn(\n",
      "C:\\Users\\Dell User\\anaconda3\\envs\\proyectos\\lib\\site-packages\\urllib3\\connectionpool.py:1013: InsecureRequestWarning: Unverified HTTPS request is being made to host 'politica.estadao.com.br'. Adding certificate verification is strongly advised. See: https://urllib3.readthedocs.io/en/1.26.x/advanced-usage.html#ssl-warnings\n",
      "  warnings.warn(\n"
     ]
    },
    {
     "name": "stdout",
     "output_type": "stream",
     "text": [
      "https://politica.estadao.com.br/blogs/legis-ativo/legis-ativo-resumo-da-semana-eleicoes-2022-fim-do-recesso-parlamentar-o-rumo-do-ptb-e-do-bolsonarismo-reforma-administrativa-e-muito-mais/\n"
     ]
    },
    {
     "name": "stderr",
     "output_type": "stream",
     "text": [
      "C:\\Users\\Dell User\\anaconda3\\envs\\proyectos\\lib\\site-packages\\urllib3\\connectionpool.py:1013: InsecureRequestWarning: Unverified HTTPS request is being made to host 'politica.estadao.com.br'. Adding certificate verification is strongly advised. See: https://urllib3.readthedocs.io/en/1.26.x/advanced-usage.html#ssl-warnings\n",
      "  warnings.warn(\n",
      "C:\\Users\\Dell User\\anaconda3\\envs\\proyectos\\lib\\site-packages\\urllib3\\connectionpool.py:1013: InsecureRequestWarning: Unverified HTTPS request is being made to host 'www.techtudo.com.br'. Adding certificate verification is strongly advised. See: https://urllib3.readthedocs.io/en/1.26.x/advanced-usage.html#ssl-warnings\n",
      "  warnings.warn(\n"
     ]
    },
    {
     "name": "stdout",
     "output_type": "stream",
     "text": [
      "https://www.techtudo.com.br/noticias/2021/07/aspirador-robo-vale-a-pena-mesmo.ghtml\n"
     ]
    },
    {
     "name": "stderr",
     "output_type": "stream",
     "text": [
      "C:\\Users\\Dell User\\anaconda3\\envs\\proyectos\\lib\\site-packages\\urllib3\\connectionpool.py:1013: InsecureRequestWarning: Unverified HTTPS request is being made to host 'www.techtudo.com.br'. Adding certificate verification is strongly advised. See: https://urllib3.readthedocs.io/en/1.26.x/advanced-usage.html#ssl-warnings\n",
      "  warnings.warn(\n",
      "C:\\Users\\Dell User\\anaconda3\\envs\\proyectos\\lib\\site-packages\\urllib3\\connectionpool.py:1013: InsecureRequestWarning: Unverified HTTPS request is being made to host 'www.techtudo.com.br'. Adding certificate verification is strongly advised. See: https://urllib3.readthedocs.io/en/1.26.x/advanced-usage.html#ssl-warnings\n",
      "  warnings.warn(\n"
     ]
    },
    {
     "name": "stdout",
     "output_type": "stream",
     "text": [
      "https://www.techtudo.com.br/noticias/2021/07/free-fire-max-tera-download-para-pc-saiba-o-que-e-rumor-e-o-que-e-verdade-esports.ghtml\n"
     ]
    },
    {
     "name": "stderr",
     "output_type": "stream",
     "text": [
      "C:\\Users\\Dell User\\anaconda3\\envs\\proyectos\\lib\\site-packages\\urllib3\\connectionpool.py:1013: InsecureRequestWarning: Unverified HTTPS request is being made to host 'www.techtudo.com.br'. Adding certificate verification is strongly advised. See: https://urllib3.readthedocs.io/en/1.26.x/advanced-usage.html#ssl-warnings\n",
      "  warnings.warn(\n",
      "C:\\Users\\Dell User\\anaconda3\\envs\\proyectos\\lib\\site-packages\\urllib3\\connectionpool.py:1013: InsecureRequestWarning: Unverified HTTPS request is being made to host 'www.techtudo.com.br'. Adding certificate verification is strongly advised. See: https://urllib3.readthedocs.io/en/1.26.x/advanced-usage.html#ssl-warnings\n",
      "  warnings.warn(\n"
     ]
    },
    {
     "name": "stdout",
     "output_type": "stream",
     "text": [
      "https://www.techtudo.com.br/noticias/2021/07/galaxy-a32-vs-galaxy-a32-5g-compare-ficha-tecnica-e-preco.ghtml\n"
     ]
    },
    {
     "name": "stderr",
     "output_type": "stream",
     "text": [
      "C:\\Users\\Dell User\\anaconda3\\envs\\proyectos\\lib\\site-packages\\urllib3\\connectionpool.py:1013: InsecureRequestWarning: Unverified HTTPS request is being made to host 'www.techtudo.com.br'. Adding certificate verification is strongly advised. See: https://urllib3.readthedocs.io/en/1.26.x/advanced-usage.html#ssl-warnings\n",
      "  warnings.warn(\n",
      "C:\\Users\\Dell User\\anaconda3\\envs\\proyectos\\lib\\site-packages\\urllib3\\connectionpool.py:1013: InsecureRequestWarning: Unverified HTTPS request is being made to host 'cultura.estadao.com.br'. Adding certificate verification is strongly advised. See: https://urllib3.readthedocs.io/en/1.26.x/advanced-usage.html#ssl-warnings\n",
      "  warnings.warn(\n"
     ]
    },
    {
     "name": "stdout",
     "output_type": "stream",
     "text": [
      "https://cultura.estadao.com.br/noticias/cinema,joao-cortes-dirige-nas-maos-de-quem-me-leva-seu-primeiro-longa,70003767751\n"
     ]
    },
    {
     "name": "stderr",
     "output_type": "stream",
     "text": [
      "C:\\Users\\Dell User\\anaconda3\\envs\\proyectos\\lib\\site-packages\\urllib3\\connectionpool.py:1013: InsecureRequestWarning: Unverified HTTPS request is being made to host 'cultura.estadao.com.br'. Adding certificate verification is strongly advised. See: https://urllib3.readthedocs.io/en/1.26.x/advanced-usage.html#ssl-warnings\n",
      "  warnings.warn(\n",
      "C:\\Users\\Dell User\\anaconda3\\envs\\proyectos\\lib\\site-packages\\urllib3\\connectionpool.py:1013: InsecureRequestWarning: Unverified HTTPS request is being made to host 'epocanegocios.globo.com'. Adding certificate verification is strongly advised. See: https://urllib3.readthedocs.io/en/1.26.x/advanced-usage.html#ssl-warnings\n",
      "  warnings.warn(\n"
     ]
    },
    {
     "name": "stdout",
     "output_type": "stream",
     "text": [
      "https://epocanegocios.globo.com/Mundo/noticia/2021/07/estados-dos-eua-alegam-que-google-preservou-monopolio-na-play-store-ilegalmente.html\n"
     ]
    },
    {
     "name": "stderr",
     "output_type": "stream",
     "text": [
      "C:\\Users\\Dell User\\anaconda3\\envs\\proyectos\\lib\\site-packages\\urllib3\\connectionpool.py:1013: InsecureRequestWarning: Unverified HTTPS request is being made to host 'epocanegocios.globo.com'. Adding certificate verification is strongly advised. See: https://urllib3.readthedocs.io/en/1.26.x/advanced-usage.html#ssl-warnings\n",
      "  warnings.warn(\n",
      "C:\\Users\\Dell User\\anaconda3\\envs\\proyectos\\lib\\site-packages\\urllib3\\connectionpool.py:1013: InsecureRequestWarning: Unverified HTTPS request is being made to host 'www.techtudo.com.br'. Adding certificate verification is strongly advised. See: https://urllib3.readthedocs.io/en/1.26.x/advanced-usage.html#ssl-warnings\n",
      "  warnings.warn(\n"
     ]
    },
    {
     "name": "stdout",
     "output_type": "stream",
     "text": [
      "https://www.techtudo.com.br/dicas-e-tutoriais/2021/07/como-converter-imagens-webp-para-jpg-ou-png.ghtml\n"
     ]
    },
    {
     "name": "stderr",
     "output_type": "stream",
     "text": [
      "C:\\Users\\Dell User\\anaconda3\\envs\\proyectos\\lib\\site-packages\\urllib3\\connectionpool.py:1013: InsecureRequestWarning: Unverified HTTPS request is being made to host 'www.techtudo.com.br'. Adding certificate verification is strongly advised. See: https://urllib3.readthedocs.io/en/1.26.x/advanced-usage.html#ssl-warnings\n",
      "  warnings.warn(\n",
      "C:\\Users\\Dell User\\anaconda3\\envs\\proyectos\\lib\\site-packages\\urllib3\\connectionpool.py:1013: InsecureRequestWarning: Unverified HTTPS request is being made to host 'www.metro.pr'. Adding certificate verification is strongly advised. See: https://urllib3.readthedocs.io/en/1.26.x/advanced-usage.html#ssl-warnings\n",
      "  warnings.warn(\n"
     ]
    },
    {
     "name": "stdout",
     "output_type": "stream",
     "text": [
      "https://www.metro.pr/pr/estilo-vida/2021/07/01/whatsapp-podra-cerrar-tu-cuenta-para-siempre-si-haces-esto.html\n"
     ]
    },
    {
     "name": "stderr",
     "output_type": "stream",
     "text": [
      "C:\\Users\\Dell User\\anaconda3\\envs\\proyectos\\lib\\site-packages\\urllib3\\connectionpool.py:1013: InsecureRequestWarning: Unverified HTTPS request is being made to host 'www.metro.pr'. Adding certificate verification is strongly advised. See: https://urllib3.readthedocs.io/en/1.26.x/advanced-usage.html#ssl-warnings\n",
      "  warnings.warn(\n",
      "C:\\Users\\Dell User\\anaconda3\\envs\\proyectos\\lib\\site-packages\\urllib3\\connectionpool.py:1013: InsecureRequestWarning: Unverified HTTPS request is being made to host 'noticias.uol.com.br'. Adding certificate verification is strongly advised. See: https://urllib3.readthedocs.io/en/1.26.x/advanced-usage.html#ssl-warnings\n",
      "  warnings.warn(\n"
     ]
    },
    {
     "name": "stdout",
     "output_type": "stream",
     "text": [
      "https://noticias.uol.com.br/colunas/juliana-dal-piva/2021/07/08/queiroz-audios-rachadinha-mp.htm\n"
     ]
    },
    {
     "name": "stderr",
     "output_type": "stream",
     "text": [
      "C:\\Users\\Dell User\\anaconda3\\envs\\proyectos\\lib\\site-packages\\urllib3\\connectionpool.py:1013: InsecureRequestWarning: Unverified HTTPS request is being made to host 'noticias.uol.com.br'. Adding certificate verification is strongly advised. See: https://urllib3.readthedocs.io/en/1.26.x/advanced-usage.html#ssl-warnings\n",
      "  warnings.warn(\n",
      "C:\\Users\\Dell User\\anaconda3\\envs\\proyectos\\lib\\site-packages\\urllib3\\connectionpool.py:1013: InsecureRequestWarning: Unverified HTTPS request is being made to host 'link.estadao.com.br'. Adding certificate verification is strongly advised. See: https://urllib3.readthedocs.io/en/1.26.x/advanced-usage.html#ssl-warnings\n",
      "  warnings.warn(\n"
     ]
    },
    {
     "name": "stdout",
     "output_type": "stream",
     "text": [
      "https://link.estadao.com.br/noticias/empresas,netflix-quer-entrar-no-mercado-de-games-em-2022,70003778779\n"
     ]
    },
    {
     "name": "stderr",
     "output_type": "stream",
     "text": [
      "C:\\Users\\Dell User\\anaconda3\\envs\\proyectos\\lib\\site-packages\\urllib3\\connectionpool.py:1013: InsecureRequestWarning: Unverified HTTPS request is being made to host 'link.estadao.com.br'. Adding certificate verification is strongly advised. See: https://urllib3.readthedocs.io/en/1.26.x/advanced-usage.html#ssl-warnings\n",
      "  warnings.warn(\n",
      "C:\\Users\\Dell User\\anaconda3\\envs\\proyectos\\lib\\site-packages\\urllib3\\connectionpool.py:1013: InsecureRequestWarning: Unverified HTTPS request is being made to host 'noticias.uol.com.br'. Adding certificate verification is strongly advised. See: https://urllib3.readthedocs.io/en/1.26.x/advanced-usage.html#ssl-warnings\n",
      "  warnings.warn(\n"
     ]
    },
    {
     "name": "stdout",
     "output_type": "stream",
     "text": [
      "https://noticias.uol.com.br/videos/2021/07/07/segundo-casamento-de-bolsonaro-e-a-origem-do-esquema-de-devolucao-de-salario.htm\n"
     ]
    },
    {
     "name": "stderr",
     "output_type": "stream",
     "text": [
      "C:\\Users\\Dell User\\anaconda3\\envs\\proyectos\\lib\\site-packages\\urllib3\\connectionpool.py:1013: InsecureRequestWarning: Unverified HTTPS request is being made to host 'noticias.uol.com.br'. Adding certificate verification is strongly advised. See: https://urllib3.readthedocs.io/en/1.26.x/advanced-usage.html#ssl-warnings\n",
      "  warnings.warn(\n",
      "C:\\Users\\Dell User\\anaconda3\\envs\\proyectos\\lib\\site-packages\\urllib3\\connectionpool.py:1013: InsecureRequestWarning: Unverified HTTPS request is being made to host 'www.techtudo.com.br'. Adding certificate verification is strongly advised. See: https://urllib3.readthedocs.io/en/1.26.x/advanced-usage.html#ssl-warnings\n",
      "  warnings.warn(\n"
     ]
    },
    {
     "name": "stdout",
     "output_type": "stream",
     "text": [
      "https://www.techtudo.com.br/e-sports/techtudo.com.br/noticias/2021/07/free-fire-alcanca-um-bilhao-de-downloads-na-google-play-store-esports.ghtml\n"
     ]
    },
    {
     "name": "stderr",
     "output_type": "stream",
     "text": [
      "C:\\Users\\Dell User\\anaconda3\\envs\\proyectos\\lib\\site-packages\\urllib3\\connectionpool.py:1013: InsecureRequestWarning: Unverified HTTPS request is being made to host 'www.techtudo.com.br'. Adding certificate verification is strongly advised. See: https://urllib3.readthedocs.io/en/1.26.x/advanced-usage.html#ssl-warnings\n",
      "  warnings.warn(\n",
      "C:\\Users\\Dell User\\anaconda3\\envs\\proyectos\\lib\\site-packages\\urllib3\\connectionpool.py:1013: InsecureRequestWarning: Unverified HTTPS request is being made to host 'www.techtudo.com.br'. Adding certificate verification is strongly advised. See: https://urllib3.readthedocs.io/en/1.26.x/advanced-usage.html#ssl-warnings\n",
      "  warnings.warn(\n"
     ]
    },
    {
     "name": "stdout",
     "output_type": "stream",
     "text": [
      "https://www.techtudo.com.br/dicas-e-tutoriais/2021/07/brasil-x-estados-unidos-ao-vivo-onde-assistir-ao-volei-masculino-na-olimpiada.ghtml\n"
     ]
    },
    {
     "name": "stderr",
     "output_type": "stream",
     "text": [
      "C:\\Users\\Dell User\\anaconda3\\envs\\proyectos\\lib\\site-packages\\urllib3\\connectionpool.py:1013: InsecureRequestWarning: Unverified HTTPS request is being made to host 'www.techtudo.com.br'. Adding certificate verification is strongly advised. See: https://urllib3.readthedocs.io/en/1.26.x/advanced-usage.html#ssl-warnings\n",
      "  warnings.warn(\n",
      "C:\\Users\\Dell User\\anaconda3\\envs\\proyectos\\lib\\site-packages\\urllib3\\connectionpool.py:1013: InsecureRequestWarning: Unverified HTTPS request is being made to host 'revistapegn.globo.com'. Adding certificate verification is strongly advised. See: https://urllib3.readthedocs.io/en/1.26.x/advanced-usage.html#ssl-warnings\n",
      "  warnings.warn(\n"
     ]
    },
    {
     "name": "stdout",
     "output_type": "stream",
     "text": [
      "https://revistapegn.globo.com/Negocios/noticia/2021/07/google-exige-que-funcionarios-se-vacinem-antes-de-voltarem-seus-escritorios-nos-eua-e-no-mundo.html\n"
     ]
    },
    {
     "name": "stderr",
     "output_type": "stream",
     "text": [
      "C:\\Users\\Dell User\\anaconda3\\envs\\proyectos\\lib\\site-packages\\urllib3\\connectionpool.py:1013: InsecureRequestWarning: Unverified HTTPS request is being made to host 'revistapegn.globo.com'. Adding certificate verification is strongly advised. See: https://urllib3.readthedocs.io/en/1.26.x/advanced-usage.html#ssl-warnings\n",
      "  warnings.warn(\n",
      "C:\\Users\\Dell User\\anaconda3\\envs\\proyectos\\lib\\site-packages\\urllib3\\connectionpool.py:1013: InsecureRequestWarning: Unverified HTTPS request is being made to host 'www.techtudo.com.br'. Adding certificate verification is strongly advised. See: https://urllib3.readthedocs.io/en/1.26.x/advanced-usage.html#ssl-warnings\n",
      "  warnings.warn(\n"
     ]
    },
    {
     "name": "stdout",
     "output_type": "stream",
     "text": [
      "https://www.techtudo.com.br/noticias/2021/07/marvel-future-revolution-veja-requisitos-para-download-no-android-e-ios.ghtml\n"
     ]
    },
    {
     "name": "stderr",
     "output_type": "stream",
     "text": [
      "C:\\Users\\Dell User\\anaconda3\\envs\\proyectos\\lib\\site-packages\\urllib3\\connectionpool.py:1013: InsecureRequestWarning: Unverified HTTPS request is being made to host 'www.techtudo.com.br'. Adding certificate verification is strongly advised. See: https://urllib3.readthedocs.io/en/1.26.x/advanced-usage.html#ssl-warnings\n",
      "  warnings.warn(\n",
      "C:\\Users\\Dell User\\anaconda3\\envs\\proyectos\\lib\\site-packages\\urllib3\\connectionpool.py:1013: InsecureRequestWarning: Unverified HTTPS request is being made to host 'www.techtudo.com.br'. Adding certificate verification is strongly advised. See: https://urllib3.readthedocs.io/en/1.26.x/advanced-usage.html#ssl-warnings\n",
      "  warnings.warn(\n"
     ]
    },
    {
     "name": "stdout",
     "output_type": "stream",
     "text": [
      "https://www.techtudo.com.br/noticias/2021/07/jogos-para-ganhar-dinheiro-funcionam-saiba-se-apps-sao-seguros.ghtml\n"
     ]
    },
    {
     "name": "stderr",
     "output_type": "stream",
     "text": [
      "C:\\Users\\Dell User\\anaconda3\\envs\\proyectos\\lib\\site-packages\\urllib3\\connectionpool.py:1013: InsecureRequestWarning: Unverified HTTPS request is being made to host 'www.techtudo.com.br'. Adding certificate verification is strongly advised. See: https://urllib3.readthedocs.io/en/1.26.x/advanced-usage.html#ssl-warnings\n",
      "  warnings.warn(\n",
      "C:\\Users\\Dell User\\anaconda3\\envs\\proyectos\\lib\\site-packages\\urllib3\\connectionpool.py:1013: InsecureRequestWarning: Unverified HTTPS request is being made to host 'www.metro.pr'. Adding certificate verification is strongly advised. See: https://urllib3.readthedocs.io/en/1.26.x/advanced-usage.html#ssl-warnings\n",
      "  warnings.warn(\n"
     ]
    },
    {
     "name": "stdout",
     "output_type": "stream",
     "text": [
      "https://www.metro.pr/pr/deportes/2021/07/28/mexico-golea-a-sudafrica-y-avanza-a-cuartos-en-el-futbol-olimpico.html\n"
     ]
    },
    {
     "name": "stderr",
     "output_type": "stream",
     "text": [
      "C:\\Users\\Dell User\\anaconda3\\envs\\proyectos\\lib\\site-packages\\urllib3\\connectionpool.py:1013: InsecureRequestWarning: Unverified HTTPS request is being made to host 'www.metro.pr'. Adding certificate verification is strongly advised. See: https://urllib3.readthedocs.io/en/1.26.x/advanced-usage.html#ssl-warnings\n",
      "  warnings.warn(\n",
      "C:\\Users\\Dell User\\anaconda3\\envs\\proyectos\\lib\\site-packages\\urllib3\\connectionpool.py:1013: InsecureRequestWarning: Unverified HTTPS request is being made to host 'www.techtudo.com.br'. Adding certificate verification is strongly advised. See: https://urllib3.readthedocs.io/en/1.26.x/advanced-usage.html#ssl-warnings\n",
      "  warnings.warn(\n"
     ]
    },
    {
     "name": "stdout",
     "output_type": "stream",
     "text": [
      "https://www.techtudo.com.br/dicas-e-tutoriais/2021/07/como-instalar-o-whatsapp-no-celular-android-e-iphone-ios.ghtml\n"
     ]
    },
    {
     "name": "stderr",
     "output_type": "stream",
     "text": [
      "C:\\Users\\Dell User\\anaconda3\\envs\\proyectos\\lib\\site-packages\\urllib3\\connectionpool.py:1013: InsecureRequestWarning: Unverified HTTPS request is being made to host 'www.techtudo.com.br'. Adding certificate verification is strongly advised. See: https://urllib3.readthedocs.io/en/1.26.x/advanced-usage.html#ssl-warnings\n",
      "  warnings.warn(\n",
      "C:\\Users\\Dell User\\anaconda3\\envs\\proyectos\\lib\\site-packages\\urllib3\\connectionpool.py:1013: InsecureRequestWarning: Unverified HTTPS request is being made to host 'www.ambito.com'. Adding certificate verification is strongly advised. See: https://urllib3.readthedocs.io/en/1.26.x/advanced-usage.html#ssl-warnings\n",
      "  warnings.warn(\n"
     ]
    },
    {
     "name": "stdout",
     "output_type": "stream",
     "text": [
      "https://www.ambito.com/informacion-general/whatsapp/como-combinar-y-mezclar-emojis-facilmente-n5219442\n"
     ]
    },
    {
     "name": "stderr",
     "output_type": "stream",
     "text": [
      "C:\\Users\\Dell User\\anaconda3\\envs\\proyectos\\lib\\site-packages\\urllib3\\connectionpool.py:1013: InsecureRequestWarning: Unverified HTTPS request is being made to host 'www.ambito.com'. Adding certificate verification is strongly advised. See: https://urllib3.readthedocs.io/en/1.26.x/advanced-usage.html#ssl-warnings\n",
      "  warnings.warn(\n",
      "C:\\Users\\Dell User\\anaconda3\\envs\\proyectos\\lib\\site-packages\\urllib3\\connectionpool.py:1013: InsecureRequestWarning: Unverified HTTPS request is being made to host 'www.techtudo.com.br'. Adding certificate verification is strongly advised. See: https://urllib3.readthedocs.io/en/1.26.x/advanced-usage.html#ssl-warnings\n",
      "  warnings.warn(\n"
     ]
    },
    {
     "name": "stdout",
     "output_type": "stream",
     "text": [
      "https://www.techtudo.com.br/listas/2021/07/transporte-sustentavel-seis-programas-para-trocar-o-carro-por-bicicleta.ghtml\n"
     ]
    },
    {
     "name": "stderr",
     "output_type": "stream",
     "text": [
      "C:\\Users\\Dell User\\anaconda3\\envs\\proyectos\\lib\\site-packages\\urllib3\\connectionpool.py:1013: InsecureRequestWarning: Unverified HTTPS request is being made to host 'www.techtudo.com.br'. Adding certificate verification is strongly advised. See: https://urllib3.readthedocs.io/en/1.26.x/advanced-usage.html#ssl-warnings\n",
      "  warnings.warn(\n",
      "C:\\Users\\Dell User\\anaconda3\\envs\\proyectos\\lib\\site-packages\\urllib3\\connectionpool.py:1013: InsecureRequestWarning: Unverified HTTPS request is being made to host 'noticias.uol.com.br'. Adding certificate verification is strongly advised. See: https://urllib3.readthedocs.io/en/1.26.x/advanced-usage.html#ssl-warnings\n",
      "  warnings.warn(\n"
     ]
    },
    {
     "name": "stdout",
     "output_type": "stream",
     "text": [
      "https://noticias.uol.com.br/colunas/juliana-dal-piva/2021/07/06/marcia-aguiar-fabricio-queiroz-vao-matar-rachadinha.htm\n"
     ]
    },
    {
     "name": "stderr",
     "output_type": "stream",
     "text": [
      "C:\\Users\\Dell User\\anaconda3\\envs\\proyectos\\lib\\site-packages\\urllib3\\connectionpool.py:1013: InsecureRequestWarning: Unverified HTTPS request is being made to host 'noticias.uol.com.br'. Adding certificate verification is strongly advised. See: https://urllib3.readthedocs.io/en/1.26.x/advanced-usage.html#ssl-warnings\n",
      "  warnings.warn(\n",
      "C:\\Users\\Dell User\\anaconda3\\envs\\proyectos\\lib\\site-packages\\urllib3\\connectionpool.py:1013: InsecureRequestWarning: Unverified HTTPS request is being made to host 'www.techtudo.com.br'. Adding certificate verification is strongly advised. See: https://urllib3.readthedocs.io/en/1.26.x/advanced-usage.html#ssl-warnings\n",
      "  warnings.warn(\n"
     ]
    },
    {
     "name": "stdout",
     "output_type": "stream",
     "text": [
      "https://www.techtudo.com.br/noticias/2021/07/tiktok-fora-do-ar-hoje-usuarios-relatam-problemas-no-app.ghtml\n"
     ]
    },
    {
     "name": "stderr",
     "output_type": "stream",
     "text": [
      "C:\\Users\\Dell User\\anaconda3\\envs\\proyectos\\lib\\site-packages\\urllib3\\connectionpool.py:1013: InsecureRequestWarning: Unverified HTTPS request is being made to host 'www.techtudo.com.br'. Adding certificate verification is strongly advised. See: https://urllib3.readthedocs.io/en/1.26.x/advanced-usage.html#ssl-warnings\n",
      "  warnings.warn(\n",
      "C:\\Users\\Dell User\\anaconda3\\envs\\proyectos\\lib\\site-packages\\urllib3\\connectionpool.py:1013: InsecureRequestWarning: Unverified HTTPS request is being made to host 'www.bluradio.com'. Adding certificate verification is strongly advised. See: https://urllib3.readthedocs.io/en/1.26.x/advanced-usage.html#ssl-warnings\n",
      "  warnings.warn(\n"
     ]
    },
    {
     "name": "stdout",
     "output_type": "stream",
     "text": [
      "https://www.bluradio.com/tecnologia/videojuegos/fifa-22-sera-lanzado-el-1-de-octubre-con-mas-realismo-e-inmersion-que-nunca\n"
     ]
    },
    {
     "name": "stderr",
     "output_type": "stream",
     "text": [
      "C:\\Users\\Dell User\\anaconda3\\envs\\proyectos\\lib\\site-packages\\urllib3\\connectionpool.py:1013: InsecureRequestWarning: Unverified HTTPS request is being made to host 'www.bluradio.com'. Adding certificate verification is strongly advised. See: https://urllib3.readthedocs.io/en/1.26.x/advanced-usage.html#ssl-warnings\n",
      "  warnings.warn(\n",
      "C:\\Users\\Dell User\\anaconda3\\envs\\proyectos\\lib\\site-packages\\urllib3\\connectionpool.py:1013: InsecureRequestWarning: Unverified HTTPS request is being made to host 'link.estadao.com.br'. Adding certificate verification is strongly advised. See: https://urllib3.readthedocs.io/en/1.26.x/advanced-usage.html#ssl-warnings\n",
      "  warnings.warn(\n"
     ]
    },
    {
     "name": "stdout",
     "output_type": "stream",
     "text": [
      "https://link.estadao.com.br/noticias/cultura-digital,como-cuidar-do-patrimonio-digital-de-pessoas-falecidas,70003787079\n"
     ]
    },
    {
     "name": "stderr",
     "output_type": "stream",
     "text": [
      "C:\\Users\\Dell User\\anaconda3\\envs\\proyectos\\lib\\site-packages\\urllib3\\connectionpool.py:1013: InsecureRequestWarning: Unverified HTTPS request is being made to host 'link.estadao.com.br'. Adding certificate verification is strongly advised. See: https://urllib3.readthedocs.io/en/1.26.x/advanced-usage.html#ssl-warnings\n",
      "  warnings.warn(\n",
      "C:\\Users\\Dell User\\anaconda3\\envs\\proyectos\\lib\\site-packages\\urllib3\\connectionpool.py:1013: InsecureRequestWarning: Unverified HTTPS request is being made to host 'www.techtudo.com.br'. Adding certificate verification is strongly advised. See: https://urllib3.readthedocs.io/en/1.26.x/advanced-usage.html#ssl-warnings\n",
      "  warnings.warn(\n"
     ]
    },
    {
     "name": "stdout",
     "output_type": "stream",
     "text": [
      "https://www.techtudo.com.br/noticias/2021/07/pane-na-vivo-deixa-clientes-sem-google-wikipedia-e-outros-sites.ghtml\n"
     ]
    },
    {
     "name": "stderr",
     "output_type": "stream",
     "text": [
      "C:\\Users\\Dell User\\anaconda3\\envs\\proyectos\\lib\\site-packages\\urllib3\\connectionpool.py:1013: InsecureRequestWarning: Unverified HTTPS request is being made to host 'www.techtudo.com.br'. Adding certificate verification is strongly advised. See: https://urllib3.readthedocs.io/en/1.26.x/advanced-usage.html#ssl-warnings\n",
      "  warnings.warn(\n",
      "C:\\Users\\Dell User\\anaconda3\\envs\\proyectos\\lib\\site-packages\\urllib3\\connectionpool.py:1013: InsecureRequestWarning: Unverified HTTPS request is being made to host 'politica.estadao.com.br'. Adding certificate verification is strongly advised. See: https://urllib3.readthedocs.io/en/1.26.x/advanced-usage.html#ssl-warnings\n",
      "  warnings.warn(\n"
     ]
    },
    {
     "name": "stdout",
     "output_type": "stream",
     "text": [
      "https://politica.estadao.com.br/blogs/legis-ativo/legis-ativo-resumo-da-semana-superpedido-de-impeachment-de-bolsonaro-irregularidades-na-compra-de-vacina-contra-o-coronavirus-filiacao-da-familia-bolsonaro-ao-patriotas-e-muito-mais/\n"
     ]
    },
    {
     "name": "stderr",
     "output_type": "stream",
     "text": [
      "C:\\Users\\Dell User\\anaconda3\\envs\\proyectos\\lib\\site-packages\\urllib3\\connectionpool.py:1013: InsecureRequestWarning: Unverified HTTPS request is being made to host 'politica.estadao.com.br'. Adding certificate verification is strongly advised. See: https://urllib3.readthedocs.io/en/1.26.x/advanced-usage.html#ssl-warnings\n",
      "  warnings.warn(\n",
      "C:\\Users\\Dell User\\anaconda3\\envs\\proyectos\\lib\\site-packages\\urllib3\\connectionpool.py:1013: InsecureRequestWarning: Unverified HTTPS request is being made to host 'www.techtudo.com.br'. Adding certificate verification is strongly advised. See: https://urllib3.readthedocs.io/en/1.26.x/advanced-usage.html#ssl-warnings\n",
      "  warnings.warn(\n"
     ]
    },
    {
     "name": "stdout",
     "output_type": "stream",
     "text": [
      "https://www.techtudo.com.br/noticias/2021/07/motorola-edge-20-e-anunciado-com-5g-lite-e-pro-tambem-chegam-ao-mercado.ghtml\n"
     ]
    },
    {
     "name": "stderr",
     "output_type": "stream",
     "text": [
      "C:\\Users\\Dell User\\anaconda3\\envs\\proyectos\\lib\\site-packages\\urllib3\\connectionpool.py:1013: InsecureRequestWarning: Unverified HTTPS request is being made to host 'www.techtudo.com.br'. Adding certificate verification is strongly advised. See: https://urllib3.readthedocs.io/en/1.26.x/advanced-usage.html#ssl-warnings\n",
      "  warnings.warn(\n",
      "C:\\Users\\Dell User\\anaconda3\\envs\\proyectos\\lib\\site-packages\\urllib3\\connectionpool.py:1013: InsecureRequestWarning: Unverified HTTPS request is being made to host 'www.techtudo.com.br'. Adding certificate verification is strongly advised. See: https://urllib3.readthedocs.io/en/1.26.x/advanced-usage.html#ssl-warnings\n",
      "  warnings.warn(\n"
     ]
    },
    {
     "name": "stdout",
     "output_type": "stream",
     "text": [
      "https://www.techtudo.com.br/noticias/2021/07/moto-e7-vs-moto-e7-plus-compare-ficha-tecnica-e-preco.ghtml\n"
     ]
    },
    {
     "name": "stderr",
     "output_type": "stream",
     "text": [
      "C:\\Users\\Dell User\\anaconda3\\envs\\proyectos\\lib\\site-packages\\urllib3\\connectionpool.py:1013: InsecureRequestWarning: Unverified HTTPS request is being made to host 'www.techtudo.com.br'. Adding certificate verification is strongly advised. See: https://urllib3.readthedocs.io/en/1.26.x/advanced-usage.html#ssl-warnings\n",
      "  warnings.warn(\n",
      "C:\\Users\\Dell User\\anaconda3\\envs\\proyectos\\lib\\site-packages\\urllib3\\connectionpool.py:1013: InsecureRequestWarning: Unverified HTTPS request is being made to host 'www.metro.pr'. Adding certificate verification is strongly advised. See: https://urllib3.readthedocs.io/en/1.26.x/advanced-usage.html#ssl-warnings\n",
      "  warnings.warn(\n"
     ]
    },
    {
     "name": "stdout",
     "output_type": "stream",
     "text": [
      "https://www.metro.pr/pr/noticias/2021/07/22/hombre-denuncia-estafa-luego-de-pagar-para-que-le-dieran-los-numeros-del-pega-3.html\n"
     ]
    },
    {
     "name": "stderr",
     "output_type": "stream",
     "text": [
      "C:\\Users\\Dell User\\anaconda3\\envs\\proyectos\\lib\\site-packages\\urllib3\\connectionpool.py:1013: InsecureRequestWarning: Unverified HTTPS request is being made to host 'www.metro.pr'. Adding certificate verification is strongly advised. See: https://urllib3.readthedocs.io/en/1.26.x/advanced-usage.html#ssl-warnings\n",
      "  warnings.warn(\n",
      "C:\\Users\\Dell User\\anaconda3\\envs\\proyectos\\lib\\site-packages\\urllib3\\connectionpool.py:1013: InsecureRequestWarning: Unverified HTTPS request is being made to host 'epocanegocios.globo.com'. Adding certificate verification is strongly advised. See: https://urllib3.readthedocs.io/en/1.26.x/advanced-usage.html#ssl-warnings\n",
      "  warnings.warn(\n"
     ]
    },
    {
     "name": "stdout",
     "output_type": "stream",
     "text": [
      "https://epocanegocios.globo.com/Tecnologia/noticia/2021/07/epoca-negocios-microsoft-vai-lancar-versao-do-windows-baseada-em-nuvem.html\n"
     ]
    },
    {
     "name": "stderr",
     "output_type": "stream",
     "text": [
      "C:\\Users\\Dell User\\anaconda3\\envs\\proyectos\\lib\\site-packages\\urllib3\\connectionpool.py:1013: InsecureRequestWarning: Unverified HTTPS request is being made to host 'epocanegocios.globo.com'. Adding certificate verification is strongly advised. See: https://urllib3.readthedocs.io/en/1.26.x/advanced-usage.html#ssl-warnings\n",
      "  warnings.warn(\n",
      "C:\\Users\\Dell User\\anaconda3\\envs\\proyectos\\lib\\site-packages\\urllib3\\connectionpool.py:1013: InsecureRequestWarning: Unverified HTTPS request is being made to host 'noticias.uol.com.br'. Adding certificate verification is strongly advised. See: https://urllib3.readthedocs.io/en/1.26.x/advanced-usage.html#ssl-warnings\n",
      "  warnings.warn(\n"
     ]
    },
    {
     "name": "stdout",
     "output_type": "stream",
     "text": [
      "https://noticias.uol.com.br/ultimas-noticias/bbc/2021/07/13/por-que-o-chefao-do-google-diz-que-a-internet-livre-esta-sob-ataque.htm\n"
     ]
    },
    {
     "name": "stderr",
     "output_type": "stream",
     "text": [
      "C:\\Users\\Dell User\\anaconda3\\envs\\proyectos\\lib\\site-packages\\urllib3\\connectionpool.py:1013: InsecureRequestWarning: Unverified HTTPS request is being made to host 'noticias.uol.com.br'. Adding certificate verification is strongly advised. See: https://urllib3.readthedocs.io/en/1.26.x/advanced-usage.html#ssl-warnings\n",
      "  warnings.warn(\n",
      "C:\\Users\\Dell User\\anaconda3\\envs\\proyectos\\lib\\site-packages\\urllib3\\connectionpool.py:1013: InsecureRequestWarning: Unverified HTTPS request is being made to host 'epocanegocios.globo.com'. Adding certificate verification is strongly advised. See: https://urllib3.readthedocs.io/en/1.26.x/advanced-usage.html#ssl-warnings\n",
      "  warnings.warn(\n"
     ]
    },
    {
     "name": "stdout",
     "output_type": "stream",
     "text": [
      "https://epocanegocios.globo.com/Empresa/noticia/2021/07/epoca-negocios-google-deve-enfrentar-processo-sobre-assistente-de-voz-diz-juiza-dos-eua.html\n"
     ]
    },
    {
     "name": "stderr",
     "output_type": "stream",
     "text": [
      "C:\\Users\\Dell User\\anaconda3\\envs\\proyectos\\lib\\site-packages\\urllib3\\connectionpool.py:1013: InsecureRequestWarning: Unverified HTTPS request is being made to host 'epocanegocios.globo.com'. Adding certificate verification is strongly advised. See: https://urllib3.readthedocs.io/en/1.26.x/advanced-usage.html#ssl-warnings\n",
      "  warnings.warn(\n",
      "C:\\Users\\Dell User\\anaconda3\\envs\\proyectos\\lib\\site-packages\\urllib3\\connectionpool.py:1013: InsecureRequestWarning: Unverified HTTPS request is being made to host 'noticias.uol.com.br'. Adding certificate verification is strongly advised. See: https://urllib3.readthedocs.io/en/1.26.x/advanced-usage.html#ssl-warnings\n",
      "  warnings.warn(\n",
      "C:\\Users\\Dell User\\anaconda3\\envs\\proyectos\\lib\\site-packages\\urllib3\\connectionpool.py:1013: InsecureRequestWarning: Unverified HTTPS request is being made to host 'www.uol.com.br'. Adding certificate verification is strongly advised. See: https://urllib3.readthedocs.io/en/1.26.x/advanced-usage.html#ssl-warnings\n",
      "  warnings.warn(\n"
     ]
    },
    {
     "name": "stdout",
     "output_type": "stream",
     "text": [
      "https://www.uol.com.br/vivabem/noticias/bbc/2021/07/13/como-jeito-de-dirigir-pode-revelar-sinais-de-alzheimer.htm\n"
     ]
    },
    {
     "name": "stderr",
     "output_type": "stream",
     "text": [
      "C:\\Users\\Dell User\\anaconda3\\envs\\proyectos\\lib\\site-packages\\urllib3\\connectionpool.py:1013: InsecureRequestWarning: Unverified HTTPS request is being made to host 'noticias.uol.com.br'. Adding certificate verification is strongly advised. See: https://urllib3.readthedocs.io/en/1.26.x/advanced-usage.html#ssl-warnings\n",
      "  warnings.warn(\n",
      "C:\\Users\\Dell User\\anaconda3\\envs\\proyectos\\lib\\site-packages\\urllib3\\connectionpool.py:1013: InsecureRequestWarning: Unverified HTTPS request is being made to host 'www.uol.com.br'. Adding certificate verification is strongly advised. See: https://urllib3.readthedocs.io/en/1.26.x/advanced-usage.html#ssl-warnings\n",
      "  warnings.warn(\n",
      "C:\\Users\\Dell User\\anaconda3\\envs\\proyectos\\lib\\site-packages\\urllib3\\connectionpool.py:1013: InsecureRequestWarning: Unverified HTTPS request is being made to host 'revistapegn.globo.com'. Adding certificate verification is strongly advised. See: https://urllib3.readthedocs.io/en/1.26.x/advanced-usage.html#ssl-warnings\n",
      "  warnings.warn(\n"
     ]
    },
    {
     "name": "stdout",
     "output_type": "stream",
     "text": [
      "https://revistapegn.globo.com/Startups/noticia/2021/07/youtube-shorts-versao-do-youtube-concorrente-do-tiktok-chega-mais-de-100-paises.html\n"
     ]
    },
    {
     "name": "stderr",
     "output_type": "stream",
     "text": [
      "C:\\Users\\Dell User\\anaconda3\\envs\\proyectos\\lib\\site-packages\\urllib3\\connectionpool.py:1013: InsecureRequestWarning: Unverified HTTPS request is being made to host 'revistapegn.globo.com'. Adding certificate verification is strongly advised. See: https://urllib3.readthedocs.io/en/1.26.x/advanced-usage.html#ssl-warnings\n",
      "  warnings.warn(\n",
      "C:\\Users\\Dell User\\anaconda3\\envs\\proyectos\\lib\\site-packages\\urllib3\\connectionpool.py:1013: InsecureRequestWarning: Unverified HTTPS request is being made to host 'noticias.uol.com.br'. Adding certificate verification is strongly advised. See: https://urllib3.readthedocs.io/en/1.26.x/advanced-usage.html#ssl-warnings\n",
      "  warnings.warn(\n"
     ]
    },
    {
     "name": "stdout",
     "output_type": "stream",
     "text": [
      "https://noticias.uol.com.br/ultimas-noticias/agencia-estado/2021/07/25/aziz-vamos-ouvir-plataformas-de-redes-por-permitirem-fake-news-de-medicacao.htm\n"
     ]
    },
    {
     "name": "stderr",
     "output_type": "stream",
     "text": [
      "C:\\Users\\Dell User\\anaconda3\\envs\\proyectos\\lib\\site-packages\\urllib3\\connectionpool.py:1013: InsecureRequestWarning: Unverified HTTPS request is being made to host 'noticias.uol.com.br'. Adding certificate verification is strongly advised. See: https://urllib3.readthedocs.io/en/1.26.x/advanced-usage.html#ssl-warnings\n",
      "  warnings.warn(\n",
      "C:\\Users\\Dell User\\anaconda3\\envs\\proyectos\\lib\\site-packages\\urllib3\\connectionpool.py:1013: InsecureRequestWarning: Unverified HTTPS request is being made to host 'www.techtudo.com.br'. Adding certificate verification is strongly advised. See: https://urllib3.readthedocs.io/en/1.26.x/advanced-usage.html#ssl-warnings\n",
      "  warnings.warn(\n"
     ]
    },
    {
     "name": "stdout",
     "output_type": "stream",
     "text": [
      "https://www.techtudo.com.br/listas/2021/07/celular-para-jogar-free-fire-veja-sete-smartphones-para-comprar.ghtml\n"
     ]
    },
    {
     "name": "stderr",
     "output_type": "stream",
     "text": [
      "C:\\Users\\Dell User\\anaconda3\\envs\\proyectos\\lib\\site-packages\\urllib3\\connectionpool.py:1013: InsecureRequestWarning: Unverified HTTPS request is being made to host 'www.techtudo.com.br'. Adding certificate verification is strongly advised. See: https://urllib3.readthedocs.io/en/1.26.x/advanced-usage.html#ssl-warnings\n",
      "  warnings.warn(\n",
      "C:\\Users\\Dell User\\anaconda3\\envs\\proyectos\\lib\\site-packages\\urllib3\\connectionpool.py:1013: InsecureRequestWarning: Unverified HTTPS request is being made to host 'www.techtudo.com.br'. Adding certificate verification is strongly advised. See: https://urllib3.readthedocs.io/en/1.26.x/advanced-usage.html#ssl-warnings\n",
      "  warnings.warn(\n"
     ]
    },
    {
     "name": "stdout",
     "output_type": "stream",
     "text": [
      "https://www.techtudo.com.br/dicas-e-tutoriais/2021/07/como-colocar-gift-card-no-free-fire-esports.ghtml\n"
     ]
    },
    {
     "name": "stderr",
     "output_type": "stream",
     "text": [
      "C:\\Users\\Dell User\\anaconda3\\envs\\proyectos\\lib\\site-packages\\urllib3\\connectionpool.py:1013: InsecureRequestWarning: Unverified HTTPS request is being made to host 'www.techtudo.com.br'. Adding certificate verification is strongly advised. See: https://urllib3.readthedocs.io/en/1.26.x/advanced-usage.html#ssl-warnings\n",
      "  warnings.warn(\n",
      "C:\\Users\\Dell User\\anaconda3\\envs\\proyectos\\lib\\site-packages\\urllib3\\connectionpool.py:1013: InsecureRequestWarning: Unverified HTTPS request is being made to host 'www.techtudo.com.br'. Adding certificate verification is strongly advised. See: https://urllib3.readthedocs.io/en/1.26.x/advanced-usage.html#ssl-warnings\n",
      "  warnings.warn(\n"
     ]
    },
    {
     "name": "stdout",
     "output_type": "stream",
     "text": [
      "https://www.techtudo.com.br/dicas-e-tutoriais/2021/07/camsurf-como-usar-o-aplicativo-para-conversar-com-desconhecidos-online.ghtml\n"
     ]
    },
    {
     "name": "stderr",
     "output_type": "stream",
     "text": [
      "C:\\Users\\Dell User\\anaconda3\\envs\\proyectos\\lib\\site-packages\\urllib3\\connectionpool.py:1013: InsecureRequestWarning: Unverified HTTPS request is being made to host 'www.techtudo.com.br'. Adding certificate verification is strongly advised. See: https://urllib3.readthedocs.io/en/1.26.x/advanced-usage.html#ssl-warnings\n",
      "  warnings.warn(\n",
      "C:\\Users\\Dell User\\anaconda3\\envs\\proyectos\\lib\\site-packages\\urllib3\\connectionpool.py:1013: InsecureRequestWarning: Unverified HTTPS request is being made to host 'noticias.uol.com.br'. Adding certificate verification is strongly advised. See: https://urllib3.readthedocs.io/en/1.26.x/advanced-usage.html#ssl-warnings\n",
      "  warnings.warn(\n"
     ]
    },
    {
     "name": "stdout",
     "output_type": "stream",
     "text": [
      "https://noticias.uol.com.br/comprova/ultimas-noticias/2021/07/27/olimpiada-e-falso-que-trilha-sonora-de-ginasta-seja-homenagem-a-bolsonaro.htm\n"
     ]
    },
    {
     "name": "stderr",
     "output_type": "stream",
     "text": [
      "C:\\Users\\Dell User\\anaconda3\\envs\\proyectos\\lib\\site-packages\\urllib3\\connectionpool.py:1013: InsecureRequestWarning: Unverified HTTPS request is being made to host 'noticias.uol.com.br'. Adding certificate verification is strongly advised. See: https://urllib3.readthedocs.io/en/1.26.x/advanced-usage.html#ssl-warnings\n",
      "  warnings.warn(\n",
      "C:\\Users\\Dell User\\anaconda3\\envs\\proyectos\\lib\\site-packages\\urllib3\\connectionpool.py:1013: InsecureRequestWarning: Unverified HTTPS request is being made to host 'noticias.uol.com.br'. Adding certificate verification is strongly advised. See: https://urllib3.readthedocs.io/en/1.26.x/advanced-usage.html#ssl-warnings\n",
      "  warnings.warn(\n"
     ]
    },
    {
     "name": "stdout",
     "output_type": "stream",
     "text": [
      "https://noticias.uol.com.br/cotidiano/ultimas-noticias/2021/07/30/reuniao-virtual-invadida-racismo.htm\n"
     ]
    },
    {
     "name": "stderr",
     "output_type": "stream",
     "text": [
      "C:\\Users\\Dell User\\anaconda3\\envs\\proyectos\\lib\\site-packages\\urllib3\\connectionpool.py:1013: InsecureRequestWarning: Unverified HTTPS request is being made to host 'noticias.uol.com.br'. Adding certificate verification is strongly advised. See: https://urllib3.readthedocs.io/en/1.26.x/advanced-usage.html#ssl-warnings\n",
      "  warnings.warn(\n",
      "C:\\Users\\Dell User\\anaconda3\\envs\\proyectos\\lib\\site-packages\\urllib3\\connectionpool.py:1013: InsecureRequestWarning: Unverified HTTPS request is being made to host 'www.ambito.com'. Adding certificate verification is strongly advised. See: https://urllib3.readthedocs.io/en/1.26.x/advanced-usage.html#ssl-warnings\n",
      "  warnings.warn(\n"
     ]
    },
    {
     "name": "stdout",
     "output_type": "stream",
     "text": [
      "https://www.ambito.com/mundo/google/francia-impone-multimillonaria-multa-no-pagar-el-uso-sus-contenidos-la-prensa-n5221357\n"
     ]
    },
    {
     "name": "stderr",
     "output_type": "stream",
     "text": [
      "C:\\Users\\Dell User\\anaconda3\\envs\\proyectos\\lib\\site-packages\\urllib3\\connectionpool.py:1013: InsecureRequestWarning: Unverified HTTPS request is being made to host 'www.ambito.com'. Adding certificate verification is strongly advised. See: https://urllib3.readthedocs.io/en/1.26.x/advanced-usage.html#ssl-warnings\n",
      "  warnings.warn(\n",
      "C:\\Users\\Dell User\\anaconda3\\envs\\proyectos\\lib\\site-packages\\urllib3\\connectionpool.py:1013: InsecureRequestWarning: Unverified HTTPS request is being made to host 'revistapegn.globo.com'. Adding certificate verification is strongly advised. See: https://urllib3.readthedocs.io/en/1.26.x/advanced-usage.html#ssl-warnings\n",
      "  warnings.warn(\n"
     ]
    },
    {
     "name": "stdout",
     "output_type": "stream",
     "text": [
      "https://revistapegn.globo.com/Banco-de-ideias/Diversao-e-turismo/noticia/2021/07/por-tras-da-diversao-serie-conta-bastidores-de-atracoes-da-disney-na-florida-e-na-california.html\n"
     ]
    },
    {
     "name": "stderr",
     "output_type": "stream",
     "text": [
      "C:\\Users\\Dell User\\anaconda3\\envs\\proyectos\\lib\\site-packages\\urllib3\\connectionpool.py:1013: InsecureRequestWarning: Unverified HTTPS request is being made to host 'revistapegn.globo.com'. Adding certificate verification is strongly advised. See: https://urllib3.readthedocs.io/en/1.26.x/advanced-usage.html#ssl-warnings\n",
      "  warnings.warn(\n",
      "C:\\Users\\Dell User\\anaconda3\\envs\\proyectos\\lib\\site-packages\\urllib3\\connectionpool.py:1013: InsecureRequestWarning: Unverified HTTPS request is being made to host 'www.ambito.com'. Adding certificate verification is strongly advised. See: https://urllib3.readthedocs.io/en/1.26.x/advanced-usage.html#ssl-warnings\n",
      "  warnings.warn(\n"
     ]
    },
    {
     "name": "stdout",
     "output_type": "stream",
     "text": [
      "https://www.ambito.com/informacion-general/whatsapp/halloapp-la-aplicacion-mensajeria-que-quiere-destronar-n5230547\n"
     ]
    },
    {
     "name": "stderr",
     "output_type": "stream",
     "text": [
      "C:\\Users\\Dell User\\anaconda3\\envs\\proyectos\\lib\\site-packages\\urllib3\\connectionpool.py:1013: InsecureRequestWarning: Unverified HTTPS request is being made to host 'www.ambito.com'. Adding certificate verification is strongly advised. See: https://urllib3.readthedocs.io/en/1.26.x/advanced-usage.html#ssl-warnings\n",
      "  warnings.warn(\n",
      "C:\\Users\\Dell User\\anaconda3\\envs\\proyectos\\lib\\site-packages\\urllib3\\connectionpool.py:1013: InsecureRequestWarning: Unverified HTTPS request is being made to host 'politica.estadao.com.br'. Adding certificate verification is strongly advised. See: https://urllib3.readthedocs.io/en/1.26.x/advanced-usage.html#ssl-warnings\n",
      "  warnings.warn(\n"
     ]
    },
    {
     "name": "stdout",
     "output_type": "stream",
     "text": [
      "https://politica.estadao.com.br/blogs/fausto-macedo/aprendizado-em-tempos-de-pandemia-5-dicas-para-se-adaptar-ao-ensino-remoto/\n"
     ]
    },
    {
     "name": "stderr",
     "output_type": "stream",
     "text": [
      "C:\\Users\\Dell User\\anaconda3\\envs\\proyectos\\lib\\site-packages\\urllib3\\connectionpool.py:1013: InsecureRequestWarning: Unverified HTTPS request is being made to host 'politica.estadao.com.br'. Adding certificate verification is strongly advised. See: https://urllib3.readthedocs.io/en/1.26.x/advanced-usage.html#ssl-warnings\n",
      "  warnings.warn(\n",
      "C:\\Users\\Dell User\\anaconda3\\envs\\proyectos\\lib\\site-packages\\urllib3\\connectionpool.py:1013: InsecureRequestWarning: Unverified HTTPS request is being made to host 'noticias.uol.com.br'. Adding certificate verification is strongly advised. See: https://urllib3.readthedocs.io/en/1.26.x/advanced-usage.html#ssl-warnings\n",
      "  warnings.warn(\n"
     ]
    },
    {
     "name": "stdout",
     "output_type": "stream",
     "text": [
      "https://noticias.uol.com.br/ultimas-noticias/agencia-brasil/2021/07/25/reflorestamento-em-brumadinho-usa-tecnicas-ineditas-mas-so-atingiu-1.htm\n"
     ]
    },
    {
     "name": "stderr",
     "output_type": "stream",
     "text": [
      "C:\\Users\\Dell User\\anaconda3\\envs\\proyectos\\lib\\site-packages\\urllib3\\connectionpool.py:1013: InsecureRequestWarning: Unverified HTTPS request is being made to host 'noticias.uol.com.br'. Adding certificate verification is strongly advised. See: https://urllib3.readthedocs.io/en/1.26.x/advanced-usage.html#ssl-warnings\n",
      "  warnings.warn(\n",
      "C:\\Users\\Dell User\\anaconda3\\envs\\proyectos\\lib\\site-packages\\urllib3\\connectionpool.py:1013: InsecureRequestWarning: Unverified HTTPS request is being made to host 'noticias.uol.com.br'. Adding certificate verification is strongly advised. See: https://urllib3.readthedocs.io/en/1.26.x/advanced-usage.html#ssl-warnings\n",
      "  warnings.warn(\n"
     ]
    },
    {
     "name": "stdout",
     "output_type": "stream",
     "text": [
      "https://noticias.uol.com.br/ultimas-noticias/reuters/2021/07/16/biden-diz-que-redes-sociais-estao-matando-pessoas-com-desinformacao-sobre-covid.htm\n"
     ]
    },
    {
     "name": "stderr",
     "output_type": "stream",
     "text": [
      "C:\\Users\\Dell User\\anaconda3\\envs\\proyectos\\lib\\site-packages\\urllib3\\connectionpool.py:1013: InsecureRequestWarning: Unverified HTTPS request is being made to host 'noticias.uol.com.br'. Adding certificate verification is strongly advised. See: https://urllib3.readthedocs.io/en/1.26.x/advanced-usage.html#ssl-warnings\n",
      "  warnings.warn(\n",
      "C:\\Users\\Dell User\\anaconda3\\envs\\proyectos\\lib\\site-packages\\urllib3\\connectionpool.py:1013: InsecureRequestWarning: Unverified HTTPS request is being made to host 'www.techtudo.com.br'. Adding certificate verification is strongly advised. See: https://urllib3.readthedocs.io/en/1.26.x/advanced-usage.html#ssl-warnings\n",
      "  warnings.warn(\n"
     ]
    },
    {
     "name": "stdout",
     "output_type": "stream",
     "text": [
      "https://www.techtudo.com.br/dicas-e-tutoriais/2021/07/brasil-x-alemanha-ao-vivo-onde-assistir-ao-futebol-masculino-na-olimpiada.ghtml\n"
     ]
    },
    {
     "name": "stderr",
     "output_type": "stream",
     "text": [
      "C:\\Users\\Dell User\\anaconda3\\envs\\proyectos\\lib\\site-packages\\urllib3\\connectionpool.py:1013: InsecureRequestWarning: Unverified HTTPS request is being made to host 'www.techtudo.com.br'. Adding certificate verification is strongly advised. See: https://urllib3.readthedocs.io/en/1.26.x/advanced-usage.html#ssl-warnings\n",
      "  warnings.warn(\n",
      "C:\\Users\\Dell User\\anaconda3\\envs\\proyectos\\lib\\site-packages\\urllib3\\connectionpool.py:1013: InsecureRequestWarning: Unverified HTTPS request is being made to host 'noticias.uol.com.br'. Adding certificate verification is strongly advised. See: https://urllib3.readthedocs.io/en/1.26.x/advanced-usage.html#ssl-warnings\n",
      "  warnings.warn(\n"
     ]
    },
    {
     "name": "stdout",
     "output_type": "stream",
     "text": [
      "https://noticias.uol.com.br/ultimas-noticias/afp/2021/07/11/protestos-eclodem-nas-ruas-de-cuba-e-presidente-convoca-revolucionarios.htm\n"
     ]
    },
    {
     "name": "stderr",
     "output_type": "stream",
     "text": [
      "C:\\Users\\Dell User\\anaconda3\\envs\\proyectos\\lib\\site-packages\\urllib3\\connectionpool.py:1013: InsecureRequestWarning: Unverified HTTPS request is being made to host 'noticias.uol.com.br'. Adding certificate verification is strongly advised. See: https://urllib3.readthedocs.io/en/1.26.x/advanced-usage.html#ssl-warnings\n",
      "  warnings.warn(\n",
      "C:\\Users\\Dell User\\anaconda3\\envs\\proyectos\\lib\\site-packages\\urllib3\\connectionpool.py:1013: InsecureRequestWarning: Unverified HTTPS request is being made to host 'noticias.uol.com.br'. Adding certificate verification is strongly advised. See: https://urllib3.readthedocs.io/en/1.26.x/advanced-usage.html#ssl-warnings\n",
      "  warnings.warn(\n"
     ]
    },
    {
     "name": "stdout",
     "output_type": "stream",
     "text": [
      "https://noticias.uol.com.br/ultimas-noticias/rfi/2021/07/07/revolucao-das-moedas-digitais-ja-esta-em-curso-e-ameaca-o-sistema-bancario-tradicional.htm\n"
     ]
    },
    {
     "name": "stderr",
     "output_type": "stream",
     "text": [
      "C:\\Users\\Dell User\\anaconda3\\envs\\proyectos\\lib\\site-packages\\urllib3\\connectionpool.py:1013: InsecureRequestWarning: Unverified HTTPS request is being made to host 'noticias.uol.com.br'. Adding certificate verification is strongly advised. See: https://urllib3.readthedocs.io/en/1.26.x/advanced-usage.html#ssl-warnings\n",
      "  warnings.warn(\n",
      "C:\\Users\\Dell User\\anaconda3\\envs\\proyectos\\lib\\site-packages\\urllib3\\connectionpool.py:1013: InsecureRequestWarning: Unverified HTTPS request is being made to host 'www.techtudo.com.br'. Adding certificate verification is strongly advised. See: https://urllib3.readthedocs.io/en/1.26.x/advanced-usage.html#ssl-warnings\n",
      "  warnings.warn(\n"
     ]
    },
    {
     "name": "stdout",
     "output_type": "stream",
     "text": [
      "https://www.techtudo.com.br/dicas-e-tutoriais/2021/07/jogo-do-brasil-hoje-onde-assistir-ao-volei-e-ao-futebol-na-olimpiada.ghtml\n"
     ]
    },
    {
     "name": "stderr",
     "output_type": "stream",
     "text": [
      "C:\\Users\\Dell User\\anaconda3\\envs\\proyectos\\lib\\site-packages\\urllib3\\connectionpool.py:1013: InsecureRequestWarning: Unverified HTTPS request is being made to host 'www.techtudo.com.br'. Adding certificate verification is strongly advised. See: https://urllib3.readthedocs.io/en/1.26.x/advanced-usage.html#ssl-warnings\n",
      "  warnings.warn(\n",
      "C:\\Users\\Dell User\\anaconda3\\envs\\proyectos\\lib\\site-packages\\urllib3\\connectionpool.py:1013: InsecureRequestWarning: Unverified HTTPS request is being made to host 'www.ambito.com'. Adding certificate verification is strongly advised. See: https://urllib3.readthedocs.io/en/1.26.x/advanced-usage.html#ssl-warnings\n",
      "  warnings.warn(\n"
     ]
    },
    {
     "name": "stdout",
     "output_type": "stream",
     "text": [
      "https://www.ambito.com/informacion-general/whatsapp/como-comprar-y-enviar-dinero-tus-contactos-n5214862\n"
     ]
    },
    {
     "name": "stderr",
     "output_type": "stream",
     "text": [
      "C:\\Users\\Dell User\\anaconda3\\envs\\proyectos\\lib\\site-packages\\urllib3\\connectionpool.py:1013: InsecureRequestWarning: Unverified HTTPS request is being made to host 'www.ambito.com'. Adding certificate verification is strongly advised. See: https://urllib3.readthedocs.io/en/1.26.x/advanced-usage.html#ssl-warnings\n",
      "  warnings.warn(\n",
      "C:\\Users\\Dell User\\anaconda3\\envs\\proyectos\\lib\\site-packages\\urllib3\\connectionpool.py:1013: InsecureRequestWarning: Unverified HTTPS request is being made to host 'www.techtudo.com.br'. Adding certificate verification is strongly advised. See: https://urllib3.readthedocs.io/en/1.26.x/advanced-usage.html#ssl-warnings\n",
      "  warnings.warn(\n"
     ]
    },
    {
     "name": "stdout",
     "output_type": "stream",
     "text": [
      "https://www.techtudo.com.br/dicas-e-tutoriais/2021/07/olimpiada-ao-vivo-como-assistir-aos-jogos-de-toquio-2020-online.ghtml\n"
     ]
    },
    {
     "name": "stderr",
     "output_type": "stream",
     "text": [
      "C:\\Users\\Dell User\\anaconda3\\envs\\proyectos\\lib\\site-packages\\urllib3\\connectionpool.py:1013: InsecureRequestWarning: Unverified HTTPS request is being made to host 'www.techtudo.com.br'. Adding certificate verification is strongly advised. See: https://urllib3.readthedocs.io/en/1.26.x/advanced-usage.html#ssl-warnings\n",
      "  warnings.warn(\n",
      "C:\\Users\\Dell User\\anaconda3\\envs\\proyectos\\lib\\site-packages\\urllib3\\connectionpool.py:1013: InsecureRequestWarning: Unverified HTTPS request is being made to host 'noticias.uol.com.br'. Adding certificate verification is strongly advised. See: https://urllib3.readthedocs.io/en/1.26.x/advanced-usage.html#ssl-warnings\n",
      "  warnings.warn(\n",
      "C:\\Users\\Dell User\\anaconda3\\envs\\proyectos\\lib\\site-packages\\urllib3\\connectionpool.py:1013: InsecureRequestWarning: Unverified HTTPS request is being made to host 'noticias.uol.com.br'. Adding certificate verification is strongly advised. See: https://urllib3.readthedocs.io/en/1.26.x/advanced-usage.html#ssl-warnings\n",
      "  warnings.warn(\n"
     ]
    },
    {
     "name": "stdout",
     "output_type": "stream",
     "text": [
      "https://noticias.uol.com.br/ultimas-noticias/afp/2021/07/30/cidadao-de-hong-kong-e-condenado-a-nove-anos-de-prisao-sob-lei-de-seguranca-nacional.htm\n"
     ]
    },
    {
     "name": "stderr",
     "output_type": "stream",
     "text": [
      "C:\\Users\\Dell User\\anaconda3\\envs\\proyectos\\lib\\site-packages\\urllib3\\connectionpool.py:1013: InsecureRequestWarning: Unverified HTTPS request is being made to host 'noticias.uol.com.br'. Adding certificate verification is strongly advised. See: https://urllib3.readthedocs.io/en/1.26.x/advanced-usage.html#ssl-warnings\n",
      "  warnings.warn(\n",
      "C:\\Users\\Dell User\\anaconda3\\envs\\proyectos\\lib\\site-packages\\urllib3\\connectionpool.py:1013: InsecureRequestWarning: Unverified HTTPS request is being made to host 'noticias.uol.com.br'. Adding certificate verification is strongly advised. See: https://urllib3.readthedocs.io/en/1.26.x/advanced-usage.html#ssl-warnings\n",
      "  warnings.warn(\n",
      "C:\\Users\\Dell User\\anaconda3\\envs\\proyectos\\lib\\site-packages\\urllib3\\connectionpool.py:1013: InsecureRequestWarning: Unverified HTTPS request is being made to host 'cultura.estadao.com.br'. Adding certificate verification is strongly advised. See: https://urllib3.readthedocs.io/en/1.26.x/advanced-usage.html#ssl-warnings\n",
      "  warnings.warn(\n"
     ]
    },
    {
     "name": "stdout",
     "output_type": "stream",
     "text": [
      "https://cultura.estadao.com.br/noticias/literatura,nunca-os-seres-humanos-foram-tao-explorados-quanto-agora-diz-eugenio-bucci,70003778780\n"
     ]
    },
    {
     "name": "stderr",
     "output_type": "stream",
     "text": [
      "C:\\Users\\Dell User\\anaconda3\\envs\\proyectos\\lib\\site-packages\\urllib3\\connectionpool.py:1013: InsecureRequestWarning: Unverified HTTPS request is being made to host 'cultura.estadao.com.br'. Adding certificate verification is strongly advised. See: https://urllib3.readthedocs.io/en/1.26.x/advanced-usage.html#ssl-warnings\n",
      "  warnings.warn(\n",
      "C:\\Users\\Dell User\\anaconda3\\envs\\proyectos\\lib\\site-packages\\urllib3\\connectionpool.py:1013: InsecureRequestWarning: Unverified HTTPS request is being made to host 'www.ambito.com'. Adding certificate verification is strongly advised. See: https://urllib3.readthedocs.io/en/1.26.x/advanced-usage.html#ssl-warnings\n",
      "  warnings.warn(\n"
     ]
    },
    {
     "name": "stdout",
     "output_type": "stream",
     "text": [
      "https://www.ambito.com/informacion-general/whatsapp/va-permitir-reclamar-si-te-bloquean-la-app-n5222264\n"
     ]
    },
    {
     "name": "stderr",
     "output_type": "stream",
     "text": [
      "C:\\Users\\Dell User\\anaconda3\\envs\\proyectos\\lib\\site-packages\\urllib3\\connectionpool.py:1013: InsecureRequestWarning: Unverified HTTPS request is being made to host 'www.ambito.com'. Adding certificate verification is strongly advised. See: https://urllib3.readthedocs.io/en/1.26.x/advanced-usage.html#ssl-warnings\n",
      "  warnings.warn(\n",
      "C:\\Users\\Dell User\\anaconda3\\envs\\proyectos\\lib\\site-packages\\urllib3\\connectionpool.py:1013: InsecureRequestWarning: Unverified HTTPS request is being made to host 'www.ambito.com'. Adding certificate verification is strongly advised. See: https://urllib3.readthedocs.io/en/1.26.x/advanced-usage.html#ssl-warnings\n",
      "  warnings.warn(\n"
     ]
    },
    {
     "name": "stdout",
     "output_type": "stream",
     "text": [
      "https://www.ambito.com/informacion-general/whatsapp/plus-2021-cuales-son-las-novedades-que-trae-la-app-n5232932\n"
     ]
    },
    {
     "name": "stderr",
     "output_type": "stream",
     "text": [
      "C:\\Users\\Dell User\\anaconda3\\envs\\proyectos\\lib\\site-packages\\urllib3\\connectionpool.py:1013: InsecureRequestWarning: Unverified HTTPS request is being made to host 'www.ambito.com'. Adding certificate verification is strongly advised. See: https://urllib3.readthedocs.io/en/1.26.x/advanced-usage.html#ssl-warnings\n",
      "  warnings.warn(\n",
      "C:\\Users\\Dell User\\anaconda3\\envs\\proyectos\\lib\\site-packages\\urllib3\\connectionpool.py:1013: InsecureRequestWarning: Unverified HTTPS request is being made to host 'www.techtudo.com.br'. Adding certificate verification is strongly advised. See: https://urllib3.readthedocs.io/en/1.26.x/advanced-usage.html#ssl-warnings\n",
      "  warnings.warn(\n"
     ]
    },
    {
     "name": "stdout",
     "output_type": "stream",
     "text": [
      "https://www.techtudo.com.br/dicas-e-tutoriais/2021/07/italia-x-inglaterra-ao-vivo-onde-assistir-ao-jogo-da-eurocopa-online.ghtml\n"
     ]
    },
    {
     "name": "stderr",
     "output_type": "stream",
     "text": [
      "C:\\Users\\Dell User\\anaconda3\\envs\\proyectos\\lib\\site-packages\\urllib3\\connectionpool.py:1013: InsecureRequestWarning: Unverified HTTPS request is being made to host 'www.techtudo.com.br'. Adding certificate verification is strongly advised. See: https://urllib3.readthedocs.io/en/1.26.x/advanced-usage.html#ssl-warnings\n",
      "  warnings.warn(\n",
      "C:\\Users\\Dell User\\anaconda3\\envs\\proyectos\\lib\\site-packages\\urllib3\\connectionpool.py:1013: InsecureRequestWarning: Unverified HTTPS request is being made to host 'www.techtudo.com.br'. Adding certificate verification is strongly advised. See: https://urllib3.readthedocs.io/en/1.26.x/advanced-usage.html#ssl-warnings\n",
      "  warnings.warn(\n"
     ]
    },
    {
     "name": "stdout",
     "output_type": "stream",
     "text": [
      "https://www.techtudo.com.br/dicas-e-tutoriais/2021/07/como-salvar-stories-do-facebook-no-celular.ghtml\n"
     ]
    },
    {
     "name": "stderr",
     "output_type": "stream",
     "text": [
      "C:\\Users\\Dell User\\anaconda3\\envs\\proyectos\\lib\\site-packages\\urllib3\\connectionpool.py:1013: InsecureRequestWarning: Unverified HTTPS request is being made to host 'www.techtudo.com.br'. Adding certificate verification is strongly advised. See: https://urllib3.readthedocs.io/en/1.26.x/advanced-usage.html#ssl-warnings\n",
      "  warnings.warn(\n",
      "C:\\Users\\Dell User\\anaconda3\\envs\\proyectos\\lib\\site-packages\\urllib3\\connectionpool.py:1013: InsecureRequestWarning: Unverified HTTPS request is being made to host 'www.ambito.com'. Adding certificate verification is strongly advised. See: https://urllib3.readthedocs.io/en/1.26.x/advanced-usage.html#ssl-warnings\n",
      "  warnings.warn(\n"
     ]
    },
    {
     "name": "stdout",
     "output_type": "stream",
     "text": [
      "https://www.ambito.com/informacion-general/tecnologia/whatsapp-como-recuperar-un-video-eliminado-n5230147\n"
     ]
    },
    {
     "name": "stderr",
     "output_type": "stream",
     "text": [
      "C:\\Users\\Dell User\\anaconda3\\envs\\proyectos\\lib\\site-packages\\urllib3\\connectionpool.py:1013: InsecureRequestWarning: Unverified HTTPS request is being made to host 'www.ambito.com'. Adding certificate verification is strongly advised. See: https://urllib3.readthedocs.io/en/1.26.x/advanced-usage.html#ssl-warnings\n",
      "  warnings.warn(\n",
      "C:\\Users\\Dell User\\anaconda3\\envs\\proyectos\\lib\\site-packages\\urllib3\\connectionpool.py:1013: InsecureRequestWarning: Unverified HTTPS request is being made to host 'revistapegn.globo.com'. Adding certificate verification is strongly advised. See: https://urllib3.readthedocs.io/en/1.26.x/advanced-usage.html#ssl-warnings\n",
      "  warnings.warn(\n"
     ]
    },
    {
     "name": "stdout",
     "output_type": "stream",
     "text": [
      "https://revistapegn.globo.com/Administracao-de-empresas/noticia/2021/07/3-situacoes-em-que-voce-poderia-ter-enviado-um-e-mail.html\n"
     ]
    },
    {
     "name": "stderr",
     "output_type": "stream",
     "text": [
      "C:\\Users\\Dell User\\anaconda3\\envs\\proyectos\\lib\\site-packages\\urllib3\\connectionpool.py:1013: InsecureRequestWarning: Unverified HTTPS request is being made to host 'revistapegn.globo.com'. Adding certificate verification is strongly advised. See: https://urllib3.readthedocs.io/en/1.26.x/advanced-usage.html#ssl-warnings\n",
      "  warnings.warn(\n",
      "C:\\Users\\Dell User\\anaconda3\\envs\\proyectos\\lib\\site-packages\\urllib3\\connectionpool.py:1013: InsecureRequestWarning: Unverified HTTPS request is being made to host 'www.ambito.com'. Adding certificate verification is strongly advised. See: https://urllib3.readthedocs.io/en/1.26.x/advanced-usage.html#ssl-warnings\n",
      "  warnings.warn(\n"
     ]
    },
    {
     "name": "stdout",
     "output_type": "stream",
     "text": [
      "https://www.ambito.com/informacion-general/whatsapp/como-combinar-y-mezclar-emojis-facilmente-n5219442\n"
     ]
    },
    {
     "name": "stderr",
     "output_type": "stream",
     "text": [
      "C:\\Users\\Dell User\\anaconda3\\envs\\proyectos\\lib\\site-packages\\urllib3\\connectionpool.py:1013: InsecureRequestWarning: Unverified HTTPS request is being made to host 'www.ambito.com'. Adding certificate verification is strongly advised. See: https://urllib3.readthedocs.io/en/1.26.x/advanced-usage.html#ssl-warnings\n",
      "  warnings.warn(\n",
      "C:\\Users\\Dell User\\anaconda3\\envs\\proyectos\\lib\\site-packages\\urllib3\\connectionpool.py:1013: InsecureRequestWarning: Unverified HTTPS request is being made to host 'revistapegn.globo.com'. Adding certificate verification is strongly advised. See: https://urllib3.readthedocs.io/en/1.26.x/advanced-usage.html#ssl-warnings\n",
      "  warnings.warn(\n"
     ]
    },
    {
     "name": "stdout",
     "output_type": "stream",
     "text": [
      "https://revistapegn.globo.com/Startups/noticia/2021/07/com-startup-criada-no-brasil-grupo-irlandes-quer-treinar-profissionais-e-preencher-vagas-de-ti-no-exterior.html\n"
     ]
    },
    {
     "name": "stderr",
     "output_type": "stream",
     "text": [
      "C:\\Users\\Dell User\\anaconda3\\envs\\proyectos\\lib\\site-packages\\urllib3\\connectionpool.py:1013: InsecureRequestWarning: Unverified HTTPS request is being made to host 'revistapegn.globo.com'. Adding certificate verification is strongly advised. See: https://urllib3.readthedocs.io/en/1.26.x/advanced-usage.html#ssl-warnings\n",
      "  warnings.warn(\n",
      "C:\\Users\\Dell User\\anaconda3\\envs\\proyectos\\lib\\site-packages\\urllib3\\connectionpool.py:1013: InsecureRequestWarning: Unverified HTTPS request is being made to host 'link.estadao.com.br'. Adding certificate verification is strongly advised. See: https://urllib3.readthedocs.io/en/1.26.x/advanced-usage.html#ssl-warnings\n",
      "  warnings.warn(\n"
     ]
    },
    {
     "name": "stdout",
     "output_type": "stream",
     "text": [
      "https://link.estadao.com.br/noticias/empresas,whatsapp-vai-permitir-o-envio-de-fotos-com-mais-qualidade,70003773761\n"
     ]
    },
    {
     "name": "stderr",
     "output_type": "stream",
     "text": [
      "C:\\Users\\Dell User\\anaconda3\\envs\\proyectos\\lib\\site-packages\\urllib3\\connectionpool.py:1013: InsecureRequestWarning: Unverified HTTPS request is being made to host 'link.estadao.com.br'. Adding certificate verification is strongly advised. See: https://urllib3.readthedocs.io/en/1.26.x/advanced-usage.html#ssl-warnings\n",
      "  warnings.warn(\n",
      "C:\\Users\\Dell User\\anaconda3\\envs\\proyectos\\lib\\site-packages\\urllib3\\connectionpool.py:1013: InsecureRequestWarning: Unverified HTTPS request is being made to host 'www.metro.pr'. Adding certificate verification is strongly advised. See: https://urllib3.readthedocs.io/en/1.26.x/advanced-usage.html#ssl-warnings\n",
      "  warnings.warn(\n"
     ]
    },
    {
     "name": "stdout",
     "output_type": "stream",
     "text": [
      "https://www.metro.pr/pr/estilo-vida/2021/07/01/whatsapp-podra-cerrar-tu-cuenta-para-siempre-si-haces-esto.html\n"
     ]
    },
    {
     "name": "stderr",
     "output_type": "stream",
     "text": [
      "C:\\Users\\Dell User\\anaconda3\\envs\\proyectos\\lib\\site-packages\\urllib3\\connectionpool.py:1013: InsecureRequestWarning: Unverified HTTPS request is being made to host 'www.metro.pr'. Adding certificate verification is strongly advised. See: https://urllib3.readthedocs.io/en/1.26.x/advanced-usage.html#ssl-warnings\n",
      "  warnings.warn(\n",
      "C:\\Users\\Dell User\\anaconda3\\envs\\proyectos\\lib\\site-packages\\urllib3\\connectionpool.py:1013: InsecureRequestWarning: Unverified HTTPS request is being made to host 'www.ambito.com'. Adding certificate verification is strongly advised. See: https://urllib3.readthedocs.io/en/1.26.x/advanced-usage.html#ssl-warnings\n",
      "  warnings.warn(\n"
     ]
    },
    {
     "name": "stdout",
     "output_type": "stream",
     "text": [
      "https://www.ambito.com/finanzas/twitter/denuncian-trader-o-posible-estafa-criptomonedas-n5221249\n"
     ]
    },
    {
     "name": "stderr",
     "output_type": "stream",
     "text": [
      "C:\\Users\\Dell User\\anaconda3\\envs\\proyectos\\lib\\site-packages\\urllib3\\connectionpool.py:1013: InsecureRequestWarning: Unverified HTTPS request is being made to host 'www.ambito.com'. Adding certificate verification is strongly advised. See: https://urllib3.readthedocs.io/en/1.26.x/advanced-usage.html#ssl-warnings\n",
      "  warnings.warn(\n",
      "C:\\Users\\Dell User\\anaconda3\\envs\\proyectos\\lib\\site-packages\\urllib3\\connectionpool.py:1013: InsecureRequestWarning: Unverified HTTPS request is being made to host 'www.techtudo.com.br'. Adding certificate verification is strongly advised. See: https://urllib3.readthedocs.io/en/1.26.x/advanced-usage.html#ssl-warnings\n",
      "  warnings.warn(\n"
     ]
    },
    {
     "name": "stdout",
     "output_type": "stream",
     "text": [
      "https://www.techtudo.com.br/noticias/2021/07/esim-vivo-o-que-e-e-como-solicitar.ghtml\n"
     ]
    },
    {
     "name": "stderr",
     "output_type": "stream",
     "text": [
      "C:\\Users\\Dell User\\anaconda3\\envs\\proyectos\\lib\\site-packages\\urllib3\\connectionpool.py:1013: InsecureRequestWarning: Unverified HTTPS request is being made to host 'www.techtudo.com.br'. Adding certificate verification is strongly advised. See: https://urllib3.readthedocs.io/en/1.26.x/advanced-usage.html#ssl-warnings\n",
      "  warnings.warn(\n",
      "C:\\Users\\Dell User\\anaconda3\\envs\\proyectos\\lib\\site-packages\\urllib3\\connectionpool.py:1013: InsecureRequestWarning: Unverified HTTPS request is being made to host 'www.ambito.com'. Adding certificate verification is strongly advised. See: https://urllib3.readthedocs.io/en/1.26.x/advanced-usage.html#ssl-warnings\n",
      "  warnings.warn(\n"
     ]
    },
    {
     "name": "stdout",
     "output_type": "stream",
     "text": [
      "https://www.ambito.com/informacion-general/whatsapp/cierra-cuentas-partir-noviembre-como-evitarlo-n5237135\n"
     ]
    },
    {
     "name": "stderr",
     "output_type": "stream",
     "text": [
      "C:\\Users\\Dell User\\anaconda3\\envs\\proyectos\\lib\\site-packages\\urllib3\\connectionpool.py:1013: InsecureRequestWarning: Unverified HTTPS request is being made to host 'www.ambito.com'. Adding certificate verification is strongly advised. See: https://urllib3.readthedocs.io/en/1.26.x/advanced-usage.html#ssl-warnings\n",
      "  warnings.warn(\n",
      "C:\\Users\\Dell User\\anaconda3\\envs\\proyectos\\lib\\site-packages\\urllib3\\connectionpool.py:1013: InsecureRequestWarning: Unverified HTTPS request is being made to host 'politica.estadao.com.br'. Adding certificate verification is strongly advised. See: https://urllib3.readthedocs.io/en/1.26.x/advanced-usage.html#ssl-warnings\n",
      "  warnings.warn(\n"
     ]
    },
    {
     "name": "stdout",
     "output_type": "stream",
     "text": [
      "https://politica.estadao.com.br/blogs/estadao-verifica/video-de-naomi-yamaguchi-espalha-acusacoes-falsas-de-fraude-na-eleicao-de-2014/\n"
     ]
    },
    {
     "name": "stderr",
     "output_type": "stream",
     "text": [
      "C:\\Users\\Dell User\\anaconda3\\envs\\proyectos\\lib\\site-packages\\urllib3\\connectionpool.py:1013: InsecureRequestWarning: Unverified HTTPS request is being made to host 'politica.estadao.com.br'. Adding certificate verification is strongly advised. See: https://urllib3.readthedocs.io/en/1.26.x/advanced-usage.html#ssl-warnings\n",
      "  warnings.warn(\n",
      "C:\\Users\\Dell User\\anaconda3\\envs\\proyectos\\lib\\site-packages\\urllib3\\connectionpool.py:1013: InsecureRequestWarning: Unverified HTTPS request is being made to host 'www.techtudo.com.br'. Adding certificate verification is strongly advised. See: https://urllib3.readthedocs.io/en/1.26.x/advanced-usage.html#ssl-warnings\n",
      "  warnings.warn(\n"
     ]
    },
    {
     "name": "stdout",
     "output_type": "stream",
     "text": [
      "https://www.techtudo.com.br/dicas-e-tutoriais/2021/07/como-instalar-o-whatsapp-no-celular-android-e-iphone-ios.ghtml\n"
     ]
    },
    {
     "name": "stderr",
     "output_type": "stream",
     "text": [
      "C:\\Users\\Dell User\\anaconda3\\envs\\proyectos\\lib\\site-packages\\urllib3\\connectionpool.py:1013: InsecureRequestWarning: Unverified HTTPS request is being made to host 'www.techtudo.com.br'. Adding certificate verification is strongly advised. See: https://urllib3.readthedocs.io/en/1.26.x/advanced-usage.html#ssl-warnings\n",
      "  warnings.warn(\n",
      "C:\\Users\\Dell User\\anaconda3\\envs\\proyectos\\lib\\site-packages\\urllib3\\connectionpool.py:1013: InsecureRequestWarning: Unverified HTTPS request is being made to host 'www.ambito.com'. Adding certificate verification is strongly advised. See: https://urllib3.readthedocs.io/en/1.26.x/advanced-usage.html#ssl-warnings\n",
      "  warnings.warn(\n"
     ]
    },
    {
     "name": "stdout",
     "output_type": "stream",
     "text": [
      "https://www.ambito.com/informacion-general/whatsapp/multidispositivo-como-es-la-nueva-funcion-que-te-permite-usarlo-el-celular-apagado-n5231134\n"
     ]
    },
    {
     "name": "stderr",
     "output_type": "stream",
     "text": [
      "C:\\Users\\Dell User\\anaconda3\\envs\\proyectos\\lib\\site-packages\\urllib3\\connectionpool.py:1013: InsecureRequestWarning: Unverified HTTPS request is being made to host 'www.ambito.com'. Adding certificate verification is strongly advised. See: https://urllib3.readthedocs.io/en/1.26.x/advanced-usage.html#ssl-warnings\n",
      "  warnings.warn(\n",
      "C:\\Users\\Dell User\\anaconda3\\envs\\proyectos\\lib\\site-packages\\urllib3\\connectionpool.py:1013: InsecureRequestWarning: Unverified HTTPS request is being made to host 'www.ambito.com'. Adding certificate verification is strongly advised. See: https://urllib3.readthedocs.io/en/1.26.x/advanced-usage.html#ssl-warnings\n",
      "  warnings.warn(\n"
     ]
    },
    {
     "name": "stdout",
     "output_type": "stream",
     "text": [
      "https://www.ambito.com/informacion-general/whatsapp/halloapp-la-aplicacion-mensajeria-que-quiere-destronar-n5230547\n"
     ]
    },
    {
     "name": "stderr",
     "output_type": "stream",
     "text": [
      "C:\\Users\\Dell User\\anaconda3\\envs\\proyectos\\lib\\site-packages\\urllib3\\connectionpool.py:1013: InsecureRequestWarning: Unverified HTTPS request is being made to host 'www.ambito.com'. Adding certificate verification is strongly advised. See: https://urllib3.readthedocs.io/en/1.26.x/advanced-usage.html#ssl-warnings\n",
      "  warnings.warn(\n",
      "C:\\Users\\Dell User\\anaconda3\\envs\\proyectos\\lib\\site-packages\\urllib3\\connectionpool.py:1013: InsecureRequestWarning: Unverified HTTPS request is being made to host 'epocanegocios.globo.com'. Adding certificate verification is strongly advised. See: https://urllib3.readthedocs.io/en/1.26.x/advanced-usage.html#ssl-warnings\n",
      "  warnings.warn(\n"
     ]
    },
    {
     "name": "stdout",
     "output_type": "stream",
     "text": [
      "https://epocanegocios.globo.com/Empresa/noticia/2021/07/facebook-decidiu-que-grupos-religiosos-sao-bons-para-os-negocios-e-agora-quer-suas-oracoes.html\n"
     ]
    },
    {
     "name": "stderr",
     "output_type": "stream",
     "text": [
      "C:\\Users\\Dell User\\anaconda3\\envs\\proyectos\\lib\\site-packages\\urllib3\\connectionpool.py:1013: InsecureRequestWarning: Unverified HTTPS request is being made to host 'epocanegocios.globo.com'. Adding certificate verification is strongly advised. See: https://urllib3.readthedocs.io/en/1.26.x/advanced-usage.html#ssl-warnings\n",
      "  warnings.warn(\n",
      "C:\\Users\\Dell User\\anaconda3\\envs\\proyectos\\lib\\site-packages\\urllib3\\connectionpool.py:1013: InsecureRequestWarning: Unverified HTTPS request is being made to host 'noticias.uol.com.br'. Adding certificate verification is strongly advised. See: https://urllib3.readthedocs.io/en/1.26.x/advanced-usage.html#ssl-warnings\n",
      "  warnings.warn(\n"
     ]
    },
    {
     "name": "stdout",
     "output_type": "stream",
     "text": [
      "https://noticias.uol.com.br/ultimas-noticias/agencia-estado/2021/07/25/aziz-vamos-ouvir-plataformas-de-redes-por-permitirem-fake-news-de-medicacao.htm\n"
     ]
    },
    {
     "name": "stderr",
     "output_type": "stream",
     "text": [
      "C:\\Users\\Dell User\\anaconda3\\envs\\proyectos\\lib\\site-packages\\urllib3\\connectionpool.py:1013: InsecureRequestWarning: Unverified HTTPS request is being made to host 'noticias.uol.com.br'. Adding certificate verification is strongly advised. See: https://urllib3.readthedocs.io/en/1.26.x/advanced-usage.html#ssl-warnings\n",
      "  warnings.warn(\n",
      "C:\\Users\\Dell User\\anaconda3\\envs\\proyectos\\lib\\site-packages\\urllib3\\connectionpool.py:1013: InsecureRequestWarning: Unverified HTTPS request is being made to host 'www.ambito.com'. Adding certificate verification is strongly advised. See: https://urllib3.readthedocs.io/en/1.26.x/advanced-usage.html#ssl-warnings\n",
      "  warnings.warn(\n"
     ]
    },
    {
     "name": "stdout",
     "output_type": "stream",
     "text": [
      "https://www.ambito.com/informacion-general/austria/la-irrisoria-multa-facebook-acceso-datos-n5228503\n"
     ]
    },
    {
     "name": "stderr",
     "output_type": "stream",
     "text": [
      "C:\\Users\\Dell User\\anaconda3\\envs\\proyectos\\lib\\site-packages\\urllib3\\connectionpool.py:1013: InsecureRequestWarning: Unverified HTTPS request is being made to host 'www.ambito.com'. Adding certificate verification is strongly advised. See: https://urllib3.readthedocs.io/en/1.26.x/advanced-usage.html#ssl-warnings\n",
      "  warnings.warn(\n",
      "C:\\Users\\Dell User\\anaconda3\\envs\\proyectos\\lib\\site-packages\\urllib3\\connectionpool.py:1013: InsecureRequestWarning: Unverified HTTPS request is being made to host 'www.ambito.com'. Adding certificate verification is strongly advised. See: https://urllib3.readthedocs.io/en/1.26.x/advanced-usage.html#ssl-warnings\n",
      "  warnings.warn(\n"
     ]
    },
    {
     "name": "stdout",
     "output_type": "stream",
     "text": [
      "https://www.ambito.com/informacion-general/facebook/fabricara-lentes-camara-incorporada-n5237215\n"
     ]
    },
    {
     "name": "stderr",
     "output_type": "stream",
     "text": [
      "C:\\Users\\Dell User\\anaconda3\\envs\\proyectos\\lib\\site-packages\\urllib3\\connectionpool.py:1013: InsecureRequestWarning: Unverified HTTPS request is being made to host 'www.ambito.com'. Adding certificate verification is strongly advised. See: https://urllib3.readthedocs.io/en/1.26.x/advanced-usage.html#ssl-warnings\n",
      "  warnings.warn(\n",
      "C:\\Users\\Dell User\\anaconda3\\envs\\proyectos\\lib\\site-packages\\urllib3\\connectionpool.py:1013: InsecureRequestWarning: Unverified HTTPS request is being made to host 'www.ambito.com'. Adding certificate verification is strongly advised. See: https://urllib3.readthedocs.io/en/1.26.x/advanced-usage.html#ssl-warnings\n",
      "  warnings.warn(\n"
     ]
    },
    {
     "name": "stdout",
     "output_type": "stream",
     "text": [
      "https://www.ambito.com/informacion-general/facebook/biden-y-chocan-desinformacion-vacunas-n5225155\n"
     ]
    },
    {
     "name": "stderr",
     "output_type": "stream",
     "text": [
      "C:\\Users\\Dell User\\anaconda3\\envs\\proyectos\\lib\\site-packages\\urllib3\\connectionpool.py:1013: InsecureRequestWarning: Unverified HTTPS request is being made to host 'www.ambito.com'. Adding certificate verification is strongly advised. See: https://urllib3.readthedocs.io/en/1.26.x/advanced-usage.html#ssl-warnings\n",
      "  warnings.warn(\n",
      "C:\\Users\\Dell User\\anaconda3\\envs\\proyectos\\lib\\site-packages\\urllib3\\connectionpool.py:1013: InsecureRequestWarning: Unverified HTTPS request is being made to host 'www.techtudo.com.br'. Adding certificate verification is strongly advised. See: https://urllib3.readthedocs.io/en/1.26.x/advanced-usage.html#ssl-warnings\n",
      "  warnings.warn(\n"
     ]
    },
    {
     "name": "stdout",
     "output_type": "stream",
     "text": [
      "https://www.techtudo.com.br/dicas-e-tutoriais/2021/07/brasil-x-estados-unidos-ao-vivo-onde-assistir-ao-volei-masculino-na-olimpiada.ghtml\n"
     ]
    },
    {
     "name": "stderr",
     "output_type": "stream",
     "text": [
      "C:\\Users\\Dell User\\anaconda3\\envs\\proyectos\\lib\\site-packages\\urllib3\\connectionpool.py:1013: InsecureRequestWarning: Unverified HTTPS request is being made to host 'www.techtudo.com.br'. Adding certificate verification is strongly advised. See: https://urllib3.readthedocs.io/en/1.26.x/advanced-usage.html#ssl-warnings\n",
      "  warnings.warn(\n",
      "C:\\Users\\Dell User\\anaconda3\\envs\\proyectos\\lib\\site-packages\\urllib3\\connectionpool.py:1013: InsecureRequestWarning: Unverified HTTPS request is being made to host 'www.ambito.com'. Adding certificate verification is strongly advised. See: https://urllib3.readthedocs.io/en/1.26.x/advanced-usage.html#ssl-warnings\n",
      "  warnings.warn(\n"
     ]
    },
    {
     "name": "stdout",
     "output_type": "stream",
     "text": [
      "https://www.ambito.com/informacion-general/whatsapp/cerrara-tu-cuenta-si-tenes-alguna-estas-aplicaciones-n5226525\n"
     ]
    },
    {
     "name": "stderr",
     "output_type": "stream",
     "text": [
      "C:\\Users\\Dell User\\anaconda3\\envs\\proyectos\\lib\\site-packages\\urllib3\\connectionpool.py:1013: InsecureRequestWarning: Unverified HTTPS request is being made to host 'www.ambito.com'. Adding certificate verification is strongly advised. See: https://urllib3.readthedocs.io/en/1.26.x/advanced-usage.html#ssl-warnings\n",
      "  warnings.warn(\n",
      "C:\\Users\\Dell User\\anaconda3\\envs\\proyectos\\lib\\site-packages\\urllib3\\connectionpool.py:1013: InsecureRequestWarning: Unverified HTTPS request is being made to host 'www.metro.pr'. Adding certificate verification is strongly advised. See: https://urllib3.readthedocs.io/en/1.26.x/advanced-usage.html#ssl-warnings\n",
      "  warnings.warn(\n"
     ]
    },
    {
     "name": "stdout",
     "output_type": "stream",
     "text": [
      "https://www.metro.pr/pr/noticias/2021/07/24/rosello-nevares-renuncia.html\n"
     ]
    },
    {
     "name": "stderr",
     "output_type": "stream",
     "text": [
      "C:\\Users\\Dell User\\anaconda3\\envs\\proyectos\\lib\\site-packages\\urllib3\\connectionpool.py:1013: InsecureRequestWarning: Unverified HTTPS request is being made to host 'www.metro.pr'. Adding certificate verification is strongly advised. See: https://urllib3.readthedocs.io/en/1.26.x/advanced-usage.html#ssl-warnings\n",
      "  warnings.warn(\n",
      "C:\\Users\\Dell User\\anaconda3\\envs\\proyectos\\lib\\site-packages\\urllib3\\connectionpool.py:1013: InsecureRequestWarning: Unverified HTTPS request is being made to host 'revistapegn.globo.com'. Adding certificate verification is strongly advised. See: https://urllib3.readthedocs.io/en/1.26.x/advanced-usage.html#ssl-warnings\n",
      "  warnings.warn(\n"
     ]
    },
    {
     "name": "stdout",
     "output_type": "stream",
     "text": [
      "https://revistapegn.globo.com/Administracao-de-empresas/noticia/2021/07/jovem-de-19-anos-ganha-mais-de-us-4-mil-por-mes-para-gerenciar-lanchonete-e-planeja-comprar-franquia-da-marca.html\n"
     ]
    },
    {
     "name": "stderr",
     "output_type": "stream",
     "text": [
      "C:\\Users\\Dell User\\anaconda3\\envs\\proyectos\\lib\\site-packages\\urllib3\\connectionpool.py:1013: InsecureRequestWarning: Unverified HTTPS request is being made to host 'revistapegn.globo.com'. Adding certificate verification is strongly advised. See: https://urllib3.readthedocs.io/en/1.26.x/advanced-usage.html#ssl-warnings\n",
      "  warnings.warn(\n",
      "C:\\Users\\Dell User\\anaconda3\\envs\\proyectos\\lib\\site-packages\\urllib3\\connectionpool.py:1013: InsecureRequestWarning: Unverified HTTPS request is being made to host 'politica.estadao.com.br'. Adding certificate verification is strongly advised. See: https://urllib3.readthedocs.io/en/1.26.x/advanced-usage.html#ssl-warnings\n",
      "  warnings.warn(\n"
     ]
    },
    {
     "name": "stdout",
     "output_type": "stream",
     "text": [
      "https://politica.estadao.com.br/blogs/fausto-macedo/grupo-de-whatsapp-virou-organizacao-criminosa-ironiza-flavio-bolsonaro-apos-alexandre-de-moraes-abrir-nova-investigacao/\n"
     ]
    },
    {
     "name": "stderr",
     "output_type": "stream",
     "text": [
      "C:\\Users\\Dell User\\anaconda3\\envs\\proyectos\\lib\\site-packages\\urllib3\\connectionpool.py:1013: InsecureRequestWarning: Unverified HTTPS request is being made to host 'politica.estadao.com.br'. Adding certificate verification is strongly advised. See: https://urllib3.readthedocs.io/en/1.26.x/advanced-usage.html#ssl-warnings\n",
      "  warnings.warn(\n",
      "C:\\Users\\Dell User\\anaconda3\\envs\\proyectos\\lib\\site-packages\\urllib3\\connectionpool.py:1013: InsecureRequestWarning: Unverified HTTPS request is being made to host 'www.techtudo.com.br'. Adding certificate verification is strongly advised. See: https://urllib3.readthedocs.io/en/1.26.x/advanced-usage.html#ssl-warnings\n",
      "  warnings.warn(\n"
     ]
    },
    {
     "name": "stdout",
     "output_type": "stream",
     "text": [
      "https://www.techtudo.com.br/noticias/2021/07/camera-do-whatsapp-tem-zoom-indesejado-apos-atualizacao-como-resolver.ghtml\n"
     ]
    },
    {
     "name": "stderr",
     "output_type": "stream",
     "text": [
      "C:\\Users\\Dell User\\anaconda3\\envs\\proyectos\\lib\\site-packages\\urllib3\\connectionpool.py:1013: InsecureRequestWarning: Unverified HTTPS request is being made to host 'www.techtudo.com.br'. Adding certificate verification is strongly advised. See: https://urllib3.readthedocs.io/en/1.26.x/advanced-usage.html#ssl-warnings\n",
      "  warnings.warn(\n",
      "C:\\Users\\Dell User\\anaconda3\\envs\\proyectos\\lib\\site-packages\\urllib3\\connectionpool.py:1013: InsecureRequestWarning: Unverified HTTPS request is being made to host 'www.techtudo.com.br'. Adding certificate verification is strongly advised. See: https://urllib3.readthedocs.io/en/1.26.x/advanced-usage.html#ssl-warnings\n",
      "  warnings.warn(\n"
     ]
    },
    {
     "name": "stdout",
     "output_type": "stream",
     "text": [
      "https://www.techtudo.com.br/dicas-e-tutoriais/2021/07/como-impulsionar-no-kwai-saiba-como-colocar-codigo-de-impulso.ghtml\n"
     ]
    },
    {
     "name": "stderr",
     "output_type": "stream",
     "text": [
      "C:\\Users\\Dell User\\anaconda3\\envs\\proyectos\\lib\\site-packages\\urllib3\\connectionpool.py:1013: InsecureRequestWarning: Unverified HTTPS request is being made to host 'www.techtudo.com.br'. Adding certificate verification is strongly advised. See: https://urllib3.readthedocs.io/en/1.26.x/advanced-usage.html#ssl-warnings\n",
      "  warnings.warn(\n",
      "C:\\Users\\Dell User\\anaconda3\\envs\\proyectos\\lib\\site-packages\\urllib3\\connectionpool.py:1013: InsecureRequestWarning: Unverified HTTPS request is being made to host 'noticias.uol.com.br'. Adding certificate verification is strongly advised. See: https://urllib3.readthedocs.io/en/1.26.x/advanced-usage.html#ssl-warnings\n",
      "  warnings.warn(\n"
     ]
    },
    {
     "name": "stdout",
     "output_type": "stream",
     "text": [
      "https://noticias.uol.com.br/ultimas-noticias/agencia-estado/2021/07/04/um-semestre-de-volta-as-aulas-em-meio-a-covid-19.htm\n"
     ]
    },
    {
     "name": "stderr",
     "output_type": "stream",
     "text": [
      "C:\\Users\\Dell User\\anaconda3\\envs\\proyectos\\lib\\site-packages\\urllib3\\connectionpool.py:1013: InsecureRequestWarning: Unverified HTTPS request is being made to host 'noticias.uol.com.br'. Adding certificate verification is strongly advised. See: https://urllib3.readthedocs.io/en/1.26.x/advanced-usage.html#ssl-warnings\n",
      "  warnings.warn(\n",
      "C:\\Users\\Dell User\\anaconda3\\envs\\proyectos\\lib\\site-packages\\urllib3\\connectionpool.py:1013: InsecureRequestWarning: Unverified HTTPS request is being made to host 'www.techtudo.com.br'. Adding certificate verification is strongly advised. See: https://urllib3.readthedocs.io/en/1.26.x/advanced-usage.html#ssl-warnings\n",
      "  warnings.warn(\n"
     ]
    },
    {
     "name": "stdout",
     "output_type": "stream",
     "text": [
      "https://www.techtudo.com.br/noticias/2021/07/whatsapp-comeca-a-testar-acesso-simultaneo-em-ate-quatro-dispositivos.ghtml\n"
     ]
    },
    {
     "name": "stderr",
     "output_type": "stream",
     "text": [
      "C:\\Users\\Dell User\\anaconda3\\envs\\proyectos\\lib\\site-packages\\urllib3\\connectionpool.py:1013: InsecureRequestWarning: Unverified HTTPS request is being made to host 'www.techtudo.com.br'. Adding certificate verification is strongly advised. See: https://urllib3.readthedocs.io/en/1.26.x/advanced-usage.html#ssl-warnings\n",
      "  warnings.warn(\n",
      "C:\\Users\\Dell User\\anaconda3\\envs\\proyectos\\lib\\site-packages\\urllib3\\connectionpool.py:1013: InsecureRequestWarning: Unverified HTTPS request is being made to host 'www.ambito.com'. Adding certificate verification is strongly advised. See: https://urllib3.readthedocs.io/en/1.26.x/advanced-usage.html#ssl-warnings\n",
      "  warnings.warn(\n"
     ]
    },
    {
     "name": "stdout",
     "output_type": "stream",
     "text": [
      "https://www.ambito.com/negocios/negocios/la-postpandemia-el-camino-sera-humanizarlos-o-tecnificarlos-n5224499\n"
     ]
    },
    {
     "name": "stderr",
     "output_type": "stream",
     "text": [
      "C:\\Users\\Dell User\\anaconda3\\envs\\proyectos\\lib\\site-packages\\urllib3\\connectionpool.py:1013: InsecureRequestWarning: Unverified HTTPS request is being made to host 'www.ambito.com'. Adding certificate verification is strongly advised. See: https://urllib3.readthedocs.io/en/1.26.x/advanced-usage.html#ssl-warnings\n",
      "  warnings.warn(\n",
      "C:\\Users\\Dell User\\anaconda3\\envs\\proyectos\\lib\\site-packages\\urllib3\\connectionpool.py:1013: InsecureRequestWarning: Unverified HTTPS request is being made to host 'www.techtudo.com.br'. Adding certificate verification is strongly advised. See: https://urllib3.readthedocs.io/en/1.26.x/advanced-usage.html#ssl-warnings\n",
      "  warnings.warn(\n"
     ]
    },
    {
     "name": "stdout",
     "output_type": "stream",
     "text": [
      "https://www.techtudo.com.br/noticias/2021/07/tixinha-e-sacy-5-personalidades-que-mudaram-do-lol-para-valorant-esports.ghtml\n"
     ]
    },
    {
     "name": "stderr",
     "output_type": "stream",
     "text": [
      "C:\\Users\\Dell User\\anaconda3\\envs\\proyectos\\lib\\site-packages\\urllib3\\connectionpool.py:1013: InsecureRequestWarning: Unverified HTTPS request is being made to host 'www.techtudo.com.br'. Adding certificate verification is strongly advised. See: https://urllib3.readthedocs.io/en/1.26.x/advanced-usage.html#ssl-warnings\n",
      "  warnings.warn(\n",
      "C:\\Users\\Dell User\\anaconda3\\envs\\proyectos\\lib\\site-packages\\urllib3\\connectionpool.py:1013: InsecureRequestWarning: Unverified HTTPS request is being made to host 'link.estadao.com.br'. Adding certificate verification is strongly advised. See: https://urllib3.readthedocs.io/en/1.26.x/advanced-usage.html#ssl-warnings\n",
      "  warnings.warn(\n"
     ]
    },
    {
     "name": "stdout",
     "output_type": "stream",
     "text": [
      "https://link.estadao.com.br/noticias/empresas,whatsapp-repagina-app-em-2021-veja-o-que-vem-ai,70003776628\n"
     ]
    },
    {
     "name": "stderr",
     "output_type": "stream",
     "text": [
      "C:\\Users\\Dell User\\anaconda3\\envs\\proyectos\\lib\\site-packages\\urllib3\\connectionpool.py:1013: InsecureRequestWarning: Unverified HTTPS request is being made to host 'link.estadao.com.br'. Adding certificate verification is strongly advised. See: https://urllib3.readthedocs.io/en/1.26.x/advanced-usage.html#ssl-warnings\n",
      "  warnings.warn(\n",
      "C:\\Users\\Dell User\\anaconda3\\envs\\proyectos\\lib\\site-packages\\urllib3\\connectionpool.py:1013: InsecureRequestWarning: Unverified HTTPS request is being made to host 'noticias.uol.com.br'. Adding certificate verification is strongly advised. See: https://urllib3.readthedocs.io/en/1.26.x/advanced-usage.html#ssl-warnings\n",
      "  warnings.warn(\n"
     ]
    },
    {
     "name": "stdout",
     "output_type": "stream",
     "text": [
      "https://noticias.uol.com.br/ultimas-noticias/reuters/2021/07/19/biden-ameniza-tom-apos-acusar-facebook-mas-ainda-quer-acoes-contra-desinformacao-sobre-vacinas.htm\n"
     ]
    },
    {
     "name": "stderr",
     "output_type": "stream",
     "text": [
      "C:\\Users\\Dell User\\anaconda3\\envs\\proyectos\\lib\\site-packages\\urllib3\\connectionpool.py:1013: InsecureRequestWarning: Unverified HTTPS request is being made to host 'noticias.uol.com.br'. Adding certificate verification is strongly advised. See: https://urllib3.readthedocs.io/en/1.26.x/advanced-usage.html#ssl-warnings\n",
      "  warnings.warn(\n",
      "C:\\Users\\Dell User\\anaconda3\\envs\\proyectos\\lib\\site-packages\\urllib3\\connectionpool.py:1013: InsecureRequestWarning: Unverified HTTPS request is being made to host 'epocanegocios.globo.com'. Adding certificate verification is strongly advised. See: https://urllib3.readthedocs.io/en/1.26.x/advanced-usage.html#ssl-warnings\n",
      "  warnings.warn(\n"
     ]
    },
    {
     "name": "stdout",
     "output_type": "stream",
     "text": [
      "https://epocanegocios.globo.com/Mundo/noticia/2021/07/epoca-negocios-biden-diz-que-redes-sociais-estao-matando-pessoas-com-desinformacao-sobre-covid.html\n"
     ]
    },
    {
     "name": "stderr",
     "output_type": "stream",
     "text": [
      "C:\\Users\\Dell User\\anaconda3\\envs\\proyectos\\lib\\site-packages\\urllib3\\connectionpool.py:1013: InsecureRequestWarning: Unverified HTTPS request is being made to host 'epocanegocios.globo.com'. Adding certificate verification is strongly advised. See: https://urllib3.readthedocs.io/en/1.26.x/advanced-usage.html#ssl-warnings\n",
      "  warnings.warn(\n",
      "C:\\Users\\Dell User\\anaconda3\\envs\\proyectos\\lib\\site-packages\\urllib3\\connectionpool.py:1013: InsecureRequestWarning: Unverified HTTPS request is being made to host 'www.techtudo.com.br'. Adding certificate verification is strongly advised. See: https://urllib3.readthedocs.io/en/1.26.x/advanced-usage.html#ssl-warnings\n",
      "  warnings.warn(\n"
     ]
    },
    {
     "name": "stdout",
     "output_type": "stream",
     "text": [
      "https://www.techtudo.com.br/noticias/2021/07/apple-causa-polemica-ao-iphone-associar-emoji-de-cara-tonta-a-gagueira.ghtml\n"
     ]
    },
    {
     "name": "stderr",
     "output_type": "stream",
     "text": [
      "C:\\Users\\Dell User\\anaconda3\\envs\\proyectos\\lib\\site-packages\\urllib3\\connectionpool.py:1013: InsecureRequestWarning: Unverified HTTPS request is being made to host 'www.techtudo.com.br'. Adding certificate verification is strongly advised. See: https://urllib3.readthedocs.io/en/1.26.x/advanced-usage.html#ssl-warnings\n",
      "  warnings.warn(\n",
      "C:\\Users\\Dell User\\anaconda3\\envs\\proyectos\\lib\\site-packages\\urllib3\\connectionpool.py:1013: InsecureRequestWarning: Unverified HTTPS request is being made to host 'politica.estadao.com.br'. Adding certificate verification is strongly advised. See: https://urllib3.readthedocs.io/en/1.26.x/advanced-usage.html#ssl-warnings\n",
      "  warnings.warn(\n"
     ]
    },
    {
     "name": "stdout",
     "output_type": "stream",
     "text": [
      "https://politica.estadao.com.br/blogs/estadao-verifica/e-falso-que-oferendas-nas-encruzilhadas-tenham-surgido-como-forma-de-alimentar-escravos-fugitivos/\n"
     ]
    },
    {
     "name": "stderr",
     "output_type": "stream",
     "text": [
      "C:\\Users\\Dell User\\anaconda3\\envs\\proyectos\\lib\\site-packages\\urllib3\\connectionpool.py:1013: InsecureRequestWarning: Unverified HTTPS request is being made to host 'politica.estadao.com.br'. Adding certificate verification is strongly advised. See: https://urllib3.readthedocs.io/en/1.26.x/advanced-usage.html#ssl-warnings\n",
      "  warnings.warn(\n",
      "C:\\Users\\Dell User\\anaconda3\\envs\\proyectos\\lib\\site-packages\\urllib3\\connectionpool.py:1013: InsecureRequestWarning: Unverified HTTPS request is being made to host 'www.techtudo.com.br'. Adding certificate verification is strongly advised. See: https://urllib3.readthedocs.io/en/1.26.x/advanced-usage.html#ssl-warnings\n",
      "  warnings.warn(\n"
     ]
    },
    {
     "name": "stdout",
     "output_type": "stream",
     "text": [
      "https://www.techtudo.com.br/dicas-e-tutoriais/2021/07/brasil-x-tunisia-ao-vivo-onde-assistir-ao-volei-masculino-na-olimpiada.ghtml\n"
     ]
    },
    {
     "name": "stderr",
     "output_type": "stream",
     "text": [
      "C:\\Users\\Dell User\\anaconda3\\envs\\proyectos\\lib\\site-packages\\urllib3\\connectionpool.py:1013: InsecureRequestWarning: Unverified HTTPS request is being made to host 'www.techtudo.com.br'. Adding certificate verification is strongly advised. See: https://urllib3.readthedocs.io/en/1.26.x/advanced-usage.html#ssl-warnings\n",
      "  warnings.warn(\n",
      "C:\\Users\\Dell User\\anaconda3\\envs\\proyectos\\lib\\site-packages\\urllib3\\connectionpool.py:1013: InsecureRequestWarning: Unverified HTTPS request is being made to host 'politica.estadao.com.br'. Adding certificate verification is strongly advised. See: https://urllib3.readthedocs.io/en/1.26.x/advanced-usage.html#ssl-warnings\n",
      "  warnings.warn(\n"
     ]
    },
    {
     "name": "stdout",
     "output_type": "stream",
     "text": [
      "https://politica.estadao.com.br/blogs/estadao-verifica/para-atacar-randolfe-postagens-distorcem-contexto-sobre-pagamento-de-aluguel-de-escritorio-e-citam-falsa-rachadinha/\n"
     ]
    },
    {
     "name": "stderr",
     "output_type": "stream",
     "text": [
      "C:\\Users\\Dell User\\anaconda3\\envs\\proyectos\\lib\\site-packages\\urllib3\\connectionpool.py:1013: InsecureRequestWarning: Unverified HTTPS request is being made to host 'politica.estadao.com.br'. Adding certificate verification is strongly advised. See: https://urllib3.readthedocs.io/en/1.26.x/advanced-usage.html#ssl-warnings\n",
      "  warnings.warn(\n",
      "C:\\Users\\Dell User\\anaconda3\\envs\\proyectos\\lib\\site-packages\\urllib3\\connectionpool.py:1013: InsecureRequestWarning: Unverified HTTPS request is being made to host 'www.metro.pr'. Adding certificate verification is strongly advised. See: https://urllib3.readthedocs.io/en/1.26.x/advanced-usage.html#ssl-warnings\n",
      "  warnings.warn(\n"
     ]
    },
    {
     "name": "stdout",
     "output_type": "stream",
     "text": [
      "https://www.metro.pr/pr/noticias/2021/07/16/detienen-mujer-agredio-una-anciana-estuvo-cinco-horas-vivo-facebook.html\n"
     ]
    },
    {
     "name": "stderr",
     "output_type": "stream",
     "text": [
      "C:\\Users\\Dell User\\anaconda3\\envs\\proyectos\\lib\\site-packages\\urllib3\\connectionpool.py:1013: InsecureRequestWarning: Unverified HTTPS request is being made to host 'www.metro.pr'. Adding certificate verification is strongly advised. See: https://urllib3.readthedocs.io/en/1.26.x/advanced-usage.html#ssl-warnings\n",
      "  warnings.warn(\n",
      "C:\\Users\\Dell User\\anaconda3\\envs\\proyectos\\lib\\site-packages\\urllib3\\connectionpool.py:1013: InsecureRequestWarning: Unverified HTTPS request is being made to host 'www.techtudo.com.br'. Adding certificate verification is strongly advised. See: https://urllib3.readthedocs.io/en/1.26.x/advanced-usage.html#ssl-warnings\n",
      "  warnings.warn(\n"
     ]
    },
    {
     "name": "stdout",
     "output_type": "stream",
     "text": [
      "https://www.techtudo.com.br/dicas-e-tutoriais/2021/07/whatsapp-como-enviar-fotos-e-videos-que-se-autodestroem-pelo-computador.ghtml\n"
     ]
    },
    {
     "name": "stderr",
     "output_type": "stream",
     "text": [
      "C:\\Users\\Dell User\\anaconda3\\envs\\proyectos\\lib\\site-packages\\urllib3\\connectionpool.py:1013: InsecureRequestWarning: Unverified HTTPS request is being made to host 'www.techtudo.com.br'. Adding certificate verification is strongly advised. See: https://urllib3.readthedocs.io/en/1.26.x/advanced-usage.html#ssl-warnings\n",
      "  warnings.warn(\n",
      "C:\\Users\\Dell User\\anaconda3\\envs\\proyectos\\lib\\site-packages\\urllib3\\connectionpool.py:1013: InsecureRequestWarning: Unverified HTTPS request is being made to host 'epocanegocios.globo.com'. Adding certificate verification is strongly advised. See: https://urllib3.readthedocs.io/en/1.26.x/advanced-usage.html#ssl-warnings\n",
      "  warnings.warn(\n"
     ]
    },
    {
     "name": "stdout",
     "output_type": "stream",
     "text": [
      "https://epocanegocios.globo.com/Empresa/noticia/2021/07/caixa-e-whatsapp-fecham-parceria-para-envio-de-mensagens-sobre-auxilio.html\n"
     ]
    },
    {
     "name": "stderr",
     "output_type": "stream",
     "text": [
      "C:\\Users\\Dell User\\anaconda3\\envs\\proyectos\\lib\\site-packages\\urllib3\\connectionpool.py:1013: InsecureRequestWarning: Unverified HTTPS request is being made to host 'epocanegocios.globo.com'. Adding certificate verification is strongly advised. See: https://urllib3.readthedocs.io/en/1.26.x/advanced-usage.html#ssl-warnings\n",
      "  warnings.warn(\n",
      "C:\\Users\\Dell User\\anaconda3\\envs\\proyectos\\lib\\site-packages\\urllib3\\connectionpool.py:1013: InsecureRequestWarning: Unverified HTTPS request is being made to host 'link.estadao.com.br'. Adding certificate verification is strongly advised. See: https://urllib3.readthedocs.io/en/1.26.x/advanced-usage.html#ssl-warnings\n",
      "  warnings.warn(\n"
     ]
    },
    {
     "name": "stdout",
     "output_type": "stream",
     "text": [
      "https://link.estadao.com.br/noticias/cultura-digital,whatsapp-em-breve-sera-possivel-escolher-a-qualidade-dos-videos-enviados,70003770581\n"
     ]
    },
    {
     "name": "stderr",
     "output_type": "stream",
     "text": [
      "C:\\Users\\Dell User\\anaconda3\\envs\\proyectos\\lib\\site-packages\\urllib3\\connectionpool.py:1013: InsecureRequestWarning: Unverified HTTPS request is being made to host 'link.estadao.com.br'. Adding certificate verification is strongly advised. See: https://urllib3.readthedocs.io/en/1.26.x/advanced-usage.html#ssl-warnings\n",
      "  warnings.warn(\n",
      "C:\\Users\\Dell User\\anaconda3\\envs\\proyectos\\lib\\site-packages\\urllib3\\connectionpool.py:1013: InsecureRequestWarning: Unverified HTTPS request is being made to host 'revistapegn.globo.com'. Adding certificate verification is strongly advised. See: https://urllib3.readthedocs.io/en/1.26.x/advanced-usage.html#ssl-warnings\n",
      "  warnings.warn(\n"
     ]
    },
    {
     "name": "stdout",
     "output_type": "stream",
     "text": [
      "https://revistapegn.globo.com/Mulheres-empreendedoras/noticia/2021/07/floricultura-verbena-flores-triplica-vendas-na-pandemia-pedidos-digitais-crescem-1200.html\n"
     ]
    },
    {
     "name": "stderr",
     "output_type": "stream",
     "text": [
      "C:\\Users\\Dell User\\anaconda3\\envs\\proyectos\\lib\\site-packages\\urllib3\\connectionpool.py:1013: InsecureRequestWarning: Unverified HTTPS request is being made to host 'revistapegn.globo.com'. Adding certificate verification is strongly advised. See: https://urllib3.readthedocs.io/en/1.26.x/advanced-usage.html#ssl-warnings\n",
      "  warnings.warn(\n",
      "C:\\Users\\Dell User\\anaconda3\\envs\\proyectos\\lib\\site-packages\\urllib3\\connectionpool.py:1013: InsecureRequestWarning: Unverified HTTPS request is being made to host 'internacional.estadao.com.br'. Adding certificate verification is strongly advised. See: https://urllib3.readthedocs.io/en/1.26.x/advanced-usage.html#ssl-warnings\n",
      "  warnings.warn(\n"
     ]
    },
    {
     "name": "stdout",
     "output_type": "stream",
     "text": [
      "https://internacional.estadao.com.br/noticias/geral,o-dia-em-que-os-cubanos-perderam-o-medo-leia-analise,70003779800\n"
     ]
    },
    {
     "name": "stderr",
     "output_type": "stream",
     "text": [
      "C:\\Users\\Dell User\\anaconda3\\envs\\proyectos\\lib\\site-packages\\urllib3\\connectionpool.py:1013: InsecureRequestWarning: Unverified HTTPS request is being made to host 'internacional.estadao.com.br'. Adding certificate verification is strongly advised. See: https://urllib3.readthedocs.io/en/1.26.x/advanced-usage.html#ssl-warnings\n",
      "  warnings.warn(\n",
      "C:\\Users\\Dell User\\anaconda3\\envs\\proyectos\\lib\\site-packages\\urllib3\\connectionpool.py:1013: InsecureRequestWarning: Unverified HTTPS request is being made to host 'noticias.uol.com.br'. Adding certificate verification is strongly advised. See: https://urllib3.readthedocs.io/en/1.26.x/advanced-usage.html#ssl-warnings\n",
      "  warnings.warn(\n",
      "C:\\Users\\Dell User\\anaconda3\\envs\\proyectos\\lib\\site-packages\\urllib3\\connectionpool.py:1013: InsecureRequestWarning: Unverified HTTPS request is being made to host 'noticias.uol.com.br'. Adding certificate verification is strongly advised. See: https://urllib3.readthedocs.io/en/1.26.x/advanced-usage.html#ssl-warnings\n",
      "  warnings.warn(\n"
     ]
    },
    {
     "name": "stdout",
     "output_type": "stream",
     "text": [
      "https://noticias.uol.com.br/ultimas-noticias/bbc/2021/07/14/cuba-por-que-parte-dos-cubanos-continua-a-apoiar-governo.htm\n"
     ]
    },
    {
     "name": "stderr",
     "output_type": "stream",
     "text": [
      "C:\\Users\\Dell User\\anaconda3\\envs\\proyectos\\lib\\site-packages\\urllib3\\connectionpool.py:1013: InsecureRequestWarning: Unverified HTTPS request is being made to host 'noticias.uol.com.br'. Adding certificate verification is strongly advised. See: https://urllib3.readthedocs.io/en/1.26.x/advanced-usage.html#ssl-warnings\n",
      "  warnings.warn(\n",
      "C:\\Users\\Dell User\\anaconda3\\envs\\proyectos\\lib\\site-packages\\urllib3\\connectionpool.py:1013: InsecureRequestWarning: Unverified HTTPS request is being made to host 'noticias.uol.com.br'. Adding certificate verification is strongly advised. See: https://urllib3.readthedocs.io/en/1.26.x/advanced-usage.html#ssl-warnings\n",
      "  warnings.warn(\n",
      "C:\\Users\\Dell User\\anaconda3\\envs\\proyectos\\lib\\site-packages\\urllib3\\connectionpool.py:1013: InsecureRequestWarning: Unverified HTTPS request is being made to host 'www.techtudo.com.br'. Adding certificate verification is strongly advised. See: https://urllib3.readthedocs.io/en/1.26.x/advanced-usage.html#ssl-warnings\n",
      "  warnings.warn(\n"
     ]
    },
    {
     "name": "stdout",
     "output_type": "stream",
     "text": [
      "https://www.techtudo.com.br/noticias/2021/07/esim-vivo-o-que-e-e-como-solicitar.ghtml\n"
     ]
    },
    {
     "name": "stderr",
     "output_type": "stream",
     "text": [
      "C:\\Users\\Dell User\\anaconda3\\envs\\proyectos\\lib\\site-packages\\urllib3\\connectionpool.py:1013: InsecureRequestWarning: Unverified HTTPS request is being made to host 'www.techtudo.com.br'. Adding certificate verification is strongly advised. See: https://urllib3.readthedocs.io/en/1.26.x/advanced-usage.html#ssl-warnings\n",
      "  warnings.warn(\n",
      "C:\\Users\\Dell User\\anaconda3\\envs\\proyectos\\lib\\site-packages\\urllib3\\connectionpool.py:1013: InsecureRequestWarning: Unverified HTTPS request is being made to host 'noticias.uol.com.br'. Adding certificate verification is strongly advised. See: https://urllib3.readthedocs.io/en/1.26.x/advanced-usage.html#ssl-warnings\n",
      "  warnings.warn(\n"
     ]
    },
    {
     "name": "stdout",
     "output_type": "stream",
     "text": [
      "https://noticias.uol.com.br/cotidiano/ultimas-noticias/2021/07/26/motorista-de-app-finge-estar-morta-apos-ser-agredida-em-assalto-medo.htm\n"
     ]
    },
    {
     "name": "stderr",
     "output_type": "stream",
     "text": [
      "C:\\Users\\Dell User\\anaconda3\\envs\\proyectos\\lib\\site-packages\\urllib3\\connectionpool.py:1013: InsecureRequestWarning: Unverified HTTPS request is being made to host 'noticias.uol.com.br'. Adding certificate verification is strongly advised. See: https://urllib3.readthedocs.io/en/1.26.x/advanced-usage.html#ssl-warnings\n",
      "  warnings.warn(\n",
      "C:\\Users\\Dell User\\anaconda3\\envs\\proyectos\\lib\\site-packages\\urllib3\\connectionpool.py:1013: InsecureRequestWarning: Unverified HTTPS request is being made to host 'www.techtudo.com.br'. Adding certificate verification is strongly advised. See: https://urllib3.readthedocs.io/en/1.26.x/advanced-usage.html#ssl-warnings\n",
      "  warnings.warn(\n"
     ]
    },
    {
     "name": "stdout",
     "output_type": "stream",
     "text": [
      "https://www.techtudo.com.br/noticias/2021/07/olimpiadas-de-toquio-atletas-ganham-galaxy-s21-de-presente-da-samsung.ghtml\n"
     ]
    },
    {
     "name": "stderr",
     "output_type": "stream",
     "text": [
      "C:\\Users\\Dell User\\anaconda3\\envs\\proyectos\\lib\\site-packages\\urllib3\\connectionpool.py:1013: InsecureRequestWarning: Unverified HTTPS request is being made to host 'www.techtudo.com.br'. Adding certificate verification is strongly advised. See: https://urllib3.readthedocs.io/en/1.26.x/advanced-usage.html#ssl-warnings\n",
      "  warnings.warn(\n",
      "C:\\Users\\Dell User\\anaconda3\\envs\\proyectos\\lib\\site-packages\\urllib3\\connectionpool.py:1013: InsecureRequestWarning: Unverified HTTPS request is being made to host 'www.techtudo.com.br'. Adding certificate verification is strongly advised. See: https://urllib3.readthedocs.io/en/1.26.x/advanced-usage.html#ssl-warnings\n",
      "  warnings.warn(\n"
     ]
    },
    {
     "name": "stdout",
     "output_type": "stream",
     "text": [
      "https://www.techtudo.com.br/dicas-e-tutoriais/2021/07/como-usar-o-samsung-smarttag.ghtml\n"
     ]
    },
    {
     "name": "stderr",
     "output_type": "stream",
     "text": [
      "C:\\Users\\Dell User\\anaconda3\\envs\\proyectos\\lib\\site-packages\\urllib3\\connectionpool.py:1013: InsecureRequestWarning: Unverified HTTPS request is being made to host 'www.techtudo.com.br'. Adding certificate verification is strongly advised. See: https://urllib3.readthedocs.io/en/1.26.x/advanced-usage.html#ssl-warnings\n",
      "  warnings.warn(\n",
      "C:\\Users\\Dell User\\anaconda3\\envs\\proyectos\\lib\\site-packages\\urllib3\\connectionpool.py:1013: InsecureRequestWarning: Unverified HTTPS request is being made to host 'www.radioagricultura.cl'. Adding certificate verification is strongly advised. See: https://urllib3.readthedocs.io/en/1.26.x/advanced-usage.html#ssl-warnings\n",
      "  warnings.warn(\n"
     ]
    },
    {
     "name": "stdout",
     "output_type": "stream",
     "text": [
      "https://www.radioagricultura.cl/internacional/2021/07/11/despego-la-nave-que-transporta-al-espacio-al-multimillonario-richard-branson.html\n"
     ]
    },
    {
     "name": "stderr",
     "output_type": "stream",
     "text": [
      "C:\\Users\\Dell User\\anaconda3\\envs\\proyectos\\lib\\site-packages\\urllib3\\connectionpool.py:1013: InsecureRequestWarning: Unverified HTTPS request is being made to host 'www.radioagricultura.cl'. Adding certificate verification is strongly advised. See: https://urllib3.readthedocs.io/en/1.26.x/advanced-usage.html#ssl-warnings\n",
      "  warnings.warn(\n",
      "C:\\Users\\Dell User\\anaconda3\\envs\\proyectos\\lib\\site-packages\\urllib3\\connectionpool.py:1013: InsecureRequestWarning: Unverified HTTPS request is being made to host 'www.techtudo.com.br'. Adding certificate verification is strongly advised. See: https://urllib3.readthedocs.io/en/1.26.x/advanced-usage.html#ssl-warnings\n",
      "  warnings.warn(\n"
     ]
    },
    {
     "name": "stdout",
     "output_type": "stream",
     "text": [
      "https://www.techtudo.com.br/listas/2021/07/celular-para-jogar-free-fire-veja-sete-smartphones-para-comprar.ghtml\n"
     ]
    },
    {
     "name": "stderr",
     "output_type": "stream",
     "text": [
      "C:\\Users\\Dell User\\anaconda3\\envs\\proyectos\\lib\\site-packages\\urllib3\\connectionpool.py:1013: InsecureRequestWarning: Unverified HTTPS request is being made to host 'www.techtudo.com.br'. Adding certificate verification is strongly advised. See: https://urllib3.readthedocs.io/en/1.26.x/advanced-usage.html#ssl-warnings\n",
      "  warnings.warn(\n",
      "C:\\Users\\Dell User\\anaconda3\\envs\\proyectos\\lib\\site-packages\\urllib3\\connectionpool.py:1013: InsecureRequestWarning: Unverified HTTPS request is being made to host 'www.ambito.com'. Adding certificate verification is strongly advised. See: https://urllib3.readthedocs.io/en/1.26.x/advanced-usage.html#ssl-warnings\n",
      "  warnings.warn(\n"
     ]
    },
    {
     "name": "stdout",
     "output_type": "stream",
     "text": [
      "https://www.ambito.com/mundo/guerra-gigantes-el-pentagono-anulo-un-megacontrato-10000-millones-dolares-microsoft-n5215760\n"
     ]
    },
    {
     "name": "stderr",
     "output_type": "stream",
     "text": [
      "C:\\Users\\Dell User\\anaconda3\\envs\\proyectos\\lib\\site-packages\\urllib3\\connectionpool.py:1013: InsecureRequestWarning: Unverified HTTPS request is being made to host 'www.ambito.com'. Adding certificate verification is strongly advised. See: https://urllib3.readthedocs.io/en/1.26.x/advanced-usage.html#ssl-warnings\n",
      "  warnings.warn(\n",
      "C:\\Users\\Dell User\\anaconda3\\envs\\proyectos\\lib\\site-packages\\urllib3\\connectionpool.py:1013: InsecureRequestWarning: Unverified HTTPS request is being made to host 'www.techtudo.com.br'. Adding certificate verification is strongly advised. See: https://urllib3.readthedocs.io/en/1.26.x/advanced-usage.html#ssl-warnings\n",
      "  warnings.warn(\n"
     ]
    },
    {
     "name": "stdout",
     "output_type": "stream",
     "text": [
      "https://www.techtudo.com.br/listas/2021/07/mouse-fortrek-veja-sete-modelos-para-comprar-no-brasil-em-2021.ghtml\n"
     ]
    },
    {
     "name": "stderr",
     "output_type": "stream",
     "text": [
      "C:\\Users\\Dell User\\anaconda3\\envs\\proyectos\\lib\\site-packages\\urllib3\\connectionpool.py:1013: InsecureRequestWarning: Unverified HTTPS request is being made to host 'www.techtudo.com.br'. Adding certificate verification is strongly advised. See: https://urllib3.readthedocs.io/en/1.26.x/advanced-usage.html#ssl-warnings\n",
      "  warnings.warn(\n",
      "C:\\Users\\Dell User\\anaconda3\\envs\\proyectos\\lib\\site-packages\\urllib3\\connectionpool.py:1013: InsecureRequestWarning: Unverified HTTPS request is being made to host 'noticias.uol.com.br'. Adding certificate verification is strongly advised. See: https://urllib3.readthedocs.io/en/1.26.x/advanced-usage.html#ssl-warnings\n",
      "  warnings.warn(\n"
     ]
    },
    {
     "name": "stdout",
     "output_type": "stream",
     "text": [
      "https://noticias.uol.com.br/colunas/juliana-dal-piva/2021/07/08/queiroz-audios-rachadinha-mp.htm\n"
     ]
    },
    {
     "name": "stderr",
     "output_type": "stream",
     "text": [
      "C:\\Users\\Dell User\\anaconda3\\envs\\proyectos\\lib\\site-packages\\urllib3\\connectionpool.py:1013: InsecureRequestWarning: Unverified HTTPS request is being made to host 'noticias.uol.com.br'. Adding certificate verification is strongly advised. See: https://urllib3.readthedocs.io/en/1.26.x/advanced-usage.html#ssl-warnings\n",
      "  warnings.warn(\n",
      "C:\\Users\\Dell User\\anaconda3\\envs\\proyectos\\lib\\site-packages\\urllib3\\connectionpool.py:1013: InsecureRequestWarning: Unverified HTTPS request is being made to host 'epocanegocios.globo.com'. Adding certificate verification is strongly advised. See: https://urllib3.readthedocs.io/en/1.26.x/advanced-usage.html#ssl-warnings\n",
      "  warnings.warn(\n"
     ]
    },
    {
     "name": "stdout",
     "output_type": "stream",
     "text": [
      "https://epocanegocios.globo.com/Empresa/noticia/2021/07/amazon-planeja-construir-robo-para-fazer-entregas-na-finlandia.html\n"
     ]
    },
    {
     "name": "stderr",
     "output_type": "stream",
     "text": [
      "C:\\Users\\Dell User\\anaconda3\\envs\\proyectos\\lib\\site-packages\\urllib3\\connectionpool.py:1013: InsecureRequestWarning: Unverified HTTPS request is being made to host 'epocanegocios.globo.com'. Adding certificate verification is strongly advised. See: https://urllib3.readthedocs.io/en/1.26.x/advanced-usage.html#ssl-warnings\n",
      "  warnings.warn(\n",
      "C:\\Users\\Dell User\\anaconda3\\envs\\proyectos\\lib\\site-packages\\urllib3\\connectionpool.py:1013: InsecureRequestWarning: Unverified HTTPS request is being made to host 'politica.estadao.com.br'. Adding certificate verification is strongly advised. See: https://urllib3.readthedocs.io/en/1.26.x/advanced-usage.html#ssl-warnings\n",
      "  warnings.warn(\n"
     ]
    },
    {
     "name": "stdout",
     "output_type": "stream",
     "text": [
      "https://politica.estadao.com.br/blogs/fausto-macedo/como-o-foco-influenciou-a-corrida-espacial-de-bezos-vs-branson/\n"
     ]
    },
    {
     "name": "stderr",
     "output_type": "stream",
     "text": [
      "C:\\Users\\Dell User\\anaconda3\\envs\\proyectos\\lib\\site-packages\\urllib3\\connectionpool.py:1013: InsecureRequestWarning: Unverified HTTPS request is being made to host 'politica.estadao.com.br'. Adding certificate verification is strongly advised. See: https://urllib3.readthedocs.io/en/1.26.x/advanced-usage.html#ssl-warnings\n",
      "  warnings.warn(\n",
      "C:\\Users\\Dell User\\anaconda3\\envs\\proyectos\\lib\\site-packages\\urllib3\\connectionpool.py:1013: InsecureRequestWarning: Unverified HTTPS request is being made to host 'www.techtudo.com.br'. Adding certificate verification is strongly advised. See: https://urllib3.readthedocs.io/en/1.26.x/advanced-usage.html#ssl-warnings\n",
      "  warnings.warn(\n"
     ]
    },
    {
     "name": "stdout",
     "output_type": "stream",
     "text": [
      "https://www.techtudo.com.br/listas/2021/07/mouse-dell-veja-seis-modelos-a-partir-de-r-77-para-comprar-no-brasil.ghtml\n"
     ]
    },
    {
     "name": "stderr",
     "output_type": "stream",
     "text": [
      "C:\\Users\\Dell User\\anaconda3\\envs\\proyectos\\lib\\site-packages\\urllib3\\connectionpool.py:1013: InsecureRequestWarning: Unverified HTTPS request is being made to host 'www.techtudo.com.br'. Adding certificate verification is strongly advised. See: https://urllib3.readthedocs.io/en/1.26.x/advanced-usage.html#ssl-warnings\n",
      "  warnings.warn(\n",
      "C:\\Users\\Dell User\\anaconda3\\envs\\proyectos\\lib\\site-packages\\urllib3\\connectionpool.py:1013: InsecureRequestWarning: Unverified HTTPS request is being made to host 'cultura.estadao.com.br'. Adding certificate verification is strongly advised. See: https://urllib3.readthedocs.io/en/1.26.x/advanced-usage.html#ssl-warnings\n",
      "  warnings.warn(\n"
     ]
    },
    {
     "name": "stdout",
     "output_type": "stream",
     "text": [
      "https://cultura.estadao.com.br/noticias/literatura,amazon-aumenta-para-r-50-mil-o-valor-do-premio-kindle-de-literatura,70003773943\n"
     ]
    },
    {
     "name": "stderr",
     "output_type": "stream",
     "text": [
      "C:\\Users\\Dell User\\anaconda3\\envs\\proyectos\\lib\\site-packages\\urllib3\\connectionpool.py:1013: InsecureRequestWarning: Unverified HTTPS request is being made to host 'cultura.estadao.com.br'. Adding certificate verification is strongly advised. See: https://urllib3.readthedocs.io/en/1.26.x/advanced-usage.html#ssl-warnings\n",
      "  warnings.warn(\n",
      "C:\\Users\\Dell User\\anaconda3\\envs\\proyectos\\lib\\site-packages\\urllib3\\connectionpool.py:1013: InsecureRequestWarning: Unverified HTTPS request is being made to host 'www.techtudo.com.br'. Adding certificate verification is strongly advised. See: https://urllib3.readthedocs.io/en/1.26.x/advanced-usage.html#ssl-warnings\n",
      "  warnings.warn(\n"
     ]
    },
    {
     "name": "stdout",
     "output_type": "stream",
     "text": [
      "https://www.techtudo.com.br/listas/2021/07/monitor-32-polegadas-veja-seis-opcoes-para-comprar-em-2021.ghtml\n"
     ]
    },
    {
     "name": "stderr",
     "output_type": "stream",
     "text": [
      "C:\\Users\\Dell User\\anaconda3\\envs\\proyectos\\lib\\site-packages\\urllib3\\connectionpool.py:1013: InsecureRequestWarning: Unverified HTTPS request is being made to host 'www.techtudo.com.br'. Adding certificate verification is strongly advised. See: https://urllib3.readthedocs.io/en/1.26.x/advanced-usage.html#ssl-warnings\n",
      "  warnings.warn(\n",
      "C:\\Users\\Dell User\\anaconda3\\envs\\proyectos\\lib\\site-packages\\urllib3\\connectionpool.py:1013: InsecureRequestWarning: Unverified HTTPS request is being made to host 'www.techtudo.com.br'. Adding certificate verification is strongly advised. See: https://urllib3.readthedocs.io/en/1.26.x/advanced-usage.html#ssl-warnings\n",
      "  warnings.warn(\n"
     ]
    },
    {
     "name": "stdout",
     "output_type": "stream",
     "text": [
      "https://www.techtudo.com.br/noticias/2021/07/samsung-galaxy-s22-deve-estrear-carregador-super-rapido-de-65-watts.ghtml\n"
     ]
    },
    {
     "name": "stderr",
     "output_type": "stream",
     "text": [
      "C:\\Users\\Dell User\\anaconda3\\envs\\proyectos\\lib\\site-packages\\urllib3\\connectionpool.py:1013: InsecureRequestWarning: Unverified HTTPS request is being made to host 'www.techtudo.com.br'. Adding certificate verification is strongly advised. See: https://urllib3.readthedocs.io/en/1.26.x/advanced-usage.html#ssl-warnings\n",
      "  warnings.warn(\n",
      "C:\\Users\\Dell User\\anaconda3\\envs\\proyectos\\lib\\site-packages\\urllib3\\connectionpool.py:1013: InsecureRequestWarning: Unverified HTTPS request is being made to host 'epocanegocios.globo.com'. Adding certificate verification is strongly advised. See: https://urllib3.readthedocs.io/en/1.26.x/advanced-usage.html#ssl-warnings\n",
      "  warnings.warn(\n"
     ]
    },
    {
     "name": "stdout",
     "output_type": "stream",
     "text": [
      "https://epocanegocios.globo.com/Mundo/noticia/2021/07/epoca-negocios-aviadora-pioneira-wally-funk-e-nova-queridinha-da-america.html\n"
     ]
    },
    {
     "name": "stderr",
     "output_type": "stream",
     "text": [
      "C:\\Users\\Dell User\\anaconda3\\envs\\proyectos\\lib\\site-packages\\urllib3\\connectionpool.py:1013: InsecureRequestWarning: Unverified HTTPS request is being made to host 'epocanegocios.globo.com'. Adding certificate verification is strongly advised. See: https://urllib3.readthedocs.io/en/1.26.x/advanced-usage.html#ssl-warnings\n",
      "  warnings.warn(\n",
      "C:\\Users\\Dell User\\anaconda3\\envs\\proyectos\\lib\\site-packages\\urllib3\\connectionpool.py:1013: InsecureRequestWarning: Unverified HTTPS request is being made to host 'www.techtudo.com.br'. Adding certificate verification is strongly advised. See: https://urllib3.readthedocs.io/en/1.26.x/advanced-usage.html#ssl-warnings\n",
      "  warnings.warn(\n"
     ]
    },
    {
     "name": "stdout",
     "output_type": "stream",
     "text": [
      "https://www.techtudo.com.br/listas/2021/07/ssd-1-tb-veja-sete-modelos-para-comprar-no-brasil-em-2021.ghtml\n"
     ]
    },
    {
     "name": "stderr",
     "output_type": "stream",
     "text": [
      "C:\\Users\\Dell User\\anaconda3\\envs\\proyectos\\lib\\site-packages\\urllib3\\connectionpool.py:1013: InsecureRequestWarning: Unverified HTTPS request is being made to host 'www.techtudo.com.br'. Adding certificate verification is strongly advised. See: https://urllib3.readthedocs.io/en/1.26.x/advanced-usage.html#ssl-warnings\n",
      "  warnings.warn(\n",
      "C:\\Users\\Dell User\\anaconda3\\envs\\proyectos\\lib\\site-packages\\urllib3\\connectionpool.py:1013: InsecureRequestWarning: Unverified HTTPS request is being made to host 'www.bluradio.com'. Adding certificate verification is strongly advised. See: https://urllib3.readthedocs.io/en/1.26.x/advanced-usage.html#ssl-warnings\n",
      "  warnings.warn(\n"
     ]
    },
    {
     "name": "stdout",
     "output_type": "stream",
     "text": [
      "https://www.bluradio.com/mundo/el-multimillonario-richard-branson-inicio-su-viaje-al-espacio\n"
     ]
    },
    {
     "name": "stderr",
     "output_type": "stream",
     "text": [
      "C:\\Users\\Dell User\\anaconda3\\envs\\proyectos\\lib\\site-packages\\urllib3\\connectionpool.py:1013: InsecureRequestWarning: Unverified HTTPS request is being made to host 'www.bluradio.com'. Adding certificate verification is strongly advised. See: https://urllib3.readthedocs.io/en/1.26.x/advanced-usage.html#ssl-warnings\n",
      "  warnings.warn(\n",
      "C:\\Users\\Dell User\\anaconda3\\envs\\proyectos\\lib\\site-packages\\urllib3\\connectionpool.py:1013: InsecureRequestWarning: Unverified HTTPS request is being made to host 'revistapegn.globo.com'. Adding certificate verification is strongly advised. See: https://urllib3.readthedocs.io/en/1.26.x/advanced-usage.html#ssl-warnings\n",
      "  warnings.warn(\n"
     ]
    },
    {
     "name": "stdout",
     "output_type": "stream",
     "text": [
      "https://revistapegn.globo.com/Tecnologia/noticia/2021/07/pegn-bilionario-richard-branson-vai-ao-espaco-com-sucesso-e-abre-nova-era-no-setor.html\n"
     ]
    },
    {
     "name": "stderr",
     "output_type": "stream",
     "text": [
      "C:\\Users\\Dell User\\anaconda3\\envs\\proyectos\\lib\\site-packages\\urllib3\\connectionpool.py:1013: InsecureRequestWarning: Unverified HTTPS request is being made to host 'revistapegn.globo.com'. Adding certificate verification is strongly advised. See: https://urllib3.readthedocs.io/en/1.26.x/advanced-usage.html#ssl-warnings\n",
      "  warnings.warn(\n",
      "C:\\Users\\Dell User\\anaconda3\\envs\\proyectos\\lib\\site-packages\\urllib3\\connectionpool.py:1013: InsecureRequestWarning: Unverified HTTPS request is being made to host 'revistapegn.globo.com'. Adding certificate verification is strongly advised. See: https://urllib3.readthedocs.io/en/1.26.x/advanced-usage.html#ssl-warnings\n",
      "  warnings.warn(\n"
     ]
    },
    {
     "name": "stdout",
     "output_type": "stream",
     "text": [
      "https://revistapegn.globo.com/Empreendedorismo/noticia/2021/07/5-licoes-de-grandes-empreendedores-que-voce-pode-aplicar-no-seu-negocio.html\n"
     ]
    },
    {
     "name": "stderr",
     "output_type": "stream",
     "text": [
      "C:\\Users\\Dell User\\anaconda3\\envs\\proyectos\\lib\\site-packages\\urllib3\\connectionpool.py:1013: InsecureRequestWarning: Unverified HTTPS request is being made to host 'revistapegn.globo.com'. Adding certificate verification is strongly advised. See: https://urllib3.readthedocs.io/en/1.26.x/advanced-usage.html#ssl-warnings\n",
      "  warnings.warn(\n",
      "C:\\Users\\Dell User\\anaconda3\\envs\\proyectos\\lib\\site-packages\\urllib3\\connectionpool.py:1013: InsecureRequestWarning: Unverified HTTPS request is being made to host 'revistapegn.globo.com'. Adding certificate verification is strongly advised. See: https://urllib3.readthedocs.io/en/1.26.x/advanced-usage.html#ssl-warnings\n",
      "  warnings.warn(\n"
     ]
    },
    {
     "name": "stdout",
     "output_type": "stream",
     "text": [
      "https://revistapegn.globo.com/Negocios/noticia/2021/07/quem-e-jeff-bezos-bilionario-que-viaja-hoje-ao-espaco.html\n"
     ]
    },
    {
     "name": "stderr",
     "output_type": "stream",
     "text": [
      "C:\\Users\\Dell User\\anaconda3\\envs\\proyectos\\lib\\site-packages\\urllib3\\connectionpool.py:1013: InsecureRequestWarning: Unverified HTTPS request is being made to host 'revistapegn.globo.com'. Adding certificate verification is strongly advised. See: https://urllib3.readthedocs.io/en/1.26.x/advanced-usage.html#ssl-warnings\n",
      "  warnings.warn(\n",
      "C:\\Users\\Dell User\\anaconda3\\envs\\proyectos\\lib\\site-packages\\urllib3\\connectionpool.py:1013: InsecureRequestWarning: Unverified HTTPS request is being made to host 'cultura.estadao.com.br'. Adding certificate verification is strongly advised. See: https://urllib3.readthedocs.io/en/1.26.x/advanced-usage.html#ssl-warnings\n",
      "  warnings.warn(\n"
     ]
    },
    {
     "name": "stdout",
     "output_type": "stream",
     "text": [
      "https://cultura.estadao.com.br/noticias/geral,dia-dos-pais-15-ideias-de-presentes-para-papais-conectados,70003782911\n"
     ]
    },
    {
     "name": "stderr",
     "output_type": "stream",
     "text": [
      "C:\\Users\\Dell User\\anaconda3\\envs\\proyectos\\lib\\site-packages\\urllib3\\connectionpool.py:1013: InsecureRequestWarning: Unverified HTTPS request is being made to host 'cultura.estadao.com.br'. Adding certificate verification is strongly advised. See: https://urllib3.readthedocs.io/en/1.26.x/advanced-usage.html#ssl-warnings\n",
      "  warnings.warn(\n",
      "C:\\Users\\Dell User\\anaconda3\\envs\\proyectos\\lib\\site-packages\\urllib3\\connectionpool.py:1013: InsecureRequestWarning: Unverified HTTPS request is being made to host 'link.estadao.com.br'. Adding certificate verification is strongly advised. See: https://urllib3.readthedocs.io/en/1.26.x/advanced-usage.html#ssl-warnings\n",
      "  warnings.warn(\n"
     ]
    },
    {
     "name": "stdout",
     "output_type": "stream",
     "text": [
      "https://link.estadao.com.br/noticias/empresas,netflix-quer-entrar-no-mercado-de-games-em-2022,70003778779\n"
     ]
    },
    {
     "name": "stderr",
     "output_type": "stream",
     "text": [
      "C:\\Users\\Dell User\\anaconda3\\envs\\proyectos\\lib\\site-packages\\urllib3\\connectionpool.py:1013: InsecureRequestWarning: Unverified HTTPS request is being made to host 'link.estadao.com.br'. Adding certificate verification is strongly advised. See: https://urllib3.readthedocs.io/en/1.26.x/advanced-usage.html#ssl-warnings\n",
      "  warnings.warn(\n",
      "C:\\Users\\Dell User\\anaconda3\\envs\\proyectos\\lib\\site-packages\\urllib3\\connectionpool.py:1013: InsecureRequestWarning: Unverified HTTPS request is being made to host 'epocanegocios.globo.com'. Adding certificate verification is strongly advised. See: https://urllib3.readthedocs.io/en/1.26.x/advanced-usage.html#ssl-warnings\n",
      "  warnings.warn(\n"
     ]
    },
    {
     "name": "stdout",
     "output_type": "stream",
     "text": [
      "https://epocanegocios.globo.com/Empresa/noticia/2021/07/jeff-bezos-traz-novo-tom-amazon-antes-de-deixar-cargo-de-ceo.html\n"
     ]
    },
    {
     "name": "stderr",
     "output_type": "stream",
     "text": [
      "C:\\Users\\Dell User\\anaconda3\\envs\\proyectos\\lib\\site-packages\\urllib3\\connectionpool.py:1013: InsecureRequestWarning: Unverified HTTPS request is being made to host 'epocanegocios.globo.com'. Adding certificate verification is strongly advised. See: https://urllib3.readthedocs.io/en/1.26.x/advanced-usage.html#ssl-warnings\n",
      "  warnings.warn(\n",
      "C:\\Users\\Dell User\\anaconda3\\envs\\proyectos\\lib\\site-packages\\urllib3\\connectionpool.py:1013: InsecureRequestWarning: Unverified HTTPS request is being made to host 'www.techtudo.com.br'. Adding certificate verification is strongly advised. See: https://urllib3.readthedocs.io/en/1.26.x/advanced-usage.html#ssl-warnings\n",
      "  warnings.warn(\n"
     ]
    },
    {
     "name": "stdout",
     "output_type": "stream",
     "text": [
      "https://www.techtudo.com.br/noticias/2021/07/mouse-apple-vale-a-pena-veja-pros-e-contras-do-magic-mouse-2.ghtml\n"
     ]
    },
    {
     "name": "stderr",
     "output_type": "stream",
     "text": [
      "C:\\Users\\Dell User\\anaconda3\\envs\\proyectos\\lib\\site-packages\\urllib3\\connectionpool.py:1013: InsecureRequestWarning: Unverified HTTPS request is being made to host 'www.techtudo.com.br'. Adding certificate verification is strongly advised. See: https://urllib3.readthedocs.io/en/1.26.x/advanced-usage.html#ssl-warnings\n",
      "  warnings.warn(\n",
      "C:\\Users\\Dell User\\anaconda3\\envs\\proyectos\\lib\\site-packages\\urllib3\\connectionpool.py:1013: InsecureRequestWarning: Unverified HTTPS request is being made to host 'www.techtudo.com.br'. Adding certificate verification is strongly advised. See: https://urllib3.readthedocs.io/en/1.26.x/advanced-usage.html#ssl-warnings\n",
      "  warnings.warn(\n"
     ]
    },
    {
     "name": "stdout",
     "output_type": "stream",
     "text": [
      "https://www.techtudo.com.br/listas/2021/07/microfone-blue-yeti-veja-quatro-modelos-para-comprar-no-brasil-em-2021.ghtml\n"
     ]
    },
    {
     "name": "stderr",
     "output_type": "stream",
     "text": [
      "C:\\Users\\Dell User\\anaconda3\\envs\\proyectos\\lib\\site-packages\\urllib3\\connectionpool.py:1013: InsecureRequestWarning: Unverified HTTPS request is being made to host 'www.techtudo.com.br'. Adding certificate verification is strongly advised. See: https://urllib3.readthedocs.io/en/1.26.x/advanced-usage.html#ssl-warnings\n",
      "  warnings.warn(\n",
      "C:\\Users\\Dell User\\anaconda3\\envs\\proyectos\\lib\\site-packages\\urllib3\\connectionpool.py:1013: InsecureRequestWarning: Unverified HTTPS request is being made to host 'www.ambito.com'. Adding certificate verification is strongly advised. See: https://urllib3.readthedocs.io/en/1.26.x/advanced-usage.html#ssl-warnings\n",
      "  warnings.warn(\n"
     ]
    },
    {
     "name": "stdout",
     "output_type": "stream",
     "text": [
      "https://www.ambito.com/economia/medios/proyectan-que-ingresos-generados-industria-contenido-audiovisual-crecera-5-promedio-n5226973\n"
     ]
    },
    {
     "name": "stderr",
     "output_type": "stream",
     "text": [
      "C:\\Users\\Dell User\\anaconda3\\envs\\proyectos\\lib\\site-packages\\urllib3\\connectionpool.py:1013: InsecureRequestWarning: Unverified HTTPS request is being made to host 'www.ambito.com'. Adding certificate verification is strongly advised. See: https://urllib3.readthedocs.io/en/1.26.x/advanced-usage.html#ssl-warnings\n",
      "  warnings.warn(\n",
      "C:\\Users\\Dell User\\anaconda3\\envs\\proyectos\\lib\\site-packages\\urllib3\\connectionpool.py:1013: InsecureRequestWarning: Unverified HTTPS request is being made to host 'epocanegocios.globo.com'. Adding certificate verification is strongly advised. See: https://urllib3.readthedocs.io/en/1.26.x/advanced-usage.html#ssl-warnings\n",
      "  warnings.warn(\n"
     ]
    },
    {
     "name": "stdout",
     "output_type": "stream",
     "text": [
      "https://epocanegocios.globo.com/Mundo/noticia/2021/07/o-voo-de-foguete-de-jeff-bezos-que-impulsiona-turismo-espacial-melhor-dia-da-vida.html\n"
     ]
    },
    {
     "name": "stderr",
     "output_type": "stream",
     "text": [
      "C:\\Users\\Dell User\\anaconda3\\envs\\proyectos\\lib\\site-packages\\urllib3\\connectionpool.py:1013: InsecureRequestWarning: Unverified HTTPS request is being made to host 'epocanegocios.globo.com'. Adding certificate verification is strongly advised. See: https://urllib3.readthedocs.io/en/1.26.x/advanced-usage.html#ssl-warnings\n",
      "  warnings.warn(\n",
      "C:\\Users\\Dell User\\anaconda3\\envs\\proyectos\\lib\\site-packages\\urllib3\\connectionpool.py:1013: InsecureRequestWarning: Unverified HTTPS request is being made to host 'noticias.uol.com.br'. Adding certificate verification is strongly advised. See: https://urllib3.readthedocs.io/en/1.26.x/advanced-usage.html#ssl-warnings\n",
      "  warnings.warn(\n"
     ]
    },
    {
     "name": "stdout",
     "output_type": "stream",
     "text": [
      "https://noticias.uol.com.br/colunas/juliana-dal-piva/2021/07/06/marcia-aguiar-fabricio-queiroz-vao-matar-rachadinha.htm\n"
     ]
    },
    {
     "name": "stderr",
     "output_type": "stream",
     "text": [
      "C:\\Users\\Dell User\\anaconda3\\envs\\proyectos\\lib\\site-packages\\urllib3\\connectionpool.py:1013: InsecureRequestWarning: Unverified HTTPS request is being made to host 'noticias.uol.com.br'. Adding certificate verification is strongly advised. See: https://urllib3.readthedocs.io/en/1.26.x/advanced-usage.html#ssl-warnings\n",
      "  warnings.warn(\n",
      "C:\\Users\\Dell User\\anaconda3\\envs\\proyectos\\lib\\site-packages\\urllib3\\connectionpool.py:1013: InsecureRequestWarning: Unverified HTTPS request is being made to host 'www.techtudo.com.br'. Adding certificate verification is strongly advised. See: https://urllib3.readthedocs.io/en/1.26.x/advanced-usage.html#ssl-warnings\n",
      "  warnings.warn(\n"
     ]
    },
    {
     "name": "stdout",
     "output_type": "stream",
     "text": [
      "https://www.techtudo.com.br/listas/2021/07/fone-de-ouvido-com-fio-veja-sete-opcoes-por-a-partir-de-r-19-para-comprar.ghtml\n"
     ]
    },
    {
     "name": "stderr",
     "output_type": "stream",
     "text": [
      "C:\\Users\\Dell User\\anaconda3\\envs\\proyectos\\lib\\site-packages\\urllib3\\connectionpool.py:1013: InsecureRequestWarning: Unverified HTTPS request is being made to host 'www.techtudo.com.br'. Adding certificate verification is strongly advised. See: https://urllib3.readthedocs.io/en/1.26.x/advanced-usage.html#ssl-warnings\n",
      "  warnings.warn(\n",
      "C:\\Users\\Dell User\\anaconda3\\envs\\proyectos\\lib\\site-packages\\urllib3\\connectionpool.py:1013: InsecureRequestWarning: Unverified HTTPS request is being made to host 'www.techtudo.com.br'. Adding certificate verification is strongly advised. See: https://urllib3.readthedocs.io/en/1.26.x/advanced-usage.html#ssl-warnings\n",
      "  warnings.warn(\n"
     ]
    },
    {
     "name": "stdout",
     "output_type": "stream",
     "text": [
      "https://www.techtudo.com.br/noticias/2021/07/moto-e7-vs-moto-e7-plus-compare-ficha-tecnica-e-preco.ghtml\n"
     ]
    },
    {
     "name": "stderr",
     "output_type": "stream",
     "text": [
      "C:\\Users\\Dell User\\anaconda3\\envs\\proyectos\\lib\\site-packages\\urllib3\\connectionpool.py:1013: InsecureRequestWarning: Unverified HTTPS request is being made to host 'www.techtudo.com.br'. Adding certificate verification is strongly advised. See: https://urllib3.readthedocs.io/en/1.26.x/advanced-usage.html#ssl-warnings\n",
      "  warnings.warn(\n",
      "C:\\Users\\Dell User\\anaconda3\\envs\\proyectos\\lib\\site-packages\\urllib3\\connectionpool.py:1013: InsecureRequestWarning: Unverified HTTPS request is being made to host 'www.ambito.com'. Adding certificate verification is strongly advised. See: https://urllib3.readthedocs.io/en/1.26.x/advanced-usage.html#ssl-warnings\n",
      "  warnings.warn(\n"
     ]
    },
    {
     "name": "stdout",
     "output_type": "stream",
     "text": [
      "https://www.ambito.com/mundo/amazon/bezos-llego-al-espacio-y-dio-nuevo-impulso-la-carrera-su-explotacion-privada-n5228412\n"
     ]
    },
    {
     "name": "stderr",
     "output_type": "stream",
     "text": [
      "C:\\Users\\Dell User\\anaconda3\\envs\\proyectos\\lib\\site-packages\\urllib3\\connectionpool.py:1013: InsecureRequestWarning: Unverified HTTPS request is being made to host 'www.ambito.com'. Adding certificate verification is strongly advised. See: https://urllib3.readthedocs.io/en/1.26.x/advanced-usage.html#ssl-warnings\n",
      "  warnings.warn(\n",
      "C:\\Users\\Dell User\\anaconda3\\envs\\proyectos\\lib\\site-packages\\urllib3\\connectionpool.py:1013: InsecureRequestWarning: Unverified HTTPS request is being made to host 'www.techtudo.com.br'. Adding certificate verification is strongly advised. See: https://urllib3.readthedocs.io/en/1.26.x/advanced-usage.html#ssl-warnings\n",
      "  warnings.warn(\n"
     ]
    },
    {
     "name": "stdout",
     "output_type": "stream",
     "text": [
      "https://www.techtudo.com.br/noticias/2021/07/csgo-veja-times-classificados-para-os-playoffs-do-iem-cologne-2021-esports.ghtml\n"
     ]
    },
    {
     "name": "stderr",
     "output_type": "stream",
     "text": [
      "C:\\Users\\Dell User\\anaconda3\\envs\\proyectos\\lib\\site-packages\\urllib3\\connectionpool.py:1013: InsecureRequestWarning: Unverified HTTPS request is being made to host 'www.techtudo.com.br'. Adding certificate verification is strongly advised. See: https://urllib3.readthedocs.io/en/1.26.x/advanced-usage.html#ssl-warnings\n",
      "  warnings.warn(\n",
      "C:\\Users\\Dell User\\anaconda3\\envs\\proyectos\\lib\\site-packages\\urllib3\\connectionpool.py:1013: InsecureRequestWarning: Unverified HTTPS request is being made to host 'epocanegocios.globo.com'. Adding certificate verification is strongly advised. See: https://urllib3.readthedocs.io/en/1.26.x/advanced-usage.html#ssl-warnings\n",
      "  warnings.warn(\n"
     ]
    },
    {
     "name": "stdout",
     "output_type": "stream",
     "text": [
      "https://epocanegocios.globo.com/Empresa/noticia/2021/07/epoca-negocios-blue-origin-de-jeff-bezos-fara-historia-com-voo-espacial-civil-e-sem-piloto.html\n"
     ]
    },
    {
     "name": "stderr",
     "output_type": "stream",
     "text": [
      "C:\\Users\\Dell User\\anaconda3\\envs\\proyectos\\lib\\site-packages\\urllib3\\connectionpool.py:1013: InsecureRequestWarning: Unverified HTTPS request is being made to host 'epocanegocios.globo.com'. Adding certificate verification is strongly advised. See: https://urllib3.readthedocs.io/en/1.26.x/advanced-usage.html#ssl-warnings\n",
      "  warnings.warn(\n",
      "C:\\Users\\Dell User\\anaconda3\\envs\\proyectos\\lib\\site-packages\\urllib3\\connectionpool.py:1013: InsecureRequestWarning: Unverified HTTPS request is being made to host 'www.bluradio.com'. Adding certificate verification is strongly advised. See: https://urllib3.readthedocs.io/en/1.26.x/advanced-usage.html#ssl-warnings\n",
      "  warnings.warn(\n"
     ]
    },
    {
     "name": "stdout",
     "output_type": "stream",
     "text": [
      "https://www.bluradio.com/tecnologia/youtube-netflix-twitter-y-amazon-las-paginas-web-que-mas-contaminan\n"
     ]
    },
    {
     "name": "stderr",
     "output_type": "stream",
     "text": [
      "C:\\Users\\Dell User\\anaconda3\\envs\\proyectos\\lib\\site-packages\\urllib3\\connectionpool.py:1013: InsecureRequestWarning: Unverified HTTPS request is being made to host 'www.bluradio.com'. Adding certificate verification is strongly advised. See: https://urllib3.readthedocs.io/en/1.26.x/advanced-usage.html#ssl-warnings\n",
      "  warnings.warn(\n",
      "C:\\Users\\Dell User\\anaconda3\\envs\\proyectos\\lib\\site-packages\\urllib3\\connectionpool.py:1013: InsecureRequestWarning: Unverified HTTPS request is being made to host 'www.techtudo.com.br'. Adding certificate verification is strongly advised. See: https://urllib3.readthedocs.io/en/1.26.x/advanced-usage.html#ssl-warnings\n",
      "  warnings.warn(\n"
     ]
    },
    {
     "name": "stdout",
     "output_type": "stream",
     "text": [
      "https://www.techtudo.com.br/listas/2021/07/mouse-pad-com-apoio-veja-oito-opcoes-para-comprar-por-ate-r-55.ghtml\n"
     ]
    },
    {
     "name": "stderr",
     "output_type": "stream",
     "text": [
      "C:\\Users\\Dell User\\anaconda3\\envs\\proyectos\\lib\\site-packages\\urllib3\\connectionpool.py:1013: InsecureRequestWarning: Unverified HTTPS request is being made to host 'www.techtudo.com.br'. Adding certificate verification is strongly advised. See: https://urllib3.readthedocs.io/en/1.26.x/advanced-usage.html#ssl-warnings\n",
      "  warnings.warn(\n",
      "C:\\Users\\Dell User\\anaconda3\\envs\\proyectos\\lib\\site-packages\\urllib3\\connectionpool.py:1013: InsecureRequestWarning: Unverified HTTPS request is being made to host 'www.techtudo.com.br'. Adding certificate verification is strongly advised. See: https://urllib3.readthedocs.io/en/1.26.x/advanced-usage.html#ssl-warnings\n",
      "  warnings.warn(\n"
     ]
    },
    {
     "name": "stdout",
     "output_type": "stream",
     "text": [
      "https://www.techtudo.com.br/listas/2021/07/capa-para-moto-e7-plus-seis-opcoes-a-partir-de-r-14.ghtml\n"
     ]
    },
    {
     "name": "stderr",
     "output_type": "stream",
     "text": [
      "C:\\Users\\Dell User\\anaconda3\\envs\\proyectos\\lib\\site-packages\\urllib3\\connectionpool.py:1013: InsecureRequestWarning: Unverified HTTPS request is being made to host 'www.techtudo.com.br'. Adding certificate verification is strongly advised. See: https://urllib3.readthedocs.io/en/1.26.x/advanced-usage.html#ssl-warnings\n",
      "  warnings.warn(\n",
      "C:\\Users\\Dell User\\anaconda3\\envs\\proyectos\\lib\\site-packages\\urllib3\\connectionpool.py:1013: InsecureRequestWarning: Unverified HTTPS request is being made to host 'www.techtudo.com.br'. Adding certificate verification is strongly advised. See: https://urllib3.readthedocs.io/en/1.26.x/advanced-usage.html#ssl-warnings\n",
      "  warnings.warn(\n"
     ]
    },
    {
     "name": "stdout",
     "output_type": "stream",
     "text": [
      "https://www.techtudo.com.br/listas/2021/07/joy-con-do-nintendo-switch-cinco-fatos-para-saber-antes-de-comprar.ghtml\n"
     ]
    },
    {
     "name": "stderr",
     "output_type": "stream",
     "text": [
      "C:\\Users\\Dell User\\anaconda3\\envs\\proyectos\\lib\\site-packages\\urllib3\\connectionpool.py:1013: InsecureRequestWarning: Unverified HTTPS request is being made to host 'www.techtudo.com.br'. Adding certificate verification is strongly advised. See: https://urllib3.readthedocs.io/en/1.26.x/advanced-usage.html#ssl-warnings\n",
      "  warnings.warn(\n",
      "C:\\Users\\Dell User\\anaconda3\\envs\\proyectos\\lib\\site-packages\\urllib3\\connectionpool.py:1013: InsecureRequestWarning: Unverified HTTPS request is being made to host 'economia.estadao.com.br'. Adding certificate verification is strongly advised. See: https://urllib3.readthedocs.io/en/1.26.x/advanced-usage.html#ssl-warnings\n",
      "  warnings.warn(\n"
     ]
    },
    {
     "name": "stdout",
     "output_type": "stream",
     "text": [
      "https://economia.estadao.com.br/noticias/geral,aras-diz-que-servicos-postais-e-correio-aereo-nacional-nao-podem-ser-privatizados,70003770804\n"
     ]
    },
    {
     "name": "stderr",
     "output_type": "stream",
     "text": [
      "C:\\Users\\Dell User\\anaconda3\\envs\\proyectos\\lib\\site-packages\\urllib3\\connectionpool.py:1013: InsecureRequestWarning: Unverified HTTPS request is being made to host 'economia.estadao.com.br'. Adding certificate verification is strongly advised. See: https://urllib3.readthedocs.io/en/1.26.x/advanced-usage.html#ssl-warnings\n",
      "  warnings.warn(\n",
      "C:\\Users\\Dell User\\anaconda3\\envs\\proyectos\\lib\\site-packages\\urllib3\\connectionpool.py:1013: InsecureRequestWarning: Unverified HTTPS request is being made to host 'www.techtudo.com.br'. Adding certificate verification is strongly advised. See: https://urllib3.readthedocs.io/en/1.26.x/advanced-usage.html#ssl-warnings\n",
      "  warnings.warn(\n"
     ]
    },
    {
     "name": "stdout",
     "output_type": "stream",
     "text": [
      "https://www.techtudo.com.br/noticias/2021/07/jogos-para-ganhar-dinheiro-funcionam-saiba-se-apps-sao-seguros.ghtml\n"
     ]
    },
    {
     "name": "stderr",
     "output_type": "stream",
     "text": [
      "C:\\Users\\Dell User\\anaconda3\\envs\\proyectos\\lib\\site-packages\\urllib3\\connectionpool.py:1013: InsecureRequestWarning: Unverified HTTPS request is being made to host 'www.techtudo.com.br'. Adding certificate verification is strongly advised. See: https://urllib3.readthedocs.io/en/1.26.x/advanced-usage.html#ssl-warnings\n",
      "  warnings.warn(\n",
      "C:\\Users\\Dell User\\anaconda3\\envs\\proyectos\\lib\\site-packages\\urllib3\\connectionpool.py:1013: InsecureRequestWarning: Unverified HTTPS request is being made to host 'einvestidor.estadao.com.br'. Adding certificate verification is strongly advised. See: https://urllib3.readthedocs.io/en/1.26.x/advanced-usage.html#ssl-warnings\n",
      "  warnings.warn(\n"
     ]
    },
    {
     "name": "stdout",
     "output_type": "stream",
     "text": [
      "https://einvestidor.estadao.com.br/mercado/entrevista-helena-caldeira-inter-bidi11/\n"
     ]
    },
    {
     "name": "stderr",
     "output_type": "stream",
     "text": [
      "C:\\Users\\Dell User\\anaconda3\\envs\\proyectos\\lib\\site-packages\\urllib3\\connectionpool.py:1013: InsecureRequestWarning: Unverified HTTPS request is being made to host 'einvestidor.estadao.com.br'. Adding certificate verification is strongly advised. See: https://urllib3.readthedocs.io/en/1.26.x/advanced-usage.html#ssl-warnings\n",
      "  warnings.warn(\n",
      "C:\\Users\\Dell User\\anaconda3\\envs\\proyectos\\lib\\site-packages\\urllib3\\connectionpool.py:1013: InsecureRequestWarning: Unverified HTTPS request is being made to host 'www.ambito.com'. Adding certificate verification is strongly advised. See: https://urllib3.readthedocs.io/en/1.26.x/advanced-usage.html#ssl-warnings\n",
      "  warnings.warn(\n"
     ]
    },
    {
     "name": "stdout",
     "output_type": "stream",
     "text": [
      "https://www.ambito.com/mundo/amazon/con-el-viaje-bezos-empresas-privadas-entran-lleno-la-pelea-el-mercado-espacial-n5226408\n"
     ]
    },
    {
     "name": "stderr",
     "output_type": "stream",
     "text": [
      "C:\\Users\\Dell User\\anaconda3\\envs\\proyectos\\lib\\site-packages\\urllib3\\connectionpool.py:1013: InsecureRequestWarning: Unverified HTTPS request is being made to host 'www.ambito.com'. Adding certificate verification is strongly advised. See: https://urllib3.readthedocs.io/en/1.26.x/advanced-usage.html#ssl-warnings\n",
      "  warnings.warn(\n",
      "C:\\Users\\Dell User\\anaconda3\\envs\\proyectos\\lib\\site-packages\\urllib3\\connectionpool.py:1013: InsecureRequestWarning: Unverified HTTPS request is being made to host 'www.techtudo.com.br'. Adding certificate verification is strongly advised. See: https://urllib3.readthedocs.io/en/1.26.x/advanced-usage.html#ssl-warnings\n",
      "  warnings.warn(\n"
     ]
    },
    {
     "name": "stdout",
     "output_type": "stream",
     "text": [
      "https://www.techtudo.com.br/listas/2021/07/tv-tcl-veja-cinco-modelos-para-comprar-no-brasil-em-2021.ghtml\n"
     ]
    },
    {
     "name": "stderr",
     "output_type": "stream",
     "text": [
      "C:\\Users\\Dell User\\anaconda3\\envs\\proyectos\\lib\\site-packages\\urllib3\\connectionpool.py:1013: InsecureRequestWarning: Unverified HTTPS request is being made to host 'www.techtudo.com.br'. Adding certificate verification is strongly advised. See: https://urllib3.readthedocs.io/en/1.26.x/advanced-usage.html#ssl-warnings\n",
      "  warnings.warn(\n",
      "C:\\Users\\Dell User\\anaconda3\\envs\\proyectos\\lib\\site-packages\\urllib3\\connectionpool.py:1013: InsecureRequestWarning: Unverified HTTPS request is being made to host 'www.techtudo.com.br'. Adding certificate verification is strongly advised. See: https://urllib3.readthedocs.io/en/1.26.x/advanced-usage.html#ssl-warnings\n",
      "  warnings.warn(\n"
     ]
    },
    {
     "name": "stdout",
     "output_type": "stream",
     "text": [
      "https://www.techtudo.com.br/listas/2021/07/memoria-ram-8-gb-veja-oito-modelos-para-comprar-por-a-partir-de-r-289.ghtml\n"
     ]
    },
    {
     "name": "stderr",
     "output_type": "stream",
     "text": [
      "C:\\Users\\Dell User\\anaconda3\\envs\\proyectos\\lib\\site-packages\\urllib3\\connectionpool.py:1013: InsecureRequestWarning: Unverified HTTPS request is being made to host 'www.techtudo.com.br'. Adding certificate verification is strongly advised. See: https://urllib3.readthedocs.io/en/1.26.x/advanced-usage.html#ssl-warnings\n",
      "  warnings.warn(\n",
      "C:\\Users\\Dell User\\anaconda3\\envs\\proyectos\\lib\\site-packages\\urllib3\\connectionpool.py:1013: InsecureRequestWarning: Unverified HTTPS request is being made to host 'www.techtudo.com.br'. Adding certificate verification is strongly advised. See: https://urllib3.readthedocs.io/en/1.26.x/advanced-usage.html#ssl-warnings\n",
      "  warnings.warn(\n"
     ]
    },
    {
     "name": "stdout",
     "output_type": "stream",
     "text": [
      "https://www.techtudo.com.br/noticias/2021/07/moto-e7-plus-ficha-tecnica-preco-e-lancamento.ghtml\n"
     ]
    },
    {
     "name": "stderr",
     "output_type": "stream",
     "text": [
      "C:\\Users\\Dell User\\anaconda3\\envs\\proyectos\\lib\\site-packages\\urllib3\\connectionpool.py:1013: InsecureRequestWarning: Unverified HTTPS request is being made to host 'www.techtudo.com.br'. Adding certificate verification is strongly advised. See: https://urllib3.readthedocs.io/en/1.26.x/advanced-usage.html#ssl-warnings\n",
      "  warnings.warn(\n",
      "C:\\Users\\Dell User\\anaconda3\\envs\\proyectos\\lib\\site-packages\\urllib3\\connectionpool.py:1013: InsecureRequestWarning: Unverified HTTPS request is being made to host 'www.techtudo.com.br'. Adding certificate verification is strongly advised. See: https://urllib3.readthedocs.io/en/1.26.x/advanced-usage.html#ssl-warnings\n",
      "  warnings.warn(\n"
     ]
    },
    {
     "name": "stdout",
     "output_type": "stream",
     "text": [
      "https://www.techtudo.com.br/noticias/2021/07/csgo-team-liquid-perde-para-a-big-e-esta-fora-do-iem-cologne-2021.ghtml\n"
     ]
    },
    {
     "name": "stderr",
     "output_type": "stream",
     "text": [
      "C:\\Users\\Dell User\\anaconda3\\envs\\proyectos\\lib\\site-packages\\urllib3\\connectionpool.py:1013: InsecureRequestWarning: Unverified HTTPS request is being made to host 'www.techtudo.com.br'. Adding certificate verification is strongly advised. See: https://urllib3.readthedocs.io/en/1.26.x/advanced-usage.html#ssl-warnings\n",
      "  warnings.warn(\n",
      "C:\\Users\\Dell User\\anaconda3\\envs\\proyectos\\lib\\site-packages\\urllib3\\connectionpool.py:1013: InsecureRequestWarning: Unverified HTTPS request is being made to host 'economia.estadao.com.br'. Adding certificate verification is strongly advised. See: https://urllib3.readthedocs.io/en/1.26.x/advanced-usage.html#ssl-warnings\n",
      "  warnings.warn(\n"
     ]
    },
    {
     "name": "stdout",
     "output_type": "stream",
     "text": [
      "https://economia.estadao.com.br/noticias/geral,vortx-aposta-em-inovacao-e-aquisicoes-para-entrar-em-mercado-de-r-1-trilhao,70003788654\n"
     ]
    },
    {
     "name": "stderr",
     "output_type": "stream",
     "text": [
      "C:\\Users\\Dell User\\anaconda3\\envs\\proyectos\\lib\\site-packages\\urllib3\\connectionpool.py:1013: InsecureRequestWarning: Unverified HTTPS request is being made to host 'economia.estadao.com.br'. Adding certificate verification is strongly advised. See: https://urllib3.readthedocs.io/en/1.26.x/advanced-usage.html#ssl-warnings\n",
      "  warnings.warn(\n",
      "C:\\Users\\Dell User\\anaconda3\\envs\\proyectos\\lib\\site-packages\\urllib3\\connectionpool.py:1013: InsecureRequestWarning: Unverified HTTPS request is being made to host 'noticias.uol.com.br'. Adding certificate verification is strongly advised. See: https://urllib3.readthedocs.io/en/1.26.x/advanced-usage.html#ssl-warnings\n",
      "  warnings.warn(\n"
     ]
    },
    {
     "name": "stdout",
     "output_type": "stream",
     "text": [
      "https://noticias.uol.com.br/videos/2021/07/07/segundo-casamento-de-bolsonaro-e-a-origem-do-esquema-de-devolucao-de-salario.htm\n"
     ]
    },
    {
     "name": "stderr",
     "output_type": "stream",
     "text": [
      "C:\\Users\\Dell User\\anaconda3\\envs\\proyectos\\lib\\site-packages\\urllib3\\connectionpool.py:1013: InsecureRequestWarning: Unverified HTTPS request is being made to host 'noticias.uol.com.br'. Adding certificate verification is strongly advised. See: https://urllib3.readthedocs.io/en/1.26.x/advanced-usage.html#ssl-warnings\n",
      "  warnings.warn(\n",
      "C:\\Users\\Dell User\\anaconda3\\envs\\proyectos\\lib\\site-packages\\urllib3\\connectionpool.py:1013: InsecureRequestWarning: Unverified HTTPS request is being made to host 'www.techtudo.com.br'. Adding certificate verification is strongly advised. See: https://urllib3.readthedocs.io/en/1.26.x/advanced-usage.html#ssl-warnings\n",
      "  warnings.warn(\n"
     ]
    },
    {
     "name": "stdout",
     "output_type": "stream",
     "text": [
      "https://www.techtudo.com.br/listas/2021/07/fone-de-ouvido-com-fio-veja-sete-opcoes-por-a-partir-de-r-19-para-comprar.ghtml\n"
     ]
    },
    {
     "name": "stderr",
     "output_type": "stream",
     "text": [
      "C:\\Users\\Dell User\\anaconda3\\envs\\proyectos\\lib\\site-packages\\urllib3\\connectionpool.py:1013: InsecureRequestWarning: Unverified HTTPS request is being made to host 'www.techtudo.com.br'. Adding certificate verification is strongly advised. See: https://urllib3.readthedocs.io/en/1.26.x/advanced-usage.html#ssl-warnings\n",
      "  warnings.warn(\n",
      "C:\\Users\\Dell User\\anaconda3\\envs\\proyectos\\lib\\site-packages\\urllib3\\connectionpool.py:1013: InsecureRequestWarning: Unverified HTTPS request is being made to host 'noticias.uol.com.br'. Adding certificate verification is strongly advised. See: https://urllib3.readthedocs.io/en/1.26.x/advanced-usage.html#ssl-warnings\n",
      "  warnings.warn(\n"
     ]
    },
    {
     "name": "stdout",
     "output_type": "stream",
     "text": [
      "https://noticias.uol.com.br/colunas/juliana-dal-piva/2021/07/09/prisao-queiroz-fingir-que-nao-era-ele-rachadinha-flavio-bolsonaro.htm\n"
     ]
    },
    {
     "name": "stderr",
     "output_type": "stream",
     "text": [
      "C:\\Users\\Dell User\\anaconda3\\envs\\proyectos\\lib\\site-packages\\urllib3\\connectionpool.py:1013: InsecureRequestWarning: Unverified HTTPS request is being made to host 'noticias.uol.com.br'. Adding certificate verification is strongly advised. See: https://urllib3.readthedocs.io/en/1.26.x/advanced-usage.html#ssl-warnings\n",
      "  warnings.warn(\n",
      "C:\\Users\\Dell User\\anaconda3\\envs\\proyectos\\lib\\site-packages\\urllib3\\connectionpool.py:1013: InsecureRequestWarning: Unverified HTTPS request is being made to host 'einvestidor.estadao.com.br'. Adding certificate verification is strongly advised. See: https://urllib3.readthedocs.io/en/1.26.x/advanced-usage.html#ssl-warnings\n",
      "  warnings.warn(\n"
     ]
    },
    {
     "name": "stdout",
     "output_type": "stream",
     "text": [
      "https://einvestidor.estadao.com.br/mercado/investimentos-logistica-acoes-varejistas-bolsa/\n"
     ]
    },
    {
     "name": "stderr",
     "output_type": "stream",
     "text": [
      "C:\\Users\\Dell User\\anaconda3\\envs\\proyectos\\lib\\site-packages\\urllib3\\connectionpool.py:1013: InsecureRequestWarning: Unverified HTTPS request is being made to host 'einvestidor.estadao.com.br'. Adding certificate verification is strongly advised. See: https://urllib3.readthedocs.io/en/1.26.x/advanced-usage.html#ssl-warnings\n",
      "  warnings.warn(\n",
      "C:\\Users\\Dell User\\anaconda3\\envs\\proyectos\\lib\\site-packages\\urllib3\\connectionpool.py:1013: InsecureRequestWarning: Unverified HTTPS request is being made to host 'noticias.uol.com.br'. Adding certificate verification is strongly advised. See: https://urllib3.readthedocs.io/en/1.26.x/advanced-usage.html#ssl-warnings\n",
      "  warnings.warn(\n",
      "C:\\Users\\Dell User\\anaconda3\\envs\\proyectos\\lib\\site-packages\\urllib3\\connectionpool.py:1013: InsecureRequestWarning: Unverified HTTPS request is being made to host 'www.uol.com.br'. Adding certificate verification is strongly advised. See: https://urllib3.readthedocs.io/en/1.26.x/advanced-usage.html#ssl-warnings\n",
      "  warnings.warn(\n"
     ]
    },
    {
     "name": "stdout",
     "output_type": "stream",
     "text": [
      "https://www.uol.com.br/nossa/noticias/rfi/2021/07/11/experiencia-unica-bilionario-britanico-vai-ao-espaco-e-inaugura-era-do-turismo-estelar.htm\n"
     ]
    },
    {
     "name": "stderr",
     "output_type": "stream",
     "text": [
      "C:\\Users\\Dell User\\anaconda3\\envs\\proyectos\\lib\\site-packages\\urllib3\\connectionpool.py:1013: InsecureRequestWarning: Unverified HTTPS request is being made to host 'noticias.uol.com.br'. Adding certificate verification is strongly advised. See: https://urllib3.readthedocs.io/en/1.26.x/advanced-usage.html#ssl-warnings\n",
      "  warnings.warn(\n",
      "C:\\Users\\Dell User\\anaconda3\\envs\\proyectos\\lib\\site-packages\\urllib3\\connectionpool.py:1013: InsecureRequestWarning: Unverified HTTPS request is being made to host 'www.uol.com.br'. Adding certificate verification is strongly advised. See: https://urllib3.readthedocs.io/en/1.26.x/advanced-usage.html#ssl-warnings\n",
      "  warnings.warn(\n",
      "C:\\Users\\Dell User\\anaconda3\\envs\\proyectos\\lib\\site-packages\\urllib3\\connectionpool.py:1013: InsecureRequestWarning: Unverified HTTPS request is being made to host 'www.caracoltv.com'. Adding certificate verification is strongly advised. See: https://urllib3.readthedocs.io/en/1.26.x/advanced-usage.html#ssl-warnings\n",
      "  warnings.warn(\n"
     ]
    },
    {
     "name": "stdout",
     "output_type": "stream",
     "text": [
      "https://www.caracoltv.com/cultura-caracol/cine/menos-gente-y-mas-peliculas-en-un-cannes-que-se-celebra-para-defender-el-cine\n"
     ]
    },
    {
     "name": "stderr",
     "output_type": "stream",
     "text": [
      "C:\\Users\\Dell User\\anaconda3\\envs\\proyectos\\lib\\site-packages\\urllib3\\connectionpool.py:1013: InsecureRequestWarning: Unverified HTTPS request is being made to host 'www.caracoltv.com'. Adding certificate verification is strongly advised. See: https://urllib3.readthedocs.io/en/1.26.x/advanced-usage.html#ssl-warnings\n",
      "  warnings.warn(\n",
      "C:\\Users\\Dell User\\anaconda3\\envs\\proyectos\\lib\\site-packages\\urllib3\\connectionpool.py:1013: InsecureRequestWarning: Unverified HTTPS request is being made to host 'www.ambito.com'. Adding certificate verification is strongly advised. See: https://urllib3.readthedocs.io/en/1.26.x/advanced-usage.html#ssl-warnings\n",
      "  warnings.warn(\n"
     ]
    },
    {
     "name": "stdout",
     "output_type": "stream",
     "text": [
      "https://www.ambito.com/negocios/netflix/va-ofrecer-videojuegos-partir-del-2022-conoce-los-detalles-n5223128\n"
     ]
    },
    {
     "name": "stderr",
     "output_type": "stream",
     "text": [
      "C:\\Users\\Dell User\\anaconda3\\envs\\proyectos\\lib\\site-packages\\urllib3\\connectionpool.py:1013: InsecureRequestWarning: Unverified HTTPS request is being made to host 'www.ambito.com'. Adding certificate verification is strongly advised. See: https://urllib3.readthedocs.io/en/1.26.x/advanced-usage.html#ssl-warnings\n",
      "  warnings.warn(\n",
      "C:\\Users\\Dell User\\anaconda3\\envs\\proyectos\\lib\\site-packages\\urllib3\\connectionpool.py:1013: InsecureRequestWarning: Unverified HTTPS request is being made to host 'noticias.uol.com.br'. Adding certificate verification is strongly advised. See: https://urllib3.readthedocs.io/en/1.26.x/advanced-usage.html#ssl-warnings\n",
      "  warnings.warn(\n"
     ]
    },
    {
     "name": "stdout",
     "output_type": "stream",
     "text": [
      "https://noticias.uol.com.br/ultimas-noticias/agencia-brasil/2021/07/07/mortalidade-por-covid-19-na-regiao-norte-e-mais-alta-diz-pesquisa.htm\n"
     ]
    },
    {
     "name": "stderr",
     "output_type": "stream",
     "text": [
      "C:\\Users\\Dell User\\anaconda3\\envs\\proyectos\\lib\\site-packages\\urllib3\\connectionpool.py:1013: InsecureRequestWarning: Unverified HTTPS request is being made to host 'noticias.uol.com.br'. Adding certificate verification is strongly advised. See: https://urllib3.readthedocs.io/en/1.26.x/advanced-usage.html#ssl-warnings\n",
      "  warnings.warn(\n",
      "C:\\Users\\Dell User\\anaconda3\\envs\\proyectos\\lib\\site-packages\\urllib3\\connectionpool.py:1013: InsecureRequestWarning: Unverified HTTPS request is being made to host 'noticias.uol.com.br'. Adding certificate verification is strongly advised. See: https://urllib3.readthedocs.io/en/1.26.x/advanced-usage.html#ssl-warnings\n",
      "  warnings.warn(\n"
     ]
    },
    {
     "name": "stdout",
     "output_type": "stream",
     "text": [
      "https://noticias.uol.com.br/internacional/ultimas-noticias/2021/07/29/ex-esposa-de-bill-gattes-vai-doar-us-40-milhoes-para-apoiar-mulheres.htm\n"
     ]
    },
    {
     "name": "stderr",
     "output_type": "stream",
     "text": [
      "C:\\Users\\Dell User\\anaconda3\\envs\\proyectos\\lib\\site-packages\\urllib3\\connectionpool.py:1013: InsecureRequestWarning: Unverified HTTPS request is being made to host 'noticias.uol.com.br'. Adding certificate verification is strongly advised. See: https://urllib3.readthedocs.io/en/1.26.x/advanced-usage.html#ssl-warnings\n",
      "  warnings.warn(\n",
      "C:\\Users\\Dell User\\anaconda3\\envs\\proyectos\\lib\\site-packages\\urllib3\\connectionpool.py:1013: InsecureRequestWarning: Unverified HTTPS request is being made to host 'www.techtudo.com.br'. Adding certificate verification is strongly advised. See: https://urllib3.readthedocs.io/en/1.26.x/advanced-usage.html#ssl-warnings\n",
      "  warnings.warn(\n"
     ]
    },
    {
     "name": "stdout",
     "output_type": "stream",
     "text": [
      "https://www.techtudo.com.br/noticias/2021/07/lbff-santos-voltz-amazoncripz-e-equipe-x-garantem-vagas-na-serie-a.ghtml\n"
     ]
    },
    {
     "name": "stderr",
     "output_type": "stream",
     "text": [
      "C:\\Users\\Dell User\\anaconda3\\envs\\proyectos\\lib\\site-packages\\urllib3\\connectionpool.py:1013: InsecureRequestWarning: Unverified HTTPS request is being made to host 'www.techtudo.com.br'. Adding certificate verification is strongly advised. See: https://urllib3.readthedocs.io/en/1.26.x/advanced-usage.html#ssl-warnings\n",
      "  warnings.warn(\n",
      "C:\\Users\\Dell User\\anaconda3\\envs\\proyectos\\lib\\site-packages\\urllib3\\connectionpool.py:1013: InsecureRequestWarning: Unverified HTTPS request is being made to host 'www.techtudo.com.br'. Adding certificate verification is strongly advised. See: https://urllib3.readthedocs.io/en/1.26.x/advanced-usage.html#ssl-warnings\n",
      "  warnings.warn(\n"
     ]
    },
    {
     "name": "stdout",
     "output_type": "stream",
     "text": [
      "https://www.techtudo.com.br/listas/2021/07/cadeira-gamer-barata-veja-seis-modelos-por-menos-de-r-1-mil-para-comprar.ghtml\n"
     ]
    },
    {
     "name": "stderr",
     "output_type": "stream",
     "text": [
      "C:\\Users\\Dell User\\anaconda3\\envs\\proyectos\\lib\\site-packages\\urllib3\\connectionpool.py:1013: InsecureRequestWarning: Unverified HTTPS request is being made to host 'www.techtudo.com.br'. Adding certificate verification is strongly advised. See: https://urllib3.readthedocs.io/en/1.26.x/advanced-usage.html#ssl-warnings\n",
      "  warnings.warn(\n",
      "C:\\Users\\Dell User\\anaconda3\\envs\\proyectos\\lib\\site-packages\\urllib3\\connectionpool.py:1013: InsecureRequestWarning: Unverified HTTPS request is being made to host 'www.techtudo.com.br'. Adding certificate verification is strongly advised. See: https://urllib3.readthedocs.io/en/1.26.x/advanced-usage.html#ssl-warnings\n",
      "  warnings.warn(\n"
     ]
    },
    {
     "name": "stdout",
     "output_type": "stream",
     "text": [
      "https://www.techtudo.com.br/noticias/2021/07/cblol-2021-loud-vence-a-netshoes-miners-e-chega-a-sexta-vitoria-seguida-esports.ghtml\n"
     ]
    },
    {
     "name": "stderr",
     "output_type": "stream",
     "text": [
      "C:\\Users\\Dell User\\anaconda3\\envs\\proyectos\\lib\\site-packages\\urllib3\\connectionpool.py:1013: InsecureRequestWarning: Unverified HTTPS request is being made to host 'www.techtudo.com.br'. Adding certificate verification is strongly advised. See: https://urllib3.readthedocs.io/en/1.26.x/advanced-usage.html#ssl-warnings\n",
      "  warnings.warn(\n",
      "C:\\Users\\Dell User\\anaconda3\\envs\\proyectos\\lib\\site-packages\\urllib3\\connectionpool.py:1013: InsecureRequestWarning: Unverified HTTPS request is being made to host 'www.techtudo.com.br'. Adding certificate verification is strongly advised. See: https://urllib3.readthedocs.io/en/1.26.x/advanced-usage.html#ssl-warnings\n",
      "  warnings.warn(\n"
     ]
    },
    {
     "name": "stdout",
     "output_type": "stream",
     "text": [
      "https://www.techtudo.com.br/noticias/2021/07/olimpiadas-de-toquio-atletas-ganham-galaxy-s21-de-presente-da-samsung.ghtml\n"
     ]
    },
    {
     "name": "stderr",
     "output_type": "stream",
     "text": [
      "C:\\Users\\Dell User\\anaconda3\\envs\\proyectos\\lib\\site-packages\\urllib3\\connectionpool.py:1013: InsecureRequestWarning: Unverified HTTPS request is being made to host 'www.techtudo.com.br'. Adding certificate verification is strongly advised. See: https://urllib3.readthedocs.io/en/1.26.x/advanced-usage.html#ssl-warnings\n",
      "  warnings.warn(\n",
      "C:\\Users\\Dell User\\anaconda3\\envs\\proyectos\\lib\\site-packages\\urllib3\\connectionpool.py:1013: InsecureRequestWarning: Unverified HTTPS request is being made to host 'cultura.estadao.com.br'. Adding certificate verification is strongly advised. See: https://urllib3.readthedocs.io/en/1.26.x/advanced-usage.html#ssl-warnings\n",
      "  warnings.warn(\n"
     ]
    },
    {
     "name": "stdout",
     "output_type": "stream",
     "text": [
      "https://cultura.estadao.com.br/noticias/geral,muito-frio-por-ai-veja-opcoes-de-aquecedores-de-ar-e-kits-para-fondue,70003766662\n"
     ]
    },
    {
     "name": "stderr",
     "output_type": "stream",
     "text": [
      "C:\\Users\\Dell User\\anaconda3\\envs\\proyectos\\lib\\site-packages\\urllib3\\connectionpool.py:1013: InsecureRequestWarning: Unverified HTTPS request is being made to host 'cultura.estadao.com.br'. Adding certificate verification is strongly advised. See: https://urllib3.readthedocs.io/en/1.26.x/advanced-usage.html#ssl-warnings\n",
      "  warnings.warn(\n",
      "C:\\Users\\Dell User\\anaconda3\\envs\\proyectos\\lib\\site-packages\\urllib3\\connectionpool.py:1013: InsecureRequestWarning: Unverified HTTPS request is being made to host 'link.estadao.com.br'. Adding certificate verification is strongly advised. See: https://urllib3.readthedocs.io/en/1.26.x/advanced-usage.html#ssl-warnings\n",
      "  warnings.warn(\n"
     ]
    },
    {
     "name": "stdout",
     "output_type": "stream",
     "text": [
      "https://link.estadao.com.br/noticias/empresas,richard-branson-deve-superar-neste-domingo-jeff-bezos-em-viagem-ao-espaco,70003774885\n"
     ]
    },
    {
     "name": "stderr",
     "output_type": "stream",
     "text": [
      "C:\\Users\\Dell User\\anaconda3\\envs\\proyectos\\lib\\site-packages\\urllib3\\connectionpool.py:1013: InsecureRequestWarning: Unverified HTTPS request is being made to host 'link.estadao.com.br'. Adding certificate verification is strongly advised. See: https://urllib3.readthedocs.io/en/1.26.x/advanced-usage.html#ssl-warnings\n",
      "  warnings.warn(\n",
      "C:\\Users\\Dell User\\anaconda3\\envs\\proyectos\\lib\\site-packages\\urllib3\\connectionpool.py:1013: InsecureRequestWarning: Unverified HTTPS request is being made to host 'www.techtudo.com.br'. Adding certificate verification is strongly advised. See: https://urllib3.readthedocs.io/en/1.26.x/advanced-usage.html#ssl-warnings\n",
      "  warnings.warn(\n"
     ]
    },
    {
     "name": "stdout",
     "output_type": "stream",
     "text": [
      "https://www.techtudo.com.br/noticias/2021/07/cblol-2021-pain-gaming-vence-a-loud-e-garante-vaga-para-os-playoffs-esports.ghtml\n"
     ]
    },
    {
     "name": "stderr",
     "output_type": "stream",
     "text": [
      "C:\\Users\\Dell User\\anaconda3\\envs\\proyectos\\lib\\site-packages\\urllib3\\connectionpool.py:1013: InsecureRequestWarning: Unverified HTTPS request is being made to host 'www.techtudo.com.br'. Adding certificate verification is strongly advised. See: https://urllib3.readthedocs.io/en/1.26.x/advanced-usage.html#ssl-warnings\n",
      "  warnings.warn(\n",
      "C:\\Users\\Dell User\\anaconda3\\envs\\proyectos\\lib\\site-packages\\urllib3\\connectionpool.py:1013: InsecureRequestWarning: Unverified HTTPS request is being made to host 'www.techtudo.com.br'. Adding certificate verification is strongly advised. See: https://urllib3.readthedocs.io/en/1.26.x/advanced-usage.html#ssl-warnings\n",
      "  warnings.warn(\n"
     ]
    },
    {
     "name": "stdout",
     "output_type": "stream",
     "text": [
      "https://www.techtudo.com.br/listas/2021/07/pulseira-para-xiaomi-mi-band-6.ghtml\n"
     ]
    },
    {
     "name": "stderr",
     "output_type": "stream",
     "text": [
      "C:\\Users\\Dell User\\anaconda3\\envs\\proyectos\\lib\\site-packages\\urllib3\\connectionpool.py:1013: InsecureRequestWarning: Unverified HTTPS request is being made to host 'www.techtudo.com.br'. Adding certificate verification is strongly advised. See: https://urllib3.readthedocs.io/en/1.26.x/advanced-usage.html#ssl-warnings\n",
      "  warnings.warn(\n",
      "C:\\Users\\Dell User\\anaconda3\\envs\\proyectos\\lib\\site-packages\\urllib3\\connectionpool.py:1013: InsecureRequestWarning: Unverified HTTPS request is being made to host 'einvestidor.estadao.com.br'. Adding certificate verification is strongly advised. See: https://urllib3.readthedocs.io/en/1.26.x/advanced-usage.html#ssl-warnings\n",
      "  warnings.warn(\n"
     ]
    },
    {
     "name": "stdout",
     "output_type": "stream",
     "text": [
      "https://einvestidor.estadao.com.br/ultimas/wall-street-recua-com-amazon/\n"
     ]
    },
    {
     "name": "stderr",
     "output_type": "stream",
     "text": [
      "C:\\Users\\Dell User\\anaconda3\\envs\\proyectos\\lib\\site-packages\\urllib3\\connectionpool.py:1013: InsecureRequestWarning: Unverified HTTPS request is being made to host 'einvestidor.estadao.com.br'. Adding certificate verification is strongly advised. See: https://urllib3.readthedocs.io/en/1.26.x/advanced-usage.html#ssl-warnings\n",
      "  warnings.warn(\n",
      "C:\\Users\\Dell User\\anaconda3\\envs\\proyectos\\lib\\site-packages\\urllib3\\connectionpool.py:1013: InsecureRequestWarning: Unverified HTTPS request is being made to host 'www.canal-ar.com.ar'. Adding certificate verification is strongly advised. See: https://urllib3.readthedocs.io/en/1.26.x/advanced-usage.html#ssl-warnings\n",
      "  warnings.warn(\n"
     ]
    },
    {
     "name": "stdout",
     "output_type": "stream",
     "text": [
      "https://www.canal-ar.com.ar/29524-Jeff-Bezos-se-fue-al-espacio-por-unos-minutos-en-su-nave-de-Blue-Origin-Como-fue-el-viaje.html\n"
     ]
    },
    {
     "name": "stderr",
     "output_type": "stream",
     "text": [
      "C:\\Users\\Dell User\\anaconda3\\envs\\proyectos\\lib\\site-packages\\urllib3\\connectionpool.py:1013: InsecureRequestWarning: Unverified HTTPS request is being made to host 'www.canal-ar.com.ar'. Adding certificate verification is strongly advised. See: https://urllib3.readthedocs.io/en/1.26.x/advanced-usage.html#ssl-warnings\n",
      "  warnings.warn(\n",
      "C:\\Users\\Dell User\\anaconda3\\envs\\proyectos\\lib\\site-packages\\urllib3\\connectionpool.py:1013: InsecureRequestWarning: Unverified HTTPS request is being made to host 'www.techtudo.com.br'. Adding certificate verification is strongly advised. See: https://urllib3.readthedocs.io/en/1.26.x/advanced-usage.html#ssl-warnings\n",
      "  warnings.warn(\n"
     ]
    },
    {
     "name": "stdout",
     "output_type": "stream",
     "text": [
      "https://www.techtudo.com.br/noticias/2021/07/cblol-2021-kabum-perde-para-furia-e-rensga-em-jogos-adiados-esports.ghtml\n"
     ]
    },
    {
     "name": "stderr",
     "output_type": "stream",
     "text": [
      "C:\\Users\\Dell User\\anaconda3\\envs\\proyectos\\lib\\site-packages\\urllib3\\connectionpool.py:1013: InsecureRequestWarning: Unverified HTTPS request is being made to host 'www.techtudo.com.br'. Adding certificate verification is strongly advised. See: https://urllib3.readthedocs.io/en/1.26.x/advanced-usage.html#ssl-warnings\n",
      "  warnings.warn(\n",
      "C:\\Users\\Dell User\\anaconda3\\envs\\proyectos\\lib\\site-packages\\urllib3\\connectionpool.py:1013: InsecureRequestWarning: Unverified HTTPS request is being made to host 'revistapegn.globo.com'. Adding certificate verification is strongly advised. See: https://urllib3.readthedocs.io/en/1.26.x/advanced-usage.html#ssl-warnings\n",
      "  warnings.warn(\n"
     ]
    },
    {
     "name": "stdout",
     "output_type": "stream",
     "text": [
      "https://revistapegn.globo.com/Empreendedorismo/noticia/2021/07/7-coisas-que-steve-jobs-dizia-e-que-voce-tambem-deve-dizer.html\n"
     ]
    },
    {
     "name": "stderr",
     "output_type": "stream",
     "text": [
      "C:\\Users\\Dell User\\anaconda3\\envs\\proyectos\\lib\\site-packages\\urllib3\\connectionpool.py:1013: InsecureRequestWarning: Unverified HTTPS request is being made to host 'revistapegn.globo.com'. Adding certificate verification is strongly advised. See: https://urllib3.readthedocs.io/en/1.26.x/advanced-usage.html#ssl-warnings\n",
      "  warnings.warn(\n",
      "C:\\Users\\Dell User\\anaconda3\\envs\\proyectos\\lib\\site-packages\\urllib3\\connectionpool.py:1013: InsecureRequestWarning: Unverified HTTPS request is being made to host 'noticias.uol.com.br'. Adding certificate verification is strongly advised. See: https://urllib3.readthedocs.io/en/1.26.x/advanced-usage.html#ssl-warnings\n",
      "  warnings.warn(\n"
     ]
    },
    {
     "name": "stdout",
     "output_type": "stream",
     "text": [
      "https://noticias.uol.com.br/ultimas-noticias/bbc/2021/07/13/por-que-o-chefao-do-google-diz-que-a-internet-livre-esta-sob-ataque.htm\n"
     ]
    },
    {
     "name": "stderr",
     "output_type": "stream",
     "text": [
      "C:\\Users\\Dell User\\anaconda3\\envs\\proyectos\\lib\\site-packages\\urllib3\\connectionpool.py:1013: InsecureRequestWarning: Unverified HTTPS request is being made to host 'noticias.uol.com.br'. Adding certificate verification is strongly advised. See: https://urllib3.readthedocs.io/en/1.26.x/advanced-usage.html#ssl-warnings\n",
      "  warnings.warn(\n",
      "C:\\Users\\Dell User\\anaconda3\\envs\\proyectos\\lib\\site-packages\\urllib3\\connectionpool.py:1013: InsecureRequestWarning: Unverified HTTPS request is being made to host 'epocanegocios.globo.com'. Adding certificate verification is strongly advised. See: https://urllib3.readthedocs.io/en/1.26.x/advanced-usage.html#ssl-warnings\n",
      "  warnings.warn(\n"
     ]
    },
    {
     "name": "stdout",
     "output_type": "stream",
     "text": [
      "https://epocanegocios.globo.com/Mundo/noticia/2021/07/epoca-negocios-pentagono-descarta-acordo-de-u10-bi-do-governo-trump-com-a-microsoft.html\n"
     ]
    },
    {
     "name": "stderr",
     "output_type": "stream",
     "text": [
      "C:\\Users\\Dell User\\anaconda3\\envs\\proyectos\\lib\\site-packages\\urllib3\\connectionpool.py:1013: InsecureRequestWarning: Unverified HTTPS request is being made to host 'epocanegocios.globo.com'. Adding certificate verification is strongly advised. See: https://urllib3.readthedocs.io/en/1.26.x/advanced-usage.html#ssl-warnings\n",
      "  warnings.warn(\n",
      "C:\\Users\\Dell User\\anaconda3\\envs\\proyectos\\lib\\site-packages\\urllib3\\connectionpool.py:1013: InsecureRequestWarning: Unverified HTTPS request is being made to host 'www.ambito.com'. Adding certificate verification is strongly advised. See: https://urllib3.readthedocs.io/en/1.26.x/advanced-usage.html#ssl-warnings\n",
      "  warnings.warn(\n"
     ]
    },
    {
     "name": "stdout",
     "output_type": "stream",
     "text": [
      "https://www.ambito.com/mundo/espacio/el-nuevo-y-exclusivo-hobby-los-magnates-n5226409\n"
     ]
    },
    {
     "name": "stderr",
     "output_type": "stream",
     "text": [
      "C:\\Users\\Dell User\\anaconda3\\envs\\proyectos\\lib\\site-packages\\urllib3\\connectionpool.py:1013: InsecureRequestWarning: Unverified HTTPS request is being made to host 'www.ambito.com'. Adding certificate verification is strongly advised. See: https://urllib3.readthedocs.io/en/1.26.x/advanced-usage.html#ssl-warnings\n",
      "  warnings.warn(\n",
      "C:\\Users\\Dell User\\anaconda3\\envs\\proyectos\\lib\\site-packages\\urllib3\\connectionpool.py:1013: InsecureRequestWarning: Unverified HTTPS request is being made to host 'www.techtudo.com.br'. Adding certificate verification is strongly advised. See: https://urllib3.readthedocs.io/en/1.26.x/advanced-usage.html#ssl-warnings\n",
      "  warnings.warn(\n"
     ]
    },
    {
     "name": "stdout",
     "output_type": "stream",
     "text": [
      "https://www.techtudo.com.br/listas/2021/07/notebook-branco-veja-seis-modelos-para-comprar-no-brasil-em-2021.ghtml\n"
     ]
    },
    {
     "name": "stderr",
     "output_type": "stream",
     "text": [
      "C:\\Users\\Dell User\\anaconda3\\envs\\proyectos\\lib\\site-packages\\urllib3\\connectionpool.py:1013: InsecureRequestWarning: Unverified HTTPS request is being made to host 'www.techtudo.com.br'. Adding certificate verification is strongly advised. See: https://urllib3.readthedocs.io/en/1.26.x/advanced-usage.html#ssl-warnings\n",
      "  warnings.warn(\n",
      "C:\\Users\\Dell User\\anaconda3\\envs\\proyectos\\lib\\site-packages\\urllib3\\connectionpool.py:1013: InsecureRequestWarning: Unverified HTTPS request is being made to host 'noticias.uol.com.br'. Adding certificate verification is strongly advised. See: https://urllib3.readthedocs.io/en/1.26.x/advanced-usage.html#ssl-warnings\n",
      "  warnings.warn(\n"
     ]
    },
    {
     "name": "stdout",
     "output_type": "stream",
     "text": [
      "https://noticias.uol.com.br/colunas/juliana-dal-piva/2021/07/06/marcia-aguiar-fabricio-queiroz-vao-matar-rachadinha.htm\n"
     ]
    },
    {
     "name": "stderr",
     "output_type": "stream",
     "text": [
      "C:\\Users\\Dell User\\anaconda3\\envs\\proyectos\\lib\\site-packages\\urllib3\\connectionpool.py:1013: InsecureRequestWarning: Unverified HTTPS request is being made to host 'noticias.uol.com.br'. Adding certificate verification is strongly advised. See: https://urllib3.readthedocs.io/en/1.26.x/advanced-usage.html#ssl-warnings\n",
      "  warnings.warn(\n",
      "C:\\Users\\Dell User\\anaconda3\\envs\\proyectos\\lib\\site-packages\\urllib3\\connectionpool.py:1013: InsecureRequestWarning: Unverified HTTPS request is being made to host 'noticias.uol.com.br'. Adding certificate verification is strongly advised. See: https://urllib3.readthedocs.io/en/1.26.x/advanced-usage.html#ssl-warnings\n",
      "  warnings.warn(\n"
     ]
    },
    {
     "name": "stdout",
     "output_type": "stream",
     "text": [
      "https://noticias.uol.com.br/colunas/juliana-dal-piva/2021/07/06/marcia-aguiar-fabricio-queiroz-vao-matar-rachadinha.htm\n"
     ]
    },
    {
     "name": "stderr",
     "output_type": "stream",
     "text": [
      "C:\\Users\\Dell User\\anaconda3\\envs\\proyectos\\lib\\site-packages\\urllib3\\connectionpool.py:1013: InsecureRequestWarning: Unverified HTTPS request is being made to host 'noticias.uol.com.br'. Adding certificate verification is strongly advised. See: https://urllib3.readthedocs.io/en/1.26.x/advanced-usage.html#ssl-warnings\n",
      "  warnings.warn(\n",
      "C:\\Users\\Dell User\\anaconda3\\envs\\proyectos\\lib\\site-packages\\urllib3\\connectionpool.py:1013: InsecureRequestWarning: Unverified HTTPS request is being made to host 'www.radioagricultura.cl'. Adding certificate verification is strongly advised. See: https://urllib3.readthedocs.io/en/1.26.x/advanced-usage.html#ssl-warnings\n",
      "  warnings.warn(\n"
     ]
    },
    {
     "name": "stdout",
     "output_type": "stream",
     "text": [
      "https://www.radioagricultura.cl/entretencion/2021/07/07/talentosa-en-lo-que-te-propongas-natalia-duco-sorprendio-como-actriz-en-comercial-de-amazon.html\n"
     ]
    },
    {
     "name": "stderr",
     "output_type": "stream",
     "text": [
      "C:\\Users\\Dell User\\anaconda3\\envs\\proyectos\\lib\\site-packages\\urllib3\\connectionpool.py:1013: InsecureRequestWarning: Unverified HTTPS request is being made to host 'www.radioagricultura.cl'. Adding certificate verification is strongly advised. See: https://urllib3.readthedocs.io/en/1.26.x/advanced-usage.html#ssl-warnings\n",
      "  warnings.warn(\n",
      "C:\\Users\\Dell User\\anaconda3\\envs\\proyectos\\lib\\site-packages\\urllib3\\connectionpool.py:1013: InsecureRequestWarning: Unverified HTTPS request is being made to host 'www.techtudo.com.br'. Adding certificate verification is strongly advised. See: https://urllib3.readthedocs.io/en/1.26.x/advanced-usage.html#ssl-warnings\n",
      "  warnings.warn(\n"
     ]
    },
    {
     "name": "stdout",
     "output_type": "stream",
     "text": [
      "https://www.techtudo.com.br/noticias/2021/07/csgo-mibr-perde-para-team-spirit-em-estreia-no-iem-cologne-2021-esports.ghtml\n"
     ]
    },
    {
     "name": "stderr",
     "output_type": "stream",
     "text": [
      "C:\\Users\\Dell User\\anaconda3\\envs\\proyectos\\lib\\site-packages\\urllib3\\connectionpool.py:1013: InsecureRequestWarning: Unverified HTTPS request is being made to host 'www.techtudo.com.br'. Adding certificate verification is strongly advised. See: https://urllib3.readthedocs.io/en/1.26.x/advanced-usage.html#ssl-warnings\n",
      "  warnings.warn(\n",
      "C:\\Users\\Dell User\\anaconda3\\envs\\proyectos\\lib\\site-packages\\urllib3\\connectionpool.py:1013: InsecureRequestWarning: Unverified HTTPS request is being made to host 'epocanegocios.globo.com'. Adding certificate verification is strongly advised. See: https://urllib3.readthedocs.io/en/1.26.x/advanced-usage.html#ssl-warnings\n",
      "  warnings.warn(\n"
     ]
    },
    {
     "name": "stdout",
     "output_type": "stream",
     "text": [
      "https://epocanegocios.globo.com/colunas/50-Vida-e-Trabalho/noticia/2021/07/uma-vida-sem-arrependimentos.html\n"
     ]
    },
    {
     "name": "stderr",
     "output_type": "stream",
     "text": [
      "C:\\Users\\Dell User\\anaconda3\\envs\\proyectos\\lib\\site-packages\\urllib3\\connectionpool.py:1013: InsecureRequestWarning: Unverified HTTPS request is being made to host 'epocanegocios.globo.com'. Adding certificate verification is strongly advised. See: https://urllib3.readthedocs.io/en/1.26.x/advanced-usage.html#ssl-warnings\n",
      "  warnings.warn(\n",
      "C:\\Users\\Dell User\\anaconda3\\envs\\proyectos\\lib\\site-packages\\urllib3\\connectionpool.py:1013: InsecureRequestWarning: Unverified HTTPS request is being made to host 'www.techtudo.com.br'. Adding certificate verification is strongly advised. See: https://urllib3.readthedocs.io/en/1.26.x/advanced-usage.html#ssl-warnings\n",
      "  warnings.warn(\n"
     ]
    },
    {
     "name": "stdout",
     "output_type": "stream",
     "text": [
      "https://www.techtudo.com.br/listas/2021/07/mouse-pad-redragon-veja-sete-opcoes-para-comprar-no-brasil-em-2021.ghtml\n"
     ]
    },
    {
     "name": "stderr",
     "output_type": "stream",
     "text": [
      "C:\\Users\\Dell User\\anaconda3\\envs\\proyectos\\lib\\site-packages\\urllib3\\connectionpool.py:1013: InsecureRequestWarning: Unverified HTTPS request is being made to host 'www.techtudo.com.br'. Adding certificate verification is strongly advised. See: https://urllib3.readthedocs.io/en/1.26.x/advanced-usage.html#ssl-warnings\n",
      "  warnings.warn(\n",
      "C:\\Users\\Dell User\\anaconda3\\envs\\proyectos\\lib\\site-packages\\urllib3\\connectionpool.py:1013: InsecureRequestWarning: Unverified HTTPS request is being made to host 'www.techtudo.com.br'. Adding certificate verification is strongly advised. See: https://urllib3.readthedocs.io/en/1.26.x/advanced-usage.html#ssl-warnings\n",
      "  warnings.warn(\n"
     ]
    },
    {
     "name": "stdout",
     "output_type": "stream",
     "text": [
      "https://www.techtudo.com.br/listas/2021/07/mouse-multilaser-veja-sete-modelos-para-comprar-no-brasil-em-2021.ghtml\n"
     ]
    },
    {
     "name": "stderr",
     "output_type": "stream",
     "text": [
      "C:\\Users\\Dell User\\anaconda3\\envs\\proyectos\\lib\\site-packages\\urllib3\\connectionpool.py:1013: InsecureRequestWarning: Unverified HTTPS request is being made to host 'www.techtudo.com.br'. Adding certificate verification is strongly advised. See: https://urllib3.readthedocs.io/en/1.26.x/advanced-usage.html#ssl-warnings\n",
      "  warnings.warn(\n",
      "C:\\Users\\Dell User\\anaconda3\\envs\\proyectos\\lib\\site-packages\\urllib3\\connectionpool.py:1013: InsecureRequestWarning: Unverified HTTPS request is being made to host 'economia.estadao.com.br'. Adding certificate verification is strongly advised. See: https://urllib3.readthedocs.io/en/1.26.x/advanced-usage.html#ssl-warnings\n",
      "  warnings.warn(\n"
     ]
    },
    {
     "name": "stdout",
     "output_type": "stream",
     "text": [
      "https://economia.estadao.com.br/noticias/geral,quem-pode-comprar-os-correios-empresas-de-logistica-e-varejistas-sao-as-principais-candidatas,70003770625\n"
     ]
    },
    {
     "name": "stderr",
     "output_type": "stream",
     "text": [
      "C:\\Users\\Dell User\\anaconda3\\envs\\proyectos\\lib\\site-packages\\urllib3\\connectionpool.py:1013: InsecureRequestWarning: Unverified HTTPS request is being made to host 'economia.estadao.com.br'. Adding certificate verification is strongly advised. See: https://urllib3.readthedocs.io/en/1.26.x/advanced-usage.html#ssl-warnings\n",
      "  warnings.warn(\n",
      "C:\\Users\\Dell User\\anaconda3\\envs\\proyectos\\lib\\site-packages\\urllib3\\connectionpool.py:1013: InsecureRequestWarning: Unverified HTTPS request is being made to host 'economia.estadao.com.br'. Adding certificate verification is strongly advised. See: https://urllib3.readthedocs.io/en/1.26.x/advanced-usage.html#ssl-warnings\n",
      "  warnings.warn(\n"
     ]
    },
    {
     "name": "stdout",
     "output_type": "stream",
     "text": [
      "https://economia.estadao.com.br/noticias/mercados,mercado-internacional-tem-dia-de-recuperacao-com-nova-york-e-europa-em-alta,70003784341\n"
     ]
    },
    {
     "name": "stderr",
     "output_type": "stream",
     "text": [
      "C:\\Users\\Dell User\\anaconda3\\envs\\proyectos\\lib\\site-packages\\urllib3\\connectionpool.py:1013: InsecureRequestWarning: Unverified HTTPS request is being made to host 'economia.estadao.com.br'. Adding certificate verification is strongly advised. See: https://urllib3.readthedocs.io/en/1.26.x/advanced-usage.html#ssl-warnings\n",
      "  warnings.warn(\n",
      "C:\\Users\\Dell User\\anaconda3\\envs\\proyectos\\lib\\site-packages\\urllib3\\connectionpool.py:1013: InsecureRequestWarning: Unverified HTTPS request is being made to host 'cultura.estadao.com.br'. Adding certificate verification is strongly advised. See: https://urllib3.readthedocs.io/en/1.26.x/advanced-usage.html#ssl-warnings\n",
      "  warnings.warn(\n"
     ]
    },
    {
     "name": "stdout",
     "output_type": "stream",
     "text": [
      "https://cultura.estadao.com.br/noticias/geral,fa-de-videogame-confira-o-preco-do-playstation-5-e-de-mais-10-jogos-incriveis,70003780341\n"
     ]
    },
    {
     "name": "stderr",
     "output_type": "stream",
     "text": [
      "C:\\Users\\Dell User\\anaconda3\\envs\\proyectos\\lib\\site-packages\\urllib3\\connectionpool.py:1013: InsecureRequestWarning: Unverified HTTPS request is being made to host 'cultura.estadao.com.br'. Adding certificate verification is strongly advised. See: https://urllib3.readthedocs.io/en/1.26.x/advanced-usage.html#ssl-warnings\n",
      "  warnings.warn(\n",
      "C:\\Users\\Dell User\\anaconda3\\envs\\proyectos\\lib\\site-packages\\urllib3\\connectionpool.py:1013: InsecureRequestWarning: Unverified HTTPS request is being made to host 'www.techtudo.com.br'. Adding certificate verification is strongly advised. See: https://urllib3.readthedocs.io/en/1.26.x/advanced-usage.html#ssl-warnings\n",
      "  warnings.warn(\n"
     ]
    },
    {
     "name": "stdout",
     "output_type": "stream",
     "text": [
      "https://www.techtudo.com.br/listas/2021/07/directv-go-e-bom-veja-precos-e-se-vale-a-pena-assinar.ghtml\n"
     ]
    },
    {
     "name": "stderr",
     "output_type": "stream",
     "text": [
      "C:\\Users\\Dell User\\anaconda3\\envs\\proyectos\\lib\\site-packages\\urllib3\\connectionpool.py:1013: InsecureRequestWarning: Unverified HTTPS request is being made to host 'www.techtudo.com.br'. Adding certificate verification is strongly advised. See: https://urllib3.readthedocs.io/en/1.26.x/advanced-usage.html#ssl-warnings\n",
      "  warnings.warn(\n",
      "C:\\Users\\Dell User\\anaconda3\\envs\\proyectos\\lib\\site-packages\\urllib3\\connectionpool.py:1013: InsecureRequestWarning: Unverified HTTPS request is being made to host 'www.techtudo.com.br'. Adding certificate verification is strongly advised. See: https://urllib3.readthedocs.io/en/1.26.x/advanced-usage.html#ssl-warnings\n",
      "  warnings.warn(\n"
     ]
    },
    {
     "name": "stdout",
     "output_type": "stream",
     "text": [
      "https://www.techtudo.com.br/noticias/2021/07/predator-helios-300-em-2021-saiba-tudo-sobre-o-notebook-gamer-da-acer.ghtml\n"
     ]
    },
    {
     "name": "stderr",
     "output_type": "stream",
     "text": [
      "C:\\Users\\Dell User\\anaconda3\\envs\\proyectos\\lib\\site-packages\\urllib3\\connectionpool.py:1013: InsecureRequestWarning: Unverified HTTPS request is being made to host 'www.techtudo.com.br'. Adding certificate verification is strongly advised. See: https://urllib3.readthedocs.io/en/1.26.x/advanced-usage.html#ssl-warnings\n",
      "  warnings.warn(\n",
      "C:\\Users\\Dell User\\anaconda3\\envs\\proyectos\\lib\\site-packages\\urllib3\\connectionpool.py:1013: InsecureRequestWarning: Unverified HTTPS request is being made to host 'www.techtudo.com.br'. Adding certificate verification is strongly advised. See: https://urllib3.readthedocs.io/en/1.26.x/advanced-usage.html#ssl-warnings\n",
      "  warnings.warn(\n"
     ]
    },
    {
     "name": "stdout",
     "output_type": "stream",
     "text": [
      "https://www.techtudo.com.br/noticias/2021/07/cblol-2021-loud-vence-e-entra-no-top4-veja-tabela-de-classificacao-esports.ghtml\n"
     ]
    },
    {
     "name": "stderr",
     "output_type": "stream",
     "text": [
      "C:\\Users\\Dell User\\anaconda3\\envs\\proyectos\\lib\\site-packages\\urllib3\\connectionpool.py:1013: InsecureRequestWarning: Unverified HTTPS request is being made to host 'www.techtudo.com.br'. Adding certificate verification is strongly advised. See: https://urllib3.readthedocs.io/en/1.26.x/advanced-usage.html#ssl-warnings\n",
      "  warnings.warn(\n",
      "C:\\Users\\Dell User\\anaconda3\\envs\\proyectos\\lib\\site-packages\\urllib3\\connectionpool.py:1013: InsecureRequestWarning: Unverified HTTPS request is being made to host 'www.techtudo.com.br'. Adding certificate verification is strongly advised. See: https://urllib3.readthedocs.io/en/1.26.x/advanced-usage.html#ssl-warnings\n",
      "  warnings.warn(\n"
     ]
    },
    {
     "name": "stdout",
     "output_type": "stream",
     "text": [
      "https://www.techtudo.com.br/listas/2021/07/tv-tcl-veja-cinco-modelos-para-comprar-no-brasil-em-2021.ghtml\n"
     ]
    },
    {
     "name": "stderr",
     "output_type": "stream",
     "text": [
      "C:\\Users\\Dell User\\anaconda3\\envs\\proyectos\\lib\\site-packages\\urllib3\\connectionpool.py:1013: InsecureRequestWarning: Unverified HTTPS request is being made to host 'www.techtudo.com.br'. Adding certificate verification is strongly advised. See: https://urllib3.readthedocs.io/en/1.26.x/advanced-usage.html#ssl-warnings\n",
      "  warnings.warn(\n",
      "C:\\Users\\Dell User\\anaconda3\\envs\\proyectos\\lib\\site-packages\\urllib3\\connectionpool.py:1013: InsecureRequestWarning: Unverified HTTPS request is being made to host 'www.techtudo.com.br'. Adding certificate verification is strongly advised. See: https://urllib3.readthedocs.io/en/1.26.x/advanced-usage.html#ssl-warnings\n",
      "  warnings.warn(\n"
     ]
    },
    {
     "name": "stdout",
     "output_type": "stream",
     "text": [
      "https://www.techtudo.com.br/listas/2021/07/hd-externo-4-tb-veja-seis-modelos-por-a-partir-de-r-790-para-comprar.ghtml\n"
     ]
    },
    {
     "name": "stderr",
     "output_type": "stream",
     "text": [
      "C:\\Users\\Dell User\\anaconda3\\envs\\proyectos\\lib\\site-packages\\urllib3\\connectionpool.py:1013: InsecureRequestWarning: Unverified HTTPS request is being made to host 'www.techtudo.com.br'. Adding certificate verification is strongly advised. See: https://urllib3.readthedocs.io/en/1.26.x/advanced-usage.html#ssl-warnings\n",
      "  warnings.warn(\n",
      "C:\\Users\\Dell User\\anaconda3\\envs\\proyectos\\lib\\site-packages\\urllib3\\connectionpool.py:1013: InsecureRequestWarning: Unverified HTTPS request is being made to host 'www.techtudo.com.br'. Adding certificate verification is strongly advised. See: https://urllib3.readthedocs.io/en/1.26.x/advanced-usage.html#ssl-warnings\n",
      "  warnings.warn(\n"
     ]
    },
    {
     "name": "stdout",
     "output_type": "stream",
     "text": [
      "https://www.techtudo.com.br/noticias/2021/07/core-i5-10400f-e-bom-veja-ficha-tecnica-e-preco-do-processador-intel.ghtml\n"
     ]
    },
    {
     "name": "stderr",
     "output_type": "stream",
     "text": [
      "C:\\Users\\Dell User\\anaconda3\\envs\\proyectos\\lib\\site-packages\\urllib3\\connectionpool.py:1013: InsecureRequestWarning: Unverified HTTPS request is being made to host 'www.techtudo.com.br'. Adding certificate verification is strongly advised. See: https://urllib3.readthedocs.io/en/1.26.x/advanced-usage.html#ssl-warnings\n",
      "  warnings.warn(\n",
      "C:\\Users\\Dell User\\anaconda3\\envs\\proyectos\\lib\\site-packages\\urllib3\\connectionpool.py:1013: InsecureRequestWarning: Unverified HTTPS request is being made to host 'www.bluradio.com'. Adding certificate verification is strongly advised. See: https://urllib3.readthedocs.io/en/1.26.x/advanced-usage.html#ssl-warnings\n",
      "  warnings.warn(\n"
     ]
    },
    {
     "name": "stdout",
     "output_type": "stream",
     "text": [
      "https://www.bluradio.com/mundo/vacaciones-fuera-del-planeta-un-lujo-que-por-ahora-se-pueden-dar-unos-pocos\n"
     ]
    },
    {
     "name": "stderr",
     "output_type": "stream",
     "text": [
      "C:\\Users\\Dell User\\anaconda3\\envs\\proyectos\\lib\\site-packages\\urllib3\\connectionpool.py:1013: InsecureRequestWarning: Unverified HTTPS request is being made to host 'www.bluradio.com'. Adding certificate verification is strongly advised. See: https://urllib3.readthedocs.io/en/1.26.x/advanced-usage.html#ssl-warnings\n",
      "  warnings.warn(\n",
      "C:\\Users\\Dell User\\anaconda3\\envs\\proyectos\\lib\\site-packages\\urllib3\\connectionpool.py:1013: InsecureRequestWarning: Unverified HTTPS request is being made to host 'revistapegn.globo.com'. Adding certificate verification is strongly advised. See: https://urllib3.readthedocs.io/en/1.26.x/advanced-usage.html#ssl-warnings\n",
      "  warnings.warn(\n"
     ]
    },
    {
     "name": "stdout",
     "output_type": "stream",
     "text": [
      "https://revistapegn.globo.com/Startups/noticia/2021/07/com-startup-criada-no-brasil-grupo-irlandes-quer-treinar-profissionais-e-preencher-vagas-de-ti-no-exterior.html\n"
     ]
    },
    {
     "name": "stderr",
     "output_type": "stream",
     "text": [
      "C:\\Users\\Dell User\\anaconda3\\envs\\proyectos\\lib\\site-packages\\urllib3\\connectionpool.py:1013: InsecureRequestWarning: Unverified HTTPS request is being made to host 'revistapegn.globo.com'. Adding certificate verification is strongly advised. See: https://urllib3.readthedocs.io/en/1.26.x/advanced-usage.html#ssl-warnings\n",
      "  warnings.warn(\n",
      "C:\\Users\\Dell User\\anaconda3\\envs\\proyectos\\lib\\site-packages\\urllib3\\connectionpool.py:1013: InsecureRequestWarning: Unverified HTTPS request is being made to host 'www.techtudo.com.br'. Adding certificate verification is strongly advised. See: https://urllib3.readthedocs.io/en/1.26.x/advanced-usage.html#ssl-warnings\n",
      "  warnings.warn(\n"
     ]
    },
    {
     "name": "stdout",
     "output_type": "stream",
     "text": [
      "https://www.techtudo.com.br/listas/2021/07/headset-ps4-veja-sete-opcoes-para-comprar-no-brasil-em-2021.ghtml\n"
     ]
    },
    {
     "name": "stderr",
     "output_type": "stream",
     "text": [
      "C:\\Users\\Dell User\\anaconda3\\envs\\proyectos\\lib\\site-packages\\urllib3\\connectionpool.py:1013: InsecureRequestWarning: Unverified HTTPS request is being made to host 'www.techtudo.com.br'. Adding certificate verification is strongly advised. See: https://urllib3.readthedocs.io/en/1.26.x/advanced-usage.html#ssl-warnings\n",
      "  warnings.warn(\n",
      "C:\\Users\\Dell User\\anaconda3\\envs\\proyectos\\lib\\site-packages\\urllib3\\connectionpool.py:1013: InsecureRequestWarning: Unverified HTTPS request is being made to host 'www.techtudo.com.br'. Adding certificate verification is strongly advised. See: https://urllib3.readthedocs.io/en/1.26.x/advanced-usage.html#ssl-warnings\n",
      "  warnings.warn(\n"
     ]
    },
    {
     "name": "stdout",
     "output_type": "stream",
     "text": [
      "https://www.techtudo.com.br/listas/2021/07/headset-razer-veja-sete-opcoes-para-comprar-no-brasil-em-2021.ghtml\n"
     ]
    },
    {
     "name": "stderr",
     "output_type": "stream",
     "text": [
      "C:\\Users\\Dell User\\anaconda3\\envs\\proyectos\\lib\\site-packages\\urllib3\\connectionpool.py:1013: InsecureRequestWarning: Unverified HTTPS request is being made to host 'www.techtudo.com.br'. Adding certificate verification is strongly advised. See: https://urllib3.readthedocs.io/en/1.26.x/advanced-usage.html#ssl-warnings\n",
      "  warnings.warn(\n",
      "C:\\Users\\Dell User\\anaconda3\\envs\\proyectos\\lib\\site-packages\\urllib3\\connectionpool.py:1013: InsecureRequestWarning: Unverified HTTPS request is being made to host 'epocanegocios.globo.com'. Adding certificate verification is strongly advised. See: https://urllib3.readthedocs.io/en/1.26.x/advanced-usage.html#ssl-warnings\n",
      "  warnings.warn(\n"
     ]
    },
    {
     "name": "stdout",
     "output_type": "stream",
     "text": [
      "https://epocanegocios.globo.com/Mundo/noticia/2021/07/na-noite-anterior-seu-passeio-pelo-espaco-bezos-oferece-arroz-com-frango-para-jornalistas.html\n"
     ]
    },
    {
     "name": "stderr",
     "output_type": "stream",
     "text": [
      "C:\\Users\\Dell User\\anaconda3\\envs\\proyectos\\lib\\site-packages\\urllib3\\connectionpool.py:1013: InsecureRequestWarning: Unverified HTTPS request is being made to host 'epocanegocios.globo.com'. Adding certificate verification is strongly advised. See: https://urllib3.readthedocs.io/en/1.26.x/advanced-usage.html#ssl-warnings\n",
      "  warnings.warn(\n",
      "C:\\Users\\Dell User\\anaconda3\\envs\\proyectos\\lib\\site-packages\\urllib3\\connectionpool.py:1013: InsecureRequestWarning: Unverified HTTPS request is being made to host 'www.techtudo.com.br'. Adding certificate verification is strongly advised. See: https://urllib3.readthedocs.io/en/1.26.x/advanced-usage.html#ssl-warnings\n",
      "  warnings.warn(\n"
     ]
    },
    {
     "name": "stdout",
     "output_type": "stream",
     "text": [
      "https://www.techtudo.com.br/listas/2021/07/mouse-fortrek-veja-sete-modelos-para-comprar-no-brasil-em-2021.ghtml\n"
     ]
    },
    {
     "name": "stderr",
     "output_type": "stream",
     "text": [
      "C:\\Users\\Dell User\\anaconda3\\envs\\proyectos\\lib\\site-packages\\urllib3\\connectionpool.py:1013: InsecureRequestWarning: Unverified HTTPS request is being made to host 'www.techtudo.com.br'. Adding certificate verification is strongly advised. See: https://urllib3.readthedocs.io/en/1.26.x/advanced-usage.html#ssl-warnings\n",
      "  warnings.warn(\n",
      "C:\\Users\\Dell User\\anaconda3\\envs\\proyectos\\lib\\site-packages\\urllib3\\connectionpool.py:1013: InsecureRequestWarning: Unverified HTTPS request is being made to host 'economia.estadao.com.br'. Adding certificate verification is strongly advised. See: https://urllib3.readthedocs.io/en/1.26.x/advanced-usage.html#ssl-warnings\n",
      "  warnings.warn(\n"
     ]
    },
    {
     "name": "stdout",
     "output_type": "stream",
     "text": [
      "https://economia.estadao.com.br/noticias/geral,confira-5-geladeiras-modernas-com-otimos-recursos,70003776255\n"
     ]
    },
    {
     "name": "stderr",
     "output_type": "stream",
     "text": [
      "C:\\Users\\Dell User\\anaconda3\\envs\\proyectos\\lib\\site-packages\\urllib3\\connectionpool.py:1013: InsecureRequestWarning: Unverified HTTPS request is being made to host 'economia.estadao.com.br'. Adding certificate verification is strongly advised. See: https://urllib3.readthedocs.io/en/1.26.x/advanced-usage.html#ssl-warnings\n",
      "  warnings.warn(\n",
      "C:\\Users\\Dell User\\anaconda3\\envs\\proyectos\\lib\\site-packages\\urllib3\\connectionpool.py:1013: InsecureRequestWarning: Unverified HTTPS request is being made to host 'revistapegn.globo.com'. Adding certificate verification is strongly advised. See: https://urllib3.readthedocs.io/en/1.26.x/advanced-usage.html#ssl-warnings\n",
      "  warnings.warn(\n"
     ]
    },
    {
     "name": "stdout",
     "output_type": "stream",
     "text": [
      "https://revistapegn.globo.com/Tecnologia/noticia/2021/07/pais-de-criancas-chamadas-alexa-citam-bullying-e-pedem-que-amazon-mude-nome-de-assistente-virtual.html\n"
     ]
    },
    {
     "name": "stderr",
     "output_type": "stream",
     "text": [
      "C:\\Users\\Dell User\\anaconda3\\envs\\proyectos\\lib\\site-packages\\urllib3\\connectionpool.py:1013: InsecureRequestWarning: Unverified HTTPS request is being made to host 'revistapegn.globo.com'. Adding certificate verification is strongly advised. See: https://urllib3.readthedocs.io/en/1.26.x/advanced-usage.html#ssl-warnings\n",
      "  warnings.warn(\n",
      "C:\\Users\\Dell User\\anaconda3\\envs\\proyectos\\lib\\site-packages\\urllib3\\connectionpool.py:1013: InsecureRequestWarning: Unverified HTTPS request is being made to host 'www.techtudo.com.br'. Adding certificate verification is strongly advised. See: https://urllib3.readthedocs.io/en/1.26.x/advanced-usage.html#ssl-warnings\n",
      "  warnings.warn(\n"
     ]
    },
    {
     "name": "stdout",
     "output_type": "stream",
     "text": [
      "https://www.techtudo.com.br/listas/2021/07/notebook-dell-core-i3-veja-quatro-modelos-para-comprar-no-brasil-em-2021.ghtml\n"
     ]
    },
    {
     "name": "stderr",
     "output_type": "stream",
     "text": [
      "C:\\Users\\Dell User\\anaconda3\\envs\\proyectos\\lib\\site-packages\\urllib3\\connectionpool.py:1013: InsecureRequestWarning: Unverified HTTPS request is being made to host 'www.techtudo.com.br'. Adding certificate verification is strongly advised. See: https://urllib3.readthedocs.io/en/1.26.x/advanced-usage.html#ssl-warnings\n",
      "  warnings.warn(\n",
      "C:\\Users\\Dell User\\anaconda3\\envs\\proyectos\\lib\\site-packages\\urllib3\\connectionpool.py:1013: InsecureRequestWarning: Unverified HTTPS request is being made to host 'www.techtudo.com.br'. Adding certificate verification is strongly advised. See: https://urllib3.readthedocs.io/en/1.26.x/advanced-usage.html#ssl-warnings\n",
      "  warnings.warn(\n"
     ]
    },
    {
     "name": "stdout",
     "output_type": "stream",
     "text": [
      "https://www.techtudo.com.br/listas/2021/07/hd-externo-4-tb-veja-seis-modelos-por-a-partir-de-r-790-para-comprar.ghtml\n"
     ]
    },
    {
     "name": "stderr",
     "output_type": "stream",
     "text": [
      "C:\\Users\\Dell User\\anaconda3\\envs\\proyectos\\lib\\site-packages\\urllib3\\connectionpool.py:1013: InsecureRequestWarning: Unverified HTTPS request is being made to host 'www.techtudo.com.br'. Adding certificate verification is strongly advised. See: https://urllib3.readthedocs.io/en/1.26.x/advanced-usage.html#ssl-warnings\n",
      "  warnings.warn(\n",
      "C:\\Users\\Dell User\\anaconda3\\envs\\proyectos\\lib\\site-packages\\urllib3\\connectionpool.py:1013: InsecureRequestWarning: Unverified HTTPS request is being made to host 'revistapegn.globo.com'. Adding certificate verification is strongly advised. See: https://urllib3.readthedocs.io/en/1.26.x/advanced-usage.html#ssl-warnings\n",
      "  warnings.warn(\n"
     ]
    },
    {
     "name": "stdout",
     "output_type": "stream",
     "text": [
      "https://revistapegn.globo.com/Tecnologia/noticia/2021/07/jeff-bezos-mostrou-inteligencia-emocional-apos-perder-corrida-espacial-para-richard-branson-entenda.html\n"
     ]
    },
    {
     "name": "stderr",
     "output_type": "stream",
     "text": [
      "C:\\Users\\Dell User\\anaconda3\\envs\\proyectos\\lib\\site-packages\\urllib3\\connectionpool.py:1013: InsecureRequestWarning: Unverified HTTPS request is being made to host 'revistapegn.globo.com'. Adding certificate verification is strongly advised. See: https://urllib3.readthedocs.io/en/1.26.x/advanced-usage.html#ssl-warnings\n",
      "  warnings.warn(\n",
      "C:\\Users\\Dell User\\anaconda3\\envs\\proyectos\\lib\\site-packages\\urllib3\\connectionpool.py:1013: InsecureRequestWarning: Unverified HTTPS request is being made to host 'link.estadao.com.br'. Adding certificate verification is strongly advised. See: https://urllib3.readthedocs.io/en/1.26.x/advanced-usage.html#ssl-warnings\n",
      "  warnings.warn(\n"
     ]
    },
    {
     "name": "stdout",
     "output_type": "stream",
     "text": [
      "https://link.estadao.com.br/noticias/empresas,voo-de-bezos-ao-espaco-vai-levar-adolescente-de-18-anos-a-bordo,70003779457\n"
     ]
    },
    {
     "name": "stderr",
     "output_type": "stream",
     "text": [
      "C:\\Users\\Dell User\\anaconda3\\envs\\proyectos\\lib\\site-packages\\urllib3\\connectionpool.py:1013: InsecureRequestWarning: Unverified HTTPS request is being made to host 'link.estadao.com.br'. Adding certificate verification is strongly advised. See: https://urllib3.readthedocs.io/en/1.26.x/advanced-usage.html#ssl-warnings\n",
      "  warnings.warn(\n",
      "C:\\Users\\Dell User\\anaconda3\\envs\\proyectos\\lib\\site-packages\\urllib3\\connectionpool.py:1013: InsecureRequestWarning: Unverified HTTPS request is being made to host 'cultura.estadao.com.br'. Adding certificate verification is strongly advised. See: https://urllib3.readthedocs.io/en/1.26.x/advanced-usage.html#ssl-warnings\n",
      "  warnings.warn(\n"
     ]
    },
    {
     "name": "stdout",
     "output_type": "stream",
     "text": [
      "https://cultura.estadao.com.br/noticias/televisao,veja-producoes-sobre-nelson-mandela-para-assistir-no-streaming,70003782127\n"
     ]
    },
    {
     "name": "stderr",
     "output_type": "stream",
     "text": [
      "C:\\Users\\Dell User\\anaconda3\\envs\\proyectos\\lib\\site-packages\\urllib3\\connectionpool.py:1013: InsecureRequestWarning: Unverified HTTPS request is being made to host 'cultura.estadao.com.br'. Adding certificate verification is strongly advised. See: https://urllib3.readthedocs.io/en/1.26.x/advanced-usage.html#ssl-warnings\n",
      "  warnings.warn(\n",
      "C:\\Users\\Dell User\\anaconda3\\envs\\proyectos\\lib\\site-packages\\urllib3\\connectionpool.py:1013: InsecureRequestWarning: Unverified HTTPS request is being made to host 'link.estadao.com.br'. Adding certificate verification is strongly advised. See: https://urllib3.readthedocs.io/en/1.26.x/advanced-usage.html#ssl-warnings\n",
      "  warnings.warn(\n"
     ]
    },
    {
     "name": "stdout",
     "output_type": "stream",
     "text": [
      "https://link.estadao.com.br/noticias/empresas,jeff-bezos-deixa-a-amazon-nesta-segunda-mas-comando-da-empresa-ja-passava-por-mudancas,70003769229\n"
     ]
    },
    {
     "name": "stderr",
     "output_type": "stream",
     "text": [
      "C:\\Users\\Dell User\\anaconda3\\envs\\proyectos\\lib\\site-packages\\urllib3\\connectionpool.py:1013: InsecureRequestWarning: Unverified HTTPS request is being made to host 'link.estadao.com.br'. Adding certificate verification is strongly advised. See: https://urllib3.readthedocs.io/en/1.26.x/advanced-usage.html#ssl-warnings\n",
      "  warnings.warn(\n",
      "C:\\Users\\Dell User\\anaconda3\\envs\\proyectos\\lib\\site-packages\\urllib3\\connectionpool.py:1013: InsecureRequestWarning: Unverified HTTPS request is being made to host 'www.ambito.com'. Adding certificate verification is strongly advised. See: https://urllib3.readthedocs.io/en/1.26.x/advanced-usage.html#ssl-warnings\n",
      "  warnings.warn(\n",
      "C:\\Users\\Dell User\\anaconda3\\envs\\proyectos\\lib\\site-packages\\urllib3\\connectionpool.py:1013: InsecureRequestWarning: Unverified HTTPS request is being made to host 'www.ambito.com'. Adding certificate verification is strongly advised. See: https://urllib3.readthedocs.io/en/1.26.x/advanced-usage.html#ssl-warnings\n",
      "  warnings.warn(\n"
     ]
    },
    {
     "name": "stdout",
     "output_type": "stream",
     "text": [
      "https://www.ambito.com/mundo/jeff-bezos/richard-branson-viajo-al-espacio-bordo-la-vss-unity-virgin-galactic-n5219538\n"
     ]
    },
    {
     "name": "stderr",
     "output_type": "stream",
     "text": [
      "C:\\Users\\Dell User\\anaconda3\\envs\\proyectos\\lib\\site-packages\\urllib3\\connectionpool.py:1013: InsecureRequestWarning: Unverified HTTPS request is being made to host 'www.ambito.com'. Adding certificate verification is strongly advised. See: https://urllib3.readthedocs.io/en/1.26.x/advanced-usage.html#ssl-warnings\n",
      "  warnings.warn(\n",
      "C:\\Users\\Dell User\\anaconda3\\envs\\proyectos\\lib\\site-packages\\urllib3\\connectionpool.py:1013: InsecureRequestWarning: Unverified HTTPS request is being made to host 'www.ambito.com'. Adding certificate verification is strongly advised. See: https://urllib3.readthedocs.io/en/1.26.x/advanced-usage.html#ssl-warnings\n",
      "  warnings.warn(\n",
      "C:\\Users\\Dell User\\anaconda3\\envs\\proyectos\\lib\\site-packages\\urllib3\\connectionpool.py:1013: InsecureRequestWarning: Unverified HTTPS request is being made to host 'einvestidor.estadao.com.br'. Adding certificate verification is strongly advised. See: https://urllib3.readthedocs.io/en/1.26.x/advanced-usage.html#ssl-warnings\n",
      "  warnings.warn(\n"
     ]
    },
    {
     "name": "stdout",
     "output_type": "stream",
     "text": [
      "https://einvestidor.estadao.com.br/noticia/financas-e-investimentos-tiktok/\n"
     ]
    },
    {
     "name": "stderr",
     "output_type": "stream",
     "text": [
      "C:\\Users\\Dell User\\anaconda3\\envs\\proyectos\\lib\\site-packages\\urllib3\\connectionpool.py:1013: InsecureRequestWarning: Unverified HTTPS request is being made to host 'einvestidor.estadao.com.br'. Adding certificate verification is strongly advised. See: https://urllib3.readthedocs.io/en/1.26.x/advanced-usage.html#ssl-warnings\n",
      "  warnings.warn(\n",
      "C:\\Users\\Dell User\\anaconda3\\envs\\proyectos\\lib\\site-packages\\urllib3\\connectionpool.py:1013: InsecureRequestWarning: Unverified HTTPS request is being made to host 'www.ambito.com'. Adding certificate verification is strongly advised. See: https://urllib3.readthedocs.io/en/1.26.x/advanced-usage.html#ssl-warnings\n",
      "  warnings.warn(\n"
     ]
    },
    {
     "name": "stdout",
     "output_type": "stream",
     "text": [
      "https://www.ambito.com/informacion-general/whatsapp/cierra-cuentas-partir-noviembre-como-evitarlo-n5237135\n"
     ]
    },
    {
     "name": "stderr",
     "output_type": "stream",
     "text": [
      "C:\\Users\\Dell User\\anaconda3\\envs\\proyectos\\lib\\site-packages\\urllib3\\connectionpool.py:1013: InsecureRequestWarning: Unverified HTTPS request is being made to host 'www.ambito.com'. Adding certificate verification is strongly advised. See: https://urllib3.readthedocs.io/en/1.26.x/advanced-usage.html#ssl-warnings\n",
      "  warnings.warn(\n",
      "C:\\Users\\Dell User\\anaconda3\\envs\\proyectos\\lib\\site-packages\\urllib3\\connectionpool.py:1013: InsecureRequestWarning: Unverified HTTPS request is being made to host 'www.techtudo.com.br'. Adding certificate verification is strongly advised. See: https://urllib3.readthedocs.io/en/1.26.x/advanced-usage.html#ssl-warnings\n",
      "  warnings.warn(\n"
     ]
    },
    {
     "name": "stdout",
     "output_type": "stream",
     "text": [
      "https://www.techtudo.com.br/noticias/2021/07/xiaomi-anuncia-poderoso-power-bank-que-recarrega-celulares-e-laptops.ghtml\n"
     ]
    },
    {
     "name": "stderr",
     "output_type": "stream",
     "text": [
      "C:\\Users\\Dell User\\anaconda3\\envs\\proyectos\\lib\\site-packages\\urllib3\\connectionpool.py:1013: InsecureRequestWarning: Unverified HTTPS request is being made to host 'www.techtudo.com.br'. Adding certificate verification is strongly advised. See: https://urllib3.readthedocs.io/en/1.26.x/advanced-usage.html#ssl-warnings\n",
      "  warnings.warn(\n",
      "C:\\Users\\Dell User\\anaconda3\\envs\\proyectos\\lib\\site-packages\\urllib3\\connectionpool.py:1013: InsecureRequestWarning: Unverified HTTPS request is being made to host 'www.techtudo.com.br'. Adding certificate verification is strongly advised. See: https://urllib3.readthedocs.io/en/1.26.x/advanced-usage.html#ssl-warnings\n",
      "  warnings.warn(\n"
     ]
    },
    {
     "name": "stdout",
     "output_type": "stream",
     "text": [
      "https://www.techtudo.com.br/listas/2021/07/hbo-max-veja-precos-catalogo-como-baixar-e-mais.ghtml\n"
     ]
    },
    {
     "name": "stderr",
     "output_type": "stream",
     "text": [
      "C:\\Users\\Dell User\\anaconda3\\envs\\proyectos\\lib\\site-packages\\urllib3\\connectionpool.py:1013: InsecureRequestWarning: Unverified HTTPS request is being made to host 'www.techtudo.com.br'. Adding certificate verification is strongly advised. See: https://urllib3.readthedocs.io/en/1.26.x/advanced-usage.html#ssl-warnings\n",
      "  warnings.warn(\n",
      "C:\\Users\\Dell User\\anaconda3\\envs\\proyectos\\lib\\site-packages\\urllib3\\connectionpool.py:1013: InsecureRequestWarning: Unverified HTTPS request is being made to host 'epocanegocios.globo.com'. Adding certificate verification is strongly advised. See: https://urllib3.readthedocs.io/en/1.26.x/advanced-usage.html#ssl-warnings\n",
      "  warnings.warn(\n"
     ]
    },
    {
     "name": "stdout",
     "output_type": "stream",
     "text": [
      "https://epocanegocios.globo.com/Tecnologia/noticia/2021/07/americanos-poderao-consertar-seus-proprios-iphones-se-depender-de-joe-biden.html\n"
     ]
    },
    {
     "name": "stderr",
     "output_type": "stream",
     "text": [
      "C:\\Users\\Dell User\\anaconda3\\envs\\proyectos\\lib\\site-packages\\urllib3\\connectionpool.py:1013: InsecureRequestWarning: Unverified HTTPS request is being made to host 'epocanegocios.globo.com'. Adding certificate verification is strongly advised. See: https://urllib3.readthedocs.io/en/1.26.x/advanced-usage.html#ssl-warnings\n",
      "  warnings.warn(\n",
      "C:\\Users\\Dell User\\anaconda3\\envs\\proyectos\\lib\\site-packages\\urllib3\\connectionpool.py:1013: InsecureRequestWarning: Unverified HTTPS request is being made to host 'noticias.uol.com.br'. Adding certificate verification is strongly advised. See: https://urllib3.readthedocs.io/en/1.26.x/advanced-usage.html#ssl-warnings\n",
      "  warnings.warn(\n"
     ]
    },
    {
     "name": "stdout",
     "output_type": "stream",
     "text": [
      "https://noticias.uol.com.br/ultimas-noticias/rfi/2021/07/08/talibas-tem-forca-e-querem-voltar-ao-poder-no-afeganistao-avalia-especialista.htm\n"
     ]
    },
    {
     "name": "stderr",
     "output_type": "stream",
     "text": [
      "C:\\Users\\Dell User\\anaconda3\\envs\\proyectos\\lib\\site-packages\\urllib3\\connectionpool.py:1013: InsecureRequestWarning: Unverified HTTPS request is being made to host 'noticias.uol.com.br'. Adding certificate verification is strongly advised. See: https://urllib3.readthedocs.io/en/1.26.x/advanced-usage.html#ssl-warnings\n",
      "  warnings.warn(\n",
      "C:\\Users\\Dell User\\anaconda3\\envs\\proyectos\\lib\\site-packages\\urllib3\\connectionpool.py:1013: InsecureRequestWarning: Unverified HTTPS request is being made to host 'www.techtudo.com.br'. Adding certificate verification is strongly advised. See: https://urllib3.readthedocs.io/en/1.26.x/advanced-usage.html#ssl-warnings\n",
      "  warnings.warn(\n"
     ]
    },
    {
     "name": "stdout",
     "output_type": "stream",
     "text": [
      "https://www.techtudo.com.br/listas/2021/07/mojang-studios-cinco-jogos-da-criadora-de-minecraft-para-conhecer.ghtml\n"
     ]
    },
    {
     "name": "stderr",
     "output_type": "stream",
     "text": [
      "C:\\Users\\Dell User\\anaconda3\\envs\\proyectos\\lib\\site-packages\\urllib3\\connectionpool.py:1013: InsecureRequestWarning: Unverified HTTPS request is being made to host 'www.techtudo.com.br'. Adding certificate verification is strongly advised. See: https://urllib3.readthedocs.io/en/1.26.x/advanced-usage.html#ssl-warnings\n",
      "  warnings.warn(\n",
      "C:\\Users\\Dell User\\anaconda3\\envs\\proyectos\\lib\\site-packages\\urllib3\\connectionpool.py:1013: InsecureRequestWarning: Unverified HTTPS request is being made to host 'www.techtudo.com.br'. Adding certificate verification is strongly advised. See: https://urllib3.readthedocs.io/en/1.26.x/advanced-usage.html#ssl-warnings\n",
      "  warnings.warn(\n"
     ]
    },
    {
     "name": "stdout",
     "output_type": "stream",
     "text": [
      "https://www.techtudo.com.br/dicas-e-tutoriais/2021/07/como-rotear-internet-do-celular.ghtml\n"
     ]
    },
    {
     "name": "stderr",
     "output_type": "stream",
     "text": [
      "C:\\Users\\Dell User\\anaconda3\\envs\\proyectos\\lib\\site-packages\\urllib3\\connectionpool.py:1013: InsecureRequestWarning: Unverified HTTPS request is being made to host 'www.techtudo.com.br'. Adding certificate verification is strongly advised. See: https://urllib3.readthedocs.io/en/1.26.x/advanced-usage.html#ssl-warnings\n",
      "  warnings.warn(\n",
      "C:\\Users\\Dell User\\anaconda3\\envs\\proyectos\\lib\\site-packages\\urllib3\\connectionpool.py:1013: InsecureRequestWarning: Unverified HTTPS request is being made to host 'revistapegn.globo.com'. Adding certificate verification is strongly advised. See: https://urllib3.readthedocs.io/en/1.26.x/advanced-usage.html#ssl-warnings\n",
      "  warnings.warn(\n"
     ]
    },
    {
     "name": "stdout",
     "output_type": "stream",
     "text": [
      "https://revistapegn.globo.com/Banco-de-ideias/Diversao-e-turismo/noticia/2021/07/por-tras-da-diversao-serie-conta-bastidores-de-atracoes-da-disney-na-florida-e-na-california.html\n"
     ]
    },
    {
     "name": "stderr",
     "output_type": "stream",
     "text": [
      "C:\\Users\\Dell User\\anaconda3\\envs\\proyectos\\lib\\site-packages\\urllib3\\connectionpool.py:1013: InsecureRequestWarning: Unverified HTTPS request is being made to host 'revistapegn.globo.com'. Adding certificate verification is strongly advised. See: https://urllib3.readthedocs.io/en/1.26.x/advanced-usage.html#ssl-warnings\n",
      "  warnings.warn(\n",
      "C:\\Users\\Dell User\\anaconda3\\envs\\proyectos\\lib\\site-packages\\urllib3\\connectionpool.py:1013: InsecureRequestWarning: Unverified HTTPS request is being made to host 'www.ambito.com'. Adding certificate verification is strongly advised. See: https://urllib3.readthedocs.io/en/1.26.x/advanced-usage.html#ssl-warnings\n",
      "  warnings.warn(\n",
      "C:\\Users\\Dell User\\anaconda3\\envs\\proyectos\\lib\\site-packages\\urllib3\\connectionpool.py:1013: InsecureRequestWarning: Unverified HTTPS request is being made to host 'www.ambito.com'. Adding certificate verification is strongly advised. See: https://urllib3.readthedocs.io/en/1.26.x/advanced-usage.html#ssl-warnings\n",
      "  warnings.warn(\n"
     ]
    },
    {
     "name": "stdout",
     "output_type": "stream",
     "text": [
      "https://www.ambito.com/finanzas/wall-street/sp-500-y-nasdaq-cayeron-presionados-acciones-tecnologicas-y-energeticas-n5223672\n"
     ]
    },
    {
     "name": "stderr",
     "output_type": "stream",
     "text": [
      "C:\\Users\\Dell User\\anaconda3\\envs\\proyectos\\lib\\site-packages\\urllib3\\connectionpool.py:1013: InsecureRequestWarning: Unverified HTTPS request is being made to host 'www.ambito.com'. Adding certificate verification is strongly advised. See: https://urllib3.readthedocs.io/en/1.26.x/advanced-usage.html#ssl-warnings\n",
      "  warnings.warn(\n",
      "C:\\Users\\Dell User\\anaconda3\\envs\\proyectos\\lib\\site-packages\\urllib3\\connectionpool.py:1013: InsecureRequestWarning: Unverified HTTPS request is being made to host 'www.ambito.com'. Adding certificate verification is strongly advised. See: https://urllib3.readthedocs.io/en/1.26.x/advanced-usage.html#ssl-warnings\n",
      "  warnings.warn(\n",
      "C:\\Users\\Dell User\\anaconda3\\envs\\proyectos\\lib\\site-packages\\urllib3\\connectionpool.py:1013: InsecureRequestWarning: Unverified HTTPS request is being made to host 'www.ambito.com'. Adding certificate verification is strongly advised. See: https://urllib3.readthedocs.io/en/1.26.x/advanced-usage.html#ssl-warnings\n",
      "  warnings.warn(\n"
     ]
    },
    {
     "name": "stdout",
     "output_type": "stream",
     "text": [
      "https://www.ambito.com/informacion-general/whatsapp/multidispositivo-como-es-la-nueva-funcion-que-te-permite-usarlo-el-celular-apagado-n5231134\n"
     ]
    },
    {
     "name": "stderr",
     "output_type": "stream",
     "text": [
      "C:\\Users\\Dell User\\anaconda3\\envs\\proyectos\\lib\\site-packages\\urllib3\\connectionpool.py:1013: InsecureRequestWarning: Unverified HTTPS request is being made to host 'www.ambito.com'. Adding certificate verification is strongly advised. See: https://urllib3.readthedocs.io/en/1.26.x/advanced-usage.html#ssl-warnings\n",
      "  warnings.warn(\n",
      "C:\\Users\\Dell User\\anaconda3\\envs\\proyectos\\lib\\site-packages\\urllib3\\connectionpool.py:1013: InsecureRequestWarning: Unverified HTTPS request is being made to host 'www.techtudo.com.br'. Adding certificate verification is strongly advised. See: https://urllib3.readthedocs.io/en/1.26.x/advanced-usage.html#ssl-warnings\n",
      "  warnings.warn(\n"
     ]
    },
    {
     "name": "stdout",
     "output_type": "stream",
     "text": [
      "https://www.techtudo.com.br/noticias/2021/07/huawei-freebuds-4i-e-novo-fone-bluetooth-da-marca-no-brasil-veja-preco.ghtml\n"
     ]
    },
    {
     "name": "stderr",
     "output_type": "stream",
     "text": [
      "C:\\Users\\Dell User\\anaconda3\\envs\\proyectos\\lib\\site-packages\\urllib3\\connectionpool.py:1013: InsecureRequestWarning: Unverified HTTPS request is being made to host 'www.techtudo.com.br'. Adding certificate verification is strongly advised. See: https://urllib3.readthedocs.io/en/1.26.x/advanced-usage.html#ssl-warnings\n",
      "  warnings.warn(\n",
      "C:\\Users\\Dell User\\anaconda3\\envs\\proyectos\\lib\\site-packages\\urllib3\\connectionpool.py:1013: InsecureRequestWarning: Unverified HTTPS request is being made to host 'www.techtudo.com.br'. Adding certificate verification is strongly advised. See: https://urllib3.readthedocs.io/en/1.26.x/advanced-usage.html#ssl-warnings\n",
      "  warnings.warn(\n"
     ]
    },
    {
     "name": "stdout",
     "output_type": "stream",
     "text": [
      "https://www.techtudo.com.br/noticias/2021/07/esim-vivo-o-que-e-e-como-solicitar.ghtml\n"
     ]
    },
    {
     "name": "stderr",
     "output_type": "stream",
     "text": [
      "C:\\Users\\Dell User\\anaconda3\\envs\\proyectos\\lib\\site-packages\\urllib3\\connectionpool.py:1013: InsecureRequestWarning: Unverified HTTPS request is being made to host 'www.techtudo.com.br'. Adding certificate verification is strongly advised. See: https://urllib3.readthedocs.io/en/1.26.x/advanced-usage.html#ssl-warnings\n",
      "  warnings.warn(\n",
      "C:\\Users\\Dell User\\anaconda3\\envs\\proyectos\\lib\\site-packages\\urllib3\\connectionpool.py:1013: InsecureRequestWarning: Unverified HTTPS request is being made to host 'www.techtudo.com.br'. Adding certificate verification is strongly advised. See: https://urllib3.readthedocs.io/en/1.26.x/advanced-usage.html#ssl-warnings\n",
      "  warnings.warn(\n"
     ]
    },
    {
     "name": "stdout",
     "output_type": "stream",
     "text": [
      "https://www.techtudo.com.br/noticias/2021/07/smartwatch-de-super-mario-custa-r-11-mil-e-homenageia-nintendo.ghtml\n"
     ]
    },
    {
     "name": "stderr",
     "output_type": "stream",
     "text": [
      "C:\\Users\\Dell User\\anaconda3\\envs\\proyectos\\lib\\site-packages\\urllib3\\connectionpool.py:1013: InsecureRequestWarning: Unverified HTTPS request is being made to host 'www.techtudo.com.br'. Adding certificate verification is strongly advised. See: https://urllib3.readthedocs.io/en/1.26.x/advanced-usage.html#ssl-warnings\n",
      "  warnings.warn(\n",
      "C:\\Users\\Dell User\\anaconda3\\envs\\proyectos\\lib\\site-packages\\urllib3\\connectionpool.py:1013: InsecureRequestWarning: Unverified HTTPS request is being made to host 'epocanegocios.globo.com'. Adding certificate verification is strongly advised. See: https://urllib3.readthedocs.io/en/1.26.x/advanced-usage.html#ssl-warnings\n",
      "  warnings.warn(\n"
     ]
    },
    {
     "name": "stdout",
     "output_type": "stream",
     "text": [
      "https://epocanegocios.globo.com/Mercado/noticia/2021/07/aposta-da-netflix-em-videogames-vai-exigir-tempo-e-dinheiro-dizem-analistas.html\n"
     ]
    },
    {
     "name": "stderr",
     "output_type": "stream",
     "text": [
      "C:\\Users\\Dell User\\anaconda3\\envs\\proyectos\\lib\\site-packages\\urllib3\\connectionpool.py:1013: InsecureRequestWarning: Unverified HTTPS request is being made to host 'epocanegocios.globo.com'. Adding certificate verification is strongly advised. See: https://urllib3.readthedocs.io/en/1.26.x/advanced-usage.html#ssl-warnings\n",
      "  warnings.warn(\n",
      "C:\\Users\\Dell User\\anaconda3\\envs\\proyectos\\lib\\site-packages\\urllib3\\connectionpool.py:1013: InsecureRequestWarning: Unverified HTTPS request is being made to host 'www.metro.pr'. Adding certificate verification is strongly advised. See: https://urllib3.readthedocs.io/en/1.26.x/advanced-usage.html#ssl-warnings\n",
      "  warnings.warn(\n"
     ]
    },
    {
     "name": "stdout",
     "output_type": "stream",
     "text": [
      "https://www.metro.pr/pr/entretenimiento/2021/07/15/jennifer-lopez-habla-sobre-ruptura-con-alex-rodriguez-la-felicidad-empieza-en-mi.html\n"
     ]
    },
    {
     "name": "stderr",
     "output_type": "stream",
     "text": [
      "C:\\Users\\Dell User\\anaconda3\\envs\\proyectos\\lib\\site-packages\\urllib3\\connectionpool.py:1013: InsecureRequestWarning: Unverified HTTPS request is being made to host 'www.metro.pr'. Adding certificate verification is strongly advised. See: https://urllib3.readthedocs.io/en/1.26.x/advanced-usage.html#ssl-warnings\n",
      "  warnings.warn(\n",
      "C:\\Users\\Dell User\\anaconda3\\envs\\proyectos\\lib\\site-packages\\urllib3\\connectionpool.py:1013: InsecureRequestWarning: Unverified HTTPS request is being made to host 'www.techtudo.com.br'. Adding certificate verification is strongly advised. See: https://urllib3.readthedocs.io/en/1.26.x/advanced-usage.html#ssl-warnings\n",
      "  warnings.warn(\n"
     ]
    },
    {
     "name": "stdout",
     "output_type": "stream",
     "text": [
      "https://www.techtudo.com.br/listas/2021/07/memoria-ram-8-gb-veja-oito-modelos-para-comprar-por-a-partir-de-r-289.ghtml\n"
     ]
    },
    {
     "name": "stderr",
     "output_type": "stream",
     "text": [
      "C:\\Users\\Dell User\\anaconda3\\envs\\proyectos\\lib\\site-packages\\urllib3\\connectionpool.py:1013: InsecureRequestWarning: Unverified HTTPS request is being made to host 'www.techtudo.com.br'. Adding certificate verification is strongly advised. See: https://urllib3.readthedocs.io/en/1.26.x/advanced-usage.html#ssl-warnings\n",
      "  warnings.warn(\n",
      "C:\\Users\\Dell User\\anaconda3\\envs\\proyectos\\lib\\site-packages\\urllib3\\connectionpool.py:1013: InsecureRequestWarning: Unverified HTTPS request is being made to host 'www.techtudo.com.br'. Adding certificate verification is strongly advised. See: https://urllib3.readthedocs.io/en/1.26.x/advanced-usage.html#ssl-warnings\n",
      "  warnings.warn(\n"
     ]
    },
    {
     "name": "stdout",
     "output_type": "stream",
     "text": [
      "https://www.techtudo.com.br/listas/2021/07/celular-para-jogar-free-fire-veja-sete-smartphones-para-comprar.ghtml\n"
     ]
    },
    {
     "name": "stderr",
     "output_type": "stream",
     "text": [
      "C:\\Users\\Dell User\\anaconda3\\envs\\proyectos\\lib\\site-packages\\urllib3\\connectionpool.py:1013: InsecureRequestWarning: Unverified HTTPS request is being made to host 'www.techtudo.com.br'. Adding certificate verification is strongly advised. See: https://urllib3.readthedocs.io/en/1.26.x/advanced-usage.html#ssl-warnings\n",
      "  warnings.warn(\n",
      "C:\\Users\\Dell User\\anaconda3\\envs\\proyectos\\lib\\site-packages\\urllib3\\connectionpool.py:1013: InsecureRequestWarning: Unverified HTTPS request is being made to host 'noticias.uol.com.br'. Adding certificate verification is strongly advised. See: https://urllib3.readthedocs.io/en/1.26.x/advanced-usage.html#ssl-warnings\n",
      "  warnings.warn(\n"
     ]
    },
    {
     "name": "stdout",
     "output_type": "stream",
     "text": [
      "https://noticias.uol.com.br/colunas/juliana-dal-piva/2021/07/06/marcia-aguiar-fabricio-queiroz-vao-matar-rachadinha.htm\n"
     ]
    },
    {
     "name": "stderr",
     "output_type": "stream",
     "text": [
      "C:\\Users\\Dell User\\anaconda3\\envs\\proyectos\\lib\\site-packages\\urllib3\\connectionpool.py:1013: InsecureRequestWarning: Unverified HTTPS request is being made to host 'noticias.uol.com.br'. Adding certificate verification is strongly advised. See: https://urllib3.readthedocs.io/en/1.26.x/advanced-usage.html#ssl-warnings\n",
      "  warnings.warn(\n",
      "C:\\Users\\Dell User\\anaconda3\\envs\\proyectos\\lib\\site-packages\\urllib3\\connectionpool.py:1013: InsecureRequestWarning: Unverified HTTPS request is being made to host 'www.ambito.com'. Adding certificate verification is strongly advised. See: https://urllib3.readthedocs.io/en/1.26.x/advanced-usage.html#ssl-warnings\n",
      "  warnings.warn(\n",
      "C:\\Users\\Dell User\\anaconda3\\envs\\proyectos\\lib\\site-packages\\urllib3\\connectionpool.py:1013: InsecureRequestWarning: Unverified HTTPS request is being made to host 'www.ambito.com'. Adding certificate verification is strongly advised. See: https://urllib3.readthedocs.io/en/1.26.x/advanced-usage.html#ssl-warnings\n",
      "  warnings.warn(\n"
     ]
    },
    {
     "name": "stdout",
     "output_type": "stream",
     "text": [
      "https://www.ambito.com/finanzas/dow-jones/wall-street-marco-nuevos-records-la-mano-robustas-ganancias-empresariales-n5236601\n"
     ]
    },
    {
     "name": "stderr",
     "output_type": "stream",
     "text": [
      "C:\\Users\\Dell User\\anaconda3\\envs\\proyectos\\lib\\site-packages\\urllib3\\connectionpool.py:1013: InsecureRequestWarning: Unverified HTTPS request is being made to host 'www.ambito.com'. Adding certificate verification is strongly advised. See: https://urllib3.readthedocs.io/en/1.26.x/advanced-usage.html#ssl-warnings\n",
      "  warnings.warn(\n",
      "C:\\Users\\Dell User\\anaconda3\\envs\\proyectos\\lib\\site-packages\\urllib3\\connectionpool.py:1013: InsecureRequestWarning: Unverified HTTPS request is being made to host 'www.ambito.com'. Adding certificate verification is strongly advised. See: https://urllib3.readthedocs.io/en/1.26.x/advanced-usage.html#ssl-warnings\n",
      "  warnings.warn(\n",
      "C:\\Users\\Dell User\\anaconda3\\envs\\proyectos\\lib\\site-packages\\urllib3\\connectionpool.py:1013: InsecureRequestWarning: Unverified HTTPS request is being made to host 'brasil.estadao.com.br'. Adding certificate verification is strongly advised. See: https://urllib3.readthedocs.io/en/1.26.x/advanced-usage.html#ssl-warnings\n",
      "  warnings.warn(\n"
     ]
    },
    {
     "name": "stdout",
     "output_type": "stream",
     "text": [
      "https://brasil.estadao.com.br/blogs/estadao-podcasts/pec-pazuello-congresso-vai-conseguir-barrar-militares-no-governo-ouca-no-estadao-noticias/\n"
     ]
    },
    {
     "name": "stderr",
     "output_type": "stream",
     "text": [
      "C:\\Users\\Dell User\\anaconda3\\envs\\proyectos\\lib\\site-packages\\urllib3\\connectionpool.py:1013: InsecureRequestWarning: Unverified HTTPS request is being made to host 'brasil.estadao.com.br'. Adding certificate verification is strongly advised. See: https://urllib3.readthedocs.io/en/1.26.x/advanced-usage.html#ssl-warnings\n",
      "  warnings.warn(\n",
      "C:\\Users\\Dell User\\anaconda3\\envs\\proyectos\\lib\\site-packages\\urllib3\\connectionpool.py:1013: InsecureRequestWarning: Unverified HTTPS request is being made to host 'noticias.uol.com.br'. Adding certificate verification is strongly advised. See: https://urllib3.readthedocs.io/en/1.26.x/advanced-usage.html#ssl-warnings\n",
      "  warnings.warn(\n"
     ]
    },
    {
     "name": "stdout",
     "output_type": "stream",
     "text": [
      "https://noticias.uol.com.br/ultimas-noticias/rfi/2021/07/10/g20-aprova-acordo-sobre-tributacao-das-multinacionais.htm\n"
     ]
    },
    {
     "name": "stderr",
     "output_type": "stream",
     "text": [
      "C:\\Users\\Dell User\\anaconda3\\envs\\proyectos\\lib\\site-packages\\urllib3\\connectionpool.py:1013: InsecureRequestWarning: Unverified HTTPS request is being made to host 'noticias.uol.com.br'. Adding certificate verification is strongly advised. See: https://urllib3.readthedocs.io/en/1.26.x/advanced-usage.html#ssl-warnings\n",
      "  warnings.warn(\n",
      "C:\\Users\\Dell User\\anaconda3\\envs\\proyectos\\lib\\site-packages\\urllib3\\connectionpool.py:1013: InsecureRequestWarning: Unverified HTTPS request is being made to host 'www.techtudo.com.br'. Adding certificate verification is strongly advised. See: https://urllib3.readthedocs.io/en/1.26.x/advanced-usage.html#ssl-warnings\n",
      "  warnings.warn(\n"
     ]
    },
    {
     "name": "stdout",
     "output_type": "stream",
     "text": [
      "https://www.techtudo.com.br/noticias/2021/07/apple-causa-polemica-ao-iphone-associar-emoji-de-cara-tonta-a-gagueira.ghtml\n"
     ]
    },
    {
     "name": "stderr",
     "output_type": "stream",
     "text": [
      "C:\\Users\\Dell User\\anaconda3\\envs\\proyectos\\lib\\site-packages\\urllib3\\connectionpool.py:1013: InsecureRequestWarning: Unverified HTTPS request is being made to host 'www.techtudo.com.br'. Adding certificate verification is strongly advised. See: https://urllib3.readthedocs.io/en/1.26.x/advanced-usage.html#ssl-warnings\n",
      "  warnings.warn(\n",
      "C:\\Users\\Dell User\\anaconda3\\envs\\proyectos\\lib\\site-packages\\urllib3\\connectionpool.py:1013: InsecureRequestWarning: Unverified HTTPS request is being made to host 'www.techtudo.com.br'. Adding certificate verification is strongly advised. See: https://urllib3.readthedocs.io/en/1.26.x/advanced-usage.html#ssl-warnings\n",
      "  warnings.warn(\n"
     ]
    },
    {
     "name": "stdout",
     "output_type": "stream",
     "text": [
      "https://www.techtudo.com.br/listas/2021/07/mouse-multilaser-veja-sete-modelos-para-comprar-no-brasil-em-2021.ghtml\n"
     ]
    },
    {
     "name": "stderr",
     "output_type": "stream",
     "text": [
      "C:\\Users\\Dell User\\anaconda3\\envs\\proyectos\\lib\\site-packages\\urllib3\\connectionpool.py:1013: InsecureRequestWarning: Unverified HTTPS request is being made to host 'www.techtudo.com.br'. Adding certificate verification is strongly advised. See: https://urllib3.readthedocs.io/en/1.26.x/advanced-usage.html#ssl-warnings\n",
      "  warnings.warn(\n",
      "C:\\Users\\Dell User\\anaconda3\\envs\\proyectos\\lib\\site-packages\\urllib3\\connectionpool.py:1013: InsecureRequestWarning: Unverified HTTPS request is being made to host 'noticias.uol.com.br'. Adding certificate verification is strongly advised. See: https://urllib3.readthedocs.io/en/1.26.x/advanced-usage.html#ssl-warnings\n",
      "  warnings.warn(\n"
     ]
    },
    {
     "name": "stdout",
     "output_type": "stream",
     "text": [
      "https://noticias.uol.com.br/videos/2021/07/07/segundo-casamento-de-bolsonaro-e-a-origem-do-esquema-de-devolucao-de-salario.htm\n"
     ]
    },
    {
     "name": "stderr",
     "output_type": "stream",
     "text": [
      "C:\\Users\\Dell User\\anaconda3\\envs\\proyectos\\lib\\site-packages\\urllib3\\connectionpool.py:1013: InsecureRequestWarning: Unverified HTTPS request is being made to host 'noticias.uol.com.br'. Adding certificate verification is strongly advised. See: https://urllib3.readthedocs.io/en/1.26.x/advanced-usage.html#ssl-warnings\n",
      "  warnings.warn(\n",
      "C:\\Users\\Dell User\\anaconda3\\envs\\proyectos\\lib\\site-packages\\urllib3\\connectionpool.py:1013: InsecureRequestWarning: Unverified HTTPS request is being made to host 'www.ambito.com'. Adding certificate verification is strongly advised. See: https://urllib3.readthedocs.io/en/1.26.x/advanced-usage.html#ssl-warnings\n",
      "  warnings.warn(\n"
     ]
    },
    {
     "name": "stdout",
     "output_type": "stream",
     "text": [
      "https://www.ambito.com/informacion-general/compras/de-facebook-twitter-grandes-tecnologicas-consideran-que-el-comercio-social-impulsa-sus-ventas-n5236275\n"
     ]
    },
    {
     "name": "stderr",
     "output_type": "stream",
     "text": [
      "C:\\Users\\Dell User\\anaconda3\\envs\\proyectos\\lib\\site-packages\\urllib3\\connectionpool.py:1013: InsecureRequestWarning: Unverified HTTPS request is being made to host 'www.ambito.com'. Adding certificate verification is strongly advised. See: https://urllib3.readthedocs.io/en/1.26.x/advanced-usage.html#ssl-warnings\n",
      "  warnings.warn(\n",
      "C:\\Users\\Dell User\\anaconda3\\envs\\proyectos\\lib\\site-packages\\urllib3\\connectionpool.py:1013: InsecureRequestWarning: Unverified HTTPS request is being made to host 'www.techtudo.com.br'. Adding certificate verification is strongly advised. See: https://urllib3.readthedocs.io/en/1.26.x/advanced-usage.html#ssl-warnings\n",
      "  warnings.warn(\n"
     ]
    },
    {
     "name": "stdout",
     "output_type": "stream",
     "text": [
      "https://www.techtudo.com.br/listas/2021/07/quer-um-fone-gamer-saiba-o-que-considerar-na-hora-de-comprar.ghtml\n"
     ]
    },
    {
     "name": "stderr",
     "output_type": "stream",
     "text": [
      "C:\\Users\\Dell User\\anaconda3\\envs\\proyectos\\lib\\site-packages\\urllib3\\connectionpool.py:1013: InsecureRequestWarning: Unverified HTTPS request is being made to host 'www.techtudo.com.br'. Adding certificate verification is strongly advised. See: https://urllib3.readthedocs.io/en/1.26.x/advanced-usage.html#ssl-warnings\n",
      "  warnings.warn(\n",
      "C:\\Users\\Dell User\\anaconda3\\envs\\proyectos\\lib\\site-packages\\urllib3\\connectionpool.py:1013: InsecureRequestWarning: Unverified HTTPS request is being made to host 'www.techtudo.com.br'. Adding certificate verification is strongly advised. See: https://urllib3.readthedocs.io/en/1.26.x/advanced-usage.html#ssl-warnings\n",
      "  warnings.warn(\n"
     ]
    },
    {
     "name": "stdout",
     "output_type": "stream",
     "text": [
      "https://www.techtudo.com.br/listas/2021/07/transporte-sustentavel-seis-programas-para-trocar-o-carro-por-bicicleta.ghtml\n"
     ]
    },
    {
     "name": "stderr",
     "output_type": "stream",
     "text": [
      "C:\\Users\\Dell User\\anaconda3\\envs\\proyectos\\lib\\site-packages\\urllib3\\connectionpool.py:1013: InsecureRequestWarning: Unverified HTTPS request is being made to host 'www.techtudo.com.br'. Adding certificate verification is strongly advised. See: https://urllib3.readthedocs.io/en/1.26.x/advanced-usage.html#ssl-warnings\n",
      "  warnings.warn(\n",
      "C:\\Users\\Dell User\\anaconda3\\envs\\proyectos\\lib\\site-packages\\urllib3\\connectionpool.py:1013: InsecureRequestWarning: Unverified HTTPS request is being made to host 'www.techtudo.com.br'. Adding certificate verification is strongly advised. See: https://urllib3.readthedocs.io/en/1.26.x/advanced-usage.html#ssl-warnings\n",
      "  warnings.warn(\n"
     ]
    },
    {
     "name": "stdout",
     "output_type": "stream",
     "text": [
      "https://www.techtudo.com.br/dicas-e-tutoriais/2021/07/olimpiada-ao-vivo-como-assistir-aos-jogos-de-toquio-2020-online.ghtml\n"
     ]
    },
    {
     "name": "stderr",
     "output_type": "stream",
     "text": [
      "C:\\Users\\Dell User\\anaconda3\\envs\\proyectos\\lib\\site-packages\\urllib3\\connectionpool.py:1013: InsecureRequestWarning: Unverified HTTPS request is being made to host 'www.techtudo.com.br'. Adding certificate verification is strongly advised. See: https://urllib3.readthedocs.io/en/1.26.x/advanced-usage.html#ssl-warnings\n",
      "  warnings.warn(\n",
      "C:\\Users\\Dell User\\anaconda3\\envs\\proyectos\\lib\\site-packages\\urllib3\\connectionpool.py:1013: InsecureRequestWarning: Unverified HTTPS request is being made to host 'www.techtudo.com.br'. Adding certificate verification is strongly advised. See: https://urllib3.readthedocs.io/en/1.26.x/advanced-usage.html#ssl-warnings\n",
      "  warnings.warn(\n"
     ]
    },
    {
     "name": "stdout",
     "output_type": "stream",
     "text": [
      "https://www.techtudo.com.br/noticias/2021/07/tp-link-lanca-novo-roteador-wi-fi-mesh-no-brasil-com-250-m-de-cobertura.ghtml\n"
     ]
    },
    {
     "name": "stderr",
     "output_type": "stream",
     "text": [
      "C:\\Users\\Dell User\\anaconda3\\envs\\proyectos\\lib\\site-packages\\urllib3\\connectionpool.py:1013: InsecureRequestWarning: Unverified HTTPS request is being made to host 'www.techtudo.com.br'. Adding certificate verification is strongly advised. See: https://urllib3.readthedocs.io/en/1.26.x/advanced-usage.html#ssl-warnings\n",
      "  warnings.warn(\n",
      "C:\\Users\\Dell User\\anaconda3\\envs\\proyectos\\lib\\site-packages\\urllib3\\connectionpool.py:1013: InsecureRequestWarning: Unverified HTTPS request is being made to host 'www.techtudo.com.br'. Adding certificate verification is strongly advised. See: https://urllib3.readthedocs.io/en/1.26.x/advanced-usage.html#ssl-warnings\n",
      "  warnings.warn(\n"
     ]
    },
    {
     "name": "stdout",
     "output_type": "stream",
     "text": [
      "https://www.techtudo.com.br/noticias/2021/07/sucesso-de-airtag-e-apple-watch-fara-apple-chegar-a-us-25-trilhao.ghtml\n"
     ]
    },
    {
     "name": "stderr",
     "output_type": "stream",
     "text": [
      "C:\\Users\\Dell User\\anaconda3\\envs\\proyectos\\lib\\site-packages\\urllib3\\connectionpool.py:1013: InsecureRequestWarning: Unverified HTTPS request is being made to host 'www.techtudo.com.br'. Adding certificate verification is strongly advised. See: https://urllib3.readthedocs.io/en/1.26.x/advanced-usage.html#ssl-warnings\n",
      "  warnings.warn(\n",
      "C:\\Users\\Dell User\\anaconda3\\envs\\proyectos\\lib\\site-packages\\urllib3\\connectionpool.py:1013: InsecureRequestWarning: Unverified HTTPS request is being made to host 'www.techtudo.com.br'. Adding certificate verification is strongly advised. See: https://urllib3.readthedocs.io/en/1.26.x/advanced-usage.html#ssl-warnings\n",
      "  warnings.warn(\n"
     ]
    },
    {
     "name": "stdout",
     "output_type": "stream",
     "text": [
      "https://www.techtudo.com.br/dicas-e-tutoriais/2021/07/google-meet-ganha-mascaras-e-efeitos-saiba-como-colocar-filtro-no-meet.ghtml\n"
     ]
    },
    {
     "name": "stderr",
     "output_type": "stream",
     "text": [
      "C:\\Users\\Dell User\\anaconda3\\envs\\proyectos\\lib\\site-packages\\urllib3\\connectionpool.py:1013: InsecureRequestWarning: Unverified HTTPS request is being made to host 'www.techtudo.com.br'. Adding certificate verification is strongly advised. See: https://urllib3.readthedocs.io/en/1.26.x/advanced-usage.html#ssl-warnings\n",
      "  warnings.warn(\n",
      "C:\\Users\\Dell User\\anaconda3\\envs\\proyectos\\lib\\site-packages\\urllib3\\connectionpool.py:1013: InsecureRequestWarning: Unverified HTTPS request is being made to host 'epocanegocios.globo.com'. Adding certificate verification is strongly advised. See: https://urllib3.readthedocs.io/en/1.26.x/advanced-usage.html#ssl-warnings\n",
      "  warnings.warn(\n"
     ]
    },
    {
     "name": "stdout",
     "output_type": "stream",
     "text": [
      "https://epocanegocios.globo.com/Carreira/noticia/2021/07/os-funcionarios-que-relutam-em-abrir-mao-do-home-office.html\n"
     ]
    },
    {
     "name": "stderr",
     "output_type": "stream",
     "text": [
      "C:\\Users\\Dell User\\anaconda3\\envs\\proyectos\\lib\\site-packages\\urllib3\\connectionpool.py:1013: InsecureRequestWarning: Unverified HTTPS request is being made to host 'epocanegocios.globo.com'. Adding certificate verification is strongly advised. See: https://urllib3.readthedocs.io/en/1.26.x/advanced-usage.html#ssl-warnings\n",
      "  warnings.warn(\n",
      "C:\\Users\\Dell User\\anaconda3\\envs\\proyectos\\lib\\site-packages\\urllib3\\connectionpool.py:1013: InsecureRequestWarning: Unverified HTTPS request is being made to host 'epocanegocios.globo.com'. Adding certificate verification is strongly advised. See: https://urllib3.readthedocs.io/en/1.26.x/advanced-usage.html#ssl-warnings\n",
      "  warnings.warn(\n"
     ]
    },
    {
     "name": "stdout",
     "output_type": "stream",
     "text": [
      "https://epocanegocios.globo.com/Tecnologia/noticia/2021/07/epoca-negocios-microsoft-vai-lancar-versao-do-windows-baseada-em-nuvem.html\n"
     ]
    },
    {
     "name": "stderr",
     "output_type": "stream",
     "text": [
      "C:\\Users\\Dell User\\anaconda3\\envs\\proyectos\\lib\\site-packages\\urllib3\\connectionpool.py:1013: InsecureRequestWarning: Unverified HTTPS request is being made to host 'epocanegocios.globo.com'. Adding certificate verification is strongly advised. See: https://urllib3.readthedocs.io/en/1.26.x/advanced-usage.html#ssl-warnings\n",
      "  warnings.warn(\n",
      "C:\\Users\\Dell User\\anaconda3\\envs\\proyectos\\lib\\site-packages\\urllib3\\connectionpool.py:1013: InsecureRequestWarning: Unverified HTTPS request is being made to host 'noticias.uol.com.br'. Adding certificate verification is strongly advised. See: https://urllib3.readthedocs.io/en/1.26.x/advanced-usage.html#ssl-warnings\n",
      "  warnings.warn(\n"
     ]
    },
    {
     "name": "stdout",
     "output_type": "stream",
     "text": [
      "https://noticias.uol.com.br/ultimas-noticias/bbc/2021/07/02/o-escandalo-da-influencer-que-enganou-o-mundo-com-falso-cancer.htm\n"
     ]
    },
    {
     "name": "stderr",
     "output_type": "stream",
     "text": [
      "C:\\Users\\Dell User\\anaconda3\\envs\\proyectos\\lib\\site-packages\\urllib3\\connectionpool.py:1013: InsecureRequestWarning: Unverified HTTPS request is being made to host 'noticias.uol.com.br'. Adding certificate verification is strongly advised. See: https://urllib3.readthedocs.io/en/1.26.x/advanced-usage.html#ssl-warnings\n",
      "  warnings.warn(\n",
      "C:\\Users\\Dell User\\anaconda3\\envs\\proyectos\\lib\\site-packages\\urllib3\\connectionpool.py:1013: InsecureRequestWarning: Unverified HTTPS request is being made to host 'www.techtudo.com.br'. Adding certificate verification is strongly advised. See: https://urllib3.readthedocs.io/en/1.26.x/advanced-usage.html#ssl-warnings\n",
      "  warnings.warn(\n"
     ]
    },
    {
     "name": "stdout",
     "output_type": "stream",
     "text": [
      "https://www.techtudo.com.br/noticias/2021/07/iphone-tem-bug-que-pode-desativar-wi-fi-para-sempre.ghtml\n"
     ]
    },
    {
     "name": "stderr",
     "output_type": "stream",
     "text": [
      "C:\\Users\\Dell User\\anaconda3\\envs\\proyectos\\lib\\site-packages\\urllib3\\connectionpool.py:1013: InsecureRequestWarning: Unverified HTTPS request is being made to host 'www.techtudo.com.br'. Adding certificate verification is strongly advised. See: https://urllib3.readthedocs.io/en/1.26.x/advanced-usage.html#ssl-warnings\n",
      "  warnings.warn(\n",
      "C:\\Users\\Dell User\\anaconda3\\envs\\proyectos\\lib\\site-packages\\urllib3\\connectionpool.py:1013: InsecureRequestWarning: Unverified HTTPS request is being made to host 'www.ambito.com'. Adding certificate verification is strongly advised. See: https://urllib3.readthedocs.io/en/1.26.x/advanced-usage.html#ssl-warnings\n",
      "  warnings.warn(\n"
     ]
    },
    {
     "name": "stdout",
     "output_type": "stream",
     "text": [
      "https://www.ambito.com/autos/fiat/refresh-gama-del-lider-n5220874\n"
     ]
    },
    {
     "name": "stderr",
     "output_type": "stream",
     "text": [
      "C:\\Users\\Dell User\\anaconda3\\envs\\proyectos\\lib\\site-packages\\urllib3\\connectionpool.py:1013: InsecureRequestWarning: Unverified HTTPS request is being made to host 'www.ambito.com'. Adding certificate verification is strongly advised. See: https://urllib3.readthedocs.io/en/1.26.x/advanced-usage.html#ssl-warnings\n",
      "  warnings.warn(\n",
      "C:\\Users\\Dell User\\anaconda3\\envs\\proyectos\\lib\\site-packages\\urllib3\\connectionpool.py:1013: InsecureRequestWarning: Unverified HTTPS request is being made to host 'www.techtudo.com.br'. Adding certificate verification is strongly advised. See: https://urllib3.readthedocs.io/en/1.26.x/advanced-usage.html#ssl-warnings\n",
      "  warnings.warn(\n"
     ]
    },
    {
     "name": "stdout",
     "output_type": "stream",
     "text": [
      "https://www.techtudo.com.br/noticias/2021/07/motorola-edge-20-e-anunciado-com-5g-lite-e-pro-tambem-chegam-ao-mercado.ghtml\n"
     ]
    },
    {
     "name": "stderr",
     "output_type": "stream",
     "text": [
      "C:\\Users\\Dell User\\anaconda3\\envs\\proyectos\\lib\\site-packages\\urllib3\\connectionpool.py:1013: InsecureRequestWarning: Unverified HTTPS request is being made to host 'www.techtudo.com.br'. Adding certificate verification is strongly advised. See: https://urllib3.readthedocs.io/en/1.26.x/advanced-usage.html#ssl-warnings\n",
      "  warnings.warn(\n",
      "C:\\Users\\Dell User\\anaconda3\\envs\\proyectos\\lib\\site-packages\\urllib3\\connectionpool.py:1013: InsecureRequestWarning: Unverified HTTPS request is being made to host 'link.estadao.com.br'. Adding certificate verification is strongly advised. See: https://urllib3.readthedocs.io/en/1.26.x/advanced-usage.html#ssl-warnings\n",
      "  warnings.warn(\n"
     ]
    },
    {
     "name": "stdout",
     "output_type": "stream",
     "text": [
      "https://link.estadao.com.br/noticias/empresas,apple-atinge-lucro-de-us-21-7-bi-e-vendas-do-iphone-crescem-50,70003791506\n"
     ]
    },
    {
     "name": "stderr",
     "output_type": "stream",
     "text": [
      "C:\\Users\\Dell User\\anaconda3\\envs\\proyectos\\lib\\site-packages\\urllib3\\connectionpool.py:1013: InsecureRequestWarning: Unverified HTTPS request is being made to host 'link.estadao.com.br'. Adding certificate verification is strongly advised. See: https://urllib3.readthedocs.io/en/1.26.x/advanced-usage.html#ssl-warnings\n",
      "  warnings.warn(\n",
      "C:\\Users\\Dell User\\anaconda3\\envs\\proyectos\\lib\\site-packages\\urllib3\\connectionpool.py:1013: InsecureRequestWarning: Unverified HTTPS request is being made to host 'www.techtudo.com.br'. Adding certificate verification is strongly advised. See: https://urllib3.readthedocs.io/en/1.26.x/advanced-usage.html#ssl-warnings\n",
      "  warnings.warn(\n"
     ]
    },
    {
     "name": "stdout",
     "output_type": "stream",
     "text": [
      "https://www.techtudo.com.br/dicas-e-tutoriais/2021/07/brasil-x-tunisia-ao-vivo-onde-assistir-ao-volei-masculino-na-olimpiada.ghtml\n"
     ]
    },
    {
     "name": "stderr",
     "output_type": "stream",
     "text": [
      "C:\\Users\\Dell User\\anaconda3\\envs\\proyectos\\lib\\site-packages\\urllib3\\connectionpool.py:1013: InsecureRequestWarning: Unverified HTTPS request is being made to host 'www.techtudo.com.br'. Adding certificate verification is strongly advised. See: https://urllib3.readthedocs.io/en/1.26.x/advanced-usage.html#ssl-warnings\n",
      "  warnings.warn(\n",
      "C:\\Users\\Dell User\\anaconda3\\envs\\proyectos\\lib\\site-packages\\urllib3\\connectionpool.py:1013: InsecureRequestWarning: Unverified HTTPS request is being made to host 'www.ambito.com'. Adding certificate verification is strongly advised. See: https://urllib3.readthedocs.io/en/1.26.x/advanced-usage.html#ssl-warnings\n",
      "  warnings.warn(\n"
     ]
    },
    {
     "name": "stdout",
     "output_type": "stream",
     "text": [
      "https://www.ambito.com/finanzas/wall-street/trepo-nuevos-records-ganancias-empresariales-y-fortaleza-economica-n5230794\n"
     ]
    },
    {
     "name": "stderr",
     "output_type": "stream",
     "text": [
      "C:\\Users\\Dell User\\anaconda3\\envs\\proyectos\\lib\\site-packages\\urllib3\\connectionpool.py:1013: InsecureRequestWarning: Unverified HTTPS request is being made to host 'www.ambito.com'. Adding certificate verification is strongly advised. See: https://urllib3.readthedocs.io/en/1.26.x/advanced-usage.html#ssl-warnings\n",
      "  warnings.warn(\n",
      "C:\\Users\\Dell User\\anaconda3\\envs\\proyectos\\lib\\site-packages\\urllib3\\connectionpool.py:1013: InsecureRequestWarning: Unverified HTTPS request is being made to host 'noticias.uol.com.br'. Adding certificate verification is strongly advised. See: https://urllib3.readthedocs.io/en/1.26.x/advanced-usage.html#ssl-warnings\n",
      "  warnings.warn(\n"
     ]
    },
    {
     "name": "stdout",
     "output_type": "stream",
     "text": [
      "https://noticias.uol.com.br/ultimas-noticias/rfi/2021/07/21/fumaca-de-incendios-no-oeste-dos-eua-atravessa-pais-e-mergulham-nova-york-em-nevoeiro.htm\n"
     ]
    },
    {
     "name": "stderr",
     "output_type": "stream",
     "text": [
      "C:\\Users\\Dell User\\anaconda3\\envs\\proyectos\\lib\\site-packages\\urllib3\\connectionpool.py:1013: InsecureRequestWarning: Unverified HTTPS request is being made to host 'noticias.uol.com.br'. Adding certificate verification is strongly advised. See: https://urllib3.readthedocs.io/en/1.26.x/advanced-usage.html#ssl-warnings\n",
      "  warnings.warn(\n",
      "C:\\Users\\Dell User\\anaconda3\\envs\\proyectos\\lib\\site-packages\\urllib3\\connectionpool.py:1013: InsecureRequestWarning: Unverified HTTPS request is being made to host 'www.techtudo.com.br'. Adding certificate verification is strongly advised. See: https://urllib3.readthedocs.io/en/1.26.x/advanced-usage.html#ssl-warnings\n",
      "  warnings.warn(\n"
     ]
    },
    {
     "name": "stdout",
     "output_type": "stream",
     "text": [
      "https://www.techtudo.com.br/noticias/2021/07/yu-gi-oh-master-duel-e-anunciado-para-playstation-xbox-pc-e-celulares.ghtml\n"
     ]
    },
    {
     "name": "stderr",
     "output_type": "stream",
     "text": [
      "C:\\Users\\Dell User\\anaconda3\\envs\\proyectos\\lib\\site-packages\\urllib3\\connectionpool.py:1013: InsecureRequestWarning: Unverified HTTPS request is being made to host 'www.techtudo.com.br'. Adding certificate verification is strongly advised. See: https://urllib3.readthedocs.io/en/1.26.x/advanced-usage.html#ssl-warnings\n",
      "  warnings.warn(\n",
      "C:\\Users\\Dell User\\anaconda3\\envs\\proyectos\\lib\\site-packages\\urllib3\\connectionpool.py:1013: InsecureRequestWarning: Unverified HTTPS request is being made to host 'www.techtudo.com.br'. Adding certificate verification is strongly advised. See: https://urllib3.readthedocs.io/en/1.26.x/advanced-usage.html#ssl-warnings\n",
      "  warnings.warn(\n"
     ]
    },
    {
     "name": "stdout",
     "output_type": "stream",
     "text": [
      "https://www.techtudo.com.br/noticias/2021/07/cofundador-da-apple-declara-apoio-a-movimento-que-pede-direito-ao-reparo.ghtml\n"
     ]
    },
    {
     "name": "stderr",
     "output_type": "stream",
     "text": [
      "C:\\Users\\Dell User\\anaconda3\\envs\\proyectos\\lib\\site-packages\\urllib3\\connectionpool.py:1013: InsecureRequestWarning: Unverified HTTPS request is being made to host 'www.techtudo.com.br'. Adding certificate verification is strongly advised. See: https://urllib3.readthedocs.io/en/1.26.x/advanced-usage.html#ssl-warnings\n",
      "  warnings.warn(\n",
      "C:\\Users\\Dell User\\anaconda3\\envs\\proyectos\\lib\\site-packages\\urllib3\\connectionpool.py:1013: InsecureRequestWarning: Unverified HTTPS request is being made to host 'www.techtudo.com.br'. Adding certificate verification is strongly advised. See: https://urllib3.readthedocs.io/en/1.26.x/advanced-usage.html#ssl-warnings\n",
      "  warnings.warn(\n"
     ]
    },
    {
     "name": "stdout",
     "output_type": "stream",
     "text": [
      "https://www.techtudo.com.br/dicas-e-tutoriais/2021/07/brasil-x-estados-unidos-ao-vivo-onde-assistir-ao-volei-masculino-na-olimpiada.ghtml\n"
     ]
    },
    {
     "name": "stderr",
     "output_type": "stream",
     "text": [
      "C:\\Users\\Dell User\\anaconda3\\envs\\proyectos\\lib\\site-packages\\urllib3\\connectionpool.py:1013: InsecureRequestWarning: Unverified HTTPS request is being made to host 'www.techtudo.com.br'. Adding certificate verification is strongly advised. See: https://urllib3.readthedocs.io/en/1.26.x/advanced-usage.html#ssl-warnings\n",
      "  warnings.warn(\n",
      "C:\\Users\\Dell User\\anaconda3\\envs\\proyectos\\lib\\site-packages\\urllib3\\connectionpool.py:1013: InsecureRequestWarning: Unverified HTTPS request is being made to host 'revistapegn.globo.com'. Adding certificate verification is strongly advised. See: https://urllib3.readthedocs.io/en/1.26.x/advanced-usage.html#ssl-warnings\n",
      "  warnings.warn(\n"
     ]
    },
    {
     "name": "stdout",
     "output_type": "stream",
     "text": [
      "https://revistapegn.globo.com/Negocios/noticia/2021/07/google-exige-que-funcionarios-se-vacinem-antes-de-voltarem-seus-escritorios-nos-eua-e-no-mundo.html\n"
     ]
    },
    {
     "name": "stderr",
     "output_type": "stream",
     "text": [
      "C:\\Users\\Dell User\\anaconda3\\envs\\proyectos\\lib\\site-packages\\urllib3\\connectionpool.py:1013: InsecureRequestWarning: Unverified HTTPS request is being made to host 'revistapegn.globo.com'. Adding certificate verification is strongly advised. See: https://urllib3.readthedocs.io/en/1.26.x/advanced-usage.html#ssl-warnings\n",
      "  warnings.warn(\n",
      "C:\\Users\\Dell User\\anaconda3\\envs\\proyectos\\lib\\site-packages\\urllib3\\connectionpool.py:1013: InsecureRequestWarning: Unverified HTTPS request is being made to host 'www.techtudo.com.br'. Adding certificate verification is strongly advised. See: https://urllib3.readthedocs.io/en/1.26.x/advanced-usage.html#ssl-warnings\n",
      "  warnings.warn(\n"
     ]
    },
    {
     "name": "stdout",
     "output_type": "stream",
     "text": [
      "https://www.techtudo.com.br/dicas-e-tutoriais/2021/07/como-impulsionar-no-kwai-saiba-como-colocar-codigo-de-impulso.ghtml\n"
     ]
    },
    {
     "name": "stderr",
     "output_type": "stream",
     "text": [
      "C:\\Users\\Dell User\\anaconda3\\envs\\proyectos\\lib\\site-packages\\urllib3\\connectionpool.py:1013: InsecureRequestWarning: Unverified HTTPS request is being made to host 'www.techtudo.com.br'. Adding certificate verification is strongly advised. See: https://urllib3.readthedocs.io/en/1.26.x/advanced-usage.html#ssl-warnings\n",
      "  warnings.warn(\n",
      "C:\\Users\\Dell User\\anaconda3\\envs\\proyectos\\lib\\site-packages\\urllib3\\connectionpool.py:1013: InsecureRequestWarning: Unverified HTTPS request is being made to host 'www.techtudo.com.br'. Adding certificate verification is strongly advised. See: https://urllib3.readthedocs.io/en/1.26.x/advanced-usage.html#ssl-warnings\n",
      "  warnings.warn(\n"
     ]
    },
    {
     "name": "stdout",
     "output_type": "stream",
     "text": [
      "https://www.techtudo.com.br/dicas-e-tutoriais/2021/07/brasil-x-franca-ao-vivo-onde-assistir-ao-volei-masculino-na-olimpiada.ghtml\n"
     ]
    },
    {
     "name": "stderr",
     "output_type": "stream",
     "text": [
      "C:\\Users\\Dell User\\anaconda3\\envs\\proyectos\\lib\\site-packages\\urllib3\\connectionpool.py:1013: InsecureRequestWarning: Unverified HTTPS request is being made to host 'www.techtudo.com.br'. Adding certificate verification is strongly advised. See: https://urllib3.readthedocs.io/en/1.26.x/advanced-usage.html#ssl-warnings\n",
      "  warnings.warn(\n",
      "C:\\Users\\Dell User\\anaconda3\\envs\\proyectos\\lib\\site-packages\\urllib3\\connectionpool.py:1013: InsecureRequestWarning: Unverified HTTPS request is being made to host 'www.techtudo.com.br'. Adding certificate verification is strongly advised. See: https://urllib3.readthedocs.io/en/1.26.x/advanced-usage.html#ssl-warnings\n",
      "  warnings.warn(\n"
     ]
    },
    {
     "name": "stdout",
     "output_type": "stream",
     "text": [
      "https://www.techtudo.com.br/dicas-e-tutoriais/2021/07/jogo-do-brasil-hoje-onde-assistir-ao-volei-e-ao-futebol-na-olimpiada.ghtml\n"
     ]
    },
    {
     "name": "stderr",
     "output_type": "stream",
     "text": [
      "C:\\Users\\Dell User\\anaconda3\\envs\\proyectos\\lib\\site-packages\\urllib3\\connectionpool.py:1013: InsecureRequestWarning: Unverified HTTPS request is being made to host 'www.techtudo.com.br'. Adding certificate verification is strongly advised. See: https://urllib3.readthedocs.io/en/1.26.x/advanced-usage.html#ssl-warnings\n",
      "  warnings.warn(\n",
      "C:\\Users\\Dell User\\anaconda3\\envs\\proyectos\\lib\\site-packages\\urllib3\\connectionpool.py:1013: InsecureRequestWarning: Unverified HTTPS request is being made to host 'www.techtudo.com.br'. Adding certificate verification is strongly advised. See: https://urllib3.readthedocs.io/en/1.26.x/advanced-usage.html#ssl-warnings\n",
      "  warnings.warn(\n"
     ]
    },
    {
     "name": "stdout",
     "output_type": "stream",
     "text": [
      "https://www.techtudo.com.br/dicas-e-tutoriais/2021/07/como-colocar-foto-de-fundo-nos-stories-do-instagram.ghtml\n"
     ]
    },
    {
     "name": "stderr",
     "output_type": "stream",
     "text": [
      "C:\\Users\\Dell User\\anaconda3\\envs\\proyectos\\lib\\site-packages\\urllib3\\connectionpool.py:1013: InsecureRequestWarning: Unverified HTTPS request is being made to host 'www.techtudo.com.br'. Adding certificate verification is strongly advised. See: https://urllib3.readthedocs.io/en/1.26.x/advanced-usage.html#ssl-warnings\n",
      "  warnings.warn(\n",
      "C:\\Users\\Dell User\\anaconda3\\envs\\proyectos\\lib\\site-packages\\urllib3\\connectionpool.py:1013: InsecureRequestWarning: Unverified HTTPS request is being made to host 'link.estadao.com.br'. Adding certificate verification is strongly advised. See: https://urllib3.readthedocs.io/en/1.26.x/advanced-usage.html#ssl-warnings\n",
      "  warnings.warn(\n"
     ]
    },
    {
     "name": "stdout",
     "output_type": "stream",
     "text": [
      "https://link.estadao.com.br/noticias/cultura-digital,transforme-seu-celular-em-um-personal-trainer-veja-dicas,70003773150\n"
     ]
    },
    {
     "name": "stderr",
     "output_type": "stream",
     "text": [
      "C:\\Users\\Dell User\\anaconda3\\envs\\proyectos\\lib\\site-packages\\urllib3\\connectionpool.py:1013: InsecureRequestWarning: Unverified HTTPS request is being made to host 'link.estadao.com.br'. Adding certificate verification is strongly advised. See: https://urllib3.readthedocs.io/en/1.26.x/advanced-usage.html#ssl-warnings\n",
      "  warnings.warn(\n",
      "C:\\Users\\Dell User\\anaconda3\\envs\\proyectos\\lib\\site-packages\\urllib3\\connectionpool.py:1013: InsecureRequestWarning: Unverified HTTPS request is being made to host 'www.techtudo.com.br'. Adding certificate verification is strongly advised. See: https://urllib3.readthedocs.io/en/1.26.x/advanced-usage.html#ssl-warnings\n",
      "  warnings.warn(\n"
     ]
    },
    {
     "name": "stdout",
     "output_type": "stream",
     "text": [
      "https://www.techtudo.com.br/dicas-e-tutoriais/2021/07/como-instalar-o-whatsapp-no-celular-android-e-iphone-ios.ghtml\n"
     ]
    },
    {
     "name": "stderr",
     "output_type": "stream",
     "text": [
      "C:\\Users\\Dell User\\anaconda3\\envs\\proyectos\\lib\\site-packages\\urllib3\\connectionpool.py:1013: InsecureRequestWarning: Unverified HTTPS request is being made to host 'www.techtudo.com.br'. Adding certificate verification is strongly advised. See: https://urllib3.readthedocs.io/en/1.26.x/advanced-usage.html#ssl-warnings\n",
      "  warnings.warn(\n",
      "C:\\Users\\Dell User\\anaconda3\\envs\\proyectos\\lib\\site-packages\\urllib3\\connectionpool.py:1013: InsecureRequestWarning: Unverified HTTPS request is being made to host 'www.techtudo.com.br'. Adding certificate verification is strongly advised. See: https://urllib3.readthedocs.io/en/1.26.x/advanced-usage.html#ssl-warnings\n",
      "  warnings.warn(\n"
     ]
    },
    {
     "name": "stdout",
     "output_type": "stream",
     "text": [
      "https://www.techtudo.com.br/dicas-e-tutoriais/2021/07/como-usar-o-samsung-smarttag.ghtml\n"
     ]
    },
    {
     "name": "stderr",
     "output_type": "stream",
     "text": [
      "C:\\Users\\Dell User\\anaconda3\\envs\\proyectos\\lib\\site-packages\\urllib3\\connectionpool.py:1013: InsecureRequestWarning: Unverified HTTPS request is being made to host 'www.techtudo.com.br'. Adding certificate verification is strongly advised. See: https://urllib3.readthedocs.io/en/1.26.x/advanced-usage.html#ssl-warnings\n",
      "  warnings.warn(\n",
      "C:\\Users\\Dell User\\anaconda3\\envs\\proyectos\\lib\\site-packages\\urllib3\\connectionpool.py:1013: InsecureRequestWarning: Unverified HTTPS request is being made to host 'noticias.uol.com.br'. Adding certificate verification is strongly advised. See: https://urllib3.readthedocs.io/en/1.26.x/advanced-usage.html#ssl-warnings\n",
      "  warnings.warn(\n",
      "C:\\Users\\Dell User\\anaconda3\\envs\\proyectos\\lib\\site-packages\\urllib3\\connectionpool.py:1013: InsecureRequestWarning: Unverified HTTPS request is being made to host 'noticias.uol.com.br'. Adding certificate verification is strongly advised. See: https://urllib3.readthedocs.io/en/1.26.x/advanced-usage.html#ssl-warnings\n",
      "  warnings.warn(\n"
     ]
    },
    {
     "name": "stdout",
     "output_type": "stream",
     "text": [
      "https://noticias.uol.com.br/ultimas-noticias/afp/2021/07/30/cidadao-de-hong-kong-e-condenado-a-nove-anos-de-prisao-sob-lei-de-seguranca-nacional.htm\n"
     ]
    },
    {
     "name": "stderr",
     "output_type": "stream",
     "text": [
      "C:\\Users\\Dell User\\anaconda3\\envs\\proyectos\\lib\\site-packages\\urllib3\\connectionpool.py:1013: InsecureRequestWarning: Unverified HTTPS request is being made to host 'noticias.uol.com.br'. Adding certificate verification is strongly advised. See: https://urllib3.readthedocs.io/en/1.26.x/advanced-usage.html#ssl-warnings\n",
      "  warnings.warn(\n",
      "C:\\Users\\Dell User\\anaconda3\\envs\\proyectos\\lib\\site-packages\\urllib3\\connectionpool.py:1013: InsecureRequestWarning: Unverified HTTPS request is being made to host 'noticias.uol.com.br'. Adding certificate verification is strongly advised. See: https://urllib3.readthedocs.io/en/1.26.x/advanced-usage.html#ssl-warnings\n",
      "  warnings.warn(\n",
      "C:\\Users\\Dell User\\anaconda3\\envs\\proyectos\\lib\\site-packages\\urllib3\\connectionpool.py:1013: InsecureRequestWarning: Unverified HTTPS request is being made to host 'www.techtudo.com.br'. Adding certificate verification is strongly advised. See: https://urllib3.readthedocs.io/en/1.26.x/advanced-usage.html#ssl-warnings\n",
      "  warnings.warn(\n"
     ]
    },
    {
     "name": "stdout",
     "output_type": "stream",
     "text": [
      "https://www.techtudo.com.br/dicas-e-tutoriais/2021/07/como-atualizar-os-aplicativos-no-android-e-no-iphone-ios.ghtml\n"
     ]
    },
    {
     "name": "stderr",
     "output_type": "stream",
     "text": [
      "C:\\Users\\Dell User\\anaconda3\\envs\\proyectos\\lib\\site-packages\\urllib3\\connectionpool.py:1013: InsecureRequestWarning: Unverified HTTPS request is being made to host 'www.techtudo.com.br'. Adding certificate verification is strongly advised. See: https://urllib3.readthedocs.io/en/1.26.x/advanced-usage.html#ssl-warnings\n",
      "  warnings.warn(\n",
      "C:\\Users\\Dell User\\anaconda3\\envs\\proyectos\\lib\\site-packages\\urllib3\\connectionpool.py:1013: InsecureRequestWarning: Unverified HTTPS request is being made to host 'noticias.uol.com.br'. Adding certificate verification is strongly advised. See: https://urllib3.readthedocs.io/en/1.26.x/advanced-usage.html#ssl-warnings\n",
      "  warnings.warn(\n"
     ]
    },
    {
     "name": "stdout",
     "output_type": "stream",
     "text": [
      "https://noticias.uol.com.br/ultimas-noticias/afp/2021/07/30/cidadao-de-hong-kong-e-condenado-a-nove-anos-de-prisao-sob-lei-de-seguranca-nacional.htm\n"
     ]
    },
    {
     "name": "stderr",
     "output_type": "stream",
     "text": [
      "C:\\Users\\Dell User\\anaconda3\\envs\\proyectos\\lib\\site-packages\\urllib3\\connectionpool.py:1013: InsecureRequestWarning: Unverified HTTPS request is being made to host 'noticias.uol.com.br'. Adding certificate verification is strongly advised. See: https://urllib3.readthedocs.io/en/1.26.x/advanced-usage.html#ssl-warnings\n",
      "  warnings.warn(\n",
      "C:\\Users\\Dell User\\anaconda3\\envs\\proyectos\\lib\\site-packages\\urllib3\\connectionpool.py:1013: InsecureRequestWarning: Unverified HTTPS request is being made to host 'epocanegocios.globo.com'. Adding certificate verification is strongly advised. See: https://urllib3.readthedocs.io/en/1.26.x/advanced-usage.html#ssl-warnings\n",
      "  warnings.warn(\n"
     ]
    },
    {
     "name": "stdout",
     "output_type": "stream",
     "text": [
      "https://epocanegocios.globo.com/Empresa/noticia/2021/07/apple-atualizara-aparelho-mais-barato-com-5g-descontinuara-iphone-mini-diz-nikkei.html\n"
     ]
    },
    {
     "name": "stderr",
     "output_type": "stream",
     "text": [
      "C:\\Users\\Dell User\\anaconda3\\envs\\proyectos\\lib\\site-packages\\urllib3\\connectionpool.py:1013: InsecureRequestWarning: Unverified HTTPS request is being made to host 'epocanegocios.globo.com'. Adding certificate verification is strongly advised. See: https://urllib3.readthedocs.io/en/1.26.x/advanced-usage.html#ssl-warnings\n",
      "  warnings.warn(\n",
      "C:\\Users\\Dell User\\anaconda3\\envs\\proyectos\\lib\\site-packages\\urllib3\\connectionpool.py:1013: InsecureRequestWarning: Unverified HTTPS request is being made to host 'noticias.uol.com.br'. Adding certificate verification is strongly advised. See: https://urllib3.readthedocs.io/en/1.26.x/advanced-usage.html#ssl-warnings\n",
      "  warnings.warn(\n"
     ]
    },
    {
     "name": "stdout",
     "output_type": "stream",
     "text": [
      "https://noticias.uol.com.br/colunas/juliana-dal-piva/2021/07/08/queiroz-audios-rachadinha-mp.htm\n"
     ]
    },
    {
     "name": "stderr",
     "output_type": "stream",
     "text": [
      "C:\\Users\\Dell User\\anaconda3\\envs\\proyectos\\lib\\site-packages\\urllib3\\connectionpool.py:1013: InsecureRequestWarning: Unverified HTTPS request is being made to host 'noticias.uol.com.br'. Adding certificate verification is strongly advised. See: https://urllib3.readthedocs.io/en/1.26.x/advanced-usage.html#ssl-warnings\n",
      "  warnings.warn(\n",
      "C:\\Users\\Dell User\\anaconda3\\envs\\proyectos\\lib\\site-packages\\urllib3\\connectionpool.py:1013: InsecureRequestWarning: Unverified HTTPS request is being made to host 'www.techtudo.com.br'. Adding certificate verification is strongly advised. See: https://urllib3.readthedocs.io/en/1.26.x/advanced-usage.html#ssl-warnings\n",
      "  warnings.warn(\n"
     ]
    },
    {
     "name": "stdout",
     "output_type": "stream",
     "text": [
      "https://www.techtudo.com.br/noticias/2021/07/cofundador-da-apple-declara-apoio-a-movimento-que-pede-direito-ao-reparo.ghtml\n"
     ]
    },
    {
     "name": "stderr",
     "output_type": "stream",
     "text": [
      "C:\\Users\\Dell User\\anaconda3\\envs\\proyectos\\lib\\site-packages\\urllib3\\connectionpool.py:1013: InsecureRequestWarning: Unverified HTTPS request is being made to host 'www.techtudo.com.br'. Adding certificate verification is strongly advised. See: https://urllib3.readthedocs.io/en/1.26.x/advanced-usage.html#ssl-warnings\n",
      "  warnings.warn(\n",
      "C:\\Users\\Dell User\\anaconda3\\envs\\proyectos\\lib\\site-packages\\urllib3\\connectionpool.py:1013: InsecureRequestWarning: Unverified HTTPS request is being made to host 'www.techtudo.com.br'. Adding certificate verification is strongly advised. See: https://urllib3.readthedocs.io/en/1.26.x/advanced-usage.html#ssl-warnings\n",
      "  warnings.warn(\n"
     ]
    },
    {
     "name": "stdout",
     "output_type": "stream",
     "text": [
      "https://www.techtudo.com.br/dicas-e-tutoriais/2021/07/como-salvar-stories-do-facebook-no-celular.ghtml\n"
     ]
    },
    {
     "name": "stderr",
     "output_type": "stream",
     "text": [
      "C:\\Users\\Dell User\\anaconda3\\envs\\proyectos\\lib\\site-packages\\urllib3\\connectionpool.py:1013: InsecureRequestWarning: Unverified HTTPS request is being made to host 'www.techtudo.com.br'. Adding certificate verification is strongly advised. See: https://urllib3.readthedocs.io/en/1.26.x/advanced-usage.html#ssl-warnings\n",
      "  warnings.warn(\n",
      "C:\\Users\\Dell User\\anaconda3\\envs\\proyectos\\lib\\site-packages\\urllib3\\connectionpool.py:1013: InsecureRequestWarning: Unverified HTTPS request is being made to host 'www.techtudo.com.br'. Adding certificate verification is strongly advised. See: https://urllib3.readthedocs.io/en/1.26.x/advanced-usage.html#ssl-warnings\n",
      "  warnings.warn(\n"
     ]
    },
    {
     "name": "stdout",
     "output_type": "stream",
     "text": [
      "https://www.techtudo.com.br/dicas-e-tutoriais/2021/07/camsurf-como-usar-o-aplicativo-para-conversar-com-desconhecidos-online.ghtml\n"
     ]
    },
    {
     "name": "stderr",
     "output_type": "stream",
     "text": [
      "C:\\Users\\Dell User\\anaconda3\\envs\\proyectos\\lib\\site-packages\\urllib3\\connectionpool.py:1013: InsecureRequestWarning: Unverified HTTPS request is being made to host 'www.techtudo.com.br'. Adding certificate verification is strongly advised. See: https://urllib3.readthedocs.io/en/1.26.x/advanced-usage.html#ssl-warnings\n",
      "  warnings.warn(\n",
      "C:\\Users\\Dell User\\anaconda3\\envs\\proyectos\\lib\\site-packages\\urllib3\\connectionpool.py:1013: InsecureRequestWarning: Unverified HTTPS request is being made to host 'link.estadao.com.br'. Adding certificate verification is strongly advised. See: https://urllib3.readthedocs.io/en/1.26.x/advanced-usage.html#ssl-warnings\n",
      "  warnings.warn(\n"
     ]
    },
    {
     "name": "stdout",
     "output_type": "stream",
     "text": [
      "https://link.estadao.com.br/noticias/empresas,xiaomi-passa-apple-e-se-torna-a-segunda-maior-fabricante-de-smartphones-do-mundo,70003782085\n"
     ]
    },
    {
     "name": "stderr",
     "output_type": "stream",
     "text": [
      "C:\\Users\\Dell User\\anaconda3\\envs\\proyectos\\lib\\site-packages\\urllib3\\connectionpool.py:1013: InsecureRequestWarning: Unverified HTTPS request is being made to host 'link.estadao.com.br'. Adding certificate verification is strongly advised. See: https://urllib3.readthedocs.io/en/1.26.x/advanced-usage.html#ssl-warnings\n",
      "  warnings.warn(\n",
      "C:\\Users\\Dell User\\anaconda3\\envs\\proyectos\\lib\\site-packages\\urllib3\\connectionpool.py:1013: InsecureRequestWarning: Unverified HTTPS request is being made to host 'www.techtudo.com.br'. Adding certificate verification is strongly advised. See: https://urllib3.readthedocs.io/en/1.26.x/advanced-usage.html#ssl-warnings\n",
      "  warnings.warn(\n"
     ]
    },
    {
     "name": "stdout",
     "output_type": "stream",
     "text": [
      "https://www.techtudo.com.br/dicas-e-tutoriais/2021/07/jogadores-de-ps5-tem-seis-meses-gratis-de-apple-tv-saiba-resgatar.ghtml\n"
     ]
    },
    {
     "name": "stderr",
     "output_type": "stream",
     "text": [
      "C:\\Users\\Dell User\\anaconda3\\envs\\proyectos\\lib\\site-packages\\urllib3\\connectionpool.py:1013: InsecureRequestWarning: Unverified HTTPS request is being made to host 'www.techtudo.com.br'. Adding certificate verification is strongly advised. See: https://urllib3.readthedocs.io/en/1.26.x/advanced-usage.html#ssl-warnings\n",
      "  warnings.warn(\n",
      "C:\\Users\\Dell User\\anaconda3\\envs\\proyectos\\lib\\site-packages\\urllib3\\connectionpool.py:1013: InsecureRequestWarning: Unverified HTTPS request is being made to host 'revistapegn.globo.com'. Adding certificate verification is strongly advised. See: https://urllib3.readthedocs.io/en/1.26.x/advanced-usage.html#ssl-warnings\n",
      "  warnings.warn(\n"
     ]
    },
    {
     "name": "stdout",
     "output_type": "stream",
     "text": [
      "https://revistapegn.globo.com/Tecnologia/noticia/2021/07/pais-de-criancas-chamadas-alexa-citam-bullying-e-pedem-que-amazon-mude-nome-de-assistente-virtual.html\n"
     ]
    },
    {
     "name": "stderr",
     "output_type": "stream",
     "text": [
      "C:\\Users\\Dell User\\anaconda3\\envs\\proyectos\\lib\\site-packages\\urllib3\\connectionpool.py:1013: InsecureRequestWarning: Unverified HTTPS request is being made to host 'revistapegn.globo.com'. Adding certificate verification is strongly advised. See: https://urllib3.readthedocs.io/en/1.26.x/advanced-usage.html#ssl-warnings\n",
      "  warnings.warn(\n",
      "C:\\Users\\Dell User\\anaconda3\\envs\\proyectos\\lib\\site-packages\\urllib3\\connectionpool.py:1013: InsecureRequestWarning: Unverified HTTPS request is being made to host 'epocanegocios.globo.com'. Adding certificate verification is strongly advised. See: https://urllib3.readthedocs.io/en/1.26.x/advanced-usage.html#ssl-warnings\n",
      "  warnings.warn(\n"
     ]
    },
    {
     "name": "stdout",
     "output_type": "stream",
     "text": [
      "https://epocanegocios.globo.com/Empresa/noticia/2021/07/epoca-negocios-google-deve-enfrentar-processo-sobre-assistente-de-voz-diz-juiza-dos-eua.html\n"
     ]
    },
    {
     "name": "stderr",
     "output_type": "stream",
     "text": [
      "C:\\Users\\Dell User\\anaconda3\\envs\\proyectos\\lib\\site-packages\\urllib3\\connectionpool.py:1013: InsecureRequestWarning: Unverified HTTPS request is being made to host 'epocanegocios.globo.com'. Adding certificate verification is strongly advised. See: https://urllib3.readthedocs.io/en/1.26.x/advanced-usage.html#ssl-warnings\n",
      "  warnings.warn(\n",
      "C:\\Users\\Dell User\\anaconda3\\envs\\proyectos\\lib\\site-packages\\urllib3\\connectionpool.py:1013: InsecureRequestWarning: Unverified HTTPS request is being made to host 'www.techtudo.com.br'. Adding certificate verification is strongly advised. See: https://urllib3.readthedocs.io/en/1.26.x/advanced-usage.html#ssl-warnings\n",
      "  warnings.warn(\n"
     ]
    },
    {
     "name": "stdout",
     "output_type": "stream",
     "text": [
      "https://www.techtudo.com.br/noticias/2021/07/tiktok-fora-do-ar-hoje-usuarios-relatam-problemas-no-app.ghtml\n"
     ]
    },
    {
     "name": "stderr",
     "output_type": "stream",
     "text": [
      "C:\\Users\\Dell User\\anaconda3\\envs\\proyectos\\lib\\site-packages\\urllib3\\connectionpool.py:1013: InsecureRequestWarning: Unverified HTTPS request is being made to host 'www.techtudo.com.br'. Adding certificate verification is strongly advised. See: https://urllib3.readthedocs.io/en/1.26.x/advanced-usage.html#ssl-warnings\n",
      "  warnings.warn(\n",
      "C:\\Users\\Dell User\\anaconda3\\envs\\proyectos\\lib\\site-packages\\urllib3\\connectionpool.py:1013: InsecureRequestWarning: Unverified HTTPS request is being made to host 'www.techtudo.com.br'. Adding certificate verification is strongly advised. See: https://urllib3.readthedocs.io/en/1.26.x/advanced-usage.html#ssl-warnings\n",
      "  warnings.warn(\n"
     ]
    },
    {
     "name": "stdout",
     "output_type": "stream",
     "text": [
      "https://www.techtudo.com.br/noticias/2021/07/free-fire-max-tera-download-para-pc-saiba-o-que-e-rumor-e-o-que-e-verdade-esports.ghtml\n"
     ]
    },
    {
     "name": "stderr",
     "output_type": "stream",
     "text": [
      "C:\\Users\\Dell User\\anaconda3\\envs\\proyectos\\lib\\site-packages\\urllib3\\connectionpool.py:1013: InsecureRequestWarning: Unverified HTTPS request is being made to host 'www.techtudo.com.br'. Adding certificate verification is strongly advised. See: https://urllib3.readthedocs.io/en/1.26.x/advanced-usage.html#ssl-warnings\n",
      "  warnings.warn(\n",
      "C:\\Users\\Dell User\\anaconda3\\envs\\proyectos\\lib\\site-packages\\urllib3\\connectionpool.py:1013: InsecureRequestWarning: Unverified HTTPS request is being made to host 'noticias.uol.com.br'. Adding certificate verification is strongly advised. See: https://urllib3.readthedocs.io/en/1.26.x/advanced-usage.html#ssl-warnings\n",
      "  warnings.warn(\n"
     ]
    },
    {
     "name": "stdout",
     "output_type": "stream",
     "text": [
      "https://noticias.uol.com.br/ultimas-noticias/efe/2021/07/01/empresa-de-donald-trump-sera-indiciada-por-crimes-fiscais-revela-wsj.htm\n"
     ]
    },
    {
     "name": "stderr",
     "output_type": "stream",
     "text": [
      "C:\\Users\\Dell User\\anaconda3\\envs\\proyectos\\lib\\site-packages\\urllib3\\connectionpool.py:1013: InsecureRequestWarning: Unverified HTTPS request is being made to host 'noticias.uol.com.br'. Adding certificate verification is strongly advised. See: https://urllib3.readthedocs.io/en/1.26.x/advanced-usage.html#ssl-warnings\n",
      "  warnings.warn(\n",
      "C:\\Users\\Dell User\\anaconda3\\envs\\proyectos\\lib\\site-packages\\urllib3\\connectionpool.py:1013: InsecureRequestWarning: Unverified HTTPS request is being made to host 'www.techtudo.com.br'. Adding certificate verification is strongly advised. See: https://urllib3.readthedocs.io/en/1.26.x/advanced-usage.html#ssl-warnings\n",
      "  warnings.warn(\n"
     ]
    },
    {
     "name": "stdout",
     "output_type": "stream",
     "text": [
      "https://www.techtudo.com.br/noticias/2021/07/mouse-apple-vale-a-pena-veja-pros-e-contras-do-magic-mouse-2.ghtml\n"
     ]
    },
    {
     "name": "stderr",
     "output_type": "stream",
     "text": [
      "C:\\Users\\Dell User\\anaconda3\\envs\\proyectos\\lib\\site-packages\\urllib3\\connectionpool.py:1013: InsecureRequestWarning: Unverified HTTPS request is being made to host 'www.techtudo.com.br'. Adding certificate verification is strongly advised. See: https://urllib3.readthedocs.io/en/1.26.x/advanced-usage.html#ssl-warnings\n",
      "  warnings.warn(\n",
      "C:\\Users\\Dell User\\anaconda3\\envs\\proyectos\\lib\\site-packages\\urllib3\\connectionpool.py:1013: InsecureRequestWarning: Unverified HTTPS request is being made to host 'noticias.uol.com.br'. Adding certificate verification is strongly advised. See: https://urllib3.readthedocs.io/en/1.26.x/advanced-usage.html#ssl-warnings\n",
      "  warnings.warn(\n"
     ]
    },
    {
     "name": "stdout",
     "output_type": "stream",
     "text": [
      "https://noticias.uol.com.br/colunas/juliana-dal-piva/2021/07/06/marcia-aguiar-fabricio-queiroz-vao-matar-rachadinha.htm\n"
     ]
    },
    {
     "name": "stderr",
     "output_type": "stream",
     "text": [
      "C:\\Users\\Dell User\\anaconda3\\envs\\proyectos\\lib\\site-packages\\urllib3\\connectionpool.py:1013: InsecureRequestWarning: Unverified HTTPS request is being made to host 'noticias.uol.com.br'. Adding certificate verification is strongly advised. See: https://urllib3.readthedocs.io/en/1.26.x/advanced-usage.html#ssl-warnings\n",
      "  warnings.warn(\n",
      "C:\\Users\\Dell User\\anaconda3\\envs\\proyectos\\lib\\site-packages\\urllib3\\connectionpool.py:1013: InsecureRequestWarning: Unverified HTTPS request is being made to host 'www.techtudo.com.br'. Adding certificate verification is strongly advised. See: https://urllib3.readthedocs.io/en/1.26.x/advanced-usage.html#ssl-warnings\n",
      "  warnings.warn(\n"
     ]
    },
    {
     "name": "stdout",
     "output_type": "stream",
     "text": [
      "https://www.techtudo.com.br/noticias/2021/07/apple-watch-salva-idoso-de-78-anos-que-caiu-e-ficou-inconsciente.ghtml\n"
     ]
    },
    {
     "name": "stderr",
     "output_type": "stream",
     "text": [
      "C:\\Users\\Dell User\\anaconda3\\envs\\proyectos\\lib\\site-packages\\urllib3\\connectionpool.py:1013: InsecureRequestWarning: Unverified HTTPS request is being made to host 'www.techtudo.com.br'. Adding certificate verification is strongly advised. See: https://urllib3.readthedocs.io/en/1.26.x/advanced-usage.html#ssl-warnings\n",
      "  warnings.warn(\n",
      "C:\\Users\\Dell User\\anaconda3\\envs\\proyectos\\lib\\site-packages\\urllib3\\connectionpool.py:1013: InsecureRequestWarning: Unverified HTTPS request is being made to host 'www.techtudo.com.br'. Adding certificate verification is strongly advised. See: https://urllib3.readthedocs.io/en/1.26.x/advanced-usage.html#ssl-warnings\n",
      "  warnings.warn(\n"
     ]
    },
    {
     "name": "stdout",
     "output_type": "stream",
     "text": [
      "https://www.techtudo.com.br/noticias/2021/07/marvel-future-revolution-veja-requisitos-para-download-no-android-e-ios.ghtml\n"
     ]
    },
    {
     "name": "stderr",
     "output_type": "stream",
     "text": [
      "C:\\Users\\Dell User\\anaconda3\\envs\\proyectos\\lib\\site-packages\\urllib3\\connectionpool.py:1013: InsecureRequestWarning: Unverified HTTPS request is being made to host 'www.techtudo.com.br'. Adding certificate verification is strongly advised. See: https://urllib3.readthedocs.io/en/1.26.x/advanced-usage.html#ssl-warnings\n",
      "  warnings.warn(\n",
      "C:\\Users\\Dell User\\anaconda3\\envs\\proyectos\\lib\\site-packages\\urllib3\\connectionpool.py:1013: InsecureRequestWarning: Unverified HTTPS request is being made to host 'emais.estadao.com.br'. Adding certificate verification is strongly advised. See: https://urllib3.readthedocs.io/en/1.26.x/advanced-usage.html#ssl-warnings\n",
      "  warnings.warn(\n"
     ]
    },
    {
     "name": "stdout",
     "output_type": "stream",
     "text": [
      "https://emais.estadao.com.br/noticias/comportamento,mundo-bita-faz-releitura-de-primavera-musica-eternizada-na-voz-de-tim-maia-veja-clipe,70003766703\n"
     ]
    },
    {
     "name": "stderr",
     "output_type": "stream",
     "text": [
      "C:\\Users\\Dell User\\anaconda3\\envs\\proyectos\\lib\\site-packages\\urllib3\\connectionpool.py:1013: InsecureRequestWarning: Unverified HTTPS request is being made to host 'emais.estadao.com.br'. Adding certificate verification is strongly advised. See: https://urllib3.readthedocs.io/en/1.26.x/advanced-usage.html#ssl-warnings\n",
      "  warnings.warn(\n",
      "C:\\Users\\Dell User\\anaconda3\\envs\\proyectos\\lib\\site-packages\\urllib3\\connectionpool.py:1013: InsecureRequestWarning: Unverified HTTPS request is being made to host 'noticias.uol.com.br'. Adding certificate verification is strongly advised. See: https://urllib3.readthedocs.io/en/1.26.x/advanced-usage.html#ssl-warnings\n",
      "  warnings.warn(\n"
     ]
    },
    {
     "name": "stdout",
     "output_type": "stream",
     "text": [
      "https://noticias.uol.com.br/ultimas-noticias/efe/2021/07/27/nova-york-exigira-vacinacao-ou-testes-semanais-de-funcionarios-municipais.htm\n"
     ]
    },
    {
     "name": "stderr",
     "output_type": "stream",
     "text": [
      "C:\\Users\\Dell User\\anaconda3\\envs\\proyectos\\lib\\site-packages\\urllib3\\connectionpool.py:1013: InsecureRequestWarning: Unverified HTTPS request is being made to host 'noticias.uol.com.br'. Adding certificate verification is strongly advised. See: https://urllib3.readthedocs.io/en/1.26.x/advanced-usage.html#ssl-warnings\n",
      "  warnings.warn(\n",
      "C:\\Users\\Dell User\\anaconda3\\envs\\proyectos\\lib\\site-packages\\urllib3\\connectionpool.py:1013: InsecureRequestWarning: Unverified HTTPS request is being made to host 'www.techtudo.com.br'. Adding certificate verification is strongly advised. See: https://urllib3.readthedocs.io/en/1.26.x/advanced-usage.html#ssl-warnings\n",
      "  warnings.warn(\n"
     ]
    },
    {
     "name": "stdout",
     "output_type": "stream",
     "text": [
      "https://www.techtudo.com.br/noticias/2021/07/lg-suspende-projeto-de-vender-iphones-em-lojas-proprias.ghtml\n"
     ]
    },
    {
     "name": "stderr",
     "output_type": "stream",
     "text": [
      "C:\\Users\\Dell User\\anaconda3\\envs\\proyectos\\lib\\site-packages\\urllib3\\connectionpool.py:1013: InsecureRequestWarning: Unverified HTTPS request is being made to host 'www.techtudo.com.br'. Adding certificate verification is strongly advised. See: https://urllib3.readthedocs.io/en/1.26.x/advanced-usage.html#ssl-warnings\n",
      "  warnings.warn(\n",
      "C:\\Users\\Dell User\\anaconda3\\envs\\proyectos\\lib\\site-packages\\urllib3\\connectionpool.py:1013: InsecureRequestWarning: Unverified HTTPS request is being made to host 'www.ambito.com'. Adding certificate verification is strongly advised. See: https://urllib3.readthedocs.io/en/1.26.x/advanced-usage.html#ssl-warnings\n",
      "  warnings.warn(\n"
     ]
    },
    {
     "name": "stdout",
     "output_type": "stream",
     "text": [
      "https://www.ambito.com/economia/ecommerce/descuentos-70-y-dolar-oficial-como-comprar-eeuu-argentina-n5213452\n"
     ]
    },
    {
     "name": "stderr",
     "output_type": "stream",
     "text": [
      "C:\\Users\\Dell User\\anaconda3\\envs\\proyectos\\lib\\site-packages\\urllib3\\connectionpool.py:1013: InsecureRequestWarning: Unverified HTTPS request is being made to host 'www.ambito.com'. Adding certificate verification is strongly advised. See: https://urllib3.readthedocs.io/en/1.26.x/advanced-usage.html#ssl-warnings\n",
      "  warnings.warn(\n",
      "C:\\Users\\Dell User\\anaconda3\\envs\\proyectos\\lib\\site-packages\\urllib3\\connectionpool.py:1013: InsecureRequestWarning: Unverified HTTPS request is being made to host 'noticias.uol.com.br'. Adding certificate verification is strongly advised. See: https://urllib3.readthedocs.io/en/1.26.x/advanced-usage.html#ssl-warnings\n",
      "  warnings.warn(\n"
     ]
    },
    {
     "name": "stdout",
     "output_type": "stream",
     "text": [
      "https://noticias.uol.com.br/colunas/juliana-dal-piva/2021/07/06/marcia-aguiar-fabricio-queiroz-vao-matar-rachadinha.htm\n"
     ]
    },
    {
     "name": "stderr",
     "output_type": "stream",
     "text": [
      "C:\\Users\\Dell User\\anaconda3\\envs\\proyectos\\lib\\site-packages\\urllib3\\connectionpool.py:1013: InsecureRequestWarning: Unverified HTTPS request is being made to host 'noticias.uol.com.br'. Adding certificate verification is strongly advised. See: https://urllib3.readthedocs.io/en/1.26.x/advanced-usage.html#ssl-warnings\n",
      "  warnings.warn(\n",
      "C:\\Users\\Dell User\\anaconda3\\envs\\proyectos\\lib\\site-packages\\urllib3\\connectionpool.py:1013: InsecureRequestWarning: Unverified HTTPS request is being made to host 'www.techtudo.com.br'. Adding certificate verification is strongly advised. See: https://urllib3.readthedocs.io/en/1.26.x/advanced-usage.html#ssl-warnings\n",
      "  warnings.warn(\n"
     ]
    },
    {
     "name": "stdout",
     "output_type": "stream",
     "text": [
      "https://www.techtudo.com.br/noticias/2021/07/novos-emojis-podem-ser-lancados-ainda-este-ano-veja-imagens.ghtml\n"
     ]
    },
    {
     "name": "stderr",
     "output_type": "stream",
     "text": [
      "C:\\Users\\Dell User\\anaconda3\\envs\\proyectos\\lib\\site-packages\\urllib3\\connectionpool.py:1013: InsecureRequestWarning: Unverified HTTPS request is being made to host 'www.techtudo.com.br'. Adding certificate verification is strongly advised. See: https://urllib3.readthedocs.io/en/1.26.x/advanced-usage.html#ssl-warnings\n",
      "  warnings.warn(\n",
      "C:\\Users\\Dell User\\anaconda3\\envs\\proyectos\\lib\\site-packages\\urllib3\\connectionpool.py:1013: InsecureRequestWarning: Unverified HTTPS request is being made to host 'www.techtudo.com.br'. Adding certificate verification is strongly advised. See: https://urllib3.readthedocs.io/en/1.26.x/advanced-usage.html#ssl-warnings\n",
      "  warnings.warn(\n"
     ]
    },
    {
     "name": "stdout",
     "output_type": "stream",
     "text": [
      "https://www.techtudo.com.br/listas/2021/07/apps-de-sorteio-6-opcoes-para-sortear-nomes-e-numeros-no-celular.ghtml\n"
     ]
    },
    {
     "name": "stderr",
     "output_type": "stream",
     "text": [
      "C:\\Users\\Dell User\\anaconda3\\envs\\proyectos\\lib\\site-packages\\urllib3\\connectionpool.py:1013: InsecureRequestWarning: Unverified HTTPS request is being made to host 'www.techtudo.com.br'. Adding certificate verification is strongly advised. See: https://urllib3.readthedocs.io/en/1.26.x/advanced-usage.html#ssl-warnings\n",
      "  warnings.warn(\n",
      "C:\\Users\\Dell User\\anaconda3\\envs\\proyectos\\lib\\site-packages\\urllib3\\connectionpool.py:1013: InsecureRequestWarning: Unverified HTTPS request is being made to host 'epocanegocios.globo.com'. Adding certificate verification is strongly advised. See: https://urllib3.readthedocs.io/en/1.26.x/advanced-usage.html#ssl-warnings\n",
      "  warnings.warn(\n"
     ]
    },
    {
     "name": "stdout",
     "output_type": "stream",
     "text": [
      "https://epocanegocios.globo.com/Mundo/noticia/2021/07/estados-dos-eua-alegam-que-google-preservou-monopolio-na-play-store-ilegalmente.html\n"
     ]
    },
    {
     "name": "stderr",
     "output_type": "stream",
     "text": [
      "C:\\Users\\Dell User\\anaconda3\\envs\\proyectos\\lib\\site-packages\\urllib3\\connectionpool.py:1013: InsecureRequestWarning: Unverified HTTPS request is being made to host 'epocanegocios.globo.com'. Adding certificate verification is strongly advised. See: https://urllib3.readthedocs.io/en/1.26.x/advanced-usage.html#ssl-warnings\n",
      "  warnings.warn(\n",
      "C:\\Users\\Dell User\\anaconda3\\envs\\proyectos\\lib\\site-packages\\urllib3\\connectionpool.py:1013: InsecureRequestWarning: Unverified HTTPS request is being made to host 'www.techtudo.com.br'. Adding certificate verification is strongly advised. See: https://urllib3.readthedocs.io/en/1.26.x/advanced-usage.html#ssl-warnings\n",
      "  warnings.warn(\n"
     ]
    },
    {
     "name": "stdout",
     "output_type": "stream",
     "text": [
      "https://www.techtudo.com.br/noticias/2021/07/lancamentos-netflix-em-agosto-de-2021-veja-estreias-de-filmes-e-series.ghtml\n"
     ]
    },
    {
     "name": "stderr",
     "output_type": "stream",
     "text": [
      "C:\\Users\\Dell User\\anaconda3\\envs\\proyectos\\lib\\site-packages\\urllib3\\connectionpool.py:1013: InsecureRequestWarning: Unverified HTTPS request is being made to host 'www.techtudo.com.br'. Adding certificate verification is strongly advised. See: https://urllib3.readthedocs.io/en/1.26.x/advanced-usage.html#ssl-warnings\n",
      "  warnings.warn(\n",
      "C:\\Users\\Dell User\\anaconda3\\envs\\proyectos\\lib\\site-packages\\urllib3\\connectionpool.py:1013: InsecureRequestWarning: Unverified HTTPS request is being made to host 'noticias.uol.com.br'. Adding certificate verification is strongly advised. See: https://urllib3.readthedocs.io/en/1.26.x/advanced-usage.html#ssl-warnings\n",
      "  warnings.warn(\n"
     ]
    },
    {
     "name": "stdout",
     "output_type": "stream",
     "text": [
      "https://noticias.uol.com.br/cotidiano/ultimas-noticias/2021/07/14/barao-do-iphone-golpes-internet.htm\n"
     ]
    },
    {
     "name": "stderr",
     "output_type": "stream",
     "text": [
      "C:\\Users\\Dell User\\anaconda3\\envs\\proyectos\\lib\\site-packages\\urllib3\\connectionpool.py:1013: InsecureRequestWarning: Unverified HTTPS request is being made to host 'noticias.uol.com.br'. Adding certificate verification is strongly advised. See: https://urllib3.readthedocs.io/en/1.26.x/advanced-usage.html#ssl-warnings\n",
      "  warnings.warn(\n",
      "C:\\Users\\Dell User\\anaconda3\\envs\\proyectos\\lib\\site-packages\\urllib3\\connectionpool.py:1013: InsecureRequestWarning: Unverified HTTPS request is being made to host 'politica.estadao.com.br'. Adding certificate verification is strongly advised. See: https://urllib3.readthedocs.io/en/1.26.x/advanced-usage.html#ssl-warnings\n",
      "  warnings.warn(\n"
     ]
    },
    {
     "name": "stdout",
     "output_type": "stream",
     "text": [
      "https://politica.estadao.com.br/blogs/fausto-macedo/em-parceria-com-a-embaixada-britanica-tribunal-de-justica-de-sc-lanca-aplicativo-lgpdjus/\n"
     ]
    },
    {
     "name": "stderr",
     "output_type": "stream",
     "text": [
      "C:\\Users\\Dell User\\anaconda3\\envs\\proyectos\\lib\\site-packages\\urllib3\\connectionpool.py:1013: InsecureRequestWarning: Unverified HTTPS request is being made to host 'politica.estadao.com.br'. Adding certificate verification is strongly advised. See: https://urllib3.readthedocs.io/en/1.26.x/advanced-usage.html#ssl-warnings\n",
      "  warnings.warn(\n",
      "C:\\Users\\Dell User\\anaconda3\\envs\\proyectos\\lib\\site-packages\\urllib3\\connectionpool.py:1013: InsecureRequestWarning: Unverified HTTPS request is being made to host 'www.techtudo.com.br'. Adding certificate verification is strongly advised. See: https://urllib3.readthedocs.io/en/1.26.x/advanced-usage.html#ssl-warnings\n",
      "  warnings.warn(\n"
     ]
    },
    {
     "name": "stdout",
     "output_type": "stream",
     "text": [
      "https://www.techtudo.com.br/listas/2021/07/como-recarregar-bilhete-unico-pelo-celular-5-apps-para-colocar-credito.ghtml\n"
     ]
    },
    {
     "name": "stderr",
     "output_type": "stream",
     "text": [
      "C:\\Users\\Dell User\\anaconda3\\envs\\proyectos\\lib\\site-packages\\urllib3\\connectionpool.py:1013: InsecureRequestWarning: Unverified HTTPS request is being made to host 'www.techtudo.com.br'. Adding certificate verification is strongly advised. See: https://urllib3.readthedocs.io/en/1.26.x/advanced-usage.html#ssl-warnings\n",
      "  warnings.warn(\n",
      "C:\\Users\\Dell User\\anaconda3\\envs\\proyectos\\lib\\site-packages\\urllib3\\connectionpool.py:1013: InsecureRequestWarning: Unverified HTTPS request is being made to host 'www.techtudo.com.br'. Adding certificate verification is strongly advised. See: https://urllib3.readthedocs.io/en/1.26.x/advanced-usage.html#ssl-warnings\n",
      "  warnings.warn(\n"
     ]
    },
    {
     "name": "stdout",
     "output_type": "stream",
     "text": [
      "https://www.techtudo.com.br/noticias/2021/07/esim-vivo-o-que-e-e-como-solicitar.ghtml\n"
     ]
    },
    {
     "name": "stderr",
     "output_type": "stream",
     "text": [
      "C:\\Users\\Dell User\\anaconda3\\envs\\proyectos\\lib\\site-packages\\urllib3\\connectionpool.py:1013: InsecureRequestWarning: Unverified HTTPS request is being made to host 'www.techtudo.com.br'. Adding certificate verification is strongly advised. See: https://urllib3.readthedocs.io/en/1.26.x/advanced-usage.html#ssl-warnings\n",
      "  warnings.warn(\n",
      "C:\\Users\\Dell User\\anaconda3\\envs\\proyectos\\lib\\site-packages\\urllib3\\connectionpool.py:1013: InsecureRequestWarning: Unverified HTTPS request is being made to host 'www.caracoltv.com'. Adding certificate verification is strongly advised. See: https://urllib3.readthedocs.io/en/1.26.x/advanced-usage.html#ssl-warnings\n",
      "  warnings.warn(\n"
     ]
    },
    {
     "name": "stdout",
     "output_type": "stream",
     "text": [
      "https://www.caracoltv.com/tecnologia/netflix-estudia-lanzar-su-propio-servicio-de-videojuegos-y-competiria-con-xbox\n"
     ]
    },
    {
     "name": "stderr",
     "output_type": "stream",
     "text": [
      "C:\\Users\\Dell User\\anaconda3\\envs\\proyectos\\lib\\site-packages\\urllib3\\connectionpool.py:1013: InsecureRequestWarning: Unverified HTTPS request is being made to host 'www.caracoltv.com'. Adding certificate verification is strongly advised. See: https://urllib3.readthedocs.io/en/1.26.x/advanced-usage.html#ssl-warnings\n",
      "  warnings.warn(\n",
      "C:\\Users\\Dell User\\anaconda3\\envs\\proyectos\\lib\\site-packages\\urllib3\\connectionpool.py:1013: InsecureRequestWarning: Unverified HTTPS request is being made to host 'www.techtudo.com.br'. Adding certificate verification is strongly advised. See: https://urllib3.readthedocs.io/en/1.26.x/advanced-usage.html#ssl-warnings\n",
      "  warnings.warn(\n"
     ]
    },
    {
     "name": "stdout",
     "output_type": "stream",
     "text": [
      "https://www.techtudo.com.br/noticias/2021/07/lg-suspende-projeto-de-vender-iphones-em-lojas-proprias.ghtml\n"
     ]
    },
    {
     "name": "stderr",
     "output_type": "stream",
     "text": [
      "C:\\Users\\Dell User\\anaconda3\\envs\\proyectos\\lib\\site-packages\\urllib3\\connectionpool.py:1013: InsecureRequestWarning: Unverified HTTPS request is being made to host 'www.techtudo.com.br'. Adding certificate verification is strongly advised. See: https://urllib3.readthedocs.io/en/1.26.x/advanced-usage.html#ssl-warnings\n",
      "  warnings.warn(\n",
      "C:\\Users\\Dell User\\anaconda3\\envs\\proyectos\\lib\\site-packages\\urllib3\\connectionpool.py:1013: InsecureRequestWarning: Unverified HTTPS request is being made to host 'link.estadao.com.br'. Adding certificate verification is strongly advised. See: https://urllib3.readthedocs.io/en/1.26.x/advanced-usage.html#ssl-warnings\n",
      "  warnings.warn(\n"
     ]
    },
    {
     "name": "stdout",
     "output_type": "stream",
     "text": [
      "https://link.estadao.com.br/noticias/empresas,facebook-dobra-lucro-no-2-trimestre-mas-sinaliza-freio-no-crescimento,70003792796\n"
     ]
    },
    {
     "name": "stderr",
     "output_type": "stream",
     "text": [
      "C:\\Users\\Dell User\\anaconda3\\envs\\proyectos\\lib\\site-packages\\urllib3\\connectionpool.py:1013: InsecureRequestWarning: Unverified HTTPS request is being made to host 'link.estadao.com.br'. Adding certificate verification is strongly advised. See: https://urllib3.readthedocs.io/en/1.26.x/advanced-usage.html#ssl-warnings\n",
      "  warnings.warn(\n",
      "C:\\Users\\Dell User\\anaconda3\\envs\\proyectos\\lib\\site-packages\\urllib3\\connectionpool.py:1013: InsecureRequestWarning: Unverified HTTPS request is being made to host 'www.techtudo.com.br'. Adding certificate verification is strongly advised. See: https://urllib3.readthedocs.io/en/1.26.x/advanced-usage.html#ssl-warnings\n",
      "  warnings.warn(\n"
     ]
    },
    {
     "name": "stdout",
     "output_type": "stream",
     "text": [
      "https://www.techtudo.com.br/dicas-e-tutoriais/2021/07/italia-x-inglaterra-ao-vivo-onde-assistir-ao-jogo-da-eurocopa-online.ghtml\n"
     ]
    },
    {
     "name": "stderr",
     "output_type": "stream",
     "text": [
      "C:\\Users\\Dell User\\anaconda3\\envs\\proyectos\\lib\\site-packages\\urllib3\\connectionpool.py:1013: InsecureRequestWarning: Unverified HTTPS request is being made to host 'www.techtudo.com.br'. Adding certificate verification is strongly advised. See: https://urllib3.readthedocs.io/en/1.26.x/advanced-usage.html#ssl-warnings\n",
      "  warnings.warn(\n",
      "C:\\Users\\Dell User\\anaconda3\\envs\\proyectos\\lib\\site-packages\\urllib3\\connectionpool.py:1013: InsecureRequestWarning: Unverified HTTPS request is being made to host 'www.techtudo.com.br'. Adding certificate verification is strongly advised. See: https://urllib3.readthedocs.io/en/1.26.x/advanced-usage.html#ssl-warnings\n",
      "  warnings.warn(\n"
     ]
    },
    {
     "name": "stdout",
     "output_type": "stream",
     "text": [
      "https://www.techtudo.com.br/listas/2021/07/mouse-fortrek-veja-sete-modelos-para-comprar-no-brasil-em-2021.ghtml\n"
     ]
    },
    {
     "name": "stderr",
     "output_type": "stream",
     "text": [
      "C:\\Users\\Dell User\\anaconda3\\envs\\proyectos\\lib\\site-packages\\urllib3\\connectionpool.py:1013: InsecureRequestWarning: Unverified HTTPS request is being made to host 'www.techtudo.com.br'. Adding certificate verification is strongly advised. See: https://urllib3.readthedocs.io/en/1.26.x/advanced-usage.html#ssl-warnings\n",
      "  warnings.warn(\n",
      "C:\\Users\\Dell User\\anaconda3\\envs\\proyectos\\lib\\site-packages\\urllib3\\connectionpool.py:1013: InsecureRequestWarning: Unverified HTTPS request is being made to host 'www.techtudo.com.br'. Adding certificate verification is strongly advised. See: https://urllib3.readthedocs.io/en/1.26.x/advanced-usage.html#ssl-warnings\n",
      "  warnings.warn(\n"
     ]
    },
    {
     "name": "stdout",
     "output_type": "stream",
     "text": [
      "https://www.techtudo.com.br/dicas-e-tutoriais/2021/07/brasil-x-alemanha-ao-vivo-onde-assistir-ao-futebol-masculino-na-olimpiada.ghtml\n"
     ]
    },
    {
     "name": "stderr",
     "output_type": "stream",
     "text": [
      "C:\\Users\\Dell User\\anaconda3\\envs\\proyectos\\lib\\site-packages\\urllib3\\connectionpool.py:1013: InsecureRequestWarning: Unverified HTTPS request is being made to host 'www.techtudo.com.br'. Adding certificate verification is strongly advised. See: https://urllib3.readthedocs.io/en/1.26.x/advanced-usage.html#ssl-warnings\n",
      "  warnings.warn(\n",
      "C:\\Users\\Dell User\\anaconda3\\envs\\proyectos\\lib\\site-packages\\urllib3\\connectionpool.py:1013: InsecureRequestWarning: Unverified HTTPS request is being made to host 'www.techtudo.com.br'. Adding certificate verification is strongly advised. See: https://urllib3.readthedocs.io/en/1.26.x/advanced-usage.html#ssl-warnings\n",
      "  warnings.warn(\n"
     ]
    },
    {
     "name": "stdout",
     "output_type": "stream",
     "text": [
      "https://www.techtudo.com.br/dicas-e-tutoriais/2021/07/camsurf-como-usar-o-aplicativo-para-conversar-com-desconhecidos-online.ghtml\n"
     ]
    },
    {
     "name": "stderr",
     "output_type": "stream",
     "text": [
      "C:\\Users\\Dell User\\anaconda3\\envs\\proyectos\\lib\\site-packages\\urllib3\\connectionpool.py:1013: InsecureRequestWarning: Unverified HTTPS request is being made to host 'www.techtudo.com.br'. Adding certificate verification is strongly advised. See: https://urllib3.readthedocs.io/en/1.26.x/advanced-usage.html#ssl-warnings\n",
      "  warnings.warn(\n",
      "C:\\Users\\Dell User\\anaconda3\\envs\\proyectos\\lib\\site-packages\\urllib3\\connectionpool.py:1013: InsecureRequestWarning: Unverified HTTPS request is being made to host 'www.techtudo.com.br'. Adding certificate verification is strongly advised. See: https://urllib3.readthedocs.io/en/1.26.x/advanced-usage.html#ssl-warnings\n",
      "  warnings.warn(\n"
     ]
    },
    {
     "name": "stdout",
     "output_type": "stream",
     "text": [
      "https://www.techtudo.com.br/noticias/2021/07/novos-emojis-podem-ser-lancados-ainda-este-ano-veja-imagens.ghtml\n"
     ]
    },
    {
     "name": "stderr",
     "output_type": "stream",
     "text": [
      "C:\\Users\\Dell User\\anaconda3\\envs\\proyectos\\lib\\site-packages\\urllib3\\connectionpool.py:1013: InsecureRequestWarning: Unverified HTTPS request is being made to host 'www.techtudo.com.br'. Adding certificate verification is strongly advised. See: https://urllib3.readthedocs.io/en/1.26.x/advanced-usage.html#ssl-warnings\n",
      "  warnings.warn(\n",
      "C:\\Users\\Dell User\\anaconda3\\envs\\proyectos\\lib\\site-packages\\urllib3\\connectionpool.py:1013: InsecureRequestWarning: Unverified HTTPS request is being made to host 'www.techtudo.com.br'. Adding certificate verification is strongly advised. See: https://urllib3.readthedocs.io/en/1.26.x/advanced-usage.html#ssl-warnings\n",
      "  warnings.warn(\n"
     ]
    },
    {
     "name": "stdout",
     "output_type": "stream",
     "text": [
      "https://www.techtudo.com.br/listas/2021/07/microfone-shure-veja-oito-modelos-para-comprar-no-brasil-em-2021.ghtml\n"
     ]
    },
    {
     "name": "stderr",
     "output_type": "stream",
     "text": [
      "C:\\Users\\Dell User\\anaconda3\\envs\\proyectos\\lib\\site-packages\\urllib3\\connectionpool.py:1013: InsecureRequestWarning: Unverified HTTPS request is being made to host 'www.techtudo.com.br'. Adding certificate verification is strongly advised. See: https://urllib3.readthedocs.io/en/1.26.x/advanced-usage.html#ssl-warnings\n",
      "  warnings.warn(\n",
      "C:\\Users\\Dell User\\anaconda3\\envs\\proyectos\\lib\\site-packages\\urllib3\\connectionpool.py:1013: InsecureRequestWarning: Unverified HTTPS request is being made to host 'www.techtudo.com.br'. Adding certificate verification is strongly advised. See: https://urllib3.readthedocs.io/en/1.26.x/advanced-usage.html#ssl-warnings\n",
      "  warnings.warn(\n"
     ]
    },
    {
     "name": "stdout",
     "output_type": "stream",
     "text": [
      "https://www.techtudo.com.br/noticias/2021/07/whatsapp-comeca-a-testar-acesso-simultaneo-em-ate-quatro-dispositivos.ghtml\n"
     ]
    },
    {
     "name": "stderr",
     "output_type": "stream",
     "text": [
      "C:\\Users\\Dell User\\anaconda3\\envs\\proyectos\\lib\\site-packages\\urllib3\\connectionpool.py:1013: InsecureRequestWarning: Unverified HTTPS request is being made to host 'www.techtudo.com.br'. Adding certificate verification is strongly advised. See: https://urllib3.readthedocs.io/en/1.26.x/advanced-usage.html#ssl-warnings\n",
      "  warnings.warn(\n",
      "C:\\Users\\Dell User\\anaconda3\\envs\\proyectos\\lib\\site-packages\\urllib3\\connectionpool.py:1013: InsecureRequestWarning: Unverified HTTPS request is being made to host 'epocanegocios.globo.com'. Adding certificate verification is strongly advised. See: https://urllib3.readthedocs.io/en/1.26.x/advanced-usage.html#ssl-warnings\n",
      "  warnings.warn(\n"
     ]
    },
    {
     "name": "stdout",
     "output_type": "stream",
     "text": [
      "https://epocanegocios.globo.com/Empresa/noticia/2021/07/xiaomi-supera-apple-pela-primeira-vez-e-se-torna-segunda-maior-fabricante-de-celulares.html\n"
     ]
    },
    {
     "name": "stderr",
     "output_type": "stream",
     "text": [
      "C:\\Users\\Dell User\\anaconda3\\envs\\proyectos\\lib\\site-packages\\urllib3\\connectionpool.py:1013: InsecureRequestWarning: Unverified HTTPS request is being made to host 'epocanegocios.globo.com'. Adding certificate verification is strongly advised. See: https://urllib3.readthedocs.io/en/1.26.x/advanced-usage.html#ssl-warnings\n",
      "  warnings.warn(\n",
      "C:\\Users\\Dell User\\anaconda3\\envs\\proyectos\\lib\\site-packages\\urllib3\\connectionpool.py:1013: InsecureRequestWarning: Unverified HTTPS request is being made to host 'www.techtudo.com.br'. Adding certificate verification is strongly advised. See: https://urllib3.readthedocs.io/en/1.26.x/advanced-usage.html#ssl-warnings\n",
      "  warnings.warn(\n"
     ]
    },
    {
     "name": "stdout",
     "output_type": "stream",
     "text": [
      "https://www.techtudo.com.br/noticias/2021/07/tiktok-facebook-e-instagram-estao-entre-apps-mais-baixados-de-junho.ghtml\n"
     ]
    },
    {
     "name": "stderr",
     "output_type": "stream",
     "text": [
      "C:\\Users\\Dell User\\anaconda3\\envs\\proyectos\\lib\\site-packages\\urllib3\\connectionpool.py:1013: InsecureRequestWarning: Unverified HTTPS request is being made to host 'www.techtudo.com.br'. Adding certificate verification is strongly advised. See: https://urllib3.readthedocs.io/en/1.26.x/advanced-usage.html#ssl-warnings\n",
      "  warnings.warn(\n",
      "C:\\Users\\Dell User\\anaconda3\\envs\\proyectos\\lib\\site-packages\\urllib3\\connectionpool.py:1013: InsecureRequestWarning: Unverified HTTPS request is being made to host 'www.techtudo.com.br'. Adding certificate verification is strongly advised. See: https://urllib3.readthedocs.io/en/1.26.x/advanced-usage.html#ssl-warnings\n",
      "  warnings.warn(\n"
     ]
    },
    {
     "name": "stdout",
     "output_type": "stream",
     "text": [
      "https://www.techtudo.com.br/noticias/2021/07/jogos-para-ganhar-dinheiro-funcionam-saiba-se-apps-sao-seguros.ghtml\n"
     ]
    },
    {
     "name": "stderr",
     "output_type": "stream",
     "text": [
      "C:\\Users\\Dell User\\anaconda3\\envs\\proyectos\\lib\\site-packages\\urllib3\\connectionpool.py:1013: InsecureRequestWarning: Unverified HTTPS request is being made to host 'www.techtudo.com.br'. Adding certificate verification is strongly advised. See: https://urllib3.readthedocs.io/en/1.26.x/advanced-usage.html#ssl-warnings\n",
      "  warnings.warn(\n",
      "C:\\Users\\Dell User\\anaconda3\\envs\\proyectos\\lib\\site-packages\\urllib3\\connectionpool.py:1013: InsecureRequestWarning: Unverified HTTPS request is being made to host 'noticias.uol.com.br'. Adding certificate verification is strongly advised. See: https://urllib3.readthedocs.io/en/1.26.x/advanced-usage.html#ssl-warnings\n",
      "  warnings.warn(\n"
     ]
    },
    {
     "name": "stdout",
     "output_type": "stream",
     "text": [
      "https://noticias.uol.com.br/colunas/juliana-dal-piva/2021/07/09/prisao-queiroz-fingir-que-nao-era-ele-rachadinha-flavio-bolsonaro.htm\n"
     ]
    },
    {
     "name": "stderr",
     "output_type": "stream",
     "text": [
      "C:\\Users\\Dell User\\anaconda3\\envs\\proyectos\\lib\\site-packages\\urllib3\\connectionpool.py:1013: InsecureRequestWarning: Unverified HTTPS request is being made to host 'noticias.uol.com.br'. Adding certificate verification is strongly advised. See: https://urllib3.readthedocs.io/en/1.26.x/advanced-usage.html#ssl-warnings\n",
      "  warnings.warn(\n",
      "C:\\Users\\Dell User\\anaconda3\\envs\\proyectos\\lib\\site-packages\\urllib3\\connectionpool.py:1013: InsecureRequestWarning: Unverified HTTPS request is being made to host 'www.techtudo.com.br'. Adding certificate verification is strongly advised. See: https://urllib3.readthedocs.io/en/1.26.x/advanced-usage.html#ssl-warnings\n",
      "  warnings.warn(\n"
     ]
    },
    {
     "name": "stdout",
     "output_type": "stream",
     "text": [
      "https://www.techtudo.com.br/noticias/2021/07/camera-do-whatsapp-tem-zoom-indesejado-apos-atualizacao-como-resolver.ghtml\n"
     ]
    },
    {
     "name": "stderr",
     "output_type": "stream",
     "text": [
      "C:\\Users\\Dell User\\anaconda3\\envs\\proyectos\\lib\\site-packages\\urllib3\\connectionpool.py:1013: InsecureRequestWarning: Unverified HTTPS request is being made to host 'www.techtudo.com.br'. Adding certificate verification is strongly advised. See: https://urllib3.readthedocs.io/en/1.26.x/advanced-usage.html#ssl-warnings\n",
      "  warnings.warn(\n",
      "C:\\Users\\Dell User\\anaconda3\\envs\\proyectos\\lib\\site-packages\\urllib3\\connectionpool.py:1013: InsecureRequestWarning: Unverified HTTPS request is being made to host 'revistapegn.globo.com'. Adding certificate verification is strongly advised. See: https://urllib3.readthedocs.io/en/1.26.x/advanced-usage.html#ssl-warnings\n",
      "  warnings.warn(\n"
     ]
    },
    {
     "name": "stdout",
     "output_type": "stream",
     "text": [
      "https://revistapegn.globo.com/Empreendedorismo/noticia/2021/07/7-coisas-que-steve-jobs-dizia-e-que-voce-tambem-deve-dizer.html\n"
     ]
    },
    {
     "name": "stderr",
     "output_type": "stream",
     "text": [
      "C:\\Users\\Dell User\\anaconda3\\envs\\proyectos\\lib\\site-packages\\urllib3\\connectionpool.py:1013: InsecureRequestWarning: Unverified HTTPS request is being made to host 'revistapegn.globo.com'. Adding certificate verification is strongly advised. See: https://urllib3.readthedocs.io/en/1.26.x/advanced-usage.html#ssl-warnings\n",
      "  warnings.warn(\n",
      "C:\\Users\\Dell User\\anaconda3\\envs\\proyectos\\lib\\site-packages\\urllib3\\connectionpool.py:1013: InsecureRequestWarning: Unverified HTTPS request is being made to host 'cultura.estadao.com.br'. Adding certificate verification is strongly advised. See: https://urllib3.readthedocs.io/en/1.26.x/advanced-usage.html#ssl-warnings\n",
      "  warnings.warn(\n"
     ]
    },
    {
     "name": "stdout",
     "output_type": "stream",
     "text": [
      "https://cultura.estadao.com.br/noticias/cinema,joao-cortes-dirige-nas-maos-de-quem-me-leva-seu-primeiro-longa,70003767751\n"
     ]
    },
    {
     "name": "stderr",
     "output_type": "stream",
     "text": [
      "C:\\Users\\Dell User\\anaconda3\\envs\\proyectos\\lib\\site-packages\\urllib3\\connectionpool.py:1013: InsecureRequestWarning: Unverified HTTPS request is being made to host 'cultura.estadao.com.br'. Adding certificate verification is strongly advised. See: https://urllib3.readthedocs.io/en/1.26.x/advanced-usage.html#ssl-warnings\n",
      "  warnings.warn(\n",
      "C:\\Users\\Dell User\\anaconda3\\envs\\proyectos\\lib\\site-packages\\urllib3\\connectionpool.py:1013: InsecureRequestWarning: Unverified HTTPS request is being made to host 'revistapegn.globo.com'. Adding certificate verification is strongly advised. See: https://urllib3.readthedocs.io/en/1.26.x/advanced-usage.html#ssl-warnings\n",
      "  warnings.warn(\n"
     ]
    },
    {
     "name": "stdout",
     "output_type": "stream",
     "text": [
      "https://revistapegn.globo.com/Startups/noticia/2021/07/com-startup-criada-no-brasil-grupo-irlandes-quer-treinar-profissionais-e-preencher-vagas-de-ti-no-exterior.html\n"
     ]
    },
    {
     "name": "stderr",
     "output_type": "stream",
     "text": [
      "C:\\Users\\Dell User\\anaconda3\\envs\\proyectos\\lib\\site-packages\\urllib3\\connectionpool.py:1013: InsecureRequestWarning: Unverified HTTPS request is being made to host 'revistapegn.globo.com'. Adding certificate verification is strongly advised. See: https://urllib3.readthedocs.io/en/1.26.x/advanced-usage.html#ssl-warnings\n",
      "  warnings.warn(\n",
      "C:\\Users\\Dell User\\anaconda3\\envs\\proyectos\\lib\\site-packages\\urllib3\\connectionpool.py:1013: InsecureRequestWarning: Unverified HTTPS request is being made to host 'link.estadao.com.br'. Adding certificate verification is strongly advised. See: https://urllib3.readthedocs.io/en/1.26.x/advanced-usage.html#ssl-warnings\n",
      "  warnings.warn(\n"
     ]
    },
    {
     "name": "stdout",
     "output_type": "stream",
     "text": [
      "https://link.estadao.com.br/noticias/empresas,netflix-quer-entrar-no-mercado-de-games-em-2022,70003778779\n"
     ]
    },
    {
     "name": "stderr",
     "output_type": "stream",
     "text": [
      "C:\\Users\\Dell User\\anaconda3\\envs\\proyectos\\lib\\site-packages\\urllib3\\connectionpool.py:1013: InsecureRequestWarning: Unverified HTTPS request is being made to host 'link.estadao.com.br'. Adding certificate verification is strongly advised. See: https://urllib3.readthedocs.io/en/1.26.x/advanced-usage.html#ssl-warnings\n",
      "  warnings.warn(\n",
      "C:\\Users\\Dell User\\anaconda3\\envs\\proyectos\\lib\\site-packages\\urllib3\\connectionpool.py:1013: InsecureRequestWarning: Unverified HTTPS request is being made to host 'www.ambito.com'. Adding certificate verification is strongly advised. See: https://urllib3.readthedocs.io/en/1.26.x/advanced-usage.html#ssl-warnings\n",
      "  warnings.warn(\n"
     ]
    },
    {
     "name": "stdout",
     "output_type": "stream",
     "text": [
      "https://www.ambito.com/informacion-general/whatsapp/halloapp-la-aplicacion-mensajeria-que-quiere-destronar-n5230547\n"
     ]
    },
    {
     "name": "stderr",
     "output_type": "stream",
     "text": [
      "C:\\Users\\Dell User\\anaconda3\\envs\\proyectos\\lib\\site-packages\\urllib3\\connectionpool.py:1013: InsecureRequestWarning: Unverified HTTPS request is being made to host 'www.ambito.com'. Adding certificate verification is strongly advised. See: https://urllib3.readthedocs.io/en/1.26.x/advanced-usage.html#ssl-warnings\n",
      "  warnings.warn(\n",
      "C:\\Users\\Dell User\\anaconda3\\envs\\proyectos\\lib\\site-packages\\urllib3\\connectionpool.py:1013: InsecureRequestWarning: Unverified HTTPS request is being made to host 'www.techtudo.com.br'. Adding certificate verification is strongly advised. See: https://urllib3.readthedocs.io/en/1.26.x/advanced-usage.html#ssl-warnings\n",
      "  warnings.warn(\n"
     ]
    },
    {
     "name": "stdout",
     "output_type": "stream",
     "text": [
      "https://www.techtudo.com.br/listas/2021/07/directv-go-e-bom-veja-precos-e-se-vale-a-pena-assinar.ghtml\n"
     ]
    },
    {
     "name": "stderr",
     "output_type": "stream",
     "text": [
      "C:\\Users\\Dell User\\anaconda3\\envs\\proyectos\\lib\\site-packages\\urllib3\\connectionpool.py:1013: InsecureRequestWarning: Unverified HTTPS request is being made to host 'www.techtudo.com.br'. Adding certificate verification is strongly advised. See: https://urllib3.readthedocs.io/en/1.26.x/advanced-usage.html#ssl-warnings\n",
      "  warnings.warn(\n",
      "C:\\Users\\Dell User\\anaconda3\\envs\\proyectos\\lib\\site-packages\\urllib3\\connectionpool.py:1013: InsecureRequestWarning: Unverified HTTPS request is being made to host 'epocanegocios.globo.com'. Adding certificate verification is strongly advised. See: https://urllib3.readthedocs.io/en/1.26.x/advanced-usage.html#ssl-warnings\n",
      "  warnings.warn(\n"
     ]
    },
    {
     "name": "stdout",
     "output_type": "stream",
     "text": [
      "https://epocanegocios.globo.com/Empresa/noticia/2021/07/epoca-negocios-duolingo-dispara-40-em-estreia-na-nasdaq-avaliado-em-us65-bi.html\n"
     ]
    },
    {
     "name": "stderr",
     "output_type": "stream",
     "text": [
      "C:\\Users\\Dell User\\anaconda3\\envs\\proyectos\\lib\\site-packages\\urllib3\\connectionpool.py:1013: InsecureRequestWarning: Unverified HTTPS request is being made to host 'epocanegocios.globo.com'. Adding certificate verification is strongly advised. See: https://urllib3.readthedocs.io/en/1.26.x/advanced-usage.html#ssl-warnings\n",
      "  warnings.warn(\n",
      "C:\\Users\\Dell User\\anaconda3\\envs\\proyectos\\lib\\site-packages\\urllib3\\connectionpool.py:1013: InsecureRequestWarning: Unverified HTTPS request is being made to host 'www.techtudo.com.br'. Adding certificate verification is strongly advised. See: https://urllib3.readthedocs.io/en/1.26.x/advanced-usage.html#ssl-warnings\n",
      "  warnings.warn(\n"
     ]
    },
    {
     "name": "stdout",
     "output_type": "stream",
     "text": [
      "https://www.techtudo.com.br/noticias/2021/07/ps5-chega-a-10-milhoes-de-unidades-vendidas-em-tempo-recorde.ghtml\n"
     ]
    },
    {
     "name": "stderr",
     "output_type": "stream",
     "text": [
      "C:\\Users\\Dell User\\anaconda3\\envs\\proyectos\\lib\\site-packages\\urllib3\\connectionpool.py:1013: InsecureRequestWarning: Unverified HTTPS request is being made to host 'www.techtudo.com.br'. Adding certificate verification is strongly advised. See: https://urllib3.readthedocs.io/en/1.26.x/advanced-usage.html#ssl-warnings\n",
      "  warnings.warn(\n",
      "C:\\Users\\Dell User\\anaconda3\\envs\\proyectos\\lib\\site-packages\\urllib3\\connectionpool.py:1013: InsecureRequestWarning: Unverified HTTPS request is being made to host 'link.estadao.com.br'. Adding certificate verification is strongly advised. See: https://urllib3.readthedocs.io/en/1.26.x/advanced-usage.html#ssl-warnings\n",
      "  warnings.warn(\n"
     ]
    },
    {
     "name": "stdout",
     "output_type": "stream",
     "text": [
      "https://link.estadao.com.br/noticias/games,fifa-22-abusa-do-playstation5-e-xbox-x-com-nova-tecnologia-de-captura-leia-impressoes,70003784155\n"
     ]
    },
    {
     "name": "stderr",
     "output_type": "stream",
     "text": [
      "C:\\Users\\Dell User\\anaconda3\\envs\\proyectos\\lib\\site-packages\\urllib3\\connectionpool.py:1013: InsecureRequestWarning: Unverified HTTPS request is being made to host 'link.estadao.com.br'. Adding certificate verification is strongly advised. See: https://urllib3.readthedocs.io/en/1.26.x/advanced-usage.html#ssl-warnings\n",
      "  warnings.warn(\n",
      "C:\\Users\\Dell User\\anaconda3\\envs\\proyectos\\lib\\site-packages\\urllib3\\connectionpool.py:1013: InsecureRequestWarning: Unverified HTTPS request is being made to host 'www.techtudo.com.br'. Adding certificate verification is strongly advised. See: https://urllib3.readthedocs.io/en/1.26.x/advanced-usage.html#ssl-warnings\n",
      "  warnings.warn(\n"
     ]
    },
    {
     "name": "stdout",
     "output_type": "stream",
     "text": [
      "https://www.techtudo.com.br/listas/2021/07/notebook-dell-core-i3-veja-quatro-modelos-para-comprar-no-brasil-em-2021.ghtml\n"
     ]
    },
    {
     "name": "stderr",
     "output_type": "stream",
     "text": [
      "C:\\Users\\Dell User\\anaconda3\\envs\\proyectos\\lib\\site-packages\\urllib3\\connectionpool.py:1013: InsecureRequestWarning: Unverified HTTPS request is being made to host 'www.techtudo.com.br'. Adding certificate verification is strongly advised. See: https://urllib3.readthedocs.io/en/1.26.x/advanced-usage.html#ssl-warnings\n",
      "  warnings.warn(\n",
      "C:\\Users\\Dell User\\anaconda3\\envs\\proyectos\\lib\\site-packages\\urllib3\\connectionpool.py:1013: InsecureRequestWarning: Unverified HTTPS request is being made to host 'www.techtudo.com.br'. Adding certificate verification is strongly advised. See: https://urllib3.readthedocs.io/en/1.26.x/advanced-usage.html#ssl-warnings\n",
      "  warnings.warn(\n"
     ]
    },
    {
     "name": "stdout",
     "output_type": "stream",
     "text": [
      "https://www.techtudo.com.br/listas/2021/07/hd-externo-4-tb-veja-seis-modelos-por-a-partir-de-r-790-para-comprar.ghtml\n"
     ]
    },
    {
     "name": "stderr",
     "output_type": "stream",
     "text": [
      "C:\\Users\\Dell User\\anaconda3\\envs\\proyectos\\lib\\site-packages\\urllib3\\connectionpool.py:1013: InsecureRequestWarning: Unverified HTTPS request is being made to host 'www.techtudo.com.br'. Adding certificate verification is strongly advised. See: https://urllib3.readthedocs.io/en/1.26.x/advanced-usage.html#ssl-warnings\n",
      "  warnings.warn(\n",
      "C:\\Users\\Dell User\\anaconda3\\envs\\proyectos\\lib\\site-packages\\urllib3\\connectionpool.py:1013: InsecureRequestWarning: Unverified HTTPS request is being made to host 'www.techtudo.com.br'. Adding certificate verification is strongly advised. See: https://urllib3.readthedocs.io/en/1.26.x/advanced-usage.html#ssl-warnings\n",
      "  warnings.warn(\n"
     ]
    },
    {
     "name": "stdout",
     "output_type": "stream",
     "text": [
      "https://www.techtudo.com.br/noticias/2021/07/the-sims-4-esta-em-promocao-no-steam-pc-ps4-e-xbox-one-veja-preco.ghtml\n"
     ]
    },
    {
     "name": "stderr",
     "output_type": "stream",
     "text": [
      "C:\\Users\\Dell User\\anaconda3\\envs\\proyectos\\lib\\site-packages\\urllib3\\connectionpool.py:1013: InsecureRequestWarning: Unverified HTTPS request is being made to host 'www.techtudo.com.br'. Adding certificate verification is strongly advised. See: https://urllib3.readthedocs.io/en/1.26.x/advanced-usage.html#ssl-warnings\n",
      "  warnings.warn(\n",
      "C:\\Users\\Dell User\\anaconda3\\envs\\proyectos\\lib\\site-packages\\urllib3\\connectionpool.py:1013: InsecureRequestWarning: Unverified HTTPS request is being made to host 'www.techtudo.com.br'. Adding certificate verification is strongly advised. See: https://urllib3.readthedocs.io/en/1.26.x/advanced-usage.html#ssl-warnings\n",
      "  warnings.warn(\n"
     ]
    },
    {
     "name": "stdout",
     "output_type": "stream",
     "text": [
      "https://www.techtudo.com.br/noticias/2021/07/the-legend-of-zelda-e-f1-2021-sao-destaques-nos-lancamentos-da-semana.ghtml\n"
     ]
    },
    {
     "name": "stderr",
     "output_type": "stream",
     "text": [
      "C:\\Users\\Dell User\\anaconda3\\envs\\proyectos\\lib\\site-packages\\urllib3\\connectionpool.py:1013: InsecureRequestWarning: Unverified HTTPS request is being made to host 'www.techtudo.com.br'. Adding certificate verification is strongly advised. See: https://urllib3.readthedocs.io/en/1.26.x/advanced-usage.html#ssl-warnings\n",
      "  warnings.warn(\n",
      "C:\\Users\\Dell User\\anaconda3\\envs\\proyectos\\lib\\site-packages\\urllib3\\connectionpool.py:1013: InsecureRequestWarning: Unverified HTTPS request is being made to host 'cultura.estadao.com.br'. Adding certificate verification is strongly advised. See: https://urllib3.readthedocs.io/en/1.26.x/advanced-usage.html#ssl-warnings\n",
      "  warnings.warn(\n"
     ]
    },
    {
     "name": "stdout",
     "output_type": "stream",
     "text": [
      "https://cultura.estadao.com.br/noticias/cinema,o-complicado-passado-de-natasha-romanoff-nos-cinemas-e-o-colorido-de-trolls-2-no-streaming,70003772920\n"
     ]
    },
    {
     "name": "stderr",
     "output_type": "stream",
     "text": [
      "C:\\Users\\Dell User\\anaconda3\\envs\\proyectos\\lib\\site-packages\\urllib3\\connectionpool.py:1013: InsecureRequestWarning: Unverified HTTPS request is being made to host 'cultura.estadao.com.br'. Adding certificate verification is strongly advised. See: https://urllib3.readthedocs.io/en/1.26.x/advanced-usage.html#ssl-warnings\n",
      "  warnings.warn(\n",
      "C:\\Users\\Dell User\\anaconda3\\envs\\proyectos\\lib\\site-packages\\urllib3\\connectionpool.py:1013: InsecureRequestWarning: Unverified HTTPS request is being made to host 'www.techtudo.com.br'. Adding certificate verification is strongly advised. See: https://urllib3.readthedocs.io/en/1.26.x/advanced-usage.html#ssl-warnings\n",
      "  warnings.warn(\n"
     ]
    },
    {
     "name": "stdout",
     "output_type": "stream",
     "text": [
      "https://www.techtudo.com.br/noticias/2021/07/promocao-de-ferias-do-steam-traz-milhares-de-jogos-mais-baratos-veja.ghtml\n"
     ]
    },
    {
     "name": "stderr",
     "output_type": "stream",
     "text": [
      "C:\\Users\\Dell User\\anaconda3\\envs\\proyectos\\lib\\site-packages\\urllib3\\connectionpool.py:1013: InsecureRequestWarning: Unverified HTTPS request is being made to host 'www.techtudo.com.br'. Adding certificate verification is strongly advised. See: https://urllib3.readthedocs.io/en/1.26.x/advanced-usage.html#ssl-warnings\n",
      "  warnings.warn(\n",
      "C:\\Users\\Dell User\\anaconda3\\envs\\proyectos\\lib\\site-packages\\urllib3\\connectionpool.py:1013: InsecureRequestWarning: Unverified HTTPS request is being made to host 'www.techtudo.com.br'. Adding certificate verification is strongly advised. See: https://urllib3.readthedocs.io/en/1.26.x/advanced-usage.html#ssl-warnings\n",
      "  warnings.warn(\n"
     ]
    },
    {
     "name": "stdout",
     "output_type": "stream",
     "text": [
      "https://www.techtudo.com.br/listas/2021/07/hbo-max-veja-precos-catalogo-como-baixar-e-mais.ghtml\n"
     ]
    },
    {
     "name": "stderr",
     "output_type": "stream",
     "text": [
      "C:\\Users\\Dell User\\anaconda3\\envs\\proyectos\\lib\\site-packages\\urllib3\\connectionpool.py:1013: InsecureRequestWarning: Unverified HTTPS request is being made to host 'www.techtudo.com.br'. Adding certificate verification is strongly advised. See: https://urllib3.readthedocs.io/en/1.26.x/advanced-usage.html#ssl-warnings\n",
      "  warnings.warn(\n",
      "C:\\Users\\Dell User\\anaconda3\\envs\\proyectos\\lib\\site-packages\\urllib3\\connectionpool.py:1013: InsecureRequestWarning: Unverified HTTPS request is being made to host 'www.techtudo.com.br'. Adding certificate verification is strongly advised. See: https://urllib3.readthedocs.io/en/1.26.x/advanced-usage.html#ssl-warnings\n",
      "  warnings.warn(\n"
     ]
    },
    {
     "name": "stdout",
     "output_type": "stream",
     "text": [
      "https://www.techtudo.com.br/noticias/2021/07/orcs-must-die-e-cotton-reboot-sao-destaques-nos-lancamentos-da-semana.ghtml\n"
     ]
    },
    {
     "name": "stderr",
     "output_type": "stream",
     "text": [
      "C:\\Users\\Dell User\\anaconda3\\envs\\proyectos\\lib\\site-packages\\urllib3\\connectionpool.py:1013: InsecureRequestWarning: Unverified HTTPS request is being made to host 'www.techtudo.com.br'. Adding certificate verification is strongly advised. See: https://urllib3.readthedocs.io/en/1.26.x/advanced-usage.html#ssl-warnings\n",
      "  warnings.warn(\n",
      "C:\\Users\\Dell User\\anaconda3\\envs\\proyectos\\lib\\site-packages\\urllib3\\connectionpool.py:1013: InsecureRequestWarning: Unverified HTTPS request is being made to host 'epocanegocios.globo.com'. Adding certificate verification is strongly advised. See: https://urllib3.readthedocs.io/en/1.26.x/advanced-usage.html#ssl-warnings\n",
      "  warnings.warn(\n"
     ]
    },
    {
     "name": "stdout",
     "output_type": "stream",
     "text": [
      "https://epocanegocios.globo.com/Mundo/noticia/2021/07/epoca-negocios-pentagono-descarta-acordo-de-u10-bi-do-governo-trump-com-a-microsoft.html\n"
     ]
    },
    {
     "name": "stderr",
     "output_type": "stream",
     "text": [
      "C:\\Users\\Dell User\\anaconda3\\envs\\proyectos\\lib\\site-packages\\urllib3\\connectionpool.py:1013: InsecureRequestWarning: Unverified HTTPS request is being made to host 'epocanegocios.globo.com'. Adding certificate verification is strongly advised. See: https://urllib3.readthedocs.io/en/1.26.x/advanced-usage.html#ssl-warnings\n",
      "  warnings.warn(\n",
      "C:\\Users\\Dell User\\anaconda3\\envs\\proyectos\\lib\\site-packages\\urllib3\\connectionpool.py:1013: InsecureRequestWarning: Unverified HTTPS request is being made to host 'www.techtudo.com.br'. Adding certificate verification is strongly advised. See: https://urllib3.readthedocs.io/en/1.26.x/advanced-usage.html#ssl-warnings\n",
      "  warnings.warn(\n"
     ]
    },
    {
     "name": "stdout",
     "output_type": "stream",
     "text": [
      "https://www.techtudo.com.br/listas/2021/07/notebook-branco-veja-seis-modelos-para-comprar-no-brasil-em-2021.ghtml\n"
     ]
    },
    {
     "name": "stderr",
     "output_type": "stream",
     "text": [
      "C:\\Users\\Dell User\\anaconda3\\envs\\proyectos\\lib\\site-packages\\urllib3\\connectionpool.py:1013: InsecureRequestWarning: Unverified HTTPS request is being made to host 'www.techtudo.com.br'. Adding certificate verification is strongly advised. See: https://urllib3.readthedocs.io/en/1.26.x/advanced-usage.html#ssl-warnings\n",
      "  warnings.warn(\n",
      "C:\\Users\\Dell User\\anaconda3\\envs\\proyectos\\lib\\site-packages\\urllib3\\connectionpool.py:1013: InsecureRequestWarning: Unverified HTTPS request is being made to host 'www.techtudo.com.br'. Adding certificate verification is strongly advised. See: https://urllib3.readthedocs.io/en/1.26.x/advanced-usage.html#ssl-warnings\n",
      "  warnings.warn(\n"
     ]
    },
    {
     "name": "stdout",
     "output_type": "stream",
     "text": [
      "https://www.techtudo.com.br/noticias/2021/07/microsoft-corrige-falha-no-windows-e-usuarios-devem-atualizar-sistema.ghtml\n"
     ]
    },
    {
     "name": "stderr",
     "output_type": "stream",
     "text": [
      "C:\\Users\\Dell User\\anaconda3\\envs\\proyectos\\lib\\site-packages\\urllib3\\connectionpool.py:1013: InsecureRequestWarning: Unverified HTTPS request is being made to host 'www.techtudo.com.br'. Adding certificate verification is strongly advised. See: https://urllib3.readthedocs.io/en/1.26.x/advanced-usage.html#ssl-warnings\n",
      "  warnings.warn(\n",
      "C:\\Users\\Dell User\\anaconda3\\envs\\proyectos\\lib\\site-packages\\urllib3\\connectionpool.py:1013: InsecureRequestWarning: Unverified HTTPS request is being made to host 'www.techtudo.com.br'. Adding certificate verification is strongly advised. See: https://urllib3.readthedocs.io/en/1.26.x/advanced-usage.html#ssl-warnings\n",
      "  warnings.warn(\n"
     ]
    },
    {
     "name": "stdout",
     "output_type": "stream",
     "text": [
      "https://www.techtudo.com.br/listas/2021/07/mouse-dell-veja-seis-modelos-a-partir-de-r-77-para-comprar-no-brasil.ghtml\n"
     ]
    },
    {
     "name": "stderr",
     "output_type": "stream",
     "text": [
      "C:\\Users\\Dell User\\anaconda3\\envs\\proyectos\\lib\\site-packages\\urllib3\\connectionpool.py:1013: InsecureRequestWarning: Unverified HTTPS request is being made to host 'www.techtudo.com.br'. Adding certificate verification is strongly advised. See: https://urllib3.readthedocs.io/en/1.26.x/advanced-usage.html#ssl-warnings\n",
      "  warnings.warn(\n",
      "C:\\Users\\Dell User\\anaconda3\\envs\\proyectos\\lib\\site-packages\\urllib3\\connectionpool.py:1013: InsecureRequestWarning: Unverified HTTPS request is being made to host 'www.techtudo.com.br'. Adding certificate verification is strongly advised. See: https://urllib3.readthedocs.io/en/1.26.x/advanced-usage.html#ssl-warnings\n",
      "  warnings.warn(\n"
     ]
    },
    {
     "name": "stdout",
     "output_type": "stream",
     "text": [
      "https://www.techtudo.com.br/noticias/2021/07/windows-11-malware-disfarcado-de-instalador-do-sistema-circula-na-web.ghtml\n"
     ]
    },
    {
     "name": "stderr",
     "output_type": "stream",
     "text": [
      "C:\\Users\\Dell User\\anaconda3\\envs\\proyectos\\lib\\site-packages\\urllib3\\connectionpool.py:1013: InsecureRequestWarning: Unverified HTTPS request is being made to host 'www.techtudo.com.br'. Adding certificate verification is strongly advised. See: https://urllib3.readthedocs.io/en/1.26.x/advanced-usage.html#ssl-warnings\n",
      "  warnings.warn(\n",
      "C:\\Users\\Dell User\\anaconda3\\envs\\proyectos\\lib\\site-packages\\urllib3\\connectionpool.py:1013: InsecureRequestWarning: Unverified HTTPS request is being made to host 'www.techtudo.com.br'. Adding certificate verification is strongly advised. See: https://urllib3.readthedocs.io/en/1.26.x/advanced-usage.html#ssl-warnings\n",
      "  warnings.warn(\n"
     ]
    },
    {
     "name": "stdout",
     "output_type": "stream",
     "text": [
      "https://www.techtudo.com.br/listas/2021/07/mouse-multilaser-veja-sete-modelos-para-comprar-no-brasil-em-2021.ghtml\n"
     ]
    },
    {
     "name": "stderr",
     "output_type": "stream",
     "text": [
      "C:\\Users\\Dell User\\anaconda3\\envs\\proyectos\\lib\\site-packages\\urllib3\\connectionpool.py:1013: InsecureRequestWarning: Unverified HTTPS request is being made to host 'www.techtudo.com.br'. Adding certificate verification is strongly advised. See: https://urllib3.readthedocs.io/en/1.26.x/advanced-usage.html#ssl-warnings\n",
      "  warnings.warn(\n",
      "C:\\Users\\Dell User\\anaconda3\\envs\\proyectos\\lib\\site-packages\\urllib3\\connectionpool.py:1013: InsecureRequestWarning: Unverified HTTPS request is being made to host 'epocanegocios.globo.com'. Adding certificate verification is strongly advised. See: https://urllib3.readthedocs.io/en/1.26.x/advanced-usage.html#ssl-warnings\n",
      "  warnings.warn(\n"
     ]
    },
    {
     "name": "stdout",
     "output_type": "stream",
     "text": [
      "https://epocanegocios.globo.com/Empresa/noticia/2021/07/epoca-negocios-microsoft-supera-previsoes-de-analistas-com-maior-demanda-por-computacao-em-nuvem.html\n"
     ]
    },
    {
     "name": "stderr",
     "output_type": "stream",
     "text": [
      "C:\\Users\\Dell User\\anaconda3\\envs\\proyectos\\lib\\site-packages\\urllib3\\connectionpool.py:1013: InsecureRequestWarning: Unverified HTTPS request is being made to host 'epocanegocios.globo.com'. Adding certificate verification is strongly advised. See: https://urllib3.readthedocs.io/en/1.26.x/advanced-usage.html#ssl-warnings\n",
      "  warnings.warn(\n",
      "C:\\Users\\Dell User\\anaconda3\\envs\\proyectos\\lib\\site-packages\\urllib3\\connectionpool.py:1013: InsecureRequestWarning: Unverified HTTPS request is being made to host 'www.ambito.com'. Adding certificate verification is strongly advised. See: https://urllib3.readthedocs.io/en/1.26.x/advanced-usage.html#ssl-warnings\n",
      "  warnings.warn(\n"
     ]
    },
    {
     "name": "stdout",
     "output_type": "stream",
     "text": [
      "https://www.ambito.com/finanzas/cedears/los-treparon-22-julio-cuales-fueron-los-10-que-mas-subieron-n5237851\n"
     ]
    },
    {
     "name": "stderr",
     "output_type": "stream",
     "text": [
      "C:\\Users\\Dell User\\anaconda3\\envs\\proyectos\\lib\\site-packages\\urllib3\\connectionpool.py:1013: InsecureRequestWarning: Unverified HTTPS request is being made to host 'www.ambito.com'. Adding certificate verification is strongly advised. See: https://urllib3.readthedocs.io/en/1.26.x/advanced-usage.html#ssl-warnings\n",
      "  warnings.warn(\n",
      "C:\\Users\\Dell User\\anaconda3\\envs\\proyectos\\lib\\site-packages\\urllib3\\connectionpool.py:1013: InsecureRequestWarning: Unverified HTTPS request is being made to host 'www.ambito.com'. Adding certificate verification is strongly advised. See: https://urllib3.readthedocs.io/en/1.26.x/advanced-usage.html#ssl-warnings\n",
      "  warnings.warn(\n"
     ]
    },
    {
     "name": "stdout",
     "output_type": "stream",
     "text": [
      "https://www.ambito.com/informacion-general/facebook/fabricara-lentes-camara-incorporada-n5237215\n"
     ]
    },
    {
     "name": "stderr",
     "output_type": "stream",
     "text": [
      "C:\\Users\\Dell User\\anaconda3\\envs\\proyectos\\lib\\site-packages\\urllib3\\connectionpool.py:1013: InsecureRequestWarning: Unverified HTTPS request is being made to host 'www.ambito.com'. Adding certificate verification is strongly advised. See: https://urllib3.readthedocs.io/en/1.26.x/advanced-usage.html#ssl-warnings\n",
      "  warnings.warn(\n",
      "C:\\Users\\Dell User\\anaconda3\\envs\\proyectos\\lib\\site-packages\\urllib3\\connectionpool.py:1013: InsecureRequestWarning: Unverified HTTPS request is being made to host 'revistapegn.globo.com'. Adding certificate verification is strongly advised. See: https://urllib3.readthedocs.io/en/1.26.x/advanced-usage.html#ssl-warnings\n",
      "  warnings.warn(\n"
     ]
    },
    {
     "name": "stdout",
     "output_type": "stream",
     "text": [
      "https://revistapegn.globo.com/Dia-a-dia/noticia/2021/07/bill-gates-diz-que-prefere-funcionarios-preguicosos-mas-e-preciso-entender-razao-dessa-preguica.html\n"
     ]
    },
    {
     "name": "stderr",
     "output_type": "stream",
     "text": [
      "C:\\Users\\Dell User\\anaconda3\\envs\\proyectos\\lib\\site-packages\\urllib3\\connectionpool.py:1013: InsecureRequestWarning: Unverified HTTPS request is being made to host 'revistapegn.globo.com'. Adding certificate verification is strongly advised. See: https://urllib3.readthedocs.io/en/1.26.x/advanced-usage.html#ssl-warnings\n",
      "  warnings.warn(\n",
      "C:\\Users\\Dell User\\anaconda3\\envs\\proyectos\\lib\\site-packages\\urllib3\\connectionpool.py:1013: InsecureRequestWarning: Unverified HTTPS request is being made to host 'www.bluradio.com'. Adding certificate verification is strongly advised. See: https://urllib3.readthedocs.io/en/1.26.x/advanced-usage.html#ssl-warnings\n",
      "  warnings.warn(\n"
     ]
    },
    {
     "name": "stdout",
     "output_type": "stream",
     "text": [
      "https://www.bluradio.com/tecnologia/videojuegos/fifa-22-sera-lanzado-el-1-de-octubre-con-mas-realismo-e-inmersion-que-nunca\n"
     ]
    },
    {
     "name": "stderr",
     "output_type": "stream",
     "text": [
      "C:\\Users\\Dell User\\anaconda3\\envs\\proyectos\\lib\\site-packages\\urllib3\\connectionpool.py:1013: InsecureRequestWarning: Unverified HTTPS request is being made to host 'www.bluradio.com'. Adding certificate verification is strongly advised. See: https://urllib3.readthedocs.io/en/1.26.x/advanced-usage.html#ssl-warnings\n",
      "  warnings.warn(\n",
      "C:\\Users\\Dell User\\anaconda3\\envs\\proyectos\\lib\\site-packages\\urllib3\\connectionpool.py:1013: InsecureRequestWarning: Unverified HTTPS request is being made to host 'noticias.uol.com.br'. Adding certificate verification is strongly advised. See: https://urllib3.readthedocs.io/en/1.26.x/advanced-usage.html#ssl-warnings\n",
      "  warnings.warn(\n"
     ]
    },
    {
     "name": "stdout",
     "output_type": "stream",
     "text": [
      "https://noticias.uol.com.br/ultimas-noticias/efe/2021/07/21/numero-2-da-diplomacia-americana-visitara-china-para-reduzir-tensoes.htm\n"
     ]
    },
    {
     "name": "stderr",
     "output_type": "stream",
     "text": [
      "C:\\Users\\Dell User\\anaconda3\\envs\\proyectos\\lib\\site-packages\\urllib3\\connectionpool.py:1013: InsecureRequestWarning: Unverified HTTPS request is being made to host 'noticias.uol.com.br'. Adding certificate verification is strongly advised. See: https://urllib3.readthedocs.io/en/1.26.x/advanced-usage.html#ssl-warnings\n",
      "  warnings.warn(\n",
      "C:\\Users\\Dell User\\anaconda3\\envs\\proyectos\\lib\\site-packages\\urllib3\\connectionpool.py:1013: InsecureRequestWarning: Unverified HTTPS request is being made to host 'www.techtudo.com.br'. Adding certificate verification is strongly advised. See: https://urllib3.readthedocs.io/en/1.26.x/advanced-usage.html#ssl-warnings\n",
      "  warnings.warn(\n"
     ]
    },
    {
     "name": "stdout",
     "output_type": "stream",
     "text": [
      "https://www.techtudo.com.br/listas/2021/07/mojang-studios-cinco-jogos-da-criadora-de-minecraft-para-conhecer.ghtml\n"
     ]
    },
    {
     "name": "stderr",
     "output_type": "stream",
     "text": [
      "C:\\Users\\Dell User\\anaconda3\\envs\\proyectos\\lib\\site-packages\\urllib3\\connectionpool.py:1013: InsecureRequestWarning: Unverified HTTPS request is being made to host 'www.techtudo.com.br'. Adding certificate verification is strongly advised. See: https://urllib3.readthedocs.io/en/1.26.x/advanced-usage.html#ssl-warnings\n",
      "  warnings.warn(\n",
      "C:\\Users\\Dell User\\anaconda3\\envs\\proyectos\\lib\\site-packages\\urllib3\\connectionpool.py:1013: InsecureRequestWarning: Unverified HTTPS request is being made to host 'www.techtudo.com.br'. Adding certificate verification is strongly advised. See: https://urllib3.readthedocs.io/en/1.26.x/advanced-usage.html#ssl-warnings\n",
      "  warnings.warn(\n"
     ]
    },
    {
     "name": "stdout",
     "output_type": "stream",
     "text": [
      "https://www.techtudo.com.br/noticias/2021/07/zadie-de-fortnite-conheca-uma-das-skins-mais-raras-do-battle-royale-esports.ghtml\n"
     ]
    },
    {
     "name": "stderr",
     "output_type": "stream",
     "text": [
      "C:\\Users\\Dell User\\anaconda3\\envs\\proyectos\\lib\\site-packages\\urllib3\\connectionpool.py:1013: InsecureRequestWarning: Unverified HTTPS request is being made to host 'www.techtudo.com.br'. Adding certificate verification is strongly advised. See: https://urllib3.readthedocs.io/en/1.26.x/advanced-usage.html#ssl-warnings\n",
      "  warnings.warn(\n",
      "C:\\Users\\Dell User\\anaconda3\\envs\\proyectos\\lib\\site-packages\\urllib3\\connectionpool.py:1013: InsecureRequestWarning: Unverified HTTPS request is being made to host 'www.techtudo.com.br'. Adding certificate verification is strongly advised. See: https://urllib3.readthedocs.io/en/1.26.x/advanced-usage.html#ssl-warnings\n",
      "  warnings.warn(\n"
     ]
    },
    {
     "name": "stdout",
     "output_type": "stream",
     "text": [
      "https://www.techtudo.com.br/noticias/2021/07/resident-evil-e-control-estao-mais-baratos-nesta-semana-veja-ofertas.ghtml\n"
     ]
    },
    {
     "name": "stderr",
     "output_type": "stream",
     "text": [
      "C:\\Users\\Dell User\\anaconda3\\envs\\proyectos\\lib\\site-packages\\urllib3\\connectionpool.py:1013: InsecureRequestWarning: Unverified HTTPS request is being made to host 'www.techtudo.com.br'. Adding certificate verification is strongly advised. See: https://urllib3.readthedocs.io/en/1.26.x/advanced-usage.html#ssl-warnings\n",
      "  warnings.warn(\n",
      "C:\\Users\\Dell User\\anaconda3\\envs\\proyectos\\lib\\site-packages\\urllib3\\connectionpool.py:1013: InsecureRequestWarning: Unverified HTTPS request is being made to host 'www.techtudo.com.br'. Adding certificate verification is strongly advised. See: https://urllib3.readthedocs.io/en/1.26.x/advanced-usage.html#ssl-warnings\n",
      "  warnings.warn(\n"
     ]
    },
    {
     "name": "stdout",
     "output_type": "stream",
     "text": [
      "https://www.techtudo.com.br/dicas-e-tutoriais/2021/07/italia-x-inglaterra-ao-vivo-onde-assistir-ao-jogo-da-eurocopa-online.ghtml\n"
     ]
    },
    {
     "name": "stderr",
     "output_type": "stream",
     "text": [
      "C:\\Users\\Dell User\\anaconda3\\envs\\proyectos\\lib\\site-packages\\urllib3\\connectionpool.py:1013: InsecureRequestWarning: Unverified HTTPS request is being made to host 'www.techtudo.com.br'. Adding certificate verification is strongly advised. See: https://urllib3.readthedocs.io/en/1.26.x/advanced-usage.html#ssl-warnings\n",
      "  warnings.warn(\n",
      "C:\\Users\\Dell User\\anaconda3\\envs\\proyectos\\lib\\site-packages\\urllib3\\connectionpool.py:1013: InsecureRequestWarning: Unverified HTTPS request is being made to host 'www.techtudo.com.br'. Adding certificate verification is strongly advised. See: https://urllib3.readthedocs.io/en/1.26.x/advanced-usage.html#ssl-warnings\n",
      "  warnings.warn(\n"
     ]
    },
    {
     "name": "stdout",
     "output_type": "stream",
     "text": [
      "https://www.techtudo.com.br/noticias/2021/07/ea-play-live-evento-traz-anuncios-de-battlefield-2042-e-apex-legends.ghtml\n"
     ]
    },
    {
     "name": "stderr",
     "output_type": "stream",
     "text": [
      "C:\\Users\\Dell User\\anaconda3\\envs\\proyectos\\lib\\site-packages\\urllib3\\connectionpool.py:1013: InsecureRequestWarning: Unverified HTTPS request is being made to host 'www.techtudo.com.br'. Adding certificate verification is strongly advised. See: https://urllib3.readthedocs.io/en/1.26.x/advanced-usage.html#ssl-warnings\n",
      "  warnings.warn(\n",
      "C:\\Users\\Dell User\\anaconda3\\envs\\proyectos\\lib\\site-packages\\urllib3\\connectionpool.py:1013: InsecureRequestWarning: Unverified HTTPS request is being made to host 'www.techtudo.com.br'. Adding certificate verification is strongly advised. See: https://urllib3.readthedocs.io/en/1.26.x/advanced-usage.html#ssl-warnings\n",
      "  warnings.warn(\n"
     ]
    },
    {
     "name": "stdout",
     "output_type": "stream",
     "text": [
      "https://www.techtudo.com.br/noticias/2021/07/predator-helios-300-em-2021-saiba-tudo-sobre-o-notebook-gamer-da-acer.ghtml\n"
     ]
    },
    {
     "name": "stderr",
     "output_type": "stream",
     "text": [
      "C:\\Users\\Dell User\\anaconda3\\envs\\proyectos\\lib\\site-packages\\urllib3\\connectionpool.py:1013: InsecureRequestWarning: Unverified HTTPS request is being made to host 'www.techtudo.com.br'. Adding certificate verification is strongly advised. See: https://urllib3.readthedocs.io/en/1.26.x/advanced-usage.html#ssl-warnings\n",
      "  warnings.warn(\n",
      "C:\\Users\\Dell User\\anaconda3\\envs\\proyectos\\lib\\site-packages\\urllib3\\connectionpool.py:1013: InsecureRequestWarning: Unverified HTTPS request is being made to host 'www.caracoltv.com'. Adding certificate verification is strongly advised. See: https://urllib3.readthedocs.io/en/1.26.x/advanced-usage.html#ssl-warnings\n",
      "  warnings.warn(\n"
     ]
    },
    {
     "name": "stdout",
     "output_type": "stream",
     "text": [
      "https://www.caracoltv.com/tecnologia/netflix-estudia-lanzar-su-propio-servicio-de-videojuegos-y-competiria-con-xbox\n"
     ]
    },
    {
     "name": "stderr",
     "output_type": "stream",
     "text": [
      "C:\\Users\\Dell User\\anaconda3\\envs\\proyectos\\lib\\site-packages\\urllib3\\connectionpool.py:1013: InsecureRequestWarning: Unverified HTTPS request is being made to host 'www.caracoltv.com'. Adding certificate verification is strongly advised. See: https://urllib3.readthedocs.io/en/1.26.x/advanced-usage.html#ssl-warnings\n",
      "  warnings.warn(\n",
      "C:\\Users\\Dell User\\anaconda3\\envs\\proyectos\\lib\\site-packages\\urllib3\\connectionpool.py:1013: InsecureRequestWarning: Unverified HTTPS request is being made to host 'www.ambito.com'. Adding certificate verification is strongly advised. See: https://urllib3.readthedocs.io/en/1.26.x/advanced-usage.html#ssl-warnings\n",
      "  warnings.warn(\n"
     ]
    },
    {
     "name": "stdout",
     "output_type": "stream",
     "text": [
      "https://www.ambito.com/mundo/guerra-gigantes-el-pentagono-anulo-un-megacontrato-10000-millones-dolares-microsoft-n5215760\n"
     ]
    },
    {
     "name": "stderr",
     "output_type": "stream",
     "text": [
      "C:\\Users\\Dell User\\anaconda3\\envs\\proyectos\\lib\\site-packages\\urllib3\\connectionpool.py:1013: InsecureRequestWarning: Unverified HTTPS request is being made to host 'www.ambito.com'. Adding certificate verification is strongly advised. See: https://urllib3.readthedocs.io/en/1.26.x/advanced-usage.html#ssl-warnings\n",
      "  warnings.warn(\n",
      "C:\\Users\\Dell User\\anaconda3\\envs\\proyectos\\lib\\site-packages\\urllib3\\connectionpool.py:1013: InsecureRequestWarning: Unverified HTTPS request is being made to host 'epocanegocios.globo.com'. Adding certificate verification is strongly advised. See: https://urllib3.readthedocs.io/en/1.26.x/advanced-usage.html#ssl-warnings\n",
      "  warnings.warn(\n"
     ]
    },
    {
     "name": "stdout",
     "output_type": "stream",
     "text": [
      "https://epocanegocios.globo.com/Tecnologia/noticia/2021/07/epoca-negocios-microsoft-vai-lancar-versao-do-windows-baseada-em-nuvem.html\n"
     ]
    },
    {
     "name": "stderr",
     "output_type": "stream",
     "text": [
      "C:\\Users\\Dell User\\anaconda3\\envs\\proyectos\\lib\\site-packages\\urllib3\\connectionpool.py:1013: InsecureRequestWarning: Unverified HTTPS request is being made to host 'epocanegocios.globo.com'. Adding certificate verification is strongly advised. See: https://urllib3.readthedocs.io/en/1.26.x/advanced-usage.html#ssl-warnings\n",
      "  warnings.warn(\n",
      "C:\\Users\\Dell User\\anaconda3\\envs\\proyectos\\lib\\site-packages\\urllib3\\connectionpool.py:1013: InsecureRequestWarning: Unverified HTTPS request is being made to host 'www.techtudo.com.br'. Adding certificate verification is strongly advised. See: https://urllib3.readthedocs.io/en/1.26.x/advanced-usage.html#ssl-warnings\n",
      "  warnings.warn(\n"
     ]
    },
    {
     "name": "stdout",
     "output_type": "stream",
     "text": [
      "https://www.techtudo.com.br/listas/2021/07/fim-do-pes-veja-o-que-muda-com-o-efootball-que-substitui-o-pes-2022.ghtml\n"
     ]
    },
    {
     "name": "stderr",
     "output_type": "stream",
     "text": [
      "C:\\Users\\Dell User\\anaconda3\\envs\\proyectos\\lib\\site-packages\\urllib3\\connectionpool.py:1013: InsecureRequestWarning: Unverified HTTPS request is being made to host 'www.techtudo.com.br'. Adding certificate verification is strongly advised. See: https://urllib3.readthedocs.io/en/1.26.x/advanced-usage.html#ssl-warnings\n",
      "  warnings.warn(\n",
      "C:\\Users\\Dell User\\anaconda3\\envs\\proyectos\\lib\\site-packages\\urllib3\\connectionpool.py:1013: InsecureRequestWarning: Unverified HTTPS request is being made to host 'www.techtudo.com.br'. Adding certificate verification is strongly advised. See: https://urllib3.readthedocs.io/en/1.26.x/advanced-usage.html#ssl-warnings\n",
      "  warnings.warn(\n"
     ]
    },
    {
     "name": "stdout",
     "output_type": "stream",
     "text": [
      "https://www.techtudo.com.br/noticias/2021/07/fifa-22-e-anunciado-oficialmente-pela-ea-e-ganha-primeiro-trailer.ghtml\n"
     ]
    },
    {
     "name": "stderr",
     "output_type": "stream",
     "text": [
      "C:\\Users\\Dell User\\anaconda3\\envs\\proyectos\\lib\\site-packages\\urllib3\\connectionpool.py:1013: InsecureRequestWarning: Unverified HTTPS request is being made to host 'www.techtudo.com.br'. Adding certificate verification is strongly advised. See: https://urllib3.readthedocs.io/en/1.26.x/advanced-usage.html#ssl-warnings\n",
      "  warnings.warn(\n",
      "C:\\Users\\Dell User\\anaconda3\\envs\\proyectos\\lib\\site-packages\\urllib3\\connectionpool.py:1013: InsecureRequestWarning: Unverified HTTPS request is being made to host 'www.techtudo.com.br'. Adding certificate verification is strongly advised. See: https://urllib3.readthedocs.io/en/1.26.x/advanced-usage.html#ssl-warnings\n",
      "  warnings.warn(\n"
     ]
    },
    {
     "name": "stdout",
     "output_type": "stream",
     "text": [
      "https://www.techtudo.com.br/noticias/2021/07/notebook-dell-inspiron-13-reune-portabilidade-e-desempenho-em-design-exclusivo.ghtml\n"
     ]
    },
    {
     "name": "stderr",
     "output_type": "stream",
     "text": [
      "C:\\Users\\Dell User\\anaconda3\\envs\\proyectos\\lib\\site-packages\\urllib3\\connectionpool.py:1013: InsecureRequestWarning: Unverified HTTPS request is being made to host 'www.techtudo.com.br'. Adding certificate verification is strongly advised. See: https://urllib3.readthedocs.io/en/1.26.x/advanced-usage.html#ssl-warnings\n",
      "  warnings.warn(\n",
      "C:\\Users\\Dell User\\anaconda3\\envs\\proyectos\\lib\\site-packages\\urllib3\\connectionpool.py:1013: InsecureRequestWarning: Unverified HTTPS request is being made to host 'www.techtudo.com.br'. Adding certificate verification is strongly advised. See: https://urllib3.readthedocs.io/en/1.26.x/advanced-usage.html#ssl-warnings\n",
      "  warnings.warn(\n"
     ]
    },
    {
     "name": "stdout",
     "output_type": "stream",
     "text": [
      "https://www.techtudo.com.br/listas/2021/07/hd-externo-4-tb-veja-seis-modelos-por-a-partir-de-r-790-para-comprar.ghtml\n"
     ]
    },
    {
     "name": "stderr",
     "output_type": "stream",
     "text": [
      "C:\\Users\\Dell User\\anaconda3\\envs\\proyectos\\lib\\site-packages\\urllib3\\connectionpool.py:1013: InsecureRequestWarning: Unverified HTTPS request is being made to host 'www.techtudo.com.br'. Adding certificate verification is strongly advised. See: https://urllib3.readthedocs.io/en/1.26.x/advanced-usage.html#ssl-warnings\n",
      "  warnings.warn(\n",
      "C:\\Users\\Dell User\\anaconda3\\envs\\proyectos\\lib\\site-packages\\urllib3\\connectionpool.py:1013: InsecureRequestWarning: Unverified HTTPS request is being made to host 'www.techtudo.com.br'. Adding certificate verification is strongly advised. See: https://urllib3.readthedocs.io/en/1.26.x/advanced-usage.html#ssl-warnings\n",
      "  warnings.warn(\n"
     ]
    },
    {
     "name": "stdout",
     "output_type": "stream",
     "text": [
      "https://www.techtudo.com.br/noticias/2021/07/yu-gi-oh-master-duel-e-anunciado-para-playstation-xbox-pc-e-celulares.ghtml\n"
     ]
    },
    {
     "name": "stderr",
     "output_type": "stream",
     "text": [
      "C:\\Users\\Dell User\\anaconda3\\envs\\proyectos\\lib\\site-packages\\urllib3\\connectionpool.py:1013: InsecureRequestWarning: Unverified HTTPS request is being made to host 'www.techtudo.com.br'. Adding certificate verification is strongly advised. See: https://urllib3.readthedocs.io/en/1.26.x/advanced-usage.html#ssl-warnings\n",
      "  warnings.warn(\n",
      "C:\\Users\\Dell User\\anaconda3\\envs\\proyectos\\lib\\site-packages\\urllib3\\connectionpool.py:1013: InsecureRequestWarning: Unverified HTTPS request is being made to host 'www.techtudo.com.br'. Adding certificate verification is strongly advised. See: https://urllib3.readthedocs.io/en/1.26.x/advanced-usage.html#ssl-warnings\n",
      "  warnings.warn(\n"
     ]
    },
    {
     "name": "stdout",
     "output_type": "stream",
     "text": [
      "https://www.techtudo.com.br/noticias/2021/07/google-drive-anuncia-aplicativo-para-pc-com-sincronizacao-de-fotos.ghtml\n"
     ]
    },
    {
     "name": "stderr",
     "output_type": "stream",
     "text": [
      "C:\\Users\\Dell User\\anaconda3\\envs\\proyectos\\lib\\site-packages\\urllib3\\connectionpool.py:1013: InsecureRequestWarning: Unverified HTTPS request is being made to host 'www.techtudo.com.br'. Adding certificate verification is strongly advised. See: https://urllib3.readthedocs.io/en/1.26.x/advanced-usage.html#ssl-warnings\n",
      "  warnings.warn(\n",
      "C:\\Users\\Dell User\\anaconda3\\envs\\proyectos\\lib\\site-packages\\urllib3\\connectionpool.py:1013: InsecureRequestWarning: Unverified HTTPS request is being made to host 'epocanegocios.globo.com'. Adding certificate verification is strongly advised. See: https://urllib3.readthedocs.io/en/1.26.x/advanced-usage.html#ssl-warnings\n",
      "  warnings.warn(\n"
     ]
    },
    {
     "name": "stdout",
     "output_type": "stream",
     "text": [
      "https://epocanegocios.globo.com/Empresa/noticia/2021/07/china-rebate-acusacoes-sobre-ataque-contra-microsoft.html\n"
     ]
    },
    {
     "name": "stderr",
     "output_type": "stream",
     "text": [
      "C:\\Users\\Dell User\\anaconda3\\envs\\proyectos\\lib\\site-packages\\urllib3\\connectionpool.py:1013: InsecureRequestWarning: Unverified HTTPS request is being made to host 'epocanegocios.globo.com'. Adding certificate verification is strongly advised. See: https://urllib3.readthedocs.io/en/1.26.x/advanced-usage.html#ssl-warnings\n",
      "  warnings.warn(\n",
      "C:\\Users\\Dell User\\anaconda3\\envs\\proyectos\\lib\\site-packages\\urllib3\\connectionpool.py:1013: InsecureRequestWarning: Unverified HTTPS request is being made to host 'www.ambito.com'. Adding certificate verification is strongly advised. See: https://urllib3.readthedocs.io/en/1.26.x/advanced-usage.html#ssl-warnings\n",
      "  warnings.warn(\n"
     ]
    },
    {
     "name": "stdout",
     "output_type": "stream",
     "text": [
      "https://www.ambito.com/negocios/netflix/va-ofrecer-videojuegos-partir-del-2022-conoce-los-detalles-n5223128\n"
     ]
    },
    {
     "name": "stderr",
     "output_type": "stream",
     "text": [
      "C:\\Users\\Dell User\\anaconda3\\envs\\proyectos\\lib\\site-packages\\urllib3\\connectionpool.py:1013: InsecureRequestWarning: Unverified HTTPS request is being made to host 'www.ambito.com'. Adding certificate verification is strongly advised. See: https://urllib3.readthedocs.io/en/1.26.x/advanced-usage.html#ssl-warnings\n",
      "  warnings.warn(\n",
      "C:\\Users\\Dell User\\anaconda3\\envs\\proyectos\\lib\\site-packages\\urllib3\\connectionpool.py:1013: InsecureRequestWarning: Unverified HTTPS request is being made to host 'www.techtudo.com.br'. Adding certificate verification is strongly advised. See: https://urllib3.readthedocs.io/en/1.26.x/advanced-usage.html#ssl-warnings\n",
      "  warnings.warn(\n"
     ]
    },
    {
     "name": "stdout",
     "output_type": "stream",
     "text": [
      "https://www.techtudo.com.br/dicas-e-tutoriais/2021/07/call-of-duty-warzone-stats-como-ver-horas-jogadas-abates-mortes-e-mais-esports.ghtml\n"
     ]
    },
    {
     "name": "stderr",
     "output_type": "stream",
     "text": [
      "C:\\Users\\Dell User\\anaconda3\\envs\\proyectos\\lib\\site-packages\\urllib3\\connectionpool.py:1013: InsecureRequestWarning: Unverified HTTPS request is being made to host 'www.techtudo.com.br'. Adding certificate verification is strongly advised. See: https://urllib3.readthedocs.io/en/1.26.x/advanced-usage.html#ssl-warnings\n",
      "  warnings.warn(\n",
      "C:\\Users\\Dell User\\anaconda3\\envs\\proyectos\\lib\\site-packages\\urllib3\\connectionpool.py:1013: InsecureRequestWarning: Unverified HTTPS request is being made to host 'www.canal-ar.com.ar'. Adding certificate verification is strongly advised. See: https://urllib3.readthedocs.io/en/1.26.x/advanced-usage.html#ssl-warnings\n",
      "  warnings.warn(\n"
     ]
    },
    {
     "name": "stdout",
     "output_type": "stream",
     "text": [
      "https://www.canal-ar.com.ar/29516-Microsoft-lanzo-Windows-365-y-crea-una-nueva-categoria-la-Cloud-PC.html\n"
     ]
    },
    {
     "name": "stderr",
     "output_type": "stream",
     "text": [
      "C:\\Users\\Dell User\\anaconda3\\envs\\proyectos\\lib\\site-packages\\urllib3\\connectionpool.py:1013: InsecureRequestWarning: Unverified HTTPS request is being made to host 'www.canal-ar.com.ar'. Adding certificate verification is strongly advised. See: https://urllib3.readthedocs.io/en/1.26.x/advanced-usage.html#ssl-warnings\n",
      "  warnings.warn(\n",
      "C:\\Users\\Dell User\\anaconda3\\envs\\proyectos\\lib\\site-packages\\urllib3\\connectionpool.py:1013: InsecureRequestWarning: Unverified HTTPS request is being made to host 'www.techtudo.com.br'. Adding certificate verification is strongly advised. See: https://urllib3.readthedocs.io/en/1.26.x/advanced-usage.html#ssl-warnings\n",
      "  warnings.warn(\n"
     ]
    },
    {
     "name": "stdout",
     "output_type": "stream",
     "text": [
      "https://www.techtudo.com.br/dicas-e-tutoriais/2021/07/axolote-no-minecraft-veja-como-encontrar-domar-e-reproduzir.ghtml\n"
     ]
    },
    {
     "name": "stderr",
     "output_type": "stream",
     "text": [
      "C:\\Users\\Dell User\\anaconda3\\envs\\proyectos\\lib\\site-packages\\urllib3\\connectionpool.py:1013: InsecureRequestWarning: Unverified HTTPS request is being made to host 'www.techtudo.com.br'. Adding certificate verification is strongly advised. See: https://urllib3.readthedocs.io/en/1.26.x/advanced-usage.html#ssl-warnings\n",
      "  warnings.warn(\n",
      "C:\\Users\\Dell User\\anaconda3\\envs\\proyectos\\lib\\site-packages\\urllib3\\connectionpool.py:1013: InsecureRequestWarning: Unverified HTTPS request is being made to host 'link.estadao.com.br'. Adding certificate verification is strongly advised. See: https://urllib3.readthedocs.io/en/1.26.x/advanced-usage.html#ssl-warnings\n",
      "  warnings.warn(\n"
     ]
    },
    {
     "name": "stdout",
     "output_type": "stream",
     "text": [
      "https://link.estadao.com.br/noticias/empresas,netflix-quer-entrar-no-mercado-de-games-em-2022,70003778779\n"
     ]
    },
    {
     "name": "stderr",
     "output_type": "stream",
     "text": [
      "C:\\Users\\Dell User\\anaconda3\\envs\\proyectos\\lib\\site-packages\\urllib3\\connectionpool.py:1013: InsecureRequestWarning: Unverified HTTPS request is being made to host 'link.estadao.com.br'. Adding certificate verification is strongly advised. See: https://urllib3.readthedocs.io/en/1.26.x/advanced-usage.html#ssl-warnings\n",
      "  warnings.warn(\n",
      "C:\\Users\\Dell User\\anaconda3\\envs\\proyectos\\lib\\site-packages\\urllib3\\connectionpool.py:1013: InsecureRequestWarning: Unverified HTTPS request is being made to host 'www.techtudo.com.br'. Adding certificate verification is strongly advised. See: https://urllib3.readthedocs.io/en/1.26.x/advanced-usage.html#ssl-warnings\n",
      "  warnings.warn(\n"
     ]
    },
    {
     "name": "stdout",
     "output_type": "stream",
     "text": [
      "https://www.techtudo.com.br/dicas-e-tutoriais/2021/07/como-conseguir-roupas-gratis-no-roblox.ghtml\n"
     ]
    },
    {
     "name": "stderr",
     "output_type": "stream",
     "text": [
      "C:\\Users\\Dell User\\anaconda3\\envs\\proyectos\\lib\\site-packages\\urllib3\\connectionpool.py:1013: InsecureRequestWarning: Unverified HTTPS request is being made to host 'www.techtudo.com.br'. Adding certificate verification is strongly advised. See: https://urllib3.readthedocs.io/en/1.26.x/advanced-usage.html#ssl-warnings\n",
      "  warnings.warn(\n",
      "C:\\Users\\Dell User\\anaconda3\\envs\\proyectos\\lib\\site-packages\\urllib3\\connectionpool.py:1013: InsecureRequestWarning: Unverified HTTPS request is being made to host 'www.radioagricultura.cl'. Adding certificate verification is strongly advised. See: https://urllib3.readthedocs.io/en/1.26.x/advanced-usage.html#ssl-warnings\n",
      "  warnings.warn(\n"
     ]
    },
    {
     "name": "stdout",
     "output_type": "stream",
     "text": [
      "https://www.radioagricultura.cl/nacional/2021/07/08/subsecretario-maximo-pavez-e-inicio-de-la-convencion-constitucional-no-hubo-ninguna-disposicion-del-senado-el-dia-domingo.html\n"
     ]
    },
    {
     "name": "stderr",
     "output_type": "stream",
     "text": [
      "C:\\Users\\Dell User\\anaconda3\\envs\\proyectos\\lib\\site-packages\\urllib3\\connectionpool.py:1013: InsecureRequestWarning: Unverified HTTPS request is being made to host 'www.radioagricultura.cl'. Adding certificate verification is strongly advised. See: https://urllib3.readthedocs.io/en/1.26.x/advanced-usage.html#ssl-warnings\n",
      "  warnings.warn(\n",
      "C:\\Users\\Dell User\\anaconda3\\envs\\proyectos\\lib\\site-packages\\urllib3\\connectionpool.py:1013: InsecureRequestWarning: Unverified HTTPS request is being made to host 'noticias.uol.com.br'. Adding certificate verification is strongly advised. See: https://urllib3.readthedocs.io/en/1.26.x/advanced-usage.html#ssl-warnings\n",
      "  warnings.warn(\n"
     ]
    },
    {
     "name": "stdout",
     "output_type": "stream",
     "text": [
      "https://noticias.uol.com.br/ultimas-noticias/afp/2021/07/20/china-nega-responsabilidade-em-ataque-cibernetico-contra-microsoft-e-critica-aliados-dos-eua.htm\n"
     ]
    },
    {
     "name": "stderr",
     "output_type": "stream",
     "text": [
      "C:\\Users\\Dell User\\anaconda3\\envs\\proyectos\\lib\\site-packages\\urllib3\\connectionpool.py:1013: InsecureRequestWarning: Unverified HTTPS request is being made to host 'noticias.uol.com.br'. Adding certificate verification is strongly advised. See: https://urllib3.readthedocs.io/en/1.26.x/advanced-usage.html#ssl-warnings\n",
      "  warnings.warn(\n"
     ]
    },
    {
     "name": "stdout",
     "output_type": "stream",
     "text": [
      "http://elempresario.mx/management-mrkt/talently-plataforma-que-coloca-mujeres-puestos-tecnologia\n"
     ]
    },
    {
     "name": "stderr",
     "output_type": "stream",
     "text": [
      "C:\\Users\\Dell User\\anaconda3\\envs\\proyectos\\lib\\site-packages\\urllib3\\connectionpool.py:1013: InsecureRequestWarning: Unverified HTTPS request is being made to host 'www.techtudo.com.br'. Adding certificate verification is strongly advised. See: https://urllib3.readthedocs.io/en/1.26.x/advanced-usage.html#ssl-warnings\n",
      "  warnings.warn(\n"
     ]
    },
    {
     "name": "stdout",
     "output_type": "stream",
     "text": [
      "https://www.techtudo.com.br/listas/2021/07/xbox-series-x-cinco-fatos-para-saber-antes-de-comprar-o-console-da-microsoft.ghtml\n"
     ]
    },
    {
     "name": "stderr",
     "output_type": "stream",
     "text": [
      "C:\\Users\\Dell User\\anaconda3\\envs\\proyectos\\lib\\site-packages\\urllib3\\connectionpool.py:1013: InsecureRequestWarning: Unverified HTTPS request is being made to host 'www.techtudo.com.br'. Adding certificate verification is strongly advised. See: https://urllib3.readthedocs.io/en/1.26.x/advanced-usage.html#ssl-warnings\n",
      "  warnings.warn(\n",
      "C:\\Users\\Dell User\\anaconda3\\envs\\proyectos\\lib\\site-packages\\urllib3\\connectionpool.py:1013: InsecureRequestWarning: Unverified HTTPS request is being made to host 'www.techtudo.com.br'. Adding certificate verification is strongly advised. See: https://urllib3.readthedocs.io/en/1.26.x/advanced-usage.html#ssl-warnings\n",
      "  warnings.warn(\n"
     ]
    },
    {
     "name": "stdout",
     "output_type": "stream",
     "text": [
      "https://www.techtudo.com.br/listas/2021/07/headset-razer-veja-sete-opcoes-para-comprar-no-brasil-em-2021.ghtml\n"
     ]
    },
    {
     "name": "stderr",
     "output_type": "stream",
     "text": [
      "C:\\Users\\Dell User\\anaconda3\\envs\\proyectos\\lib\\site-packages\\urllib3\\connectionpool.py:1013: InsecureRequestWarning: Unverified HTTPS request is being made to host 'www.techtudo.com.br'. Adding certificate verification is strongly advised. See: https://urllib3.readthedocs.io/en/1.26.x/advanced-usage.html#ssl-warnings\n",
      "  warnings.warn(\n",
      "C:\\Users\\Dell User\\anaconda3\\envs\\proyectos\\lib\\site-packages\\urllib3\\connectionpool.py:1013: InsecureRequestWarning: Unverified HTTPS request is being made to host 'www.techtudo.com.br'. Adding certificate verification is strongly advised. See: https://urllib3.readthedocs.io/en/1.26.x/advanced-usage.html#ssl-warnings\n",
      "  warnings.warn(\n"
     ]
    },
    {
     "name": "stdout",
     "output_type": "stream",
     "text": [
      "https://www.techtudo.com.br/listas/2021/07/quer-um-fone-gamer-saiba-o-que-considerar-na-hora-de-comprar.ghtml\n"
     ]
    },
    {
     "name": "stderr",
     "output_type": "stream",
     "text": [
      "C:\\Users\\Dell User\\anaconda3\\envs\\proyectos\\lib\\site-packages\\urllib3\\connectionpool.py:1013: InsecureRequestWarning: Unverified HTTPS request is being made to host 'www.techtudo.com.br'. Adding certificate verification is strongly advised. See: https://urllib3.readthedocs.io/en/1.26.x/advanced-usage.html#ssl-warnings\n",
      "  warnings.warn(\n",
      "<ipython-input-93-af38ae111efe>:1: SettingWithCopyWarning: \n",
      "A value is trying to be set on a copy of a slice from a DataFrame.\n",
      "Try using .loc[row_indexer,col_indexer] = value instead\n",
      "\n",
      "See the caveats in the documentation: https://pandas.pydata.org/pandas-docs/stable/user_guide/indexing.html#returning-a-view-versus-a-copy\n",
      "  cims_fy21_1['Link'] = cims_fy21_1['Url'].apply(lambda row: link(row))\n"
     ]
    },
    {
     "data": {
      "text/html": [
       "<div>\n",
       "<style scoped>\n",
       "    .dataframe tbody tr th:only-of-type {\n",
       "        vertical-align: middle;\n",
       "    }\n",
       "\n",
       "    .dataframe tbody tr th {\n",
       "        vertical-align: top;\n",
       "    }\n",
       "\n",
       "    .dataframe thead th {\n",
       "        text-align: right;\n",
       "    }\n",
       "</style>\n",
       "<table border=\"1\" class=\"dataframe\">\n",
       "  <thead>\n",
       "    <tr style=\"text-align: right;\">\n",
       "      <th></th>\n",
       "      <th>ArticleID</th>\n",
       "      <th>Publisheddate</th>\n",
       "      <th>Headline</th>\n",
       "      <th>Url</th>\n",
       "      <th>OutletName</th>\n",
       "      <th>AuthorName</th>\n",
       "      <th>Country</th>\n",
       "      <th>Language</th>\n",
       "      <th>Impressions</th>\n",
       "      <th>Shares</th>\n",
       "      <th>Coded</th>\n",
       "      <th>Company</th>\n",
       "      <th>FY</th>\n",
       "      <th>Q</th>\n",
       "      <th>H</th>\n",
       "      <th>FullMonth</th>\n",
       "      <th>dayOfWeek</th>\n",
       "      <th>CalendarYear</th>\n",
       "      <th>CalendarMonth</th>\n",
       "      <th>CIMSUrl</th>\n",
       "      <th>DataSource</th>\n",
       "      <th>Link</th>\n",
       "    </tr>\n",
       "  </thead>\n",
       "  <tbody>\n",
       "    <tr>\n",
       "      <th>32</th>\n",
       "      <td>d9b3e609f321b38aa6848c485066d18e940e44e1816b7c...</td>\n",
       "      <td>2021-07-07 11:46:53</td>\n",
       "      <td>Reportan incidente en parroquia de Condado con...</td>\n",
       "      <td>http://ct.moreover.com/?a=45330846163&amp;p=1e7&amp;v=...</td>\n",
       "      <td>metro.pr</td>\n",
       "      <td>Metro Puerto Rico</td>\n",
       "      <td>Puerto Rico</td>\n",
       "      <td>es</td>\n",
       "      <td>32131</td>\n",
       "      <td>2.0</td>\n",
       "      <td>NaN</td>\n",
       "      <td>Google</td>\n",
       "      <td>2022</td>\n",
       "      <td>Q1</td>\n",
       "      <td>H1</td>\n",
       "      <td>July</td>\n",
       "      <td>Wednesday</td>\n",
       "      <td>2021</td>\n",
       "      <td>7</td>\n",
       "      <td>1</td>\n",
       "      <td>CIMS</td>\n",
       "      <td>https://www.metro.pr/pr/noticias/2021/07/07/re...</td>\n",
       "    </tr>\n",
       "    <tr>\n",
       "      <th>68</th>\n",
       "      <td>4810d21a47e3b12e9e8db23e2c77ca63342918316d3bb7...</td>\n",
       "      <td>2021-07-12 10:00:43</td>\n",
       "      <td>Google Meet ganha máscaras e efeitos; saiba co...</td>\n",
       "      <td>http://ct.moreover.com/?a=45367122246&amp;p=1e7&amp;v=...</td>\n",
       "      <td>techtudo.com.br</td>\n",
       "      <td>Marvin Costa</td>\n",
       "      <td>Brazil</td>\n",
       "      <td>pt</td>\n",
       "      <td>911960</td>\n",
       "      <td>3.0</td>\n",
       "      <td>2.0</td>\n",
       "      <td>Google</td>\n",
       "      <td>2022</td>\n",
       "      <td>Q1</td>\n",
       "      <td>H1</td>\n",
       "      <td>July</td>\n",
       "      <td>Monday</td>\n",
       "      <td>2021</td>\n",
       "      <td>7</td>\n",
       "      <td>1</td>\n",
       "      <td>CIMS</td>\n",
       "      <td>https://www.techtudo.com.br/dicas-e-tutoriais/...</td>\n",
       "    </tr>\n",
       "    <tr>\n",
       "      <th>121</th>\n",
       "      <td>67bae4dd10fa1d4c60fa3af9d12977fa7b60b9ceb34d1f...</td>\n",
       "      <td>2021-07-09 15:53:39</td>\n",
       "      <td>Câmera do WhatsApp tem zoom 'indesejado' após ...</td>\n",
       "      <td>http://ct.moreover.com/?a=45349439394&amp;p=1e7&amp;v=...</td>\n",
       "      <td>techtudo.com.br</td>\n",
       "      <td>TechTudo</td>\n",
       "      <td>Brazil</td>\n",
       "      <td>pt</td>\n",
       "      <td>911960</td>\n",
       "      <td>131.0</td>\n",
       "      <td>NaN</td>\n",
       "      <td>Google</td>\n",
       "      <td>2022</td>\n",
       "      <td>Q1</td>\n",
       "      <td>H1</td>\n",
       "      <td>July</td>\n",
       "      <td>Friday</td>\n",
       "      <td>2021</td>\n",
       "      <td>7</td>\n",
       "      <td>1</td>\n",
       "      <td>CIMS</td>\n",
       "      <td>https://www.techtudo.com.br/noticias/2021/07/c...</td>\n",
       "    </tr>\n",
       "  </tbody>\n",
       "</table>\n",
       "</div>"
      ],
      "text/plain": [
       "                                             ArticleID       Publisheddate  \\\n",
       "32   d9b3e609f321b38aa6848c485066d18e940e44e1816b7c... 2021-07-07 11:46:53   \n",
       "68   4810d21a47e3b12e9e8db23e2c77ca63342918316d3bb7... 2021-07-12 10:00:43   \n",
       "121  67bae4dd10fa1d4c60fa3af9d12977fa7b60b9ceb34d1f... 2021-07-09 15:53:39   \n",
       "\n",
       "                                              Headline  \\\n",
       "32   Reportan incidente en parroquia de Condado con...   \n",
       "68   Google Meet ganha máscaras e efeitos; saiba co...   \n",
       "121  Câmera do WhatsApp tem zoom 'indesejado' após ...   \n",
       "\n",
       "                                                   Url       OutletName  \\\n",
       "32   http://ct.moreover.com/?a=45330846163&p=1e7&v=...         metro.pr   \n",
       "68   http://ct.moreover.com/?a=45367122246&p=1e7&v=...  techtudo.com.br   \n",
       "121  http://ct.moreover.com/?a=45349439394&p=1e7&v=...  techtudo.com.br   \n",
       "\n",
       "            AuthorName      Country Language  Impressions  Shares  Coded  \\\n",
       "32   Metro Puerto Rico  Puerto Rico       es        32131     2.0    NaN   \n",
       "68        Marvin Costa       Brazil       pt       911960     3.0    2.0   \n",
       "121           TechTudo       Brazil       pt       911960   131.0    NaN   \n",
       "\n",
       "    Company    FY   Q   H FullMonth  dayOfWeek  CalendarYear  CalendarMonth  \\\n",
       "32   Google  2022  Q1  H1      July  Wednesday          2021              7   \n",
       "68   Google  2022  Q1  H1      July     Monday          2021              7   \n",
       "121  Google  2022  Q1  H1      July     Friday          2021              7   \n",
       "\n",
       "     CIMSUrl DataSource                                               Link  \n",
       "32         1       CIMS  https://www.metro.pr/pr/noticias/2021/07/07/re...  \n",
       "68         1       CIMS  https://www.techtudo.com.br/dicas-e-tutoriais/...  \n",
       "121        1       CIMS  https://www.techtudo.com.br/noticias/2021/07/c...  "
      ]
     },
     "execution_count": 93,
     "metadata": {},
     "output_type": "execute_result"
    }
   ],
   "source": [
    "cims_fy21_1['Link'] = cims_fy21_1['Url'].apply(lambda row: link(row))\n",
    "cims_fy21_1.head(3)"
   ]
  },
  {
   "cell_type": "code",
   "execution_count": 103,
   "id": "20900cbc",
   "metadata": {},
   "outputs": [
    {
     "name": "stdout",
     "output_type": "stream",
     "text": [
      "(455, 22)\n",
      "(15924, 22)\n"
     ]
    }
   ],
   "source": [
    "print(cims_fy21_1.shape)\n",
    "print(cims_fy21_0.shape)"
   ]
  },
  {
   "cell_type": "code",
   "execution_count": 104,
   "id": "5a610e91",
   "metadata": {},
   "outputs": [
    {
     "data": {
      "text/html": [
       "<div>\n",
       "<style scoped>\n",
       "    .dataframe tbody tr th:only-of-type {\n",
       "        vertical-align: middle;\n",
       "    }\n",
       "\n",
       "    .dataframe tbody tr th {\n",
       "        vertical-align: top;\n",
       "    }\n",
       "\n",
       "    .dataframe thead th {\n",
       "        text-align: right;\n",
       "    }\n",
       "</style>\n",
       "<table border=\"1\" class=\"dataframe\">\n",
       "  <thead>\n",
       "    <tr style=\"text-align: right;\">\n",
       "      <th></th>\n",
       "      <th>ArticleID</th>\n",
       "      <th>Publisheddate</th>\n",
       "      <th>Headline</th>\n",
       "      <th>Url</th>\n",
       "      <th>OutletName</th>\n",
       "      <th>AuthorName</th>\n",
       "      <th>Country</th>\n",
       "      <th>Language</th>\n",
       "      <th>Impressions</th>\n",
       "      <th>Shares</th>\n",
       "      <th>Coded</th>\n",
       "      <th>Company</th>\n",
       "      <th>FY</th>\n",
       "      <th>Q</th>\n",
       "      <th>H</th>\n",
       "      <th>FullMonth</th>\n",
       "      <th>dayOfWeek</th>\n",
       "      <th>CalendarYear</th>\n",
       "      <th>CalendarMonth</th>\n",
       "      <th>CIMSUrl</th>\n",
       "      <th>DataSource</th>\n",
       "      <th>Link</th>\n",
       "    </tr>\n",
       "  </thead>\n",
       "  <tbody>\n",
       "    <tr>\n",
       "      <th>32</th>\n",
       "      <td>d9b3e609f321b38aa6848c485066d18e940e44e1816b7c...</td>\n",
       "      <td>2021-07-07 11:46:53</td>\n",
       "      <td>Reportan incidente en parroquia de Condado con...</td>\n",
       "      <td>http://ct.moreover.com/?a=45330846163&amp;p=1e7&amp;v=...</td>\n",
       "      <td>metro.pr</td>\n",
       "      <td>Metro Puerto Rico</td>\n",
       "      <td>Puerto Rico</td>\n",
       "      <td>es</td>\n",
       "      <td>32131</td>\n",
       "      <td>2.0</td>\n",
       "      <td>NaN</td>\n",
       "      <td>Google</td>\n",
       "      <td>2022</td>\n",
       "      <td>Q1</td>\n",
       "      <td>H1</td>\n",
       "      <td>July</td>\n",
       "      <td>Wednesday</td>\n",
       "      <td>2021</td>\n",
       "      <td>7</td>\n",
       "      <td>1</td>\n",
       "      <td>CIMS</td>\n",
       "      <td>https://www.metro.pr/pr/noticias/2021/07/07/re...</td>\n",
       "    </tr>\n",
       "    <tr>\n",
       "      <th>68</th>\n",
       "      <td>4810d21a47e3b12e9e8db23e2c77ca63342918316d3bb7...</td>\n",
       "      <td>2021-07-12 10:00:43</td>\n",
       "      <td>Google Meet ganha máscaras e efeitos; saiba co...</td>\n",
       "      <td>http://ct.moreover.com/?a=45367122246&amp;p=1e7&amp;v=...</td>\n",
       "      <td>techtudo.com.br</td>\n",
       "      <td>Marvin Costa</td>\n",
       "      <td>Brazil</td>\n",
       "      <td>pt</td>\n",
       "      <td>911960</td>\n",
       "      <td>3.0</td>\n",
       "      <td>2.0</td>\n",
       "      <td>Google</td>\n",
       "      <td>2022</td>\n",
       "      <td>Q1</td>\n",
       "      <td>H1</td>\n",
       "      <td>July</td>\n",
       "      <td>Monday</td>\n",
       "      <td>2021</td>\n",
       "      <td>7</td>\n",
       "      <td>1</td>\n",
       "      <td>CIMS</td>\n",
       "      <td>https://www.techtudo.com.br/dicas-e-tutoriais/...</td>\n",
       "    </tr>\n",
       "    <tr>\n",
       "      <th>121</th>\n",
       "      <td>67bae4dd10fa1d4c60fa3af9d12977fa7b60b9ceb34d1f...</td>\n",
       "      <td>2021-07-09 15:53:39</td>\n",
       "      <td>Câmera do WhatsApp tem zoom 'indesejado' após ...</td>\n",
       "      <td>http://ct.moreover.com/?a=45349439394&amp;p=1e7&amp;v=...</td>\n",
       "      <td>techtudo.com.br</td>\n",
       "      <td>TechTudo</td>\n",
       "      <td>Brazil</td>\n",
       "      <td>pt</td>\n",
       "      <td>911960</td>\n",
       "      <td>131.0</td>\n",
       "      <td>NaN</td>\n",
       "      <td>Google</td>\n",
       "      <td>2022</td>\n",
       "      <td>Q1</td>\n",
       "      <td>H1</td>\n",
       "      <td>July</td>\n",
       "      <td>Friday</td>\n",
       "      <td>2021</td>\n",
       "      <td>7</td>\n",
       "      <td>1</td>\n",
       "      <td>CIMS</td>\n",
       "      <td>https://www.techtudo.com.br/noticias/2021/07/c...</td>\n",
       "    </tr>\n",
       "    <tr>\n",
       "      <th>165</th>\n",
       "      <td>1a4bfafb1ef156d26a9c9bd75ae88b17f0e7e19cdc85b2...</td>\n",
       "      <td>2021-07-16 03:00:36</td>\n",
       "      <td>DirecTV Go é bom? Veja preços e se vale a pena...</td>\n",
       "      <td>http://ct.moreover.com/?a=45397220929&amp;p=1e7&amp;v=...</td>\n",
       "      <td>techtudo.com.br</td>\n",
       "      <td>TechTudo</td>\n",
       "      <td>Brazil</td>\n",
       "      <td>pt</td>\n",
       "      <td>911960</td>\n",
       "      <td>1.0</td>\n",
       "      <td>NaN</td>\n",
       "      <td>Google</td>\n",
       "      <td>2022</td>\n",
       "      <td>Q1</td>\n",
       "      <td>H1</td>\n",
       "      <td>July</td>\n",
       "      <td>Friday</td>\n",
       "      <td>2021</td>\n",
       "      <td>7</td>\n",
       "      <td>1</td>\n",
       "      <td>CIMS</td>\n",
       "      <td>https://www.techtudo.com.br/listas/2021/07/dir...</td>\n",
       "    </tr>\n",
       "    <tr>\n",
       "      <th>174</th>\n",
       "      <td>448ec888e24f52da6597959dffba1df0628a69611c56c5...</td>\n",
       "      <td>2021-07-14 14:56:47</td>\n",
       "      <td>Como impulsionar no Kwai? Saiba como colocar c...</td>\n",
       "      <td>http://ct.moreover.com/?a=45384984896&amp;p=1e7&amp;v=...</td>\n",
       "      <td>techtudo.com.br</td>\n",
       "      <td>TechTudo</td>\n",
       "      <td>Brazil</td>\n",
       "      <td>pt</td>\n",
       "      <td>911960</td>\n",
       "      <td>1.0</td>\n",
       "      <td>NaN</td>\n",
       "      <td>Google</td>\n",
       "      <td>2022</td>\n",
       "      <td>Q1</td>\n",
       "      <td>H1</td>\n",
       "      <td>July</td>\n",
       "      <td>Wednesday</td>\n",
       "      <td>2021</td>\n",
       "      <td>7</td>\n",
       "      <td>1</td>\n",
       "      <td>CIMS</td>\n",
       "      <td>https://www.techtudo.com.br/dicas-e-tutoriais/...</td>\n",
       "    </tr>\n",
       "  </tbody>\n",
       "</table>\n",
       "</div>"
      ],
      "text/plain": [
       "                                             ArticleID       Publisheddate  \\\n",
       "32   d9b3e609f321b38aa6848c485066d18e940e44e1816b7c... 2021-07-07 11:46:53   \n",
       "68   4810d21a47e3b12e9e8db23e2c77ca63342918316d3bb7... 2021-07-12 10:00:43   \n",
       "121  67bae4dd10fa1d4c60fa3af9d12977fa7b60b9ceb34d1f... 2021-07-09 15:53:39   \n",
       "165  1a4bfafb1ef156d26a9c9bd75ae88b17f0e7e19cdc85b2... 2021-07-16 03:00:36   \n",
       "174  448ec888e24f52da6597959dffba1df0628a69611c56c5... 2021-07-14 14:56:47   \n",
       "\n",
       "                                              Headline  \\\n",
       "32   Reportan incidente en parroquia de Condado con...   \n",
       "68   Google Meet ganha máscaras e efeitos; saiba co...   \n",
       "121  Câmera do WhatsApp tem zoom 'indesejado' após ...   \n",
       "165  DirecTV Go é bom? Veja preços e se vale a pena...   \n",
       "174  Como impulsionar no Kwai? Saiba como colocar c...   \n",
       "\n",
       "                                                   Url       OutletName  \\\n",
       "32   http://ct.moreover.com/?a=45330846163&p=1e7&v=...         metro.pr   \n",
       "68   http://ct.moreover.com/?a=45367122246&p=1e7&v=...  techtudo.com.br   \n",
       "121  http://ct.moreover.com/?a=45349439394&p=1e7&v=...  techtudo.com.br   \n",
       "165  http://ct.moreover.com/?a=45397220929&p=1e7&v=...  techtudo.com.br   \n",
       "174  http://ct.moreover.com/?a=45384984896&p=1e7&v=...  techtudo.com.br   \n",
       "\n",
       "            AuthorName      Country Language  Impressions  Shares  Coded  \\\n",
       "32   Metro Puerto Rico  Puerto Rico       es        32131     2.0    NaN   \n",
       "68        Marvin Costa       Brazil       pt       911960     3.0    2.0   \n",
       "121           TechTudo       Brazil       pt       911960   131.0    NaN   \n",
       "165           TechTudo       Brazil       pt       911960     1.0    NaN   \n",
       "174           TechTudo       Brazil       pt       911960     1.0    NaN   \n",
       "\n",
       "    Company    FY   Q   H FullMonth  dayOfWeek  CalendarYear  CalendarMonth  \\\n",
       "32   Google  2022  Q1  H1      July  Wednesday          2021              7   \n",
       "68   Google  2022  Q1  H1      July     Monday          2021              7   \n",
       "121  Google  2022  Q1  H1      July     Friday          2021              7   \n",
       "165  Google  2022  Q1  H1      July     Friday          2021              7   \n",
       "174  Google  2022  Q1  H1      July  Wednesday          2021              7   \n",
       "\n",
       "     CIMSUrl DataSource                                               Link  \n",
       "32         1       CIMS  https://www.metro.pr/pr/noticias/2021/07/07/re...  \n",
       "68         1       CIMS  https://www.techtudo.com.br/dicas-e-tutoriais/...  \n",
       "121        1       CIMS  https://www.techtudo.com.br/noticias/2021/07/c...  \n",
       "165        1       CIMS  https://www.techtudo.com.br/listas/2021/07/dir...  \n",
       "174        1       CIMS  https://www.techtudo.com.br/dicas-e-tutoriais/...  "
      ]
     },
     "execution_count": 104,
     "metadata": {},
     "output_type": "execute_result"
    }
   ],
   "source": [
    "cims_fy21_1.head(5)"
   ]
  },
  {
   "cell_type": "code",
   "execution_count": 105,
   "id": "857290e5",
   "metadata": {},
   "outputs": [
    {
     "data": {
      "text/html": [
       "<div>\n",
       "<style scoped>\n",
       "    .dataframe tbody tr th:only-of-type {\n",
       "        vertical-align: middle;\n",
       "    }\n",
       "\n",
       "    .dataframe tbody tr th {\n",
       "        vertical-align: top;\n",
       "    }\n",
       "\n",
       "    .dataframe thead th {\n",
       "        text-align: right;\n",
       "    }\n",
       "</style>\n",
       "<table border=\"1\" class=\"dataframe\">\n",
       "  <thead>\n",
       "    <tr style=\"text-align: right;\">\n",
       "      <th></th>\n",
       "      <th>ArticleID</th>\n",
       "      <th>Publisheddate</th>\n",
       "      <th>Headline</th>\n",
       "      <th>Url</th>\n",
       "      <th>OutletName</th>\n",
       "      <th>AuthorName</th>\n",
       "      <th>Country</th>\n",
       "      <th>Language</th>\n",
       "      <th>Impressions</th>\n",
       "      <th>Shares</th>\n",
       "      <th>Coded</th>\n",
       "      <th>Company</th>\n",
       "      <th>FY</th>\n",
       "      <th>Q</th>\n",
       "      <th>H</th>\n",
       "      <th>FullMonth</th>\n",
       "      <th>dayOfWeek</th>\n",
       "      <th>CalendarYear</th>\n",
       "      <th>CalendarMonth</th>\n",
       "      <th>CIMSUrl</th>\n",
       "      <th>DataSource</th>\n",
       "      <th>Link</th>\n",
       "    </tr>\n",
       "  </thead>\n",
       "  <tbody>\n",
       "    <tr>\n",
       "      <th>0</th>\n",
       "      <td>5170d8aa3e17b50fb9ea7ef73628a4876fc714d3a01a01...</td>\n",
       "      <td>2021-07-28 12:00:00</td>\n",
       "      <td>Pokémon GO: Niantic removerá banimentos de jog...</td>\n",
       "      <td>https://www.uol.com.br/start/ultimas-noticias/...</td>\n",
       "      <td>uol.com.br</td>\n",
       "      <td>uol.com.br</td>\n",
       "      <td>Brazil</td>\n",
       "      <td>pt</td>\n",
       "      <td>4242778</td>\n",
       "      <td>3.0</td>\n",
       "      <td>NaN</td>\n",
       "      <td>Google</td>\n",
       "      <td>2022</td>\n",
       "      <td>Q1</td>\n",
       "      <td>H1</td>\n",
       "      <td>July</td>\n",
       "      <td>Wednesday</td>\n",
       "      <td>2021</td>\n",
       "      <td>7</td>\n",
       "      <td>0</td>\n",
       "      <td>CIMS</td>\n",
       "      <td>https://www.uol.com.br/start/ultimas-noticias/...</td>\n",
       "    </tr>\n",
       "    <tr>\n",
       "      <th>1</th>\n",
       "      <td>dd932212d5554f9843278147b7d768674b888be829be8e...</td>\n",
       "      <td>2021-07-29 16:36:37</td>\n",
       "      <td>Grupo Volkswagen gana hasta junio 8,104 mde, t...</td>\n",
       "      <td>https://www.forbes.com.mx/grupo-volkswagen-gan...</td>\n",
       "      <td>forbes.com.mx</td>\n",
       "      <td>Forbes Staff</td>\n",
       "      <td>Mexico</td>\n",
       "      <td>es</td>\n",
       "      <td>216233</td>\n",
       "      <td>1.0</td>\n",
       "      <td>NaN</td>\n",
       "      <td>Google</td>\n",
       "      <td>2022</td>\n",
       "      <td>Q1</td>\n",
       "      <td>H1</td>\n",
       "      <td>July</td>\n",
       "      <td>Thursday</td>\n",
       "      <td>2021</td>\n",
       "      <td>7</td>\n",
       "      <td>0</td>\n",
       "      <td>CIMS</td>\n",
       "      <td>https://www.forbes.com.mx/grupo-volkswagen-gan...</td>\n",
       "    </tr>\n",
       "    <tr>\n",
       "      <th>2</th>\n",
       "      <td>db8dc1da46920597b714befda0c106b7b7e2ff132e8472...</td>\n",
       "      <td>2021-07-29 14:40:00</td>\n",
       "      <td>6 jogos e apps de Pokémon para aproveitar no c...</td>\n",
       "      <td>https://tecnoblog.net/468636/6-jogos-e-apps-de...</td>\n",
       "      <td>tecnoblog.net</td>\n",
       "      <td>https://www.facebook.com/leandro.kovacs</td>\n",
       "      <td>Brazil</td>\n",
       "      <td>pt</td>\n",
       "      <td>124433</td>\n",
       "      <td>0.0</td>\n",
       "      <td>NaN</td>\n",
       "      <td>Google</td>\n",
       "      <td>2022</td>\n",
       "      <td>Q1</td>\n",
       "      <td>H1</td>\n",
       "      <td>July</td>\n",
       "      <td>Thursday</td>\n",
       "      <td>2021</td>\n",
       "      <td>7</td>\n",
       "      <td>0</td>\n",
       "      <td>CIMS</td>\n",
       "      <td>https://tecnoblog.net/468636/6-jogos-e-apps-de...</td>\n",
       "    </tr>\n",
       "    <tr>\n",
       "      <th>3</th>\n",
       "      <td>bd33a0b676a0346367f4a4330b501de0269d337f30160b...</td>\n",
       "      <td>2021-07-29 15:03:43</td>\n",
       "      <td>De Facebook a Twitter, grandes tecnológicas co...</td>\n",
       "      <td>https://www.ambito.com/informacion-general/com...</td>\n",
       "      <td>ambito.com</td>\n",
       "      <td>ambito.com</td>\n",
       "      <td>Argentina</td>\n",
       "      <td>es</td>\n",
       "      <td>240247</td>\n",
       "      <td>1.0</td>\n",
       "      <td>NaN</td>\n",
       "      <td>Google</td>\n",
       "      <td>2022</td>\n",
       "      <td>Q1</td>\n",
       "      <td>H1</td>\n",
       "      <td>July</td>\n",
       "      <td>Thursday</td>\n",
       "      <td>2021</td>\n",
       "      <td>7</td>\n",
       "      <td>0</td>\n",
       "      <td>CIMS</td>\n",
       "      <td>https://www.ambito.com/informacion-general/com...</td>\n",
       "    </tr>\n",
       "    <tr>\n",
       "      <th>4</th>\n",
       "      <td>8d0b43debb18cedbead3b41bf0978c816d1c1f04ffc198...</td>\n",
       "      <td>2021-07-27 13:13:28</td>\n",
       "      <td>Android 13 tem um nome de sobremesa? Sim, e o ...</td>\n",
       "      <td>https://canaltech.com.br/android/android-13-te...</td>\n",
       "      <td>canaltech.com.br</td>\n",
       "      <td>Alveni Lisboa</td>\n",
       "      <td>Brazil</td>\n",
       "      <td>pt</td>\n",
       "      <td>285891</td>\n",
       "      <td>0.0</td>\n",
       "      <td>2.0</td>\n",
       "      <td>Google</td>\n",
       "      <td>2022</td>\n",
       "      <td>Q1</td>\n",
       "      <td>H1</td>\n",
       "      <td>July</td>\n",
       "      <td>Tuesday</td>\n",
       "      <td>2021</td>\n",
       "      <td>7</td>\n",
       "      <td>0</td>\n",
       "      <td>CIMS</td>\n",
       "      <td>https://canaltech.com.br/android/android-13-te...</td>\n",
       "    </tr>\n",
       "  </tbody>\n",
       "</table>\n",
       "</div>"
      ],
      "text/plain": [
       "                                           ArticleID       Publisheddate  \\\n",
       "0  5170d8aa3e17b50fb9ea7ef73628a4876fc714d3a01a01... 2021-07-28 12:00:00   \n",
       "1  dd932212d5554f9843278147b7d768674b888be829be8e... 2021-07-29 16:36:37   \n",
       "2  db8dc1da46920597b714befda0c106b7b7e2ff132e8472... 2021-07-29 14:40:00   \n",
       "3  bd33a0b676a0346367f4a4330b501de0269d337f30160b... 2021-07-29 15:03:43   \n",
       "4  8d0b43debb18cedbead3b41bf0978c816d1c1f04ffc198... 2021-07-27 13:13:28   \n",
       "\n",
       "                                            Headline  \\\n",
       "0  Pokémon GO: Niantic removerá banimentos de jog...   \n",
       "1  Grupo Volkswagen gana hasta junio 8,104 mde, t...   \n",
       "2  6 jogos e apps de Pokémon para aproveitar no c...   \n",
       "3  De Facebook a Twitter, grandes tecnológicas co...   \n",
       "4  Android 13 tem um nome de sobremesa? Sim, e o ...   \n",
       "\n",
       "                                                 Url        OutletName  \\\n",
       "0  https://www.uol.com.br/start/ultimas-noticias/...        uol.com.br   \n",
       "1  https://www.forbes.com.mx/grupo-volkswagen-gan...     forbes.com.mx   \n",
       "2  https://tecnoblog.net/468636/6-jogos-e-apps-de...     tecnoblog.net   \n",
       "3  https://www.ambito.com/informacion-general/com...        ambito.com   \n",
       "4  https://canaltech.com.br/android/android-13-te...  canaltech.com.br   \n",
       "\n",
       "                                AuthorName    Country Language  Impressions  \\\n",
       "0                               uol.com.br     Brazil       pt      4242778   \n",
       "1                             Forbes Staff     Mexico       es       216233   \n",
       "2  https://www.facebook.com/leandro.kovacs     Brazil       pt       124433   \n",
       "3                               ambito.com  Argentina       es       240247   \n",
       "4                            Alveni Lisboa     Brazil       pt       285891   \n",
       "\n",
       "   Shares  Coded Company    FY   Q   H FullMonth  dayOfWeek  CalendarYear  \\\n",
       "0     3.0    NaN  Google  2022  Q1  H1      July  Wednesday          2021   \n",
       "1     1.0    NaN  Google  2022  Q1  H1      July   Thursday          2021   \n",
       "2     0.0    NaN  Google  2022  Q1  H1      July   Thursday          2021   \n",
       "3     1.0    NaN  Google  2022  Q1  H1      July   Thursday          2021   \n",
       "4     0.0    2.0  Google  2022  Q1  H1      July    Tuesday          2021   \n",
       "\n",
       "   CalendarMonth  CIMSUrl DataSource  \\\n",
       "0              7        0       CIMS   \n",
       "1              7        0       CIMS   \n",
       "2              7        0       CIMS   \n",
       "3              7        0       CIMS   \n",
       "4              7        0       CIMS   \n",
       "\n",
       "                                                Link  \n",
       "0  https://www.uol.com.br/start/ultimas-noticias/...  \n",
       "1  https://www.forbes.com.mx/grupo-volkswagen-gan...  \n",
       "2  https://tecnoblog.net/468636/6-jogos-e-apps-de...  \n",
       "3  https://www.ambito.com/informacion-general/com...  \n",
       "4  https://canaltech.com.br/android/android-13-te...  "
      ]
     },
     "execution_count": 105,
     "metadata": {},
     "output_type": "execute_result"
    }
   ],
   "source": [
    "cims_fy21_0.head(5)"
   ]
  },
  {
   "cell_type": "code",
   "execution_count": 106,
   "id": "662d988f",
   "metadata": {},
   "outputs": [
    {
     "name": "stdout",
     "output_type": "stream",
     "text": [
      "(16379, 22)\n"
     ]
    },
    {
     "data": {
      "text/html": [
       "<div>\n",
       "<style scoped>\n",
       "    .dataframe tbody tr th:only-of-type {\n",
       "        vertical-align: middle;\n",
       "    }\n",
       "\n",
       "    .dataframe tbody tr th {\n",
       "        vertical-align: top;\n",
       "    }\n",
       "\n",
       "    .dataframe thead th {\n",
       "        text-align: right;\n",
       "    }\n",
       "</style>\n",
       "<table border=\"1\" class=\"dataframe\">\n",
       "  <thead>\n",
       "    <tr style=\"text-align: right;\">\n",
       "      <th></th>\n",
       "      <th>ArticleID</th>\n",
       "      <th>Publisheddate</th>\n",
       "      <th>Headline</th>\n",
       "      <th>Url</th>\n",
       "      <th>OutletName</th>\n",
       "      <th>AuthorName</th>\n",
       "      <th>Country</th>\n",
       "      <th>Language</th>\n",
       "      <th>Impressions</th>\n",
       "      <th>Shares</th>\n",
       "      <th>Coded</th>\n",
       "      <th>Company</th>\n",
       "      <th>FY</th>\n",
       "      <th>Q</th>\n",
       "      <th>H</th>\n",
       "      <th>FullMonth</th>\n",
       "      <th>dayOfWeek</th>\n",
       "      <th>CalendarYear</th>\n",
       "      <th>CalendarMonth</th>\n",
       "      <th>CIMSUrl</th>\n",
       "      <th>DataSource</th>\n",
       "      <th>Link</th>\n",
       "    </tr>\n",
       "  </thead>\n",
       "  <tbody>\n",
       "    <tr>\n",
       "      <th>0</th>\n",
       "      <td>5170d8aa3e17b50fb9ea7ef73628a4876fc714d3a01a01...</td>\n",
       "      <td>2021-07-28 12:00:00</td>\n",
       "      <td>Pokémon GO: Niantic removerá banimentos de jog...</td>\n",
       "      <td>https://www.uol.com.br/start/ultimas-noticias/...</td>\n",
       "      <td>uol.com.br</td>\n",
       "      <td>uol.com.br</td>\n",
       "      <td>Brazil</td>\n",
       "      <td>pt</td>\n",
       "      <td>4242778</td>\n",
       "      <td>3.0</td>\n",
       "      <td>NaN</td>\n",
       "      <td>Google</td>\n",
       "      <td>2022</td>\n",
       "      <td>Q1</td>\n",
       "      <td>H1</td>\n",
       "      <td>July</td>\n",
       "      <td>Wednesday</td>\n",
       "      <td>2021</td>\n",
       "      <td>7</td>\n",
       "      <td>0</td>\n",
       "      <td>CIMS</td>\n",
       "      <td>https://www.uol.com.br/start/ultimas-noticias/...</td>\n",
       "    </tr>\n",
       "    <tr>\n",
       "      <th>1</th>\n",
       "      <td>dd932212d5554f9843278147b7d768674b888be829be8e...</td>\n",
       "      <td>2021-07-29 16:36:37</td>\n",
       "      <td>Grupo Volkswagen gana hasta junio 8,104 mde, t...</td>\n",
       "      <td>https://www.forbes.com.mx/grupo-volkswagen-gan...</td>\n",
       "      <td>forbes.com.mx</td>\n",
       "      <td>Forbes Staff</td>\n",
       "      <td>Mexico</td>\n",
       "      <td>es</td>\n",
       "      <td>216233</td>\n",
       "      <td>1.0</td>\n",
       "      <td>NaN</td>\n",
       "      <td>Google</td>\n",
       "      <td>2022</td>\n",
       "      <td>Q1</td>\n",
       "      <td>H1</td>\n",
       "      <td>July</td>\n",
       "      <td>Thursday</td>\n",
       "      <td>2021</td>\n",
       "      <td>7</td>\n",
       "      <td>0</td>\n",
       "      <td>CIMS</td>\n",
       "      <td>https://www.forbes.com.mx/grupo-volkswagen-gan...</td>\n",
       "    </tr>\n",
       "    <tr>\n",
       "      <th>2</th>\n",
       "      <td>db8dc1da46920597b714befda0c106b7b7e2ff132e8472...</td>\n",
       "      <td>2021-07-29 14:40:00</td>\n",
       "      <td>6 jogos e apps de Pokémon para aproveitar no c...</td>\n",
       "      <td>https://tecnoblog.net/468636/6-jogos-e-apps-de...</td>\n",
       "      <td>tecnoblog.net</td>\n",
       "      <td>https://www.facebook.com/leandro.kovacs</td>\n",
       "      <td>Brazil</td>\n",
       "      <td>pt</td>\n",
       "      <td>124433</td>\n",
       "      <td>0.0</td>\n",
       "      <td>NaN</td>\n",
       "      <td>Google</td>\n",
       "      <td>2022</td>\n",
       "      <td>Q1</td>\n",
       "      <td>H1</td>\n",
       "      <td>July</td>\n",
       "      <td>Thursday</td>\n",
       "      <td>2021</td>\n",
       "      <td>7</td>\n",
       "      <td>0</td>\n",
       "      <td>CIMS</td>\n",
       "      <td>https://tecnoblog.net/468636/6-jogos-e-apps-de...</td>\n",
       "    </tr>\n",
       "    <tr>\n",
       "      <th>3</th>\n",
       "      <td>bd33a0b676a0346367f4a4330b501de0269d337f30160b...</td>\n",
       "      <td>2021-07-29 15:03:43</td>\n",
       "      <td>De Facebook a Twitter, grandes tecnológicas co...</td>\n",
       "      <td>https://www.ambito.com/informacion-general/com...</td>\n",
       "      <td>ambito.com</td>\n",
       "      <td>ambito.com</td>\n",
       "      <td>Argentina</td>\n",
       "      <td>es</td>\n",
       "      <td>240247</td>\n",
       "      <td>1.0</td>\n",
       "      <td>NaN</td>\n",
       "      <td>Google</td>\n",
       "      <td>2022</td>\n",
       "      <td>Q1</td>\n",
       "      <td>H1</td>\n",
       "      <td>July</td>\n",
       "      <td>Thursday</td>\n",
       "      <td>2021</td>\n",
       "      <td>7</td>\n",
       "      <td>0</td>\n",
       "      <td>CIMS</td>\n",
       "      <td>https://www.ambito.com/informacion-general/com...</td>\n",
       "    </tr>\n",
       "    <tr>\n",
       "      <th>4</th>\n",
       "      <td>8d0b43debb18cedbead3b41bf0978c816d1c1f04ffc198...</td>\n",
       "      <td>2021-07-27 13:13:28</td>\n",
       "      <td>Android 13 tem um nome de sobremesa? Sim, e o ...</td>\n",
       "      <td>https://canaltech.com.br/android/android-13-te...</td>\n",
       "      <td>canaltech.com.br</td>\n",
       "      <td>Alveni Lisboa</td>\n",
       "      <td>Brazil</td>\n",
       "      <td>pt</td>\n",
       "      <td>285891</td>\n",
       "      <td>0.0</td>\n",
       "      <td>2.0</td>\n",
       "      <td>Google</td>\n",
       "      <td>2022</td>\n",
       "      <td>Q1</td>\n",
       "      <td>H1</td>\n",
       "      <td>July</td>\n",
       "      <td>Tuesday</td>\n",
       "      <td>2021</td>\n",
       "      <td>7</td>\n",
       "      <td>0</td>\n",
       "      <td>CIMS</td>\n",
       "      <td>https://canaltech.com.br/android/android-13-te...</td>\n",
       "    </tr>\n",
       "  </tbody>\n",
       "</table>\n",
       "</div>"
      ],
      "text/plain": [
       "                                           ArticleID       Publisheddate  \\\n",
       "0  5170d8aa3e17b50fb9ea7ef73628a4876fc714d3a01a01... 2021-07-28 12:00:00   \n",
       "1  dd932212d5554f9843278147b7d768674b888be829be8e... 2021-07-29 16:36:37   \n",
       "2  db8dc1da46920597b714befda0c106b7b7e2ff132e8472... 2021-07-29 14:40:00   \n",
       "3  bd33a0b676a0346367f4a4330b501de0269d337f30160b... 2021-07-29 15:03:43   \n",
       "4  8d0b43debb18cedbead3b41bf0978c816d1c1f04ffc198... 2021-07-27 13:13:28   \n",
       "\n",
       "                                            Headline  \\\n",
       "0  Pokémon GO: Niantic removerá banimentos de jog...   \n",
       "1  Grupo Volkswagen gana hasta junio 8,104 mde, t...   \n",
       "2  6 jogos e apps de Pokémon para aproveitar no c...   \n",
       "3  De Facebook a Twitter, grandes tecnológicas co...   \n",
       "4  Android 13 tem um nome de sobremesa? Sim, e o ...   \n",
       "\n",
       "                                                 Url        OutletName  \\\n",
       "0  https://www.uol.com.br/start/ultimas-noticias/...        uol.com.br   \n",
       "1  https://www.forbes.com.mx/grupo-volkswagen-gan...     forbes.com.mx   \n",
       "2  https://tecnoblog.net/468636/6-jogos-e-apps-de...     tecnoblog.net   \n",
       "3  https://www.ambito.com/informacion-general/com...        ambito.com   \n",
       "4  https://canaltech.com.br/android/android-13-te...  canaltech.com.br   \n",
       "\n",
       "                                AuthorName    Country Language  Impressions  \\\n",
       "0                               uol.com.br     Brazil       pt      4242778   \n",
       "1                             Forbes Staff     Mexico       es       216233   \n",
       "2  https://www.facebook.com/leandro.kovacs     Brazil       pt       124433   \n",
       "3                               ambito.com  Argentina       es       240247   \n",
       "4                            Alveni Lisboa     Brazil       pt       285891   \n",
       "\n",
       "   Shares  Coded Company    FY   Q   H FullMonth  dayOfWeek  CalendarYear  \\\n",
       "0     3.0    NaN  Google  2022  Q1  H1      July  Wednesday          2021   \n",
       "1     1.0    NaN  Google  2022  Q1  H1      July   Thursday          2021   \n",
       "2     0.0    NaN  Google  2022  Q1  H1      July   Thursday          2021   \n",
       "3     1.0    NaN  Google  2022  Q1  H1      July   Thursday          2021   \n",
       "4     0.0    2.0  Google  2022  Q1  H1      July    Tuesday          2021   \n",
       "\n",
       "   CalendarMonth  CIMSUrl DataSource  \\\n",
       "0              7        0       CIMS   \n",
       "1              7        0       CIMS   \n",
       "2              7        0       CIMS   \n",
       "3              7        0       CIMS   \n",
       "4              7        0       CIMS   \n",
       "\n",
       "                                                Link  \n",
       "0  https://www.uol.com.br/start/ultimas-noticias/...  \n",
       "1  https://www.forbes.com.mx/grupo-volkswagen-gan...  \n",
       "2  https://tecnoblog.net/468636/6-jogos-e-apps-de...  \n",
       "3  https://www.ambito.com/informacion-general/com...  \n",
       "4  https://canaltech.com.br/android/android-13-te...  "
      ]
     },
     "execution_count": 106,
     "metadata": {},
     "output_type": "execute_result"
    }
   ],
   "source": [
    "cims_fy21_full_link= pd.concat([cims_fy21_0,cims_fy21_1])\n",
    "print(cims_fy21_full_link.shape)\n",
    "cims_fy21_full_link.head(5)"
   ]
  },
  {
   "cell_type": "markdown",
   "id": "4cffc530",
   "metadata": {},
   "source": [
    "### ELIMINAR DUPLICADOS POR 'LINK'"
   ]
  },
  {
   "cell_type": "code",
   "execution_count": 107,
   "id": "cdf8cae3",
   "metadata": {},
   "outputs": [
    {
     "name": "stdout",
     "output_type": "stream",
     "text": [
      "(3564, 22)\n"
     ]
    },
    {
     "data": {
      "text/html": [
       "<div>\n",
       "<style scoped>\n",
       "    .dataframe tbody tr th:only-of-type {\n",
       "        vertical-align: middle;\n",
       "    }\n",
       "\n",
       "    .dataframe tbody tr th {\n",
       "        vertical-align: top;\n",
       "    }\n",
       "\n",
       "    .dataframe thead th {\n",
       "        text-align: right;\n",
       "    }\n",
       "</style>\n",
       "<table border=\"1\" class=\"dataframe\">\n",
       "  <thead>\n",
       "    <tr style=\"text-align: right;\">\n",
       "      <th></th>\n",
       "      <th>ArticleID</th>\n",
       "      <th>Publisheddate</th>\n",
       "      <th>Headline</th>\n",
       "      <th>Url</th>\n",
       "      <th>OutletName</th>\n",
       "      <th>AuthorName</th>\n",
       "      <th>Country</th>\n",
       "      <th>Language</th>\n",
       "      <th>Impressions</th>\n",
       "      <th>Shares</th>\n",
       "      <th>Coded</th>\n",
       "      <th>Company</th>\n",
       "      <th>FY</th>\n",
       "      <th>Q</th>\n",
       "      <th>H</th>\n",
       "      <th>FullMonth</th>\n",
       "      <th>dayOfWeek</th>\n",
       "      <th>CalendarYear</th>\n",
       "      <th>CalendarMonth</th>\n",
       "      <th>CIMSUrl</th>\n",
       "      <th>DataSource</th>\n",
       "      <th>Link</th>\n",
       "    </tr>\n",
       "  </thead>\n",
       "  <tbody>\n",
       "    <tr>\n",
       "      <th>719</th>\n",
       "      <td>81058067ac07f59b42f341f078c8c61818d426a3696745...</td>\n",
       "      <td>2021-07-04 03:54:19</td>\n",
       "      <td>Series de tv - LA NACION</td>\n",
       "      <td>http://www.lanacion.com.ar/espectaculos/series...</td>\n",
       "      <td>lanacion.com.ar</td>\n",
       "      <td>lanacion.com.ar</td>\n",
       "      <td>Argentina</td>\n",
       "      <td>es</td>\n",
       "      <td>1020460</td>\n",
       "      <td>0.0</td>\n",
       "      <td>NaN</td>\n",
       "      <td>Google</td>\n",
       "      <td>2022</td>\n",
       "      <td>Q1</td>\n",
       "      <td>H1</td>\n",
       "      <td>July</td>\n",
       "      <td>Sunday</td>\n",
       "      <td>2021</td>\n",
       "      <td>7</td>\n",
       "      <td>0</td>\n",
       "      <td>CIMS</td>\n",
       "      <td>http://www.lanacion.com.ar/espectaculos/series...</td>\n",
       "    </tr>\n",
       "    <tr>\n",
       "      <th>760</th>\n",
       "      <td>1ebf421d4d5813cc4699ff0738419af19490cea0116525...</td>\n",
       "      <td>2021-07-09 12:00:00</td>\n",
       "      <td>Eurocopa 2020: suben las apuestas por ver quié...</td>\n",
       "      <td>https://www.forbes.com.mx/forbes-life/deportes...</td>\n",
       "      <td>forbes.com.mx</td>\n",
       "      <td>Forbes Staff</td>\n",
       "      <td>Mexico</td>\n",
       "      <td>es</td>\n",
       "      <td>216233</td>\n",
       "      <td>0.0</td>\n",
       "      <td>NaN</td>\n",
       "      <td>Google</td>\n",
       "      <td>2022</td>\n",
       "      <td>Q1</td>\n",
       "      <td>H1</td>\n",
       "      <td>July</td>\n",
       "      <td>Friday</td>\n",
       "      <td>2021</td>\n",
       "      <td>7</td>\n",
       "      <td>0</td>\n",
       "      <td>CIMS</td>\n",
       "      <td>https://www.forbes.com.mx/forbes-life/deportes...</td>\n",
       "    </tr>\n",
       "    <tr>\n",
       "      <th>1058</th>\n",
       "      <td>6ab0000bb9423c5310959f68b47d2b1226998544e963ef...</td>\n",
       "      <td>2021-07-05 15:40:00</td>\n",
       "      <td>Nueves apps borradas de la Play Store por troyano</td>\n",
       "      <td>https://www.enter.co/empresas/seguridad/nueves...</td>\n",
       "      <td>enter.co</td>\n",
       "      <td>Diana Arias</td>\n",
       "      <td>Colombia</td>\n",
       "      <td>es</td>\n",
       "      <td>76857</td>\n",
       "      <td>11.0</td>\n",
       "      <td>NaN</td>\n",
       "      <td>Google</td>\n",
       "      <td>2022</td>\n",
       "      <td>Q1</td>\n",
       "      <td>H1</td>\n",
       "      <td>July</td>\n",
       "      <td>Monday</td>\n",
       "      <td>2021</td>\n",
       "      <td>7</td>\n",
       "      <td>0</td>\n",
       "      <td>CIMS</td>\n",
       "      <td>https://www.enter.co/empresas/seguridad/nueves...</td>\n",
       "    </tr>\n",
       "    <tr>\n",
       "      <th>1318</th>\n",
       "      <td>de7450bfeadbb3871629f25dba0843d4c3f369a1910e96...</td>\n",
       "      <td>2021-07-12 03:00:00</td>\n",
       "      <td>Sete em cada dez empresas vendem online; veja ...</td>\n",
       "      <td>https://olhardigital.com.br/2021/07/12/guia-do...</td>\n",
       "      <td>olhardigital.com.br</td>\n",
       "      <td>NaN</td>\n",
       "      <td>Brazil</td>\n",
       "      <td>pt</td>\n",
       "      <td>218801</td>\n",
       "      <td>2.0</td>\n",
       "      <td>2.0</td>\n",
       "      <td>Google</td>\n",
       "      <td>2022</td>\n",
       "      <td>Q1</td>\n",
       "      <td>H1</td>\n",
       "      <td>July</td>\n",
       "      <td>Monday</td>\n",
       "      <td>2021</td>\n",
       "      <td>7</td>\n",
       "      <td>0</td>\n",
       "      <td>CIMS</td>\n",
       "      <td>https://olhardigital.com.br/2021/07/12/guia-do...</td>\n",
       "    </tr>\n",
       "    <tr>\n",
       "      <th>1451</th>\n",
       "      <td>cbc488fb802baf01de51309c5003802514916ffeb477d0...</td>\n",
       "      <td>2021-07-22 01:50:41</td>\n",
       "      <td>En la mira - Revista Summa</td>\n",
       "      <td>https://revistasumma.com/en-la-mira/</td>\n",
       "      <td>revistasumma.com</td>\n",
       "      <td>revistasumma.com</td>\n",
       "      <td>Costa Rica</td>\n",
       "      <td>es</td>\n",
       "      <td>8812</td>\n",
       "      <td>0.0</td>\n",
       "      <td>NaN</td>\n",
       "      <td>Google</td>\n",
       "      <td>2022</td>\n",
       "      <td>Q1</td>\n",
       "      <td>H1</td>\n",
       "      <td>July</td>\n",
       "      <td>Thursday</td>\n",
       "      <td>2021</td>\n",
       "      <td>7</td>\n",
       "      <td>0</td>\n",
       "      <td>CIMS</td>\n",
       "      <td>https://revistasumma.com/en-la-mira/</td>\n",
       "    </tr>\n",
       "  </tbody>\n",
       "</table>\n",
       "</div>"
      ],
      "text/plain": [
       "                                              ArticleID       Publisheddate  \\\n",
       "719   81058067ac07f59b42f341f078c8c61818d426a3696745... 2021-07-04 03:54:19   \n",
       "760   1ebf421d4d5813cc4699ff0738419af19490cea0116525... 2021-07-09 12:00:00   \n",
       "1058  6ab0000bb9423c5310959f68b47d2b1226998544e963ef... 2021-07-05 15:40:00   \n",
       "1318  de7450bfeadbb3871629f25dba0843d4c3f369a1910e96... 2021-07-12 03:00:00   \n",
       "1451  cbc488fb802baf01de51309c5003802514916ffeb477d0... 2021-07-22 01:50:41   \n",
       "\n",
       "                                               Headline  \\\n",
       "719                            Series de tv - LA NACION   \n",
       "760   Eurocopa 2020: suben las apuestas por ver quié...   \n",
       "1058  Nueves apps borradas de la Play Store por troyano   \n",
       "1318  Sete em cada dez empresas vendem online; veja ...   \n",
       "1451                         En la mira - Revista Summa   \n",
       "\n",
       "                                                    Url           OutletName  \\\n",
       "719   http://www.lanacion.com.ar/espectaculos/series...      lanacion.com.ar   \n",
       "760   https://www.forbes.com.mx/forbes-life/deportes...        forbes.com.mx   \n",
       "1058  https://www.enter.co/empresas/seguridad/nueves...             enter.co   \n",
       "1318  https://olhardigital.com.br/2021/07/12/guia-do...  olhardigital.com.br   \n",
       "1451               https://revistasumma.com/en-la-mira/     revistasumma.com   \n",
       "\n",
       "            AuthorName     Country Language  Impressions  Shares  Coded  \\\n",
       "719    lanacion.com.ar   Argentina       es      1020460     0.0    NaN   \n",
       "760       Forbes Staff      Mexico       es       216233     0.0    NaN   \n",
       "1058       Diana Arias    Colombia       es        76857    11.0    NaN   \n",
       "1318               NaN      Brazil       pt       218801     2.0    2.0   \n",
       "1451  revistasumma.com  Costa Rica       es         8812     0.0    NaN   \n",
       "\n",
       "     Company    FY   Q   H FullMonth dayOfWeek  CalendarYear  CalendarMonth  \\\n",
       "719   Google  2022  Q1  H1      July    Sunday          2021              7   \n",
       "760   Google  2022  Q1  H1      July    Friday          2021              7   \n",
       "1058  Google  2022  Q1  H1      July    Monday          2021              7   \n",
       "1318  Google  2022  Q1  H1      July    Monday          2021              7   \n",
       "1451  Google  2022  Q1  H1      July  Thursday          2021              7   \n",
       "\n",
       "      CIMSUrl DataSource                                               Link  \n",
       "719         0       CIMS  http://www.lanacion.com.ar/espectaculos/series...  \n",
       "760         0       CIMS  https://www.forbes.com.mx/forbes-life/deportes...  \n",
       "1058        0       CIMS  https://www.enter.co/empresas/seguridad/nueves...  \n",
       "1318        0       CIMS  https://olhardigital.com.br/2021/07/12/guia-do...  \n",
       "1451        0       CIMS               https://revistasumma.com/en-la-mira/  "
      ]
     },
     "execution_count": 107,
     "metadata": {},
     "output_type": "execute_result"
    }
   ],
   "source": [
    "cims_clean = cims_fy21_full_link[cims_fy21_full_link.duplicated(subset = ['Link','OutletName','Country'])]\n",
    "print(cims_clean.shape)\n",
    "cims_clean.head(5)"
   ]
  },
  {
   "cell_type": "markdown",
   "id": "c16586b6",
   "metadata": {},
   "source": [
    "### MERGE \"CIMS_Q4\" DF AND \"AUXILIARCIMS\" TO GET: TIER, MEDIALIST, ETC"
   ]
  },
  {
   "cell_type": "code",
   "execution_count": 108,
   "id": "778ee60b",
   "metadata": {},
   "outputs": [
    {
     "name": "stdout",
     "output_type": "stream",
     "text": [
      "(162, 8)\n"
     ]
    },
    {
     "data": {
      "text/html": [
       "<div>\n",
       "<style scoped>\n",
       "    .dataframe tbody tr th:only-of-type {\n",
       "        vertical-align: middle;\n",
       "    }\n",
       "\n",
       "    .dataframe tbody tr th {\n",
       "        vertical-align: top;\n",
       "    }\n",
       "\n",
       "    .dataframe thead th {\n",
       "        text-align: right;\n",
       "    }\n",
       "</style>\n",
       "<table border=\"1\" class=\"dataframe\">\n",
       "  <thead>\n",
       "    <tr style=\"text-align: right;\">\n",
       "      <th></th>\n",
       "      <th>Publication</th>\n",
       "      <th>Host</th>\n",
       "      <th>Tier</th>\n",
       "      <th>Media Type</th>\n",
       "      <th>clean_link_site</th>\n",
       "      <th>MediaList</th>\n",
       "      <th>CIMS</th>\n",
       "      <th>Sub</th>\n",
       "    </tr>\n",
       "  </thead>\n",
       "  <tbody>\n",
       "    <tr>\n",
       "      <th>0</th>\n",
       "      <td>NaN</td>\n",
       "      <td>UOL</td>\n",
       "      <td>1.0</td>\n",
       "      <td>General News</td>\n",
       "      <td>www.uol.com.br</td>\n",
       "      <td>Yes</td>\n",
       "      <td>CIMS</td>\n",
       "      <td>Brazil</td>\n",
       "    </tr>\n",
       "    <tr>\n",
       "      <th>1</th>\n",
       "      <td>NaN</td>\n",
       "      <td>Tecnoblog</td>\n",
       "      <td>1.0</td>\n",
       "      <td>Technology</td>\n",
       "      <td>tecnoblog.net</td>\n",
       "      <td>Yes</td>\n",
       "      <td>CIMS</td>\n",
       "      <td>Brazil</td>\n",
       "    </tr>\n",
       "    <tr>\n",
       "      <th>2</th>\n",
       "      <td>NaN</td>\n",
       "      <td>Tecmundo</td>\n",
       "      <td>1.0</td>\n",
       "      <td>Technology</td>\n",
       "      <td>www.tecmundo.com.br</td>\n",
       "      <td>Yes</td>\n",
       "      <td>CIMS</td>\n",
       "      <td>Brazil</td>\n",
       "    </tr>\n",
       "    <tr>\n",
       "      <th>3</th>\n",
       "      <td>NaN</td>\n",
       "      <td>Adrenaline</td>\n",
       "      <td>2.0</td>\n",
       "      <td>Technology</td>\n",
       "      <td>adrenaline.com.br</td>\n",
       "      <td>Yes</td>\n",
       "      <td>CIMS</td>\n",
       "      <td>Brazil</td>\n",
       "    </tr>\n",
       "    <tr>\n",
       "      <th>4</th>\n",
       "      <td>NaN</td>\n",
       "      <td>IGN Brasil</td>\n",
       "      <td>1.0</td>\n",
       "      <td>Technology</td>\n",
       "      <td>br.ign.com</td>\n",
       "      <td>Yes</td>\n",
       "      <td>CIMS</td>\n",
       "      <td>Brazil</td>\n",
       "    </tr>\n",
       "  </tbody>\n",
       "</table>\n",
       "</div>"
      ],
      "text/plain": [
       "   Publication        Host  Tier    Media Type      clean_link_site MediaList  \\\n",
       "0          NaN         UOL   1.0  General News       www.uol.com.br       Yes   \n",
       "1          NaN   Tecnoblog   1.0    Technology        tecnoblog.net       Yes   \n",
       "2          NaN    Tecmundo   1.0    Technology  www.tecmundo.com.br       Yes   \n",
       "3          NaN  Adrenaline   2.0    Technology    adrenaline.com.br       Yes   \n",
       "4          NaN  IGN Brasil   1.0    Technology           br.ign.com       Yes   \n",
       "\n",
       "   CIMS     Sub  \n",
       "0  CIMS  Brazil  \n",
       "1  CIMS  Brazil  \n",
       "2  CIMS  Brazil  \n",
       "3  CIMS  Brazil  \n",
       "4  CIMS  Brazil  "
      ]
     },
     "execution_count": 108,
     "metadata": {},
     "output_type": "execute_result"
    }
   ],
   "source": [
    "# Preliminar view of 'auxiliarCims' dataset\n",
    "print(auxiliarCims.shape)\n",
    "auxiliarCims.head(5)"
   ]
  },
  {
   "cell_type": "code",
   "execution_count": 109,
   "id": "1f45fe9a",
   "metadata": {},
   "outputs": [
    {
     "name": "stdout",
     "output_type": "stream",
     "text": [
      "(3654, 30)\n"
     ]
    },
    {
     "data": {
      "text/html": [
       "<div>\n",
       "<style scoped>\n",
       "    .dataframe tbody tr th:only-of-type {\n",
       "        vertical-align: middle;\n",
       "    }\n",
       "\n",
       "    .dataframe tbody tr th {\n",
       "        vertical-align: top;\n",
       "    }\n",
       "\n",
       "    .dataframe thead th {\n",
       "        text-align: right;\n",
       "    }\n",
       "</style>\n",
       "<table border=\"1\" class=\"dataframe\">\n",
       "  <thead>\n",
       "    <tr style=\"text-align: right;\">\n",
       "      <th></th>\n",
       "      <th>ArticleID</th>\n",
       "      <th>Publisheddate</th>\n",
       "      <th>Headline</th>\n",
       "      <th>Url</th>\n",
       "      <th>OutletName</th>\n",
       "      <th>AuthorName</th>\n",
       "      <th>Country</th>\n",
       "      <th>Language</th>\n",
       "      <th>Impressions</th>\n",
       "      <th>Shares</th>\n",
       "      <th>Coded</th>\n",
       "      <th>Company</th>\n",
       "      <th>FY</th>\n",
       "      <th>Q</th>\n",
       "      <th>H</th>\n",
       "      <th>FullMonth</th>\n",
       "      <th>dayOfWeek</th>\n",
       "      <th>CalendarYear</th>\n",
       "      <th>CalendarMonth</th>\n",
       "      <th>CIMSUrl</th>\n",
       "      <th>DataSource</th>\n",
       "      <th>Link</th>\n",
       "      <th>Publication</th>\n",
       "      <th>Host</th>\n",
       "      <th>Tier</th>\n",
       "      <th>Media Type</th>\n",
       "      <th>clean_link_site</th>\n",
       "      <th>MediaList</th>\n",
       "      <th>CIMS</th>\n",
       "      <th>Sub</th>\n",
       "    </tr>\n",
       "  </thead>\n",
       "  <tbody>\n",
       "    <tr>\n",
       "      <th>0</th>\n",
       "      <td>81058067ac07f59b42f341f078c8c61818d426a3696745...</td>\n",
       "      <td>2021-07-04 03:54:19</td>\n",
       "      <td>Series de tv - LA NACION</td>\n",
       "      <td>http://www.lanacion.com.ar/espectaculos/series...</td>\n",
       "      <td>lanacion.com.ar</td>\n",
       "      <td>lanacion.com.ar</td>\n",
       "      <td>Argentina</td>\n",
       "      <td>es</td>\n",
       "      <td>1020460</td>\n",
       "      <td>0.0</td>\n",
       "      <td>NaN</td>\n",
       "      <td>Google</td>\n",
       "      <td>2022</td>\n",
       "      <td>Q1</td>\n",
       "      <td>H1</td>\n",
       "      <td>July</td>\n",
       "      <td>Sunday</td>\n",
       "      <td>2021</td>\n",
       "      <td>7</td>\n",
       "      <td>0</td>\n",
       "      <td>CIMS</td>\n",
       "      <td>http://www.lanacion.com.ar/espectaculos/series...</td>\n",
       "      <td>NaN</td>\n",
       "      <td>La Nacion (Argentina)</td>\n",
       "      <td>1.0</td>\n",
       "      <td>General News</td>\n",
       "      <td>lanacion.com.ar</td>\n",
       "      <td>Yes</td>\n",
       "      <td>CIMS</td>\n",
       "      <td>Argentina</td>\n",
       "    </tr>\n",
       "    <tr>\n",
       "      <th>1</th>\n",
       "      <td>1ebf421d4d5813cc4699ff0738419af19490cea0116525...</td>\n",
       "      <td>2021-07-09 12:00:00</td>\n",
       "      <td>Eurocopa 2020: suben las apuestas por ver quié...</td>\n",
       "      <td>https://www.forbes.com.mx/forbes-life/deportes...</td>\n",
       "      <td>forbes.com.mx</td>\n",
       "      <td>Forbes Staff</td>\n",
       "      <td>Mexico</td>\n",
       "      <td>es</td>\n",
       "      <td>216233</td>\n",
       "      <td>0.0</td>\n",
       "      <td>NaN</td>\n",
       "      <td>Google</td>\n",
       "      <td>2022</td>\n",
       "      <td>Q1</td>\n",
       "      <td>H1</td>\n",
       "      <td>July</td>\n",
       "      <td>Friday</td>\n",
       "      <td>2021</td>\n",
       "      <td>7</td>\n",
       "      <td>0</td>\n",
       "      <td>CIMS</td>\n",
       "      <td>https://www.forbes.com.mx/forbes-life/deportes...</td>\n",
       "      <td>NaN</td>\n",
       "      <td>Forbes Mexico</td>\n",
       "      <td>1.0</td>\n",
       "      <td>Business</td>\n",
       "      <td>forbes.com.mx</td>\n",
       "      <td>Yes</td>\n",
       "      <td>CIMS</td>\n",
       "      <td>Mexico</td>\n",
       "    </tr>\n",
       "    <tr>\n",
       "      <th>2</th>\n",
       "      <td>6ab0000bb9423c5310959f68b47d2b1226998544e963ef...</td>\n",
       "      <td>2021-07-05 15:40:00</td>\n",
       "      <td>Nueves apps borradas de la Play Store por troyano</td>\n",
       "      <td>https://www.enter.co/empresas/seguridad/nueves...</td>\n",
       "      <td>enter.co</td>\n",
       "      <td>Diana Arias</td>\n",
       "      <td>Colombia</td>\n",
       "      <td>es</td>\n",
       "      <td>76857</td>\n",
       "      <td>11.0</td>\n",
       "      <td>NaN</td>\n",
       "      <td>Google</td>\n",
       "      <td>2022</td>\n",
       "      <td>Q1</td>\n",
       "      <td>H1</td>\n",
       "      <td>July</td>\n",
       "      <td>Monday</td>\n",
       "      <td>2021</td>\n",
       "      <td>7</td>\n",
       "      <td>0</td>\n",
       "      <td>CIMS</td>\n",
       "      <td>https://www.enter.co/empresas/seguridad/nueves...</td>\n",
       "      <td>NaN</td>\n",
       "      <td>Enter</td>\n",
       "      <td>2.0</td>\n",
       "      <td>Technology</td>\n",
       "      <td>enter.co</td>\n",
       "      <td>Yes</td>\n",
       "      <td>CIMS</td>\n",
       "      <td>Colombia</td>\n",
       "    </tr>\n",
       "    <tr>\n",
       "      <th>3</th>\n",
       "      <td>de7450bfeadbb3871629f25dba0843d4c3f369a1910e96...</td>\n",
       "      <td>2021-07-12 03:00:00</td>\n",
       "      <td>Sete em cada dez empresas vendem online; veja ...</td>\n",
       "      <td>https://olhardigital.com.br/2021/07/12/guia-do...</td>\n",
       "      <td>olhardigital.com.br</td>\n",
       "      <td>NaN</td>\n",
       "      <td>Brazil</td>\n",
       "      <td>pt</td>\n",
       "      <td>218801</td>\n",
       "      <td>2.0</td>\n",
       "      <td>2.0</td>\n",
       "      <td>Google</td>\n",
       "      <td>2022</td>\n",
       "      <td>Q1</td>\n",
       "      <td>H1</td>\n",
       "      <td>July</td>\n",
       "      <td>Monday</td>\n",
       "      <td>2021</td>\n",
       "      <td>7</td>\n",
       "      <td>0</td>\n",
       "      <td>CIMS</td>\n",
       "      <td>https://olhardigital.com.br/2021/07/12/guia-do...</td>\n",
       "      <td>NaN</td>\n",
       "      <td>Olhar Digital</td>\n",
       "      <td>1.0</td>\n",
       "      <td>Technology</td>\n",
       "      <td>olhardigital.com.br</td>\n",
       "      <td>Yes</td>\n",
       "      <td>CIMS</td>\n",
       "      <td>Brazil</td>\n",
       "    </tr>\n",
       "    <tr>\n",
       "      <th>4</th>\n",
       "      <td>cbc488fb802baf01de51309c5003802514916ffeb477d0...</td>\n",
       "      <td>2021-07-22 01:50:41</td>\n",
       "      <td>En la mira - Revista Summa</td>\n",
       "      <td>https://revistasumma.com/en-la-mira/</td>\n",
       "      <td>revistasumma.com</td>\n",
       "      <td>revistasumma.com</td>\n",
       "      <td>Costa Rica</td>\n",
       "      <td>es</td>\n",
       "      <td>8812</td>\n",
       "      <td>0.0</td>\n",
       "      <td>NaN</td>\n",
       "      <td>Google</td>\n",
       "      <td>2022</td>\n",
       "      <td>Q1</td>\n",
       "      <td>H1</td>\n",
       "      <td>July</td>\n",
       "      <td>Thursday</td>\n",
       "      <td>2021</td>\n",
       "      <td>7</td>\n",
       "      <td>0</td>\n",
       "      <td>CIMS</td>\n",
       "      <td>https://revistasumma.com/en-la-mira/</td>\n",
       "      <td>NaN</td>\n",
       "      <td>NaN</td>\n",
       "      <td>NaN</td>\n",
       "      <td>NaN</td>\n",
       "      <td>NaN</td>\n",
       "      <td>NaN</td>\n",
       "      <td>NaN</td>\n",
       "      <td>NaN</td>\n",
       "    </tr>\n",
       "  </tbody>\n",
       "</table>\n",
       "</div>"
      ],
      "text/plain": [
       "                                           ArticleID       Publisheddate  \\\n",
       "0  81058067ac07f59b42f341f078c8c61818d426a3696745... 2021-07-04 03:54:19   \n",
       "1  1ebf421d4d5813cc4699ff0738419af19490cea0116525... 2021-07-09 12:00:00   \n",
       "2  6ab0000bb9423c5310959f68b47d2b1226998544e963ef... 2021-07-05 15:40:00   \n",
       "3  de7450bfeadbb3871629f25dba0843d4c3f369a1910e96... 2021-07-12 03:00:00   \n",
       "4  cbc488fb802baf01de51309c5003802514916ffeb477d0... 2021-07-22 01:50:41   \n",
       "\n",
       "                                            Headline  \\\n",
       "0                           Series de tv - LA NACION   \n",
       "1  Eurocopa 2020: suben las apuestas por ver quié...   \n",
       "2  Nueves apps borradas de la Play Store por troyano   \n",
       "3  Sete em cada dez empresas vendem online; veja ...   \n",
       "4                         En la mira - Revista Summa   \n",
       "\n",
       "                                                 Url           OutletName  \\\n",
       "0  http://www.lanacion.com.ar/espectaculos/series...      lanacion.com.ar   \n",
       "1  https://www.forbes.com.mx/forbes-life/deportes...        forbes.com.mx   \n",
       "2  https://www.enter.co/empresas/seguridad/nueves...             enter.co   \n",
       "3  https://olhardigital.com.br/2021/07/12/guia-do...  olhardigital.com.br   \n",
       "4               https://revistasumma.com/en-la-mira/     revistasumma.com   \n",
       "\n",
       "         AuthorName     Country Language  Impressions  Shares  Coded Company  \\\n",
       "0   lanacion.com.ar   Argentina       es      1020460     0.0    NaN  Google   \n",
       "1      Forbes Staff      Mexico       es       216233     0.0    NaN  Google   \n",
       "2       Diana Arias    Colombia       es        76857    11.0    NaN  Google   \n",
       "3               NaN      Brazil       pt       218801     2.0    2.0  Google   \n",
       "4  revistasumma.com  Costa Rica       es         8812     0.0    NaN  Google   \n",
       "\n",
       "     FY   Q   H FullMonth dayOfWeek  CalendarYear  CalendarMonth  CIMSUrl  \\\n",
       "0  2022  Q1  H1      July    Sunday          2021              7        0   \n",
       "1  2022  Q1  H1      July    Friday          2021              7        0   \n",
       "2  2022  Q1  H1      July    Monday          2021              7        0   \n",
       "3  2022  Q1  H1      July    Monday          2021              7        0   \n",
       "4  2022  Q1  H1      July  Thursday          2021              7        0   \n",
       "\n",
       "  DataSource                                               Link  Publication  \\\n",
       "0       CIMS  http://www.lanacion.com.ar/espectaculos/series...          NaN   \n",
       "1       CIMS  https://www.forbes.com.mx/forbes-life/deportes...          NaN   \n",
       "2       CIMS  https://www.enter.co/empresas/seguridad/nueves...          NaN   \n",
       "3       CIMS  https://olhardigital.com.br/2021/07/12/guia-do...          NaN   \n",
       "4       CIMS               https://revistasumma.com/en-la-mira/          NaN   \n",
       "\n",
       "                    Host  Tier    Media Type      clean_link_site MediaList  \\\n",
       "0  La Nacion (Argentina)   1.0  General News      lanacion.com.ar       Yes   \n",
       "1          Forbes Mexico   1.0      Business        forbes.com.mx       Yes   \n",
       "2                  Enter   2.0    Technology             enter.co       Yes   \n",
       "3          Olhar Digital   1.0    Technology  olhardigital.com.br       Yes   \n",
       "4                    NaN   NaN           NaN                  NaN       NaN   \n",
       "\n",
       "   CIMS        Sub  \n",
       "0  CIMS  Argentina  \n",
       "1  CIMS     Mexico  \n",
       "2  CIMS   Colombia  \n",
       "3  CIMS     Brazil  \n",
       "4   NaN        NaN  "
      ]
     },
     "execution_count": 109,
     "metadata": {},
     "output_type": "execute_result"
    }
   ],
   "source": [
    "# Merge both dataframes described above: cims_q4 and auxiliarCims\n",
    "cims_f = cims_clean.merge(auxiliarCims,right_on = 'clean_link_site',left_on = 'OutletName', how = 'left')\n",
    "print(cims_f.shape)\n",
    "cims_f.head(5)"
   ]
  },
  {
   "cell_type": "code",
   "execution_count": 110,
   "id": "d5259fb1",
   "metadata": {},
   "outputs": [
    {
     "data": {
      "text/html": [
       "<div>\n",
       "<style scoped>\n",
       "    .dataframe tbody tr th:only-of-type {\n",
       "        vertical-align: middle;\n",
       "    }\n",
       "\n",
       "    .dataframe tbody tr th {\n",
       "        vertical-align: top;\n",
       "    }\n",
       "\n",
       "    .dataframe thead th {\n",
       "        text-align: right;\n",
       "    }\n",
       "</style>\n",
       "<table border=\"1\" class=\"dataframe\">\n",
       "  <thead>\n",
       "    <tr style=\"text-align: right;\">\n",
       "      <th></th>\n",
       "      <th>Country</th>\n",
       "      <th>Country ISO</th>\n",
       "      <th>Sub</th>\n",
       "      <th>Latitude</th>\n",
       "      <th>Longitude</th>\n",
       "    </tr>\n",
       "  </thead>\n",
       "  <tbody>\n",
       "    <tr>\n",
       "      <th>0</th>\n",
       "      <td>Argentina</td>\n",
       "      <td>AR</td>\n",
       "      <td>Argentina</td>\n",
       "      <td>-38.416097</td>\n",
       "      <td>-63.616672</td>\n",
       "    </tr>\n",
       "    <tr>\n",
       "      <th>1</th>\n",
       "      <td>Brazil</td>\n",
       "      <td>BR</td>\n",
       "      <td>Brazil</td>\n",
       "      <td>-14.235004</td>\n",
       "      <td>-51.925280</td>\n",
       "    </tr>\n",
       "    <tr>\n",
       "      <th>2</th>\n",
       "      <td>Colombia</td>\n",
       "      <td>CO</td>\n",
       "      <td>Colombia</td>\n",
       "      <td>4.570868</td>\n",
       "      <td>-74.297333</td>\n",
       "    </tr>\n",
       "  </tbody>\n",
       "</table>\n",
       "</div>"
      ],
      "text/plain": [
       "     Country Country ISO        Sub   Latitude  Longitude\n",
       "0  Argentina          AR  Argentina -38.416097 -63.616672\n",
       "1     Brazil          BR     Brazil -14.235004 -51.925280\n",
       "2   Colombia          CO   Colombia   4.570868 -74.297333"
      ]
     },
     "execution_count": 110,
     "metadata": {},
     "output_type": "execute_result"
    }
   ],
   "source": [
    "# Preview geolocation dataframe\n",
    "geolocation.head(3)"
   ]
  },
  {
   "cell_type": "code",
   "execution_count": 111,
   "id": "97bee896",
   "metadata": {},
   "outputs": [
    {
     "name": "stdout",
     "output_type": "stream",
     "text": [
      "(3799, 34)\n"
     ]
    },
    {
     "data": {
      "text/html": [
       "<div>\n",
       "<style scoped>\n",
       "    .dataframe tbody tr th:only-of-type {\n",
       "        vertical-align: middle;\n",
       "    }\n",
       "\n",
       "    .dataframe tbody tr th {\n",
       "        vertical-align: top;\n",
       "    }\n",
       "\n",
       "    .dataframe thead th {\n",
       "        text-align: right;\n",
       "    }\n",
       "</style>\n",
       "<table border=\"1\" class=\"dataframe\">\n",
       "  <thead>\n",
       "    <tr style=\"text-align: right;\">\n",
       "      <th></th>\n",
       "      <th>ArticleID</th>\n",
       "      <th>Publisheddate</th>\n",
       "      <th>Headline</th>\n",
       "      <th>Url</th>\n",
       "      <th>OutletName</th>\n",
       "      <th>AuthorName</th>\n",
       "      <th>Country_x</th>\n",
       "      <th>Language</th>\n",
       "      <th>Impressions</th>\n",
       "      <th>Shares</th>\n",
       "      <th>Coded</th>\n",
       "      <th>Company</th>\n",
       "      <th>FY</th>\n",
       "      <th>Q</th>\n",
       "      <th>H</th>\n",
       "      <th>FullMonth</th>\n",
       "      <th>dayOfWeek</th>\n",
       "      <th>CalendarYear</th>\n",
       "      <th>CalendarMonth</th>\n",
       "      <th>CIMSUrl</th>\n",
       "      <th>DataSource</th>\n",
       "      <th>Link</th>\n",
       "      <th>Publication</th>\n",
       "      <th>Host</th>\n",
       "      <th>Tier</th>\n",
       "      <th>Media Type</th>\n",
       "      <th>clean_link_site</th>\n",
       "      <th>MediaList</th>\n",
       "      <th>CIMS</th>\n",
       "      <th>Sub</th>\n",
       "      <th>Country_y</th>\n",
       "      <th>Country ISO</th>\n",
       "      <th>Latitude</th>\n",
       "      <th>Longitude</th>\n",
       "    </tr>\n",
       "  </thead>\n",
       "  <tbody>\n",
       "    <tr>\n",
       "      <th>0</th>\n",
       "      <td>81058067ac07f59b42f341f078c8c61818d426a3696745...</td>\n",
       "      <td>2021-07-04 03:54:19</td>\n",
       "      <td>Series de tv - LA NACION</td>\n",
       "      <td>http://www.lanacion.com.ar/espectaculos/series...</td>\n",
       "      <td>lanacion.com.ar</td>\n",
       "      <td>lanacion.com.ar</td>\n",
       "      <td>Argentina</td>\n",
       "      <td>es</td>\n",
       "      <td>1020460</td>\n",
       "      <td>0.0</td>\n",
       "      <td>NaN</td>\n",
       "      <td>Google</td>\n",
       "      <td>2022</td>\n",
       "      <td>Q1</td>\n",
       "      <td>H1</td>\n",
       "      <td>July</td>\n",
       "      <td>Sunday</td>\n",
       "      <td>2021</td>\n",
       "      <td>7</td>\n",
       "      <td>0</td>\n",
       "      <td>CIMS</td>\n",
       "      <td>http://www.lanacion.com.ar/espectaculos/series...</td>\n",
       "      <td>NaN</td>\n",
       "      <td>La Nacion (Argentina)</td>\n",
       "      <td>1.0</td>\n",
       "      <td>General News</td>\n",
       "      <td>lanacion.com.ar</td>\n",
       "      <td>Yes</td>\n",
       "      <td>CIMS</td>\n",
       "      <td>Argentina</td>\n",
       "      <td>Argentina</td>\n",
       "      <td>AR</td>\n",
       "      <td>-38.416097</td>\n",
       "      <td>-63.616672</td>\n",
       "    </tr>\n",
       "    <tr>\n",
       "      <th>1</th>\n",
       "      <td>1ebf421d4d5813cc4699ff0738419af19490cea0116525...</td>\n",
       "      <td>2021-07-09 12:00:00</td>\n",
       "      <td>Eurocopa 2020: suben las apuestas por ver quié...</td>\n",
       "      <td>https://www.forbes.com.mx/forbes-life/deportes...</td>\n",
       "      <td>forbes.com.mx</td>\n",
       "      <td>Forbes Staff</td>\n",
       "      <td>Mexico</td>\n",
       "      <td>es</td>\n",
       "      <td>216233</td>\n",
       "      <td>0.0</td>\n",
       "      <td>NaN</td>\n",
       "      <td>Google</td>\n",
       "      <td>2022</td>\n",
       "      <td>Q1</td>\n",
       "      <td>H1</td>\n",
       "      <td>July</td>\n",
       "      <td>Friday</td>\n",
       "      <td>2021</td>\n",
       "      <td>7</td>\n",
       "      <td>0</td>\n",
       "      <td>CIMS</td>\n",
       "      <td>https://www.forbes.com.mx/forbes-life/deportes...</td>\n",
       "      <td>NaN</td>\n",
       "      <td>Forbes Mexico</td>\n",
       "      <td>1.0</td>\n",
       "      <td>Business</td>\n",
       "      <td>forbes.com.mx</td>\n",
       "      <td>Yes</td>\n",
       "      <td>CIMS</td>\n",
       "      <td>Mexico</td>\n",
       "      <td>Mexico</td>\n",
       "      <td>MX</td>\n",
       "      <td>23.634501</td>\n",
       "      <td>-102.552784</td>\n",
       "    </tr>\n",
       "    <tr>\n",
       "      <th>2</th>\n",
       "      <td>6ab0000bb9423c5310959f68b47d2b1226998544e963ef...</td>\n",
       "      <td>2021-07-05 15:40:00</td>\n",
       "      <td>Nueves apps borradas de la Play Store por troyano</td>\n",
       "      <td>https://www.enter.co/empresas/seguridad/nueves...</td>\n",
       "      <td>enter.co</td>\n",
       "      <td>Diana Arias</td>\n",
       "      <td>Colombia</td>\n",
       "      <td>es</td>\n",
       "      <td>76857</td>\n",
       "      <td>11.0</td>\n",
       "      <td>NaN</td>\n",
       "      <td>Google</td>\n",
       "      <td>2022</td>\n",
       "      <td>Q1</td>\n",
       "      <td>H1</td>\n",
       "      <td>July</td>\n",
       "      <td>Monday</td>\n",
       "      <td>2021</td>\n",
       "      <td>7</td>\n",
       "      <td>0</td>\n",
       "      <td>CIMS</td>\n",
       "      <td>https://www.enter.co/empresas/seguridad/nueves...</td>\n",
       "      <td>NaN</td>\n",
       "      <td>Enter</td>\n",
       "      <td>2.0</td>\n",
       "      <td>Technology</td>\n",
       "      <td>enter.co</td>\n",
       "      <td>Yes</td>\n",
       "      <td>CIMS</td>\n",
       "      <td>Colombia</td>\n",
       "      <td>Colombia</td>\n",
       "      <td>CO</td>\n",
       "      <td>4.570868</td>\n",
       "      <td>-74.297333</td>\n",
       "    </tr>\n",
       "    <tr>\n",
       "      <th>3</th>\n",
       "      <td>de7450bfeadbb3871629f25dba0843d4c3f369a1910e96...</td>\n",
       "      <td>2021-07-12 03:00:00</td>\n",
       "      <td>Sete em cada dez empresas vendem online; veja ...</td>\n",
       "      <td>https://olhardigital.com.br/2021/07/12/guia-do...</td>\n",
       "      <td>olhardigital.com.br</td>\n",
       "      <td>NaN</td>\n",
       "      <td>Brazil</td>\n",
       "      <td>pt</td>\n",
       "      <td>218801</td>\n",
       "      <td>2.0</td>\n",
       "      <td>2.0</td>\n",
       "      <td>Google</td>\n",
       "      <td>2022</td>\n",
       "      <td>Q1</td>\n",
       "      <td>H1</td>\n",
       "      <td>July</td>\n",
       "      <td>Monday</td>\n",
       "      <td>2021</td>\n",
       "      <td>7</td>\n",
       "      <td>0</td>\n",
       "      <td>CIMS</td>\n",
       "      <td>https://olhardigital.com.br/2021/07/12/guia-do...</td>\n",
       "      <td>NaN</td>\n",
       "      <td>Olhar Digital</td>\n",
       "      <td>1.0</td>\n",
       "      <td>Technology</td>\n",
       "      <td>olhardigital.com.br</td>\n",
       "      <td>Yes</td>\n",
       "      <td>CIMS</td>\n",
       "      <td>Brazil</td>\n",
       "      <td>Brazil</td>\n",
       "      <td>BR</td>\n",
       "      <td>-14.235004</td>\n",
       "      <td>-51.925280</td>\n",
       "    </tr>\n",
       "    <tr>\n",
       "      <th>4</th>\n",
       "      <td>cbc488fb802baf01de51309c5003802514916ffeb477d0...</td>\n",
       "      <td>2021-07-22 01:50:41</td>\n",
       "      <td>En la mira - Revista Summa</td>\n",
       "      <td>https://revistasumma.com/en-la-mira/</td>\n",
       "      <td>revistasumma.com</td>\n",
       "      <td>revistasumma.com</td>\n",
       "      <td>Costa Rica</td>\n",
       "      <td>es</td>\n",
       "      <td>8812</td>\n",
       "      <td>0.0</td>\n",
       "      <td>NaN</td>\n",
       "      <td>Google</td>\n",
       "      <td>2022</td>\n",
       "      <td>Q1</td>\n",
       "      <td>H1</td>\n",
       "      <td>July</td>\n",
       "      <td>Thursday</td>\n",
       "      <td>2021</td>\n",
       "      <td>7</td>\n",
       "      <td>0</td>\n",
       "      <td>CIMS</td>\n",
       "      <td>https://revistasumma.com/en-la-mira/</td>\n",
       "      <td>NaN</td>\n",
       "      <td>NaN</td>\n",
       "      <td>NaN</td>\n",
       "      <td>NaN</td>\n",
       "      <td>NaN</td>\n",
       "      <td>NaN</td>\n",
       "      <td>NaN</td>\n",
       "      <td>NaN</td>\n",
       "      <td>NaN</td>\n",
       "      <td>NaN</td>\n",
       "      <td>NaN</td>\n",
       "      <td>NaN</td>\n",
       "    </tr>\n",
       "  </tbody>\n",
       "</table>\n",
       "</div>"
      ],
      "text/plain": [
       "                                           ArticleID       Publisheddate  \\\n",
       "0  81058067ac07f59b42f341f078c8c61818d426a3696745... 2021-07-04 03:54:19   \n",
       "1  1ebf421d4d5813cc4699ff0738419af19490cea0116525... 2021-07-09 12:00:00   \n",
       "2  6ab0000bb9423c5310959f68b47d2b1226998544e963ef... 2021-07-05 15:40:00   \n",
       "3  de7450bfeadbb3871629f25dba0843d4c3f369a1910e96... 2021-07-12 03:00:00   \n",
       "4  cbc488fb802baf01de51309c5003802514916ffeb477d0... 2021-07-22 01:50:41   \n",
       "\n",
       "                                            Headline  \\\n",
       "0                           Series de tv - LA NACION   \n",
       "1  Eurocopa 2020: suben las apuestas por ver quié...   \n",
       "2  Nueves apps borradas de la Play Store por troyano   \n",
       "3  Sete em cada dez empresas vendem online; veja ...   \n",
       "4                         En la mira - Revista Summa   \n",
       "\n",
       "                                                 Url           OutletName  \\\n",
       "0  http://www.lanacion.com.ar/espectaculos/series...      lanacion.com.ar   \n",
       "1  https://www.forbes.com.mx/forbes-life/deportes...        forbes.com.mx   \n",
       "2  https://www.enter.co/empresas/seguridad/nueves...             enter.co   \n",
       "3  https://olhardigital.com.br/2021/07/12/guia-do...  olhardigital.com.br   \n",
       "4               https://revistasumma.com/en-la-mira/     revistasumma.com   \n",
       "\n",
       "         AuthorName   Country_x Language  Impressions  Shares  Coded Company  \\\n",
       "0   lanacion.com.ar   Argentina       es      1020460     0.0    NaN  Google   \n",
       "1      Forbes Staff      Mexico       es       216233     0.0    NaN  Google   \n",
       "2       Diana Arias    Colombia       es        76857    11.0    NaN  Google   \n",
       "3               NaN      Brazil       pt       218801     2.0    2.0  Google   \n",
       "4  revistasumma.com  Costa Rica       es         8812     0.0    NaN  Google   \n",
       "\n",
       "     FY   Q   H FullMonth dayOfWeek  CalendarYear  CalendarMonth  CIMSUrl  \\\n",
       "0  2022  Q1  H1      July    Sunday          2021              7        0   \n",
       "1  2022  Q1  H1      July    Friday          2021              7        0   \n",
       "2  2022  Q1  H1      July    Monday          2021              7        0   \n",
       "3  2022  Q1  H1      July    Monday          2021              7        0   \n",
       "4  2022  Q1  H1      July  Thursday          2021              7        0   \n",
       "\n",
       "  DataSource                                               Link  Publication  \\\n",
       "0       CIMS  http://www.lanacion.com.ar/espectaculos/series...          NaN   \n",
       "1       CIMS  https://www.forbes.com.mx/forbes-life/deportes...          NaN   \n",
       "2       CIMS  https://www.enter.co/empresas/seguridad/nueves...          NaN   \n",
       "3       CIMS  https://olhardigital.com.br/2021/07/12/guia-do...          NaN   \n",
       "4       CIMS               https://revistasumma.com/en-la-mira/          NaN   \n",
       "\n",
       "                    Host  Tier    Media Type      clean_link_site MediaList  \\\n",
       "0  La Nacion (Argentina)   1.0  General News      lanacion.com.ar       Yes   \n",
       "1          Forbes Mexico   1.0      Business        forbes.com.mx       Yes   \n",
       "2                  Enter   2.0    Technology             enter.co       Yes   \n",
       "3          Olhar Digital   1.0    Technology  olhardigital.com.br       Yes   \n",
       "4                    NaN   NaN           NaN                  NaN       NaN   \n",
       "\n",
       "   CIMS        Sub  Country_y Country ISO   Latitude   Longitude  \n",
       "0  CIMS  Argentina  Argentina          AR -38.416097  -63.616672  \n",
       "1  CIMS     Mexico     Mexico          MX  23.634501 -102.552784  \n",
       "2  CIMS   Colombia   Colombia          CO   4.570868  -74.297333  \n",
       "3  CIMS     Brazil     Brazil          BR -14.235004  -51.925280  \n",
       "4   NaN        NaN        NaN         NaN        NaN         NaN  "
      ]
     },
     "execution_count": 111,
     "metadata": {},
     "output_type": "execute_result"
    }
   ],
   "source": [
    "# Merge both dataframes described above: cims_q4_f and geolocation\n",
    "cims_f = cims_f.merge(geolocation,right_on = 'Sub',left_on = 'Sub', how = 'left')\n",
    "print(cims_f.shape)\n",
    "cims_f.head(5)"
   ]
  },
  {
   "cell_type": "code",
   "execution_count": 115,
   "id": "567ec581",
   "metadata": {},
   "outputs": [
    {
     "name": "stdout",
     "output_type": "stream",
     "text": [
      "(3799, 35)\n"
     ]
    },
    {
     "data": {
      "text/html": [
       "<div>\n",
       "<style scoped>\n",
       "    .dataframe tbody tr th:only-of-type {\n",
       "        vertical-align: middle;\n",
       "    }\n",
       "\n",
       "    .dataframe tbody tr th {\n",
       "        vertical-align: top;\n",
       "    }\n",
       "\n",
       "    .dataframe thead th {\n",
       "        text-align: right;\n",
       "    }\n",
       "</style>\n",
       "<table border=\"1\" class=\"dataframe\">\n",
       "  <thead>\n",
       "    <tr style=\"text-align: right;\">\n",
       "      <th></th>\n",
       "      <th>ArticleID</th>\n",
       "      <th>Publisheddate</th>\n",
       "      <th>Headline</th>\n",
       "      <th>Url</th>\n",
       "      <th>OutletName</th>\n",
       "      <th>AuthorName</th>\n",
       "      <th>Country_x</th>\n",
       "      <th>Language</th>\n",
       "      <th>Impressions</th>\n",
       "      <th>Shares</th>\n",
       "      <th>Coded</th>\n",
       "      <th>Company</th>\n",
       "      <th>FY</th>\n",
       "      <th>Q</th>\n",
       "      <th>H</th>\n",
       "      <th>FullMonth</th>\n",
       "      <th>dayOfWeek</th>\n",
       "      <th>CalendarYear</th>\n",
       "      <th>CalendarMonth</th>\n",
       "      <th>CIMSUrl</th>\n",
       "      <th>DataSource</th>\n",
       "      <th>Link</th>\n",
       "      <th>Publication</th>\n",
       "      <th>Host</th>\n",
       "      <th>Tier</th>\n",
       "      <th>Media Type</th>\n",
       "      <th>clean_link_site</th>\n",
       "      <th>MediaList</th>\n",
       "      <th>CIMS</th>\n",
       "      <th>Sub</th>\n",
       "      <th>Country_y</th>\n",
       "      <th>Country ISO</th>\n",
       "      <th>Latitude</th>\n",
       "      <th>Longitude</th>\n",
       "      <th>Source</th>\n",
       "    </tr>\n",
       "  </thead>\n",
       "  <tbody>\n",
       "    <tr>\n",
       "      <th>0</th>\n",
       "      <td>81058067ac07f59b42f341f078c8c61818d426a3696745...</td>\n",
       "      <td>2021-07-04 03:54:19</td>\n",
       "      <td>Series de tv - LA NACION</td>\n",
       "      <td>http://www.lanacion.com.ar/espectaculos/series...</td>\n",
       "      <td>lanacion.com.ar</td>\n",
       "      <td>lanacion.com.ar</td>\n",
       "      <td>Argentina</td>\n",
       "      <td>es</td>\n",
       "      <td>1020460</td>\n",
       "      <td>0.0</td>\n",
       "      <td>NaN</td>\n",
       "      <td>Google</td>\n",
       "      <td>2022</td>\n",
       "      <td>Q1</td>\n",
       "      <td>H1</td>\n",
       "      <td>July</td>\n",
       "      <td>Sunday</td>\n",
       "      <td>2021</td>\n",
       "      <td>7</td>\n",
       "      <td>0</td>\n",
       "      <td>CIMS</td>\n",
       "      <td>http://www.lanacion.com.ar/espectaculos/series...</td>\n",
       "      <td>NaN</td>\n",
       "      <td>La Nacion (Argentina)</td>\n",
       "      <td>1.0</td>\n",
       "      <td>General News</td>\n",
       "      <td>lanacion.com.ar</td>\n",
       "      <td>Yes</td>\n",
       "      <td>CIMS</td>\n",
       "      <td>Argentina</td>\n",
       "      <td>Argentina</td>\n",
       "      <td>AR</td>\n",
       "      <td>-38.416097</td>\n",
       "      <td>-63.616672</td>\n",
       "      <td>Online</td>\n",
       "    </tr>\n",
       "    <tr>\n",
       "      <th>1</th>\n",
       "      <td>1ebf421d4d5813cc4699ff0738419af19490cea0116525...</td>\n",
       "      <td>2021-07-09 12:00:00</td>\n",
       "      <td>Eurocopa 2020: suben las apuestas por ver quié...</td>\n",
       "      <td>https://www.forbes.com.mx/forbes-life/deportes...</td>\n",
       "      <td>forbes.com.mx</td>\n",
       "      <td>Forbes Staff</td>\n",
       "      <td>Mexico</td>\n",
       "      <td>es</td>\n",
       "      <td>216233</td>\n",
       "      <td>0.0</td>\n",
       "      <td>NaN</td>\n",
       "      <td>Google</td>\n",
       "      <td>2022</td>\n",
       "      <td>Q1</td>\n",
       "      <td>H1</td>\n",
       "      <td>July</td>\n",
       "      <td>Friday</td>\n",
       "      <td>2021</td>\n",
       "      <td>7</td>\n",
       "      <td>0</td>\n",
       "      <td>CIMS</td>\n",
       "      <td>https://www.forbes.com.mx/forbes-life/deportes...</td>\n",
       "      <td>NaN</td>\n",
       "      <td>Forbes Mexico</td>\n",
       "      <td>1.0</td>\n",
       "      <td>Business</td>\n",
       "      <td>forbes.com.mx</td>\n",
       "      <td>Yes</td>\n",
       "      <td>CIMS</td>\n",
       "      <td>Mexico</td>\n",
       "      <td>Mexico</td>\n",
       "      <td>MX</td>\n",
       "      <td>23.634501</td>\n",
       "      <td>-102.552784</td>\n",
       "      <td>Online</td>\n",
       "    </tr>\n",
       "    <tr>\n",
       "      <th>2</th>\n",
       "      <td>6ab0000bb9423c5310959f68b47d2b1226998544e963ef...</td>\n",
       "      <td>2021-07-05 15:40:00</td>\n",
       "      <td>Nueves apps borradas de la Play Store por troyano</td>\n",
       "      <td>https://www.enter.co/empresas/seguridad/nueves...</td>\n",
       "      <td>enter.co</td>\n",
       "      <td>Diana Arias</td>\n",
       "      <td>Colombia</td>\n",
       "      <td>es</td>\n",
       "      <td>76857</td>\n",
       "      <td>11.0</td>\n",
       "      <td>NaN</td>\n",
       "      <td>Google</td>\n",
       "      <td>2022</td>\n",
       "      <td>Q1</td>\n",
       "      <td>H1</td>\n",
       "      <td>July</td>\n",
       "      <td>Monday</td>\n",
       "      <td>2021</td>\n",
       "      <td>7</td>\n",
       "      <td>0</td>\n",
       "      <td>CIMS</td>\n",
       "      <td>https://www.enter.co/empresas/seguridad/nueves...</td>\n",
       "      <td>NaN</td>\n",
       "      <td>Enter</td>\n",
       "      <td>2.0</td>\n",
       "      <td>Technology</td>\n",
       "      <td>enter.co</td>\n",
       "      <td>Yes</td>\n",
       "      <td>CIMS</td>\n",
       "      <td>Colombia</td>\n",
       "      <td>Colombia</td>\n",
       "      <td>CO</td>\n",
       "      <td>4.570868</td>\n",
       "      <td>-74.297333</td>\n",
       "      <td>Online</td>\n",
       "    </tr>\n",
       "    <tr>\n",
       "      <th>3</th>\n",
       "      <td>de7450bfeadbb3871629f25dba0843d4c3f369a1910e96...</td>\n",
       "      <td>2021-07-12 03:00:00</td>\n",
       "      <td>Sete em cada dez empresas vendem online; veja ...</td>\n",
       "      <td>https://olhardigital.com.br/2021/07/12/guia-do...</td>\n",
       "      <td>olhardigital.com.br</td>\n",
       "      <td>NaN</td>\n",
       "      <td>Brazil</td>\n",
       "      <td>pt</td>\n",
       "      <td>218801</td>\n",
       "      <td>2.0</td>\n",
       "      <td>2.0</td>\n",
       "      <td>Google</td>\n",
       "      <td>2022</td>\n",
       "      <td>Q1</td>\n",
       "      <td>H1</td>\n",
       "      <td>July</td>\n",
       "      <td>Monday</td>\n",
       "      <td>2021</td>\n",
       "      <td>7</td>\n",
       "      <td>0</td>\n",
       "      <td>CIMS</td>\n",
       "      <td>https://olhardigital.com.br/2021/07/12/guia-do...</td>\n",
       "      <td>NaN</td>\n",
       "      <td>Olhar Digital</td>\n",
       "      <td>1.0</td>\n",
       "      <td>Technology</td>\n",
       "      <td>olhardigital.com.br</td>\n",
       "      <td>Yes</td>\n",
       "      <td>CIMS</td>\n",
       "      <td>Brazil</td>\n",
       "      <td>Brazil</td>\n",
       "      <td>BR</td>\n",
       "      <td>-14.235004</td>\n",
       "      <td>-51.925280</td>\n",
       "      <td>Online</td>\n",
       "    </tr>\n",
       "    <tr>\n",
       "      <th>4</th>\n",
       "      <td>cbc488fb802baf01de51309c5003802514916ffeb477d0...</td>\n",
       "      <td>2021-07-22 01:50:41</td>\n",
       "      <td>En la mira - Revista Summa</td>\n",
       "      <td>https://revistasumma.com/en-la-mira/</td>\n",
       "      <td>revistasumma.com</td>\n",
       "      <td>revistasumma.com</td>\n",
       "      <td>Costa Rica</td>\n",
       "      <td>es</td>\n",
       "      <td>8812</td>\n",
       "      <td>0.0</td>\n",
       "      <td>NaN</td>\n",
       "      <td>Google</td>\n",
       "      <td>2022</td>\n",
       "      <td>Q1</td>\n",
       "      <td>H1</td>\n",
       "      <td>July</td>\n",
       "      <td>Thursday</td>\n",
       "      <td>2021</td>\n",
       "      <td>7</td>\n",
       "      <td>0</td>\n",
       "      <td>CIMS</td>\n",
       "      <td>https://revistasumma.com/en-la-mira/</td>\n",
       "      <td>NaN</td>\n",
       "      <td>NaN</td>\n",
       "      <td>NaN</td>\n",
       "      <td>NaN</td>\n",
       "      <td>NaN</td>\n",
       "      <td>NaN</td>\n",
       "      <td>NaN</td>\n",
       "      <td>NaN</td>\n",
       "      <td>NaN</td>\n",
       "      <td>NaN</td>\n",
       "      <td>NaN</td>\n",
       "      <td>NaN</td>\n",
       "      <td>Online</td>\n",
       "    </tr>\n",
       "  </tbody>\n",
       "</table>\n",
       "</div>"
      ],
      "text/plain": [
       "                                           ArticleID       Publisheddate  \\\n",
       "0  81058067ac07f59b42f341f078c8c61818d426a3696745... 2021-07-04 03:54:19   \n",
       "1  1ebf421d4d5813cc4699ff0738419af19490cea0116525... 2021-07-09 12:00:00   \n",
       "2  6ab0000bb9423c5310959f68b47d2b1226998544e963ef... 2021-07-05 15:40:00   \n",
       "3  de7450bfeadbb3871629f25dba0843d4c3f369a1910e96... 2021-07-12 03:00:00   \n",
       "4  cbc488fb802baf01de51309c5003802514916ffeb477d0... 2021-07-22 01:50:41   \n",
       "\n",
       "                                            Headline  \\\n",
       "0                           Series de tv - LA NACION   \n",
       "1  Eurocopa 2020: suben las apuestas por ver quié...   \n",
       "2  Nueves apps borradas de la Play Store por troyano   \n",
       "3  Sete em cada dez empresas vendem online; veja ...   \n",
       "4                         En la mira - Revista Summa   \n",
       "\n",
       "                                                 Url           OutletName  \\\n",
       "0  http://www.lanacion.com.ar/espectaculos/series...      lanacion.com.ar   \n",
       "1  https://www.forbes.com.mx/forbes-life/deportes...        forbes.com.mx   \n",
       "2  https://www.enter.co/empresas/seguridad/nueves...             enter.co   \n",
       "3  https://olhardigital.com.br/2021/07/12/guia-do...  olhardigital.com.br   \n",
       "4               https://revistasumma.com/en-la-mira/     revistasumma.com   \n",
       "\n",
       "         AuthorName   Country_x Language  Impressions  Shares  Coded Company  \\\n",
       "0   lanacion.com.ar   Argentina       es      1020460     0.0    NaN  Google   \n",
       "1      Forbes Staff      Mexico       es       216233     0.0    NaN  Google   \n",
       "2       Diana Arias    Colombia       es        76857    11.0    NaN  Google   \n",
       "3               NaN      Brazil       pt       218801     2.0    2.0  Google   \n",
       "4  revistasumma.com  Costa Rica       es         8812     0.0    NaN  Google   \n",
       "\n",
       "     FY   Q   H FullMonth dayOfWeek  CalendarYear  CalendarMonth  CIMSUrl  \\\n",
       "0  2022  Q1  H1      July    Sunday          2021              7        0   \n",
       "1  2022  Q1  H1      July    Friday          2021              7        0   \n",
       "2  2022  Q1  H1      July    Monday          2021              7        0   \n",
       "3  2022  Q1  H1      July    Monday          2021              7        0   \n",
       "4  2022  Q1  H1      July  Thursday          2021              7        0   \n",
       "\n",
       "  DataSource                                               Link  Publication  \\\n",
       "0       CIMS  http://www.lanacion.com.ar/espectaculos/series...          NaN   \n",
       "1       CIMS  https://www.forbes.com.mx/forbes-life/deportes...          NaN   \n",
       "2       CIMS  https://www.enter.co/empresas/seguridad/nueves...          NaN   \n",
       "3       CIMS  https://olhardigital.com.br/2021/07/12/guia-do...          NaN   \n",
       "4       CIMS               https://revistasumma.com/en-la-mira/          NaN   \n",
       "\n",
       "                    Host  Tier    Media Type      clean_link_site MediaList  \\\n",
       "0  La Nacion (Argentina)   1.0  General News      lanacion.com.ar       Yes   \n",
       "1          Forbes Mexico   1.0      Business        forbes.com.mx       Yes   \n",
       "2                  Enter   2.0    Technology             enter.co       Yes   \n",
       "3          Olhar Digital   1.0    Technology  olhardigital.com.br       Yes   \n",
       "4                    NaN   NaN           NaN                  NaN       NaN   \n",
       "\n",
       "   CIMS        Sub  Country_y Country ISO   Latitude   Longitude  Source  \n",
       "0  CIMS  Argentina  Argentina          AR -38.416097  -63.616672  Online  \n",
       "1  CIMS     Mexico     Mexico          MX  23.634501 -102.552784  Online  \n",
       "2  CIMS   Colombia   Colombia          CO   4.570868  -74.297333  Online  \n",
       "3  CIMS     Brazil     Brazil          BR -14.235004  -51.925280  Online  \n",
       "4   NaN        NaN        NaN         NaN        NaN         NaN  Online  "
      ]
     },
     "execution_count": 115,
     "metadata": {},
     "output_type": "execute_result"
    }
   ],
   "source": [
    "# Add \"Source\" column to identify all CIMS articles are \"Online\" type\n",
    "cims_f['Source'] = 'Online'\n",
    "print(cims_f.shape)\n",
    "cims_f.head(5)"
   ]
  },
  {
   "cell_type": "code",
   "execution_count": 113,
   "id": "352e6164",
   "metadata": {},
   "outputs": [
    {
     "ename": "NameError",
     "evalue": "name 'cims_q4_f' is not defined",
     "output_type": "error",
     "traceback": [
      "\u001b[1;31m---------------------------------------------------------------------------\u001b[0m",
      "\u001b[1;31mNameError\u001b[0m                                 Traceback (most recent call last)",
      "\u001b[1;32m<ipython-input-113-a7efbc444755>\u001b[0m in \u001b[0;36m<module>\u001b[1;34m\u001b[0m\n\u001b[0;32m      1\u001b[0m \u001b[1;31m# Convert 'Latitude' & 'Longitude' to float type\u001b[0m\u001b[1;33m\u001b[0m\u001b[1;33m\u001b[0m\u001b[1;33m\u001b[0m\u001b[0m\n\u001b[1;32m----> 2\u001b[1;33m \u001b[0mcims_q4_f\u001b[0m\u001b[1;33m[\u001b[0m\u001b[1;34m'Longitude'\u001b[0m\u001b[1;33m]\u001b[0m \u001b[1;33m=\u001b[0m \u001b[0mcims_q4_f\u001b[0m\u001b[1;33m[\u001b[0m\u001b[1;34m'Longitude'\u001b[0m\u001b[1;33m]\u001b[0m\u001b[1;33m.\u001b[0m\u001b[0mastype\u001b[0m\u001b[1;33m(\u001b[0m\u001b[0mfloat\u001b[0m\u001b[1;33m)\u001b[0m\u001b[1;33m\u001b[0m\u001b[1;33m\u001b[0m\u001b[0m\n\u001b[0m\u001b[0;32m      3\u001b[0m \u001b[0mcims_q4_f\u001b[0m\u001b[1;33m[\u001b[0m\u001b[1;34m'Latitude'\u001b[0m\u001b[1;33m]\u001b[0m \u001b[1;33m=\u001b[0m \u001b[0mcims_q4_f\u001b[0m\u001b[1;33m[\u001b[0m\u001b[1;34m'Latitude'\u001b[0m\u001b[1;33m]\u001b[0m\u001b[1;33m.\u001b[0m\u001b[0mastype\u001b[0m\u001b[1;33m(\u001b[0m\u001b[0mfloat\u001b[0m\u001b[1;33m)\u001b[0m\u001b[1;33m\u001b[0m\u001b[1;33m\u001b[0m\u001b[0m\n\u001b[0;32m      4\u001b[0m \u001b[1;33m\u001b[0m\u001b[0m\n\u001b[0;32m      5\u001b[0m \u001b[1;31m# Round both variables to 2 decimals digits\u001b[0m\u001b[1;33m\u001b[0m\u001b[1;33m\u001b[0m\u001b[1;33m\u001b[0m\u001b[0m\n",
      "\u001b[1;31mNameError\u001b[0m: name 'cims_q4_f' is not defined"
     ]
    }
   ],
   "source": [
    "# Convert 'Latitude' & 'Longitude' to float type\n",
    "cims_q4_f['Longitude'] = cims_q4_f['Longitude'].astype(float)\n",
    "cims_q4_f['Latitude'] = cims_q4_f['Latitude'].astype(float)\n",
    "\n",
    "# Round both variables to 2 decimals digits\n",
    "cims_q4_f['Latitude'] = cims_q4_f['Latitude'].map(lambda x:round(x,2))\n",
    "cims_q4_f['Longitude'] = cims_q4_f['Longitude'].map(lambda x:round(x,2))"
   ]
  },
  {
   "cell_type": "code",
   "execution_count": null,
   "id": "bc3fc462",
   "metadata": {},
   "outputs": [],
   "source": [
    "# Import Kepler to visualize the volume of articles by Sub (preliminar visualization)\n",
    "from keplergl import KeplerGl\n",
    "map_1 = KeplerGl()"
   ]
  },
  {
   "cell_type": "code",
   "execution_count": null,
   "id": "accf4c8c",
   "metadata": {},
   "outputs": [],
   "source": [
    "# Extract required columns to build the \"map\"\n",
    "cims_map = cims_q4_f[['Sub','Host','FullMonth','Media Type','Tier','Longitude','Company','Latitude']]\n",
    "print(cims_map.shape)\n",
    "cims_map.head(5)"
   ]
  },
  {
   "cell_type": "code",
   "execution_count": null,
   "id": "c026b818",
   "metadata": {},
   "outputs": [],
   "source": [
    "map_1.add_data(data = cims_map, name='data_1')"
   ]
  },
  {
   "cell_type": "code",
   "execution_count": null,
   "id": "9b974b0a",
   "metadata": {},
   "outputs": [],
   "source": [
    "cims_map.shape"
   ]
  },
  {
   "cell_type": "code",
   "execution_count": null,
   "id": "c75e9a7e",
   "metadata": {},
   "outputs": [],
   "source": [
    "map_1.save_to_html()"
   ]
  },
  {
   "cell_type": "code",
   "execution_count": 116,
   "id": "ce3f2b3c",
   "metadata": {},
   "outputs": [
    {
     "data": {
      "text/html": [
       "<style type=\"text/css\">\n",
       "#T_0fa3a_row0_col0 {\n",
       "  background-color: #023858;\n",
       "  color: #f1f1f1;\n",
       "}\n",
       "#T_0fa3a_row1_col0 {\n",
       "  background-color: #03466e;\n",
       "  color: #f1f1f1;\n",
       "}\n",
       "#T_0fa3a_row2_col0 {\n",
       "  background-color: #99b8d8;\n",
       "  color: #000000;\n",
       "}\n",
       "#T_0fa3a_row3_col0 {\n",
       "  background-color: #a1bbda;\n",
       "  color: #000000;\n",
       "}\n",
       "#T_0fa3a_row4_col0 {\n",
       "  background-color: #a2bcda;\n",
       "  color: #000000;\n",
       "}\n",
       "#T_0fa3a_row5_col0 {\n",
       "  background-color: #b0c2de;\n",
       "  color: #000000;\n",
       "}\n",
       "#T_0fa3a_row6_col0 {\n",
       "  background-color: #bdc8e1;\n",
       "  color: #000000;\n",
       "}\n",
       "#T_0fa3a_row7_col0 {\n",
       "  background-color: #d5d5e8;\n",
       "  color: #000000;\n",
       "}\n",
       "#T_0fa3a_row8_col0, #T_0fa3a_row9_col0 {\n",
       "  background-color: #e0dded;\n",
       "  color: #000000;\n",
       "}\n",
       "#T_0fa3a_row10_col0, #T_0fa3a_row11_col0 {\n",
       "  background-color: #e8e4f0;\n",
       "  color: #000000;\n",
       "}\n",
       "#T_0fa3a_row12_col0 {\n",
       "  background-color: #e9e5f1;\n",
       "  color: #000000;\n",
       "}\n",
       "#T_0fa3a_row13_col0 {\n",
       "  background-color: #eae6f1;\n",
       "  color: #000000;\n",
       "}\n",
       "#T_0fa3a_row14_col0 {\n",
       "  background-color: #ebe6f2;\n",
       "  color: #000000;\n",
       "}\n",
       "#T_0fa3a_row15_col0, #T_0fa3a_row16_col0 {\n",
       "  background-color: #ece7f2;\n",
       "  color: #000000;\n",
       "}\n",
       "#T_0fa3a_row17_col0 {\n",
       "  background-color: #ede7f2;\n",
       "  color: #000000;\n",
       "}\n",
       "#T_0fa3a_row18_col0, #T_0fa3a_row19_col0 {\n",
       "  background-color: #ede8f3;\n",
       "  color: #000000;\n",
       "}\n",
       "#T_0fa3a_row20_col0 {\n",
       "  background-color: #eee9f3;\n",
       "  color: #000000;\n",
       "}\n",
       "#T_0fa3a_row21_col0, #T_0fa3a_row22_col0, #T_0fa3a_row23_col0, #T_0fa3a_row24_col0, #T_0fa3a_row25_col0 {\n",
       "  background-color: #f0eaf4;\n",
       "  color: #000000;\n",
       "}\n",
       "#T_0fa3a_row26_col0 {\n",
       "  background-color: #f1ebf4;\n",
       "  color: #000000;\n",
       "}\n",
       "#T_0fa3a_row27_col0 {\n",
       "  background-color: #f1ebf5;\n",
       "  color: #000000;\n",
       "}\n",
       "#T_0fa3a_row28_col0 {\n",
       "  background-color: #f2ecf5;\n",
       "  color: #000000;\n",
       "}\n",
       "#T_0fa3a_row29_col0 {\n",
       "  background-color: #f4edf6;\n",
       "  color: #000000;\n",
       "}\n",
       "#T_0fa3a_row30_col0, #T_0fa3a_row31_col0, #T_0fa3a_row32_col0 {\n",
       "  background-color: #f4eef6;\n",
       "  color: #000000;\n",
       "}\n",
       "#T_0fa3a_row33_col0 {\n",
       "  background-color: #f5eef6;\n",
       "  color: #000000;\n",
       "}\n",
       "#T_0fa3a_row34_col0, #T_0fa3a_row35_col0, #T_0fa3a_row36_col0 {\n",
       "  background-color: #f6eff7;\n",
       "  color: #000000;\n",
       "}\n",
       "#T_0fa3a_row37_col0, #T_0fa3a_row38_col0, #T_0fa3a_row39_col0 {\n",
       "  background-color: #f7f0f7;\n",
       "  color: #000000;\n",
       "}\n",
       "#T_0fa3a_row40_col0, #T_0fa3a_row41_col0, #T_0fa3a_row42_col0, #T_0fa3a_row43_col0, #T_0fa3a_row44_col0, #T_0fa3a_row45_col0, #T_0fa3a_row46_col0 {\n",
       "  background-color: #f8f1f8;\n",
       "  color: #000000;\n",
       "}\n",
       "#T_0fa3a_row47_col0 {\n",
       "  background-color: #f9f2f8;\n",
       "  color: #000000;\n",
       "}\n",
       "#T_0fa3a_row48_col0, #T_0fa3a_row49_col0, #T_0fa3a_row50_col0 {\n",
       "  background-color: #faf2f8;\n",
       "  color: #000000;\n",
       "}\n",
       "#T_0fa3a_row51_col0 {\n",
       "  background-color: #fbf3f9;\n",
       "  color: #000000;\n",
       "}\n",
       "#T_0fa3a_row52_col0, #T_0fa3a_row53_col0, #T_0fa3a_row54_col0 {\n",
       "  background-color: #fbf4f9;\n",
       "  color: #000000;\n",
       "}\n",
       "#T_0fa3a_row55_col0, #T_0fa3a_row56_col0, #T_0fa3a_row57_col0, #T_0fa3a_row58_col0, #T_0fa3a_row59_col0, #T_0fa3a_row60_col0 {\n",
       "  background-color: #fcf4fa;\n",
       "  color: #000000;\n",
       "}\n",
       "#T_0fa3a_row61_col0, #T_0fa3a_row62_col0, #T_0fa3a_row63_col0 {\n",
       "  background-color: #fdf5fa;\n",
       "  color: #000000;\n",
       "}\n",
       "#T_0fa3a_row64_col0, #T_0fa3a_row65_col0, #T_0fa3a_row66_col0, #T_0fa3a_row67_col0 {\n",
       "  background-color: #fef6fa;\n",
       "  color: #000000;\n",
       "}\n",
       "#T_0fa3a_row68_col0, #T_0fa3a_row69_col0, #T_0fa3a_row70_col0, #T_0fa3a_row71_col0 {\n",
       "  background-color: #fef6fb;\n",
       "  color: #000000;\n",
       "}\n",
       "#T_0fa3a_row72_col0, #T_0fa3a_row73_col0, #T_0fa3a_row74_col0, #T_0fa3a_row75_col0, #T_0fa3a_row76_col0, #T_0fa3a_row77_col0 {\n",
       "  background-color: #fff7fb;\n",
       "  color: #000000;\n",
       "}\n",
       "</style>\n",
       "<table id=\"T_0fa3a_\">\n",
       "  <thead>\n",
       "    <tr>\n",
       "      <th class=\"blank level0\" >&nbsp;</th>\n",
       "      <th class=\"col_heading level0 col0\" >OutletName</th>\n",
       "    </tr>\n",
       "  </thead>\n",
       "  <tbody>\n",
       "    <tr>\n",
       "      <th id=\"T_0fa3a_level0_row0\" class=\"row_heading level0 row0\" >canaltech.com.br</th>\n",
       "      <td id=\"T_0fa3a_row0_col0\" class=\"data row0 col0\" >460</td>\n",
       "    </tr>\n",
       "    <tr>\n",
       "      <th id=\"T_0fa3a_level0_row1\" class=\"row_heading level0 row1\" >uol.com.br</th>\n",
       "      <td id=\"T_0fa3a_row1_col0\" class=\"data row1 col0\" >436</td>\n",
       "    </tr>\n",
       "    <tr>\n",
       "      <th id=\"T_0fa3a_level0_row2\" class=\"row_heading level0 row2\" >eltiempo.com</th>\n",
       "      <td id=\"T_0fa3a_row2_col0\" class=\"data row2 col0\" >189</td>\n",
       "    </tr>\n",
       "    <tr>\n",
       "      <th id=\"T_0fa3a_level0_row3\" class=\"row_heading level0 row3\" >noticias.uol.com.br</th>\n",
       "      <td id=\"T_0fa3a_row3_col0\" class=\"data row3 col0\" >180</td>\n",
       "    </tr>\n",
       "    <tr>\n",
       "      <th id=\"T_0fa3a_level0_row4\" class=\"row_heading level0 row4\" >tecmundo.com.br</th>\n",
       "      <td id=\"T_0fa3a_row4_col0\" class=\"data row4 col0\" >177</td>\n",
       "    </tr>\n",
       "    <tr>\n",
       "      <th id=\"T_0fa3a_level0_row5\" class=\"row_heading level0 row5\" >g1.globo.com</th>\n",
       "      <td id=\"T_0fa3a_row5_col0\" class=\"data row5 col0\" >160</td>\n",
       "    </tr>\n",
       "    <tr>\n",
       "      <th id=\"T_0fa3a_level0_row6\" class=\"row_heading level0 row6\" >tecnoblog.net</th>\n",
       "      <td id=\"T_0fa3a_row6_col0\" class=\"data row6 col0\" >142</td>\n",
       "    </tr>\n",
       "    <tr>\n",
       "      <th id=\"T_0fa3a_level0_row7\" class=\"row_heading level0 row7\" >ambito.com</th>\n",
       "      <td id=\"T_0fa3a_row7_col0\" class=\"data row7 col0\" >106</td>\n",
       "    </tr>\n",
       "    <tr>\n",
       "      <th id=\"T_0fa3a_level0_row8\" class=\"row_heading level0 row8\" >forbes.com.mx</th>\n",
       "      <td id=\"T_0fa3a_row8_col0\" class=\"data row8 col0\" >85</td>\n",
       "    </tr>\n",
       "    <tr>\n",
       "      <th id=\"T_0fa3a_level0_row9\" class=\"row_heading level0 row9\" >techtudo.com.br</th>\n",
       "      <td id=\"T_0fa3a_row9_col0\" class=\"data row9 col0\" >84</td>\n",
       "    </tr>\n",
       "    <tr>\n",
       "      <th id=\"T_0fa3a_level0_row10\" class=\"row_heading level0 row10\" >iprofesional.com</th>\n",
       "      <td id=\"T_0fa3a_row10_col0\" class=\"data row10 col0\" >66</td>\n",
       "    </tr>\n",
       "    <tr>\n",
       "      <th id=\"T_0fa3a_level0_row11\" class=\"row_heading level0 row11\" >epocanegocios.globo.com</th>\n",
       "      <td id=\"T_0fa3a_row11_col0\" class=\"data row11 col0\" >66</td>\n",
       "    </tr>\n",
       "    <tr>\n",
       "      <th id=\"T_0fa3a_level0_row12\" class=\"row_heading level0 row12\" >lanacion.com.ar</th>\n",
       "      <td id=\"T_0fa3a_row12_col0\" class=\"data row12 col0\" >65</td>\n",
       "    </tr>\n",
       "    <tr>\n",
       "      <th id=\"T_0fa3a_level0_row13\" class=\"row_heading level0 row13\" >eluniversal.com.mx</th>\n",
       "      <td id=\"T_0fa3a_row13_col0\" class=\"data row13 col0\" >63</td>\n",
       "    </tr>\n",
       "    <tr>\n",
       "      <th id=\"T_0fa3a_level0_row14\" class=\"row_heading level0 row14\" >revistasumma.com</th>\n",
       "      <td id=\"T_0fa3a_row14_col0\" class=\"data row14 col0\" >61</td>\n",
       "    </tr>\n",
       "    <tr>\n",
       "      <th id=\"T_0fa3a_level0_row15\" class=\"row_heading level0 row15\" >revistaitnow.com</th>\n",
       "      <td id=\"T_0fa3a_row15_col0\" class=\"data row15 col0\" >60</td>\n",
       "    </tr>\n",
       "    <tr>\n",
       "      <th id=\"T_0fa3a_level0_row16\" class=\"row_heading level0 row16\" >exame.com</th>\n",
       "      <td id=\"T_0fa3a_row16_col0\" class=\"data row16 col0\" >59</td>\n",
       "    </tr>\n",
       "    <tr>\n",
       "      <th id=\"T_0fa3a_level0_row17\" class=\"row_heading level0 row17\" >forbes.co</th>\n",
       "      <td id=\"T_0fa3a_row17_col0\" class=\"data row17 col0\" >58</td>\n",
       "    </tr>\n",
       "    <tr>\n",
       "      <th id=\"T_0fa3a_level0_row18\" class=\"row_heading level0 row18\" >iproup.com</th>\n",
       "      <td id=\"T_0fa3a_row18_col0\" class=\"data row18 col0\" >56</td>\n",
       "    </tr>\n",
       "    <tr>\n",
       "      <th id=\"T_0fa3a_level0_row19\" class=\"row_heading level0 row19\" >gizmodo.uol.com.br</th>\n",
       "      <td id=\"T_0fa3a_row19_col0\" class=\"data row19 col0\" >55</td>\n",
       "    </tr>\n",
       "    <tr>\n",
       "      <th id=\"T_0fa3a_level0_row20\" class=\"row_heading level0 row20\" >elceo.com</th>\n",
       "      <td id=\"T_0fa3a_row20_col0\" class=\"data row20 col0\" >52</td>\n",
       "    </tr>\n",
       "    <tr>\n",
       "      <th id=\"T_0fa3a_level0_row21\" class=\"row_heading level0 row21\" >clarin.com</th>\n",
       "      <td id=\"T_0fa3a_row21_col0\" class=\"data row21 col0\" >48</td>\n",
       "    </tr>\n",
       "    <tr>\n",
       "      <th id=\"T_0fa3a_level0_row22\" class=\"row_heading level0 row22\" >latercera.com</th>\n",
       "      <td id=\"T_0fa3a_row22_col0\" class=\"data row22 col0\" >48</td>\n",
       "    </tr>\n",
       "    <tr>\n",
       "      <th id=\"T_0fa3a_level0_row23\" class=\"row_heading level0 row23\" >elnuevodia.com</th>\n",
       "      <td id=\"T_0fa3a_row23_col0\" class=\"data row23 col0\" >48</td>\n",
       "    </tr>\n",
       "    <tr>\n",
       "      <th id=\"T_0fa3a_level0_row24\" class=\"row_heading level0 row24\" >milenio.com</th>\n",
       "      <td id=\"T_0fa3a_row24_col0\" class=\"data row24 col0\" >47</td>\n",
       "    </tr>\n",
       "    <tr>\n",
       "      <th id=\"T_0fa3a_level0_row25\" class=\"row_heading level0 row25\" >elfinanciero.com.mx</th>\n",
       "      <td id=\"T_0fa3a_row25_col0\" class=\"data row25 col0\" >46</td>\n",
       "    </tr>\n",
       "    <tr>\n",
       "      <th id=\"T_0fa3a_level0_row26\" class=\"row_heading level0 row26\" >istoedinheiro.com.br</th>\n",
       "      <td id=\"T_0fa3a_row26_col0\" class=\"data row26 col0\" >45</td>\n",
       "    </tr>\n",
       "    <tr>\n",
       "      <th id=\"T_0fa3a_level0_row27\" class=\"row_heading level0 row27\" >oglobo.globo.com</th>\n",
       "      <td id=\"T_0fa3a_row27_col0\" class=\"data row27 col0\" >43</td>\n",
       "    </tr>\n",
       "    <tr>\n",
       "      <th id=\"T_0fa3a_level0_row28\" class=\"row_heading level0 row28\" >elcomercio.com</th>\n",
       "      <td id=\"T_0fa3a_row28_col0\" class=\"data row28 col0\" >42</td>\n",
       "    </tr>\n",
       "    <tr>\n",
       "      <th id=\"T_0fa3a_level0_row29\" class=\"row_heading level0 row29\" >infobae.com</th>\n",
       "      <td id=\"T_0fa3a_row29_col0\" class=\"data row29 col0\" >36</td>\n",
       "    </tr>\n",
       "    <tr>\n",
       "      <th id=\"T_0fa3a_level0_row30\" class=\"row_heading level0 row30\" >dineroenimagen.com</th>\n",
       "      <td id=\"T_0fa3a_row30_col0\" class=\"data row30 col0\" >35</td>\n",
       "    </tr>\n",
       "    <tr>\n",
       "      <th id=\"T_0fa3a_level0_row31\" class=\"row_heading level0 row31\" >parentesis.com</th>\n",
       "      <td id=\"T_0fa3a_row31_col0\" class=\"data row31 col0\" >35</td>\n",
       "    </tr>\n",
       "    <tr>\n",
       "      <th id=\"T_0fa3a_level0_row32\" class=\"row_heading level0 row32\" >businessinsider.mx</th>\n",
       "      <td id=\"T_0fa3a_row32_col0\" class=\"data row32 col0\" >34</td>\n",
       "    </tr>\n",
       "    <tr>\n",
       "      <th id=\"T_0fa3a_level0_row33\" class=\"row_heading level0 row33\" >xataka.com.mx</th>\n",
       "      <td id=\"T_0fa3a_row33_col0\" class=\"data row33 col0\" >32</td>\n",
       "    </tr>\n",
       "    <tr>\n",
       "      <th id=\"T_0fa3a_level0_row34\" class=\"row_heading level0 row34\" >cronista.com</th>\n",
       "      <td id=\"T_0fa3a_row34_col0\" class=\"data row34 col0\" >29</td>\n",
       "    </tr>\n",
       "    <tr>\n",
       "      <th id=\"T_0fa3a_level0_row35\" class=\"row_heading level0 row35\" >geekzilla.tech</th>\n",
       "      <td id=\"T_0fa3a_row35_col0\" class=\"data row35 col0\" >28</td>\n",
       "    </tr>\n",
       "    <tr>\n",
       "      <th id=\"T_0fa3a_level0_row36\" class=\"row_heading level0 row36\" >elvocero.com</th>\n",
       "      <td id=\"T_0fa3a_row36_col0\" class=\"data row36 col0\" >28</td>\n",
       "    </tr>\n",
       "    <tr>\n",
       "      <th id=\"T_0fa3a_level0_row37\" class=\"row_heading level0 row37\" >eleconomista.com.mx</th>\n",
       "      <td id=\"T_0fa3a_row37_col0\" class=\"data row37 col0\" >27</td>\n",
       "    </tr>\n",
       "    <tr>\n",
       "      <th id=\"T_0fa3a_level0_row38\" class=\"row_heading level0 row38\" >infomoney.com.br</th>\n",
       "      <td id=\"T_0fa3a_row38_col0\" class=\"data row38 col0\" >27</td>\n",
       "    </tr>\n",
       "    <tr>\n",
       "      <th id=\"T_0fa3a_level0_row39\" class=\"row_heading level0 row39\" >br.ign.com</th>\n",
       "      <td id=\"T_0fa3a_row39_col0\" class=\"data row39 col0\" >25</td>\n",
       "    </tr>\n",
       "    <tr>\n",
       "      <th id=\"T_0fa3a_level0_row40\" class=\"row_heading level0 row40\" >infotechnology.com</th>\n",
       "      <td id=\"T_0fa3a_row40_col0\" class=\"data row40 col0\" >24</td>\n",
       "    </tr>\n",
       "    <tr>\n",
       "      <th id=\"T_0fa3a_level0_row41\" class=\"row_heading level0 row41\" >adrenaline.com.br</th>\n",
       "      <td id=\"T_0fa3a_row41_col0\" class=\"data row41 col0\" >24</td>\n",
       "    </tr>\n",
       "    <tr>\n",
       "      <th id=\"T_0fa3a_level0_row42\" class=\"row_heading level0 row42\" >publimetro.com.mx</th>\n",
       "      <td id=\"T_0fa3a_row42_col0\" class=\"data row42 col0\" >23</td>\n",
       "    </tr>\n",
       "    <tr>\n",
       "      <th id=\"T_0fa3a_level0_row43\" class=\"row_heading level0 row43\" >olhardigital.com.br</th>\n",
       "      <td id=\"T_0fa3a_row43_col0\" class=\"data row43 col0\" >22</td>\n",
       "    </tr>\n",
       "    <tr>\n",
       "      <th id=\"T_0fa3a_level0_row44\" class=\"row_heading level0 row44\" >lavoz.com.ar</th>\n",
       "      <td id=\"T_0fa3a_row44_col0\" class=\"data row44 col0\" >22</td>\n",
       "    </tr>\n",
       "    <tr>\n",
       "      <th id=\"T_0fa3a_level0_row45\" class=\"row_heading level0 row45\" >enter.co</th>\n",
       "      <td id=\"T_0fa3a_row45_col0\" class=\"data row45 col0\" >21</td>\n",
       "    </tr>\n",
       "    <tr>\n",
       "      <th id=\"T_0fa3a_level0_row46\" class=\"row_heading level0 row46\" >larepublica.co</th>\n",
       "      <td id=\"T_0fa3a_row46_col0\" class=\"data row46 col0\" >21</td>\n",
       "    </tr>\n",
       "    <tr>\n",
       "      <th id=\"T_0fa3a_level0_row47\" class=\"row_heading level0 row47\" >lafm.com.co</th>\n",
       "      <td id=\"T_0fa3a_row47_col0\" class=\"data row47 col0\" >20</td>\n",
       "    </tr>\n",
       "    <tr>\n",
       "      <th id=\"T_0fa3a_level0_row48\" class=\"row_heading level0 row48\" >cio.com.mx</th>\n",
       "      <td id=\"T_0fa3a_row48_col0\" class=\"data row48 col0\" >18</td>\n",
       "    </tr>\n",
       "    <tr>\n",
       "      <th id=\"T_0fa3a_level0_row49\" class=\"row_heading level0 row49\" >noticias.caracoltv.com</th>\n",
       "      <td id=\"T_0fa3a_row49_col0\" class=\"data row49 col0\" >18</td>\n",
       "    </tr>\n",
       "    <tr>\n",
       "      <th id=\"T_0fa3a_level0_row50\" class=\"row_heading level0 row50\" >neofeed.com.br</th>\n",
       "      <td id=\"T_0fa3a_row50_col0\" class=\"data row50 col0\" >18</td>\n",
       "    </tr>\n",
       "    <tr>\n",
       "      <th id=\"T_0fa3a_level0_row51\" class=\"row_heading level0 row51\" >laprensagrafica.com</th>\n",
       "      <td id=\"T_0fa3a_row51_col0\" class=\"data row51 col0\" >14</td>\n",
       "    </tr>\n",
       "    <tr>\n",
       "      <th id=\"T_0fa3a_level0_row52\" class=\"row_heading level0 row52\" >itseller.cl</th>\n",
       "      <td id=\"T_0fa3a_row52_col0\" class=\"data row52 col0\" >13</td>\n",
       "    </tr>\n",
       "    <tr>\n",
       "      <th id=\"T_0fa3a_level0_row53\" class=\"row_heading level0 row53\" >emb.cl</th>\n",
       "      <td id=\"T_0fa3a_row53_col0\" class=\"data row53 col0\" >13</td>\n",
       "    </tr>\n",
       "    <tr>\n",
       "      <th id=\"T_0fa3a_level0_row54\" class=\"row_heading level0 row54\" >valor.globo.com</th>\n",
       "      <td id=\"T_0fa3a_row54_col0\" class=\"data row54 col0\" >12</td>\n",
       "    </tr>\n",
       "    <tr>\n",
       "      <th id=\"T_0fa3a_level0_row55\" class=\"row_heading level0 row55\" >corporateit.cl</th>\n",
       "      <td id=\"T_0fa3a_row55_col0\" class=\"data row55 col0\" >11</td>\n",
       "    </tr>\n",
       "    <tr>\n",
       "      <th id=\"T_0fa3a_level0_row56\" class=\"row_heading level0 row56\" >excelsior.com.mx</th>\n",
       "      <td id=\"T_0fa3a_row56_col0\" class=\"data row56 col0\" >11</td>\n",
       "    </tr>\n",
       "    <tr>\n",
       "      <th id=\"T_0fa3a_level0_row57\" class=\"row_heading level0 row57\" >df.cl</th>\n",
       "      <td id=\"T_0fa3a_row57_col0\" class=\"data row57 col0\" >11</td>\n",
       "    </tr>\n",
       "    <tr>\n",
       "      <th id=\"T_0fa3a_level0_row58\" class=\"row_heading level0 row58\" >heraldodemexico.com.mx</th>\n",
       "      <td id=\"T_0fa3a_row58_col0\" class=\"data row58 col0\" >10</td>\n",
       "    </tr>\n",
       "    <tr>\n",
       "      <th id=\"T_0fa3a_level0_row59\" class=\"row_heading level0 row59\" >estadao.com.br</th>\n",
       "      <td id=\"T_0fa3a_row59_col0\" class=\"data row59 col0\" >10</td>\n",
       "    </tr>\n",
       "    <tr>\n",
       "      <th id=\"T_0fa3a_level0_row60\" class=\"row_heading level0 row60\" >cnnbrasil.com.br</th>\n",
       "      <td id=\"T_0fa3a_row60_col0\" class=\"data row60 col0\" >10</td>\n",
       "    </tr>\n",
       "    <tr>\n",
       "      <th id=\"T_0fa3a_level0_row61\" class=\"row_heading level0 row61\" >jovemnerd.com.br</th>\n",
       "      <td id=\"T_0fa3a_row61_col0\" class=\"data row61 col0\" >9</td>\n",
       "    </tr>\n",
       "    <tr>\n",
       "      <th id=\"T_0fa3a_level0_row62\" class=\"row_heading level0 row62\" >computerworld.com.br</th>\n",
       "      <td id=\"T_0fa3a_row62_col0\" class=\"data row62 col0\" >8</td>\n",
       "    </tr>\n",
       "    <tr>\n",
       "      <th id=\"T_0fa3a_level0_row63\" class=\"row_heading level0 row63\" >forbescentroamerica.com</th>\n",
       "      <td id=\"T_0fa3a_row63_col0\" class=\"data row63 col0\" >8</td>\n",
       "    </tr>\n",
       "    <tr>\n",
       "      <th id=\"T_0fa3a_level0_row64\" class=\"row_heading level0 row64\" >revistapegn.globo.com</th>\n",
       "      <td id=\"T_0fa3a_row64_col0\" class=\"data row64 col0\" >6</td>\n",
       "    </tr>\n",
       "    <tr>\n",
       "      <th id=\"T_0fa3a_level0_row65\" class=\"row_heading level0 row65\" >tecnoeducacion.cl</th>\n",
       "      <td id=\"T_0fa3a_row65_col0\" class=\"data row65 col0\" >5</td>\n",
       "    </tr>\n",
       "    <tr>\n",
       "      <th id=\"T_0fa3a_level0_row66\" class=\"row_heading level0 row66\" >portalinnova.cl</th>\n",
       "      <td id=\"T_0fa3a_row66_col0\" class=\"data row66 col0\" >5</td>\n",
       "    </tr>\n",
       "    <tr>\n",
       "      <th id=\"T_0fa3a_level0_row67\" class=\"row_heading level0 row67\" >portafolio.co</th>\n",
       "      <td id=\"T_0fa3a_row67_col0\" class=\"data row67 col0\" >5</td>\n",
       "    </tr>\n",
       "    <tr>\n",
       "      <th id=\"T_0fa3a_level0_row68\" class=\"row_heading level0 row68\" >metro.pr</th>\n",
       "      <td id=\"T_0fa3a_row68_col0\" class=\"data row68 col0\" >4</td>\n",
       "    </tr>\n",
       "    <tr>\n",
       "      <th id=\"T_0fa3a_level0_row69\" class=\"row_heading level0 row69\" >diariodonordeste.verdesmares.com.br</th>\n",
       "      <td id=\"T_0fa3a_row69_col0\" class=\"data row69 col0\" >4</td>\n",
       "    </tr>\n",
       "    <tr>\n",
       "      <th id=\"T_0fa3a_level0_row70\" class=\"row_heading level0 row70\" >americaeconomia.com</th>\n",
       "      <td id=\"T_0fa3a_row70_col0\" class=\"data row70 col0\" >3</td>\n",
       "    </tr>\n",
       "    <tr>\n",
       "      <th id=\"T_0fa3a_level0_row71\" class=\"row_heading level0 row71\" >emol.com</th>\n",
       "      <td id=\"T_0fa3a_row71_col0\" class=\"data row71 col0\" >3</td>\n",
       "    </tr>\n",
       "    <tr>\n",
       "      <th id=\"T_0fa3a_level0_row72\" class=\"row_heading level0 row72\" >rcnradio.com</th>\n",
       "      <td id=\"T_0fa3a_row72_col0\" class=\"data row72 col0\" >2</td>\n",
       "    </tr>\n",
       "    <tr>\n",
       "      <th id=\"T_0fa3a_level0_row73\" class=\"row_heading level0 row73\" >publimetro.cl</th>\n",
       "      <td id=\"T_0fa3a_row73_col0\" class=\"data row73 col0\" >2</td>\n",
       "    </tr>\n",
       "    <tr>\n",
       "      <th id=\"T_0fa3a_level0_row74\" class=\"row_heading level0 row74\" >omelete.com.br</th>\n",
       "      <td id=\"T_0fa3a_row74_col0\" class=\"data row74 col0\" >2</td>\n",
       "    </tr>\n",
       "    <tr>\n",
       "      <th id=\"T_0fa3a_level0_row75\" class=\"row_heading level0 row75\" >bluradio.com</th>\n",
       "      <td id=\"T_0fa3a_row75_col0\" class=\"data row75 col0\" >2</td>\n",
       "    </tr>\n",
       "    <tr>\n",
       "      <th id=\"T_0fa3a_level0_row76\" class=\"row_heading level0 row76\" >elespectador.com</th>\n",
       "      <td id=\"T_0fa3a_row76_col0\" class=\"data row76 col0\" >1</td>\n",
       "    </tr>\n",
       "    <tr>\n",
       "      <th id=\"T_0fa3a_level0_row77\" class=\"row_heading level0 row77\" >caracoltv.com</th>\n",
       "      <td id=\"T_0fa3a_row77_col0\" class=\"data row77 col0\" >1</td>\n",
       "    </tr>\n",
       "  </tbody>\n",
       "</table>\n"
      ],
      "text/plain": [
       "<pandas.io.formats.style.Styler at 0x2500097f790>"
      ]
     },
     "execution_count": 116,
     "metadata": {},
     "output_type": "execute_result"
    }
   ],
   "source": [
    "# Validate 'OutletName' variable behavior\n",
    "outlet = cims_f['OutletName'].value_counts()\n",
    "outlet = pd.DataFrame(outlet)\n",
    "outlet.style.background_gradient()"
   ]
  },
  {
   "cell_type": "code",
   "execution_count": 117,
   "id": "4552a6c6",
   "metadata": {},
   "outputs": [
    {
     "data": {
      "text/html": [
       "<style type=\"text/css\">\n",
       "#T_c1bcb_row0_col0 {\n",
       "  background-color: #fff7fb;\n",
       "  color: #000000;\n",
       "}\n",
       "</style>\n",
       "<table id=\"T_c1bcb_\">\n",
       "  <thead>\n",
       "    <tr>\n",
       "      <th class=\"blank level0\" >&nbsp;</th>\n",
       "      <th class=\"col_heading level0 col0\" >MediaList</th>\n",
       "    </tr>\n",
       "  </thead>\n",
       "  <tbody>\n",
       "    <tr>\n",
       "      <th id=\"T_c1bcb_level0_row0\" class=\"row_heading level0 row0\" >Yes</th>\n",
       "      <td id=\"T_c1bcb_row0_col0\" class=\"data row0 col0\" >2914</td>\n",
       "    </tr>\n",
       "  </tbody>\n",
       "</table>\n"
      ],
      "text/plain": [
       "<pandas.io.formats.style.Styler at 0x250028ad520>"
      ]
     },
     "execution_count": 117,
     "metadata": {},
     "output_type": "execute_result"
    }
   ],
   "source": [
    "# Validate 'MediaList' variable behavior *** => Must be checked, \"No\" values are missing.\n",
    "media = cims_f['MediaList'].value_counts()\n",
    "media = pd.DataFrame(media)\n",
    "media.style.background_gradient()"
   ]
  },
  {
   "cell_type": "code",
   "execution_count": 118,
   "id": "8db34542",
   "metadata": {},
   "outputs": [
    {
     "data": {
      "text/html": [
       "<style type=\"text/css\">\n",
       "#T_9dc92_row0_col0 {\n",
       "  background-color: #023858;\n",
       "  color: #f1f1f1;\n",
       "}\n",
       "#T_9dc92_row1_col0 {\n",
       "  background-color: #fff7fb;\n",
       "  color: #000000;\n",
       "}\n",
       "</style>\n",
       "<table id=\"T_9dc92_\">\n",
       "  <thead>\n",
       "    <tr>\n",
       "      <th class=\"blank level0\" >&nbsp;</th>\n",
       "      <th class=\"col_heading level0 col0\" >Tier</th>\n",
       "    </tr>\n",
       "  </thead>\n",
       "  <tbody>\n",
       "    <tr>\n",
       "      <th id=\"T_9dc92_level0_row0\" class=\"row_heading level0 row0\" >1.0</th>\n",
       "      <td id=\"T_9dc92_row0_col0\" class=\"data row0 col0\" >2606</td>\n",
       "    </tr>\n",
       "    <tr>\n",
       "      <th id=\"T_9dc92_level0_row1\" class=\"row_heading level0 row1\" >2.0</th>\n",
       "      <td id=\"T_9dc92_row1_col0\" class=\"data row1 col0\" >251</td>\n",
       "    </tr>\n",
       "  </tbody>\n",
       "</table>\n"
      ],
      "text/plain": [
       "<pandas.io.formats.style.Styler at 0x250028e0f70>"
      ]
     },
     "execution_count": 118,
     "metadata": {},
     "output_type": "execute_result"
    }
   ],
   "source": [
    "# Validate 'Tier' variable behavior\n",
    "tier = cims_f['Tier'].value_counts()\n",
    "tier = pd.DataFrame(tier)\n",
    "tier.style.background_gradient()"
   ]
  },
  {
   "cell_type": "code",
   "execution_count": 120,
   "id": "37dfeca4",
   "metadata": {},
   "outputs": [
    {
     "data": {
      "text/html": [
       "<style type=\"text/css\">\n",
       "#T_d96e2_row0_col0 {\n",
       "  background-color: #023858;\n",
       "  color: #f1f1f1;\n",
       "}\n",
       "#T_d96e2_row1_col0 {\n",
       "  background-color: #d9d8ea;\n",
       "  color: #000000;\n",
       "}\n",
       "#T_d96e2_row2_col0 {\n",
       "  background-color: #dcdaeb;\n",
       "  color: #000000;\n",
       "}\n",
       "#T_d96e2_row3_col0 {\n",
       "  background-color: #f8f1f8;\n",
       "  color: #000000;\n",
       "}\n",
       "#T_d96e2_row4_col0 {\n",
       "  background-color: #f9f2f8;\n",
       "  color: #000000;\n",
       "}\n",
       "#T_d96e2_row5_col0 {\n",
       "  background-color: #faf3f9;\n",
       "  color: #000000;\n",
       "}\n",
       "#T_d96e2_row6_col0 {\n",
       "  background-color: #fbf3f9;\n",
       "  color: #000000;\n",
       "}\n",
       "#T_d96e2_row7_col0 {\n",
       "  background-color: #fcf4fa;\n",
       "  color: #000000;\n",
       "}\n",
       "#T_d96e2_row8_col0 {\n",
       "  background-color: #fff7fb;\n",
       "  color: #000000;\n",
       "}\n",
       "</style>\n",
       "<table id=\"T_d96e2_\">\n",
       "  <thead>\n",
       "    <tr>\n",
       "      <th class=\"blank level0\" >&nbsp;</th>\n",
       "      <th class=\"col_heading level0 col0\" >Sub</th>\n",
       "    </tr>\n",
       "  </thead>\n",
       "  <tbody>\n",
       "    <tr>\n",
       "      <th id=\"T_d96e2_level0_row0\" class=\"row_heading level0 row0\" >Brazil</th>\n",
       "      <td id=\"T_d96e2_row0_col0\" class=\"data row0 col0\" >1830</td>\n",
       "    </tr>\n",
       "    <tr>\n",
       "      <th id=\"T_d96e2_level0_row1\" class=\"row_heading level0 row1\" >Argentina</th>\n",
       "      <td id=\"T_d96e2_row1_col0\" class=\"data row1 col0\" >382</td>\n",
       "    </tr>\n",
       "    <tr>\n",
       "      <th id=\"T_d96e2_level0_row2\" class=\"row_heading level0 row2\" >Mexico</th>\n",
       "      <td id=\"T_d96e2_row2_col0\" class=\"data row2 col0\" >362</td>\n",
       "    </tr>\n",
       "    <tr>\n",
       "      <th id=\"T_d96e2_level0_row3\" class=\"row_heading level0 row3\" >Chile</th>\n",
       "      <td id=\"T_d96e2_row3_col0\" class=\"data row3 col0\" >88</td>\n",
       "    </tr>\n",
       "    <tr>\n",
       "      <th id=\"T_d96e2_level0_row4\" class=\"row_heading level0 row4\" >Caribbean</th>\n",
       "      <td id=\"T_d96e2_row4_col0\" class=\"data row4 col0\" >80</td>\n",
       "    </tr>\n",
       "    <tr>\n",
       "      <th id=\"T_d96e2_level0_row5\" class=\"row_heading level0 row5\" >Colombia</th>\n",
       "      <td id=\"T_d96e2_row5_col0\" class=\"data row5 col0\" >67</td>\n",
       "    </tr>\n",
       "    <tr>\n",
       "      <th id=\"T_d96e2_level0_row6\" class=\"row_heading level0 row6\" >Central</th>\n",
       "      <td id=\"T_d96e2_row6_col0\" class=\"data row6 col0\" >60</td>\n",
       "    </tr>\n",
       "    <tr>\n",
       "      <th id=\"T_d96e2_level0_row7\" class=\"row_heading level0 row7\" >South</th>\n",
       "      <td id=\"T_d96e2_row7_col0\" class=\"data row7 col0\" >42</td>\n",
       "    </tr>\n",
       "    <tr>\n",
       "      <th id=\"T_d96e2_level0_row8\" class=\"row_heading level0 row8\" >PanLatam</th>\n",
       "      <td id=\"T_d96e2_row8_col0\" class=\"data row8 col0\" >3</td>\n",
       "    </tr>\n",
       "  </tbody>\n",
       "</table>\n"
      ],
      "text/plain": [
       "<pandas.io.formats.style.Styler at 0x250028f4bb0>"
      ]
     },
     "execution_count": 120,
     "metadata": {},
     "output_type": "execute_result"
    }
   ],
   "source": [
    "# Validate 'Sub' variable behavior\n",
    "sub = cims_f['Sub'].value_counts()\n",
    "sub = pd.DataFrame(sub)\n",
    "sub.style.background_gradient()"
   ]
  },
  {
   "cell_type": "code",
   "execution_count": 121,
   "id": "f567c297",
   "metadata": {},
   "outputs": [
    {
     "data": {
      "text/html": [
       "<style type=\"text/css\">\n",
       "#T_0b064_row0_col0 {\n",
       "  background-color: #023858;\n",
       "  color: #f1f1f1;\n",
       "}\n",
       "#T_0b064_row1_col0 {\n",
       "  background-color: #84b0d3;\n",
       "  color: #f1f1f1;\n",
       "}\n",
       "#T_0b064_row2_col0 {\n",
       "  background-color: #86b0d3;\n",
       "  color: #000000;\n",
       "}\n",
       "#T_0b064_row3_col0 {\n",
       "  background-color: #8eb3d5;\n",
       "  color: #000000;\n",
       "}\n",
       "#T_0b064_row4_col0 {\n",
       "  background-color: #fff7fb;\n",
       "  color: #000000;\n",
       "}\n",
       "</style>\n",
       "<table id=\"T_0b064_\">\n",
       "  <thead>\n",
       "    <tr>\n",
       "      <th class=\"blank level0\" >&nbsp;</th>\n",
       "      <th class=\"col_heading level0 col0\" >Company</th>\n",
       "    </tr>\n",
       "  </thead>\n",
       "  <tbody>\n",
       "    <tr>\n",
       "      <th id=\"T_0b064_level0_row0\" class=\"row_heading level0 row0\" >Apple</th>\n",
       "      <td id=\"T_0b064_row0_col0\" class=\"data row0 col0\" >1519</td>\n",
       "    </tr>\n",
       "    <tr>\n",
       "      <th id=\"T_0b064_level0_row1\" class=\"row_heading level0 row1\" >Microsoft</th>\n",
       "      <td id=\"T_0b064_row1_col0\" class=\"data row1 col0\" >744</td>\n",
       "    </tr>\n",
       "    <tr>\n",
       "      <th id=\"T_0b064_level0_row2\" class=\"row_heading level0 row2\" >Amazon</th>\n",
       "      <td id=\"T_0b064_row2_col0\" class=\"data row2 col0\" >739</td>\n",
       "    </tr>\n",
       "    <tr>\n",
       "      <th id=\"T_0b064_level0_row3\" class=\"row_heading level0 row3\" >Facebook</th>\n",
       "      <td id=\"T_0b064_row3_col0\" class=\"data row3 col0\" >711</td>\n",
       "    </tr>\n",
       "    <tr>\n",
       "      <th id=\"T_0b064_level0_row4\" class=\"row_heading level0 row4\" >Google</th>\n",
       "      <td id=\"T_0b064_row4_col0\" class=\"data row4 col0\" >86</td>\n",
       "    </tr>\n",
       "  </tbody>\n",
       "</table>\n"
      ],
      "text/plain": [
       "<pandas.io.formats.style.Styler at 0x250028f4eb0>"
      ]
     },
     "execution_count": 121,
     "metadata": {},
     "output_type": "execute_result"
    }
   ],
   "source": [
    "# Validate 'Company' variable behavior\n",
    "company = cims_f['Company'].value_counts()\n",
    "company = pd.DataFrame(company)\n",
    "company.style.background_gradient()"
   ]
  },
  {
   "cell_type": "code",
   "execution_count": 122,
   "id": "a70ea973",
   "metadata": {},
   "outputs": [
    {
     "data": {
      "text/html": [
       "<style type=\"text/css\">\n",
       "#T_9835c_row0_col0 {\n",
       "  background-color: #023858;\n",
       "  color: #f1f1f1;\n",
       "}\n",
       "#T_9835c_row1_col0 {\n",
       "  background-color: #0771b1;\n",
       "  color: #f1f1f1;\n",
       "}\n",
       "#T_9835c_row2_col0 {\n",
       "  background-color: #ced0e6;\n",
       "  color: #000000;\n",
       "}\n",
       "#T_9835c_row3_col0 {\n",
       "  background-color: #d5d5e8;\n",
       "  color: #000000;\n",
       "}\n",
       "#T_9835c_row4_col0 {\n",
       "  background-color: #e2dfee;\n",
       "  color: #000000;\n",
       "}\n",
       "#T_9835c_row5_col0, #T_9835c_row6_col0 {\n",
       "  background-color: #eae6f1;\n",
       "  color: #000000;\n",
       "}\n",
       "#T_9835c_row7_col0, #T_9835c_row8_col0, #T_9835c_row9_col0, #T_9835c_row10_col0 {\n",
       "  background-color: #f0eaf4;\n",
       "  color: #000000;\n",
       "}\n",
       "#T_9835c_row11_col0 {\n",
       "  background-color: #f1ebf4;\n",
       "  color: #000000;\n",
       "}\n",
       "#T_9835c_row12_col0, #T_9835c_row13_col0, #T_9835c_row14_col0 {\n",
       "  background-color: #f2ecf5;\n",
       "  color: #000000;\n",
       "}\n",
       "#T_9835c_row15_col0, #T_9835c_row16_col0 {\n",
       "  background-color: #f4edf6;\n",
       "  color: #000000;\n",
       "}\n",
       "#T_9835c_row17_col0, #T_9835c_row18_col0 {\n",
       "  background-color: #f4eef6;\n",
       "  color: #000000;\n",
       "}\n",
       "#T_9835c_row19_col0 {\n",
       "  background-color: #f5eef6;\n",
       "  color: #000000;\n",
       "}\n",
       "#T_9835c_row20_col0 {\n",
       "  background-color: #f5eff6;\n",
       "  color: #000000;\n",
       "}\n",
       "#T_9835c_row21_col0 {\n",
       "  background-color: #f7f0f7;\n",
       "  color: #000000;\n",
       "}\n",
       "#T_9835c_row22_col0, #T_9835c_row23_col0 {\n",
       "  background-color: #f8f1f8;\n",
       "  color: #000000;\n",
       "}\n",
       "#T_9835c_row24_col0, #T_9835c_row25_col0, #T_9835c_row26_col0 {\n",
       "  background-color: #f9f2f8;\n",
       "  color: #000000;\n",
       "}\n",
       "#T_9835c_row27_col0, #T_9835c_row28_col0, #T_9835c_row29_col0 {\n",
       "  background-color: #faf2f8;\n",
       "  color: #000000;\n",
       "}\n",
       "#T_9835c_row30_col0, #T_9835c_row31_col0 {\n",
       "  background-color: #faf3f9;\n",
       "  color: #000000;\n",
       "}\n",
       "#T_9835c_row32_col0, #T_9835c_row33_col0 {\n",
       "  background-color: #fbf3f9;\n",
       "  color: #000000;\n",
       "}\n",
       "#T_9835c_row34_col0, #T_9835c_row35_col0 {\n",
       "  background-color: #fbf4f9;\n",
       "  color: #000000;\n",
       "}\n",
       "#T_9835c_row36_col0, #T_9835c_row37_col0, #T_9835c_row38_col0, #T_9835c_row39_col0, #T_9835c_row40_col0, #T_9835c_row41_col0, #T_9835c_row42_col0 {\n",
       "  background-color: #fdf5fa;\n",
       "  color: #000000;\n",
       "}\n",
       "#T_9835c_row43_col0, #T_9835c_row44_col0 {\n",
       "  background-color: #fef6fa;\n",
       "  color: #000000;\n",
       "}\n",
       "#T_9835c_row45_col0, #T_9835c_row46_col0 {\n",
       "  background-color: #fef6fb;\n",
       "  color: #000000;\n",
       "}\n",
       "#T_9835c_row47_col0, #T_9835c_row48_col0, #T_9835c_row49_col0, #T_9835c_row50_col0, #T_9835c_row51_col0, #T_9835c_row52_col0, #T_9835c_row53_col0 {\n",
       "  background-color: #fff7fb;\n",
       "  color: #000000;\n",
       "}\n",
       "</style>\n",
       "<table id=\"T_9835c_\">\n",
       "  <thead>\n",
       "    <tr>\n",
       "      <th class=\"blank level0\" >&nbsp;</th>\n",
       "      <th class=\"col_heading level0 col0\" >Host</th>\n",
       "    </tr>\n",
       "  </thead>\n",
       "  <tbody>\n",
       "    <tr>\n",
       "      <th id=\"T_9835c_level0_row0\" class=\"row_heading level0 row0\" >UOL</th>\n",
       "      <td id=\"T_9835c_row0_col0\" class=\"data row0 col0\" >616</td>\n",
       "    </tr>\n",
       "    <tr>\n",
       "      <th id=\"T_9835c_level0_row1\" class=\"row_heading level0 row1\" >Canaltech</th>\n",
       "      <td id=\"T_9835c_row1_col0\" class=\"data row1 col0\" >460</td>\n",
       "    </tr>\n",
       "    <tr>\n",
       "      <th id=\"T_9835c_level0_row2\" class=\"row_heading level0 row2\" >G1 Noticias</th>\n",
       "      <td id=\"T_9835c_row2_col0\" class=\"data row2 col0\" >160</td>\n",
       "    </tr>\n",
       "    <tr>\n",
       "      <th id=\"T_9835c_level0_row3\" class=\"row_heading level0 row3\" >Tecnoblog</th>\n",
       "      <td id=\"T_9835c_row3_col0\" class=\"data row3 col0\" >142</td>\n",
       "    </tr>\n",
       "    <tr>\n",
       "      <th id=\"T_9835c_level0_row4\" class=\"row_heading level0 row4\" >Ambito</th>\n",
       "      <td id=\"T_9835c_row4_col0\" class=\"data row4 col0\" >106</td>\n",
       "    </tr>\n",
       "    <tr>\n",
       "      <th id=\"T_9835c_level0_row5\" class=\"row_heading level0 row5\" >Forbes Mexico</th>\n",
       "      <td id=\"T_9835c_row5_col0\" class=\"data row5 col0\" >85</td>\n",
       "    </tr>\n",
       "    <tr>\n",
       "      <th id=\"T_9835c_level0_row6\" class=\"row_heading level0 row6\" >Techtudo</th>\n",
       "      <td id=\"T_9835c_row6_col0\" class=\"data row6 col0\" >84</td>\n",
       "    </tr>\n",
       "    <tr>\n",
       "      <th id=\"T_9835c_level0_row7\" class=\"row_heading level0 row7\" >iProfesional</th>\n",
       "      <td id=\"T_9835c_row7_col0\" class=\"data row7 col0\" >66</td>\n",
       "    </tr>\n",
       "    <tr>\n",
       "      <th id=\"T_9835c_level0_row8\" class=\"row_heading level0 row8\" >Época Negocios</th>\n",
       "      <td id=\"T_9835c_row8_col0\" class=\"data row8 col0\" >66</td>\n",
       "    </tr>\n",
       "    <tr>\n",
       "      <th id=\"T_9835c_level0_row9\" class=\"row_heading level0 row9\" >La Nacion (Argentina)</th>\n",
       "      <td id=\"T_9835c_row9_col0\" class=\"data row9 col0\" >65</td>\n",
       "    </tr>\n",
       "    <tr>\n",
       "      <th id=\"T_9835c_level0_row10\" class=\"row_heading level0 row10\" >El Universal</th>\n",
       "      <td id=\"T_9835c_row10_col0\" class=\"data row10 col0\" >63</td>\n",
       "    </tr>\n",
       "    <tr>\n",
       "      <th id=\"T_9835c_level0_row11\" class=\"row_heading level0 row11\" >IT NOW (Central)</th>\n",
       "      <td id=\"T_9835c_row11_col0\" class=\"data row11 col0\" >60</td>\n",
       "    </tr>\n",
       "    <tr>\n",
       "      <th id=\"T_9835c_level0_row12\" class=\"row_heading level0 row12\" >iProUP</th>\n",
       "      <td id=\"T_9835c_row12_col0\" class=\"data row12 col0\" >56</td>\n",
       "    </tr>\n",
       "    <tr>\n",
       "      <th id=\"T_9835c_level0_row13\" class=\"row_heading level0 row13\" >Gizmodo</th>\n",
       "      <td id=\"T_9835c_row13_col0\" class=\"data row13 col0\" >55</td>\n",
       "    </tr>\n",
       "    <tr>\n",
       "      <th id=\"T_9835c_level0_row14\" class=\"row_heading level0 row14\" >O Globo</th>\n",
       "      <td id=\"T_9835c_row14_col0\" class=\"data row14 col0\" >55</td>\n",
       "    </tr>\n",
       "    <tr>\n",
       "      <th id=\"T_9835c_level0_row15\" class=\"row_heading level0 row15\" >La Tercera</th>\n",
       "      <td id=\"T_9835c_row15_col0\" class=\"data row15 col0\" >48</td>\n",
       "    </tr>\n",
       "    <tr>\n",
       "      <th id=\"T_9835c_level0_row16\" class=\"row_heading level0 row16\" >El Nuevo Dia</th>\n",
       "      <td id=\"T_9835c_row16_col0\" class=\"data row16 col0\" >48</td>\n",
       "    </tr>\n",
       "    <tr>\n",
       "      <th id=\"T_9835c_level0_row17\" class=\"row_heading level0 row17\" >Milenio</th>\n",
       "      <td id=\"T_9835c_row17_col0\" class=\"data row17 col0\" >47</td>\n",
       "    </tr>\n",
       "    <tr>\n",
       "      <th id=\"T_9835c_level0_row18\" class=\"row_heading level0 row18\" >El Financiero</th>\n",
       "      <td id=\"T_9835c_row18_col0\" class=\"data row18 col0\" >46</td>\n",
       "    </tr>\n",
       "    <tr>\n",
       "      <th id=\"T_9835c_level0_row19\" class=\"row_heading level0 row19\" >IsotÉ Dinheiro</th>\n",
       "      <td id=\"T_9835c_row19_col0\" class=\"data row19 col0\" >45</td>\n",
       "    </tr>\n",
       "    <tr>\n",
       "      <th id=\"T_9835c_level0_row20\" class=\"row_heading level0 row20\" >El Comercio Ecuador</th>\n",
       "      <td id=\"T_9835c_row20_col0\" class=\"data row20 col0\" >42</td>\n",
       "    </tr>\n",
       "    <tr>\n",
       "      <th id=\"T_9835c_level0_row21\" class=\"row_heading level0 row21\" >Infobae</th>\n",
       "      <td id=\"T_9835c_row21_col0\" class=\"data row21 col0\" >36</td>\n",
       "    </tr>\n",
       "    <tr>\n",
       "      <th id=\"T_9835c_level0_row22\" class=\"row_heading level0 row22\" >Xataka</th>\n",
       "      <td id=\"T_9835c_row22_col0\" class=\"data row22 col0\" >32</td>\n",
       "    </tr>\n",
       "    <tr>\n",
       "      <th id=\"T_9835c_level0_row23\" class=\"row_heading level0 row23\" >Cronista</th>\n",
       "      <td id=\"T_9835c_row23_col0\" class=\"data row23 col0\" >29</td>\n",
       "    </tr>\n",
       "    <tr>\n",
       "      <th id=\"T_9835c_level0_row24\" class=\"row_heading level0 row24\" >El Vocero</th>\n",
       "      <td id=\"T_9835c_row24_col0\" class=\"data row24 col0\" >28</td>\n",
       "    </tr>\n",
       "    <tr>\n",
       "      <th id=\"T_9835c_level0_row25\" class=\"row_heading level0 row25\" >Infomoney</th>\n",
       "      <td id=\"T_9835c_row25_col0\" class=\"data row25 col0\" >27</td>\n",
       "    </tr>\n",
       "    <tr>\n",
       "      <th id=\"T_9835c_level0_row26\" class=\"row_heading level0 row26\" >El Economista</th>\n",
       "      <td id=\"T_9835c_row26_col0\" class=\"data row26 col0\" >27</td>\n",
       "    </tr>\n",
       "    <tr>\n",
       "      <th id=\"T_9835c_level0_row27\" class=\"row_heading level0 row27\" >IGN Brasil</th>\n",
       "      <td id=\"T_9835c_row27_col0\" class=\"data row27 col0\" >25</td>\n",
       "    </tr>\n",
       "    <tr>\n",
       "      <th id=\"T_9835c_level0_row28\" class=\"row_heading level0 row28\" >Info Technology</th>\n",
       "      <td id=\"T_9835c_row28_col0\" class=\"data row28 col0\" >24</td>\n",
       "    </tr>\n",
       "    <tr>\n",
       "      <th id=\"T_9835c_level0_row29\" class=\"row_heading level0 row29\" >Adrenaline</th>\n",
       "      <td id=\"T_9835c_row29_col0\" class=\"data row29 col0\" >24</td>\n",
       "    </tr>\n",
       "    <tr>\n",
       "      <th id=\"T_9835c_level0_row30\" class=\"row_heading level0 row30\" >Publimetro</th>\n",
       "      <td id=\"T_9835c_row30_col0\" class=\"data row30 col0\" >23</td>\n",
       "    </tr>\n",
       "    <tr>\n",
       "      <th id=\"T_9835c_level0_row31\" class=\"row_heading level0 row31\" >Olhar Digital</th>\n",
       "      <td id=\"T_9835c_row31_col0\" class=\"data row31 col0\" >22</td>\n",
       "    </tr>\n",
       "    <tr>\n",
       "      <th id=\"T_9835c_level0_row32\" class=\"row_heading level0 row32\" >Enter</th>\n",
       "      <td id=\"T_9835c_row32_col0\" class=\"data row32 col0\" >21</td>\n",
       "    </tr>\n",
       "    <tr>\n",
       "      <th id=\"T_9835c_level0_row33\" class=\"row_heading level0 row33\" >La Republica</th>\n",
       "      <td id=\"T_9835c_row33_col0\" class=\"data row33 col0\" >21</td>\n",
       "    </tr>\n",
       "    <tr>\n",
       "      <th id=\"T_9835c_level0_row34\" class=\"row_heading level0 row34\" >Caracol TV</th>\n",
       "      <td id=\"T_9835c_row34_col0\" class=\"data row34 col0\" >18</td>\n",
       "    </tr>\n",
       "    <tr>\n",
       "      <th id=\"T_9835c_level0_row35\" class=\"row_heading level0 row35\" >CIO Mexico</th>\n",
       "      <td id=\"T_9835c_row35_col0\" class=\"data row35 col0\" >18</td>\n",
       "    </tr>\n",
       "    <tr>\n",
       "      <th id=\"T_9835c_level0_row36\" class=\"row_heading level0 row36\" >Gerencia</th>\n",
       "      <td id=\"T_9835c_row36_col0\" class=\"data row36 col0\" >13</td>\n",
       "    </tr>\n",
       "    <tr>\n",
       "      <th id=\"T_9835c_level0_row37\" class=\"row_heading level0 row37\" >Diario Financiero</th>\n",
       "      <td id=\"T_9835c_row37_col0\" class=\"data row37 col0\" >11</td>\n",
       "    </tr>\n",
       "    <tr>\n",
       "      <th id=\"T_9835c_level0_row38\" class=\"row_heading level0 row38\" >CorporateIT</th>\n",
       "      <td id=\"T_9835c_row38_col0\" class=\"data row38 col0\" >11</td>\n",
       "    </tr>\n",
       "    <tr>\n",
       "      <th id=\"T_9835c_level0_row39\" class=\"row_heading level0 row39\" >Excelsior</th>\n",
       "      <td id=\"T_9835c_row39_col0\" class=\"data row39 col0\" >11</td>\n",
       "    </tr>\n",
       "    <tr>\n",
       "      <th id=\"T_9835c_level0_row40\" class=\"row_heading level0 row40\" >El Heraldo de Mexico</th>\n",
       "      <td id=\"T_9835c_row40_col0\" class=\"data row40 col0\" >10</td>\n",
       "    </tr>\n",
       "    <tr>\n",
       "      <th id=\"T_9835c_level0_row41\" class=\"row_heading level0 row41\" >CNN Brazil</th>\n",
       "      <td id=\"T_9835c_row41_col0\" class=\"data row41 col0\" >10</td>\n",
       "    </tr>\n",
       "    <tr>\n",
       "      <th id=\"T_9835c_level0_row42\" class=\"row_heading level0 row42\" >O Estado de S. Paulo</th>\n",
       "      <td id=\"T_9835c_row42_col0\" class=\"data row42 col0\" >10</td>\n",
       "    </tr>\n",
       "    <tr>\n",
       "      <th id=\"T_9835c_level0_row43\" class=\"row_heading level0 row43\" >Jovem Nerd</th>\n",
       "      <td id=\"T_9835c_row43_col0\" class=\"data row43 col0\" >9</td>\n",
       "    </tr>\n",
       "    <tr>\n",
       "      <th id=\"T_9835c_level0_row44\" class=\"row_heading level0 row44\" >ComputerWorld (Brazil)</th>\n",
       "      <td id=\"T_9835c_row44_col0\" class=\"data row44 col0\" >8</td>\n",
       "    </tr>\n",
       "    <tr>\n",
       "      <th id=\"T_9835c_level0_row45\" class=\"row_heading level0 row45\" >PEGN</th>\n",
       "      <td id=\"T_9835c_row45_col0\" class=\"data row45 col0\" >6</td>\n",
       "    </tr>\n",
       "    <tr>\n",
       "      <th id=\"T_9835c_level0_row46\" class=\"row_heading level0 row46\" >Portafolio</th>\n",
       "      <td id=\"T_9835c_row46_col0\" class=\"data row46 col0\" >5</td>\n",
       "    </tr>\n",
       "    <tr>\n",
       "      <th id=\"T_9835c_level0_row47\" class=\"row_heading level0 row47\" >Diário do Nordeste</th>\n",
       "      <td id=\"T_9835c_row47_col0\" class=\"data row47 col0\" >4</td>\n",
       "    </tr>\n",
       "    <tr>\n",
       "      <th id=\"T_9835c_level0_row48\" class=\"row_heading level0 row48\" >Metro</th>\n",
       "      <td id=\"T_9835c_row48_col0\" class=\"data row48 col0\" >4</td>\n",
       "    </tr>\n",
       "    <tr>\n",
       "      <th id=\"T_9835c_level0_row49\" class=\"row_heading level0 row49\" >América Economía</th>\n",
       "      <td id=\"T_9835c_row49_col0\" class=\"data row49 col0\" >3</td>\n",
       "    </tr>\n",
       "    <tr>\n",
       "      <th id=\"T_9835c_level0_row50\" class=\"row_heading level0 row50\" >Emol</th>\n",
       "      <td id=\"T_9835c_row50_col0\" class=\"data row50 col0\" >3</td>\n",
       "    </tr>\n",
       "    <tr>\n",
       "      <th id=\"T_9835c_level0_row51\" class=\"row_heading level0 row51\" >Publimetro (Chile)</th>\n",
       "      <td id=\"T_9835c_row51_col0\" class=\"data row51 col0\" >2</td>\n",
       "    </tr>\n",
       "    <tr>\n",
       "      <th id=\"T_9835c_level0_row52\" class=\"row_heading level0 row52\" >Omelete</th>\n",
       "      <td id=\"T_9835c_row52_col0\" class=\"data row52 col0\" >2</td>\n",
       "    </tr>\n",
       "    <tr>\n",
       "      <th id=\"T_9835c_level0_row53\" class=\"row_heading level0 row53\" >Blu Radio</th>\n",
       "      <td id=\"T_9835c_row53_col0\" class=\"data row53 col0\" >2</td>\n",
       "    </tr>\n",
       "  </tbody>\n",
       "</table>\n"
      ],
      "text/plain": [
       "<pandas.io.formats.style.Styler at 0x250028f42b0>"
      ]
     },
     "execution_count": 122,
     "metadata": {},
     "output_type": "execute_result"
    }
   ],
   "source": [
    "# Validate 'Host' variable behavior\n",
    "host = cims_f['Host'].value_counts()\n",
    "host = pd.DataFrame(host)\n",
    "host.style.background_gradient()"
   ]
  },
  {
   "cell_type": "code",
   "execution_count": 123,
   "id": "bce7a460",
   "metadata": {},
   "outputs": [
    {
     "data": {
      "text/html": [
       "<style type=\"text/css\">\n",
       "#T_ab062_row0_col0 {\n",
       "  background-color: #023858;\n",
       "  color: #f1f1f1;\n",
       "}\n",
       "#T_ab062_row1_col0 {\n",
       "  background-color: #fff7fb;\n",
       "  color: #000000;\n",
       "}\n",
       "</style>\n",
       "<table id=\"T_ab062_\">\n",
       "  <thead>\n",
       "    <tr>\n",
       "      <th class=\"blank level0\" >&nbsp;</th>\n",
       "      <th class=\"col_heading level0 col0\" >FullMonth</th>\n",
       "    </tr>\n",
       "  </thead>\n",
       "  <tbody>\n",
       "    <tr>\n",
       "      <th id=\"T_ab062_level0_row0\" class=\"row_heading level0 row0\" >July</th>\n",
       "      <td id=\"T_ab062_row0_col0\" class=\"data row0 col0\" >3790</td>\n",
       "    </tr>\n",
       "    <tr>\n",
       "      <th id=\"T_ab062_level0_row1\" class=\"row_heading level0 row1\" >August</th>\n",
       "      <td id=\"T_ab062_row1_col0\" class=\"data row1 col0\" >9</td>\n",
       "    </tr>\n",
       "  </tbody>\n",
       "</table>\n"
      ],
      "text/plain": [
       "<pandas.io.formats.style.Styler at 0x250028e0a30>"
      ]
     },
     "execution_count": 123,
     "metadata": {},
     "output_type": "execute_result"
    }
   ],
   "source": [
    "# Validate 'FullMonth' variable behavior\n",
    "f_month = cims_f['FullMonth'].value_counts()\n",
    "f_month = pd.DataFrame(f_month)\n",
    "f_month.style.background_gradient()"
   ]
  },
  {
   "cell_type": "code",
   "execution_count": 124,
   "id": "0cf0b3e2",
   "metadata": {},
   "outputs": [
    {
     "data": {
      "text/html": [
       "<style type=\"text/css\">\n",
       "#T_be39b_row0_col0 {\n",
       "  background-color: #023858;\n",
       "  color: #f1f1f1;\n",
       "}\n",
       "#T_be39b_row1_col0 {\n",
       "  background-color: #f1ebf5;\n",
       "  color: #000000;\n",
       "}\n",
       "#T_be39b_row2_col0 {\n",
       "  background-color: #fff7fb;\n",
       "  color: #000000;\n",
       "}\n",
       "</style>\n",
       "<table id=\"T_be39b_\">\n",
       "  <thead>\n",
       "    <tr>\n",
       "      <th class=\"blank level0\" >&nbsp;</th>\n",
       "      <th class=\"col_heading level0 col0\" >Media Type</th>\n",
       "    </tr>\n",
       "  </thead>\n",
       "  <tbody>\n",
       "    <tr>\n",
       "      <th id=\"T_be39b_level0_row0\" class=\"row_heading level0 row0\" >General News</th>\n",
       "      <td id=\"T_be39b_row0_col0\" class=\"data row0 col0\" >1926</td>\n",
       "    </tr>\n",
       "    <tr>\n",
       "      <th id=\"T_be39b_level0_row1\" class=\"row_heading level0 row1\" >Technology</th>\n",
       "      <td id=\"T_be39b_row1_col0\" class=\"data row1 col0\" >536</td>\n",
       "    </tr>\n",
       "    <tr>\n",
       "      <th id=\"T_be39b_level0_row2\" class=\"row_heading level0 row2\" >Business</th>\n",
       "      <td id=\"T_be39b_row2_col0\" class=\"data row2 col0\" >395</td>\n",
       "    </tr>\n",
       "  </tbody>\n",
       "</table>\n"
      ],
      "text/plain": [
       "<pandas.io.formats.style.Styler at 0x2506990dd00>"
      ]
     },
     "execution_count": 124,
     "metadata": {},
     "output_type": "execute_result"
    }
   ],
   "source": [
    "# Validate 'Media Type' variable behavior\n",
    "media = cims_f['Media Type'].value_counts()\n",
    "media = pd.DataFrame(media)\n",
    "media.style.background_gradient()"
   ]
  },
  {
   "cell_type": "code",
   "execution_count": 125,
   "id": "e887ecfd",
   "metadata": {},
   "outputs": [
    {
     "data": {
      "text/html": [
       "<style type=\"text/css\">\n",
       "#T_f5c51_row0_col0 {\n",
       "  background-color: #023858;\n",
       "  color: #f1f1f1;\n",
       "}\n",
       "#T_f5c51_row1_col0 {\n",
       "  background-color: #dad9ea;\n",
       "  color: #000000;\n",
       "}\n",
       "#T_f5c51_row2_col0 {\n",
       "  background-color: #dddbec;\n",
       "  color: #000000;\n",
       "}\n",
       "#T_f5c51_row3_col0 {\n",
       "  background-color: #f8f1f8;\n",
       "  color: #000000;\n",
       "}\n",
       "#T_f5c51_row4_col0 {\n",
       "  background-color: #faf3f9;\n",
       "  color: #000000;\n",
       "}\n",
       "#T_f5c51_row5_col0, #T_f5c51_row6_col0, #T_f5c51_row7_col0, #T_f5c51_row8_col0 {\n",
       "  background-color: #fef6fb;\n",
       "  color: #000000;\n",
       "}\n",
       "#T_f5c51_row9_col0, #T_f5c51_row10_col0, #T_f5c51_row11_col0, #T_f5c51_row12_col0, #T_f5c51_row13_col0, #T_f5c51_row14_col0, #T_f5c51_row15_col0, #T_f5c51_row16_col0, #T_f5c51_row17_col0, #T_f5c51_row18_col0, #T_f5c51_row19_col0, #T_f5c51_row20_col0 {\n",
       "  background-color: #fff7fb;\n",
       "  color: #000000;\n",
       "}\n",
       "</style>\n",
       "<table id=\"T_f5c51_\">\n",
       "  <thead>\n",
       "    <tr>\n",
       "      <th class=\"blank level0\" >&nbsp;</th>\n",
       "      <th class=\"col_heading level0 col0\" >Country_y</th>\n",
       "    </tr>\n",
       "  </thead>\n",
       "  <tbody>\n",
       "    <tr>\n",
       "      <th id=\"T_f5c51_level0_row0\" class=\"row_heading level0 row0\" >Brazil</th>\n",
       "      <td id=\"T_f5c51_row0_col0\" class=\"data row0 col0\" >1830</td>\n",
       "    </tr>\n",
       "    <tr>\n",
       "      <th id=\"T_f5c51_level0_row1\" class=\"row_heading level0 row1\" >Argentina</th>\n",
       "      <td id=\"T_f5c51_row1_col0\" class=\"data row1 col0\" >382</td>\n",
       "    </tr>\n",
       "    <tr>\n",
       "      <th id=\"T_f5c51_level0_row2\" class=\"row_heading level0 row2\" >Mexico</th>\n",
       "      <td id=\"T_f5c51_row2_col0\" class=\"data row2 col0\" >362</td>\n",
       "    </tr>\n",
       "    <tr>\n",
       "      <th id=\"T_f5c51_level0_row3\" class=\"row_heading level0 row3\" >Chile</th>\n",
       "      <td id=\"T_f5c51_row3_col0\" class=\"data row3 col0\" >88</td>\n",
       "    </tr>\n",
       "    <tr>\n",
       "      <th id=\"T_f5c51_level0_row4\" class=\"row_heading level0 row4\" >Colombia</th>\n",
       "      <td id=\"T_f5c51_row4_col0\" class=\"data row4 col0\" >67</td>\n",
       "    </tr>\n",
       "    <tr>\n",
       "      <th id=\"T_f5c51_level0_row5\" class=\"row_heading level0 row5\" >Puerto Rico</th>\n",
       "      <td id=\"T_f5c51_row5_col0\" class=\"data row5 col0\" >20</td>\n",
       "    </tr>\n",
       "    <tr>\n",
       "      <th id=\"T_f5c51_level0_row6\" class=\"row_heading level0 row6\" >Jamaica</th>\n",
       "      <td id=\"T_f5c51_row6_col0\" class=\"data row6 col0\" >20</td>\n",
       "    </tr>\n",
       "    <tr>\n",
       "      <th id=\"T_f5c51_level0_row7\" class=\"row_heading level0 row7\" >Dominican Republic</th>\n",
       "      <td id=\"T_f5c51_row7_col0\" class=\"data row7 col0\" >20</td>\n",
       "    </tr>\n",
       "    <tr>\n",
       "      <th id=\"T_f5c51_level0_row8\" class=\"row_heading level0 row8\" >Trinidad and Tobago</th>\n",
       "      <td id=\"T_f5c51_row8_col0\" class=\"data row8 col0\" >20</td>\n",
       "    </tr>\n",
       "    <tr>\n",
       "      <th id=\"T_f5c51_level0_row9\" class=\"row_heading level0 row9\" >Costa Rica</th>\n",
       "      <td id=\"T_f5c51_row9_col0\" class=\"data row9 col0\" >10</td>\n",
       "    </tr>\n",
       "    <tr>\n",
       "      <th id=\"T_f5c51_level0_row10\" class=\"row_heading level0 row10\" >Nicaragua</th>\n",
       "      <td id=\"T_f5c51_row10_col0\" class=\"data row10 col0\" >10</td>\n",
       "    </tr>\n",
       "    <tr>\n",
       "      <th id=\"T_f5c51_level0_row11\" class=\"row_heading level0 row11\" >Guatemala</th>\n",
       "      <td id=\"T_f5c51_row11_col0\" class=\"data row11 col0\" >10</td>\n",
       "    </tr>\n",
       "    <tr>\n",
       "      <th id=\"T_f5c51_level0_row12\" class=\"row_heading level0 row12\" >Honduras</th>\n",
       "      <td id=\"T_f5c51_row12_col0\" class=\"data row12 col0\" >10</td>\n",
       "    </tr>\n",
       "    <tr>\n",
       "      <th id=\"T_f5c51_level0_row13\" class=\"row_heading level0 row13\" >Panama</th>\n",
       "      <td id=\"T_f5c51_row13_col0\" class=\"data row13 col0\" >10</td>\n",
       "    </tr>\n",
       "    <tr>\n",
       "      <th id=\"T_f5c51_level0_row14\" class=\"row_heading level0 row14\" >El Salvador</th>\n",
       "      <td id=\"T_f5c51_row14_col0\" class=\"data row14 col0\" >10</td>\n",
       "    </tr>\n",
       "    <tr>\n",
       "      <th id=\"T_f5c51_level0_row15\" class=\"row_heading level0 row15\" >Venezuela</th>\n",
       "      <td id=\"T_f5c51_row15_col0\" class=\"data row15 col0\" >7</td>\n",
       "    </tr>\n",
       "    <tr>\n",
       "      <th id=\"T_f5c51_level0_row16\" class=\"row_heading level0 row16\" >Uruguay</th>\n",
       "      <td id=\"T_f5c51_row16_col0\" class=\"data row16 col0\" >7</td>\n",
       "    </tr>\n",
       "    <tr>\n",
       "      <th id=\"T_f5c51_level0_row17\" class=\"row_heading level0 row17\" >Paraguay</th>\n",
       "      <td id=\"T_f5c51_row17_col0\" class=\"data row17 col0\" >7</td>\n",
       "    </tr>\n",
       "    <tr>\n",
       "      <th id=\"T_f5c51_level0_row18\" class=\"row_heading level0 row18\" >Bolivia</th>\n",
       "      <td id=\"T_f5c51_row18_col0\" class=\"data row18 col0\" >7</td>\n",
       "    </tr>\n",
       "    <tr>\n",
       "      <th id=\"T_f5c51_level0_row19\" class=\"row_heading level0 row19\" >Peru</th>\n",
       "      <td id=\"T_f5c51_row19_col0\" class=\"data row19 col0\" >7</td>\n",
       "    </tr>\n",
       "    <tr>\n",
       "      <th id=\"T_f5c51_level0_row20\" class=\"row_heading level0 row20\" >Ecuador</th>\n",
       "      <td id=\"T_f5c51_row20_col0\" class=\"data row20 col0\" >7</td>\n",
       "    </tr>\n",
       "  </tbody>\n",
       "</table>\n"
      ],
      "text/plain": [
       "<pandas.io.formats.style.Styler at 0x2507fe81550>"
      ]
     },
     "execution_count": 125,
     "metadata": {},
     "output_type": "execute_result"
    }
   ],
   "source": [
    "# Validate 'Country' variable behavior\n",
    "country = cims_f['Country_y'].value_counts()\n",
    "country = pd.DataFrame(country)\n",
    "country.style.background_gradient()"
   ]
  },
  {
   "cell_type": "markdown",
   "id": "99c39315",
   "metadata": {},
   "source": [
    "### RENAME COLUMNS TO MAKE THEM CONSISTENT WITH GN"
   ]
  },
  {
   "cell_type": "code",
   "execution_count": 127,
   "id": "ae5464f9",
   "metadata": {},
   "outputs": [
    {
     "name": "stdout",
     "output_type": "stream",
     "text": [
      "(3799, 35)\n"
     ]
    },
    {
     "data": {
      "text/html": [
       "<div>\n",
       "<style scoped>\n",
       "    .dataframe tbody tr th:only-of-type {\n",
       "        vertical-align: middle;\n",
       "    }\n",
       "\n",
       "    .dataframe tbody tr th {\n",
       "        vertical-align: top;\n",
       "    }\n",
       "\n",
       "    .dataframe thead th {\n",
       "        text-align: right;\n",
       "    }\n",
       "</style>\n",
       "<table border=\"1\" class=\"dataframe\">\n",
       "  <thead>\n",
       "    <tr style=\"text-align: right;\">\n",
       "      <th></th>\n",
       "      <th>ArticleID</th>\n",
       "      <th>Publisheddate</th>\n",
       "      <th>Headline</th>\n",
       "      <th>Url</th>\n",
       "      <th>OutletName</th>\n",
       "      <th>AuthorName</th>\n",
       "      <th>Country_x</th>\n",
       "      <th>Language</th>\n",
       "      <th>Impressions</th>\n",
       "      <th>Shares</th>\n",
       "      <th>Coded</th>\n",
       "      <th>Company</th>\n",
       "      <th>FY</th>\n",
       "      <th>Q</th>\n",
       "      <th>H</th>\n",
       "      <th>FullMonth</th>\n",
       "      <th>dayOfWeek</th>\n",
       "      <th>CalendarYear</th>\n",
       "      <th>CalendarMonth</th>\n",
       "      <th>CIMSUrl</th>\n",
       "      <th>DataSource</th>\n",
       "      <th>Link</th>\n",
       "      <th>Publication</th>\n",
       "      <th>Host</th>\n",
       "      <th>Tier</th>\n",
       "      <th>Media Type</th>\n",
       "      <th>clean_link_site</th>\n",
       "      <th>MediaList</th>\n",
       "      <th>CIMS</th>\n",
       "      <th>Sub</th>\n",
       "      <th>Country_y</th>\n",
       "      <th>Country ISO</th>\n",
       "      <th>Latitude</th>\n",
       "      <th>Longitude</th>\n",
       "      <th>Source</th>\n",
       "    </tr>\n",
       "  </thead>\n",
       "  <tbody>\n",
       "    <tr>\n",
       "      <th>0</th>\n",
       "      <td>81058067ac07f59b42f341f078c8c61818d426a3696745...</td>\n",
       "      <td>2021-07-04 03:54:19</td>\n",
       "      <td>Series de tv - LA NACION</td>\n",
       "      <td>http://www.lanacion.com.ar/espectaculos/series...</td>\n",
       "      <td>lanacion.com.ar</td>\n",
       "      <td>lanacion.com.ar</td>\n",
       "      <td>Argentina</td>\n",
       "      <td>es</td>\n",
       "      <td>1020460</td>\n",
       "      <td>0.0</td>\n",
       "      <td>NaN</td>\n",
       "      <td>Google</td>\n",
       "      <td>2022</td>\n",
       "      <td>Q1</td>\n",
       "      <td>H1</td>\n",
       "      <td>July</td>\n",
       "      <td>Sunday</td>\n",
       "      <td>2021</td>\n",
       "      <td>7</td>\n",
       "      <td>0</td>\n",
       "      <td>CIMS</td>\n",
       "      <td>http://www.lanacion.com.ar/espectaculos/series...</td>\n",
       "      <td>NaN</td>\n",
       "      <td>La Nacion (Argentina)</td>\n",
       "      <td>1.0</td>\n",
       "      <td>General News</td>\n",
       "      <td>lanacion.com.ar</td>\n",
       "      <td>Yes</td>\n",
       "      <td>CIMS</td>\n",
       "      <td>Argentina</td>\n",
       "      <td>Argentina</td>\n",
       "      <td>AR</td>\n",
       "      <td>-38.416097</td>\n",
       "      <td>-63.616672</td>\n",
       "      <td>Online</td>\n",
       "    </tr>\n",
       "    <tr>\n",
       "      <th>1</th>\n",
       "      <td>1ebf421d4d5813cc4699ff0738419af19490cea0116525...</td>\n",
       "      <td>2021-07-09 12:00:00</td>\n",
       "      <td>Eurocopa 2020: suben las apuestas por ver quié...</td>\n",
       "      <td>https://www.forbes.com.mx/forbes-life/deportes...</td>\n",
       "      <td>forbes.com.mx</td>\n",
       "      <td>Forbes Staff</td>\n",
       "      <td>Mexico</td>\n",
       "      <td>es</td>\n",
       "      <td>216233</td>\n",
       "      <td>0.0</td>\n",
       "      <td>NaN</td>\n",
       "      <td>Google</td>\n",
       "      <td>2022</td>\n",
       "      <td>Q1</td>\n",
       "      <td>H1</td>\n",
       "      <td>July</td>\n",
       "      <td>Friday</td>\n",
       "      <td>2021</td>\n",
       "      <td>7</td>\n",
       "      <td>0</td>\n",
       "      <td>CIMS</td>\n",
       "      <td>https://www.forbes.com.mx/forbes-life/deportes...</td>\n",
       "      <td>NaN</td>\n",
       "      <td>Forbes Mexico</td>\n",
       "      <td>1.0</td>\n",
       "      <td>Business</td>\n",
       "      <td>forbes.com.mx</td>\n",
       "      <td>Yes</td>\n",
       "      <td>CIMS</td>\n",
       "      <td>Mexico</td>\n",
       "      <td>Mexico</td>\n",
       "      <td>MX</td>\n",
       "      <td>23.634501</td>\n",
       "      <td>-102.552784</td>\n",
       "      <td>Online</td>\n",
       "    </tr>\n",
       "    <tr>\n",
       "      <th>2</th>\n",
       "      <td>6ab0000bb9423c5310959f68b47d2b1226998544e963ef...</td>\n",
       "      <td>2021-07-05 15:40:00</td>\n",
       "      <td>Nueves apps borradas de la Play Store por troyano</td>\n",
       "      <td>https://www.enter.co/empresas/seguridad/nueves...</td>\n",
       "      <td>enter.co</td>\n",
       "      <td>Diana Arias</td>\n",
       "      <td>Colombia</td>\n",
       "      <td>es</td>\n",
       "      <td>76857</td>\n",
       "      <td>11.0</td>\n",
       "      <td>NaN</td>\n",
       "      <td>Google</td>\n",
       "      <td>2022</td>\n",
       "      <td>Q1</td>\n",
       "      <td>H1</td>\n",
       "      <td>July</td>\n",
       "      <td>Monday</td>\n",
       "      <td>2021</td>\n",
       "      <td>7</td>\n",
       "      <td>0</td>\n",
       "      <td>CIMS</td>\n",
       "      <td>https://www.enter.co/empresas/seguridad/nueves...</td>\n",
       "      <td>NaN</td>\n",
       "      <td>Enter</td>\n",
       "      <td>2.0</td>\n",
       "      <td>Technology</td>\n",
       "      <td>enter.co</td>\n",
       "      <td>Yes</td>\n",
       "      <td>CIMS</td>\n",
       "      <td>Colombia</td>\n",
       "      <td>Colombia</td>\n",
       "      <td>CO</td>\n",
       "      <td>4.570868</td>\n",
       "      <td>-74.297333</td>\n",
       "      <td>Online</td>\n",
       "    </tr>\n",
       "  </tbody>\n",
       "</table>\n",
       "</div>"
      ],
      "text/plain": [
       "                                           ArticleID       Publisheddate  \\\n",
       "0  81058067ac07f59b42f341f078c8c61818d426a3696745... 2021-07-04 03:54:19   \n",
       "1  1ebf421d4d5813cc4699ff0738419af19490cea0116525... 2021-07-09 12:00:00   \n",
       "2  6ab0000bb9423c5310959f68b47d2b1226998544e963ef... 2021-07-05 15:40:00   \n",
       "\n",
       "                                            Headline  \\\n",
       "0                           Series de tv - LA NACION   \n",
       "1  Eurocopa 2020: suben las apuestas por ver quié...   \n",
       "2  Nueves apps borradas de la Play Store por troyano   \n",
       "\n",
       "                                                 Url       OutletName  \\\n",
       "0  http://www.lanacion.com.ar/espectaculos/series...  lanacion.com.ar   \n",
       "1  https://www.forbes.com.mx/forbes-life/deportes...    forbes.com.mx   \n",
       "2  https://www.enter.co/empresas/seguridad/nueves...         enter.co   \n",
       "\n",
       "        AuthorName  Country_x Language  Impressions  Shares  Coded Company  \\\n",
       "0  lanacion.com.ar  Argentina       es      1020460     0.0    NaN  Google   \n",
       "1     Forbes Staff     Mexico       es       216233     0.0    NaN  Google   \n",
       "2      Diana Arias   Colombia       es        76857    11.0    NaN  Google   \n",
       "\n",
       "     FY   Q   H FullMonth dayOfWeek  CalendarYear  CalendarMonth  CIMSUrl  \\\n",
       "0  2022  Q1  H1      July    Sunday          2021              7        0   \n",
       "1  2022  Q1  H1      July    Friday          2021              7        0   \n",
       "2  2022  Q1  H1      July    Monday          2021              7        0   \n",
       "\n",
       "  DataSource                                               Link  Publication  \\\n",
       "0       CIMS  http://www.lanacion.com.ar/espectaculos/series...          NaN   \n",
       "1       CIMS  https://www.forbes.com.mx/forbes-life/deportes...          NaN   \n",
       "2       CIMS  https://www.enter.co/empresas/seguridad/nueves...          NaN   \n",
       "\n",
       "                    Host  Tier    Media Type  clean_link_site MediaList  CIMS  \\\n",
       "0  La Nacion (Argentina)   1.0  General News  lanacion.com.ar       Yes  CIMS   \n",
       "1          Forbes Mexico   1.0      Business    forbes.com.mx       Yes  CIMS   \n",
       "2                  Enter   2.0    Technology         enter.co       Yes  CIMS   \n",
       "\n",
       "         Sub  Country_y Country ISO   Latitude   Longitude  Source  \n",
       "0  Argentina  Argentina          AR -38.416097  -63.616672  Online  \n",
       "1     Mexico     Mexico          MX  23.634501 -102.552784  Online  \n",
       "2   Colombia   Colombia          CO   4.570868  -74.297333  Online  "
      ]
     },
     "execution_count": 127,
     "metadata": {},
     "output_type": "execute_result"
    }
   ],
   "source": [
    "# Preliminar view of 'cims_q4_f' DataFrame\n",
    "print(cims_f.shape)\n",
    "cims_f.head(3)"
   ]
  },
  {
   "cell_type": "code",
   "execution_count": 129,
   "id": "fc3add79",
   "metadata": {},
   "outputs": [
    {
     "name": "stdout",
     "output_type": "stream",
     "text": [
      "(3799, 19)\n"
     ]
    },
    {
     "data": {
      "text/html": [
       "<div>\n",
       "<style scoped>\n",
       "    .dataframe tbody tr th:only-of-type {\n",
       "        vertical-align: middle;\n",
       "    }\n",
       "\n",
       "    .dataframe tbody tr th {\n",
       "        vertical-align: top;\n",
       "    }\n",
       "\n",
       "    .dataframe thead th {\n",
       "        text-align: right;\n",
       "    }\n",
       "</style>\n",
       "<table border=\"1\" class=\"dataframe\">\n",
       "  <thead>\n",
       "    <tr style=\"text-align: right;\">\n",
       "      <th></th>\n",
       "      <th>ArticleID</th>\n",
       "      <th>Publisheddate</th>\n",
       "      <th>Headline</th>\n",
       "      <th>Link</th>\n",
       "      <th>OutletName</th>\n",
       "      <th>AuthorName</th>\n",
       "      <th>Language</th>\n",
       "      <th>DataSource</th>\n",
       "      <th>Host</th>\n",
       "      <th>Tier</th>\n",
       "      <th>Media Type</th>\n",
       "      <th>clean_link_site</th>\n",
       "      <th>MediaList</th>\n",
       "      <th>CIMS</th>\n",
       "      <th>Sub</th>\n",
       "      <th>Country_y</th>\n",
       "      <th>Source</th>\n",
       "      <th>Q</th>\n",
       "      <th>H</th>\n",
       "    </tr>\n",
       "  </thead>\n",
       "  <tbody>\n",
       "    <tr>\n",
       "      <th>0</th>\n",
       "      <td>81058067ac07f59b42f341f078c8c61818d426a3696745...</td>\n",
       "      <td>2021-07-04 03:54:19</td>\n",
       "      <td>Series de tv - LA NACION</td>\n",
       "      <td>http://www.lanacion.com.ar/espectaculos/series...</td>\n",
       "      <td>lanacion.com.ar</td>\n",
       "      <td>lanacion.com.ar</td>\n",
       "      <td>es</td>\n",
       "      <td>CIMS</td>\n",
       "      <td>La Nacion (Argentina)</td>\n",
       "      <td>1.0</td>\n",
       "      <td>General News</td>\n",
       "      <td>lanacion.com.ar</td>\n",
       "      <td>Yes</td>\n",
       "      <td>CIMS</td>\n",
       "      <td>Argentina</td>\n",
       "      <td>Argentina</td>\n",
       "      <td>Online</td>\n",
       "      <td>Q1</td>\n",
       "      <td>H1</td>\n",
       "    </tr>\n",
       "    <tr>\n",
       "      <th>1</th>\n",
       "      <td>1ebf421d4d5813cc4699ff0738419af19490cea0116525...</td>\n",
       "      <td>2021-07-09 12:00:00</td>\n",
       "      <td>Eurocopa 2020: suben las apuestas por ver quié...</td>\n",
       "      <td>https://www.forbes.com.mx/forbes-life/deportes...</td>\n",
       "      <td>forbes.com.mx</td>\n",
       "      <td>Forbes Staff</td>\n",
       "      <td>es</td>\n",
       "      <td>CIMS</td>\n",
       "      <td>Forbes Mexico</td>\n",
       "      <td>1.0</td>\n",
       "      <td>Business</td>\n",
       "      <td>forbes.com.mx</td>\n",
       "      <td>Yes</td>\n",
       "      <td>CIMS</td>\n",
       "      <td>Mexico</td>\n",
       "      <td>Mexico</td>\n",
       "      <td>Online</td>\n",
       "      <td>Q1</td>\n",
       "      <td>H1</td>\n",
       "    </tr>\n",
       "    <tr>\n",
       "      <th>2</th>\n",
       "      <td>6ab0000bb9423c5310959f68b47d2b1226998544e963ef...</td>\n",
       "      <td>2021-07-05 15:40:00</td>\n",
       "      <td>Nueves apps borradas de la Play Store por troyano</td>\n",
       "      <td>https://www.enter.co/empresas/seguridad/nueves...</td>\n",
       "      <td>enter.co</td>\n",
       "      <td>Diana Arias</td>\n",
       "      <td>es</td>\n",
       "      <td>CIMS</td>\n",
       "      <td>Enter</td>\n",
       "      <td>2.0</td>\n",
       "      <td>Technology</td>\n",
       "      <td>enter.co</td>\n",
       "      <td>Yes</td>\n",
       "      <td>CIMS</td>\n",
       "      <td>Colombia</td>\n",
       "      <td>Colombia</td>\n",
       "      <td>Online</td>\n",
       "      <td>Q1</td>\n",
       "      <td>H1</td>\n",
       "    </tr>\n",
       "  </tbody>\n",
       "</table>\n",
       "</div>"
      ],
      "text/plain": [
       "                                           ArticleID       Publisheddate  \\\n",
       "0  81058067ac07f59b42f341f078c8c61818d426a3696745... 2021-07-04 03:54:19   \n",
       "1  1ebf421d4d5813cc4699ff0738419af19490cea0116525... 2021-07-09 12:00:00   \n",
       "2  6ab0000bb9423c5310959f68b47d2b1226998544e963ef... 2021-07-05 15:40:00   \n",
       "\n",
       "                                            Headline  \\\n",
       "0                           Series de tv - LA NACION   \n",
       "1  Eurocopa 2020: suben las apuestas por ver quié...   \n",
       "2  Nueves apps borradas de la Play Store por troyano   \n",
       "\n",
       "                                                Link       OutletName  \\\n",
       "0  http://www.lanacion.com.ar/espectaculos/series...  lanacion.com.ar   \n",
       "1  https://www.forbes.com.mx/forbes-life/deportes...    forbes.com.mx   \n",
       "2  https://www.enter.co/empresas/seguridad/nueves...         enter.co   \n",
       "\n",
       "        AuthorName Language DataSource                   Host  Tier  \\\n",
       "0  lanacion.com.ar       es       CIMS  La Nacion (Argentina)   1.0   \n",
       "1     Forbes Staff       es       CIMS          Forbes Mexico   1.0   \n",
       "2      Diana Arias       es       CIMS                  Enter   2.0   \n",
       "\n",
       "     Media Type  clean_link_site MediaList  CIMS        Sub  Country_y  \\\n",
       "0  General News  lanacion.com.ar       Yes  CIMS  Argentina  Argentina   \n",
       "1      Business    forbes.com.mx       Yes  CIMS     Mexico     Mexico   \n",
       "2    Technology         enter.co       Yes  CIMS   Colombia   Colombia   \n",
       "\n",
       "   Source   Q   H  \n",
       "0  Online  Q1  H1  \n",
       "1  Online  Q1  H1  \n",
       "2  Online  Q1  H1  "
      ]
     },
     "execution_count": 129,
     "metadata": {},
     "output_type": "execute_result"
    }
   ],
   "source": [
    "cims_final = cims_f[['ArticleID','Publisheddate','Headline','Link','OutletName','AuthorName','Language','DataSource','Host',\n",
    "                       'Tier','Media Type','clean_link_site','MediaList','CIMS','Sub','Country_y','Source','Q','H']]\n",
    "print(cims_final.shape)\n",
    "cims_final.head(3)"
   ]
  },
  {
   "cell_type": "code",
   "execution_count": 130,
   "id": "875e6779",
   "metadata": {},
   "outputs": [
    {
     "data": {
      "text/plain": [
       "ArticleID            0\n",
       "Publisheddate        0\n",
       "Headline             0\n",
       "Link                 0\n",
       "OutletName           0\n",
       "AuthorName           1\n",
       "Language             0\n",
       "DataSource           0\n",
       "Host               885\n",
       "Tier               942\n",
       "Media Type         942\n",
       "clean_link_site    885\n",
       "MediaList          885\n",
       "CIMS               942\n",
       "Sub                885\n",
       "Country_y          888\n",
       "Source               0\n",
       "Q                    0\n",
       "H                    0\n",
       "dtype: int64"
      ]
     },
     "execution_count": 130,
     "metadata": {},
     "output_type": "execute_result"
    }
   ],
   "source": [
    "cims_final.isnull().sum()"
   ]
  },
  {
   "cell_type": "code",
   "execution_count": 132,
   "id": "2faa6f4b",
   "metadata": {},
   "outputs": [
    {
     "name": "stdout",
     "output_type": "stream",
     "text": [
      "(3799, 35)\n"
     ]
    },
    {
     "data": {
      "text/html": [
       "<div>\n",
       "<style scoped>\n",
       "    .dataframe tbody tr th:only-of-type {\n",
       "        vertical-align: middle;\n",
       "    }\n",
       "\n",
       "    .dataframe tbody tr th {\n",
       "        vertical-align: top;\n",
       "    }\n",
       "\n",
       "    .dataframe thead th {\n",
       "        text-align: right;\n",
       "    }\n",
       "</style>\n",
       "<table border=\"1\" class=\"dataframe\">\n",
       "  <thead>\n",
       "    <tr style=\"text-align: right;\">\n",
       "      <th></th>\n",
       "      <th>No</th>\n",
       "      <th>Date(ET)</th>\n",
       "      <th>Title</th>\n",
       "      <th>Url</th>\n",
       "      <th>Clean_Host</th>\n",
       "      <th>Author Name</th>\n",
       "      <th>Country_x</th>\n",
       "      <th>Language</th>\n",
       "      <th>Impressions</th>\n",
       "      <th>Shares</th>\n",
       "      <th>Coded</th>\n",
       "      <th>Company</th>\n",
       "      <th>FY</th>\n",
       "      <th>Q</th>\n",
       "      <th>H</th>\n",
       "      <th>FullMonth</th>\n",
       "      <th>dayOfWeek</th>\n",
       "      <th>CalendarYear</th>\n",
       "      <th>CalendarMonth</th>\n",
       "      <th>CIMSUrl</th>\n",
       "      <th>DataSource</th>\n",
       "      <th>Link</th>\n",
       "      <th>Publication</th>\n",
       "      <th>Host</th>\n",
       "      <th>Tier</th>\n",
       "      <th>Media Type</th>\n",
       "      <th>clean_link_site</th>\n",
       "      <th>MediaList</th>\n",
       "      <th>CIMS</th>\n",
       "      <th>Sub</th>\n",
       "      <th>Country</th>\n",
       "      <th>Country ISO</th>\n",
       "      <th>Latitude</th>\n",
       "      <th>Longitude</th>\n",
       "      <th>Source</th>\n",
       "    </tr>\n",
       "  </thead>\n",
       "  <tbody>\n",
       "    <tr>\n",
       "      <th>0</th>\n",
       "      <td>81058067ac07f59b42f341f078c8c61818d426a3696745...</td>\n",
       "      <td>2021-07-04 03:54:19</td>\n",
       "      <td>Series de tv - LA NACION</td>\n",
       "      <td>http://www.lanacion.com.ar/espectaculos/series...</td>\n",
       "      <td>lanacion.com.ar</td>\n",
       "      <td>lanacion.com.ar</td>\n",
       "      <td>Argentina</td>\n",
       "      <td>es</td>\n",
       "      <td>1020460</td>\n",
       "      <td>0.0</td>\n",
       "      <td>NaN</td>\n",
       "      <td>Google</td>\n",
       "      <td>2022</td>\n",
       "      <td>Q1</td>\n",
       "      <td>H1</td>\n",
       "      <td>July</td>\n",
       "      <td>Sunday</td>\n",
       "      <td>2021</td>\n",
       "      <td>7</td>\n",
       "      <td>0</td>\n",
       "      <td>CIMS</td>\n",
       "      <td>http://www.lanacion.com.ar/espectaculos/series...</td>\n",
       "      <td>NaN</td>\n",
       "      <td>La Nacion (Argentina)</td>\n",
       "      <td>1.0</td>\n",
       "      <td>General News</td>\n",
       "      <td>lanacion.com.ar</td>\n",
       "      <td>Yes</td>\n",
       "      <td>CIMS</td>\n",
       "      <td>Argentina</td>\n",
       "      <td>Argentina</td>\n",
       "      <td>AR</td>\n",
       "      <td>-38.416097</td>\n",
       "      <td>-63.616672</td>\n",
       "      <td>Online</td>\n",
       "    </tr>\n",
       "    <tr>\n",
       "      <th>1</th>\n",
       "      <td>1ebf421d4d5813cc4699ff0738419af19490cea0116525...</td>\n",
       "      <td>2021-07-09 12:00:00</td>\n",
       "      <td>Eurocopa 2020: suben las apuestas por ver quié...</td>\n",
       "      <td>https://www.forbes.com.mx/forbes-life/deportes...</td>\n",
       "      <td>forbes.com.mx</td>\n",
       "      <td>Forbes Staff</td>\n",
       "      <td>Mexico</td>\n",
       "      <td>es</td>\n",
       "      <td>216233</td>\n",
       "      <td>0.0</td>\n",
       "      <td>NaN</td>\n",
       "      <td>Google</td>\n",
       "      <td>2022</td>\n",
       "      <td>Q1</td>\n",
       "      <td>H1</td>\n",
       "      <td>July</td>\n",
       "      <td>Friday</td>\n",
       "      <td>2021</td>\n",
       "      <td>7</td>\n",
       "      <td>0</td>\n",
       "      <td>CIMS</td>\n",
       "      <td>https://www.forbes.com.mx/forbes-life/deportes...</td>\n",
       "      <td>NaN</td>\n",
       "      <td>Forbes Mexico</td>\n",
       "      <td>1.0</td>\n",
       "      <td>Business</td>\n",
       "      <td>forbes.com.mx</td>\n",
       "      <td>Yes</td>\n",
       "      <td>CIMS</td>\n",
       "      <td>Mexico</td>\n",
       "      <td>Mexico</td>\n",
       "      <td>MX</td>\n",
       "      <td>23.634501</td>\n",
       "      <td>-102.552784</td>\n",
       "      <td>Online</td>\n",
       "    </tr>\n",
       "    <tr>\n",
       "      <th>2</th>\n",
       "      <td>6ab0000bb9423c5310959f68b47d2b1226998544e963ef...</td>\n",
       "      <td>2021-07-05 15:40:00</td>\n",
       "      <td>Nueves apps borradas de la Play Store por troyano</td>\n",
       "      <td>https://www.enter.co/empresas/seguridad/nueves...</td>\n",
       "      <td>enter.co</td>\n",
       "      <td>Diana Arias</td>\n",
       "      <td>Colombia</td>\n",
       "      <td>es</td>\n",
       "      <td>76857</td>\n",
       "      <td>11.0</td>\n",
       "      <td>NaN</td>\n",
       "      <td>Google</td>\n",
       "      <td>2022</td>\n",
       "      <td>Q1</td>\n",
       "      <td>H1</td>\n",
       "      <td>July</td>\n",
       "      <td>Monday</td>\n",
       "      <td>2021</td>\n",
       "      <td>7</td>\n",
       "      <td>0</td>\n",
       "      <td>CIMS</td>\n",
       "      <td>https://www.enter.co/empresas/seguridad/nueves...</td>\n",
       "      <td>NaN</td>\n",
       "      <td>Enter</td>\n",
       "      <td>2.0</td>\n",
       "      <td>Technology</td>\n",
       "      <td>enter.co</td>\n",
       "      <td>Yes</td>\n",
       "      <td>CIMS</td>\n",
       "      <td>Colombia</td>\n",
       "      <td>Colombia</td>\n",
       "      <td>CO</td>\n",
       "      <td>4.570868</td>\n",
       "      <td>-74.297333</td>\n",
       "      <td>Online</td>\n",
       "    </tr>\n",
       "  </tbody>\n",
       "</table>\n",
       "</div>"
      ],
      "text/plain": [
       "                                                  No            Date(ET)  \\\n",
       "0  81058067ac07f59b42f341f078c8c61818d426a3696745... 2021-07-04 03:54:19   \n",
       "1  1ebf421d4d5813cc4699ff0738419af19490cea0116525... 2021-07-09 12:00:00   \n",
       "2  6ab0000bb9423c5310959f68b47d2b1226998544e963ef... 2021-07-05 15:40:00   \n",
       "\n",
       "                                               Title  \\\n",
       "0                           Series de tv - LA NACION   \n",
       "1  Eurocopa 2020: suben las apuestas por ver quié...   \n",
       "2  Nueves apps borradas de la Play Store por troyano   \n",
       "\n",
       "                                                 Url       Clean_Host  \\\n",
       "0  http://www.lanacion.com.ar/espectaculos/series...  lanacion.com.ar   \n",
       "1  https://www.forbes.com.mx/forbes-life/deportes...    forbes.com.mx   \n",
       "2  https://www.enter.co/empresas/seguridad/nueves...         enter.co   \n",
       "\n",
       "       Author Name  Country_x Language  Impressions  Shares  Coded Company  \\\n",
       "0  lanacion.com.ar  Argentina       es      1020460     0.0    NaN  Google   \n",
       "1     Forbes Staff     Mexico       es       216233     0.0    NaN  Google   \n",
       "2      Diana Arias   Colombia       es        76857    11.0    NaN  Google   \n",
       "\n",
       "     FY   Q   H FullMonth dayOfWeek  CalendarYear  CalendarMonth  CIMSUrl  \\\n",
       "0  2022  Q1  H1      July    Sunday          2021              7        0   \n",
       "1  2022  Q1  H1      July    Friday          2021              7        0   \n",
       "2  2022  Q1  H1      July    Monday          2021              7        0   \n",
       "\n",
       "  DataSource                                               Link  Publication  \\\n",
       "0       CIMS  http://www.lanacion.com.ar/espectaculos/series...          NaN   \n",
       "1       CIMS  https://www.forbes.com.mx/forbes-life/deportes...          NaN   \n",
       "2       CIMS  https://www.enter.co/empresas/seguridad/nueves...          NaN   \n",
       "\n",
       "                    Host  Tier    Media Type  clean_link_site MediaList  CIMS  \\\n",
       "0  La Nacion (Argentina)   1.0  General News  lanacion.com.ar       Yes  CIMS   \n",
       "1          Forbes Mexico   1.0      Business    forbes.com.mx       Yes  CIMS   \n",
       "2                  Enter   2.0    Technology         enter.co       Yes  CIMS   \n",
       "\n",
       "         Sub    Country Country ISO   Latitude   Longitude  Source  \n",
       "0  Argentina  Argentina          AR -38.416097  -63.616672  Online  \n",
       "1     Mexico     Mexico          MX  23.634501 -102.552784  Online  \n",
       "2   Colombia   Colombia          CO   4.570868  -74.297333  Online  "
      ]
     },
     "execution_count": 132,
     "metadata": {},
     "output_type": "execute_result"
    }
   ],
   "source": [
    "# Rename columns\n",
    "cims_f = cims_f.rename(columns={'ArticleID':'No','Publisheddate':'Date(ET)','Headline':'Title','Link':'Link','OutletName':'Clean_Host','AuthorName':'Author Name','Country_y':'Country',\n",
    "                                     'Contents':'Contents','Sub':'Sub','Q':'Q','H':'H','Tier':'Tier','Host':'Host','Media Type':'Media Type','MediaList':'MediaList','CIMS':'CIMS','Language':'Language'})\n",
    "print(cims_f.shape)\n",
    "cims_f.head(3)"
   ]
  },
  {
   "cell_type": "code",
   "execution_count": 136,
   "id": "c1ff60c8",
   "metadata": {},
   "outputs": [
    {
     "name": "stdout",
     "output_type": "stream",
     "text": [
      "(3799, 16)\n"
     ]
    },
    {
     "data": {
      "text/html": [
       "<div>\n",
       "<style scoped>\n",
       "    .dataframe tbody tr th:only-of-type {\n",
       "        vertical-align: middle;\n",
       "    }\n",
       "\n",
       "    .dataframe tbody tr th {\n",
       "        vertical-align: top;\n",
       "    }\n",
       "\n",
       "    .dataframe thead th {\n",
       "        text-align: right;\n",
       "    }\n",
       "</style>\n",
       "<table border=\"1\" class=\"dataframe\">\n",
       "  <thead>\n",
       "    <tr style=\"text-align: right;\">\n",
       "      <th></th>\n",
       "      <th>No</th>\n",
       "      <th>Date(ET)</th>\n",
       "      <th>Title</th>\n",
       "      <th>Link</th>\n",
       "      <th>Clean_Host</th>\n",
       "      <th>Author Name</th>\n",
       "      <th>Country</th>\n",
       "      <th>Sub</th>\n",
       "      <th>Q</th>\n",
       "      <th>H</th>\n",
       "      <th>Tier</th>\n",
       "      <th>Host</th>\n",
       "      <th>Media Type</th>\n",
       "      <th>MediaList</th>\n",
       "      <th>CIMS</th>\n",
       "      <th>Language</th>\n",
       "    </tr>\n",
       "  </thead>\n",
       "  <tbody>\n",
       "    <tr>\n",
       "      <th>0</th>\n",
       "      <td>81058067ac07f59b42f341f078c8c61818d426a3696745...</td>\n",
       "      <td>2021-07-04 03:54:19</td>\n",
       "      <td>Series de tv - LA NACION</td>\n",
       "      <td>http://www.lanacion.com.ar/espectaculos/series...</td>\n",
       "      <td>lanacion.com.ar</td>\n",
       "      <td>lanacion.com.ar</td>\n",
       "      <td>Argentina</td>\n",
       "      <td>Argentina</td>\n",
       "      <td>Q1</td>\n",
       "      <td>H1</td>\n",
       "      <td>1.0</td>\n",
       "      <td>La Nacion (Argentina)</td>\n",
       "      <td>General News</td>\n",
       "      <td>Yes</td>\n",
       "      <td>CIMS</td>\n",
       "      <td>es</td>\n",
       "    </tr>\n",
       "    <tr>\n",
       "      <th>1</th>\n",
       "      <td>1ebf421d4d5813cc4699ff0738419af19490cea0116525...</td>\n",
       "      <td>2021-07-09 12:00:00</td>\n",
       "      <td>Eurocopa 2020: suben las apuestas por ver quié...</td>\n",
       "      <td>https://www.forbes.com.mx/forbes-life/deportes...</td>\n",
       "      <td>forbes.com.mx</td>\n",
       "      <td>Forbes Staff</td>\n",
       "      <td>Mexico</td>\n",
       "      <td>Mexico</td>\n",
       "      <td>Q1</td>\n",
       "      <td>H1</td>\n",
       "      <td>1.0</td>\n",
       "      <td>Forbes Mexico</td>\n",
       "      <td>Business</td>\n",
       "      <td>Yes</td>\n",
       "      <td>CIMS</td>\n",
       "      <td>es</td>\n",
       "    </tr>\n",
       "    <tr>\n",
       "      <th>2</th>\n",
       "      <td>6ab0000bb9423c5310959f68b47d2b1226998544e963ef...</td>\n",
       "      <td>2021-07-05 15:40:00</td>\n",
       "      <td>Nueves apps borradas de la Play Store por troyano</td>\n",
       "      <td>https://www.enter.co/empresas/seguridad/nueves...</td>\n",
       "      <td>enter.co</td>\n",
       "      <td>Diana Arias</td>\n",
       "      <td>Colombia</td>\n",
       "      <td>Colombia</td>\n",
       "      <td>Q1</td>\n",
       "      <td>H1</td>\n",
       "      <td>2.0</td>\n",
       "      <td>Enter</td>\n",
       "      <td>Technology</td>\n",
       "      <td>Yes</td>\n",
       "      <td>CIMS</td>\n",
       "      <td>es</td>\n",
       "    </tr>\n",
       "  </tbody>\n",
       "</table>\n",
       "</div>"
      ],
      "text/plain": [
       "                                                  No            Date(ET)  \\\n",
       "0  81058067ac07f59b42f341f078c8c61818d426a3696745... 2021-07-04 03:54:19   \n",
       "1  1ebf421d4d5813cc4699ff0738419af19490cea0116525... 2021-07-09 12:00:00   \n",
       "2  6ab0000bb9423c5310959f68b47d2b1226998544e963ef... 2021-07-05 15:40:00   \n",
       "\n",
       "                                               Title  \\\n",
       "0                           Series de tv - LA NACION   \n",
       "1  Eurocopa 2020: suben las apuestas por ver quié...   \n",
       "2  Nueves apps borradas de la Play Store por troyano   \n",
       "\n",
       "                                                Link       Clean_Host  \\\n",
       "0  http://www.lanacion.com.ar/espectaculos/series...  lanacion.com.ar   \n",
       "1  https://www.forbes.com.mx/forbes-life/deportes...    forbes.com.mx   \n",
       "2  https://www.enter.co/empresas/seguridad/nueves...         enter.co   \n",
       "\n",
       "       Author Name    Country        Sub   Q   H  Tier                   Host  \\\n",
       "0  lanacion.com.ar  Argentina  Argentina  Q1  H1   1.0  La Nacion (Argentina)   \n",
       "1     Forbes Staff     Mexico     Mexico  Q1  H1   1.0          Forbes Mexico   \n",
       "2      Diana Arias   Colombia   Colombia  Q1  H1   2.0                  Enter   \n",
       "\n",
       "     Media Type MediaList  CIMS Language  \n",
       "0  General News       Yes  CIMS       es  \n",
       "1      Business       Yes  CIMS       es  \n",
       "2    Technology       Yes  CIMS       es  "
      ]
     },
     "execution_count": 136,
     "metadata": {},
     "output_type": "execute_result"
    }
   ],
   "source": [
    "cims_last = cims_f[['No','Date(ET)','Title','Link','Clean_Host','Author Name','Country',\n",
    "                    'Sub','Q','H','Tier','Host','Media Type','MediaList','CIMS','Language']]\n",
    "print(cims_last.shape)\n",
    "cims_last.head(3)"
   ]
  },
  {
   "cell_type": "code",
   "execution_count": 137,
   "id": "ac9ce146",
   "metadata": {},
   "outputs": [
    {
     "data": {
      "text/plain": [
       "No               0\n",
       "Date(ET)         0\n",
       "Title            0\n",
       "Link             0\n",
       "Clean_Host       0\n",
       "Author Name      1\n",
       "Country        888\n",
       "Sub            885\n",
       "Q                0\n",
       "H                0\n",
       "Tier           942\n",
       "Host           885\n",
       "Media Type     942\n",
       "MediaList      885\n",
       "CIMS           942\n",
       "Language         0\n",
       "dtype: int64"
      ]
     },
     "execution_count": 137,
     "metadata": {},
     "output_type": "execute_result"
    }
   ],
   "source": [
    "cims_last.isnull().sum()"
   ]
  },
  {
   "cell_type": "markdown",
   "id": "bdd33245",
   "metadata": {},
   "source": [
    "## SAVE FILE IN EXCEL FORMAT"
   ]
  },
  {
   "cell_type": "code",
   "execution_count": 138,
   "id": "c5f99fc7",
   "metadata": {},
   "outputs": [],
   "source": [
    "# Save final file in Excel format\n",
    "cims_last.to_excel('CIMS_01JUl-31JUL-Q1-FY22.xlsx')"
   ]
  },
  {
   "cell_type": "code",
   "execution_count": null,
   "id": "224cd24a",
   "metadata": {},
   "outputs": [],
   "source": []
  }
 ],
 "metadata": {
  "kernelspec": {
   "display_name": "Python 3",
   "language": "python",
   "name": "python3"
  },
  "language_info": {
   "codemirror_mode": {
    "name": "ipython",
    "version": 3
   },
   "file_extension": ".py",
   "mimetype": "text/x-python",
   "name": "python",
   "nbconvert_exporter": "python",
   "pygments_lexer": "ipython3",
   "version": "3.8.11"
  },
  "latex_envs": {
   "LaTeX_envs_menu_present": true,
   "autoclose": false,
   "autocomplete": true,
   "bibliofile": "biblio.bib",
   "cite_by": "apalike",
   "current_citInitial": 1,
   "eqLabelWithNumbers": true,
   "eqNumInitial": 1,
   "hotkeys": {
    "equation": "Ctrl-E",
    "itemize": "Ctrl-I"
   },
   "labels_anchors": false,
   "latex_user_defs": false,
   "report_style_numbering": false,
   "user_envs_cfg": false
  },
  "nbTranslate": {
   "displayLangs": [
    "*"
   ],
   "hotkey": "alt-t",
   "langInMainMenu": true,
   "sourceLang": "en",
   "targetLang": "fr",
   "useGoogleTranslate": true
  },
  "toc": {
   "base_numbering": 1,
   "nav_menu": {},
   "number_sections": true,
   "sideBar": true,
   "skip_h1_title": false,
   "title_cell": "Table of Contents",
   "title_sidebar": "Contents",
   "toc_cell": false,
   "toc_position": {},
   "toc_section_display": true,
   "toc_window_display": true
  },
  "varInspector": {
   "cols": {
    "lenName": 16,
    "lenType": 16,
    "lenVar": 40
   },
   "kernels_config": {
    "python": {
     "delete_cmd_postfix": "",
     "delete_cmd_prefix": "del ",
     "library": "var_list.py",
     "varRefreshCmd": "print(var_dic_list())"
    },
    "r": {
     "delete_cmd_postfix": ") ",
     "delete_cmd_prefix": "rm(",
     "library": "var_list.r",
     "varRefreshCmd": "cat(var_dic_list()) "
    }
   },
   "types_to_exclude": [
    "module",
    "function",
    "builtin_function_or_method",
    "instance",
    "_Feature"
   ],
   "window_display": false
  }
 },
 "nbformat": 4,
 "nbformat_minor": 5
}
