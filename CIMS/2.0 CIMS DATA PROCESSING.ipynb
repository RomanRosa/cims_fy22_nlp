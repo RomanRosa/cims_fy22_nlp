{
 "cells": [
  {
   "cell_type": "markdown",
   "id": "a3fd6a3c",
   "metadata": {},
   "source": [
    "<h1 style=\"color:orange\"> PARTE I </h1>"
   ]
  },
  {
   "cell_type": "markdown",
   "id": "3426b598",
   "metadata": {},
   "source": [
    "## EXTRACCIÓN E INTEGRACIÓN"
   ]
  },
  {
   "cell_type": "markdown",
   "id": "a6e5f042",
   "metadata": {},
   "source": [
    "### FUNCIONES"
   ]
  },
  {
   "cell_type": "code",
   "execution_count": 1,
   "id": "c331d168",
   "metadata": {
    "ExecuteTime": {
     "end_time": "2021-07-02T16:10:24.986081Z",
     "start_time": "2021-07-02T16:10:24.976066Z"
    }
   },
   "outputs": [],
   "source": [
    "# Función utilizada para extraer el link original de la nota\n",
    "def link (url, verify = False):\n",
    "    try:\n",
    "        for l in zip(cims_fy21_1['Url']):\n",
    "            print(requests.get(url, verify = False).url)\n",
    "            return requests.get(url, verify = False).url\n",
    "    except:\n",
    "            pass"
   ]
  },
  {
   "cell_type": "markdown",
   "id": "cd8696ef",
   "metadata": {},
   "source": [
    "### LEER ARCHIVOS A UTILIZAR"
   ]
  },
  {
   "cell_type": "code",
   "execution_count": null,
   "id": "db5fca9b",
   "metadata": {},
   "outputs": [],
   "source": [
    "# Read Keywords File - FY21 main themes & topics\n",
    "\n",
    "keywords= pd.read_excel('/home/roman/Desktop/Porter Novelli MX /Projects/MICROSOFT FY21/Q4  FY21 RAW DATA/FY21_Main Themes_Keywords_r1_updated_may31.xlsx')\n",
    "keywords.head(5)"
   ]
  },
  {
   "cell_type": "code",
   "execution_count": null,
   "id": "c357349a",
   "metadata": {},
   "outputs": [],
   "source": [
    "# Read FY21 MediaList File - Master\n",
    "\n",
    "medialist=pd.read_excel('/home/roman/Desktop/Porter Novelli MX /Projects/MICROSOFT FY21/Q4  FY21 RAW DATA/FY21 Media List_Ajustada_CIMS_updated_may31_master2.xlsx')\n",
    "\n",
    "medialist.fillna('No Data')\n",
    "\n",
    "medialist['MediaList']='Yes'\n",
    "\n",
    "medialist['clean_link_site']=medialist['Link/Site'].apply(lambda row : str(row).replace('http://','').replace('https://','').replace('/',''))\n",
    "\n",
    "medialist=medialist[['Publication','Host','Tier', 'Media Type','clean_link_site', 'MediaList','CIMS']]\n",
    "medialist.head(10)"
   ]
  },
  {
   "cell_type": "code",
   "execution_count": null,
   "id": "02c83cfe",
   "metadata": {},
   "outputs": [],
   "source": [
    "# Read FY21 MediaList File - Auxiliar FY21 MediaList\n",
    "\n",
    "auxiliar=pd.read_excel('/home/roman/Desktop/Porter Novelli MX /Projects/MICROSOFT FY21/Q4  FY21 RAW DATA/MediaList_FY21_Auxiliar.xlsx')\n",
    "\n",
    "auxiliar.fillna('No Data')\n",
    "\n",
    "auxiliar['MediaList']='Yes'\n",
    "\n",
    "auxiliar['clean_link_site']=auxiliar['Link/Site'].apply(lambda row : str(row).replace('http://','').replace('https://','').replace('/',''))\n",
    "\n",
    "auxiliar=auxiliar[['Publication','Host','Tier', 'Media Type','clean_link_site', 'MediaList','CIMS']]\n",
    "auxiliar.head(10)"
   ]
  },
  {
   "cell_type": "code",
   "execution_count": null,
   "id": "11d73307",
   "metadata": {},
   "outputs": [],
   "source": [
    "# Read FY21 MediaList File - Auxiliar FY21 CIMS Media Platform\n",
    "\n",
    "auxiliarCims=pd.read_excel('/home/roman/Desktop/Porter Novelli MX /Projects/MICROSOFT FY21/Q4  FY21 RAW DATA/Auxiliar_MediaListFY21_CIMS.xlsx')\n",
    "\n",
    "auxiliarCims.fillna('No Data')\n",
    "\n",
    "auxiliarCims['MediaList']='Yes'\n",
    "\n",
    "auxiliarCims['clean_link_site']=auxiliarCims['Link/Site'].apply(lambda row : str(row).replace('http://','').replace('https://','').replace('/',''))\n",
    "\n",
    "auxiliarCims=auxiliarCims[['Publication','Host','Tier', 'Media Type','clean_link_site', 'MediaList','CIMS','Sub']]\n",
    "print(auxiliarCims.shape)\n",
    "auxiliarCims.head(10)"
   ]
  },
  {
   "cell_type": "code",
   "execution_count": null,
   "id": "c7e6cb2a",
   "metadata": {},
   "outputs": [],
   "source": [
    "# Read Longitude & Latitude catalog\n",
    "\n",
    "geolocation = pd.read_excel('/home/roman/Desktop/Porter Novelli MX /Projects/MICROSOFT FY21/Q4  FY21 RAW DATA/Latitude & Longitude LATAM.xlsx')\n",
    "print(geolocation.shape)\n",
    "geolocation.head(5)"
   ]
  },
  {
   "cell_type": "markdown",
   "id": "88b24bc8",
   "metadata": {},
   "source": [
    "### IMPORTAR LIBRERIAS"
   ]
  },
  {
   "cell_type": "code",
   "execution_count": 2,
   "id": "9855a110",
   "metadata": {
    "ExecuteTime": {
     "end_time": "2021-07-02T16:11:37.317607Z",
     "start_time": "2021-07-02T16:11:35.925274Z"
    }
   },
   "outputs": [
    {
     "name": "stderr",
     "output_type": "stream",
     "text": [
      "[nltk_data] Downloading package stopwords to /home/roman/nltk_data...\n",
      "[nltk_data]   Package stopwords is already up-to-date!\n"
     ]
    },
    {
     "data": {
      "text/plain": [
       "True"
      ]
     },
     "execution_count": 2,
     "metadata": {},
     "output_type": "execute_result"
    }
   ],
   "source": [
    "import pandas as pd\n",
    "import numpy as np\n",
    "import requests\n",
    "import glob\n",
    "import os\n",
    "import re\n",
    "import json\n",
    "BOLD = '\\033[1m'\n",
    "END = '\\033[0m'\n",
    "\n",
    "from bs4 import BeautifulSoup\n",
    "import string\n",
    "from nltk.tokenize import RegexpTokenizer\n",
    "from nltk import bigrams\n",
    "from nltk.util import ngrams\n",
    "import collections\n",
    "import urllib.request\n",
    "from nltk.corpus import stopwords\n",
    "import nltk\n",
    "nltk.download('stopwords')\n",
    "from IPython.display import display\n",
    "pd.options.display.max_columns = None"
   ]
  },
  {
   "cell_type": "markdown",
   "id": "3ce44c6f",
   "metadata": {},
   "source": [
    "### DEFINIR RUTA A LOS ARCHIVOS '.CSV'"
   ]
  },
  {
   "cell_type": "code",
   "execution_count": null,
   "id": "3b2de2d6",
   "metadata": {},
   "outputs": [],
   "source": [
    "path_microsoft_fy21= '/home/roman/Desktop/Porter Novelli MX /Projects/MICROSOFT FY21/Q4  FY21 RAW DATA/CIMS/Q4/10 JUNIO - 28 JUNIO_RAW/MICROSOFT Q4 FY21 10JUN-28JUN.csv'\n",
    "path_google_fy21= '/home/roman/Desktop/Porter Novelli MX /Projects/MICROSOFT FY21/Q4  FY21 RAW DATA/CIMS/Q4/10 JUNIO - 28 JUNIO_RAW/GOOGLE Q4 FY21 10JUN-28JUN.csv'\n",
    "path_facebook_fy21= '/home/roman/Desktop/Porter Novelli MX /Projects/MICROSOFT FY21/Q4  FY21 RAW DATA/CIMS/Q4/10 JUNIO - 28 JUNIO_RAW/FACEBOOK Q4 FY21 10JUN-28JUN.csv'\n",
    "path_apple_fy21= '/home/roman/Desktop/Porter Novelli MX /Projects/MICROSOFT FY21/Q4  FY21 RAW DATA/CIMS/Q4/10 JUNIO - 28 JUNIO_RAW/APPLE Q4 FY21 10JUN-28JUN.csv'\n",
    "path_amazon_fy21= '/home/roman/Desktop/Porter Novelli MX /Projects/MICROSOFT FY21/Q4  FY21 RAW DATA/CIMS/Q4/10 JUNIO - 28 JUNIO_RAW/AMAZON Q4 FY21 10JUN-28JUN.csv'"
   ]
  },
  {
   "cell_type": "markdown",
   "id": "01d81af0",
   "metadata": {},
   "source": [
    "### LECTURA DE '.CSV' FILES"
   ]
  },
  {
   "cell_type": "code",
   "execution_count": null,
   "id": "c73b60d5",
   "metadata": {},
   "outputs": [],
   "source": [
    "microsoft_fy21 = pd.read_csv(path_microsoft_fy21, delimiter= ',')\n",
    "google_fy21 = pd.read_csv(path_google_fy21, delimiter= ',')\n",
    "facebook_fy21 = pd.read_csv(path_facebook_fy21, delimiter= ',')\n",
    "apple_fy21 = pd.read_csv(path_apple_fy21, delimiter= ',')\n",
    "amazon_fy21 = pd.read_csv(path_amazon_fy21, delimiter= ',')"
   ]
  },
  {
   "cell_type": "markdown",
   "id": "5a8f9de0",
   "metadata": {},
   "source": [
    "### MANIPULACIÓN DE DATOS"
   ]
  },
  {
   "cell_type": "code",
   "execution_count": null,
   "id": "a2b4c45d",
   "metadata": {},
   "outputs": [],
   "source": [
    "# Visualizar primeros 3 registros de microsoft data\n",
    "print(microsoft_fy21.shape)\n",
    "microsoft_fy21.head(3)"
   ]
  },
  {
   "cell_type": "code",
   "execution_count": null,
   "id": "7b1caf03",
   "metadata": {},
   "outputs": [],
   "source": [
    "print(microsoft_fy21.shape)\n",
    "print(google_fy21.shape)\n",
    "print(facebook_fy21.shape)\n",
    "print(apple_fy21.shape)\n",
    "print(amazon_fy21.shape)"
   ]
  },
  {
   "cell_type": "code",
   "execution_count": null,
   "id": "a4c691ff",
   "metadata": {},
   "outputs": [],
   "source": [
    "for c in microsoft_fy21.columns:\n",
    "    print(c)"
   ]
  },
  {
   "cell_type": "code",
   "execution_count": null,
   "id": "39415df4",
   "metadata": {},
   "outputs": [],
   "source": [
    "for c in google_fy21.columns:\n",
    "    print(c)"
   ]
  },
  {
   "cell_type": "code",
   "execution_count": null,
   "id": "aec8d3c5",
   "metadata": {},
   "outputs": [],
   "source": [
    "microsoft_fy21['Company']= 'Microsoft'\n",
    "google_fy21['Company']= 'Google'\n",
    "facebook_fy21['Company']= 'Facebook'\n",
    "apple_fy21['Company']= 'Apple'\n",
    "amazon_fy21['Company']= 'Amazon'"
   ]
  },
  {
   "cell_type": "code",
   "execution_count": null,
   "id": "9d72c506",
   "metadata": {},
   "outputs": [],
   "source": [
    "competitors_fy21 = pd.concat([google_fy21,facebook_fy21,amazon_fy21,apple_fy21], sort= False)\n",
    "print(competitors_fy21.shape)\n",
    "competitors_fy21.head(3)"
   ]
  },
  {
   "cell_type": "code",
   "execution_count": null,
   "id": "06b862e0",
   "metadata": {},
   "outputs": [],
   "source": [
    "competitors_fy21.shape"
   ]
  },
  {
   "cell_type": "code",
   "execution_count": null,
   "id": "7772e678",
   "metadata": {},
   "outputs": [],
   "source": [
    "cims_fy21 = pd.concat([competitors_fy21,microsoft_fy21], sort= False)\n",
    "cims_fy21.head(3)"
   ]
  },
  {
   "cell_type": "code",
   "execution_count": null,
   "id": "52189758",
   "metadata": {},
   "outputs": [],
   "source": [
    "cims_fy21.shape"
   ]
  },
  {
   "cell_type": "code",
   "execution_count": null,
   "id": "299ade59",
   "metadata": {},
   "outputs": [],
   "source": [
    "cims_fy21['Company'].value_counts()"
   ]
  },
  {
   "cell_type": "code",
   "execution_count": null,
   "id": "446b1078",
   "metadata": {},
   "outputs": [],
   "source": [
    "cims_fy21['Outlet Name'].value_counts()"
   ]
  },
  {
   "cell_type": "code",
   "execution_count": null,
   "id": "a15e065f",
   "metadata": {},
   "outputs": [],
   "source": [
    "cims_fy21['Country'].value_counts()"
   ]
  },
  {
   "cell_type": "code",
   "execution_count": null,
   "id": "63fcc65d",
   "metadata": {},
   "outputs": [],
   "source": [
    "cims_fy21['Language'].value_counts()"
   ]
  },
  {
   "cell_type": "code",
   "execution_count": null,
   "id": "b7e237db",
   "metadata": {},
   "outputs": [],
   "source": [
    "cims_fy21['FY']= '2021'"
   ]
  },
  {
   "cell_type": "code",
   "execution_count": null,
   "id": "8973273c",
   "metadata": {},
   "outputs": [],
   "source": [
    "cims_fy21['Q']= 'Q4'"
   ]
  },
  {
   "cell_type": "code",
   "execution_count": null,
   "id": "108a8495",
   "metadata": {},
   "outputs": [],
   "source": [
    "cims_fy21['H']= 'H2'"
   ]
  },
  {
   "cell_type": "code",
   "execution_count": null,
   "id": "49a7d985",
   "metadata": {},
   "outputs": [],
   "source": [
    "cims_fy21['Published date'] = pd.to_datetime(cims_fy21['Published date'], errors='coerce')"
   ]
  },
  {
   "cell_type": "code",
   "execution_count": null,
   "id": "309468ad",
   "metadata": {},
   "outputs": [],
   "source": [
    "cims_fy21['Full Month'] = cims_fy21['Published date'].dt.strftime('%B')"
   ]
  },
  {
   "cell_type": "code",
   "execution_count": null,
   "id": "493d3475",
   "metadata": {},
   "outputs": [],
   "source": [
    "cims_fy21.head(3)"
   ]
  },
  {
   "cell_type": "code",
   "execution_count": null,
   "id": "2ece4d7f",
   "metadata": {},
   "outputs": [],
   "source": [
    "cims_fy21['dayOfWeek'] = cims_fy21['Published date'].dt.day_name()\n",
    "cims_fy21.head(3)"
   ]
  },
  {
   "cell_type": "code",
   "execution_count": null,
   "id": "1b300fb9",
   "metadata": {},
   "outputs": [],
   "source": [
    "cims_fy21['Calendar Year'] = pd.DatetimeIndex(cims_fy21['Published date']).year\n",
    "cims_fy21.head(3)"
   ]
  },
  {
   "cell_type": "code",
   "execution_count": null,
   "id": "e604cadc",
   "metadata": {},
   "outputs": [],
   "source": [
    "cims_fy21['Calendar Month'] = pd.DatetimeIndex(cims_fy21['Published date']).month\n",
    "cims_fy21.head(3)"
   ]
  },
  {
   "cell_type": "code",
   "execution_count": null,
   "id": "58b27591",
   "metadata": {},
   "outputs": [],
   "source": [
    "cims_fy21.shape"
   ]
  },
  {
   "cell_type": "markdown",
   "id": "46fa441c",
   "metadata": {},
   "source": [
    "### Highlight 'ct.moreover' Urls"
   ]
  },
  {
   "cell_type": "code",
   "execution_count": null,
   "id": "abee66c6",
   "metadata": {},
   "outputs": [],
   "source": [
    "cims_fy21['CIMS Url'] = cims_fy21['Url'].str.contains('ct.moreover', case=False, na=False).astype(int)\n",
    "cims_fy21.head(3)"
   ]
  },
  {
   "cell_type": "code",
   "execution_count": null,
   "id": "939321be",
   "metadata": {},
   "outputs": [],
   "source": [
    "cims_fy21['Data Source']= 'CIMS'\n",
    "cims_fy21.head(10)"
   ]
  },
  {
   "cell_type": "code",
   "execution_count": null,
   "id": "1dfd3033",
   "metadata": {},
   "outputs": [],
   "source": [
    "cims_fy21['CIMS Url'].value_counts()"
   ]
  },
  {
   "cell_type": "code",
   "execution_count": null,
   "id": "9a23e35d",
   "metadata": {},
   "outputs": [],
   "source": [
    "cims_fy21.columns = cims_fy21.columns.str.replace(' ', '')\n",
    "cims_fy21.head(3)"
   ]
  },
  {
   "cell_type": "code",
   "execution_count": null,
   "id": "d28a54ae",
   "metadata": {},
   "outputs": [],
   "source": [
    "for c in cims_fy21.columns:\n",
    "    print (c)"
   ]
  },
  {
   "cell_type": "code",
   "execution_count": null,
   "id": "6e8aeda3",
   "metadata": {},
   "outputs": [],
   "source": [
    "# Subset CIMS Url == 0\n",
    "cims_fy21_0 = cims_fy21[cims_fy21['CIMSUrl'] == 0]\n",
    "print(cims_fy21_0.shape)\n",
    "cims_fy21_0.head(3)"
   ]
  },
  {
   "cell_type": "code",
   "execution_count": null,
   "id": "9cd736b7",
   "metadata": {},
   "outputs": [],
   "source": [
    "# Subset CIMS Url == 1\n",
    "cims_fy21_1 = cims_fy21[cims_fy21['CIMSUrl'] == 1]\n",
    "print(cims_fy21_1.shape)\n",
    "cims_fy21_1.head(3)"
   ]
  },
  {
   "cell_type": "code",
   "execution_count": null,
   "id": "d4935acd",
   "metadata": {},
   "outputs": [],
   "source": [
    "# Copy 'Url' Column To 'Link' Column For 'cims_fy21_0' DataFrame\n",
    "cims_fy21_0['Link'] = cims_fy21_0['Url']\n",
    "print(cims_fy21_0.shape)\n",
    "cims_fy21_0.head(3)"
   ]
  },
  {
   "cell_type": "code",
   "execution_count": null,
   "id": "cb54c4c5",
   "metadata": {},
   "outputs": [],
   "source": [
    "cims_fy21_1['Link'] = cims_fy21_1['Url'].apply(lambda row: link(row))\n",
    "cims_fy21_1.head(3)"
   ]
  },
  {
   "cell_type": "code",
   "execution_count": null,
   "id": "20900cbc",
   "metadata": {},
   "outputs": [],
   "source": [
    "print(cims_fy21_1.shape)\n",
    "print(cims_fy21_0.shape)"
   ]
  },
  {
   "cell_type": "code",
   "execution_count": null,
   "id": "5a610e91",
   "metadata": {},
   "outputs": [],
   "source": [
    "cims_fy21_1.head(5)"
   ]
  },
  {
   "cell_type": "code",
   "execution_count": null,
   "id": "857290e5",
   "metadata": {},
   "outputs": [],
   "source": [
    "cims_fy21_0.head(5)"
   ]
  },
  {
   "cell_type": "code",
   "execution_count": null,
   "id": "662d988f",
   "metadata": {},
   "outputs": [],
   "source": [
    "cims_fy21_full_link= pd.concat([cims_fy21_0,cims_fy21_1])\n",
    "print(cims_fy21_full_link.shape)\n",
    "cims_fy21_full_link.head(5)"
   ]
  },
  {
   "cell_type": "markdown",
   "id": "4cffc530",
   "metadata": {},
   "source": [
    "### ELIMINAR DUPLICADOS POR 'LINK'"
   ]
  },
  {
   "cell_type": "code",
   "execution_count": null,
   "id": "cdf8cae3",
   "metadata": {},
   "outputs": [],
   "source": [
    "cims_clean = cims_fy21_full_link[cims_fy21_full_link.duplicated(subset = ['Link'])]\n",
    "print(cims_clean.shape)\n",
    "cims_clean.head(5)"
   ]
  },
  {
   "cell_type": "markdown",
   "id": "c16586b6",
   "metadata": {},
   "source": [
    "### MERGE \"CIMS_Q4\" DF AND \"AUXILIARCIMS\" TO GET: TIER, MEDIALIST, ETC"
   ]
  },
  {
   "cell_type": "code",
   "execution_count": null,
   "id": "778ee60b",
   "metadata": {},
   "outputs": [],
   "source": [
    "# Preliminar view of 'auxiliarCims' dataset\n",
    "print(auxiliarCims.shape)\n",
    "auxiliarCims.head(5)"
   ]
  },
  {
   "cell_type": "code",
   "execution_count": null,
   "id": "1f45fe9a",
   "metadata": {},
   "outputs": [],
   "source": [
    "# Merge both dataframes described above: cims_q4 and auxiliarCims\n",
    "cims_f = cims_clean.merge(auxiliarCims,right_on = 'clean_link_site',left_on = 'OutletName', how = 'left')\n",
    "print(cims_f.shape)\n",
    "cims_f.head(5)"
   ]
  },
  {
   "cell_type": "code",
   "execution_count": null,
   "id": "d5259fb1",
   "metadata": {},
   "outputs": [],
   "source": [
    "# Preview geolocation dataframe\n",
    "geolocation.head(3)"
   ]
  },
  {
   "cell_type": "code",
   "execution_count": null,
   "id": "97bee896",
   "metadata": {},
   "outputs": [],
   "source": [
    "# Merge both dataframes described above: cims_q4_f and geolocation\n",
    "cims_f = cims_f.merge(geolocation,right_on = 'Sub',left_on = 'Sub', how = 'left')\n",
    "print(cims_f.shape)\n",
    "cims_f.head(5)"
   ]
  },
  {
   "cell_type": "code",
   "execution_count": null,
   "id": "567ec581",
   "metadata": {},
   "outputs": [],
   "source": [
    "# Add \"Source\" column to identify all CIMS articles are \"Online\" type\n",
    "cims_f['Source'] = 'Online'\n",
    "print(cims_f.shape)\n",
    "cims_f.head(5)"
   ]
  },
  {
   "cell_type": "code",
   "execution_count": null,
   "id": "352e6164",
   "metadata": {},
   "outputs": [],
   "source": [
    "# Convert 'Latitude' & 'Longitude' to float type\n",
    "cims_q4_f['Longitude'] = cims_q4_f['Longitude'].astype(float)\n",
    "cims_q4_f['Latitude'] = cims_q4_f['Latitude'].astype(float)\n",
    "\n",
    "# Round both variables to 2 decimals digits\n",
    "cims_q4_f['Latitude'] = cims_q4_f['Latitude'].map(lambda x:round(x,2))\n",
    "cims_q4_f['Longitude'] = cims_q4_f['Longitude'].map(lambda x:round(x,2))"
   ]
  },
  {
   "cell_type": "code",
   "execution_count": null,
   "id": "bc3fc462",
   "metadata": {},
   "outputs": [],
   "source": [
    "# Import Kepler to visualize the volume of articles by Sub (preliminar visualization)\n",
    "from keplergl import KeplerGl\n",
    "map_1 = KeplerGl()"
   ]
  },
  {
   "cell_type": "code",
   "execution_count": null,
   "id": "accf4c8c",
   "metadata": {},
   "outputs": [],
   "source": [
    "# Extract required columns to build the \"map\"\n",
    "cims_map = cims_q4_f[['Sub','Host','FullMonth','Media Type','Tier','Longitude','Company','Latitude']]\n",
    "print(cims_map.shape)\n",
    "cims_map.head(5)"
   ]
  },
  {
   "cell_type": "code",
   "execution_count": null,
   "id": "c026b818",
   "metadata": {},
   "outputs": [],
   "source": [
    "map_1.add_data(data = cims_map, name='data_1')"
   ]
  },
  {
   "cell_type": "code",
   "execution_count": null,
   "id": "9b974b0a",
   "metadata": {},
   "outputs": [],
   "source": [
    "cims_map.shape"
   ]
  },
  {
   "cell_type": "code",
   "execution_count": null,
   "id": "c75e9a7e",
   "metadata": {},
   "outputs": [],
   "source": [
    "map_1.save_to_html()"
   ]
  },
  {
   "cell_type": "code",
   "execution_count": null,
   "id": "ce3f2b3c",
   "metadata": {},
   "outputs": [],
   "source": [
    "# Validate 'OutletName' variable behavior\n",
    "outlet = cims_q4_f['OutletName'].value_counts()\n",
    "outlet = pd.DataFrame(outlet)\n",
    "outlet.style.background_gradient()"
   ]
  },
  {
   "cell_type": "code",
   "execution_count": null,
   "id": "4552a6c6",
   "metadata": {},
   "outputs": [],
   "source": [
    "# Validate 'MediaList' variable behavior *** => Must be checked, \"No\" values are missing.\n",
    "media = cims_q4_f['MediaList'].value_counts()\n",
    "media = pd.DataFrame(media)\n",
    "media.style.background_gradient()"
   ]
  },
  {
   "cell_type": "code",
   "execution_count": null,
   "id": "8db34542",
   "metadata": {},
   "outputs": [],
   "source": [
    "# Validate 'Tier' variable behavior\n",
    "tier = cims_q4_f['Tier'].value_counts()\n",
    "tier = pd.DataFrame(tier)\n",
    "tier.style.background_gradient()"
   ]
  },
  {
   "cell_type": "code",
   "execution_count": null,
   "id": "37dfeca4",
   "metadata": {},
   "outputs": [],
   "source": [
    "# Validate 'Sub' variable behavior\n",
    "sub = cims_q4_f['Sub'].value_counts()\n",
    "sub = pd.DataFrame(sub)\n",
    "sub.style.background_gradient()"
   ]
  },
  {
   "cell_type": "code",
   "execution_count": null,
   "id": "f567c297",
   "metadata": {},
   "outputs": [],
   "source": [
    "# Validate 'Company' variable behavior\n",
    "company = cims_q4_f['Company'].value_counts()\n",
    "company = pd.DataFrame(company)\n",
    "company.style.background_gradient()"
   ]
  },
  {
   "cell_type": "code",
   "execution_count": null,
   "id": "a70ea973",
   "metadata": {},
   "outputs": [],
   "source": [
    "# Validate 'Host' variable behavior\n",
    "host = cims_q4_f['Host'].value_counts()\n",
    "host = pd.DataFrame(host)\n",
    "host.style.background_gradient()"
   ]
  },
  {
   "cell_type": "code",
   "execution_count": null,
   "id": "bce7a460",
   "metadata": {},
   "outputs": [],
   "source": [
    "# Validate 'FullMonth' variable behavior\n",
    "f_month = cims_q4_f['FullMonth'].value_counts()\n",
    "f_month = pd.DataFrame(f_month)\n",
    "f_month.style.background_gradient()"
   ]
  },
  {
   "cell_type": "code",
   "execution_count": null,
   "id": "0cf0b3e2",
   "metadata": {},
   "outputs": [],
   "source": [
    "# Validate 'Media Type' variable behavior\n",
    "media = cims_q4_f['Media Type'].value_counts()\n",
    "media = pd.DataFrame(media)\n",
    "media.style.background_gradient()"
   ]
  },
  {
   "cell_type": "code",
   "execution_count": null,
   "id": "e887ecfd",
   "metadata": {},
   "outputs": [],
   "source": [
    "# Validate 'Country' variable behavior\n",
    "country = cims_q4_f['Country_y'].value_counts()\n",
    "country = pd.DataFrame(country)\n",
    "country.style.background_gradient()"
   ]
  },
  {
   "cell_type": "markdown",
   "id": "99c39315",
   "metadata": {},
   "source": [
    "### RENAME COLUMNS TO MAKE THEM CONSISTENT WITH GN"
   ]
  },
  {
   "cell_type": "code",
   "execution_count": null,
   "id": "ae5464f9",
   "metadata": {},
   "outputs": [],
   "source": [
    "# Preliminar view of 'cims_q4_f' DataFrame\n",
    "print(cims_q4_f.shape)\n",
    "cims_q4_f.head(3)"
   ]
  },
  {
   "cell_type": "code",
   "execution_count": null,
   "id": "fc3add79",
   "metadata": {},
   "outputs": [],
   "source": [
    "cims_final = cims_q4_f[['ArticleID','Publisheddate','Headline','Link','OutletName','AuthorName','Language','DataSource','Contents','Host',\n",
    "                       'Tier','Media Type','clean_link_site','MediaList','CIMS','Sub','Country_y','Source','Q','H']]\n",
    "print(cims_final.shape)\n",
    "cims_final.head(3)"
   ]
  },
  {
   "cell_type": "code",
   "execution_count": null,
   "id": "875e6779",
   "metadata": {},
   "outputs": [],
   "source": [
    "cims_final.isnull().sum()"
   ]
  },
  {
   "cell_type": "code",
   "execution_count": null,
   "id": "2faa6f4b",
   "metadata": {},
   "outputs": [],
   "source": [
    "# Rename columns\n",
    "cims_q4_f = cims_q4_f.rename(columns={'ArticleID':'No','Publisheddate':'Date(ET)','Headline':'Title','Link':'Link','OutletName':'Clean_Host','AuthorName':'Author Name','Country_y':'Country',\n",
    "                                     'Contents':'Contents','Sub':'Sub','Q':'Q','H':'H','Tier':'Tier','Host':'Host','Media Type':'Media Type','MediaList':'MediaList','CIMS':'CIMS','Language':'Language'})\n",
    "print(cims_q4_f.shape)\n",
    "cims_q4_f.head(3)"
   ]
  },
  {
   "cell_type": "code",
   "execution_count": null,
   "id": "c1ff60c8",
   "metadata": {},
   "outputs": [],
   "source": [
    "cims_q4_last = cims_q4_clean[['No','Date(ET)','Title','Link','Clean_Host','Author Name','Country',\n",
    "                                     'Contents','Sub','Q','H','Tier','Host','Media Type','MediaList','CIMS','Language']]\n",
    "print(cims_q4_last.shape)\n",
    "cims_q4_last.head(3)"
   ]
  },
  {
   "cell_type": "code",
   "execution_count": null,
   "id": "ac9ce146",
   "metadata": {},
   "outputs": [],
   "source": [
    "cims_q4_last.isnull().sum()"
   ]
  },
  {
   "cell_type": "markdown",
   "id": "bdd33245",
   "metadata": {},
   "source": [
    "## SAVE FILE IN EXCEL FORMAT"
   ]
  },
  {
   "cell_type": "code",
   "execution_count": null,
   "id": "c5f99fc7",
   "metadata": {},
   "outputs": [],
   "source": [
    "# Save final file in Excel format\n",
    "cims_fy21_full_link.to_excel('CIMS_10JUN-28JUN-Q3-FY21.xlsx')"
   ]
  },
  {
   "cell_type": "code",
   "execution_count": null,
   "id": "224cd24a",
   "metadata": {},
   "outputs": [],
   "source": []
  }
 ],
 "metadata": {
  "kernelspec": {
   "display_name": "Python 3 (ipykernel)",
   "language": "python",
   "name": "python3"
  },
  "language_info": {
   "codemirror_mode": {
    "name": "ipython",
    "version": 3
   },
   "file_extension": ".py",
   "mimetype": "text/x-python",
   "name": "python",
   "nbconvert_exporter": "python",
   "pygments_lexer": "ipython3",
   "version": "3.8.11"
  },
  "latex_envs": {
   "LaTeX_envs_menu_present": true,
   "autoclose": false,
   "autocomplete": true,
   "bibliofile": "biblio.bib",
   "cite_by": "apalike",
   "current_citInitial": 1,
   "eqLabelWithNumbers": true,
   "eqNumInitial": 1,
   "hotkeys": {
    "equation": "Ctrl-E",
    "itemize": "Ctrl-I"
   },
   "labels_anchors": false,
   "latex_user_defs": false,
   "report_style_numbering": false,
   "user_envs_cfg": false
  },
  "nbTranslate": {
   "displayLangs": [
    "*"
   ],
   "hotkey": "alt-t",
   "langInMainMenu": true,
   "sourceLang": "en",
   "targetLang": "fr",
   "useGoogleTranslate": true
  },
  "toc": {
   "base_numbering": 1,
   "nav_menu": {},
   "number_sections": true,
   "sideBar": true,
   "skip_h1_title": false,
   "title_cell": "Table of Contents",
   "title_sidebar": "Contents",
   "toc_cell": false,
   "toc_position": {},
   "toc_section_display": true,
   "toc_window_display": true
  },
  "varInspector": {
   "cols": {
    "lenName": 16,
    "lenType": 16,
    "lenVar": 40
   },
   "kernels_config": {
    "python": {
     "delete_cmd_postfix": "",
     "delete_cmd_prefix": "del ",
     "library": "var_list.py",
     "varRefreshCmd": "print(var_dic_list())"
    },
    "r": {
     "delete_cmd_postfix": ") ",
     "delete_cmd_prefix": "rm(",
     "library": "var_list.r",
     "varRefreshCmd": "cat(var_dic_list()) "
    }
   },
   "types_to_exclude": [
    "module",
    "function",
    "builtin_function_or_method",
    "instance",
    "_Feature"
   ],
   "window_display": false
  }
 },
 "nbformat": 4,
 "nbformat_minor": 5
}
